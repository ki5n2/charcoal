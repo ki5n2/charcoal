{
 "cells": [
  {
   "cell_type": "markdown",
   "id": "ed76e328-2c22-44ce-87b7-55696b90a68f",
   "metadata": {},
   "source": [
    "# DS 2. Tensorflow 기본 문법(2), tf.GradientTape()\n",
    "\n",
    "> \"작성완료\"\n",
    "\n",
    "- toc:true\n",
    "- branch: master\n",
    "- badges: true\n",
    "- comments: true\n",
    "- [python, Data Science]"
   ]
  },
  {
   "cell_type": "markdown",
   "id": "4f2000dc-bb09-45dd-adfb-5d29359e7071",
   "metadata": {},
   "source": [
    "---\n",
    "# Data Science\n",
    "- lenture: Data Science_3-2nd week of lectures.\n",
    "- lenture date: 2022-03-21\n",
    "- lecturer: Guebin choi\n",
    "- study date: 2022-03-22\n",
    "- author: Kione kim\n",
    "---"
   ]
  },
  {
   "cell_type": "code",
   "execution_count": 1,
   "id": "362afcc3-5e28-4ab4-ad3f-ab3652f2dfc7",
   "metadata": {
    "tags": []
   },
   "outputs": [],
   "source": [
    "import tensorflow as tf\n",
    "import numpy as np"
   ]
  },
  {
   "cell_type": "markdown",
   "id": "cfb5d5fc-0184-4c12-b793-a3df9442b74e",
   "metadata": {
    "tags": []
   },
   "source": [
    "### tnp"
   ]
  },
  {
   "cell_type": "markdown",
   "id": "1ad8c385-2d82-4f9d-b743-234789dd8870",
   "metadata": {},
   "source": [
    "#### tnp 사용배경"
   ]
  },
  {
   "cell_type": "markdown",
   "id": "ae5b49fa-5f9c-4b7a-b243-992641fc6735",
   "metadata": {},
   "source": [
    "`-` tf.constant는 쓰기 너무 어려움! 넘파이가 지원하는 편리한 기능을 사용할 수 없음\n",
    "\n",
    "어려운 점 1: .reshape() 메소드 불가능/ tf.reshape()만 가능\n",
    "\n",
    "어려운 점 2: .transpose(), .T 불가능/ tf.transpose()만 가능\n",
    "\n",
    "어려운 점 3: 암묵적 형변환 불가능\n",
    "\n",
    "어려운 점 4: (2,2) @ (2,) 연산 불가능\n",
    "\n",
    "등등"
   ]
  },
  {
   "cell_type": "markdown",
   "id": "7fe2b144-4c00-4222-8b65-c15e7fef5252",
   "metadata": {},
   "source": [
    "`-` 예시1: .reshape()"
   ]
  },
  {
   "cell_type": "code",
   "execution_count": 2,
   "id": "cf735bd6-8129-476c-8f8b-5192ed13f7d1",
   "metadata": {},
   "outputs": [
    {
     "data": {
      "text/plain": [
       "array([[1, 2],\n",
       "       [3, 4]])"
      ]
     },
     "execution_count": 2,
     "metadata": {},
     "output_type": "execute_result"
    }
   ],
   "source": [
    "a=np.array([1,2,3,4]).reshape(2,2)\n",
    "a"
   ]
  },
  {
   "cell_type": "code",
   "execution_count": 3,
   "id": "5f9bad2c-ea9c-4226-9517-2d18eba3b517",
   "metadata": {},
   "outputs": [
    {
     "ename": "AttributeError",
     "evalue": "\n        'EagerTensor' object has no attribute 'reshape'.\n        If you are looking for numpy-related methods, please run the following:\n        from tensorflow.python.ops.numpy_ops import np_config\n        np_config.enable_numpy_behavior()",
     "output_type": "error",
     "traceback": [
      "\u001b[1;31m---------------------------------------------------------------------------\u001b[0m",
      "\u001b[1;31mAttributeError\u001b[0m                            Traceback (most recent call last)",
      "Input \u001b[1;32mIn [3]\u001b[0m, in \u001b[0;36m<cell line: 1>\u001b[1;34m()\u001b[0m\n\u001b[1;32m----> 1\u001b[0m a\u001b[38;5;241m=\u001b[39m\u001b[43mtf\u001b[49m\u001b[38;5;241;43m.\u001b[39;49m\u001b[43mconstant\u001b[49m\u001b[43m(\u001b[49m\u001b[43m[\u001b[49m\u001b[38;5;241;43m1\u001b[39;49m\u001b[43m,\u001b[49m\u001b[38;5;241;43m2\u001b[39;49m\u001b[43m,\u001b[49m\u001b[38;5;241;43m3\u001b[39;49m\u001b[43m,\u001b[49m\u001b[38;5;241;43m4\u001b[39;49m\u001b[43m]\u001b[49m\u001b[43m)\u001b[49m\u001b[38;5;241;43m.\u001b[39;49m\u001b[43mreshape\u001b[49m(\u001b[38;5;241m2\u001b[39m,\u001b[38;5;241m2\u001b[39m)\n",
      "File \u001b[1;32m~\\anaconda3\\envs\\ds2022\\lib\\site-packages\\tensorflow\\python\\framework\\ops.py:508\u001b[0m, in \u001b[0;36mTensor.__getattr__\u001b[1;34m(self, name)\u001b[0m\n\u001b[0;32m    504\u001b[0m \u001b[38;5;28;01mdef\u001b[39;00m \u001b[38;5;21m__getattr__\u001b[39m(\u001b[38;5;28mself\u001b[39m, name):\n\u001b[0;32m    505\u001b[0m   \u001b[38;5;28;01mif\u001b[39;00m name \u001b[38;5;129;01min\u001b[39;00m {\u001b[38;5;124m\"\u001b[39m\u001b[38;5;124mT\u001b[39m\u001b[38;5;124m\"\u001b[39m, \u001b[38;5;124m\"\u001b[39m\u001b[38;5;124mastype\u001b[39m\u001b[38;5;124m\"\u001b[39m, \u001b[38;5;124m\"\u001b[39m\u001b[38;5;124mravel\u001b[39m\u001b[38;5;124m\"\u001b[39m, \u001b[38;5;124m\"\u001b[39m\u001b[38;5;124mtranspose\u001b[39m\u001b[38;5;124m\"\u001b[39m, \u001b[38;5;124m\"\u001b[39m\u001b[38;5;124mreshape\u001b[39m\u001b[38;5;124m\"\u001b[39m, \u001b[38;5;124m\"\u001b[39m\u001b[38;5;124mclip\u001b[39m\u001b[38;5;124m\"\u001b[39m, \u001b[38;5;124m\"\u001b[39m\u001b[38;5;124msize\u001b[39m\u001b[38;5;124m\"\u001b[39m,\n\u001b[0;32m    506\u001b[0m               \u001b[38;5;124m\"\u001b[39m\u001b[38;5;124mtolist\u001b[39m\u001b[38;5;124m\"\u001b[39m, \u001b[38;5;124m\"\u001b[39m\u001b[38;5;124mdata\u001b[39m\u001b[38;5;124m\"\u001b[39m}:\n\u001b[0;32m    507\u001b[0m     \u001b[38;5;66;03m# TODO(wangpeng): Export the enable_numpy_behavior knob\u001b[39;00m\n\u001b[1;32m--> 508\u001b[0m     \u001b[38;5;28;01mraise\u001b[39;00m \u001b[38;5;167;01mAttributeError\u001b[39;00m(\u001b[38;5;124m\"\"\"\u001b[39m\n\u001b[0;32m    509\u001b[0m \u001b[38;5;124m      \u001b[39m\u001b[38;5;124m'\u001b[39m\u001b[38;5;132;01m{}\u001b[39;00m\u001b[38;5;124m'\u001b[39m\u001b[38;5;124m object has no attribute \u001b[39m\u001b[38;5;124m'\u001b[39m\u001b[38;5;132;01m{}\u001b[39;00m\u001b[38;5;124m'\u001b[39m\u001b[38;5;124m.\u001b[39m\n\u001b[0;32m    510\u001b[0m \u001b[38;5;124m      If you are looking for numpy-related methods, please run the following:\u001b[39m\n\u001b[0;32m    511\u001b[0m \u001b[38;5;124m      from tensorflow.python.ops.numpy_ops import np_config\u001b[39m\n\u001b[0;32m    512\u001b[0m \u001b[38;5;124m      np_config.enable_numpy_behavior()\u001b[39m\u001b[38;5;124m\"\"\"\u001b[39m\u001b[38;5;241m.\u001b[39mformat(\u001b[38;5;28mtype\u001b[39m(\u001b[38;5;28mself\u001b[39m)\u001b[38;5;241m.\u001b[39m\u001b[38;5;18m__name__\u001b[39m, name))\n\u001b[0;32m    513\u001b[0m   \u001b[38;5;28mself\u001b[39m\u001b[38;5;241m.\u001b[39m\u001b[38;5;21m__getattribute__\u001b[39m(name)\n",
      "\u001b[1;31mAttributeError\u001b[0m: \n        'EagerTensor' object has no attribute 'reshape'.\n        If you are looking for numpy-related methods, please run the following:\n        from tensorflow.python.ops.numpy_ops import np_config\n        np_config.enable_numpy_behavior()"
     ]
    }
   ],
   "source": [
    "a=tf.constant([1,2,3,4]).reshape(2,2)"
   ]
  },
  {
   "cell_type": "code",
   "execution_count": null,
   "id": "7fc1a4d2-bd0d-43b4-8148-e921bfeb9cc1",
   "metadata": {},
   "outputs": [],
   "source": [
    "tf.reshape(tf.constant([1,2,3,4]),(2,2)) # 이렇게 써야함"
   ]
  },
  {
   "cell_type": "markdown",
   "id": "fd1b61ac-402d-4942-91f0-74b8dba10431",
   "metadata": {},
   "source": [
    "`-` 예시2: .transpose()"
   ]
  },
  {
   "cell_type": "code",
   "execution_count": 4,
   "id": "c0f38e6b-23af-492a-a0f1-a33317b96c91",
   "metadata": {},
   "outputs": [
    {
     "data": {
      "text/plain": [
       "array([[1, 3],\n",
       "       [2, 4]])"
      ]
     },
     "execution_count": 4,
     "metadata": {},
     "output_type": "execute_result"
    }
   ],
   "source": [
    "np.array([1,2,3,4]).transpose().reshape(2,2).T"
   ]
  },
  {
   "cell_type": "code",
   "execution_count": 5,
   "id": "23fd3ede-7c7a-41b1-84f3-8e864424083c",
   "metadata": {},
   "outputs": [
    {
     "ename": "AttributeError",
     "evalue": "\n        'EagerTensor' object has no attribute 'transpose'.\n        If you are looking for numpy-related methods, please run the following:\n        from tensorflow.python.ops.numpy_ops import np_config\n        np_config.enable_numpy_behavior()",
     "output_type": "error",
     "traceback": [
      "\u001b[1;31m---------------------------------------------------------------------------\u001b[0m",
      "\u001b[1;31mAttributeError\u001b[0m                            Traceback (most recent call last)",
      "Input \u001b[1;32mIn [5]\u001b[0m, in \u001b[0;36m<cell line: 1>\u001b[1;34m()\u001b[0m\n\u001b[1;32m----> 1\u001b[0m \u001b[43mtf\u001b[49m\u001b[38;5;241;43m.\u001b[39;49m\u001b[43mconstant\u001b[49m\u001b[43m(\u001b[49m\u001b[43m[\u001b[49m\u001b[38;5;241;43m1\u001b[39;49m\u001b[43m,\u001b[49m\u001b[38;5;241;43m2\u001b[39;49m\u001b[43m,\u001b[49m\u001b[38;5;241;43m3\u001b[39;49m\u001b[43m,\u001b[49m\u001b[38;5;241;43m4\u001b[39;49m\u001b[43m]\u001b[49m\u001b[43m)\u001b[49m\u001b[38;5;241;43m.\u001b[39;49m\u001b[43mtranspose\u001b[49m()\n",
      "File \u001b[1;32m~\\anaconda3\\envs\\ds2022\\lib\\site-packages\\tensorflow\\python\\framework\\ops.py:508\u001b[0m, in \u001b[0;36mTensor.__getattr__\u001b[1;34m(self, name)\u001b[0m\n\u001b[0;32m    504\u001b[0m \u001b[38;5;28;01mdef\u001b[39;00m \u001b[38;5;21m__getattr__\u001b[39m(\u001b[38;5;28mself\u001b[39m, name):\n\u001b[0;32m    505\u001b[0m   \u001b[38;5;28;01mif\u001b[39;00m name \u001b[38;5;129;01min\u001b[39;00m {\u001b[38;5;124m\"\u001b[39m\u001b[38;5;124mT\u001b[39m\u001b[38;5;124m\"\u001b[39m, \u001b[38;5;124m\"\u001b[39m\u001b[38;5;124mastype\u001b[39m\u001b[38;5;124m\"\u001b[39m, \u001b[38;5;124m\"\u001b[39m\u001b[38;5;124mravel\u001b[39m\u001b[38;5;124m\"\u001b[39m, \u001b[38;5;124m\"\u001b[39m\u001b[38;5;124mtranspose\u001b[39m\u001b[38;5;124m\"\u001b[39m, \u001b[38;5;124m\"\u001b[39m\u001b[38;5;124mreshape\u001b[39m\u001b[38;5;124m\"\u001b[39m, \u001b[38;5;124m\"\u001b[39m\u001b[38;5;124mclip\u001b[39m\u001b[38;5;124m\"\u001b[39m, \u001b[38;5;124m\"\u001b[39m\u001b[38;5;124msize\u001b[39m\u001b[38;5;124m\"\u001b[39m,\n\u001b[0;32m    506\u001b[0m               \u001b[38;5;124m\"\u001b[39m\u001b[38;5;124mtolist\u001b[39m\u001b[38;5;124m\"\u001b[39m, \u001b[38;5;124m\"\u001b[39m\u001b[38;5;124mdata\u001b[39m\u001b[38;5;124m\"\u001b[39m}:\n\u001b[0;32m    507\u001b[0m     \u001b[38;5;66;03m# TODO(wangpeng): Export the enable_numpy_behavior knob\u001b[39;00m\n\u001b[1;32m--> 508\u001b[0m     \u001b[38;5;28;01mraise\u001b[39;00m \u001b[38;5;167;01mAttributeError\u001b[39;00m(\u001b[38;5;124m\"\"\"\u001b[39m\n\u001b[0;32m    509\u001b[0m \u001b[38;5;124m      \u001b[39m\u001b[38;5;124m'\u001b[39m\u001b[38;5;132;01m{}\u001b[39;00m\u001b[38;5;124m'\u001b[39m\u001b[38;5;124m object has no attribute \u001b[39m\u001b[38;5;124m'\u001b[39m\u001b[38;5;132;01m{}\u001b[39;00m\u001b[38;5;124m'\u001b[39m\u001b[38;5;124m.\u001b[39m\n\u001b[0;32m    510\u001b[0m \u001b[38;5;124m      If you are looking for numpy-related methods, please run the following:\u001b[39m\n\u001b[0;32m    511\u001b[0m \u001b[38;5;124m      from tensorflow.python.ops.numpy_ops import np_config\u001b[39m\n\u001b[0;32m    512\u001b[0m \u001b[38;5;124m      np_config.enable_numpy_behavior()\u001b[39m\u001b[38;5;124m\"\"\"\u001b[39m\u001b[38;5;241m.\u001b[39mformat(\u001b[38;5;28mtype\u001b[39m(\u001b[38;5;28mself\u001b[39m)\u001b[38;5;241m.\u001b[39m\u001b[38;5;18m__name__\u001b[39m, name))\n\u001b[0;32m    513\u001b[0m   \u001b[38;5;28mself\u001b[39m\u001b[38;5;241m.\u001b[39m\u001b[38;5;21m__getattribute__\u001b[39m(name)\n",
      "\u001b[1;31mAttributeError\u001b[0m: \n        'EagerTensor' object has no attribute 'transpose'.\n        If you are looking for numpy-related methods, please run the following:\n        from tensorflow.python.ops.numpy_ops import np_config\n        np_config.enable_numpy_behavior()"
     ]
    }
   ],
   "source": [
    "tf.constant([1,2,3,4]).transpose()"
   ]
  },
  {
   "cell_type": "code",
   "execution_count": 6,
   "id": "38f37c33-54b8-430a-a57b-ed2f9fce1579",
   "metadata": {},
   "outputs": [
    {
     "data": {
      "text/plain": [
       "<tf.Tensor: shape=(4,), dtype=int32, numpy=array([1, 2, 3, 4])>"
      ]
     },
     "execution_count": 6,
     "metadata": {},
     "output_type": "execute_result"
    }
   ],
   "source": [
    "tf.transpose(tf.constant([1,2,3,4])) # 이렇게 써야함"
   ]
  },
  {
   "cell_type": "code",
   "execution_count": 7,
   "id": "43ccb83a-8045-487d-858b-967bd8f426dc",
   "metadata": {},
   "outputs": [
    {
     "data": {
      "text/plain": [
       "<tf.Tensor: shape=(2, 2), dtype=int32, numpy=\n",
       "array([[1, 3],\n",
       "       [2, 4]])>"
      ]
     },
     "execution_count": 7,
     "metadata": {},
     "output_type": "execute_result"
    }
   ],
   "source": [
    "tf.transpose(tf.reshape(tf.transpose(tf.constant([1,2,3,4])),(2,2)))"
   ]
  },
  {
   "cell_type": "markdown",
   "id": "eba39c4e-da5a-4f53-9725-726ce71b3ebd",
   "metadata": {},
   "source": [
    "- 쓰기 불편,,"
   ]
  },
  {
   "cell_type": "markdown",
   "id": "02ae93a9-93d0-48ca-8b42-a349dc2dbfee",
   "metadata": {},
   "source": [
    "`-` 예시3: 암묵적 형변환"
   ]
  },
  {
   "cell_type": "code",
   "execution_count": 8,
   "id": "389ec52d-90ae-46a2-8498-85bdde227f3c",
   "metadata": {},
   "outputs": [
    {
     "data": {
      "text/plain": [
       "array([2.1, 4.2, 6.3])"
      ]
     },
     "execution_count": 8,
     "metadata": {},
     "output_type": "execute_result"
    }
   ],
   "source": [
    "np.array([1,2,3])+np.array([1.1,2.2,3.3])"
   ]
  },
  {
   "cell_type": "code",
   "execution_count": 9,
   "id": "3d4f92af-c3d5-4825-b317-42ee70df2db9",
   "metadata": {},
   "outputs": [
    {
     "ename": "InvalidArgumentError",
     "evalue": "cannot compute AddV2 as input #1(zero-based) was expected to be a int32 tensor but is a float tensor [Op:AddV2]",
     "output_type": "error",
     "traceback": [
      "\u001b[1;31m---------------------------------------------------------------------------\u001b[0m",
      "\u001b[1;31mInvalidArgumentError\u001b[0m                      Traceback (most recent call last)",
      "Input \u001b[1;32mIn [9]\u001b[0m, in \u001b[0;36m<cell line: 1>\u001b[1;34m()\u001b[0m\n\u001b[1;32m----> 1\u001b[0m \u001b[43mtf\u001b[49m\u001b[38;5;241;43m.\u001b[39;49m\u001b[43mconstant\u001b[49m\u001b[43m(\u001b[49m\u001b[43m[\u001b[49m\u001b[38;5;241;43m1\u001b[39;49m\u001b[43m,\u001b[49m\u001b[38;5;241;43m2\u001b[39;49m\u001b[43m,\u001b[49m\u001b[38;5;241;43m3\u001b[39;49m\u001b[43m]\u001b[49m\u001b[43m)\u001b[49m\u001b[38;5;241;43m+\u001b[39;49m\u001b[43mtf\u001b[49m\u001b[38;5;241;43m.\u001b[39;49m\u001b[43mconstant\u001b[49m\u001b[43m(\u001b[49m\u001b[43m[\u001b[49m\u001b[38;5;241;43m1.1\u001b[39;49m\u001b[43m,\u001b[49m\u001b[38;5;241;43m2.2\u001b[39;49m\u001b[43m,\u001b[49m\u001b[38;5;241;43m3.3\u001b[39;49m\u001b[43m]\u001b[49m\u001b[43m)\u001b[49m\n",
      "File \u001b[1;32m~\\anaconda3\\envs\\ds2022\\lib\\site-packages\\tensorflow\\python\\util\\traceback_utils.py:153\u001b[0m, in \u001b[0;36mfilter_traceback.<locals>.error_handler\u001b[1;34m(*args, **kwargs)\u001b[0m\n\u001b[0;32m    151\u001b[0m \u001b[38;5;28;01mexcept\u001b[39;00m \u001b[38;5;167;01mException\u001b[39;00m \u001b[38;5;28;01mas\u001b[39;00m e:\n\u001b[0;32m    152\u001b[0m   filtered_tb \u001b[38;5;241m=\u001b[39m _process_traceback_frames(e\u001b[38;5;241m.\u001b[39m__traceback__)\n\u001b[1;32m--> 153\u001b[0m   \u001b[38;5;28;01mraise\u001b[39;00m e\u001b[38;5;241m.\u001b[39mwith_traceback(filtered_tb) \u001b[38;5;28;01mfrom\u001b[39;00m \u001b[38;5;28mNone\u001b[39m\n\u001b[0;32m    154\u001b[0m \u001b[38;5;28;01mfinally\u001b[39;00m:\n\u001b[0;32m    155\u001b[0m   \u001b[38;5;28;01mdel\u001b[39;00m filtered_tb\n",
      "File \u001b[1;32m~\\anaconda3\\envs\\ds2022\\lib\\site-packages\\tensorflow\\python\\framework\\ops.py:7186\u001b[0m, in \u001b[0;36mraise_from_not_ok_status\u001b[1;34m(e, name)\u001b[0m\n\u001b[0;32m   7184\u001b[0m \u001b[38;5;28;01mdef\u001b[39;00m \u001b[38;5;21mraise_from_not_ok_status\u001b[39m(e, name):\n\u001b[0;32m   7185\u001b[0m   e\u001b[38;5;241m.\u001b[39mmessage \u001b[38;5;241m+\u001b[39m\u001b[38;5;241m=\u001b[39m (\u001b[38;5;124m\"\u001b[39m\u001b[38;5;124m name: \u001b[39m\u001b[38;5;124m\"\u001b[39m \u001b[38;5;241m+\u001b[39m name \u001b[38;5;28;01mif\u001b[39;00m name \u001b[38;5;129;01mis\u001b[39;00m \u001b[38;5;129;01mnot\u001b[39;00m \u001b[38;5;28;01mNone\u001b[39;00m \u001b[38;5;28;01melse\u001b[39;00m \u001b[38;5;124m\"\u001b[39m\u001b[38;5;124m\"\u001b[39m)\n\u001b[1;32m-> 7186\u001b[0m   \u001b[38;5;28;01mraise\u001b[39;00m core\u001b[38;5;241m.\u001b[39m_status_to_exception(e) \u001b[38;5;28;01mfrom\u001b[39;00m \u001b[38;5;28mNone\u001b[39m\n",
      "\u001b[1;31mInvalidArgumentError\u001b[0m: cannot compute AddV2 as input #1(zero-based) was expected to be a int32 tensor but is a float tensor [Op:AddV2]"
     ]
    }
   ],
   "source": [
    "tf.constant([1,2,3])+tf.constant([1.1,2.2,3.3])"
   ]
  },
  {
   "cell_type": "markdown",
   "id": "af3c58a0-b3b0-40ad-a4ff-cb5e14c5adb9",
   "metadata": {},
   "source": [
    "- 암묵적 형변환 안 됨,,"
   ]
  },
  {
   "cell_type": "markdown",
   "id": "b011e78b-5e44-44a4-beab-64b780e42300",
   "metadata": {},
   "source": [
    "`-` 예시4: .max, .min 등등\n",
    "넘파이에서 가능한 .max를 사용하려면 tf.constant에서는 tf.reduce_max()를 .min를 사용하려면 tf.reduce_min()를 사용해야함"
   ]
  },
  {
   "cell_type": "code",
   "execution_count": 10,
   "id": "dc4e0d6d-32bd-4c90-a6b3-d5e80dd0b0f5",
   "metadata": {},
   "outputs": [
    {
     "data": {
      "text/plain": [
       "<tf.Tensor: shape=(), dtype=int32, numpy=4>"
      ]
     },
     "execution_count": 10,
     "metadata": {},
     "output_type": "execute_result"
    }
   ],
   "source": [
    "tf.reduce_max(tf.transpose(tf.reshape(tf.transpose(tf.constant([1,2,3,4])),(2,2))))"
   ]
  },
  {
   "cell_type": "code",
   "execution_count": 11,
   "id": "29b63e6c-7092-49dc-b753-add9c002f737",
   "metadata": {},
   "outputs": [
    {
     "data": {
      "text/plain": [
       "<tf.Tensor: shape=(), dtype=int32, numpy=1>"
      ]
     },
     "execution_count": 11,
     "metadata": {},
     "output_type": "execute_result"
    }
   ],
   "source": [
    "tf.reduce_min(tf.transpose(tf.reshape(tf.transpose(tf.constant([1,2,3,4])),(2,2))))"
   ]
  },
  {
   "cell_type": "markdown",
   "id": "73bf8077-b4cb-4dfa-8e3e-a59364099857",
   "metadata": {},
   "source": [
    "`-` 예시5: (2,2) @ (2,) 연산"
   ]
  },
  {
   "cell_type": "code",
   "execution_count": 12,
   "id": "113a1687-cff8-4ba0-88eb-a12213764964",
   "metadata": {},
   "outputs": [
    {
     "data": {
      "text/plain": [
       "array([ 5., 11.])"
      ]
     },
     "execution_count": 12,
     "metadata": {},
     "output_type": "execute_result"
    }
   ],
   "source": [
    "np.array([[1.0,2.0],[3.0,4.0]]) @ np.array([1,2])"
   ]
  },
  {
   "cell_type": "code",
   "execution_count": 13,
   "id": "cea27697-f608-4469-9da4-105e7b99084b",
   "metadata": {},
   "outputs": [
    {
     "data": {
      "text/plain": [
       "array([ 7., 10.])"
      ]
     },
     "execution_count": 13,
     "metadata": {},
     "output_type": "execute_result"
    }
   ],
   "source": [
    "np.array([1,2]) @ np.array([[1.0,2.0],[3.0,4.0]])"
   ]
  },
  {
   "cell_type": "markdown",
   "id": "a653c7ce-6326-4ee0-a3be-ab53adf5d25c",
   "metadata": {},
   "source": [
    "- 차원이 맞지 않아도 넘파이에서는 알아서 잘 계산해줌"
   ]
  },
  {
   "cell_type": "code",
   "execution_count": 14,
   "id": "c9cdad6e-196d-4a7a-bb59-e43b3c65e9c9",
   "metadata": {},
   "outputs": [
    {
     "data": {
      "text/plain": [
       "array([[ 5.],\n",
       "       [11.]])"
      ]
     },
     "execution_count": 14,
     "metadata": {},
     "output_type": "execute_result"
    }
   ],
   "source": [
    "np.array([[1.0,2.0],[3.0,4.0]]) @ np.array([1,2]).reshape(2,1)"
   ]
  },
  {
   "cell_type": "code",
   "execution_count": 15,
   "id": "a16d77c1-e33c-4a66-889b-f9ab96e73587",
   "metadata": {},
   "outputs": [
    {
     "ename": "ValueError",
     "evalue": "matmul: Input operand 1 has a mismatch in its core dimension 0, with gufunc signature (n?,k),(k,m?)->(n?,m?) (size 2 is different from 1)",
     "output_type": "error",
     "traceback": [
      "\u001b[1;31m---------------------------------------------------------------------------\u001b[0m",
      "\u001b[1;31mValueError\u001b[0m                                Traceback (most recent call last)",
      "Input \u001b[1;32mIn [15]\u001b[0m, in \u001b[0;36m<cell line: 1>\u001b[1;34m()\u001b[0m\n\u001b[1;32m----> 1\u001b[0m \u001b[43mnp\u001b[49m\u001b[38;5;241;43m.\u001b[39;49m\u001b[43marray\u001b[49m\u001b[43m(\u001b[49m\u001b[43m[\u001b[49m\u001b[38;5;241;43m1\u001b[39;49m\u001b[43m,\u001b[49m\u001b[38;5;241;43m2\u001b[39;49m\u001b[43m]\u001b[49m\u001b[43m)\u001b[49m\u001b[38;5;241;43m.\u001b[39;49m\u001b[43mreshape\u001b[49m\u001b[43m(\u001b[49m\u001b[38;5;241;43m2\u001b[39;49m\u001b[43m,\u001b[49m\u001b[38;5;241;43m1\u001b[39;49m\u001b[43m)\u001b[49m\u001b[43m \u001b[49m\u001b[38;5;241;43m@\u001b[39;49m\u001b[43m \u001b[49m\u001b[43mnp\u001b[49m\u001b[38;5;241;43m.\u001b[39;49m\u001b[43marray\u001b[49m\u001b[43m(\u001b[49m\u001b[43m[\u001b[49m\u001b[43m[\u001b[49m\u001b[38;5;241;43m1.0\u001b[39;49m\u001b[43m,\u001b[49m\u001b[38;5;241;43m2.0\u001b[39;49m\u001b[43m]\u001b[49m\u001b[43m,\u001b[49m\u001b[43m[\u001b[49m\u001b[38;5;241;43m3.0\u001b[39;49m\u001b[43m,\u001b[49m\u001b[38;5;241;43m4.0\u001b[39;49m\u001b[43m]\u001b[49m\u001b[43m]\u001b[49m\u001b[43m)\u001b[49m\n",
      "\u001b[1;31mValueError\u001b[0m: matmul: Input operand 1 has a mismatch in its core dimension 0, with gufunc signature (n?,k),(k,m?)->(n?,m?) (size 2 is different from 1)"
     ]
    }
   ],
   "source": [
    "np.array([1,2]).reshape(2,1) @ np.array([[1.0,2.0],[3.0,4.0]])"
   ]
  },
  {
   "cell_type": "markdown",
   "id": "be5e4d81-caf7-40b5-af64-f28f54ae325d",
   "metadata": {},
   "source": [
    "- 헷갈릴 것 같다면 .reshape()를 써서 명시해줄 수 있다"
   ]
  },
  {
   "cell_type": "code",
   "execution_count": 16,
   "id": "fc8abb52-4b47-4ae5-8be9-6660989d83d5",
   "metadata": {},
   "outputs": [
    {
     "ename": "InvalidArgumentError",
     "evalue": "cannot compute MatMul as input #1(zero-based) was expected to be a float tensor but is a int32 tensor [Op:MatMul]",
     "output_type": "error",
     "traceback": [
      "\u001b[1;31m---------------------------------------------------------------------------\u001b[0m",
      "\u001b[1;31mInvalidArgumentError\u001b[0m                      Traceback (most recent call last)",
      "Input \u001b[1;32mIn [16]\u001b[0m, in \u001b[0;36m<cell line: 1>\u001b[1;34m()\u001b[0m\n\u001b[1;32m----> 1\u001b[0m \u001b[43mtf\u001b[49m\u001b[38;5;241;43m.\u001b[39;49m\u001b[43mconstant\u001b[49m\u001b[43m(\u001b[49m\u001b[43m[\u001b[49m\u001b[43m[\u001b[49m\u001b[38;5;241;43m1.0\u001b[39;49m\u001b[43m,\u001b[49m\u001b[38;5;241;43m2.0\u001b[39;49m\u001b[43m]\u001b[49m\u001b[43m,\u001b[49m\u001b[43m[\u001b[49m\u001b[38;5;241;43m3.0\u001b[39;49m\u001b[43m,\u001b[49m\u001b[38;5;241;43m4.0\u001b[39;49m\u001b[43m]\u001b[49m\u001b[43m]\u001b[49m\u001b[43m)\u001b[49m\u001b[43m \u001b[49m\u001b[38;5;241;43m@\u001b[39;49m\u001b[43m \u001b[49m\u001b[43mtf\u001b[49m\u001b[38;5;241;43m.\u001b[39;49m\u001b[43mconstant\u001b[49m\u001b[43m(\u001b[49m\u001b[43m[\u001b[49m\u001b[38;5;241;43m1\u001b[39;49m\u001b[43m,\u001b[49m\u001b[38;5;241;43m2\u001b[39;49m\u001b[43m]\u001b[49m\u001b[43m)\u001b[49m\n",
      "File \u001b[1;32m~\\anaconda3\\envs\\ds2022\\lib\\site-packages\\tensorflow\\python\\util\\traceback_utils.py:153\u001b[0m, in \u001b[0;36mfilter_traceback.<locals>.error_handler\u001b[1;34m(*args, **kwargs)\u001b[0m\n\u001b[0;32m    151\u001b[0m \u001b[38;5;28;01mexcept\u001b[39;00m \u001b[38;5;167;01mException\u001b[39;00m \u001b[38;5;28;01mas\u001b[39;00m e:\n\u001b[0;32m    152\u001b[0m   filtered_tb \u001b[38;5;241m=\u001b[39m _process_traceback_frames(e\u001b[38;5;241m.\u001b[39m__traceback__)\n\u001b[1;32m--> 153\u001b[0m   \u001b[38;5;28;01mraise\u001b[39;00m e\u001b[38;5;241m.\u001b[39mwith_traceback(filtered_tb) \u001b[38;5;28;01mfrom\u001b[39;00m \u001b[38;5;28mNone\u001b[39m\n\u001b[0;32m    154\u001b[0m \u001b[38;5;28;01mfinally\u001b[39;00m:\n\u001b[0;32m    155\u001b[0m   \u001b[38;5;28;01mdel\u001b[39;00m filtered_tb\n",
      "File \u001b[1;32m~\\anaconda3\\envs\\ds2022\\lib\\site-packages\\tensorflow\\python\\framework\\ops.py:7186\u001b[0m, in \u001b[0;36mraise_from_not_ok_status\u001b[1;34m(e, name)\u001b[0m\n\u001b[0;32m   7184\u001b[0m \u001b[38;5;28;01mdef\u001b[39;00m \u001b[38;5;21mraise_from_not_ok_status\u001b[39m(e, name):\n\u001b[0;32m   7185\u001b[0m   e\u001b[38;5;241m.\u001b[39mmessage \u001b[38;5;241m+\u001b[39m\u001b[38;5;241m=\u001b[39m (\u001b[38;5;124m\"\u001b[39m\u001b[38;5;124m name: \u001b[39m\u001b[38;5;124m\"\u001b[39m \u001b[38;5;241m+\u001b[39m name \u001b[38;5;28;01mif\u001b[39;00m name \u001b[38;5;129;01mis\u001b[39;00m \u001b[38;5;129;01mnot\u001b[39;00m \u001b[38;5;28;01mNone\u001b[39;00m \u001b[38;5;28;01melse\u001b[39;00m \u001b[38;5;124m\"\u001b[39m\u001b[38;5;124m\"\u001b[39m)\n\u001b[1;32m-> 7186\u001b[0m   \u001b[38;5;28;01mraise\u001b[39;00m core\u001b[38;5;241m.\u001b[39m_status_to_exception(e) \u001b[38;5;28;01mfrom\u001b[39;00m \u001b[38;5;28mNone\u001b[39m\n",
      "\u001b[1;31mInvalidArgumentError\u001b[0m: cannot compute MatMul as input #1(zero-based) was expected to be a float tensor but is a int32 tensor [Op:MatMul]"
     ]
    }
   ],
   "source": [
    "tf.constant([[1.0,2.0],[3.0,4.0]]) @ tf.constant([1,2])"
   ]
  },
  {
   "cell_type": "markdown",
   "id": "021daf3e-818a-4462-a4c2-fb7665299b79",
   "metadata": {},
   "source": [
    "- 차원이 맞지 않으면 계산을 하지 않는다."
   ]
  },
  {
   "cell_type": "markdown",
   "id": "a87477bd-d2df-44c0-84a0-e17cd49a9c1f",
   "metadata": {},
   "source": [
    "#### tnp 사용"
   ]
  },
  {
   "cell_type": "code",
   "execution_count": 17,
   "id": "6f07426f-b1fe-46d3-899d-c910e2c5871e",
   "metadata": {},
   "outputs": [],
   "source": [
    "import tensorflow.experimental.numpy as tnp   # tnp를 사용하면 넘파이에 익숙한 문법을 모두 쓸 수 있음\n",
    "tnp.experimental_enable_numpy_behavior()   # 기존에 생성된 tf.constant 자료형은 넘파이와 유사하게 동작한다. "
   ]
  },
  {
   "cell_type": "code",
   "execution_count": 18,
   "id": "3e952c5b-fc03-428d-a6a2-b56c3d00e922",
   "metadata": {},
   "outputs": [
    {
     "data": {
      "text/plain": [
       "<tf.Tensor: shape=(3,), dtype=int32, numpy=array([1, 2, 3])>"
      ]
     },
     "execution_count": 18,
     "metadata": {},
     "output_type": "execute_result"
    }
   ],
   "source": [
    "tnp.array([1,2,3])"
   ]
  },
  {
   "cell_type": "code",
   "execution_count": 19,
   "id": "aa85d9af-9c8a-40f4-b805-335220328dfb",
   "metadata": {},
   "outputs": [
    {
     "data": {
      "text/plain": [
       "<tf.Tensor: shape=(2, 2), dtype=int32, numpy=\n",
       "array([[1, 0],\n",
       "       [0, 1]])>"
      ]
     },
     "execution_count": 19,
     "metadata": {},
     "output_type": "execute_result"
    }
   ],
   "source": [
    "tnp.diag([1,1])"
   ]
  },
  {
   "cell_type": "markdown",
   "id": "2d3ea1c9-6f75-4100-8dc6-7494517fc8bb",
   "metadata": {
    "tags": []
   },
   "source": [
    "#### 타입"
   ]
  },
  {
   "cell_type": "code",
   "execution_count": 20,
   "id": "f58985d8-101a-4810-bf2f-12cf859e6666",
   "metadata": {},
   "outputs": [
    {
     "data": {
      "text/plain": [
       "(tensorflow.python.framework.ops.EagerTensor,\n",
       " tensorflow.python.framework.ops.EagerTensor)"
      ]
     },
     "execution_count": 20,
     "metadata": {},
     "output_type": "execute_result"
    }
   ],
   "source": [
    "type(tf.constant([1,2])),type(tnp.array([1,2]))"
   ]
  },
  {
   "cell_type": "markdown",
   "id": "f297e12d-24aa-4832-a1ee-5b11209b1bd6",
   "metadata": {},
   "source": [
    "- tnp를 사용해도 타입은 변하지 않는다. 모두 EagerTensor"
   ]
  },
  {
   "cell_type": "markdown",
   "id": "e4b51c76-9bd6-4190-b4c9-fbb18e9647a6",
   "metadata": {},
   "source": [
    "`-` 앞서 본 어려운 점 1인 .reshape()가 사용 가능!"
   ]
  },
  {
   "cell_type": "code",
   "execution_count": 21,
   "id": "b35e6ed0-69ed-438b-86d4-6330a87a1658",
   "metadata": {},
   "outputs": [
    {
     "data": {
      "text/plain": [
       "<tf.Tensor: shape=(2, 2), dtype=int32, numpy=\n",
       "array([[1, 2],\n",
       "       [3, 4]])>"
      ]
     },
     "execution_count": 21,
     "metadata": {},
     "output_type": "execute_result"
    }
   ],
   "source": [
    "tf.constant([1,2,3,4]).reshape(2,2)"
   ]
  },
  {
   "cell_type": "markdown",
   "id": "bf3ececc-5a68-4518-97f3-61171fbfa47e",
   "metadata": {},
   "source": [
    "`-` 어려운 점 2인 .transpose, .T 도 사용 가능!"
   ]
  },
  {
   "cell_type": "code",
   "execution_count": 22,
   "id": "496d71c9-fb0d-4d4f-b073-9759ab770594",
   "metadata": {},
   "outputs": [
    {
     "data": {
      "text/plain": [
       "<tf.Tensor: shape=(2, 2), dtype=int32, numpy=\n",
       "array([[1, 2],\n",
       "       [3, 4]])>"
      ]
     },
     "execution_count": 22,
     "metadata": {},
     "output_type": "execute_result"
    }
   ],
   "source": [
    "tf.constant([1,2,3,4]).reshape(2,2).transpose().T"
   ]
  },
  {
   "cell_type": "markdown",
   "id": "381b5369-8b88-4294-a27a-87f86355d077",
   "metadata": {},
   "source": [
    "`-` 어려운 점 3인 암묵적 형변환도 가능!"
   ]
  },
  {
   "cell_type": "code",
   "execution_count": 23,
   "id": "4a0b3594-54d5-4a5f-ad7f-908708ffdb7d",
   "metadata": {},
   "outputs": [
    {
     "data": {
      "text/plain": [
       "<tf.Tensor: shape=(3,), dtype=float64, numpy=array([2.10000002, 4.20000005, 6.29999995])>"
      ]
     },
     "execution_count": 23,
     "metadata": {},
     "output_type": "execute_result"
    }
   ],
   "source": [
    "tf.constant([1,2,3]) + tf.constant([1.1,2.2,3.3])"
   ]
  },
  {
   "cell_type": "markdown",
   "id": "3706f8d4-7a60-4e8c-9bca-2cf737b0859a",
   "metadata": {},
   "source": [
    "`-` 어려운 점 4인 .max(), .min() 등도 가능!"
   ]
  },
  {
   "cell_type": "code",
   "execution_count": 24,
   "id": "dfd7cdd2-18c3-4898-9a98-91a11e86e809",
   "metadata": {},
   "outputs": [
    {
     "data": {
      "text/plain": [
       "<tf.Tensor: shape=(3,), dtype=float64, numpy=array([4.29999995, 5.29999995, 6.29999995])>"
      ]
     },
     "execution_count": 24,
     "metadata": {},
     "output_type": "execute_result"
    }
   ],
   "source": [
    "tf.constant([1,2,3]) +tf.constant([1.1,2.2,3.3]).max()"
   ]
  },
  {
   "cell_type": "code",
   "execution_count": 25,
   "id": "5b31fb3a-1c57-4986-b4f2-67b91101d76a",
   "metadata": {},
   "outputs": [
    {
     "data": {
      "text/plain": [
       "<tf.Tensor: shape=(3,), dtype=float64, numpy=array([2.10000002, 3.10000002, 4.10000002])>"
      ]
     },
     "execution_count": 25,
     "metadata": {},
     "output_type": "execute_result"
    }
   ],
   "source": [
    "tf.constant([1,2,3]) + tf.constant([1.1,2.2,3.3]).min()"
   ]
  },
  {
   "cell_type": "markdown",
   "id": "cd46deae-8156-4387-b5c3-622a40f22322",
   "metadata": {},
   "source": [
    "`-` 어려운 점 5인 (2,2) @ (2,)의 연산도 가능!"
   ]
  },
  {
   "cell_type": "code",
   "execution_count": 26,
   "id": "7d3da5cc-295e-46ea-8f89-a8ae357fa6c4",
   "metadata": {},
   "outputs": [
    {
     "data": {
      "text/plain": [
       "<tf.Tensor: shape=(2,), dtype=int32, numpy=array([1, 2])>"
      ]
     },
     "execution_count": 26,
     "metadata": {},
     "output_type": "execute_result"
    }
   ],
   "source": [
    "tnp.diag([1,1]) @ tf.constant([1,2])"
   ]
  },
  {
   "cell_type": "code",
   "execution_count": 27,
   "id": "99657fe0-87cd-4c13-b0eb-eb88603eab45",
   "metadata": {},
   "outputs": [
    {
     "data": {
      "text/plain": [
       "<tf.Tensor: shape=(2,), dtype=int32, numpy=array([1, 2])>"
      ]
     },
     "execution_count": 27,
     "metadata": {},
     "output_type": "execute_result"
    }
   ],
   "source": [
    "tf.constant([1,2]) @ tnp.diag([1,1])"
   ]
  },
  {
   "cell_type": "markdown",
   "id": "a539ad08-f5b3-4ed3-baf6-a720f1f2c54e",
   "metadata": {},
   "source": [
    "- 많은 단점을 개선했음!!"
   ]
  },
  {
   "cell_type": "markdown",
   "id": "5d53fc80-8fcd-4118-8dd2-0fdb69870129",
   "metadata": {},
   "source": [
    "`-` 하지만 안 되는 것도 있음"
   ]
  },
  {
   "cell_type": "code",
   "execution_count": 28,
   "id": "ac51c7c0-14fd-4948-a169-d73b2de83962",
   "metadata": {},
   "outputs": [
    {
     "data": {
      "text/plain": [
       "array([1, 2, 3])"
      ]
     },
     "execution_count": 28,
     "metadata": {},
     "output_type": "execute_result"
    }
   ],
   "source": [
    "a = np.array([1,2,3])\n",
    "a"
   ]
  },
  {
   "cell_type": "code",
   "execution_count": 29,
   "id": "15d41010-2509-426e-bb54-d18ba6645743",
   "metadata": {},
   "outputs": [
    {
     "data": {
      "text/plain": [
       "array([0, 2, 3])"
      ]
     },
     "execution_count": 29,
     "metadata": {},
     "output_type": "execute_result"
    }
   ],
   "source": [
    "a[0] = 0\n",
    "a"
   ]
  },
  {
   "cell_type": "code",
   "execution_count": 30,
   "id": "bd38c11c-73d3-4026-8f36-83c3ad8d54b8",
   "metadata": {},
   "outputs": [
    {
     "data": {
      "text/plain": [
       "<tf.Tensor: shape=(3,), dtype=int32, numpy=array([1, 2, 3])>"
      ]
     },
     "execution_count": 30,
     "metadata": {},
     "output_type": "execute_result"
    }
   ],
   "source": [
    "a=tnp.array([1,2,3])\n",
    "a"
   ]
  },
  {
   "cell_type": "code",
   "execution_count": 31,
   "id": "5a24baad-422f-4669-91a3-864b15a7bf10",
   "metadata": {},
   "outputs": [
    {
     "ename": "TypeError",
     "evalue": "'tensorflow.python.framework.ops.EagerTensor' object does not support item assignment",
     "output_type": "error",
     "traceback": [
      "\u001b[1;31m---------------------------------------------------------------------------\u001b[0m",
      "\u001b[1;31mTypeError\u001b[0m                                 Traceback (most recent call last)",
      "Input \u001b[1;32mIn [31]\u001b[0m, in \u001b[0;36m<cell line: 1>\u001b[1;34m()\u001b[0m\n\u001b[1;32m----> 1\u001b[0m a[\u001b[38;5;241m0\u001b[39m]\u001b[38;5;241m=\u001b[39m\u001b[38;5;241m0\u001b[39m\n\u001b[0;32m      2\u001b[0m a\n",
      "\u001b[1;31mTypeError\u001b[0m: 'tensorflow.python.framework.ops.EagerTensor' object does not support item assignment"
     ]
    }
   ],
   "source": [
    "a[0]=0\n",
    "a"
   ]
  },
  {
   "cell_type": "markdown",
   "id": "c9a14b88-5132-4501-9711-f812ef07fab7",
   "metadata": {},
   "source": [
    "- 이는 안 됨"
   ]
  },
  {
   "cell_type": "markdown",
   "id": "ed97427f-8ac5-44e3-8028-ba60a4826be6",
   "metadata": {},
   "source": [
    "### tf.Variable"
   ]
  },
  {
   "cell_type": "markdown",
   "id": "1862b277-24d2-406a-bf26-6310ffecc7db",
   "metadata": {},
   "source": [
    "#### 예비학습"
   ]
  },
  {
   "cell_type": "code",
   "execution_count": 32,
   "id": "77b954ee-2eba-41dd-b0e2-65a7f4fa7416",
   "metadata": {},
   "outputs": [
    {
     "data": {
      "text/plain": [
       "8"
      ]
     },
     "execution_count": 32,
     "metadata": {},
     "output_type": "execute_result"
    }
   ],
   "source": [
    "a=8\n",
    "a"
   ]
  },
  {
   "cell_type": "code",
   "execution_count": 33,
   "id": "2073f092-0437-4e42-b438-ecd1cb0321d8",
   "metadata": {},
   "outputs": [
    {
     "data": {
      "text/plain": [
       "140715972567008"
      ]
     },
     "execution_count": 33,
     "metadata": {},
     "output_type": "execute_result"
    }
   ],
   "source": [
    "id(a)"
   ]
  },
  {
   "cell_type": "code",
   "execution_count": 34,
   "id": "e9d22cef-b6bd-45e4-8ea7-4986e9ceb92c",
   "metadata": {},
   "outputs": [
    {
     "data": {
      "text/plain": [
       "10"
      ]
     },
     "execution_count": 34,
     "metadata": {},
     "output_type": "execute_result"
    }
   ],
   "source": [
    "a=10\n",
    "a"
   ]
  },
  {
   "cell_type": "code",
   "execution_count": 35,
   "id": "6501fb26-7d9e-4d09-ba05-50ad79013c37",
   "metadata": {},
   "outputs": [
    {
     "data": {
      "text/plain": [
       "140715972567072"
      ]
     },
     "execution_count": 35,
     "metadata": {},
     "output_type": "execute_result"
    }
   ],
   "source": [
    "id(a)"
   ]
  },
  {
   "cell_type": "markdown",
   "id": "ef0f0565-0339-465a-bfa3-b75d62234ece",
   "metadata": {},
   "source": [
    "- 이는 값을 변경(편집)한 것이 아니라 재할당한 것이다."
   ]
  },
  {
   "cell_type": "code",
   "execution_count": 36,
   "id": "dc79ace6-789c-4485-b4ca-144aa8e79b11",
   "metadata": {},
   "outputs": [
    {
     "data": {
      "text/plain": [
       "140715972567072"
      ]
     },
     "execution_count": 36,
     "metadata": {},
     "output_type": "execute_result"
    }
   ],
   "source": [
    "b=10\n",
    "id(b)"
   ]
  },
  {
   "cell_type": "markdown",
   "id": "ad22812e-8f9a-4c4c-a3fc-601da88fa002",
   "metadata": {},
   "source": [
    "1) tf.constant는 메모리에 그 값을 올리는 것 -> 메모리에 있는 것은 바꿀 수 없음 -> 값을 변경하고자 하면 재할당 해야 함\n",
    "\n",
    "2) tf.Variable은 메모리에 있는 값을 변경(편집)할 수 있음"
   ]
  },
  {
   "cell_type": "markdown",
   "id": "9007d3b2-7e75-4cc7-bf55-b6b25743373c",
   "metadata": {},
   "source": [
    "---"
   ]
  },
  {
   "cell_type": "markdown",
   "id": "6cb7d7d3-87d7-49b3-b7c3-87565438864e",
   "metadata": {},
   "source": [
    "`-` 선언"
   ]
  },
  {
   "cell_type": "code",
   "execution_count": 37,
   "id": "9b972bb5-674b-4804-85a3-f9f0490b6500",
   "metadata": {},
   "outputs": [
    {
     "data": {
      "text/plain": [
       "<tf.Variable 'Variable:0' shape=(2,) dtype=int32, numpy=array([1, 2])>"
      ]
     },
     "execution_count": 37,
     "metadata": {},
     "output_type": "execute_result"
    }
   ],
   "source": [
    "tf.Variable([1,2])"
   ]
  },
  {
   "cell_type": "markdown",
   "id": "9d864d01-34c6-49e8-ab80-c4e8c4d84605",
   "metadata": {},
   "source": [
    "`-` type"
   ]
  },
  {
   "cell_type": "code",
   "execution_count": 38,
   "id": "45cd853b-9044-42b3-80bb-258f7f0bd371",
   "metadata": {},
   "outputs": [
    {
     "data": {
      "text/plain": [
       "tensorflow.python.ops.resource_variable_ops.ResourceVariable"
      ]
     },
     "execution_count": 38,
     "metadata": {},
     "output_type": "execute_result"
    }
   ],
   "source": [
    "type(tf.Variable([1,2]))"
   ]
  },
  {
   "cell_type": "markdown",
   "id": "befeafd9-2fa0-41c8-a101-87a43cd1f7b8",
   "metadata": {},
   "source": [
    "- ResourceVariable 처음 보는 타입"
   ]
  },
  {
   "cell_type": "markdown",
   "id": "ccbd8c6a-f9f6-4fc2-a81b-51bc757165ff",
   "metadata": {},
   "source": [
    "`-` tf.constant() 선언 후 변환"
   ]
  },
  {
   "cell_type": "code",
   "execution_count": 39,
   "id": "6d6908e2-308b-41de-96ba-dfd97decbb7a",
   "metadata": {},
   "outputs": [
    {
     "data": {
      "text/plain": [
       "<tf.Variable 'Variable:0' shape=(2,) dtype=int32, numpy=array([1, 2])>"
      ]
     },
     "execution_count": 39,
     "metadata": {},
     "output_type": "execute_result"
    }
   ],
   "source": [
    "tf.Variable(tf.constant([1,2]))"
   ]
  },
  {
   "cell_type": "markdown",
   "id": "0b88d3fb-606f-4acc-95cd-0f4f80df29c2",
   "metadata": {},
   "source": [
    "`-` np.array() 선언 후 변환"
   ]
  },
  {
   "cell_type": "code",
   "execution_count": 40,
   "id": "231b7182-1b63-441b-971f-7d13daa42198",
   "metadata": {},
   "outputs": [
    {
     "data": {
      "text/plain": [
       "<tf.Variable 'Variable:0' shape=(2,) dtype=int32, numpy=array([1, 2])>"
      ]
     },
     "execution_count": 40,
     "metadata": {},
     "output_type": "execute_result"
    }
   ],
   "source": [
    "tf.Variable(np.array([1,2]))"
   ]
  },
  {
   "cell_type": "markdown",
   "id": "fedad363-016e-4091-b080-84a9d781f08c",
   "metadata": {},
   "source": [
    "`-` 인덱싱"
   ]
  },
  {
   "cell_type": "code",
   "execution_count": 41,
   "id": "f340214b-6078-4ee4-baa1-e7283a4a694d",
   "metadata": {},
   "outputs": [
    {
     "data": {
      "text/plain": [
       "<tf.Tensor: shape=(2,), dtype=int32, numpy=array([1, 2])>"
      ]
     },
     "execution_count": 41,
     "metadata": {},
     "output_type": "execute_result"
    }
   ],
   "source": [
    "a=tf.Variable([1,2,3,4])\n",
    "a[:2]"
   ]
  },
  {
   "cell_type": "markdown",
   "id": "2935bd1d-35f4-4c32-b7b6-abaaaec879e5",
   "metadata": {},
   "source": [
    "`-` 연산"
   ]
  },
  {
   "cell_type": "code",
   "execution_count": 42,
   "id": "a937e7fa-c2a2-44d2-bad5-8ed4cb4e6be1",
   "metadata": {},
   "outputs": [
    {
     "data": {
      "text/plain": [
       "<tf.Tensor: shape=(2,), dtype=int32, numpy=array([3, 3])>"
      ]
     },
     "execution_count": 42,
     "metadata": {},
     "output_type": "execute_result"
    }
   ],
   "source": [
    "tf.Variable([1,2]) + tf.Variable([2,1])"
   ]
  },
  {
   "cell_type": "markdown",
   "id": "d483b945-6c99-4cf9-9eab-6e15d3471c03",
   "metadata": {},
   "source": [
    "- 그런데 살펴보니, 인덱싱과 연산 후에 자료형이 tf.Variable에서 tf.Tensor로 바꼈다."
   ]
  },
  {
   "cell_type": "code",
   "execution_count": 43,
   "id": "ccbdac43-42f0-404c-9bf5-eb01ec16e36d",
   "metadata": {},
   "outputs": [
    {
     "data": {
      "text/plain": [
       "(tensorflow.python.ops.resource_variable_ops.ResourceVariable,\n",
       " tensorflow.python.ops.resource_variable_ops.ResourceVariable)"
      ]
     },
     "execution_count": 43,
     "metadata": {},
     "output_type": "execute_result"
    }
   ],
   "source": [
    "a=tf.Variable([1,2])\n",
    "b=tf.Variable([2,1])\n",
    "type(a), type(b)"
   ]
  },
  {
   "cell_type": "code",
   "execution_count": 44,
   "id": "0ff8b6ff-ca2c-490f-bb3c-0233697e7d09",
   "metadata": {},
   "outputs": [
    {
     "data": {
      "text/plain": [
       "tensorflow.python.framework.ops.EagerTensor"
      ]
     },
     "execution_count": 44,
     "metadata": {},
     "output_type": "execute_result"
    }
   ],
   "source": [
    "type(a+b)"
   ]
  },
  {
   "cell_type": "markdown",
   "id": "73b59551-d724-4f8d-8e04-6ed7cbc8dfc2",
   "metadata": {},
   "source": [
    "- tf.Variable()로 만든 후 간단한연산을 하면 그 결과는 tf.constant()로 만든 오브젝트와 동일해짐. "
   ]
  },
  {
   "cell_type": "code",
   "execution_count": 45,
   "id": "f91f5aae-cb6b-4ec7-8e72-140ecf7396a3",
   "metadata": {},
   "outputs": [
    {
     "data": {
      "text/plain": [
       "<tf.Tensor: shape=(2,), dtype=float64, numpy=array([2.10000002, 4.20000005])>"
      ]
     },
     "execution_count": 45,
     "metadata": {},
     "output_type": "execute_result"
    }
   ],
   "source": [
    "tf.Variable([1,2]) + tf.Variable([1.1,2.2])"
   ]
  },
  {
   "cell_type": "markdown",
   "id": "4ceb8cca-979f-400b-949a-f921218ac520",
   "metadata": {},
   "source": [
    "- 이는 원래 안 되지만, tnp.experimental_enable_numpy_behavior()를 선언하면 가능함"
   ]
  },
  {
   "cell_type": "code",
   "execution_count": 46,
   "id": "57e918e2-5e60-4394-98ad-f1f2ada1c379",
   "metadata": {},
   "outputs": [
    {
     "ename": "AttributeError",
     "evalue": "'ResourceVariable' object has no attribute 'reshape'",
     "output_type": "error",
     "traceback": [
      "\u001b[1;31m---------------------------------------------------------------------------\u001b[0m",
      "\u001b[1;31mAttributeError\u001b[0m                            Traceback (most recent call last)",
      "Input \u001b[1;32mIn [46]\u001b[0m, in \u001b[0;36m<cell line: 1>\u001b[1;34m()\u001b[0m\n\u001b[1;32m----> 1\u001b[0m \u001b[43mtf\u001b[49m\u001b[38;5;241;43m.\u001b[39;49m\u001b[43mVariable\u001b[49m\u001b[43m(\u001b[49m\u001b[43m[\u001b[49m\u001b[38;5;241;43m1\u001b[39;49m\u001b[43m,\u001b[49m\u001b[38;5;241;43m2\u001b[39;49m\u001b[43m,\u001b[49m\u001b[38;5;241;43m3\u001b[39;49m\u001b[43m,\u001b[49m\u001b[38;5;241;43m4\u001b[39;49m\u001b[43m]\u001b[49m\u001b[43m)\u001b[49m\u001b[38;5;241;43m.\u001b[39;49m\u001b[43mreshape\u001b[49m(\u001b[38;5;241m2\u001b[39m,\u001b[38;5;241m2\u001b[39m)\n",
      "\u001b[1;31mAttributeError\u001b[0m: 'ResourceVariable' object has no attribute 'reshape'"
     ]
    }
   ],
   "source": [
    "tf.Variable([1,2,3,4]).reshape(2,2)"
   ]
  },
  {
   "cell_type": "markdown",
   "id": "913b1080-18b0-4f90-afca-73756bc81c7a",
   "metadata": {},
   "source": [
    "- 이것은 또 안 됨.."
   ]
  },
  {
   "cell_type": "markdown",
   "id": "5fa41bd7-eebc-4f2a-a4f7-e80b6a91efc0",
   "metadata": {},
   "source": [
    "- tnp의 전부 되는 것은 아니고 일부만 가능"
   ]
  },
  {
   "cell_type": "markdown",
   "id": "00bb152f-d1f3-40e5-97de-5a2eb1080d93",
   "metadata": {},
   "source": [
    "`-` tf.concat"
   ]
  },
  {
   "cell_type": "code",
   "execution_count": 47,
   "id": "b02c464e-09a3-4da3-948d-88a45d69268f",
   "metadata": {},
   "outputs": [],
   "source": [
    "a=tf.Variable([[1,2],[3,4]])\n",
    "b=tf.Variable([[-1,-2],[-3,-4]])"
   ]
  },
  {
   "cell_type": "code",
   "execution_count": 48,
   "id": "9dde8c62-26a1-4ff8-83f8-facc178beb93",
   "metadata": {},
   "outputs": [
    {
     "data": {
      "text/plain": [
       "<tf.Tensor: shape=(4, 2), dtype=int32, numpy=\n",
       "array([[ 1,  2],\n",
       "       [ 3,  4],\n",
       "       [-1, -2],\n",
       "       [-3, -4]])>"
      ]
     },
     "execution_count": 48,
     "metadata": {},
     "output_type": "execute_result"
    }
   ],
   "source": [
    "tf.concat([a,b],axis=0)"
   ]
  },
  {
   "cell_type": "code",
   "execution_count": 49,
   "id": "6688a8b8-e782-4681-98bf-43e6af63a0b5",
   "metadata": {},
   "outputs": [
    {
     "data": {
      "text/plain": [
       "<tf.Tensor: shape=(2, 4), dtype=int32, numpy=\n",
       "array([[ 1,  2, -1, -2],\n",
       "       [ 3,  4, -3, -4]])>"
      ]
     },
     "execution_count": 49,
     "metadata": {},
     "output_type": "execute_result"
    }
   ],
   "source": [
    "tf.concat([a,b],axis=1)"
   ]
  },
  {
   "cell_type": "markdown",
   "id": "ba926be5-45ed-4603-b822-64540b1197cb",
   "metadata": {},
   "source": [
    "`-` tf.stack"
   ]
  },
  {
   "cell_type": "code",
   "execution_count": 50,
   "id": "767f9bee-52dd-49f0-b3b9-ce6e0d0ac0b6",
   "metadata": {},
   "outputs": [
    {
     "data": {
      "text/plain": [
       "<tf.Tensor: shape=(2, 2, 2), dtype=int32, numpy=\n",
       "array([[[ 1,  2],\n",
       "        [ 3,  4]],\n",
       "\n",
       "       [[-1, -2],\n",
       "        [-3, -4]]])>"
      ]
     },
     "execution_count": 50,
     "metadata": {},
     "output_type": "execute_result"
    }
   ],
   "source": [
    "tf.stack([a,b],axis=0)"
   ]
  },
  {
   "cell_type": "code",
   "execution_count": 51,
   "id": "7b94a575-900f-4280-a777-b9161a1332e1",
   "metadata": {},
   "outputs": [
    {
     "data": {
      "text/plain": [
       "<tf.Tensor: shape=(2, 2, 2), dtype=int32, numpy=\n",
       "array([[[ 1,  2],\n",
       "        [-1, -2]],\n",
       "\n",
       "       [[ 3,  4],\n",
       "        [-3, -4]]])>"
      ]
     },
     "execution_count": 51,
     "metadata": {},
     "output_type": "execute_result"
    }
   ],
   "source": [
    "tf.stack([a,b],axis=1)"
   ]
  },
  {
   "cell_type": "markdown",
   "id": "1a922ab5-af45-4660-b96e-86e48b438ca2",
   "metadata": {},
   "source": [
    "`-` 변수값 변경 가능"
   ]
  },
  {
   "cell_type": "code",
   "execution_count": 52,
   "id": "1502b26b-1ac7-4600-97a9-47cbefe364ca",
   "metadata": {},
   "outputs": [
    {
     "data": {
      "text/plain": [
       "<tf.Variable 'Variable:0' shape=(2,) dtype=int32, numpy=array([1, 2])>"
      ]
     },
     "execution_count": 52,
     "metadata": {},
     "output_type": "execute_result"
    }
   ],
   "source": [
    "a=tf.Variable([1,2])\n",
    "a"
   ]
  },
  {
   "cell_type": "code",
   "execution_count": 53,
   "id": "838ef2cc-e7e5-46b5-9163-dc51c0398e55",
   "metadata": {},
   "outputs": [
    {
     "data": {
      "text/plain": [
       "1561676107296"
      ]
     },
     "execution_count": 53,
     "metadata": {},
     "output_type": "execute_result"
    }
   ],
   "source": [
    "id(a)"
   ]
  },
  {
   "cell_type": "code",
   "execution_count": 54,
   "id": "bb1c508e-68a5-4d7b-a4c7-119ade9790a4",
   "metadata": {},
   "outputs": [
    {
     "data": {
      "text/plain": [
       "<tf.Variable 'Variable:0' shape=(2,) dtype=int32, numpy=array([0, 4])>"
      ]
     },
     "execution_count": 54,
     "metadata": {},
     "output_type": "execute_result"
    }
   ],
   "source": [
    "a.assign_add([-1,2])\n",
    "a"
   ]
  },
  {
   "cell_type": "code",
   "execution_count": 55,
   "id": "3c0e50a6-f6e1-41d4-972e-414a08527a7d",
   "metadata": {},
   "outputs": [
    {
     "data": {
      "text/plain": [
       "1561676107296"
      ]
     },
     "execution_count": 55,
     "metadata": {},
     "output_type": "execute_result"
    }
   ],
   "source": [
    "id(a)"
   ]
  },
  {
   "cell_type": "markdown",
   "id": "70f95dd5-912c-44a7-b0ce-827fd1dd0313",
   "metadata": {},
   "source": [
    "- 위를 살펴보니, 메모리 주소가 같다. 즉 값이 재할당 된 것이 아닌 변경된 것임을 알 수 있다."
   ]
  },
  {
   "cell_type": "markdown",
   "id": "6e2aa9a8-f4bf-4ddb-acca-5eb328004d74",
   "metadata": {},
   "source": [
    ": tf.constant()는 일반메모리에, tf.Variable은 GPU에"
   ]
  },
  {
   "cell_type": "markdown",
   "id": "55bfa14f-b6ce-4a4d-9ebd-e22fb049ff32",
   "metadata": {
    "tags": []
   },
   "source": [
    "### 미분\n",
    ":Tensorflow를 사용하는 가장 큰 이유"
   ]
  },
  {
   "cell_type": "markdown",
   "id": "bf90cb9a-6936-4c4c-b5a6-286972103c46",
   "metadata": {},
   "source": [
    "모티브\n",
    "\n",
    "`-` 예제: 컴퓨터를 이용하여 $x=2$에서 $y=3x^2$의 접선의 기울기를 구해보자. "
   ]
  },
  {
   "cell_type": "markdown",
   "id": "084edabd-f8b3-4f03-bf35-eb398be9d93b",
   "metadata": {},
   "source": [
    "`-` (손풀이)\n",
    "\n",
    "$\\frac{dy}{dx}=6x$ 이므로, $x=2$를 대입 -> 답 : 12."
   ]
  },
  {
   "cell_type": "markdown",
   "id": "4a113a26-2ca2-4565-813f-6f87ed613c11",
   "metadata": {},
   "source": [
    "`-` (컴퓨터로 풀이) \n",
    "\n",
    "도함수를 어떻게 구할지 모르겠으나 일단 $x=2$에서 접선의 기울기만 계산해보자"
   ]
  },
  {
   "cell_type": "markdown",
   "id": "e9ece7cd-acb2-4a69-b3d4-4537d51036e6",
   "metadata": {},
   "source": [
    "step 1: 답만계산 "
   ]
  },
  {
   "cell_type": "code",
   "execution_count": 56,
   "id": "75248f91-9fa1-4a89-b35d-545751f4ab6a",
   "metadata": {},
   "outputs": [],
   "source": [
    "x1=2\n",
    "y1=3*x1**2"
   ]
  },
  {
   "cell_type": "code",
   "execution_count": 57,
   "id": "b368fa40-f805-4ea6-8dc5-43518171f4df",
   "metadata": {},
   "outputs": [],
   "source": [
    "x2=2.000001\n",
    "y2=3*x2**2"
   ]
  },
  {
   "cell_type": "code",
   "execution_count": 58,
   "id": "6e7e9756-5f29-4cce-b333-99a925629598",
   "metadata": {},
   "outputs": [
    {
     "data": {
      "text/plain": [
       "12.000003000266702"
      ]
     },
     "execution_count": 58,
     "metadata": {},
     "output_type": "execute_result"
    }
   ],
   "source": [
    "(y2-y1)/(x2-x1)"
   ]
  },
  {
   "cell_type": "markdown",
   "id": "81aa689f-9d68-4eb4-a014-472a1c5f7f99",
   "metadata": {},
   "source": [
    "step 2: 함수화"
   ]
  },
  {
   "cell_type": "code",
   "execution_count": 59,
   "id": "8dca8843-c74d-49d5-97ea-390a9486bcf3",
   "metadata": {},
   "outputs": [],
   "source": [
    "def f(x):\n",
    "    return 3*x**2"
   ]
  },
  {
   "cell_type": "code",
   "execution_count": 60,
   "id": "16bb3322-7c6a-4964-aef2-9d5a893b4960",
   "metadata": {},
   "outputs": [],
   "source": [
    "def d(f,x): # python에서는 d(f,x)로 선언 가능\n",
    "    return (f(x+0.000001)-f(x))/0.000001   # f(x+a)-f(x)/a 꼴"
   ]
  },
  {
   "cell_type": "code",
   "execution_count": 61,
   "id": "3930a5e1-306c-4cb9-84d4-5e6a6f016854",
   "metadata": {},
   "outputs": [
    {
     "data": {
      "text/plain": [
       "12.000003001944037"
      ]
     },
     "execution_count": 61,
     "metadata": {},
     "output_type": "execute_result"
    }
   ],
   "source": [
    "d(f,2)"
   ]
  },
  {
   "cell_type": "code",
   "execution_count": 62,
   "id": "9be8458c-7e72-4b4b-bccc-aea3c5bac0f0",
   "metadata": {},
   "outputs": [
    {
     "data": {
      "text/plain": [
       "18.000003002782705"
      ]
     },
     "execution_count": 62,
     "metadata": {},
     "output_type": "execute_result"
    }
   ],
   "source": [
    "d(f,3)"
   ]
  },
  {
   "cell_type": "markdown",
   "id": "25726cdc-2031-4046-9236-684280e1f3f4",
   "metadata": {},
   "source": [
    "step 3: lambda 이용"
   ]
  },
  {
   "cell_type": "code",
   "execution_count": 63,
   "id": "e20114fe-d894-4f86-8b21-0e7b0f770706",
   "metadata": {},
   "outputs": [
    {
     "data": {
      "text/plain": [
       "12.000003001944037"
      ]
     },
     "execution_count": 63,
     "metadata": {},
     "output_type": "execute_result"
    }
   ],
   "source": [
    "d(lambda x: 3*x**2,2)"
   ]
  },
  {
   "cell_type": "code",
   "execution_count": 64,
   "id": "ac165848-81f3-4957-bec7-a33afa00752e",
   "metadata": {},
   "outputs": [
    {
     "data": {
      "text/plain": [
       "18.000003002782705"
      ]
     },
     "execution_count": 64,
     "metadata": {},
     "output_type": "execute_result"
    }
   ],
   "source": [
    "d(lambda x: 3*x**2,3)"
   ]
  },
  {
   "cell_type": "code",
   "execution_count": 65,
   "id": "edbefffe-1ce9-45a6-9303-d2814ee19dc5",
   "metadata": {},
   "outputs": [
    {
     "data": {
      "text/plain": [
       "6.000001000927568"
      ]
     },
     "execution_count": 65,
     "metadata": {},
     "output_type": "execute_result"
    }
   ],
   "source": [
    "d(lambda x: x**2,3)"
   ]
  },
  {
   "cell_type": "markdown",
   "id": "31249ea4-0513-43ba-88ca-2d7027203b42",
   "metadata": {},
   "source": [
    "`-` 2개의 변수를 가지는 함수에 대한 미분"
   ]
  },
  {
   "cell_type": "code",
   "execution_count": 66,
   "id": "f3ef39a6-124a-45d9-88b9-94ef1773a501",
   "metadata": {},
   "outputs": [],
   "source": [
    "def d(f,x):\n",
    "    return (f(x+0.000001)-f(x))/0.000001"
   ]
  },
  {
   "cell_type": "code",
   "execution_count": 67,
   "id": "d4d67f70-a935-4939-ade0-dcb147d036cd",
   "metadata": {},
   "outputs": [],
   "source": [
    "def f(x,y):\n",
    "    return x**2 + 3*y"
   ]
  },
  {
   "cell_type": "code",
   "execution_count": 68,
   "id": "eb04a574-4909-4f5b-9926-2d40193f83f7",
   "metadata": {},
   "outputs": [
    {
     "ename": "TypeError",
     "evalue": "can only concatenate tuple (not \"float\") to tuple",
     "output_type": "error",
     "traceback": [
      "\u001b[1;31m---------------------------------------------------------------------------\u001b[0m",
      "\u001b[1;31mTypeError\u001b[0m                                 Traceback (most recent call last)",
      "Input \u001b[1;32mIn [68]\u001b[0m, in \u001b[0;36m<cell line: 1>\u001b[1;34m()\u001b[0m\n\u001b[1;32m----> 1\u001b[0m \u001b[43md\u001b[49m\u001b[43m(\u001b[49m\u001b[43mf\u001b[49m\u001b[43m,\u001b[49m\u001b[43m(\u001b[49m\u001b[38;5;241;43m3\u001b[39;49m\u001b[43m,\u001b[49m\u001b[38;5;241;43m2\u001b[39;49m\u001b[43m)\u001b[49m\u001b[43m)\u001b[49m\n",
      "Input \u001b[1;32mIn [66]\u001b[0m, in \u001b[0;36md\u001b[1;34m(f, x)\u001b[0m\n\u001b[0;32m      1\u001b[0m \u001b[38;5;28;01mdef\u001b[39;00m \u001b[38;5;21md\u001b[39m(f,x):\n\u001b[1;32m----> 2\u001b[0m     \u001b[38;5;28;01mreturn\u001b[39;00m (f(\u001b[43mx\u001b[49m\u001b[38;5;241;43m+\u001b[39;49m\u001b[38;5;241;43m0.000001\u001b[39;49m)\u001b[38;5;241m-\u001b[39mf(x))\u001b[38;5;241m/\u001b[39m\u001b[38;5;241m0.000001\u001b[39m\n",
      "\u001b[1;31mTypeError\u001b[0m: can only concatenate tuple (not \"float\") to tuple"
     ]
    }
   ],
   "source": [
    "d(f,(3,2)) # 미분을 하는 함수 d에 x**2+3*y를 적용시켜 미분시킨 후 x,y에 3,2를 각각 대입하라."
   ]
  },
  {
   "cell_type": "markdown",
   "id": "e71da67f-09dc-4730-9b2b-39417d00c6fc",
   "metadata": {},
   "source": [
    "- 오류가 남"
   ]
  },
  {
   "cell_type": "markdown",
   "id": "cea95198-7f98-4a48-8aea-56da733764f0",
   "metadata": {},
   "source": [
    "- 이는 확장성이 떨어지기 때문에 다른 방법이 필요함"
   ]
  },
  {
   "cell_type": "markdown",
   "id": "e6c4d3a4-7b36-4ed0-b9d4-a67874c8cdad",
   "metadata": {},
   "source": [
    "#### tf.GradientTape()"
   ]
  },
  {
   "cell_type": "markdown",
   "id": "ce689c09-3904-4354-a0f1-1d5207415fc9",
   "metadata": {},
   "source": [
    "`-` 예제1: $x=2$에서 $y=3x^2$의 도함수 값을 구하여라."
   ]
  },
  {
   "cell_type": "code",
   "execution_count": 69,
   "id": "4c234afa-2ee6-4e18-9262-fd708b30d17c",
   "metadata": {},
   "outputs": [],
   "source": [
    "x=tf.Variable([2.0])\n",
    "a=tf.constant([3.0])"
   ]
  },
  {
   "cell_type": "code",
   "execution_count": 70,
   "id": "52ea0755-4823-4f6c-a8e1-ac94d6989ae5",
   "metadata": {},
   "outputs": [],
   "source": [
    "# tf.GradientTape?"
   ]
  },
  {
   "cell_type": "code",
   "execution_count": 71,
   "id": "7c83f28c-1f03-421a-a9de-01cdbeb62c68",
   "metadata": {},
   "outputs": [
    {
     "data": {
      "text/plain": [
       "<tensorflow.python.eager.backprop.GradientTape at 0x16b9b289130>"
      ]
     },
     "execution_count": 71,
     "metadata": {},
     "output_type": "execute_result"
    }
   ],
   "source": [
    "tf.GradientTape()"
   ]
  },
  {
   "cell_type": "markdown",
   "id": "d4ab3efb-f9bc-4f31-a40d-892294a8ee60",
   "metadata": {},
   "source": [
    "- 무엇인가 만들어졌음"
   ]
  },
  {
   "cell_type": "code",
   "execution_count": 72,
   "id": "79b98066-88fa-431b-a7cd-08777ba519a6",
   "metadata": {},
   "outputs": [],
   "source": [
    "mytape=tf.GradientTape()"
   ]
  },
  {
   "cell_type": "code",
   "execution_count": 73,
   "id": "049063c4-2758-493c-bfc3-f0ea7364e28a",
   "metadata": {},
   "outputs": [
    {
     "data": {
      "text/plain": [
       "['__class__',\n",
       " '__delattr__',\n",
       " '__dict__',\n",
       " '__dir__',\n",
       " '__doc__',\n",
       " '__enter__',\n",
       " '__eq__',\n",
       " '__exit__',\n",
       " '__format__',\n",
       " '__ge__',\n",
       " '__getattribute__',\n",
       " '__gt__',\n",
       " '__hash__',\n",
       " '__init__',\n",
       " '__init_subclass__',\n",
       " '__le__',\n",
       " '__lt__',\n",
       " '__module__',\n",
       " '__ne__',\n",
       " '__new__',\n",
       " '__reduce__',\n",
       " '__reduce_ex__',\n",
       " '__repr__',\n",
       " '__setattr__',\n",
       " '__sizeof__',\n",
       " '__str__',\n",
       " '__subclasshook__',\n",
       " '__weakref__',\n",
       " '_ensure_recording',\n",
       " '_persistent',\n",
       " '_pop_tape',\n",
       " '_push_tape',\n",
       " '_recording',\n",
       " '_tape',\n",
       " '_tf_api_names',\n",
       " '_tf_api_names_v1',\n",
       " '_watch_accessed_variables',\n",
       " '_watched_variables',\n",
       " 'batch_jacobian',\n",
       " 'gradient',\n",
       " 'jacobian',\n",
       " 'reset',\n",
       " 'stop_recording',\n",
       " 'watch',\n",
       " 'watched_variables']"
      ]
     },
     "execution_count": 73,
     "metadata": {},
     "output_type": "execute_result"
    }
   ],
   "source": [
    "dir(mytape)"
   ]
  },
  {
   "cell_type": "markdown",
   "id": "e42af106-49c9-4167-b04d-a963c22a0487",
   "metadata": {},
   "source": [
    "- dir()을 찍어보니 다음과 같은 게 있음\n",
    "1. `__enter__`\n",
    "2. `__exit__`"
   ]
  },
  {
   "cell_type": "code",
   "execution_count": 74,
   "id": "95769dd2-43ee-45d7-8b4f-5646d42cc0f3",
   "metadata": {},
   "outputs": [
    {
     "data": {
      "text/plain": [
       "\u001b[1;31mSignature:\u001b[0m \u001b[0mmytape\u001b[0m\u001b[1;33m.\u001b[0m\u001b[0m__enter__\u001b[0m\u001b[1;33m(\u001b[0m\u001b[1;33m)\u001b[0m\u001b[1;33m\u001b[0m\u001b[1;33m\u001b[0m\u001b[0m\n",
       "\u001b[1;31mDocstring:\u001b[0m Enters a context inside which operations are recorded on this tape.\n",
       "\u001b[1;31mFile:\u001b[0m      c:\\users\\kko\\anaconda3\\envs\\ds2022\\lib\\site-packages\\tensorflow\\python\\eager\\backprop.py\n",
       "\u001b[1;31mType:\u001b[0m      method\n"
      ]
     },
     "metadata": {},
     "output_type": "display_data"
    }
   ],
   "source": [
    "?mytape.__enter__"
   ]
  },
  {
   "cell_type": "markdown",
   "id": "ec3f870c-bcc6-4aa5-aa2a-2d186aa277ae",
   "metadata": {},
   "source": [
    "- 이는 함수이고 tape를 기록하는 기능을 함"
   ]
  },
  {
   "cell_type": "code",
   "execution_count": 75,
   "id": "dd57d404-6913-47d4-bb82-bca2a92aa721",
   "metadata": {},
   "outputs": [
    {
     "data": {
      "text/plain": [
       "\u001b[1;31mSignature:\u001b[0m \u001b[0mmytape\u001b[0m\u001b[1;33m.\u001b[0m\u001b[0m__exit__\u001b[0m\u001b[1;33m(\u001b[0m\u001b[0mtyp\u001b[0m\u001b[1;33m,\u001b[0m \u001b[0mvalue\u001b[0m\u001b[1;33m,\u001b[0m \u001b[0mtraceback\u001b[0m\u001b[1;33m)\u001b[0m\u001b[1;33m\u001b[0m\u001b[1;33m\u001b[0m\u001b[0m\n",
       "\u001b[1;31mDocstring:\u001b[0m Exits the recording context, no further operations are traced.\n",
       "\u001b[1;31mFile:\u001b[0m      c:\\users\\kko\\anaconda3\\envs\\ds2022\\lib\\site-packages\\tensorflow\\python\\eager\\backprop.py\n",
       "\u001b[1;31mType:\u001b[0m      method\n"
      ]
     },
     "metadata": {},
     "output_type": "display_data"
    }
   ],
   "source": [
    "?mytape.__exit__"
   ]
  },
  {
   "cell_type": "markdown",
   "id": "f3e27339-2470-418c-9993-930f056fc440",
   "metadata": {},
   "source": [
    "- 함수인데 ( )안에 None, None, None를 입력해주어야 한다. 기록을 끄는 기능을 함"
   ]
  },
  {
   "cell_type": "markdown",
   "id": "e990c542-3204-4fbe-a394-a928931545b7",
   "metadata": {},
   "source": [
    "``` python\n",
    "tf.GradientTape() 사용법:\n",
    "mytape.__enter__\n",
    "기록할 내용\n",
    "mytape.__exit__\n",
    "```"
   ]
  },
  {
   "cell_type": "code",
   "execution_count": 76,
   "id": "7a6aa225-1b03-40a6-b297-5c630007be88",
   "metadata": {},
   "outputs": [],
   "source": [
    "x=tf.Variable([2.0]) # 미분하고 싶은 변수는 Variable로 할당\n",
    "a=tf.constant([3.0]) # a는 상수로, 값을 저장하고 싶은 것은 constant로 할당"
   ]
  },
  {
   "cell_type": "code",
   "execution_count": 77,
   "id": "d1e3e510-a447-488a-8f8b-5a126d6025a6",
   "metadata": {},
   "outputs": [],
   "source": [
    "mytape.__enter__()\n",
    "y=a*x**2\n",
    "mytape.__exit__(None,None,None)"
   ]
  },
  {
   "cell_type": "code",
   "execution_count": 78,
   "id": "1ae87534-3696-4e3b-81f1-4ad2c08f0f2b",
   "metadata": {},
   "outputs": [
    {
     "data": {
      "text/plain": [
       "<tf.Tensor: shape=(1,), dtype=float32, numpy=array([12.], dtype=float32)>"
      ]
     },
     "execution_count": 78,
     "metadata": {},
     "output_type": "execute_result"
    }
   ],
   "source": [
    "mytape.gradient(y,x) # 변수 x로 y를 미분"
   ]
  },
  {
   "cell_type": "markdown",
   "id": "171da67c-14ae-4b78-82d3-b6047484e199",
   "metadata": {},
   "source": [
    "`-` 예제2"
   ]
  },
  {
   "cell_type": "code",
   "execution_count": 79,
   "id": "8ca1d512-a016-4383-8e4c-51da8071c0c8",
   "metadata": {},
   "outputs": [],
   "source": [
    "x=tf.Variable([2.0])"
   ]
  },
  {
   "cell_type": "code",
   "execution_count": 80,
   "id": "80a7102d-4148-4f1e-8609-722cead5ab47",
   "metadata": {},
   "outputs": [],
   "source": [
    "mytape=tf.GradientTape()"
   ]
  },
  {
   "cell_type": "code",
   "execution_count": 81,
   "id": "4b5e001a-69a5-49d4-afe1-53c92e945e16",
   "metadata": {},
   "outputs": [],
   "source": [
    "mytape.__enter__()\n",
    "a=(x/2)*3 # a를 기록할 내용으로 가져왔음\n",
    "y=a*x**2\n",
    "mytape.__exit__(None,None,None)"
   ]
  },
  {
   "cell_type": "code",
   "execution_count": 82,
   "id": "d664cd84-55a4-4669-b8ca-ff8426813359",
   "metadata": {},
   "outputs": [
    {
     "data": {
      "text/plain": [
       "<tf.Tensor: shape=(1,), dtype=float32, numpy=array([18.], dtype=float32)>"
      ]
     },
     "execution_count": 82,
     "metadata": {},
     "output_type": "execute_result"
    }
   ],
   "source": [
    "mytape.gradient(y,x) # 변수 x로 y를 미분"
   ]
  },
  {
   "cell_type": "markdown",
   "id": "f672f44f-5f51-47f1-8d6a-c5471eab53c5",
   "metadata": {},
   "source": [
    "- a를 기록할 내용에서 지정해준 것 뿐인데 12가 아닌 18이 나왔음"
   ]
  },
  {
   "cell_type": "markdown",
   "id": "fbacb09b-e720-4ffb-8936-1165e3a1575d",
   "metadata": {},
   "source": [
    "- 이는 다음의 과정을 통해 나온 결과임"
   ]
  },
  {
   "cell_type": "markdown",
   "id": "1f027f3d-0591-4b00-a09d-2ceac4b03fa8",
   "metadata": {},
   "source": [
    "$a=\\frac{3}{2}x$\n",
    "\n",
    "$y=ax^2= \\frac{3}{2}x^3$\n",
    "\n",
    "$\\frac{dy}{dx}= \\frac{3}{2}3 x^2$\n",
    "\n",
    "1.5 × 3 × 4 = 18"
   ]
  },
  {
   "cell_type": "code",
   "execution_count": 83,
   "id": "f1b7c645-6155-4d0b-8f8e-39397840180d",
   "metadata": {},
   "outputs": [
    {
     "data": {
      "text/plain": [
       "18.0"
      ]
     },
     "execution_count": 83,
     "metadata": {},
     "output_type": "execute_result"
    }
   ],
   "source": [
    "1.5 * 3 * 4"
   ]
  },
  {
   "cell_type": "markdown",
   "id": "6d418bcd-56d4-4b18-8e95-f617d293c2f1",
   "metadata": {},
   "source": [
    "- 즉 y는 $a=3$을 기록한 것이 아니라, $a=\\frac{3}{2}x$를 기록한 것이다."
   ]
  },
  {
   "cell_type": "markdown",
   "id": "68a1cde1-b854-4208-a640-80cb7ed35105",
   "metadata": {},
   "source": [
    "`-` 테이프의 개념(중요)"
   ]
  },
  {
   "cell_type": "markdown",
   "id": "db79aec7-f6ab-4c05-a385-d02995481024",
   "metadata": {},
   "source": [
    "`-` 상황 예시\n",
    "\n",
    "미분계산을 컴퓨터에게 부탁하고 싶다. 예를 들어 $y=3x^2$에 대한 미분계산을 컴퓨터에 부탁 하기 위해서는 노트 및 연습장(=테이프)에 $y=3x^2$이라는 수식을 써서 보여줘야 한다. 이 때 컴퓨터에게 식($y$)이 무엇인지 그리고 무엇으로 미분하고 싶은지($x$)를 명시해야 한다. \n",
    "\n",
    "`-` 비유\n",
    "\n",
    "(1) `mytape = tf.GradientTape()`:  \n",
    "- `tf.GradientTape()` 는 컴퓨터에게 전달할 노트 생성\n",
    "- `mytape=` 는 생성한 노트의 이름을 mytape이라고 지정 \n",
    "\n",
    "(2) `mytape.__enter__()`: \n",
    "- `mytape` 라는 노트를 연다.\n",
    "\n",
    "(3) `a=x/2*3; y=a*x**2`: \n",
    "- 컴퓨터에게 보여줄 식(미분하고자 하는 식)\n",
    "\n",
    "(4) `mytape.__exit__(None,None,None)`: mytape라는 공책을 닫는다. \n",
    "- `mytape` 라는 노트를 닫는다.\n",
    "\n",
    "(5) `mytape.gradient(y,x)`: $y$를 $x$로 미분한다는 메모를 남겨 컴퓨터에 전달"
   ]
  },
  {
   "cell_type": "markdown",
   "id": "9ce2793f-ac22-4dcb-bfb5-8ae9e9ccc806",
   "metadata": {},
   "source": [
    "`-` 여기서 가장 중요한 것은 노트를 `언제 열고 닫는지`이다"
   ]
  },
  {
   "cell_type": "markdown",
   "id": "c11beb9e-a6c8-481e-92ac-87c7892446b9",
   "metadata": {},
   "source": [
    "`1)`"
   ]
  },
  {
   "cell_type": "code",
   "execution_count": 87,
   "id": "db6e69a0-6f3c-488d-b111-0db75a950260",
   "metadata": {},
   "outputs": [
    {
     "data": {
      "text/plain": [
       "<tf.Tensor: shape=(1,), dtype=float32, numpy=array([12.], dtype=float32)>"
      ]
     },
     "execution_count": 87,
     "metadata": {},
     "output_type": "execute_result"
    }
   ],
   "source": [
    "#1\n",
    "x=tf.Variable([2.0])\n",
    "a=x/2*3 # a=x*(3/2) -> a=3\n",
    "#2\n",
    "mytape=tf.GradientTape()\n",
    "#3\n",
    "mytape.__enter__()\n",
    "y=a*x**2 # y=3*x**2, a는 이미 3의 값을 가짐\n",
    "mytape.__exit__(None,None,None)\n",
    "#4\n",
    "mytape.gradient(y,x)"
   ]
  },
  {
   "cell_type": "markdown",
   "id": "831fdd7a-e1c0-4126-a0bb-38a79779c818",
   "metadata": {},
   "source": [
    "`2)`"
   ]
  },
  {
   "cell_type": "code",
   "execution_count": 89,
   "id": "b23dc442-f743-4e8c-9ad9-53cb15d2ada9",
   "metadata": {},
   "outputs": [
    {
     "data": {
      "text/plain": [
       "<tf.Tensor: shape=(1,), dtype=float32, numpy=array([18.], dtype=float32)>"
      ]
     },
     "execution_count": 89,
     "metadata": {},
     "output_type": "execute_result"
    }
   ],
   "source": [
    "#1\n",
    "x=tf.Variable([2.0])\n",
    "#2\n",
    "mytape=tf.GradientTape()\n",
    "#3\n",
    "mytape.__enter__()\n",
    "a=x/2*3 \n",
    "y=a*x**2 # a=(3*x)/2로 y=(3*x)/2*x**2\n",
    "mytape.__exit__(None,None,None)\n",
    "#4\n",
    "mytape.gradient(y,x)"
   ]
  },
  {
   "cell_type": "markdown",
   "id": "0f3e11c3-9cbf-41fa-850e-7e17a9323cba",
   "metadata": {},
   "source": [
    "- 이를 유심히 살펴보니, 코드가 뭔가 깔끔하지가 않음. 중복되는 것도 있어 보임.\n",
    "\n",
    "- 보다 깔끔하고 효율적인 코드가 필요! -> `with문`활용"
   ]
  },
  {
   "cell_type": "markdown",
   "id": "b93702e6-bcd0-42ee-b553-02fd7246d009",
   "metadata": {},
   "source": [
    "`-` 참고: `x=tf.constant([2])` float형으로 입력하지 않으면 오류!! `tf.Variable([2])`도 마찬가지"
   ]
  },
  {
   "cell_type": "code",
   "execution_count": 137,
   "id": "22b9367b-e8c1-45b6-be6d-83f3846235cc",
   "metadata": {},
   "outputs": [
    {
     "name": "stdout",
     "output_type": "stream",
     "text": [
      "WARNING:tensorflow:The dtype of the source tensor must be floating (e.g. tf.float32) when calling GradientTape.gradient, got tf.int32\n"
     ]
    }
   ],
   "source": [
    "#1\n",
    "x=tf.constant([2])\n",
    "#2\n",
    "mytape=tf.GradientTape()\n",
    "#3\n",
    "mytape.__enter__()\n",
    "a=x/2*3 \n",
    "y=a*x**2 # a=(3*x)/2로 y=(3*x)/2*x**2\n",
    "mytape.__exit__(None,None,None)\n",
    "#4\n",
    "mytape.gradient(y,x)"
   ]
  },
  {
   "cell_type": "code",
   "execution_count": 138,
   "id": "37c1d298-f22d-4673-8321-3df94138e2a8",
   "metadata": {},
   "outputs": [
    {
     "name": "stdout",
     "output_type": "stream",
     "text": [
      "WARNING:tensorflow:The dtype of the source tensor must be floating (e.g. tf.float32) when calling GradientTape.gradient, got tf.int32\n"
     ]
    }
   ],
   "source": [
    "#1\n",
    "x=tf.Variable([2])\n",
    "#2\n",
    "mytape=tf.GradientTape()\n",
    "#3\n",
    "mytape.__enter__()\n",
    "a=x/2*3 \n",
    "y=a*x**2 # a=(3*x)/2로 y=(3*x)/2*x**2\n",
    "mytape.__exit__(None,None,None)\n",
    "#4\n",
    "mytape.gradient(y,x)"
   ]
  },
  {
   "cell_type": "markdown",
   "id": "e4bd5569-d89b-4d4c-a9b7-ab641af7d607",
   "metadata": {},
   "source": [
    "#### with문을 활용한 tf.GradientTape()"
   ]
  },
  {
   "cell_type": "markdown",
   "id": "a27ea716-dab3-4a79-ac57-913c6bfb6e57",
   "metadata": {},
   "source": [
    "``` python\n",
    "with문 사용법:\n",
    "    with tf.GradientTape() as mytape:\n",
    "        컴퓨터에게 전달할 수식\n",
    " \n",
    "1. tf.GradientTape()를 실행하면 오브젝트가 하나 생성되는데 이를 mytape라고 지정한다.\n",
    "    기존에 mytape=tf.GradientTape()을 with tf.GradientTape as mytape으로 지정해준다. \n",
    "2. with문이 시작되면서 mytape.__enter__()이 실행\n",
    "3. 컴퓨터에게 전달한 수식 실행 \n",
    "4. with문이 끝나면서 mytape.__exit__(None,None,None)가 실행 \n",
    "```"
   ]
  },
  {
   "cell_type": "markdown",
   "id": "f0a400c4-748b-4d36-b511-9f6883e9e5b9",
   "metadata": {},
   "source": [
    "`-` with문 사용한 예제 풀이"
   ]
  },
  {
   "cell_type": "markdown",
   "id": "91e189eb-5008-4303-9652-bfa40aa12d8f",
   "metadata": {},
   "source": [
    "`1)`"
   ]
  },
  {
   "cell_type": "code",
   "execution_count": 98,
   "id": "983153a3-bed5-4963-92e1-6e4317446451",
   "metadata": {},
   "outputs": [
    {
     "data": {
      "text/plain": [
       "<tf.Tensor: shape=(1,), dtype=float32, numpy=array([12.], dtype=float32)>"
      ]
     },
     "execution_count": 98,
     "metadata": {},
     "output_type": "execute_result"
    }
   ],
   "source": [
    "x=tf.Variable([2.0])\n",
    "a=x/2*3 \n",
    "\n",
    "with tf.GradientTape() as mytape:\n",
    "    y=a*x**2\n",
    "\n",
    "mytape.gradient(y,x)"
   ]
  },
  {
   "cell_type": "markdown",
   "id": "61007adf-8d3a-45cc-b47c-318fe92b90f4",
   "metadata": {},
   "source": [
    "`2)`"
   ]
  },
  {
   "cell_type": "code",
   "execution_count": 101,
   "id": "8fa7512d-4aa3-4d2b-966f-18093f148e43",
   "metadata": {},
   "outputs": [
    {
     "data": {
      "text/plain": [
       "<tf.Tensor: shape=(1,), dtype=float32, numpy=array([18.], dtype=float32)>"
      ]
     },
     "execution_count": 101,
     "metadata": {},
     "output_type": "execute_result"
    }
   ],
   "source": [
    "x=tf.Variable([2.0])\n",
    "\n",
    "with tf.GradientTape() as mytape:\n",
    "    a=x/2*3\n",
    "    y=a*x**2\n",
    "    \n",
    "mytape.gradient(y,x)"
   ]
  },
  {
   "cell_type": "markdown",
   "id": "9fbcf6bc-dacc-404f-aa08-675a93b40eb6",
   "metadata": {},
   "source": [
    "`-` `persistent=True:` 계산한 값을 버리지 않는 기능으로 계속해서 출력할 수 있다"
   ]
  },
  {
   "cell_type": "code",
   "execution_count": 114,
   "id": "6711f5a2-e470-477c-8ab1-fe5dc7ef3584",
   "metadata": {},
   "outputs": [],
   "source": [
    "x=tf.Variable([2.0])\n",
    "a=x/2*3\n",
    "\n",
    "with tf.GradientTape() as mytape:\n",
    "    y=a*x**2"
   ]
  },
  {
   "cell_type": "code",
   "execution_count": 115,
   "id": "352c561e-0564-401d-9016-de965d8c2dec",
   "metadata": {},
   "outputs": [
    {
     "ename": "RuntimeError",
     "evalue": "A non-persistent GradientTape can only be used to compute one set of gradients (or jacobians)",
     "output_type": "error",
     "traceback": [
      "\u001b[1;31m---------------------------------------------------------------------------\u001b[0m",
      "\u001b[1;31mRuntimeError\u001b[0m                              Traceback (most recent call last)",
      "Input \u001b[1;32mIn [115]\u001b[0m, in \u001b[0;36m<cell line: 1>\u001b[1;34m()\u001b[0m\n\u001b[1;32m----> 1\u001b[0m mytape\u001b[38;5;241m.\u001b[39mgradient(y,x),\u001b[43mmytape\u001b[49m\u001b[38;5;241;43m.\u001b[39;49m\u001b[43mgradient\u001b[49m\u001b[43m(\u001b[49m\u001b[43my\u001b[49m\u001b[43m,\u001b[49m\u001b[43mx\u001b[49m\u001b[43m)\u001b[49m\n",
      "File \u001b[1;32m~\\anaconda3\\envs\\ds2022\\lib\\site-packages\\tensorflow\\python\\eager\\backprop.py:1029\u001b[0m, in \u001b[0;36mGradientTape.gradient\u001b[1;34m(self, target, sources, output_gradients, unconnected_gradients)\u001b[0m\n\u001b[0;32m    999\u001b[0m \u001b[38;5;124;03m\"\"\"Computes the gradient using operations recorded in context of this tape.\u001b[39;00m\n\u001b[0;32m   1000\u001b[0m \n\u001b[0;32m   1001\u001b[0m \u001b[38;5;124;03mNote: Unless you set `persistent=True` a GradientTape can only be used to\u001b[39;00m\n\u001b[1;32m   (...)\u001b[0m\n\u001b[0;32m   1026\u001b[0m \u001b[38;5;124;03m   called with an unknown value.\u001b[39;00m\n\u001b[0;32m   1027\u001b[0m \u001b[38;5;124;03m\"\"\"\u001b[39;00m\n\u001b[0;32m   1028\u001b[0m \u001b[38;5;28;01mif\u001b[39;00m \u001b[38;5;28mself\u001b[39m\u001b[38;5;241m.\u001b[39m_tape \u001b[38;5;129;01mis\u001b[39;00m \u001b[38;5;28;01mNone\u001b[39;00m:\n\u001b[1;32m-> 1029\u001b[0m   \u001b[38;5;28;01mraise\u001b[39;00m \u001b[38;5;167;01mRuntimeError\u001b[39;00m(\u001b[38;5;124m\"\u001b[39m\u001b[38;5;124mA non-persistent GradientTape can only be used to \u001b[39m\u001b[38;5;124m\"\u001b[39m\n\u001b[0;32m   1030\u001b[0m                      \u001b[38;5;124m\"\u001b[39m\u001b[38;5;124mcompute one set of gradients (or jacobians)\u001b[39m\u001b[38;5;124m\"\u001b[39m)\n\u001b[0;32m   1031\u001b[0m \u001b[38;5;28;01mif\u001b[39;00m \u001b[38;5;28mself\u001b[39m\u001b[38;5;241m.\u001b[39m_recording:\n\u001b[0;32m   1032\u001b[0m   \u001b[38;5;28;01mif\u001b[39;00m \u001b[38;5;129;01mnot\u001b[39;00m \u001b[38;5;28mself\u001b[39m\u001b[38;5;241m.\u001b[39m_persistent:\n",
      "\u001b[1;31mRuntimeError\u001b[0m: A non-persistent GradientTape can only be used to compute one set of gradients (or jacobians)"
     ]
    }
   ],
   "source": [
    "mytape.gradient(y,x),mytape.gradient(y,x)"
   ]
  },
  {
   "cell_type": "markdown",
   "id": "b8c5bdb5-4088-41ce-ae09-779a87a07c9b",
   "metadata": {},
   "source": [
    "- 두 번 실행하면 오류가 난다"
   ]
  },
  {
   "cell_type": "code",
   "execution_count": 118,
   "id": "021c9c16-3ec8-4a60-92ac-4c244842cdb8",
   "metadata": {},
   "outputs": [],
   "source": [
    "x=tf.Variable([2.0])\n",
    "a=x/2*3\n",
    "\n",
    "with tf.GradientTape(persistent=True) as mytape:\n",
    "    y=a*x**2"
   ]
  },
  {
   "cell_type": "code",
   "execution_count": 119,
   "id": "e83f9c6d-b07e-4f3c-ae22-c8bc0a425973",
   "metadata": {},
   "outputs": [
    {
     "data": {
      "text/plain": [
       "(<tf.Tensor: shape=(1,), dtype=float32, numpy=array([12.], dtype=float32)>,\n",
       " <tf.Tensor: shape=(1,), dtype=float32, numpy=array([12.], dtype=float32)>)"
      ]
     },
     "execution_count": 119,
     "metadata": {},
     "output_type": "execute_result"
    }
   ],
   "source": [
    "mytape.gradient(y,x),mytape.gradient(y,x)"
   ]
  },
  {
   "cell_type": "markdown",
   "id": "2ce78ff9-e2eb-498a-beb0-fb76608d71a5",
   "metadata": {},
   "source": [
    "- 오류 해결!"
   ]
  },
  {
   "cell_type": "markdown",
   "id": "7cf0610d-686d-4615-bf8e-7cf6bceb472b",
   "metadata": {},
   "source": [
    "`-` 미분계산에 사용할 변수($x$)를 tf.constant로 설정하면 계산이 되지 않는다."
   ]
  },
  {
   "cell_type": "code",
   "execution_count": 121,
   "id": "61c8fb0c-eac0-4d9b-842f-da67df6f0efd",
   "metadata": {},
   "outputs": [],
   "source": [
    "x=tf.constant([2.0])\n",
    "a=x/2*3\n",
    "\n",
    "with tf.GradientTape(persistent=True) as mytape:\n",
    "    y=a*x**2\n",
    "\n",
    "mytape.gradient(y,x)"
   ]
  },
  {
   "cell_type": "code",
   "execution_count": 122,
   "id": "3eda1c95-bcb0-40cb-8a8c-1b5b74645cb8",
   "metadata": {},
   "outputs": [
    {
     "name": "stdout",
     "output_type": "stream",
     "text": [
      "None\n"
     ]
    }
   ],
   "source": [
    "print(mytape.gradient(y,x))"
   ]
  },
  {
   "cell_type": "markdown",
   "id": "c62f11c5-3a7f-4342-8ba6-d4b2c2b54d82",
   "metadata": {},
   "source": [
    "- 미분계산에 사용할 변수는 `tf.Variable`로 설정해야 한다"
   ]
  },
  {
   "cell_type": "markdown",
   "id": "5adfb229-1e21-49cd-bf30-e3a5d64bed08",
   "metadata": {},
   "source": [
    "`-` 자동감시모드 & 수동감시모드"
   ]
  },
  {
   "cell_type": "markdown",
   "id": "ea8bb57c-114f-4820-8f32-2b4814160553",
   "metadata": {},
   "source": [
    "`-` 예시"
   ]
  },
  {
   "cell_type": "markdown",
   "id": "e90f4ad7-ff98-4d27-ba27-059648337555",
   "metadata": {},
   "source": [
    "`notename.watch(x):`를 사용하면 미분계산에 사용할 변수($x$)를 tf.constant()로 설정하였더라도 계산이 된다."
   ]
  },
  {
   "cell_type": "code",
   "execution_count": 123,
   "id": "055291d7-862d-4f70-82b0-1f55dd0dbbdd",
   "metadata": {},
   "outputs": [
    {
     "data": {
      "text/plain": [
       "<tf.Tensor: shape=(1,), dtype=float32, numpy=array([12.], dtype=float32)>"
      ]
     },
     "execution_count": 123,
     "metadata": {},
     "output_type": "execute_result"
    }
   ],
   "source": [
    "x=tf.constant([2.0])\n",
    "a=x/2*3\n",
    "\n",
    "with tf.GradientTape(persistent=True) as mytape:\n",
    "    mytape.watch(x)\n",
    "    y=a*x**2\n",
    "\n",
    "mytape.gradient(y,x)"
   ]
  },
  {
   "cell_type": "markdown",
   "id": "3307a9a4-ba01-4aa0-9d69-6eb2d96cb7a6",
   "metadata": {},
   "source": [
    "- 계산이 되었음 !"
   ]
  },
  {
   "cell_type": "markdown",
   "id": "e2f9a3c0-aa5d-46de-b138-4b0202292c77",
   "metadata": {},
   "source": [
    "``` python\n",
    "tf.Variable(): 자동감시모드\n",
    "tf.constant(): 감시 X\n",
    "`notename.watch(감시할 변수)`사용: (감시할 변수에 대한) 수동감시모드\n",
    "```"
   ]
  },
  {
   "cell_type": "markdown",
   "id": "7414e16e-02ae-4c42-92a8-1fe158c385b5",
   "metadata": {},
   "source": [
    "`-` 자동감시모드(기존)"
   ]
  },
  {
   "cell_type": "code",
   "execution_count": 125,
   "id": "637dbc2e-6785-4849-be5f-cc2d69dd457d",
   "metadata": {},
   "outputs": [
    {
     "data": {
      "text/plain": [
       "<tf.Tensor: shape=(1,), dtype=float32, numpy=array([12.], dtype=float32)>"
      ]
     },
     "execution_count": 125,
     "metadata": {},
     "output_type": "execute_result"
    }
   ],
   "source": [
    "x=tf.Variable([2.0])\n",
    "a=x/2*3\n",
    "\n",
    "with tf.GradientTape(persistent=True) as mytape:\n",
    "    y=a*x**2\n",
    "\n",
    "mytape.gradient(y,x)"
   ]
  },
  {
   "cell_type": "markdown",
   "id": "5b8f69ea-9162-4e23-b66e-df68e4c20c4c",
   "metadata": {},
   "source": [
    "`-` 자동감시모드 off \n",
    ": `watch_accessed_variables=False` 사용"
   ]
  },
  {
   "cell_type": "code",
   "execution_count": 126,
   "id": "12332600-b423-4aca-8ac2-9027286d2acc",
   "metadata": {},
   "outputs": [],
   "source": [
    "x=tf.Variable([2.0])\n",
    "a=x/2*3\n",
    "\n",
    "with tf.GradientTape(persistent=True,watch_accessed_variables=False) as mytape:\n",
    "    y=a*x**2\n",
    "\n",
    "mytape.gradient(y,x)"
   ]
  },
  {
   "cell_type": "markdown",
   "id": "d08289ab-5ef4-416b-84b3-30f47e7e5d8f",
   "metadata": {},
   "source": [
    "`-` 수동감시모드"
   ]
  },
  {
   "cell_type": "code",
   "execution_count": 134,
   "id": "72558ac1-5bf7-4ade-a70a-855741600e95",
   "metadata": {},
   "outputs": [
    {
     "data": {
      "text/plain": [
       "<tf.Tensor: shape=(1,), dtype=float32, numpy=array([12.], dtype=float32)>"
      ]
     },
     "execution_count": 134,
     "metadata": {},
     "output_type": "execute_result"
    }
   ],
   "source": [
    "x=tf.constant([2.0])\n",
    "a=x/2*3\n",
    "\n",
    "with tf.GradientTape(persistent=True) as mytape:\n",
    "    mytape.watch(x) # 수동감시\n",
    "    y=a*x**2\n",
    "\n",
    "mytape.gradient(y,x)"
   ]
  },
  {
   "cell_type": "markdown",
   "id": "5c3d6005-f504-4dc3-a0a2-49c5e9a5416d",
   "metadata": {},
   "source": [
    "`-` 자동감시모드 -> 자동감시모드 off -> 수동감시 ON"
   ]
  },
  {
   "cell_type": "code",
   "execution_count": 132,
   "id": "408cd4fd-6415-4e12-a73d-1547a5613c51",
   "metadata": {},
   "outputs": [
    {
     "data": {
      "text/plain": [
       "<tf.Tensor: shape=(1,), dtype=float32, numpy=array([12.], dtype=float32)>"
      ]
     },
     "execution_count": 132,
     "metadata": {},
     "output_type": "execute_result"
    }
   ],
   "source": [
    "x=tf.Variable([2.0])\n",
    "a=x/2*3\n",
    "\n",
    "with tf.GradientTape(persistent=True,watch_accessed_variables=False) as mytape:\n",
    "    mytape.watch(x)\n",
    "    y=a*x**2\n",
    "\n",
    "mytape.gradient(y,x)"
   ]
  },
  {
   "cell_type": "markdown",
   "id": "d7926d1f-05b9-4381-abd2-a2055ef6dcab",
   "metadata": {},
   "source": [
    "- 가능!"
   ]
  },
  {
   "cell_type": "markdown",
   "id": "cc130eb8-5d12-4256-a87e-0483b754430a",
   "metadata": {},
   "source": [
    "- 헷갈리면 언제나 mytape.watch(변수)를 명시해도 괜찮음!\n",
    "- 오류가 나는 것은 아니니!"
   ]
  },
  {
   "cell_type": "markdown",
   "id": "ae79bc5a-dd74-40ef-ade7-f542efeac002",
   "metadata": {},
   "source": [
    "#### 추가학습"
   ]
  },
  {
   "cell_type": "markdown",
   "id": "c121097c-7e7b-4467-9b47-ac2718ba9995",
   "metadata": {},
   "source": [
    "`-` tf.GradientTape( )를 이용하여 $y=x^2$에서 $x=0$에서의 접선의 기울기를 구하라."
   ]
  },
  {
   "cell_type": "code",
   "execution_count": 147,
   "id": "75854a85-c3c5-40af-b697-25bbd39f9c57",
   "metadata": {},
   "outputs": [
    {
     "data": {
      "text/plain": [
       "<tf.Tensor: shape=(1,), dtype=float32, numpy=array([0.], dtype=float32)>"
      ]
     },
     "execution_count": 147,
     "metadata": {},
     "output_type": "execute_result"
    }
   ],
   "source": [
    "x=tf.constant([0.0])\n",
    "with tf.GradientTape(persistent=True) as mytape:\n",
    "    mytape.watch(x)\n",
    "    y=x**2\n",
    "    \n",
    "mytape.gradient(y,x)"
   ]
  }
 ],
 "metadata": {
  "kernelspec": {
   "display_name": "Python 3 (ipykernel)",
   "language": "python",
   "name": "python3"
  },
  "language_info": {
   "codemirror_mode": {
    "name": "ipython",
    "version": 3
   },
   "file_extension": ".py",
   "mimetype": "text/x-python",
   "name": "python",
   "nbconvert_exporter": "python",
   "pygments_lexer": "ipython3",
   "version": "3.8.12"
  }
 },
 "nbformat": 4,
 "nbformat_minor": 5
}
