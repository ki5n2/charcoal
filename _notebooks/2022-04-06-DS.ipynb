{
 "cells": [
  {
   "cell_type": "markdown",
   "id": "32114ce8-3856-40b5-84b0-257336bc021b",
   "metadata": {},
   "source": [
    "# DS 6. 회귀분석문제 풀이, GradientTape를 이용한 풀이, GradientTape + opt.apply_gradients를 이용한 풀이, opt.minimize를 이용한 풀이, tf.keras.Sequential\n",
    "\n",
    "> \"작성완료\"\n",
    "\n",
    "- toc: true\n",
    "- branch: master\n",
    "- badges: true\n",
    "- comments: true\n",
    "- [python, Data Science]"
   ]
  },
  {
   "cell_type": "markdown",
   "id": "84412be2-ca92-4681-b723-a3984a64272d",
   "metadata": {},
   "source": [
    "---\n",
    "# Data Science\n",
    "- lenture: Data Science_5-2nd week of lectures.\n",
    "- lenture date: 2022-04-04\n",
    "- lecturer: Guebin choi\n",
    "- study date: 2022-04-06\n",
    "- author: Kione kim\n",
    "---"
   ]
  },
  {
   "cell_type": "code",
   "execution_count": 1,
   "id": "8eacd199-29e7-4a95-ba7b-95336e74d336",
   "metadata": {},
   "outputs": [],
   "source": [
    "# !conda install -c conda-forge python-graphviz -y"
   ]
  },
  {
   "cell_type": "code",
   "execution_count": 2,
   "id": "b84b5e66-ace7-4ec7-a58e-326aa18fcc6c",
   "metadata": {},
   "outputs": [],
   "source": [
    "import tensorflow as tf\n",
    "import numpy as np\n",
    "import matplotlib.pyplot as plt"
   ]
  },
  {
   "cell_type": "code",
   "execution_count": 3,
   "id": "69c74b0e-7c98-4497-a2f3-a2fed2d43dae",
   "metadata": {},
   "outputs": [],
   "source": [
    "import tensorflow.experimental.numpy as tnp"
   ]
  },
  {
   "cell_type": "code",
   "execution_count": 4,
   "id": "ac9c7295-c501-43e7-9578-b2bec90db7a3",
   "metadata": {},
   "outputs": [],
   "source": [
    "tnp.experimental_enable_numpy_behavior()"
   ]
  },
  {
   "cell_type": "markdown",
   "id": "03499afe-1a7d-40ea-9d27-c5eaa884ff30",
   "metadata": {},
   "source": [
    "## 회귀분석 문제"
   ]
  },
  {
   "cell_type": "markdown",
   "id": "67009cad-d6a8-41de-8f68-b285b613d318",
   "metadata": {},
   "source": [
    "`-` ${\\bf y} \\approx 4 + 2.5 {\\bf x}$"
   ]
  },
  {
   "cell_type": "code",
   "execution_count": 25,
   "id": "c5825319-6d2a-4727-83d8-97184d1c2c11",
   "metadata": {},
   "outputs": [],
   "source": [
    "tnp.random.seed(50000)\n",
    "N = 200\n",
    "x = tnp.linspace(0,1,N) \n",
    "epsilon = tnp.random.randn(N)*0.5\n",
    "y = 2.5+4*x + epsilon\n",
    "y_true = 2.5+4*x"
   ]
  },
  {
   "cell_type": "code",
   "execution_count": 26,
   "id": "b71ca02f-f374-465c-9830-6bb389ef42ac",
   "metadata": {},
   "outputs": [
    {
     "data": {
      "text/plain": [
       "[<matplotlib.lines.Line2D at 0x264896df2b0>]"
      ]
     },
     "execution_count": 26,
     "metadata": {},
     "output_type": "execute_result"
    },
    {
     "data": {
      "image/png": "[encoded data removed]",
      "text/plain": [
       "<Figure size 432x288 with 1 Axes>"
      ]
     },
     "metadata": {
      "needs_background": "light"
     },
     "output_type": "display_data"
    }
   ],
   "source": [
    "plt.plot(x,y,'.')\n",
    "plt.plot(x,y_true,'r--')"
   ]
  },
  {
   "cell_type": "markdown",
   "id": "cb455248-c56f-4a40-9e72-e42255b2684c",
   "metadata": {
    "tags": []
   },
   "source": [
    "---\n",
    "### 이론적 풀이\n",
    "`-` 지난 시간: 풀이1 ~ 풀이3"
   ]
  },
  {
   "cell_type": "markdown",
   "id": "cc680636-f066-4d98-b646-301fc988e02c",
   "metadata": {
    "tags": []
   },
   "source": [
    "#### 풀이1: 스칼라버전"
   ]
  },
  {
   "cell_type": "markdown",
   "id": "10c797e8-7712-4e06-8c14-13313aa72354",
   "metadata": {},
   "source": [
    "`-` 포인트 \n",
    "- $S_{xx}=$, $S_{xy}=$\n",
    "- $\\hat{\\beta}_0=$, $\\hat{\\beta}_1=$"
   ]
  },
  {
   "cell_type": "code",
   "execution_count": 10,
   "id": "802bd12e-a9d5-4fc7-be79-b58caafcefc0",
   "metadata": {},
   "outputs": [
    {
     "data": {
      "text/plain": [
       "(TensorShape([200]), TensorShape([200]))"
      ]
     },
     "execution_count": 10,
     "metadata": {},
     "output_type": "execute_result"
    }
   ],
   "source": [
    "x.shape,y.shape"
   ]
  },
  {
   "cell_type": "code",
   "execution_count": 11,
   "id": "3a8d4483-13a3-4a67-bdf1-f937c5ceba5e",
   "metadata": {},
   "outputs": [],
   "source": [
    "Sxx=sum((x-x.mean())**2)\n",
    "Sxy=sum((x-x.mean())*(y-y.mean()))"
   ]
  },
  {
   "cell_type": "code",
   "execution_count": 12,
   "id": "12b596f9-d1b7-4066-ae52-3b11e24b1554",
   "metadata": {},
   "outputs": [],
   "source": [
    "beta1_hat = Sxy/Sxx\n",
    "beta0_hat = y.mean() - beta1_hat *x.mean()"
   ]
  },
  {
   "cell_type": "code",
   "execution_count": 13,
   "id": "d2972df9-c1e4-4f63-87e2-1b24ef4898ae",
   "metadata": {},
   "outputs": [
    {
     "data": {
      "text/plain": [
       "(<tf.Tensor: shape=(), dtype=float64, numpy=2.4904666055923816>,\n",
       " <tf.Tensor: shape=(), dtype=float64, numpy=4.100304074383147>)"
      ]
     },
     "execution_count": 13,
     "metadata": {},
     "output_type": "execute_result"
    }
   ],
   "source": [
    "beta0_hat, beta1_hat"
   ]
  },
  {
   "cell_type": "markdown",
   "id": "e571552a-748b-413f-a470-d5fa5baff10e",
   "metadata": {
    "tags": []
   },
   "source": [
    "#### 풀이2: 벡터버전"
   ]
  },
  {
   "cell_type": "markdown",
   "id": "1c832d36-6d57-4b9f-b405-cbed2cecae39",
   "metadata": {},
   "source": [
    "`-` 포인트\n",
    "- $\\hat{\\beta}=(X'X)^{-1}X'y$"
   ]
  },
  {
   "cell_type": "code",
   "execution_count": 14,
   "id": "910a1be3-fbcb-4ca9-b6ca-f327f4582b28",
   "metadata": {},
   "outputs": [],
   "source": [
    "X=tf.stack([tf.ones(N,dtype='float64'),x],axis=1)\n",
    "y=y.reshape(N,1) "
   ]
  },
  {
   "cell_type": "code",
   "execution_count": 15,
   "id": "f35fa171-f974-4493-b84e-79b394690579",
   "metadata": {},
   "outputs": [
    {
     "data": {
      "text/plain": [
       "(TensorShape([200, 2]), TensorShape([200, 1]))"
      ]
     },
     "execution_count": 15,
     "metadata": {},
     "output_type": "execute_result"
    }
   ],
   "source": [
    "X.shape,y.shape"
   ]
  },
  {
   "cell_type": "code",
   "execution_count": 16,
   "id": "dffd8a45-381b-4311-8ffe-7b0c6452d69c",
   "metadata": {},
   "outputs": [
    {
     "data": {
      "text/plain": [
       "<tf.Tensor: shape=(2, 1), dtype=float64, numpy=\n",
       "array([[2.49046661],\n",
       "       [4.10030407]])>"
      ]
     },
     "execution_count": 16,
     "metadata": {},
     "output_type": "execute_result"
    }
   ],
   "source": [
    "tf.linalg.inv(X.T @ X) @ X.T @ y"
   ]
  },
  {
   "cell_type": "markdown",
   "id": "331cab28-1356-4bbb-aead-dcfbf31d94eb",
   "metadata": {
    "tags": []
   },
   "source": [
    "#### 풀이3: 벡터버전, 손실함수의 도함수이용 "
   ]
  },
  {
   "cell_type": "markdown",
   "id": "e658279e-7e8d-43f0-ac41-ea07123c2c1f",
   "metadata": {},
   "source": [
    "`-` 포인트\n",
    "- $loss'(\\beta)=-2X'y +2X'X\\beta$\n",
    "- $\\beta_{new} = \\beta_{old} - \\alpha \\times loss'(\\beta_{old})$"
   ]
  },
  {
   "cell_type": "code",
   "execution_count": 17,
   "id": "b1de8439-f041-4122-a9a6-6d8ed106a0d0",
   "metadata": {},
   "outputs": [
    {
     "data": {
      "text/plain": [
       "(TensorShape([200, 2]), TensorShape([200, 1]))"
      ]
     },
     "execution_count": 17,
     "metadata": {},
     "output_type": "execute_result"
    }
   ],
   "source": [
    "y=y.reshape(N,1)\n",
    "X.shape,y.shape"
   ]
  },
  {
   "cell_type": "code",
   "execution_count": 18,
   "id": "98e023e5-229d-4a45-b2f4-85d8ad0f40eb",
   "metadata": {},
   "outputs": [
    {
     "data": {
      "text/plain": [
       "<tf.Tensor: shape=(2, 1), dtype=int32, numpy=\n",
       "array([[-5],\n",
       "       [10]])>"
      ]
     },
     "execution_count": 18,
     "metadata": {},
     "output_type": "execute_result"
    }
   ],
   "source": [
    "beta_hat = tnp.array([-5,10]).reshape(2,1)\n",
    "beta_hat"
   ]
  },
  {
   "cell_type": "code",
   "execution_count": 19,
   "id": "e3781255-0c0c-4167-a214-629c41ff3162",
   "metadata": {},
   "outputs": [],
   "source": [
    "alpha=0.1"
   ]
  },
  {
   "cell_type": "markdown",
   "id": "8ab28775-2535-4f32-9c3f-57c340476aff",
   "metadata": {},
   "source": [
    "$loss'(\\beta) = -2X'y+2X'X\\beta$"
   ]
  },
  {
   "cell_type": "code",
   "execution_count": 20,
   "id": "27024d69-abe8-440e-82b1-18f57980c6c2",
   "metadata": {},
   "outputs": [
    {
     "data": {
      "text/plain": [
       "<tf.Tensor: shape=(2, 1), dtype=float64, numpy=\n",
       "array([[-1816.24745711],\n",
       "       [ -709.49075016]])>"
      ]
     },
     "execution_count": 20,
     "metadata": {},
     "output_type": "execute_result"
    }
   ],
   "source": [
    "slope = -2*X.T @ y + 2*X.T@ X @ beta_hat \n",
    "slope"
   ]
  },
  {
   "cell_type": "code",
   "execution_count": 21,
   "id": "8f92cab5-fb4a-4063-8515-50d24adc85e2",
   "metadata": {},
   "outputs": [
    {
     "data": {
      "text/plain": [
       "<tf.Tensor: shape=(2, 1), dtype=float64, numpy=\n",
       "array([[181.62474571],\n",
       "       [ 70.94907502]])>"
      ]
     },
     "execution_count": 21,
     "metadata": {},
     "output_type": "execute_result"
    }
   ],
   "source": [
    "step = - alpha*slope\n",
    "step "
   ]
  },
  {
   "cell_type": "code",
   "execution_count": 22,
   "id": "e1a80c38-793c-4a2a-9f58-d609fac4b308",
   "metadata": {},
   "outputs": [],
   "source": [
    "for epoc in range(1000):\n",
    "    slope = (-2*X.T @ y + 2*X.T@ X @ beta_hat)/N\n",
    "    step = - alpha * slope\n",
    "    beta_hat = beta_hat + step "
   ]
  },
  {
   "cell_type": "code",
   "execution_count": 23,
   "id": "6a3202d7-5295-4dab-88f1-feecfcd20809",
   "metadata": {},
   "outputs": [
    {
     "data": {
      "text/plain": [
       "<tf.Tensor: shape=(2, 1), dtype=float64, numpy=\n",
       "array([[2.49046015],\n",
       "       [4.10031613]])>"
      ]
     },
     "execution_count": 23,
     "metadata": {},
     "output_type": "execute_result"
    }
   ],
   "source": [
    "beta_hat"
   ]
  },
  {
   "cell_type": "code",
   "execution_count": 24,
   "id": "a71bc1e9-aafd-47ab-b0a6-f274801d5e8b",
   "metadata": {},
   "outputs": [
    {
     "data": {
      "text/plain": [
       "[<matplotlib.lines.Line2D at 0x264896a74f0>]"
      ]
     },
     "execution_count": 24,
     "metadata": {},
     "output_type": "execute_result"
    },
    {
     "data": {
      "image/png": "[encoded data removed]",
      "text/plain": [
       "<Figure size 432x288 with 1 Axes>"
      ]
     },
     "metadata": {
      "needs_background": "light"
     },
     "output_type": "display_data"
    }
   ],
   "source": [
    "plt.plot(x,y,'.') \n",
    "plt.plot(x,y_true,'r--')\n",
    "plt.plot(x,X@beta_hat,'b--')"
   ]
  },
  {
   "cell_type": "markdown",
   "id": "66edbcea-9050-4d48-9449-2686c2d02cf2",
   "metadata": {},
   "source": [
    "---\n",
    "### GradientTape를 이용한 풀이"
   ]
  },
  {
   "cell_type": "markdown",
   "id": "7a5bdec9-464e-4199-a072-80ea91b1de6b",
   "metadata": {},
   "source": [
    "`-` 포인트\n",
    "```python\n",
    "# 포인트 1: 그레디언트 테입  \n",
    "with tf.GradientTape() as tape: \n",
    "    loss = (y-yhat).T @ (y-yhat) \n",
    "# 포인트 2: 미분 \n",
    "slope = tape.gradient(loss,beta_hat) \n",
    "# 포인트 3: update \n",
    "beta_hat.assign_sub(slope*alph) \n",
    "```"
   ]
  },
  {
   "cell_type": "markdown",
   "id": "9d95937e-5d7e-4a16-9b52-38d4ab63c1a8",
   "metadata": {},
   "source": [
    "#### 풀이1: 벡터버전"
   ]
  },
  {
   "cell_type": "markdown",
   "id": "8b7d9035-f7b7-443c-80f9-d852cd0accb2",
   "metadata": {},
   "source": [
    "`-` 선언"
   ]
  },
  {
   "cell_type": "code",
   "execution_count": 77,
   "id": "d7299778-348b-4110-9ca6-c1e4da4308dd",
   "metadata": {},
   "outputs": [],
   "source": [
    "tnp.random.seed(50000)\n",
    "N = 200\n",
    "x = tnp.linspace(0,1,N) \n",
    "epsilon = tnp.random.randn(N)*0.5\n",
    "y = 2.5+4*x + epsilon\n",
    "y_true = 2.5+4*x"
   ]
  },
  {
   "cell_type": "code",
   "execution_count": 78,
   "id": "278259a2-4ea0-4c16-9d35-cd26f7964ab3",
   "metadata": {},
   "outputs": [],
   "source": [
    "X=tf.stack([tf.ones(N,dtype='float64'),x],axis=1)\n",
    "y=y.reshape(N,1) "
   ]
  },
  {
   "cell_type": "code",
   "execution_count": 79,
   "id": "fbb2c3a0-a32e-449d-9b57-50b4e61afb49",
   "metadata": {},
   "outputs": [
    {
     "data": {
      "text/plain": [
       "(TensorShape([200, 2]), TensorShape([200, 1]))"
      ]
     },
     "execution_count": 79,
     "metadata": {},
     "output_type": "execute_result"
    }
   ],
   "source": [
    "X.shape,y.shape"
   ]
  },
  {
   "cell_type": "code",
   "execution_count": 80,
   "id": "de2f9a31-6559-41a8-9074-9d3f009a7f3b",
   "metadata": {},
   "outputs": [
    {
     "data": {
      "text/plain": [
       "<tf.Tensor: shape=(2, 1), dtype=float64, numpy=\n",
       "array([[ -5.],\n",
       "       [-10.]])>"
      ]
     },
     "execution_count": 80,
     "metadata": {},
     "output_type": "execute_result"
    }
   ],
   "source": [
    "tnp.array([-5.0,-10.0]).reshape(2,1)"
   ]
  },
  {
   "cell_type": "markdown",
   "id": "e285b1c6-4999-457b-8555-3202fedf3b29",
   "metadata": {},
   "source": [
    "`-` 임의의 beta_hat 선언"
   ]
  },
  {
   "cell_type": "code",
   "execution_count": 81,
   "id": "7b4c2a3b-171b-45c3-94af-131dda075fbd",
   "metadata": {},
   "outputs": [
    {
     "data": {
      "text/plain": [
       "<tf.Variable 'Variable:0' shape=(2, 1) dtype=float64, numpy=\n",
       "array([[ -5.],\n",
       "       [-10.]])>"
      ]
     },
     "execution_count": 81,
     "metadata": {},
     "output_type": "execute_result"
    }
   ],
   "source": [
    "beta_hat = tf.Variable(tnp.array([-5.0,-10.0]).reshape(2,1))\n",
    "beta_hat"
   ]
  },
  {
   "cell_type": "code",
   "execution_count": 82,
   "id": "f3466e79-48b6-4408-95e1-3380f55f6636",
   "metadata": {},
   "outputs": [],
   "source": [
    "alpha=0.1"
   ]
  },
  {
   "cell_type": "code",
   "execution_count": 83,
   "id": "90db0ba9-34f9-4432-b08d-8c3fb1c723f1",
   "metadata": {},
   "outputs": [],
   "source": [
    "with tf.GradientTape(persistent=True) as tape:\n",
    "    # tape.watch(beta_hat)\n",
    "    yhat= X @ beta_hat\n",
    "    loss= (y- yhat).T @ (y - yhat) /N"
   ]
  },
  {
   "cell_type": "markdown",
   "id": "43aafc44-a611-4162-bfb1-a5c19cb3cb30",
   "metadata": {},
   "source": [
    "- loss를 SSE를 N으로 나눈 MSE를 사용함!\n",
    "- SSE를 최소화하는 $beta$값이나 SSE를 N으로 나눈 MSE를 최소화 하는 $beta$값이랑 같기 때문에 MSE를 사용!\n",
    "- 보통 SSE를 사용하긴 하지만, 머신러닝 & 딮러닝에선 MSE를 많이 사용함!\n",
    "- MSE를 사용함으로써 loss값이 N으로 나눈 만큼 작아지기 때문에 alpha값을 지난 시간보다 키웠음 !"
   ]
  },
  {
   "cell_type": "code",
   "execution_count": 84,
   "id": "2e390f81-c6e1-4283-9bd5-2fd09e9ec62b",
   "metadata": {},
   "outputs": [
    {
     "data": {
      "text/plain": [
       "<tf.Tensor: shape=(2, 1), dtype=float64, numpy=\n",
       "array([[-29.08123729],\n",
       "       [-16.91428792]])>"
      ]
     },
     "execution_count": 84,
     "metadata": {},
     "output_type": "execute_result"
    }
   ],
   "source": [
    "tape.gradient(loss,beta_hat) # loss를 beta_hat으로 미분"
   ]
  },
  {
   "cell_type": "markdown",
   "id": "8476e7ad-52dc-43d8-857d-8bef961769fd",
   "metadata": {},
   "source": [
    "- 미분 값 -> slope"
   ]
  },
  {
   "cell_type": "markdown",
   "id": "81cd23d0-f210-4bb1-bd06-679ee4bc151e",
   "metadata": {},
   "source": [
    "`-` 반복"
   ]
  },
  {
   "cell_type": "code",
   "execution_count": 85,
   "id": "0663d7a1-875f-43c7-8386-937c725f442c",
   "metadata": {},
   "outputs": [],
   "source": [
    "alpha=0.1"
   ]
  },
  {
   "cell_type": "code",
   "execution_count": 86,
   "id": "1abc3f54-f158-4811-b3a2-fb366c4f336b",
   "metadata": {},
   "outputs": [],
   "source": [
    "for epoc in range(1000):\n",
    "    with tf.GradientTape(persistent=True) as tape:\n",
    "        yhat=X@beta_hat\n",
    "        loss=(y-yhat).T @ (y-yhat) / N\n",
    "    slope= tape.gradient(loss,beta_hat)\n",
    "    beta_hat.assign_sub(slope*alpha)"
   ]
  },
  {
   "cell_type": "code",
   "execution_count": 87,
   "id": "6dede451-d329-417c-9832-eb2f0c7e362d",
   "metadata": {},
   "outputs": [
    {
     "data": {
      "text/plain": [
       "<tf.Variable 'Variable:0' shape=(2, 1) dtype=float64, numpy=\n",
       "array([[2.49047318],\n",
       "       [4.1002918 ]])>"
      ]
     },
     "execution_count": 87,
     "metadata": {},
     "output_type": "execute_result"
    }
   ],
   "source": [
    "beta_hat"
   ]
  },
  {
   "cell_type": "markdown",
   "id": "b7d4c827-0eb7-416e-8910-3d264b244c57",
   "metadata": {},
   "source": [
    "- 풀이1~3에서 구한 $\\beta$ 값과 같음"
   ]
  },
  {
   "cell_type": "markdown",
   "id": "5a13c4e7-9797-48d5-9c34-e8ff6c29366e",
   "metadata": {},
   "source": [
    "#### 풀이2: 스칼라버전"
   ]
  },
  {
   "cell_type": "markdown",
   "id": "545595ff-10a3-45d8-a367-8b61686a02c1",
   "metadata": {},
   "source": [
    "`-` 포인트\n",
    "```python\n",
    "# 포인트 : 미분\n",
    "slope0, slope1 = tape.gradient(loss,[beta0_hat,beta1_hat])\n",
    "```"
   ]
  },
  {
   "cell_type": "code",
   "execution_count": 106,
   "id": "566fa144-e1d5-402e-a700-a3861259b116",
   "metadata": {},
   "outputs": [],
   "source": [
    "tnp.random.seed(50000)\n",
    "N = 200\n",
    "x = tnp.linspace(0,1,N) \n",
    "epsilon = tnp.random.randn(N)*0.5\n",
    "y = 2.5+4*x + epsilon\n",
    "y_true = 2.5+4*x"
   ]
  },
  {
   "cell_type": "code",
   "execution_count": 107,
   "id": "4485a937-f905-4772-8ebe-68aab3f278ad",
   "metadata": {},
   "outputs": [
    {
     "data": {
      "text/plain": [
       "(TensorShape([200]), TensorShape([200]))"
      ]
     },
     "execution_count": 107,
     "metadata": {},
     "output_type": "execute_result"
    }
   ],
   "source": [
    "x.shape,y.shape"
   ]
  },
  {
   "cell_type": "code",
   "execution_count": 108,
   "id": "ca140b3b-10fb-437f-b63f-2aecb3f5499c",
   "metadata": {},
   "outputs": [],
   "source": [
    "beta0_hat= tf.Variable(-5.0)\n",
    "beta1_hat= tf.Variable(-10.0)"
   ]
  },
  {
   "cell_type": "code",
   "execution_count": 109,
   "id": "9ca26711-d472-419b-a82c-2cc9f74683df",
   "metadata": {},
   "outputs": [],
   "source": [
    "alpha=0.1"
   ]
  },
  {
   "cell_type": "code",
   "execution_count": 112,
   "id": "2d516eed-5b94-470c-9866-add89932ca1d",
   "metadata": {},
   "outputs": [],
   "source": [
    "for epoc in range(1000):\n",
    "    with tf.GradientTape(persistent=True) as tape:\n",
    "        yhat= beta0_hat + beta1_hat*x\n",
    "        loss= sum((y-yhat)**2) / N\n",
    "    slope0, slope1= tape.gradient(loss,[beta0_hat,beta1_hat])\n",
    "    beta0_hat.assign_sub(slope0*alpha)\n",
    "    beta1_hat.assign_sub(slope1*alpha)"
   ]
  },
  {
   "cell_type": "code",
   "execution_count": 115,
   "id": "34941eaf-f580-4a21-ace8-c0c26ef7173a",
   "metadata": {},
   "outputs": [
    {
     "data": {
      "text/plain": [
       "(<tf.Variable 'Variable:0' shape=() dtype=float32, numpy=2.4904754>,\n",
       " <tf.Variable 'Variable:0' shape=() dtype=float32, numpy=4.1002874>)"
      ]
     },
     "execution_count": 115,
     "metadata": {},
     "output_type": "execute_result"
    }
   ],
   "source": [
    "(beta0_hat,beta1_hat)"
   ]
  },
  {
   "cell_type": "markdown",
   "id": "f2070695-55df-43a1-8773-c0b630afa402",
   "metadata": {},
   "source": [
    "``` python\n",
    "for epoc in range(1000):\n",
    "    with tf.GradientTape(persistent=True) as tape:\n",
    "        yhat= ,,,\n",
    "        loss= ,,,\n",
    "    slope0, slope1= tape.gradient(loss,[beta0_hat,beta1_hat])\n",
    "    beta0_hat.assign_sub(slope0*alpha)\n",
    "    beta1_hat.assign_sub(slope1*alpha)\n",
    "\n",
    ": 1. loss를 beta0, beta1으로 각각 미분 -> 미분 값 2개 나오는데, beta0로 미분해준 값을 slope0로, beta1로 미분해준 값을 slope1로 받아줌!! \n",
    "  2. beta0_hat, beta1_hat값을 각각 변경!\n",
    "```"
   ]
  },
  {
   "cell_type": "markdown",
   "id": "d387a023-c5fd-414d-a538-8de6b0ce2eb1",
   "metadata": {},
   "source": [
    "- 코드에는 문제없지만, 시간이 매우 오래걸림..! \n",
    "- 다음과 같이 코딩하는 것이 훨씬 빠름!"
   ]
  },
  {
   "cell_type": "markdown",
   "id": "bd009770-ba99-4249-93c1-239e5d419308",
   "metadata": {},
   "source": [
    "`-` `sum()` 대신 `tf.reduce_sum` 사용!"
   ]
  },
  {
   "cell_type": "code",
   "execution_count": 114,
   "id": "261a25ea-5452-4929-966b-169470a09724",
   "metadata": {},
   "outputs": [],
   "source": [
    "for epoc in range(1000):\n",
    "    with tf.GradientTape(persistent=True) as tape:\n",
    "        yhat= beta0_hat + beta1_hat*x\n",
    "        loss= tf.reduce_sum((y-yhat)**2) / N\n",
    "    slope0, slope1= tape.gradient(loss,[beta0_hat,beta1_hat])\n",
    "    beta0_hat.assign_sub(slope0*alpha)\n",
    "    beta1_hat.assign_sub(slope1*alpha)"
   ]
  },
  {
   "cell_type": "code",
   "execution_count": 116,
   "id": "18722d73-f9e8-47c0-8eae-dafbc0ae751b",
   "metadata": {},
   "outputs": [
    {
     "data": {
      "text/plain": [
       "(<tf.Variable 'Variable:0' shape=() dtype=float32, numpy=2.4904754>,\n",
       " <tf.Variable 'Variable:0' shape=() dtype=float32, numpy=4.1002874>)"
      ]
     },
     "execution_count": 116,
     "metadata": {},
     "output_type": "execute_result"
    }
   ],
   "source": [
    "(beta0_hat,beta1_hat)"
   ]
  },
  {
   "cell_type": "markdown",
   "id": "5d7aca95-241f-415d-8c92-1c247ec2d43a",
   "metadata": {},
   "source": [
    "### GradientTape + opt.apply_gradients를 이용한 풀이"
   ]
  },
  {
   "cell_type": "markdown",
   "id": "05cc7304-fdb7-48f4-b7d6-25b4a1d4c88b",
   "metadata": {},
   "source": [
    "#### 풀이1: 벡터버전"
   ]
  },
  {
   "cell_type": "markdown",
   "id": "19f921cd-6241-40ca-836c-c723be08d2b4",
   "metadata": {},
   "source": [
    "`-` 포인트 \n",
    "```python\n",
    "# 포인트: 업데이트 방식\n",
    "opt.apply_gradients([(slope,beta_hat)])  # pair의 list가 입력되어야 함!! \n",
    "```"
   ]
  },
  {
   "cell_type": "code",
   "execution_count": 144,
   "id": "edf442de-004c-4467-b51d-7dd54b85cd63",
   "metadata": {},
   "outputs": [],
   "source": [
    "tnp.random.seed(50000)\n",
    "N = 200\n",
    "x = tnp.linspace(0,1,N) \n",
    "epsilon = tnp.random.randn(N)*0.5\n",
    "y = 2.5+4*x + epsilon\n",
    "y_true = 2.5+4*x"
   ]
  },
  {
   "cell_type": "code",
   "execution_count": 145,
   "id": "ec68f3d0-42ef-4dc6-a835-a19bb52b6701",
   "metadata": {},
   "outputs": [],
   "source": [
    "X=tf.stack([tf.ones(N,dtype='float64'),x],axis=1)\n",
    "y=y.reshape(N,1) "
   ]
  },
  {
   "cell_type": "code",
   "execution_count": 146,
   "id": "e59458a8-2e30-4fea-a5b4-54ce8159f12d",
   "metadata": {},
   "outputs": [
    {
     "data": {
      "text/plain": [
       "(TensorShape([200, 2]), TensorShape([200, 1]))"
      ]
     },
     "execution_count": 146,
     "metadata": {},
     "output_type": "execute_result"
    }
   ],
   "source": [
    "X.shape,y.shape"
   ]
  },
  {
   "cell_type": "code",
   "execution_count": 147,
   "id": "5cb891e0-fdde-4f79-a96d-e40e4c1afde9",
   "metadata": {},
   "outputs": [
    {
     "data": {
      "text/plain": [
       "<tf.Variable 'Variable:0' shape=(2, 1) dtype=float64, numpy=\n",
       "array([[ -5.],\n",
       "       [-10.]])>"
      ]
     },
     "execution_count": 147,
     "metadata": {},
     "output_type": "execute_result"
    }
   ],
   "source": [
    "beta_hat = tf.Variable(tnp.array([-5.0,-10.0]).reshape(2,1))\n",
    "beta_hat"
   ]
  },
  {
   "cell_type": "code",
   "execution_count": 148,
   "id": "419d2957-a9bd-4110-9ae6-1a350fba24cd",
   "metadata": {},
   "outputs": [],
   "source": [
    "alpha=0.1"
   ]
  },
  {
   "cell_type": "markdown",
   "id": "4695129d-8aae-48ea-b961-1cdf1fbe1326",
   "metadata": {},
   "source": [
    "`-` `optimizer` 선언"
   ]
  },
  {
   "cell_type": "code",
   "execution_count": 149,
   "id": "71256e07-f0f5-459d-88c0-d15160819ee9",
   "metadata": {},
   "outputs": [],
   "source": [
    "opt= tf.optimizers.SGD(alpha)"
   ]
  },
  {
   "cell_type": "markdown",
   "id": "721719d3-d981-4cc5-9e5b-59ffd5067b14",
   "metadata": {},
   "source": [
    "**iter1**"
   ]
  },
  {
   "cell_type": "code",
   "execution_count": 150,
   "id": "2d10f9f2-449c-4916-96e4-c9421de4a970",
   "metadata": {},
   "outputs": [
    {
     "data": {
      "text/plain": [
       "<tf.Variable 'UnreadVariable' shape=() dtype=int64, numpy=1>"
      ]
     },
     "execution_count": 150,
     "metadata": {},
     "output_type": "execute_result"
    }
   ],
   "source": [
    "with tf.GradientTape() as tape:\n",
    "    yhat= X @ beta_hat\n",
    "    loss= (y-yhat).T @ (y-yhat)/N\n",
    "slope=tape.gradient(loss,beta_hat)\n",
    "opt.apply_gradients([(slope,beta_hat)])"
   ]
  },
  {
   "cell_type": "code",
   "execution_count": 151,
   "id": "535151bc-4589-4201-8b58-ed075e44603c",
   "metadata": {},
   "outputs": [
    {
     "data": {
      "text/plain": [
       "<tf.Variable 'Variable:0' shape=(2, 1) dtype=float64, numpy=\n",
       "array([[-2.09187623],\n",
       "       [-8.30857118]])>"
      ]
     },
     "execution_count": 151,
     "metadata": {},
     "output_type": "execute_result"
    }
   ],
   "source": [
    "beta_hat"
   ]
  },
  {
   "cell_type": "markdown",
   "id": "ba9a479c-6555-4a5a-92b6-a7a512aa734a",
   "metadata": {},
   "source": [
    "- 한 번 미분한 값!"
   ]
  },
  {
   "cell_type": "markdown",
   "id": "741e58dc-3c0f-4d0f-a666-f16ac5f5dec9",
   "metadata": {},
   "source": [
    "**iter 반복**"
   ]
  },
  {
   "cell_type": "code",
   "execution_count": 152,
   "id": "ef94db6a-5f97-4f50-b7cc-f1db6be64661",
   "metadata": {},
   "outputs": [],
   "source": [
    "for epoc in range(1000):\n",
    "    with tf.GradientTape() as tape:\n",
    "        yhat= X @ beta_hat\n",
    "        loss= (y-yhat).T @ (y-yhat) / N\n",
    "    slope= tape.gradient(loss,beta_hat)\n",
    "    opt.apply_gradients([(slope,beta_hat)])"
   ]
  },
  {
   "cell_type": "code",
   "execution_count": 153,
   "id": "5a3f1eb5-adf0-4dd7-b9ab-03baed73dd39",
   "metadata": {},
   "outputs": [
    {
     "data": {
      "text/plain": [
       "<tf.Variable 'Variable:0' shape=(2, 1) dtype=float64, numpy=\n",
       "array([[2.49047309],\n",
       "       [4.10029197]])>"
      ]
     },
     "execution_count": 153,
     "metadata": {},
     "output_type": "execute_result"
    }
   ],
   "source": [
    "beta_hat"
   ]
  },
  {
   "cell_type": "markdown",
   "id": "20e8b38c-3036-4a41-9694-2bf4be6b4f02",
   "metadata": {},
   "source": [
    "- `opt.apply_gradients([(slope,beta_hat)])`는 `beta_hat.assign_sub(slope*alpha)`와 같은 기능(업데이트)을 하는 코드"
   ]
  },
  {
   "cell_type": "markdown",
   "id": "aa30960d-28ff-4347-b427-bc6e56695f51",
   "metadata": {},
   "source": [
    "#### 풀이2: 스칼라버전"
   ]
  },
  {
   "cell_type": "markdown",
   "id": "430c479a-473f-40a6-abba-a9c9337e9462",
   "metadata": {},
   "source": [
    "`-` 포인트\n",
    "```python\n",
    "# 포인트코드: loss beta0_hat, beta1_hat으로 각각 미분 -> 각각의 slope 값\n",
    "slope0, slope1= tape.gradient(loss,[beta0_hat, beta1_hat])\n",
    "# 포인트코드: 업데이트 \n",
    "opt.apply_gradients([(slope0,beta0_hat),(slope1,beta1_hat)]) # pair의 list가 입력 \n",
    "```"
   ]
  },
  {
   "cell_type": "code",
   "execution_count": 155,
   "id": "f3a16363-69a3-45ee-996b-fca75d489a96",
   "metadata": {},
   "outputs": [],
   "source": [
    "tnp.random.seed(50000)\n",
    "N = 200\n",
    "x = tnp.linspace(0,1,N) \n",
    "epsilon = tnp.random.randn(N)*0.5\n",
    "y = 2.5+4*x + epsilon\n",
    "y_true = 2.5+4*x"
   ]
  },
  {
   "cell_type": "code",
   "execution_count": 156,
   "id": "fdd07144-528c-41c7-a10d-8a99ed3fcfdc",
   "metadata": {},
   "outputs": [
    {
     "data": {
      "text/plain": [
       "(TensorShape([200]), TensorShape([200]))"
      ]
     },
     "execution_count": 156,
     "metadata": {},
     "output_type": "execute_result"
    }
   ],
   "source": [
    "x.shape,y.shape"
   ]
  },
  {
   "cell_type": "code",
   "execution_count": 157,
   "id": "3c2b449e-4064-48e7-a6b9-7b0008015060",
   "metadata": {},
   "outputs": [],
   "source": [
    "beta0_hat= tf.Variable(-5.0)\n",
    "beta1_hat= tf.Variable(-10.0)"
   ]
  },
  {
   "cell_type": "code",
   "execution_count": 158,
   "id": "07e80564-a8e3-411e-b0af-d7eead569bf1",
   "metadata": {},
   "outputs": [],
   "source": [
    "alpha=0.1"
   ]
  },
  {
   "cell_type": "code",
   "execution_count": 159,
   "id": "3802e5cc-229f-40b0-883f-8289a2091dda",
   "metadata": {},
   "outputs": [],
   "source": [
    "opt=tf.optimizers.SGD(alpha)"
   ]
  },
  {
   "cell_type": "code",
   "execution_count": 165,
   "id": "ca414da0-e20d-4ba4-bee4-434bef20deca",
   "metadata": {},
   "outputs": [],
   "source": [
    "for epoc in range(1000):\n",
    "    with tf.GradientTape() as tape:\n",
    "        yhat= beta0_hat + beta1_hat*x\n",
    "        loss= tf.reduce_sum((y-yhat)**2) / N\n",
    "    slope0, slope1= tape.gradient(loss,[beta0_hat, beta1_hat])\n",
    "    opt.apply_gradients([(slope0,beta0_hat), (slope1,beta1_hat)])"
   ]
  },
  {
   "cell_type": "code",
   "execution_count": 167,
   "id": "5574a2d0-7f5d-4a08-90c4-b3c9385c9d97",
   "metadata": {},
   "outputs": [
    {
     "data": {
      "text/plain": [
       "(<tf.Variable 'Variable:0' shape=() dtype=float32, numpy=2.4904754>,\n",
       " <tf.Variable 'Variable:0' shape=() dtype=float32, numpy=4.1002874>)"
      ]
     },
     "execution_count": 167,
     "metadata": {},
     "output_type": "execute_result"
    }
   ],
   "source": [
    "beta0_hat,beta1_hat"
   ]
  },
  {
   "cell_type": "markdown",
   "id": "3847685a-faec-4f47-96cf-e151977b12f5",
   "metadata": {},
   "source": [
    "### opt.minimize를 이용한 풀이\n",
    ": tf.GradientTape를 사용하지 않아도 됨. 어떤 계산식에 의해 미분값이 계산되는지 몰라도 쓸 수 있는 코드"
   ]
  },
  {
   "cell_type": "markdown",
   "id": "fd31bb6a-f175-49e5-b4e6-f8a37098f6d7",
   "metadata": {},
   "source": [
    "#### 풀이1: 벡터버전, 사용자정의 손실함수(lambda)"
   ]
  },
  {
   "cell_type": "markdown",
   "id": "00e1f3b2-d6e7-4c69-a86e-0e8e44d47f3b",
   "metadata": {},
   "source": [
    "`-` 포인트\n",
    "```python\n",
    "# 포인트1: 손실함수 정의 \n",
    "loss_fn = lambda: ,,,\n",
    "\n",
    "# 포인트2: 옵티마이저\n",
    "opt = tf.optimizers.SGD(alpha)\n",
    "\n",
    "# 포인트3: 미분 & 업데이트 = minimize \n",
    "opt.minimize(loss_fn,beta_hat)\n",
    "```"
   ]
  },
  {
   "cell_type": "code",
   "execution_count": 209,
   "id": "8674c8f3-a53d-49ec-a6c5-98eddbb67de6",
   "metadata": {},
   "outputs": [],
   "source": [
    "tnp.random.seed(50000)\n",
    "N = 200\n",
    "x = tnp.linspace(0,1,N) \n",
    "epsilon = tnp.random.randn(N)*0.5\n",
    "y = 2.5+4*x + epsilon\n",
    "y_true = 2.5+4*x"
   ]
  },
  {
   "cell_type": "code",
   "execution_count": 210,
   "id": "378160b5-8cec-41e2-a1f4-9a7da0162a32",
   "metadata": {},
   "outputs": [
    {
     "data": {
      "text/plain": [
       "(TensorShape([200, 2]), TensorShape([200, 1]))"
      ]
     },
     "execution_count": 210,
     "metadata": {},
     "output_type": "execute_result"
    }
   ],
   "source": [
    "X=tf.stack([tf.ones(N,dtype='float64'),x],axis=1)\n",
    "y=y.reshape(N,1) \n",
    "X.shape,y.shape"
   ]
  },
  {
   "cell_type": "code",
   "execution_count": 211,
   "id": "6221ea0c-bcc0-4dc3-b7b0-8ccff9b6a1b5",
   "metadata": {},
   "outputs": [
    {
     "data": {
      "text/plain": [
       "<tf.Variable 'Variable:0' shape=(2, 1) dtype=float64, numpy=\n",
       "array([[ -5.],\n",
       "       [-10.]])>"
      ]
     },
     "execution_count": 211,
     "metadata": {},
     "output_type": "execute_result"
    }
   ],
   "source": [
    "alpha=0.1\n",
    "beta_hat = tf.Variable(tnp.array([-5.0,-10.0]).reshape(2,1))\n",
    "beta_hat"
   ]
  },
  {
   "cell_type": "code",
   "execution_count": 212,
   "id": "dd371c6b-a249-48b3-9bb2-f46c088ed84e",
   "metadata": {},
   "outputs": [],
   "source": [
    "opt=tf.optimizers.SGD(alpha)"
   ]
  },
  {
   "cell_type": "markdown",
   "id": "eb433498-b51e-4482-956b-ff57d66fb09a",
   "metadata": {},
   "source": [
    "``` python\n",
    "opt.minimize(미분할 식, 미분하고자 하는 값)는 미분 + update를 동시에 수행\n",
    "\n",
    "1. loss와 beta_hat값만 전달해주면 됨!!\n",
    "2. loss는 사용자정의 함수로 전달\n",
    "```"
   ]
  },
  {
   "cell_type": "code",
   "execution_count": 213,
   "id": "cd572353-e846-43a5-8f4c-88847f6b64cc",
   "metadata": {},
   "outputs": [],
   "source": [
    "loss_fn = lambda:(y-X @ beta_hat).T @ (y-X @ beta_hat)/ N"
   ]
  },
  {
   "cell_type": "markdown",
   "id": "0583cf54-9ea3-4e4c-b74a-5321ef16d290",
   "metadata": {},
   "source": [
    "**iter1**"
   ]
  },
  {
   "cell_type": "code",
   "execution_count": 214,
   "id": "59150b6c-813e-49c9-892e-5094578bf0db",
   "metadata": {},
   "outputs": [
    {
     "data": {
      "text/plain": [
       "<tf.Variable 'UnreadVariable' shape=() dtype=int64, numpy=1>"
      ]
     },
     "execution_count": 214,
     "metadata": {},
     "output_type": "execute_result"
    }
   ],
   "source": [
    "opt.minimize(loss_fn,beta_hat)"
   ]
  },
  {
   "cell_type": "code",
   "execution_count": 215,
   "id": "4cfc818b-00e5-4e67-9e37-88dac2fb9880",
   "metadata": {},
   "outputs": [
    {
     "data": {
      "text/plain": [
       "<tf.Variable 'Variable:0' shape=(2, 1) dtype=float64, numpy=\n",
       "array([[-2.09187623],\n",
       "       [-8.30857118]])>"
      ]
     },
     "execution_count": 215,
     "metadata": {},
     "output_type": "execute_result"
    }
   ],
   "source": [
    "beta_hat"
   ]
  },
  {
   "cell_type": "markdown",
   "id": "1e9e08a6-cf80-445f-b841-9481189cade3",
   "metadata": {},
   "source": [
    "**iter반복**"
   ]
  },
  {
   "cell_type": "code",
   "execution_count": 216,
   "id": "1bd7dad9-d849-49de-bf08-c1eadec08557",
   "metadata": {},
   "outputs": [],
   "source": [
    "for epoc in range(1000):\n",
    "    opt.minimize(loss_fn,beta_hat)"
   ]
  },
  {
   "cell_type": "code",
   "execution_count": 217,
   "id": "0d95b872-c529-4aea-acb3-f6c028f3e504",
   "metadata": {},
   "outputs": [
    {
     "data": {
      "text/plain": [
       "<tf.Variable 'Variable:0' shape=(2, 1) dtype=float64, numpy=\n",
       "array([[2.49047309],\n",
       "       [4.10029197]])>"
      ]
     },
     "execution_count": 217,
     "metadata": {},
     "output_type": "execute_result"
    }
   ],
   "source": [
    "beta_hat"
   ]
  },
  {
   "cell_type": "markdown",
   "id": "fc73398e-059d-4bf4-8452-0d665e076c7c",
   "metadata": {},
   "source": [
    "#### 풀이2:스칼라 버전, 사용자정의 손실함수(lambda)"
   ]
  },
  {
   "cell_type": "markdown",
   "id": "0571ce2b-7a65-4135-914f-425894b76aa3",
   "metadata": {},
   "source": [
    "`-` 포인트\n",
    "```python\n",
    "# 포인트: 미분 & 업데이트 = minimize \n",
    "opt.minimize(loss_fn,[beta0_hat,beta1_hat])\n",
    "```"
   ]
  },
  {
   "cell_type": "code",
   "execution_count": 219,
   "id": "675a2ff4-0609-479a-a74b-abb5fac677da",
   "metadata": {},
   "outputs": [],
   "source": [
    "tnp.random.seed(50000)\n",
    "N = 200\n",
    "x = tnp.linspace(0,1,N) \n",
    "epsilon = tnp.random.randn(N)*0.5\n",
    "y = 2.5+4*x + epsilon\n",
    "y_true = 2.5+4*x"
   ]
  },
  {
   "cell_type": "code",
   "execution_count": 220,
   "id": "5371c46d-980f-483f-b6cd-a5e3b3c8f0ba",
   "metadata": {},
   "outputs": [
    {
     "data": {
      "text/plain": [
       "(TensorShape([200]), TensorShape([200]))"
      ]
     },
     "execution_count": 220,
     "metadata": {},
     "output_type": "execute_result"
    }
   ],
   "source": [
    "x.shape,y.shape"
   ]
  },
  {
   "cell_type": "code",
   "execution_count": 222,
   "id": "88cd04c1-48a6-45b0-aa98-5ecbe60bf32d",
   "metadata": {},
   "outputs": [],
   "source": [
    "beta0_hat= tf.Variable(-5.0)\n",
    "beta1_hat= tf.Variable(-10.0)"
   ]
  },
  {
   "cell_type": "code",
   "execution_count": 223,
   "id": "3fa46e32-e6fe-4ef8-9bbb-4906707f2c74",
   "metadata": {},
   "outputs": [],
   "source": [
    "alpha=0.1"
   ]
  },
  {
   "cell_type": "code",
   "execution_count": 224,
   "id": "2f79e9fc-fd40-4e25-8b53-1bdbcbc1d010",
   "metadata": {},
   "outputs": [],
   "source": [
    "opt=tf.optimizers.SGD(alpha)"
   ]
  },
  {
   "cell_type": "code",
   "execution_count": 225,
   "id": "5576197c-f8d9-4ac8-b968-baccff986ced",
   "metadata": {},
   "outputs": [],
   "source": [
    "loss_fn= lambda: tf.reduce_sum((y-(beta0_hat+beta1_hat*x))**2) / N"
   ]
  },
  {
   "cell_type": "markdown",
   "id": "f65462fb-cfa4-406d-870b-14c0f816d018",
   "metadata": {},
   "source": [
    "**iter1**"
   ]
  },
  {
   "cell_type": "code",
   "execution_count": 226,
   "id": "4ebc0ca2-d9fa-4e4c-be8c-47bd9421f299",
   "metadata": {},
   "outputs": [
    {
     "data": {
      "text/plain": [
       "<tf.Variable 'UnreadVariable' shape=() dtype=int64, numpy=1>"
      ]
     },
     "execution_count": 226,
     "metadata": {},
     "output_type": "execute_result"
    }
   ],
   "source": [
    "opt.minimize(loss_fn,[beta0_hat,beta1_hat])"
   ]
  },
  {
   "cell_type": "code",
   "execution_count": 227,
   "id": "9c3c9309-d3a9-4aeb-aed6-70c115c88018",
   "metadata": {},
   "outputs": [
    {
     "data": {
      "text/plain": [
       "(<tf.Variable 'Variable:0' shape=() dtype=float32, numpy=-2.0918763>,\n",
       " <tf.Variable 'Variable:0' shape=() dtype=float32, numpy=-8.308571>)"
      ]
     },
     "execution_count": 227,
     "metadata": {},
     "output_type": "execute_result"
    }
   ],
   "source": [
    "beta0_hat,beta1_hat"
   ]
  },
  {
   "cell_type": "markdown",
   "id": "bad9cfb8-77b5-4a13-9c63-7e9788a1728c",
   "metadata": {},
   "source": [
    "**iter반복**"
   ]
  },
  {
   "cell_type": "code",
   "execution_count": 229,
   "id": "59be1773-8553-427e-831c-b0bf050b6d07",
   "metadata": {},
   "outputs": [],
   "source": [
    "for epoc in range(1000):\n",
    "    opt.minimize(loss_fn,[beta0_hat,beta1_hat])"
   ]
  },
  {
   "cell_type": "code",
   "execution_count": 230,
   "id": "3a13b39b-3be4-4903-8dce-46e38f3fa82f",
   "metadata": {},
   "outputs": [
    {
     "data": {
      "text/plain": [
       "(<tf.Variable 'Variable:0' shape=() dtype=float32, numpy=2.4904754>,\n",
       " <tf.Variable 'Variable:0' shape=() dtype=float32, numpy=4.1002874>)"
      ]
     },
     "execution_count": 230,
     "metadata": {},
     "output_type": "execute_result"
    }
   ],
   "source": [
    "beta0_hat,beta1_hat"
   ]
  },
  {
   "cell_type": "markdown",
   "id": "7bb1f205-bf03-4e0c-b378-59dc84702720",
   "metadata": {},
   "source": [
    "#### lambda 함수"
   ]
  },
  {
   "cell_type": "markdown",
   "id": "97592fe6-a951-408d-b2ab-ec98ffe8759e",
   "metadata": {},
   "source": [
    "`-` 입력이 있는 형태\n",
    "- `lambda x: x**2` => `lambda(x) = x^2`\n",
    "- `lambda x,y: x+y` => `lambda(x,y) = x+y`"
   ]
  },
  {
   "cell_type": "markdown",
   "id": "39fa22f7-2207-46aa-bc81-3bed88b69d5f",
   "metadata": {},
   "source": [
    "`-` 입력이 없는 형태\n",
    "- `lambda: y` => `lamnda() = y`\n",
    "\n",
    ": 입력이 무엇이든 `y`를 출력하는 함수!\n",
    "\n",
    "-> `lambda: tf.reduce_sum((y-(beta0_hat+beta1_hat*x))**2)` => `lambda() = tf.reduce_sum(y-(beta0_hat+beta1_hat*x))`\n",
    "\n",
    ": 입력이 무엇이든 `tf.reduce_sum(y-(beta0_hat+beta1_hat*x))`를 출력하는 함수"
   ]
  },
  {
   "cell_type": "markdown",
   "id": "a6581598-3122-4771-b055-1e3552398fac",
   "metadata": {},
   "source": [
    "#### 풀이3: 벡터버전, 사용자정의 손실함수(def)"
   ]
  },
  {
   "cell_type": "markdown",
   "id": "68cf19c8-052f-422d-b914-78c9b27ba594",
   "metadata": {},
   "source": [
    "`-` 포인트\n",
    "```python\n",
    "# 포인트: 손실함수정의 \n",
    "def loss_fn():\n",
    "    return ,,,\n",
    "```"
   ]
  },
  {
   "cell_type": "code",
   "execution_count": 245,
   "id": "cd3bd810-4375-487f-b1f9-23ffa75f9416",
   "metadata": {},
   "outputs": [],
   "source": [
    "tnp.random.seed(50000)\n",
    "N = 200\n",
    "x = tnp.linspace(0,1,N) \n",
    "epsilon = tnp.random.randn(N)*0.5\n",
    "y = 2.5+4*x + epsilon\n",
    "y_true = 2.5+4*x"
   ]
  },
  {
   "cell_type": "code",
   "execution_count": 246,
   "id": "87eff9c1-d395-464f-aab3-39f4ff71f9eb",
   "metadata": {},
   "outputs": [
    {
     "data": {
      "text/plain": [
       "(TensorShape([200, 2]), TensorShape([200, 1]))"
      ]
     },
     "execution_count": 246,
     "metadata": {},
     "output_type": "execute_result"
    }
   ],
   "source": [
    "X=tf.stack([tf.ones(N,dtype='float64'),x],axis=1)\n",
    "y=y.reshape(N,1) \n",
    "X.shape,y.shape"
   ]
  },
  {
   "cell_type": "code",
   "execution_count": 247,
   "id": "dde327fb-48e5-4656-9f93-5d369eed56c5",
   "metadata": {},
   "outputs": [
    {
     "data": {
      "text/plain": [
       "<tf.Variable 'Variable:0' shape=(2, 1) dtype=float64, numpy=\n",
       "array([[ -5.],\n",
       "       [-10.]])>"
      ]
     },
     "execution_count": 247,
     "metadata": {},
     "output_type": "execute_result"
    }
   ],
   "source": [
    "alpha=0.1\n",
    "beta_hat = tf.Variable(tnp.array([-5.0,-10.0]).reshape(2,1))\n",
    "beta_hat"
   ]
  },
  {
   "cell_type": "code",
   "execution_count": 248,
   "id": "adfa6a9c-f6c1-45d1-8156-a34909f55c4e",
   "metadata": {},
   "outputs": [],
   "source": [
    "opt=tf.optimizers.SGD(alpha)"
   ]
  },
  {
   "cell_type": "code",
   "execution_count": 249,
   "id": "ce4a5a70-a4b5-4365-919c-dd0b0daeac50",
   "metadata": {},
   "outputs": [],
   "source": [
    "def loss_fn():\n",
    "    return tf.reduce_sum((y-X@beta_hat).T @ (y-X@beta_hat)) / N"
   ]
  },
  {
   "cell_type": "markdown",
   "id": "bfb728ea-910e-447c-8366-4933caad0019",
   "metadata": {},
   "source": [
    "**iter1**"
   ]
  },
  {
   "cell_type": "code",
   "execution_count": 250,
   "id": "6b8adc61-7e54-49c2-92b3-c949d7b9ba1f",
   "metadata": {},
   "outputs": [
    {
     "data": {
      "text/plain": [
       "<tf.Variable 'UnreadVariable' shape=() dtype=int64, numpy=1>"
      ]
     },
     "execution_count": 250,
     "metadata": {},
     "output_type": "execute_result"
    }
   ],
   "source": [
    "opt.minimize(loss_fn,beta_hat)"
   ]
  },
  {
   "cell_type": "code",
   "execution_count": 251,
   "id": "e1c2b1ee-e54c-4e5b-ac8c-47df292f0663",
   "metadata": {},
   "outputs": [
    {
     "data": {
      "text/plain": [
       "<tf.Variable 'Variable:0' shape=(2, 1) dtype=float64, numpy=\n",
       "array([[-2.09187623],\n",
       "       [-8.30857118]])>"
      ]
     },
     "execution_count": 251,
     "metadata": {},
     "output_type": "execute_result"
    }
   ],
   "source": [
    "beta_hat"
   ]
  },
  {
   "cell_type": "markdown",
   "id": "bb6b5b4e-f4c4-44c5-9575-23df5af6c935",
   "metadata": {},
   "source": [
    "**iter반복**"
   ]
  },
  {
   "cell_type": "code",
   "execution_count": 252,
   "id": "4b0b0567-918a-42df-824f-769cb13e09ca",
   "metadata": {},
   "outputs": [],
   "source": [
    "for epoc in range(1000):\n",
    "    opt.minimize(loss_fn,beta_hat)"
   ]
  },
  {
   "cell_type": "code",
   "execution_count": 253,
   "id": "276ed81a-3ec8-4249-b73c-1f6a3890b449",
   "metadata": {},
   "outputs": [
    {
     "data": {
      "text/plain": [
       "<tf.Variable 'Variable:0' shape=(2, 1) dtype=float64, numpy=\n",
       "array([[2.49047309],\n",
       "       [4.10029197]])>"
      ]
     },
     "execution_count": 253,
     "metadata": {},
     "output_type": "execute_result"
    }
   ],
   "source": [
    "beta_hat"
   ]
  },
  {
   "cell_type": "markdown",
   "id": "77e2e4f2-2188-45d2-a6d1-a86f58f84243",
   "metadata": {},
   "source": [
    "- 이 코드가 좋은 이유: 사용자 정의 함수를 내가 원하는 형태로 정의하여 사용할 수 있음!"
   ]
  },
  {
   "cell_type": "markdown",
   "id": "7ee3f778-7cbd-44d0-921a-3abe0a5fe57e",
   "metadata": {},
   "source": [
    "#### 풀이4: 벡터버전, 사용자정의 손실함수(def)"
   ]
  },
  {
   "cell_type": "markdown",
   "id": "eae2fb1e-05fe-4dd3-8abf-dc9633d959da",
   "metadata": {},
   "source": [
    "`-` 포인트\n",
    "```python\n",
    "# 포인트: 손실함수정의 \n",
    "def loss_fn():\n",
    "    yhat=\n",
    "    loss=\n",
    "    ,,,\n",
    "    return loss\n",
    "```"
   ]
  },
  {
   "cell_type": "markdown",
   "id": "dd0b9df7-d4f6-4553-90fb-0a7e3f9dd9b2",
   "metadata": {},
   "source": [
    "`-` 예시"
   ]
  },
  {
   "cell_type": "code",
   "execution_count": 258,
   "id": "e85e6779-7950-4161-bba5-789c3fc5cd98",
   "metadata": {
    "tags": []
   },
   "outputs": [],
   "source": [
    "def loss_fn():\n",
    "    yhat= X@beta_hat\n",
    "    loss= (y-yhat).T @ (y-yhat) / N\n",
    "    return loss # loss가 출력"
   ]
  },
  {
   "cell_type": "markdown",
   "id": "81dd79b9-10ba-4fda-9fb9-3ca179bc6d29",
   "metadata": {},
   "source": [
    "- 입력값이 무엇이든 loss가 출력됨. loss는 우리가 미분하고자 하는 식"
   ]
  },
  {
   "cell_type": "code",
   "execution_count": 256,
   "id": "69b591dd-7b2d-4882-a050-39aebd6ca28a",
   "metadata": {},
   "outputs": [],
   "source": [
    "for epoc in range(1000):\n",
    "    opt.minimize(loss_fn,beta_hat)"
   ]
  },
  {
   "cell_type": "code",
   "execution_count": 257,
   "id": "6c90c23f-ef19-46a2-8857-8b890c5111f6",
   "metadata": {},
   "outputs": [
    {
     "data": {
      "text/plain": [
       "<tf.Variable 'Variable:0' shape=(2, 1) dtype=float64, numpy=\n",
       "array([[2.49046661],\n",
       "       [4.10030407]])>"
      ]
     },
     "execution_count": 257,
     "metadata": {},
     "output_type": "execute_result"
    }
   ],
   "source": [
    "beta_hat"
   ]
  },
  {
   "cell_type": "markdown",
   "id": "3e38f86f-6b9e-4feb-8531-0b6b0803ec7d",
   "metadata": {},
   "source": [
    "- 내가 원하는 형태의 코딩이 가능"
   ]
  },
  {
   "cell_type": "markdown",
   "id": "7dcd9750-4f87-456d-af34-72fb3ea8648f",
   "metadata": {},
   "source": [
    "#### 풀이5: 벡터버전, 사용자정의 손실함수(tf.losses.MSE)"
   ]
  },
  {
   "cell_type": "markdown",
   "id": "ea5af6bb-9b12-4dc9-ba8d-f5ac7c5b7875",
   "metadata": {},
   "source": [
    "`-` 포인트\n",
    "```python\n",
    "# 포인트: 이미 구현되어 있는 손실함수 이용 \n",
    "tf.losses.MSE(y,yhat)\n",
    "```"
   ]
  },
  {
   "cell_type": "code",
   "execution_count": 260,
   "id": "403dbed8-3a8b-42e9-83c9-186ba0b26e6b",
   "metadata": {},
   "outputs": [
    {
     "data": {
      "text/plain": [
       "<tf.Tensor: shape=(), dtype=float64, numpy=4.666666666666667>"
      ]
     },
     "execution_count": 260,
     "metadata": {},
     "output_type": "execute_result"
    }
   ],
   "source": [
    "tf.losses.MSE(tnp.array([1.0,2.0,3.0]), tnp.array([0.0,0.0,0.0]))"
   ]
  },
  {
   "cell_type": "code",
   "execution_count": 262,
   "id": "3f23f383-102f-476f-8258-71ccc75c3194",
   "metadata": {},
   "outputs": [
    {
     "data": {
      "text/plain": [
       "4.666666666666667"
      ]
     },
     "execution_count": 262,
     "metadata": {},
     "output_type": "execute_result"
    }
   ],
   "source": [
    "(1+4+9)/3"
   ]
  },
  {
   "cell_type": "code",
   "execution_count": 263,
   "id": "5b644bdd-b1e8-4f45-8719-f0bf38e6a421",
   "metadata": {},
   "outputs": [],
   "source": [
    "tnp.random.seed(50000)\n",
    "N = 200\n",
    "x = tnp.linspace(0,1,N) \n",
    "epsilon = tnp.random.randn(N)*0.5\n",
    "y = 2.5+4*x + epsilon\n",
    "y_true = 2.5+4*x"
   ]
  },
  {
   "cell_type": "code",
   "execution_count": 264,
   "id": "a49fde98-3336-4330-b8da-89a8715e488a",
   "metadata": {},
   "outputs": [
    {
     "data": {
      "text/plain": [
       "(TensorShape([200, 2]), TensorShape([200, 1]))"
      ]
     },
     "execution_count": 264,
     "metadata": {},
     "output_type": "execute_result"
    }
   ],
   "source": [
    "X=tf.stack([tf.ones(N,dtype='float64'),x],axis=1)\n",
    "y=y.reshape(N,1) \n",
    "X.shape,y.shape"
   ]
  },
  {
   "cell_type": "code",
   "execution_count": 265,
   "id": "c089927b-da76-4e55-ba9d-bde511a1c823",
   "metadata": {},
   "outputs": [
    {
     "data": {
      "text/plain": [
       "<tf.Variable 'Variable:0' shape=(2, 1) dtype=float64, numpy=\n",
       "array([[ -5.],\n",
       "       [-10.]])>"
      ]
     },
     "execution_count": 265,
     "metadata": {},
     "output_type": "execute_result"
    }
   ],
   "source": [
    "alpha=0.1\n",
    "beta_hat = tf.Variable(tnp.array([-5.0,-10.0]).reshape(2,1))\n",
    "beta_hat"
   ]
  },
  {
   "cell_type": "code",
   "execution_count": 266,
   "id": "e4639c37-9151-47b7-8c0c-6e0e7133d966",
   "metadata": {},
   "outputs": [],
   "source": [
    "opt=tf.optimizers.SGD(alpha)"
   ]
  },
  {
   "cell_type": "code",
   "execution_count": 268,
   "id": "d6395326-700e-4b36-b598-93df4529383d",
   "metadata": {},
   "outputs": [],
   "source": [
    "yhat= X @ beta_hat"
   ]
  },
  {
   "cell_type": "code",
   "execution_count": 269,
   "id": "e4782523-4461-4f4e-9b97-24ef089af4e4",
   "metadata": {},
   "outputs": [
    {
     "data": {
      "text/plain": [
       "<tf.Tensor: shape=(200,), dtype=float64, numpy=\n",
       "array([ 46.96022558,  60.70686684,  72.30282228,  81.2802598 ,\n",
       "        57.80729918,  43.17952069,  58.53054446,  58.31180694,\n",
       "        61.85092764,  58.31730177,  79.71547263,  78.60501259,\n",
       "        71.99894261,  75.00602384,  85.12349938,  55.10406785,\n",
       "        73.69786462,  80.95467083,  74.6669447 ,  75.82773797,\n",
       "        85.53770852,  67.22515134,  83.92316782,  82.73476828,\n",
       "        83.61351332,  71.88184929,  98.56777325, 100.69671217,\n",
       "       106.00993654,  99.11303261,  75.80120511,  66.43965872,\n",
       "        93.29103212,  92.02161062, 103.43848691,  91.95513609,\n",
       "        89.55063202, 102.5791008 , 104.04281702,  95.9503876 ,\n",
       "       122.33084547, 110.14601438, 107.8128172 , 107.24683005,\n",
       "       114.95773419, 118.679864  , 114.32865366, 106.48965615,\n",
       "       138.72702545, 121.53161946, 127.26461033, 118.57340053,\n",
       "       113.79996022, 127.69733957, 123.58570914, 132.75464371,\n",
       "       125.47854101, 139.15373989, 146.19252441, 163.53659744,\n",
       "       139.09846468, 150.22094322, 147.44621794, 120.55776355,\n",
       "       146.73702063, 140.88032213, 146.51914749, 153.16727863,\n",
       "       157.2906466 , 140.12227851, 160.75774017, 160.93203199,\n",
       "       158.35458953, 186.0423395 , 160.32743626, 144.22928985,\n",
       "       174.58984164, 155.97987705, 161.68940014, 179.58376217,\n",
       "       169.20486627, 164.32615346, 180.49631444, 183.26489411,\n",
       "       207.81251795, 176.71076052, 186.4834373 , 176.17945897,\n",
       "       183.78631202, 192.71936065, 216.82573734, 183.60108262,\n",
       "       185.18643139, 182.91320649, 181.51531937, 208.87678113,\n",
       "       204.10382008, 181.3811454 , 186.22041838, 208.35807508,\n",
       "       223.05341586, 217.99062832, 220.93169073, 227.48967225,\n",
       "       204.52370814, 210.56012546, 224.69852368, 247.41250168,\n",
       "       236.42542716, 229.40708813, 248.79603539, 261.46634784,\n",
       "       255.29328625, 278.7301513 , 266.50963835, 232.72414492,\n",
       "       253.7221811 , 247.85548131, 244.07870316, 257.84948971,\n",
       "       234.30508042, 274.1894823 , 263.817655  , 242.73380909,\n",
       "       286.68409303, 249.79602287, 245.53710442, 269.04506651,\n",
       "       262.6498617 , 304.44265244, 287.7068894 , 302.79565392,\n",
       "       270.90160857, 288.45621453, 266.58616864, 300.3959935 ,\n",
       "       277.55271521, 283.66872636, 310.29812029, 279.93301006,\n",
       "       302.14354378, 285.56093353, 279.93862274, 327.14046516,\n",
       "       287.59085982, 319.80234296, 360.65183304, 348.50598211,\n",
       "       314.8949131 , 373.42098076, 315.07724343, 342.10914738,\n",
       "       328.23671337, 306.01509384, 373.78602342, 298.40856652,\n",
       "       334.71498126, 367.58615747, 359.76181244, 350.63126972,\n",
       "       356.18123273, 351.43013181, 365.19477051, 383.69790541,\n",
       "       382.51460136, 347.73682534, 388.30267436, 382.64077176,\n",
       "       350.86181903, 368.12582049, 377.51971677, 380.33371329,\n",
       "       369.39525218, 405.61158059, 401.83207386, 391.55433637,\n",
       "       403.07036866, 393.6718148 , 422.72367689, 377.48186669,\n",
       "       415.07489252, 449.02617032, 414.40741051, 422.1835654 ,\n",
       "       454.60513137, 412.48139172, 439.92130854, 422.2543035 ,\n",
       "       417.95789578, 419.90903882, 441.76601488, 441.88258781,\n",
       "       414.02012705, 477.63963252, 438.21558695, 451.38032516,\n",
       "       436.86552668, 440.611652  , 465.06080711, 474.2370458 ])>"
      ]
     },
     "execution_count": 269,
     "metadata": {},
     "output_type": "execute_result"
    }
   ],
   "source": [
    "tf.losses.MSE(y,yhat)"
   ]
  },
  {
   "cell_type": "markdown",
   "id": "cd93ffd7-6eca-45bd-aa30-5ab390222bc0",
   "metadata": {},
   "source": [
    "- 매트릭스 형태로 되어 있어 벡터 형태로 변환해서 입력해야 함"
   ]
  },
  {
   "cell_type": "code",
   "execution_count": 275,
   "id": "67b80db6-cb47-4a20-aa3c-24b47bd8358d",
   "metadata": {},
   "outputs": [
    {
     "data": {
      "text/plain": [
       "<tf.Tensor: shape=(), dtype=float64, numpy=228.42737562724935>"
      ]
     },
     "execution_count": 275,
     "metadata": {},
     "output_type": "execute_result"
    }
   ],
   "source": [
    "tf.losses.MSE(y.reshape(-1), yhat.reshape(-1))"
   ]
  },
  {
   "cell_type": "markdown",
   "id": "e2b0a38c-84db-4fd6-b535-86d6c3d6f49f",
   "metadata": {},
   "source": [
    "`-` 손실함수 정의"
   ]
  },
  {
   "cell_type": "code",
   "execution_count": 276,
   "id": "c4f1532f-7f4b-4bf4-90c8-c7bea0d5b8ac",
   "metadata": {},
   "outputs": [],
   "source": [
    "def loss_fn():\n",
    "    yhat= X @ beta_hat\n",
    "    loss= tf.losses.MSE(y.reshape(-1), yhat.reshape(-1))\n",
    "    return loss"
   ]
  },
  {
   "cell_type": "code",
   "execution_count": 277,
   "id": "bdcc225b-38f9-4e62-835d-343aeff23696",
   "metadata": {},
   "outputs": [],
   "source": [
    "for epoc in range(1000):\n",
    "    opt.minimize(loss_fn, beta_hat)"
   ]
  },
  {
   "cell_type": "code",
   "execution_count": 278,
   "id": "1c0fdcaa-f9b4-4637-a4c6-89494fc2d9be",
   "metadata": {},
   "outputs": [
    {
     "data": {
      "text/plain": [
       "<tf.Variable 'Variable:0' shape=(2, 1) dtype=float64, numpy=\n",
       "array([[2.49047318],\n",
       "       [4.1002918 ]])>"
      ]
     },
     "execution_count": 278,
     "metadata": {},
     "output_type": "execute_result"
    }
   ],
   "source": [
    "beta_hat"
   ]
  },
  {
   "cell_type": "markdown",
   "id": "859d9524-9d44-4ab6-838e-4e93b8744304",
   "metadata": {},
   "source": [
    "- 단점: 차원을 조절해주어야 함. 스칼라 값이 나오도록,,"
   ]
  },
  {
   "cell_type": "markdown",
   "id": "7e578fb0-9133-4386-8933-d51033161017",
   "metadata": {},
   "source": [
    "#### 풀이6: 벡터버전, 사용자정의 손실함수(tf.losses.MeanSquaredError)"
   ]
  },
  {
   "cell_type": "markdown",
   "id": "6e9b7596-9352-482c-a845-50dac7a41fc5",
   "metadata": {},
   "source": [
    "`-` 포인트\n",
    "```python\n",
    "# 포인트: 클래스로부터 손실함수 오브젝트 생성 (함수를 찍어내는 클래스) \n",
    "mse_fn = tf.losses.MeanSquaredError()\n",
    "mse_fn(y,yhat)\n",
    "```"
   ]
  },
  {
   "cell_type": "code",
   "execution_count": 317,
   "id": "1933c85b-86ea-40cb-a49e-ae4a301f1c40",
   "metadata": {},
   "outputs": [],
   "source": [
    "tnp.random.seed(50000)\n",
    "N = 200\n",
    "x = tnp.linspace(0,1,N) \n",
    "epsilon = tnp.random.randn(N)*0.5\n",
    "y = 2.5+4*x + epsilon\n",
    "y_true = 2.5+4*x"
   ]
  },
  {
   "cell_type": "code",
   "execution_count": 318,
   "id": "7d42c710-9add-4aba-8151-c426f6532f27",
   "metadata": {},
   "outputs": [
    {
     "data": {
      "text/plain": [
       "(TensorShape([200, 2]), TensorShape([200, 1]))"
      ]
     },
     "execution_count": 318,
     "metadata": {},
     "output_type": "execute_result"
    }
   ],
   "source": [
    "X=tf.stack([tf.ones(N,dtype='float64'),x],axis=1)\n",
    "y=y.reshape(N,1) \n",
    "X.shape,y.shape"
   ]
  },
  {
   "cell_type": "code",
   "execution_count": 319,
   "id": "1f828492-b110-4dcf-a4ad-3023545aa8d4",
   "metadata": {},
   "outputs": [
    {
     "data": {
      "text/plain": [
       "<tf.Variable 'Variable:0' shape=(2, 1) dtype=float64, numpy=\n",
       "array([[ -5.],\n",
       "       [-10.]])>"
      ]
     },
     "execution_count": 319,
     "metadata": {},
     "output_type": "execute_result"
    }
   ],
   "source": [
    "alpha=0.1\n",
    "beta_hat = tf.Variable(tnp.array([-5.0,-10.0]).reshape(2,1))\n",
    "beta_hat"
   ]
  },
  {
   "cell_type": "code",
   "execution_count": 320,
   "id": "dd01082e-c9dc-4cc2-a032-d81966bdfa97",
   "metadata": {},
   "outputs": [],
   "source": [
    "opt=tf.optimizers.SGD(alpha)"
   ]
  },
  {
   "cell_type": "code",
   "execution_count": 312,
   "id": "0aaf3bb9-7be0-4a30-a7d6-db75d523e93f",
   "metadata": {},
   "outputs": [],
   "source": [
    "mseloss_fn = tf.losses.MeanSquaredError()"
   ]
  },
  {
   "cell_type": "code",
   "execution_count": 284,
   "id": "10962aba-6d97-4604-bd79-351ddfe14e16",
   "metadata": {},
   "outputs": [
    {
     "data": {
      "text/plain": [
       "<tf.Tensor: shape=(), dtype=float64, numpy=228.4273681640625>"
      ]
     },
     "execution_count": 284,
     "metadata": {},
     "output_type": "execute_result"
    }
   ],
   "source": [
    "mseloss_fn(y.reshape(-1),yhat.reshape(-1))"
   ]
  },
  {
   "cell_type": "markdown",
   "id": "ff51d3e2-06da-42db-90a7-515936de9b10",
   "metadata": {},
   "source": [
    "- 이것도 스칼라 값이 나오도록 차원을 조절해주어야 함!"
   ]
  },
  {
   "cell_type": "markdown",
   "id": "4bb12460-9278-4123-b2cb-41813e19a6b3",
   "metadata": {},
   "source": [
    "`-` 손실함수 정의"
   ]
  },
  {
   "cell_type": "code",
   "execution_count": 285,
   "id": "7316a843-305b-4d5f-a94a-69ba45731e0b",
   "metadata": {},
   "outputs": [],
   "source": [
    "def loss_fn():\n",
    "    yhat= X @ beta_hat\n",
    "    loss= mseloss_fn(y.reshape(-1),yhat.reshape(-1))\n",
    "    return loss"
   ]
  },
  {
   "cell_type": "code",
   "execution_count": 287,
   "id": "37a47b3a-6f90-480d-815b-75bad779a522",
   "metadata": {},
   "outputs": [],
   "source": [
    "for epoc in range(1000):\n",
    "    opt.minimize(loss_fn,beta_hat)"
   ]
  },
  {
   "cell_type": "code",
   "execution_count": 288,
   "id": "e696a0bb-4560-4a1b-aa1f-a6132a09443c",
   "metadata": {},
   "outputs": [
    {
     "data": {
      "text/plain": [
       "<tf.Variable 'Variable:0' shape=(2, 1) dtype=float64, numpy=\n",
       "array([[2.49047309],\n",
       "       [4.10029197]])>"
      ]
     },
     "execution_count": 288,
     "metadata": {},
     "output_type": "execute_result"
    }
   ],
   "source": [
    "beta_hat"
   ]
  },
  {
   "cell_type": "markdown",
   "id": "24a68cf4-b1e8-4757-88b0-f9c0a7a8a04e",
   "metadata": {},
   "source": [
    "`-` 오류"
   ]
  },
  {
   "cell_type": "code",
   "execution_count": 325,
   "id": "4c7f258c-15c1-4a53-8d07-c7fde2fc33b7",
   "metadata": {},
   "outputs": [],
   "source": [
    "def loss_fn():\n",
    "    yhat= X @ beta_hat\n",
    "    loss=  tf.losses.MeanSquaredError((y.reshape(-1),yhat.reshape(-1)))\n",
    "    return loss"
   ]
  },
  {
   "cell_type": "code",
   "execution_count": 326,
   "id": "3b27b211-220a-4148-966c-b420aec67aa3",
   "metadata": {},
   "outputs": [
    {
     "ename": "ValueError",
     "evalue": "Invalid Reduction Key: (<tf.Tensor: shape=(200,), dtype=float64, numpy=\narray([1.85275314, 2.74120989, 3.40260411, 3.86480278, 2.40210613,\n       1.31985631, 2.34901823, 2.284458  , 2.46252602, 2.18431527,\n       3.42583962, 3.31318298, 2.88220399, 3.00733549, 3.52272213,\n       1.66944258, 2.78072594, 3.14321   , 2.73648107, 2.75313851,\n       3.2436347 , 2.14381816, 3.05543125, 2.94008656, 2.93801235,\n       2.22203501, 3.62159774, 3.67799122, 3.88907751, 3.49826642,\n       2.19885106, 1.59326367, 3.05068809, 2.93449805, 3.46192861,\n       2.8305301 , 2.65407435, 3.26883764, 3.29059035, 2.83562788,\n       4.0502773 , 3.43474563, 3.27274234, 3.19520052, 3.51077918,\n       3.63272229, 3.3809    , 2.9575735 , 4.36618343, 3.56182648,\n       3.76859893, 3.32632733, 3.05464109, 3.63700817, 3.40334311,\n       3.75810104, 3.3876501 , 3.93202274, 4.1764372 , 4.82331873,\n       3.77892584, 4.19113873, 4.02716554, 2.8140508 , 3.89742531,\n       3.60297001, 3.78792647, 4.0092427 , 4.12447136, 3.36998897,\n       4.16143963, 4.11805975, 3.96581155, 4.97139214, 3.94345412,\n       3.24070572, 4.39414946, 3.61984367, 3.7961167 , 4.43103737,\n       3.98777658, 3.74862454, 4.31428866, 4.36668221, 5.19459834,\n       4.02190318, 4.33428583, 3.90140176, 4.13467048, 4.40997807,\n       5.20239075, 3.97708338, 3.98520656, 3.85117406, 3.74914404,\n       4.67870071, 4.46237022, 3.5934099 , 3.72163712, 4.45973941,\n       4.90984728, 4.68912881, 4.73814294, 4.90688137, 4.0750479 ,\n       4.23430813, 4.66331426, 5.35246718, 4.94899606, 4.66880361,\n       5.24563146, 5.59203164, 5.34975923, 6.01682146, 5.5964797 ,\n       4.47640444, 5.09951338, 4.86402962, 4.69337013, 5.07779304,\n       4.2768764 , 5.47826588, 5.11181129, 4.39901233, 5.7005923 ,\n       4.52352963, 4.33796533, 5.02068374, 4.77431511, 5.96587303,\n       5.42926138, 5.81810993, 4.82592311, 5.30058169, 4.59379835,\n       5.54801606, 4.82574257, 4.95804583, 5.68060751, 4.74627408,\n       5.34710083, 4.81312113, 4.59568804, 5.90109513, 4.72232315,\n       5.59658612, 6.65415208, 6.28138025, 5.30809268, 6.83666644,\n       5.21272686, 5.90825308, 5.4791133 , 4.8048449 , 6.59485311,\n       4.48556154, 5.45602146, 6.28308931, 6.02768964, 5.73520098,\n       5.83256331, 5.65601759, 5.96936635, 6.39725355, 6.31677447,\n       5.35624566, 6.36368854, 6.16924599, 5.2890948 , 5.69414292,\n       5.88715305, 5.90918155, 5.57644188, 6.44633357, 6.30203093,\n       5.99376212, 6.23239137, 5.94669229, 6.61552144, 5.4339177 ,\n       6.32816074, 7.09476023, 6.21127041, 6.35112611, 7.07523998,\n       6.01315549, 6.62756748, 6.15184238, 5.9967824 , 5.99419475,\n       6.47049184, 6.42301354, 5.69924333, 7.15647568, 6.18485576,\n       6.44671813, 6.05208212, 6.0912541 , 6.61551979, 6.77698431])>, <tf.Tensor: shape=(200,), dtype=float64, numpy=\narray([2.49047318, 2.51107766, 2.53168214, 2.55228662, 2.5728911 ,\n       2.59349559, 2.61410007, 2.63470455, 2.65530903, 2.67591351,\n       2.69651799, 2.71712247, 2.73772696, 2.75833144, 2.77893592,\n       2.7995404 , 2.82014488, 2.84074936, 2.86135384, 2.88195832,\n       2.90256281, 2.92316729, 2.94377177, 2.96437625, 2.98498073,\n       3.00558521, 3.02618969, 3.04679418, 3.06739866, 3.08800314,\n       3.10860762, 3.1292121 , 3.14981658, 3.17042106, 3.19102555,\n       3.21163003, 3.23223451, 3.25283899, 3.27344347, 3.29404795,\n       3.31465243, 3.33525692, 3.3558614 , 3.37646588, 3.39707036,\n       3.41767484, 3.43827932, 3.4588838 , 3.47948829, 3.50009277,\n       3.52069725, 3.54130173, 3.56190621, 3.58251069, 3.60311517,\n       3.62371966, 3.64432414, 3.66492862, 3.6855331 , 3.70613758,\n       3.72674206, 3.74734654, 3.76795103, 3.78855551, 3.80915999,\n       3.82976447, 3.85036895, 3.87097343, 3.89157791, 3.9121824 ,\n       3.93278688, 3.95339136, 3.97399584, 3.99460032, 4.0152048 ,\n       4.03580928, 4.05641377, 4.07701825, 4.09762273, 4.11822721,\n       4.13883169, 4.15943617, 4.18004065, 4.20064514, 4.22124962,\n       4.2418541 , 4.26245858, 4.28306306, 4.30366754, 4.32427202,\n       4.34487651, 4.36548099, 4.38608547, 4.40668995, 4.42729443,\n       4.44789891, 4.46850339, 4.48910788, 4.50971236, 4.53031684,\n       4.55092132, 4.5715258 , 4.59213028, 4.61273476, 4.63333925,\n       4.65394373, 4.67454821, 4.69515269, 4.71575717, 4.73636165,\n       4.75696613, 4.77757062, 4.7981751 , 4.81877958, 4.83938406,\n       4.85998854, 4.88059302, 4.9011975 , 4.92180199, 4.94240647,\n       4.96301095, 4.98361543, 5.00421991, 5.02482439, 5.04542887,\n       5.06603336, 5.08663784, 5.10724232, 5.1278468 , 5.14845128,\n       5.16905576, 5.18966024, 5.21026473, 5.23086921, 5.25147369,\n       5.27207817, 5.29268265, 5.31328713, 5.33389161, 5.3544961 ,\n       5.37510058, 5.39570506, 5.41630954, 5.43691402, 5.4575185 ,\n       5.47812298, 5.49872747, 5.51933195, 5.53993643, 5.56054091,\n       5.58114539, 5.60174987, 5.62235435, 5.64295884, 5.66356332,\n       5.6841678 , 5.70477228, 5.72537676, 5.74598124, 5.76658572,\n       5.7871902 , 5.80779469, 5.82839917, 5.84900365, 5.86960813,\n       5.89021261, 5.91081709, 5.93142157, 5.95202606, 5.97263054,\n       5.99323502, 6.0138395 , 6.03444398, 6.05504846, 6.07565294,\n       6.09625743, 6.11686191, 6.13746639, 6.15807087, 6.17867535,\n       6.19927983, 6.21988431, 6.2404888 , 6.26109328, 6.28169776,\n       6.30230224, 6.32290672, 6.3435112 , 6.36411568, 6.38472017,\n       6.40532465, 6.42592913, 6.44653361, 6.46713809, 6.48774257,\n       6.50834705, 6.52895154, 6.54955602, 6.5701605 , 6.59076498])>). Expected keys are \"('auto', 'none', 'sum', 'sum_over_batch_size')\"",
     "output_type": "error",
     "traceback": [
      "\u001b[1;31m---------------------------------------------------------------------------\u001b[0m",
      "\u001b[1;31mValueError\u001b[0m                                Traceback (most recent call last)",
      "Input \u001b[1;32mIn [326]\u001b[0m, in \u001b[0;36m<cell line: 1>\u001b[1;34m()\u001b[0m\n\u001b[0;32m      1\u001b[0m \u001b[38;5;28;01mfor\u001b[39;00m epoc \u001b[38;5;129;01min\u001b[39;00m \u001b[38;5;28mrange\u001b[39m(\u001b[38;5;241m1000\u001b[39m):\n\u001b[1;32m----> 2\u001b[0m     \u001b[43mopt\u001b[49m\u001b[38;5;241;43m.\u001b[39;49m\u001b[43mminimize\u001b[49m\u001b[43m(\u001b[49m\u001b[43mloss_fn\u001b[49m\u001b[43m,\u001b[49m\u001b[43mbeta_hat\u001b[49m\u001b[43m)\u001b[49m\n",
      "File \u001b[1;32m~\\anaconda3\\envs\\ds2022\\lib\\site-packages\\keras\\optimizer_v2\\optimizer_v2.py:530\u001b[0m, in \u001b[0;36mOptimizerV2.minimize\u001b[1;34m(self, loss, var_list, grad_loss, name, tape)\u001b[0m\n\u001b[0;32m    499\u001b[0m \u001b[38;5;28;01mdef\u001b[39;00m \u001b[38;5;21mminimize\u001b[39m(\u001b[38;5;28mself\u001b[39m, loss, var_list, grad_loss\u001b[38;5;241m=\u001b[39m\u001b[38;5;28;01mNone\u001b[39;00m, name\u001b[38;5;241m=\u001b[39m\u001b[38;5;28;01mNone\u001b[39;00m, tape\u001b[38;5;241m=\u001b[39m\u001b[38;5;28;01mNone\u001b[39;00m):\n\u001b[0;32m    500\u001b[0m   \u001b[38;5;124;03m\"\"\"Minimize `loss` by updating `var_list`.\u001b[39;00m\n\u001b[0;32m    501\u001b[0m \n\u001b[0;32m    502\u001b[0m \u001b[38;5;124;03m  This method simply computes gradient using `tf.GradientTape` and calls\u001b[39;00m\n\u001b[1;32m   (...)\u001b[0m\n\u001b[0;32m    528\u001b[0m \n\u001b[0;32m    529\u001b[0m \u001b[38;5;124;03m  \"\"\"\u001b[39;00m\n\u001b[1;32m--> 530\u001b[0m   grads_and_vars \u001b[38;5;241m=\u001b[39m \u001b[38;5;28;43mself\u001b[39;49m\u001b[38;5;241;43m.\u001b[39;49m\u001b[43m_compute_gradients\u001b[49m\u001b[43m(\u001b[49m\n\u001b[0;32m    531\u001b[0m \u001b[43m      \u001b[49m\u001b[43mloss\u001b[49m\u001b[43m,\u001b[49m\u001b[43m \u001b[49m\u001b[43mvar_list\u001b[49m\u001b[38;5;241;43m=\u001b[39;49m\u001b[43mvar_list\u001b[49m\u001b[43m,\u001b[49m\u001b[43m \u001b[49m\u001b[43mgrad_loss\u001b[49m\u001b[38;5;241;43m=\u001b[39;49m\u001b[43mgrad_loss\u001b[49m\u001b[43m,\u001b[49m\u001b[43m \u001b[49m\u001b[43mtape\u001b[49m\u001b[38;5;241;43m=\u001b[39;49m\u001b[43mtape\u001b[49m\u001b[43m)\u001b[49m\n\u001b[0;32m    532\u001b[0m   \u001b[38;5;28;01mreturn\u001b[39;00m \u001b[38;5;28mself\u001b[39m\u001b[38;5;241m.\u001b[39mapply_gradients(grads_and_vars, name\u001b[38;5;241m=\u001b[39mname)\n",
      "File \u001b[1;32m~\\anaconda3\\envs\\ds2022\\lib\\site-packages\\keras\\optimizer_v2\\optimizer_v2.py:574\u001b[0m, in \u001b[0;36mOptimizerV2._compute_gradients\u001b[1;34m(self, loss, var_list, grad_loss, tape)\u001b[0m\n\u001b[0;32m    572\u001b[0m \u001b[38;5;28;01mif\u001b[39;00m \u001b[38;5;129;01mnot\u001b[39;00m callable(var_list):\n\u001b[0;32m    573\u001b[0m   tape\u001b[38;5;241m.\u001b[39mwatch(var_list)\n\u001b[1;32m--> 574\u001b[0m loss \u001b[38;5;241m=\u001b[39m \u001b[43mloss\u001b[49m\u001b[43m(\u001b[49m\u001b[43m)\u001b[49m\n\u001b[0;32m    575\u001b[0m \u001b[38;5;28;01mif\u001b[39;00m callable(var_list):\n\u001b[0;32m    576\u001b[0m   var_list \u001b[38;5;241m=\u001b[39m var_list()\n",
      "Input \u001b[1;32mIn [325]\u001b[0m, in \u001b[0;36mloss_fn\u001b[1;34m()\u001b[0m\n\u001b[0;32m      1\u001b[0m \u001b[38;5;28;01mdef\u001b[39;00m \u001b[38;5;21mloss_fn\u001b[39m():\n\u001b[0;32m      2\u001b[0m     yhat\u001b[38;5;241m=\u001b[39m X \u001b[38;5;241m@\u001b[39m beta_hat\n\u001b[1;32m----> 3\u001b[0m     loss\u001b[38;5;241m=\u001b[39m  \u001b[43mtf\u001b[49m\u001b[38;5;241;43m.\u001b[39;49m\u001b[43mlosses\u001b[49m\u001b[38;5;241;43m.\u001b[39;49m\u001b[43mMeanSquaredError\u001b[49m\u001b[43m(\u001b[49m\u001b[43m(\u001b[49m\u001b[43my\u001b[49m\u001b[38;5;241;43m.\u001b[39;49m\u001b[43mreshape\u001b[49m\u001b[43m(\u001b[49m\u001b[38;5;241;43m-\u001b[39;49m\u001b[38;5;241;43m1\u001b[39;49m\u001b[43m)\u001b[49m\u001b[43m,\u001b[49m\u001b[43myhat\u001b[49m\u001b[38;5;241;43m.\u001b[39;49m\u001b[43mreshape\u001b[49m\u001b[43m(\u001b[49m\u001b[38;5;241;43m-\u001b[39;49m\u001b[38;5;241;43m1\u001b[39;49m\u001b[43m)\u001b[49m\u001b[43m)\u001b[49m\u001b[43m)\u001b[49m\n\u001b[0;32m      4\u001b[0m     \u001b[38;5;28;01mreturn\u001b[39;00m loss\n",
      "File \u001b[1;32m~\\anaconda3\\envs\\ds2022\\lib\\site-packages\\keras\\losses.py:310\u001b[0m, in \u001b[0;36mMeanSquaredError.__init__\u001b[1;34m(self, reduction, name)\u001b[0m\n\u001b[0;32m    293\u001b[0m \u001b[38;5;28;01mdef\u001b[39;00m \u001b[38;5;21m__init__\u001b[39m(\u001b[38;5;28mself\u001b[39m,\n\u001b[0;32m    294\u001b[0m              reduction\u001b[38;5;241m=\u001b[39mlosses_utils\u001b[38;5;241m.\u001b[39mReductionV2\u001b[38;5;241m.\u001b[39mAUTO,\n\u001b[0;32m    295\u001b[0m              name\u001b[38;5;241m=\u001b[39m\u001b[38;5;124m'\u001b[39m\u001b[38;5;124mmean_squared_error\u001b[39m\u001b[38;5;124m'\u001b[39m):\n\u001b[0;32m    296\u001b[0m   \u001b[38;5;124;03m\"\"\"Initializes `MeanSquaredError` instance.\u001b[39;00m\n\u001b[0;32m    297\u001b[0m \n\u001b[0;32m    298\u001b[0m \u001b[38;5;124;03m  Args:\u001b[39;00m\n\u001b[1;32m   (...)\u001b[0m\n\u001b[0;32m    308\u001b[0m \u001b[38;5;124;03m    name: Optional name for the instance. Defaults to 'mean_squared_error'.\u001b[39;00m\n\u001b[0;32m    309\u001b[0m \u001b[38;5;124;03m  \"\"\"\u001b[39;00m\n\u001b[1;32m--> 310\u001b[0m   \u001b[38;5;28;43msuper\u001b[39;49m\u001b[43m(\u001b[49m\u001b[43m)\u001b[49m\u001b[38;5;241;43m.\u001b[39;49m\u001b[38;5;21;43m__init__\u001b[39;49m\u001b[43m(\u001b[49m\u001b[43mmean_squared_error\u001b[49m\u001b[43m,\u001b[49m\u001b[43m \u001b[49m\u001b[43mname\u001b[49m\u001b[38;5;241;43m=\u001b[39;49m\u001b[43mname\u001b[49m\u001b[43m,\u001b[49m\u001b[43m \u001b[49m\u001b[43mreduction\u001b[49m\u001b[38;5;241;43m=\u001b[39;49m\u001b[43mreduction\u001b[49m\u001b[43m)\u001b[49m\n",
      "File \u001b[1;32m~\\anaconda3\\envs\\ds2022\\lib\\site-packages\\keras\\losses.py:227\u001b[0m, in \u001b[0;36mLossFunctionWrapper.__init__\u001b[1;34m(self, fn, reduction, name, **kwargs)\u001b[0m\n\u001b[0;32m    205\u001b[0m \u001b[38;5;28;01mdef\u001b[39;00m \u001b[38;5;21m__init__\u001b[39m(\u001b[38;5;28mself\u001b[39m,\n\u001b[0;32m    206\u001b[0m              fn,\n\u001b[0;32m    207\u001b[0m              reduction\u001b[38;5;241m=\u001b[39mlosses_utils\u001b[38;5;241m.\u001b[39mReductionV2\u001b[38;5;241m.\u001b[39mAUTO,\n\u001b[0;32m    208\u001b[0m              name\u001b[38;5;241m=\u001b[39m\u001b[38;5;28;01mNone\u001b[39;00m,\n\u001b[0;32m    209\u001b[0m              \u001b[38;5;241m*\u001b[39m\u001b[38;5;241m*\u001b[39mkwargs):\n\u001b[0;32m    210\u001b[0m   \u001b[38;5;124;03m\"\"\"Initializes `LossFunctionWrapper` class.\u001b[39;00m\n\u001b[0;32m    211\u001b[0m \n\u001b[0;32m    212\u001b[0m \u001b[38;5;124;03m  Args:\u001b[39;00m\n\u001b[1;32m   (...)\u001b[0m\n\u001b[0;32m    225\u001b[0m \u001b[38;5;124;03m    **kwargs: The keyword arguments that are passed on to `fn`.\u001b[39;00m\n\u001b[0;32m    226\u001b[0m \u001b[38;5;124;03m  \"\"\"\u001b[39;00m\n\u001b[1;32m--> 227\u001b[0m   \u001b[38;5;28;43msuper\u001b[39;49m\u001b[43m(\u001b[49m\u001b[43m)\u001b[49m\u001b[38;5;241;43m.\u001b[39;49m\u001b[38;5;21;43m__init__\u001b[39;49m\u001b[43m(\u001b[49m\u001b[43mreduction\u001b[49m\u001b[38;5;241;43m=\u001b[39;49m\u001b[43mreduction\u001b[49m\u001b[43m,\u001b[49m\u001b[43m \u001b[49m\u001b[43mname\u001b[49m\u001b[38;5;241;43m=\u001b[39;49m\u001b[43mname\u001b[49m\u001b[43m)\u001b[49m\n\u001b[0;32m    228\u001b[0m   \u001b[38;5;28mself\u001b[39m\u001b[38;5;241m.\u001b[39mfn \u001b[38;5;241m=\u001b[39m fn\n\u001b[0;32m    229\u001b[0m   \u001b[38;5;28mself\u001b[39m\u001b[38;5;241m.\u001b[39m_fn_kwargs \u001b[38;5;241m=\u001b[39m kwargs\n",
      "File \u001b[1;32m~\\anaconda3\\envs\\ds2022\\lib\\site-packages\\keras\\losses.py:88\u001b[0m, in \u001b[0;36mLoss.__init__\u001b[1;34m(self, reduction, name)\u001b[0m\n\u001b[0;32m     73\u001b[0m \u001b[38;5;28;01mdef\u001b[39;00m \u001b[38;5;21m__init__\u001b[39m(\u001b[38;5;28mself\u001b[39m, reduction\u001b[38;5;241m=\u001b[39mlosses_utils\u001b[38;5;241m.\u001b[39mReductionV2\u001b[38;5;241m.\u001b[39mAUTO, name\u001b[38;5;241m=\u001b[39m\u001b[38;5;28;01mNone\u001b[39;00m):\n\u001b[0;32m     74\u001b[0m   \u001b[38;5;124;03m\"\"\"Initializes `Loss` class.\u001b[39;00m\n\u001b[0;32m     75\u001b[0m \n\u001b[0;32m     76\u001b[0m \u001b[38;5;124;03m  Args:\u001b[39;00m\n\u001b[1;32m   (...)\u001b[0m\n\u001b[0;32m     86\u001b[0m \u001b[38;5;124;03m    name: Optional name for the instance.\u001b[39;00m\n\u001b[0;32m     87\u001b[0m \u001b[38;5;124;03m  \"\"\"\u001b[39;00m\n\u001b[1;32m---> 88\u001b[0m   \u001b[43mlosses_utils\u001b[49m\u001b[38;5;241;43m.\u001b[39;49m\u001b[43mReductionV2\u001b[49m\u001b[38;5;241;43m.\u001b[39;49m\u001b[43mvalidate\u001b[49m\u001b[43m(\u001b[49m\u001b[43mreduction\u001b[49m\u001b[43m)\u001b[49m\n\u001b[0;32m     89\u001b[0m   \u001b[38;5;28mself\u001b[39m\u001b[38;5;241m.\u001b[39mreduction \u001b[38;5;241m=\u001b[39m reduction\n\u001b[0;32m     90\u001b[0m   \u001b[38;5;28mself\u001b[39m\u001b[38;5;241m.\u001b[39mname \u001b[38;5;241m=\u001b[39m name\n",
      "File \u001b[1;32m~\\anaconda3\\envs\\ds2022\\lib\\site-packages\\keras\\utils\\losses_utils.py:83\u001b[0m, in \u001b[0;36mReductionV2.validate\u001b[1;34m(cls, key)\u001b[0m\n\u001b[0;32m     80\u001b[0m \u001b[38;5;129m@classmethod\u001b[39m\n\u001b[0;32m     81\u001b[0m \u001b[38;5;28;01mdef\u001b[39;00m \u001b[38;5;21mvalidate\u001b[39m(\u001b[38;5;28mcls\u001b[39m, key):\n\u001b[0;32m     82\u001b[0m   \u001b[38;5;28;01mif\u001b[39;00m key \u001b[38;5;129;01mnot\u001b[39;00m \u001b[38;5;129;01min\u001b[39;00m \u001b[38;5;28mcls\u001b[39m\u001b[38;5;241m.\u001b[39mall():\n\u001b[1;32m---> 83\u001b[0m     \u001b[38;5;28;01mraise\u001b[39;00m \u001b[38;5;167;01mValueError\u001b[39;00m(\n\u001b[0;32m     84\u001b[0m         \u001b[38;5;124mf\u001b[39m\u001b[38;5;124m'\u001b[39m\u001b[38;5;124mInvalid Reduction Key: \u001b[39m\u001b[38;5;132;01m{\u001b[39;00mkey\u001b[38;5;132;01m}\u001b[39;00m\u001b[38;5;124m. Expected keys are \u001b[39m\u001b[38;5;124m\"\u001b[39m\u001b[38;5;132;01m{\u001b[39;00m\u001b[38;5;28mcls\u001b[39m\u001b[38;5;241m.\u001b[39mall()\u001b[38;5;132;01m}\u001b[39;00m\u001b[38;5;124m\"\u001b[39m\u001b[38;5;124m'\u001b[39m)\n",
      "\u001b[1;31mValueError\u001b[0m: Invalid Reduction Key: (<tf.Tensor: shape=(200,), dtype=float64, numpy=\narray([1.85275314, 2.74120989, 3.40260411, 3.86480278, 2.40210613,\n       1.31985631, 2.34901823, 2.284458  , 2.46252602, 2.18431527,\n       3.42583962, 3.31318298, 2.88220399, 3.00733549, 3.52272213,\n       1.66944258, 2.78072594, 3.14321   , 2.73648107, 2.75313851,\n       3.2436347 , 2.14381816, 3.05543125, 2.94008656, 2.93801235,\n       2.22203501, 3.62159774, 3.67799122, 3.88907751, 3.49826642,\n       2.19885106, 1.59326367, 3.05068809, 2.93449805, 3.46192861,\n       2.8305301 , 2.65407435, 3.26883764, 3.29059035, 2.83562788,\n       4.0502773 , 3.43474563, 3.27274234, 3.19520052, 3.51077918,\n       3.63272229, 3.3809    , 2.9575735 , 4.36618343, 3.56182648,\n       3.76859893, 3.32632733, 3.05464109, 3.63700817, 3.40334311,\n       3.75810104, 3.3876501 , 3.93202274, 4.1764372 , 4.82331873,\n       3.77892584, 4.19113873, 4.02716554, 2.8140508 , 3.89742531,\n       3.60297001, 3.78792647, 4.0092427 , 4.12447136, 3.36998897,\n       4.16143963, 4.11805975, 3.96581155, 4.97139214, 3.94345412,\n       3.24070572, 4.39414946, 3.61984367, 3.7961167 , 4.43103737,\n       3.98777658, 3.74862454, 4.31428866, 4.36668221, 5.19459834,\n       4.02190318, 4.33428583, 3.90140176, 4.13467048, 4.40997807,\n       5.20239075, 3.97708338, 3.98520656, 3.85117406, 3.74914404,\n       4.67870071, 4.46237022, 3.5934099 , 3.72163712, 4.45973941,\n       4.90984728, 4.68912881, 4.73814294, 4.90688137, 4.0750479 ,\n       4.23430813, 4.66331426, 5.35246718, 4.94899606, 4.66880361,\n       5.24563146, 5.59203164, 5.34975923, 6.01682146, 5.5964797 ,\n       4.47640444, 5.09951338, 4.86402962, 4.69337013, 5.07779304,\n       4.2768764 , 5.47826588, 5.11181129, 4.39901233, 5.7005923 ,\n       4.52352963, 4.33796533, 5.02068374, 4.77431511, 5.96587303,\n       5.42926138, 5.81810993, 4.82592311, 5.30058169, 4.59379835,\n       5.54801606, 4.82574257, 4.95804583, 5.68060751, 4.74627408,\n       5.34710083, 4.81312113, 4.59568804, 5.90109513, 4.72232315,\n       5.59658612, 6.65415208, 6.28138025, 5.30809268, 6.83666644,\n       5.21272686, 5.90825308, 5.4791133 , 4.8048449 , 6.59485311,\n       4.48556154, 5.45602146, 6.28308931, 6.02768964, 5.73520098,\n       5.83256331, 5.65601759, 5.96936635, 6.39725355, 6.31677447,\n       5.35624566, 6.36368854, 6.16924599, 5.2890948 , 5.69414292,\n       5.88715305, 5.90918155, 5.57644188, 6.44633357, 6.30203093,\n       5.99376212, 6.23239137, 5.94669229, 6.61552144, 5.4339177 ,\n       6.32816074, 7.09476023, 6.21127041, 6.35112611, 7.07523998,\n       6.01315549, 6.62756748, 6.15184238, 5.9967824 , 5.99419475,\n       6.47049184, 6.42301354, 5.69924333, 7.15647568, 6.18485576,\n       6.44671813, 6.05208212, 6.0912541 , 6.61551979, 6.77698431])>, <tf.Tensor: shape=(200,), dtype=float64, numpy=\narray([2.49047318, 2.51107766, 2.53168214, 2.55228662, 2.5728911 ,\n       2.59349559, 2.61410007, 2.63470455, 2.65530903, 2.67591351,\n       2.69651799, 2.71712247, 2.73772696, 2.75833144, 2.77893592,\n       2.7995404 , 2.82014488, 2.84074936, 2.86135384, 2.88195832,\n       2.90256281, 2.92316729, 2.94377177, 2.96437625, 2.98498073,\n       3.00558521, 3.02618969, 3.04679418, 3.06739866, 3.08800314,\n       3.10860762, 3.1292121 , 3.14981658, 3.17042106, 3.19102555,\n       3.21163003, 3.23223451, 3.25283899, 3.27344347, 3.29404795,\n       3.31465243, 3.33525692, 3.3558614 , 3.37646588, 3.39707036,\n       3.41767484, 3.43827932, 3.4588838 , 3.47948829, 3.50009277,\n       3.52069725, 3.54130173, 3.56190621, 3.58251069, 3.60311517,\n       3.62371966, 3.64432414, 3.66492862, 3.6855331 , 3.70613758,\n       3.72674206, 3.74734654, 3.76795103, 3.78855551, 3.80915999,\n       3.82976447, 3.85036895, 3.87097343, 3.89157791, 3.9121824 ,\n       3.93278688, 3.95339136, 3.97399584, 3.99460032, 4.0152048 ,\n       4.03580928, 4.05641377, 4.07701825, 4.09762273, 4.11822721,\n       4.13883169, 4.15943617, 4.18004065, 4.20064514, 4.22124962,\n       4.2418541 , 4.26245858, 4.28306306, 4.30366754, 4.32427202,\n       4.34487651, 4.36548099, 4.38608547, 4.40668995, 4.42729443,\n       4.44789891, 4.46850339, 4.48910788, 4.50971236, 4.53031684,\n       4.55092132, 4.5715258 , 4.59213028, 4.61273476, 4.63333925,\n       4.65394373, 4.67454821, 4.69515269, 4.71575717, 4.73636165,\n       4.75696613, 4.77757062, 4.7981751 , 4.81877958, 4.83938406,\n       4.85998854, 4.88059302, 4.9011975 , 4.92180199, 4.94240647,\n       4.96301095, 4.98361543, 5.00421991, 5.02482439, 5.04542887,\n       5.06603336, 5.08663784, 5.10724232, 5.1278468 , 5.14845128,\n       5.16905576, 5.18966024, 5.21026473, 5.23086921, 5.25147369,\n       5.27207817, 5.29268265, 5.31328713, 5.33389161, 5.3544961 ,\n       5.37510058, 5.39570506, 5.41630954, 5.43691402, 5.4575185 ,\n       5.47812298, 5.49872747, 5.51933195, 5.53993643, 5.56054091,\n       5.58114539, 5.60174987, 5.62235435, 5.64295884, 5.66356332,\n       5.6841678 , 5.70477228, 5.72537676, 5.74598124, 5.76658572,\n       5.7871902 , 5.80779469, 5.82839917, 5.84900365, 5.86960813,\n       5.89021261, 5.91081709, 5.93142157, 5.95202606, 5.97263054,\n       5.99323502, 6.0138395 , 6.03444398, 6.05504846, 6.07565294,\n       6.09625743, 6.11686191, 6.13746639, 6.15807087, 6.17867535,\n       6.19927983, 6.21988431, 6.2404888 , 6.26109328, 6.28169776,\n       6.30230224, 6.32290672, 6.3435112 , 6.36411568, 6.38472017,\n       6.40532465, 6.42592913, 6.44653361, 6.46713809, 6.48774257,\n       6.50834705, 6.52895154, 6.54955602, 6.5701605 , 6.59076498])>). Expected keys are \"('auto', 'none', 'sum', 'sum_over_batch_size')\""
     ]
    }
   ],
   "source": [
    "for epoc in range(1000):\n",
    "    opt.minimize(loss_fn,beta_hat)"
   ]
  },
  {
   "cell_type": "markdown",
   "id": "92d030e9-f738-4ae0-a843-a1b967fce2c7",
   "metadata": {},
   "source": [
    "- 이는 오류"
   ]
  },
  {
   "cell_type": "markdown",
   "id": "b16f75de-bc6e-4724-9f3c-f317cceb3b20",
   "metadata": {
    "tags": []
   },
   "source": [
    "### tf.keras.Sequential"
   ]
  },
  {
   "cell_type": "markdown",
   "id": "9c7a87d5-722b-48cb-9dcf-2212838c5e27",
   "metadata": {},
   "source": [
    "`-` $\\hat{y}_i=\\hat{\\beta}_0+\\hat{\\beta}_1x_i$ 의 서로다른 표현 "
   ]
  },
  {
   "cell_type": "code",
   "execution_count": 5,
   "id": "19cfe940-1f23-4303-abdc-4fcf6c96defc",
   "metadata": {},
   "outputs": [],
   "source": [
    "import graphviz\n",
    "def gv(s): return graphviz.Source('digraph G{ rankdir=\"LR\"'+s + '; }')"
   ]
  },
  {
   "cell_type": "markdown",
   "id": "6b2affb1-000a-4c54-837d-02ea3b20e621",
   "metadata": {},
   "source": [
    "`-` 방식1: 스칼라버전, `bias=False`"
   ]
  },
  {
   "cell_type": "code",
   "execution_count": 6,
   "id": "199be3e4-8cfd-4be6-9d55-1870550db49b",
   "metadata": {},
   "outputs": [
    {
     "data": {
      "image/svg+xml": [
       "<?xml version=\"1.0\" encoding=\"UTF-8\" standalone=\"no\"?>\r\n",
       "<!DOCTYPE svg PUBLIC \"-//W3C//DTD SVG 1.1//EN\"\r\n",
       " \"http://www.w3.org/Graphics/SVG/1.1/DTD/svg11.dtd\">\r\n",
       "<!-- Generated by graphviz version 2.38.0 (20140413.2041)\r\n",
       " -->\r\n",
       "<!-- Title: G Pages: 1 -->\r\n",
       "<svg width=\"604pt\" height=\"98pt\"\r\n",
       " viewBox=\"0.00 0.00 603.87 98.00\" xmlns=\"http://www.w3.org/2000/svg\" xmlns:xlink=\"http://www.w3.org/1999/xlink\">\r\n",
       "<g id=\"graph0\" class=\"graph\" transform=\"scale(1 1) rotate(0) translate(4 94)\">\r\n",
       "<title>G</title>\r\n",
       "<polygon fill=\"white\" stroke=\"none\" points=\"-4,4 -4,-94 599.873,-94 599.873,4 -4,4\"/>\r\n",
       "<!-- 1 -->\r\n",
       "<g id=\"node1\" class=\"node\"><title>1</title>\r\n",
       "<ellipse fill=\"none\" stroke=\"black\" cx=\"27\" cy=\"-72\" rx=\"27\" ry=\"18\"/>\r\n",
       "<text text-anchor=\"middle\" x=\"27\" y=\"-68.3\" font-family=\"Times New Roman,serif\" font-size=\"14.00\">1</text>\r\n",
       "</g>\r\n",
       "<!-- beta0_hat + x*beta1_hat, &#160;&#160;&#160;bias=False -->\r\n",
       "<g id=\"node2\" class=\"node\"><title>beta0_hat + x*beta1_hat, &#160;&#160;&#160;bias=False</title>\r\n",
       "<ellipse fill=\"none\" stroke=\"black\" cx=\"306.437\" cy=\"-45\" rx=\"151.373\" ry=\"18\"/>\r\n",
       "<text text-anchor=\"middle\" x=\"306.437\" y=\"-41.3\" font-family=\"Times New Roman,serif\" font-size=\"14.00\">beta0_hat + x*beta1_hat, &#160;&#160;&#160;bias=False</text>\r\n",
       "</g>\r\n",
       "<!-- 1&#45;&gt;beta0_hat + x*beta1_hat, &#160;&#160;&#160;bias=False -->\r\n",
       "<g id=\"edge1\" class=\"edge\"><title>1&#45;&gt;beta0_hat + x*beta1_hat, &#160;&#160;&#160;bias=False</title>\r\n",
       "<path fill=\"none\" stroke=\"black\" d=\"M53.8514,-69.4842C82.7362,-66.6731 131.643,-61.9135 178.698,-57.3341\"/>\r\n",
       "<polygon fill=\"black\" stroke=\"black\" points=\"179.09,-60.8127 188.703,-56.3604 178.411,-53.8456 179.09,-60.8127\"/>\r\n",
       "<text text-anchor=\"middle\" x=\"104.5\" y=\"-70.8\" font-family=\"Times New Roman,serif\" font-size=\"14.00\">* beta0_hat</text>\r\n",
       "</g>\r\n",
       "<!-- yhat -->\r\n",
       "<g id=\"node4\" class=\"node\"><title>yhat</title>\r\n",
       "<ellipse fill=\"none\" stroke=\"black\" cx=\"568.873\" cy=\"-45\" rx=\"27\" ry=\"18\"/>\r\n",
       "<text text-anchor=\"middle\" x=\"568.873\" y=\"-41.3\" font-family=\"Times New Roman,serif\" font-size=\"14.00\">yhat</text>\r\n",
       "</g>\r\n",
       "<!-- beta0_hat + x*beta1_hat, &#160;&#160;&#160;bias=False&#45;&gt;yhat -->\r\n",
       "<g id=\"edge3\" class=\"edge\"><title>beta0_hat + x*beta1_hat, &#160;&#160;&#160;bias=False&#45;&gt;yhat</title>\r\n",
       "<path fill=\"none\" stroke=\"black\" d=\"M458.179,-45C485.641,-45 511.853,-45 531.764,-45\"/>\r\n",
       "<polygon fill=\"black\" stroke=\"black\" points=\"531.859,-48.5001 541.859,-45 531.859,-41.5001 531.859,-48.5001\"/>\r\n",
       "<text text-anchor=\"middle\" x=\"499.873\" y=\"-48.8\" font-family=\"Times New Roman,serif\" font-size=\"14.00\">indentity</text>\r\n",
       "</g>\r\n",
       "<!-- x -->\r\n",
       "<g id=\"node3\" class=\"node\"><title>x</title>\r\n",
       "<ellipse fill=\"none\" stroke=\"black\" cx=\"27\" cy=\"-18\" rx=\"27\" ry=\"18\"/>\r\n",
       "<text text-anchor=\"middle\" x=\"27\" y=\"-14.3\" font-family=\"Times New Roman,serif\" font-size=\"14.00\">x</text>\r\n",
       "</g>\r\n",
       "<!-- x&#45;&gt;beta0_hat + x*beta1_hat, &#160;&#160;&#160;bias=False -->\r\n",
       "<g id=\"edge2\" class=\"edge\"><title>x&#45;&gt;beta0_hat + x*beta1_hat, &#160;&#160;&#160;bias=False</title>\r\n",
       "<path fill=\"none\" stroke=\"black\" d=\"M53.8514,-20.5158C82.7362,-23.3269 131.643,-28.0865 178.698,-32.6659\"/>\r\n",
       "<polygon fill=\"black\" stroke=\"black\" points=\"178.411,-36.1544 188.703,-33.6396 179.09,-29.1873 178.411,-36.1544\"/>\r\n",
       "<text text-anchor=\"middle\" x=\"104.5\" y=\"-31.8\" font-family=\"Times New Roman,serif\" font-size=\"14.00\">* beta1_hat</text>\r\n",
       "</g>\r\n",
       "</g>\r\n",
       "</svg>\r\n"
      ],
      "text/plain": [
       "<graphviz.files.Source at 0x1c4df8858e0>"
      ]
     },
     "execution_count": 6,
     "metadata": {},
     "output_type": "execute_result"
    }
   ],
   "source": [
    "gv(''' \n",
    "    \"1\" -> \"beta0_hat + x*beta1_hat,    bias=False\"[label=\"* beta0_hat\"]\n",
    "    \"x\" -> \"beta0_hat + x*beta1_hat,    bias=False\"[label=\"* beta1_hat\"]\n",
    "    \"beta0_hat + x*beta1_hat,    bias=False\" -> \"yhat\"[label=\"indentity\"]\n",
    "    ''')"
   ]
  },
  {
   "cell_type": "markdown",
   "id": "1a5a5399-9cfe-42c5-b43e-35257579fed1",
   "metadata": {},
   "source": [
    "`-` 방식2: 스칼라버전, `bias=True`"
   ]
  },
  {
   "cell_type": "code",
   "execution_count": 7,
   "id": "e8de9fe8-66e5-40aa-b58d-73f6f7b7f917",
   "metadata": {},
   "outputs": [
    {
     "data": {
      "image/svg+xml": [
       "<?xml version=\"1.0\" encoding=\"UTF-8\" standalone=\"no\"?>\r\n",
       "<!DOCTYPE svg PUBLIC \"-//W3C//DTD SVG 1.1//EN\"\r\n",
       " \"http://www.w3.org/Graphics/SVG/1.1/DTD/svg11.dtd\">\r\n",
       "<!-- Generated by graphviz version 2.38.0 (20140413.2041)\r\n",
       " -->\r\n",
       "<!-- Title: G Pages: 1 -->\r\n",
       "<svg width=\"505pt\" height=\"44pt\"\r\n",
       " viewBox=\"0.00 0.00 504.98 44.00\" xmlns=\"http://www.w3.org/2000/svg\" xmlns:xlink=\"http://www.w3.org/1999/xlink\">\r\n",
       "<g id=\"graph0\" class=\"graph\" transform=\"scale(1 1) rotate(0) translate(4 40)\">\r\n",
       "<title>G</title>\r\n",
       "<polygon fill=\"white\" stroke=\"none\" points=\"-4,4 -4,-40 500.982,-40 500.982,4 -4,4\"/>\r\n",
       "<!-- x -->\r\n",
       "<g id=\"node1\" class=\"node\"><title>x</title>\r\n",
       "<ellipse fill=\"none\" stroke=\"black\" cx=\"27\" cy=\"-18\" rx=\"27\" ry=\"18\"/>\r\n",
       "<text text-anchor=\"middle\" x=\"27\" y=\"-14.3\" font-family=\"Times New Roman,serif\" font-size=\"14.00\">x</text>\r\n",
       "</g>\r\n",
       "<!-- x*beta1_hat, &#160;&#160;&#160;bias=True -->\r\n",
       "<g id=\"node2\" class=\"node\"><title>x*beta1_hat, &#160;&#160;&#160;bias=True</title>\r\n",
       "<ellipse fill=\"none\" stroke=\"black\" cx=\"254.991\" cy=\"-18\" rx=\"103.982\" ry=\"18\"/>\r\n",
       "<text text-anchor=\"middle\" x=\"254.991\" y=\"-14.3\" font-family=\"Times New Roman,serif\" font-size=\"14.00\">x*beta1_hat, &#160;&#160;&#160;bias=True</text>\r\n",
       "</g>\r\n",
       "<!-- x&#45;&gt;x*beta1_hat, &#160;&#160;&#160;bias=True -->\r\n",
       "<g id=\"edge1\" class=\"edge\"><title>x&#45;&gt;x*beta1_hat, &#160;&#160;&#160;bias=True</title>\r\n",
       "<path fill=\"none\" stroke=\"black\" d=\"M54.3663,-18C76.0502,-18 108.371,-18 140.722,-18\"/>\r\n",
       "<polygon fill=\"black\" stroke=\"black\" points=\"140.751,-21.5001 150.751,-18 140.751,-14.5001 140.751,-21.5001\"/>\r\n",
       "<text text-anchor=\"middle\" x=\"102.5\" y=\"-21.8\" font-family=\"Times New Roman,serif\" font-size=\"14.00\">*beta1_hat</text>\r\n",
       "</g>\r\n",
       "<!-- yhat -->\r\n",
       "<g id=\"node3\" class=\"node\"><title>yhat</title>\r\n",
       "<ellipse fill=\"none\" stroke=\"black\" cx=\"469.982\" cy=\"-18\" rx=\"27\" ry=\"18\"/>\r\n",
       "<text text-anchor=\"middle\" x=\"469.982\" y=\"-14.3\" font-family=\"Times New Roman,serif\" font-size=\"14.00\">yhat</text>\r\n",
       "</g>\r\n",
       "<!-- x*beta1_hat, &#160;&#160;&#160;bias=True&#45;&gt;yhat -->\r\n",
       "<g id=\"edge2\" class=\"edge\"><title>x*beta1_hat, &#160;&#160;&#160;bias=True&#45;&gt;yhat</title>\r\n",
       "<path fill=\"none\" stroke=\"black\" d=\"M359.055,-18C385.458,-18 412.143,-18 432.609,-18\"/>\r\n",
       "<polygon fill=\"black\" stroke=\"black\" points=\"432.71,-21.5001 442.71,-18 432.71,-14.5001 432.71,-21.5001\"/>\r\n",
       "<text text-anchor=\"middle\" x=\"400.982\" y=\"-21.8\" font-family=\"Times New Roman,serif\" font-size=\"14.00\">indentity</text>\r\n",
       "</g>\r\n",
       "</g>\r\n",
       "</svg>\r\n"
      ],
      "text/plain": [
       "<graphviz.files.Source at 0x1c4df8854c0>"
      ]
     },
     "execution_count": 7,
     "metadata": {},
     "output_type": "execute_result"
    }
   ],
   "source": [
    "gv('''\n",
    "\"x\" -> \"x*beta1_hat,    bias=True\"[label=\"*beta1_hat\"] ;\n",
    "\"x*beta1_hat,    bias=True\" -> \"yhat\"[label=\"indentity\"] ''')\n"
   ]
  },
  {
   "cell_type": "markdown",
   "id": "a2c0b408-2749-4b52-9d89-2817623426f4",
   "metadata": {},
   "source": [
    "`-` 방식3: 벡터버전, `bias=False`"
   ]
  },
  {
   "cell_type": "code",
   "execution_count": 8,
   "id": "bdaf4e71-8770-4957-9fd2-2171fe45e623",
   "metadata": {},
   "outputs": [
    {
     "data": {
      "image/svg+xml": [
       "<?xml version=\"1.0\" encoding=\"UTF-8\" standalone=\"no\"?>\r\n",
       "<!DOCTYPE svg PUBLIC \"-//W3C//DTD SVG 1.1//EN\"\r\n",
       " \"http://www.w3.org/Graphics/SVG/1.1/DTD/svg11.dtd\">\r\n",
       "<!-- Generated by graphviz version 2.38.0 (20140413.2041)\r\n",
       " -->\r\n",
       "<!-- Title: G Pages: 1 -->\r\n",
       "<svg width=\"537pt\" height=\"44pt\"\r\n",
       " viewBox=\"0.00 0.00 536.77 44.00\" xmlns=\"http://www.w3.org/2000/svg\" xmlns:xlink=\"http://www.w3.org/1999/xlink\">\r\n",
       "<g id=\"graph0\" class=\"graph\" transform=\"scale(1 1) rotate(0) translate(4 40)\">\r\n",
       "<title>G</title>\r\n",
       "<polygon fill=\"white\" stroke=\"none\" points=\"-4,4 -4,-40 532.774,-40 532.774,4 -4,4\"/>\r\n",
       "<!-- X=[1 x] -->\r\n",
       "<g id=\"node1\" class=\"node\"><title>X=[1 x]</title>\r\n",
       "<ellipse fill=\"none\" stroke=\"black\" cx=\"39.6465\" cy=\"-18\" rx=\"39.7935\" ry=\"18\"/>\r\n",
       "<text text-anchor=\"middle\" x=\"39.6465\" y=\"-14.3\" font-family=\"Times New Roman,serif\" font-size=\"14.00\">X=[1 x]</text>\r\n",
       "</g>\r\n",
       "<!-- X@beta_hat, &#160;&#160;&#160;bias=False -->\r\n",
       "<g id=\"node2\" class=\"node\"><title>X@beta_hat, &#160;&#160;&#160;bias=False</title>\r\n",
       "<ellipse fill=\"none\" stroke=\"black\" cx=\"283.533\" cy=\"-18\" rx=\"107.482\" ry=\"18\"/>\r\n",
       "<text text-anchor=\"middle\" x=\"283.533\" y=\"-14.3\" font-family=\"Times New Roman,serif\" font-size=\"14.00\">X@beta_hat, &#160;&#160;&#160;bias=False</text>\r\n",
       "</g>\r\n",
       "<!-- X=[1 x]&#45;&gt;X@beta_hat, &#160;&#160;&#160;bias=False -->\r\n",
       "<g id=\"edge1\" class=\"edge\"><title>X=[1 x]&#45;&gt;X@beta_hat, &#160;&#160;&#160;bias=False</title>\r\n",
       "<path fill=\"none\" stroke=\"black\" d=\"M79.5098,-18C103.189,-18 134.816,-18 166.047,-18\"/>\r\n",
       "<polygon fill=\"black\" stroke=\"black\" points=\"166.162,-21.5001 176.162,-18 166.162,-14.5001 166.162,-21.5001\"/>\r\n",
       "<text text-anchor=\"middle\" x=\"127.793\" y=\"-21.8\" font-family=\"Times New Roman,serif\" font-size=\"14.00\">@beta_hat</text>\r\n",
       "</g>\r\n",
       "<!-- yhat -->\r\n",
       "<g id=\"node3\" class=\"node\"><title>yhat</title>\r\n",
       "<ellipse fill=\"none\" stroke=\"black\" cx=\"501.774\" cy=\"-18\" rx=\"27\" ry=\"18\"/>\r\n",
       "<text text-anchor=\"middle\" x=\"501.774\" y=\"-14.3\" font-family=\"Times New Roman,serif\" font-size=\"14.00\">yhat</text>\r\n",
       "</g>\r\n",
       "<!-- X@beta_hat, &#160;&#160;&#160;bias=False&#45;&gt;yhat -->\r\n",
       "<g id=\"edge2\" class=\"edge\"><title>X@beta_hat, &#160;&#160;&#160;bias=False&#45;&gt;yhat</title>\r\n",
       "<path fill=\"none\" stroke=\"black\" d=\"M391.07,-18C417.578,-18 444.214,-18 464.601,-18\"/>\r\n",
       "<polygon fill=\"black\" stroke=\"black\" points=\"464.658,-21.5001 474.658,-18 464.658,-14.5001 464.658,-21.5001\"/>\r\n",
       "<text text-anchor=\"middle\" x=\"432.774\" y=\"-21.8\" font-family=\"Times New Roman,serif\" font-size=\"14.00\">indentity</text>\r\n",
       "</g>\r\n",
       "</g>\r\n",
       "</svg>\r\n"
      ],
      "text/plain": [
       "<graphviz.files.Source at 0x1c4f0857e80>"
      ]
     },
     "execution_count": 8,
     "metadata": {},
     "output_type": "execute_result"
    }
   ],
   "source": [
    "gv('''\n",
    "\"X=[1 x]\" -> \"X@beta_hat,    bias=False\"[label=\"@beta_hat\"] ;\n",
    "\"X@beta_hat,    bias=False\" -> \"yhat\"[label=\"indentity\"] ''')\n"
   ]
  },
  {
   "cell_type": "markdown",
   "id": "5c3b5bf9-c59e-4e61-9bb6-517b0a5f2d6a",
   "metadata": {},
   "source": [
    "#### 풀이1: 벡터버전, 사용자정의 손실함수 "
   ]
  },
  {
   "cell_type": "markdown",
   "id": "695b47b3-5ee9-42df-af00-3c0faa871d98",
   "metadata": {},
   "source": [
    "`-` 포인트\n",
    "```python\n",
    "# 포인트1: 네트워크 생성 \n",
    "net = tf.keras.Sequential()\n",
    "\n",
    "# 포인트2: 네트워크의 아키텍처 설계 \n",
    "net.add(tf.keras.layers.Dense(1,input_shape=(2,),use_bias=False)) \n",
    "\n",
    "# 포인트3: 네트워크 컴파일 = 아키텍처 + 손실함수 + 옵티마이저\n",
    "net.compile(opt,loss=loss_fn2)\n",
    "\n",
    "# 포인트4: 미분 & update \n",
    "net.fit(X,y,epochs=1000,verbose=0,batch_size=N) \n",
    "```"
   ]
  },
  {
   "cell_type": "code",
   "execution_count": 12,
   "id": "47d59d55-fb08-4c01-8550-a826cf44bd03",
   "metadata": {},
   "outputs": [],
   "source": [
    "tnp.random.seed(50000)\n",
    "N = 200\n",
    "x = tnp.linspace(0,1,N) \n",
    "epsilon = tnp.random.randn(N)*0.5\n",
    "y = 2.5+4*x + epsilon\n",
    "y_true = 2.5+4*x"
   ]
  },
  {
   "cell_type": "code",
   "execution_count": 13,
   "id": "670d968a-fd2a-494f-89c0-1162793fb73d",
   "metadata": {},
   "outputs": [
    {
     "data": {
      "text/plain": [
       "(TensorShape([200, 2]), TensorShape([200, 1]))"
      ]
     },
     "execution_count": 13,
     "metadata": {},
     "output_type": "execute_result"
    }
   ],
   "source": [
    "X=tf.stack([tf.ones(N,dtype='float64'),x],axis=1)\n",
    "y=y.reshape(N,1) \n",
    "X.shape,y.shape"
   ]
  },
  {
   "cell_type": "markdown",
   "id": "9a1f218f-fe5f-40ec-84db-22e8bf2a660e",
   "metadata": {},
   "source": [
    "`-` 네트워크 생성"
   ]
  },
  {
   "cell_type": "code",
   "execution_count": 14,
   "id": "d4b7c3af-64df-4a54-98df-9be9f92f4ffc",
   "metadata": {},
   "outputs": [],
   "source": [
    "net = tf.keras.Sequential() "
   ]
  },
  {
   "cell_type": "code",
   "execution_count": 16,
   "id": "53d339b2-0a1b-4508-9668-6777dd2f094b",
   "metadata": {},
   "outputs": [
    {
     "ename": "ValueError",
     "evalue": "This model has not yet been built. Build the model first by calling `build()` or by calling the model on a batch of data.",
     "output_type": "error",
     "traceback": [
      "\u001b[1;31m---------------------------------------------------------------------------\u001b[0m",
      "\u001b[1;31mValueError\u001b[0m                                Traceback (most recent call last)",
      "Input \u001b[1;32mIn [16]\u001b[0m, in \u001b[0;36m<cell line: 1>\u001b[1;34m()\u001b[0m\n\u001b[1;32m----> 1\u001b[0m \u001b[43mnet\u001b[49m\u001b[38;5;241;43m.\u001b[39;49m\u001b[43msummary\u001b[49m\u001b[43m(\u001b[49m\u001b[43m)\u001b[49m\n",
      "File \u001b[1;32m~\\anaconda3\\envs\\ds2022\\lib\\site-packages\\keras\\engine\\training.py:2775\u001b[0m, in \u001b[0;36mModel.summary\u001b[1;34m(self, line_length, positions, print_fn, expand_nested, show_trainable)\u001b[0m\n\u001b[0;32m   2753\u001b[0m \u001b[38;5;124;03m\"\"\"Prints a string summary of the network.\u001b[39;00m\n\u001b[0;32m   2754\u001b[0m \n\u001b[0;32m   2755\u001b[0m \u001b[38;5;124;03mArgs:\u001b[39;00m\n\u001b[1;32m   (...)\u001b[0m\n\u001b[0;32m   2772\u001b[0m \u001b[38;5;124;03m    ValueError: if `summary()` is called before the model is built.\u001b[39;00m\n\u001b[0;32m   2773\u001b[0m \u001b[38;5;124;03m\"\"\"\u001b[39;00m\n\u001b[0;32m   2774\u001b[0m \u001b[38;5;28;01mif\u001b[39;00m \u001b[38;5;129;01mnot\u001b[39;00m \u001b[38;5;28mself\u001b[39m\u001b[38;5;241m.\u001b[39mbuilt:\n\u001b[1;32m-> 2775\u001b[0m   \u001b[38;5;28;01mraise\u001b[39;00m \u001b[38;5;167;01mValueError\u001b[39;00m(\n\u001b[0;32m   2776\u001b[0m       \u001b[38;5;124m'\u001b[39m\u001b[38;5;124mThis model has not yet been built. \u001b[39m\u001b[38;5;124m'\u001b[39m\n\u001b[0;32m   2777\u001b[0m       \u001b[38;5;124m'\u001b[39m\u001b[38;5;124mBuild the model first by calling `build()` or by calling \u001b[39m\u001b[38;5;124m'\u001b[39m\n\u001b[0;32m   2778\u001b[0m       \u001b[38;5;124m'\u001b[39m\u001b[38;5;124mthe model on a batch of data.\u001b[39m\u001b[38;5;124m'\u001b[39m)\n\u001b[0;32m   2779\u001b[0m layer_utils\u001b[38;5;241m.\u001b[39mprint_summary(\n\u001b[0;32m   2780\u001b[0m     \u001b[38;5;28mself\u001b[39m,\n\u001b[0;32m   2781\u001b[0m     line_length\u001b[38;5;241m=\u001b[39mline_length,\n\u001b[1;32m   (...)\u001b[0m\n\u001b[0;32m   2784\u001b[0m     expand_nested\u001b[38;5;241m=\u001b[39mexpand_nested,\n\u001b[0;32m   2785\u001b[0m     show_trainable\u001b[38;5;241m=\u001b[39mshow_trainable)\n",
      "\u001b[1;31mValueError\u001b[0m: This model has not yet been built. Build the model first by calling `build()` or by calling the model on a batch of data."
     ]
    }
   ],
   "source": [
    "net.summary()"
   ]
  },
  {
   "cell_type": "markdown",
   "id": "86aa8faa-1f99-4b58-97db-a4baf2b42f52",
   "metadata": {},
   "source": [
    "- 현재 아무것도 없음\n",
    "- 다음과 같이 layer를 만들어야 함"
   ]
  },
  {
   "cell_type": "markdown",
   "id": "4ad55bc1-f795-4144-a3e6-38a7fd46fa96",
   "metadata": {},
   "source": [
    "`-` 네트워크의 아키텍처 설계"
   ]
  },
  {
   "cell_type": "code",
   "execution_count": 39,
   "id": "22c4a28c-39f8-4927-a192-8cec4eea7bb5",
   "metadata": {},
   "outputs": [],
   "source": [
    "net.add(tf.keras.layers.Dense(units=1,input_shape=(2,),use_bias=False)) # 뼈대, 아키텍처 설계 = yhat을 만들 계획"
   ]
  },
  {
   "cell_type": "code",
   "execution_count": 40,
   "id": "95396e9a-28fa-4cb9-aaf2-8e836c28e195",
   "metadata": {},
   "outputs": [
    {
     "name": "stdout",
     "output_type": "stream",
     "text": [
      "Model: \"sequential_2\"\n",
      "_________________________________________________________________\n",
      " Layer (type)                Output Shape              Param #   \n",
      "=================================================================\n",
      " dense_1 (Dense)             (None, 1)                 2         \n",
      "                                                                 \n",
      " dense_2 (Dense)             (None, 1)                 1         \n",
      "                                                                 \n",
      "=================================================================\n",
      "Total params: 3\n",
      "Trainable params: 3\n",
      "Non-trainable params: 0\n",
      "_________________________________________________________________\n"
     ]
    }
   ],
   "source": [
    "net.summary()"
   ]
  },
  {
   "cell_type": "markdown",
   "id": "e815d0d4-84e3-4509-bf48-8dce2489cfce",
   "metadata": {},
   "source": [
    "- 무엇인가 나왔음!\n",
    "- layer가 추가된 것임"
   ]
  },
  {
   "cell_type": "markdown",
   "id": "30149b3b-7c8d-4903-b36e-6376af8b1783",
   "metadata": {},
   "source": [
    "- `units=1:` 출력의 차원\n",
    "- `input_shape:` x의 dimension\n",
    "- `use_bias:` bias 사용여부"
   ]
  },
  {
   "cell_type": "markdown",
   "id": "4d20d274-634a-4231-a6ad-bda8de318acd",
   "metadata": {},
   "source": [
    "`-` 네트워크 컴파일(아키텍처, 손실함수, 옵티마이저)"
   ]
  },
  {
   "cell_type": "code",
   "execution_count": 41,
   "id": "6db624b7-5835-4a6c-bb95-e9731f959506",
   "metadata": {},
   "outputs": [],
   "source": [
    "def loss_fn2(y,yhat): # 손실함수 정의, 입력값이 항상 y, yhat이 와야함\n",
    "    return (y-yhat).T @ (y-yhat) / N"
   ]
  },
  {
   "cell_type": "code",
   "execution_count": 42,
   "id": "d4c327bb-061a-4658-8712-a18892543d99",
   "metadata": {},
   "outputs": [],
   "source": [
    "alpha=0.1"
   ]
  },
  {
   "cell_type": "code",
   "execution_count": 45,
   "id": "f16104d5-a125-48f2-8461-dab9fb4088ce",
   "metadata": {},
   "outputs": [],
   "source": [
    "opt=tf.optimizers.SGD(alpha) # 옵티마이저 선택"
   ]
  },
  {
   "cell_type": "code",
   "execution_count": 48,
   "id": "98cf49b6-cf68-4ed6-b792-a4977c378489",
   "metadata": {},
   "outputs": [],
   "source": [
    "net.compile(opt,loss=loss_fn2) # 컴파일 = 아키텍처 + 손실함수 + 옵티마이저"
   ]
  },
  {
   "cell_type": "markdown",
   "id": "315dadb2-46dd-458f-9ce5-4cd9774d6500",
   "metadata": {},
   "source": [
    "- 네트워크의 형태(아키텍처), 손실함수, 손실함수를 미분할 옵티마이저 전달"
   ]
  },
  {
   "cell_type": "markdown",
   "id": "a9077f5e-9b16-4d6a-a0da-9ef4df1226cb",
   "metadata": {},
   "source": [
    "`-` 네트워크 적합: `for문-미분-업데이트`의 기능"
   ]
  },
  {
   "cell_type": "code",
   "execution_count": 36,
   "id": "6e382611-6bb6-4ef1-a9ea-5ce25e65bd31",
   "metadata": {},
   "outputs": [
    {
     "name": "stdout",
     "output_type": "stream",
     "text": [
      "Epoch 1/10\n",
      "1/1 [==============================] - 0s 332ms/step - loss: 0.2631\n",
      "Epoch 2/10\n",
      "1/1 [==============================] - 0s 6ms/step - loss: 0.2631\n",
      "Epoch 3/10\n",
      "1/1 [==============================] - 0s 4ms/step - loss: 0.2631\n",
      "Epoch 4/10\n",
      "1/1 [==============================] - 0s 6ms/step - loss: 0.2631\n",
      "Epoch 5/10\n",
      "1/1 [==============================] - 0s 9ms/step - loss: 0.2631\n",
      "Epoch 6/10\n",
      "1/1 [==============================] - 0s 6ms/step - loss: 0.2631\n",
      "Epoch 7/10\n",
      "1/1 [==============================] - 0s 5ms/step - loss: 0.2631\n",
      "Epoch 8/10\n",
      "1/1 [==============================] - 0s 6ms/step - loss: 0.2631\n",
      "Epoch 9/10\n",
      "1/1 [==============================] - 0s 5ms/step - loss: 0.2631\n",
      "Epoch 10/10\n",
      "1/1 [==============================] - 0s 7ms/step - loss: 0.2631\n"
     ]
    },
    {
     "data": {
      "text/plain": [
       "<keras.callbacks.History at 0x1c4f4d66eb0>"
      ]
     },
     "execution_count": 36,
     "metadata": {},
     "output_type": "execute_result"
    }
   ],
   "source": [
    "net.fit(X,y,epochs=10,batch_size=N)"
   ]
  },
  {
   "cell_type": "markdown",
   "id": "98d88a68-ffa7-44f7-aff6-6aecf968d502",
   "metadata": {},
   "source": [
    "- `verbose=0`사용 -> 적합되는 과정 생략"
   ]
  },
  {
   "cell_type": "code",
   "execution_count": 50,
   "id": "40b06a30-5575-42cf-aae3-b7792cc2b9e1",
   "metadata": {},
   "outputs": [
    {
     "data": {
      "text/plain": [
       "<keras.callbacks.History at 0x1c4f4ef3a60>"
      ]
     },
     "execution_count": 50,
     "metadata": {},
     "output_type": "execute_result"
    }
   ],
   "source": [
    "net.fit(X,y,epochs=10,verbose=0,batch_size=N) # 미분 & update의 반복, epochs= 반복 수, batch_size= 일단 N"
   ]
  },
  {
   "cell_type": "markdown",
   "id": "001cbca9-44a4-4209-a26e-3244a25203b6",
   "metadata": {},
   "source": [
    "- 이에 대해 적합된 결과는 `net.weights`를 통해 알 수 있음"
   ]
  },
  {
   "cell_type": "code",
   "execution_count": 38,
   "id": "e7143a73-75c9-4df8-bb4b-6c448b230e35",
   "metadata": {},
   "outputs": [
    {
     "data": {
      "text/plain": [
       "[<tf.Variable 'dense_1/kernel:0' shape=(2, 1) dtype=float32, numpy=\n",
       " array([[2.4904754],\n",
       "        [4.1002874]], dtype=float32)>]"
      ]
     },
     "execution_count": 38,
     "metadata": {},
     "output_type": "execute_result"
    }
   ],
   "source": [
    "net.weights"
   ]
  },
  {
   "cell_type": "markdown",
   "id": "f514e5ab-8632-405f-a990-b33c7f56317a",
   "metadata": {},
   "source": [
    "```python\n",
    "정리:\n",
    "1. net = tf.keras.Sequential()\n",
    "2. net.add(tf.keras.layers.Dense(units=1,input_shape=(2,),use_bias=False))\n",
    "3-1. def loss_fn2(y,yhat): # 입력값이 항상 y, yhat이 와야함\n",
    "    return (y-yhat).T @ (y-yhat) / N\n",
    "3-2. alpha=0.1\n",
    "3-3. opt=tf.optimizers.SGD(alpha)\n",
    "3-4. net.compile(opt,loss=loss_fn2)\n",
    "4. net.fit(X,y,epochs=10,verbose=0,batch_size=N)\n",
    "5. net.weights\n",
    "\n",
    "1. 네트워크 생성\n",
    "2. 하나의 layer(층) 추가(여러 layer도 추가 가능)\n",
    "  아키텍처 설계: 입력을 가지고 출력을 어떠한 방식으로 만들 것인지 컴퓨터에게 전달해주는 것. 여기서, x를 가지고 yhat을 어떠한 방식으로 만들 것인지 컴퓨터에게 전달해주는 것.\n",
    "3-1. 손실함수 정의\n",
    "3-2. 옵티마이저 정의 위해 학습율 설정\n",
    "3-3. 옵티마이저 오브젝트 생성\n",
    "3-4. 옵티마이저 오브젝트, 손실함수를 네트워크에 알려줌\n",
    "4. 미분 & 업데이트의 반복(for문)\n",
    "5. 결과값 확인\n",
    "```"
   ]
  }
 ],
 "metadata": {
  "kernelspec": {
   "display_name": "Python 3 (ipykernel)",
   "language": "python",
   "name": "python3"
  },
  "language_info": {
   "codemirror_mode": {
    "name": "ipython",
    "version": 3
   },
   "file_extension": ".py",
   "mimetype": "text/x-python",
   "name": "python",
   "nbconvert_exporter": "python",
   "pygments_lexer": "ipython3",
   "version": "3.8.12"
  }
 },
 "nbformat": 4,
 "nbformat_minor": 5
}
