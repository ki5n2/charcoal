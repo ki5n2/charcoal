{
  "cells": [
    {
      "cell_type": "markdown",
      "id": "3ad8f258-e2b9-45ce-9b53-a8ff6844d423",
      "metadata": {
        "id": "3ad8f258-e2b9-45ce-9b53-a8ff6844d423"
      },
      "source": [
        "# DS 14. Maxfooling2D, Conv2D를 이용한 풀이\n",
        "\n",
        "> \"작성완료\"\n",
        "\n",
        "- toc: true\n",
        "- branch: master\n",
        "- badges: true\n",
        "- comments: true\n",
        "- [python, Data Science]"
      ]
    },
    {
      "cell_type": "markdown",
      "id": "6d1257c2-56c7-433c-b8af-2bcf847aca1e",
      "metadata": {
        "id": "6d1257c2-56c7-433c-b8af-2bcf847aca1e"
      },
      "source": [
        "---\n",
        "# Data Science\n",
        "- lenture: Data Science_11-1nd week of lectures.\n",
        "- lenture date: 2022-05-11\n",
        "- lecturer: Guebin choi\n",
        "- study date: 2022-05-12\n",
        "- author: Kione kim\n",
        "---"
      ]
    },
    {
      "cell_type": "code",
      "execution_count": null,
      "id": "811dcb0d-af01-4164-bb7b-d7f5f82cde46",
      "metadata": {
        "id": "811dcb0d-af01-4164-bb7b-d7f5f82cde46"
      },
      "outputs": [],
      "source": [
        "import tensorflow as tf \n",
        "import tensorflow.experimental.numpy as tnp"
      ]
    },
    {
      "cell_type": "code",
      "execution_count": null,
      "id": "316a2d1a-3d83-428f-87e9-b3b36a6f073c",
      "metadata": {
        "id": "316a2d1a-3d83-428f-87e9-b3b36a6f073c"
      },
      "outputs": [],
      "source": [
        "tnp.experimental_enable_numpy_behavior()"
      ]
    },
    {
      "cell_type": "code",
      "execution_count": null,
      "id": "23ebcb7b-e3c1-4505-b4df-c2d964e286f8",
      "metadata": {
        "id": "23ebcb7b-e3c1-4505-b4df-c2d964e286f8"
      },
      "outputs": [],
      "source": [
        "import matplotlib.pyplot as plt"
      ]
    },
    {
      "cell_type": "markdown",
      "id": "e1be92e1-66ec-432f-9b97-1fad97f71725",
      "metadata": {
        "id": "e1be92e1-66ec-432f-9b97-1fad97f71725"
      },
      "source": [
        "## Review"
      ]
    },
    {
      "cell_type": "markdown",
      "id": "021b3eff-f333-487e-9845-cc4a2d6821db",
      "metadata": {
        "id": "021b3eff-f333-487e-9845-cc4a2d6821db"
      },
      "source": [
        "`-` 데이터"
      ]
    },
    {
      "cell_type": "code",
      "execution_count": null,
      "id": "c2abca6e-87a9-4a03-841b-55545066ac97",
      "metadata": {
        "id": "c2abca6e-87a9-4a03-841b-55545066ac97"
      },
      "outputs": [],
      "source": [
        "(x_train, y_train), (x_test, y_test) = tf.keras.datasets.fashion_mnist.load_data()"
      ]
    },
    {
      "cell_type": "code",
      "execution_count": null,
      "id": "bd10d704-d981-4003-94ab-353f6933c71f",
      "metadata": {
        "id": "bd10d704-d981-4003-94ab-353f6933c71f",
        "outputId": "e1f6bc5a-80eb-4973-e951-43ed1e863fb9"
      },
      "outputs": [
        {
          "data": {
            "text/plain": [
              "(60000,)"
            ]
          },
          "execution_count": 9,
          "metadata": {},
          "output_type": "execute_result"
        }
      ],
      "source": [
        "y_train.shape"
      ]
    },
    {
      "cell_type": "code",
      "execution_count": null,
      "id": "eae4689a-a2c9-4d6b-aff7-0e1292609de2",
      "metadata": {
        "id": "eae4689a-a2c9-4d6b-aff7-0e1292609de2"
      },
      "outputs": [],
      "source": [
        "X= tf.constant(x_train.reshape(-1,28,28,1),dtype=tf.float64)\n",
        "y= tf.keras.utils.to_categorical(y_train)\n",
        "XX= tf.constant(x_test.reshape(-1,28,28,1),dtype=tf.float64)\n",
        "yy= tf.keras.utils.to_categorical(y_test)"
      ]
    },
    {
      "cell_type": "markdown",
      "id": "56e4d844-3aa0-4056-bd1b-04acc29030be",
      "metadata": {
        "id": "56e4d844-3aa0-4056-bd1b-04acc29030be"
      },
      "source": [
        "`-` net1"
      ]
    },
    {
      "cell_type": "code",
      "execution_count": null,
      "id": "0e071a29-eca6-4d75-bfe6-4d2f72975a17",
      "metadata": {
        "id": "0e071a29-eca6-4d75-bfe6-4d2f72975a17",
        "outputId": "89959399-8ef4-47a4-b208-bbc0d023fc5f"
      },
      "outputs": [
        {
          "name": "stdout",
          "output_type": "stream",
          "text": [
            "Epoch 1/5\n",
            "1875/1875 [==============================] - 9s 4ms/step - loss: 2.5388 - accuracy: 0.4048\n",
            "Epoch 2/5\n",
            "1875/1875 [==============================] - 7s 4ms/step - loss: 1.2080 - accuracy: 0.5134\n",
            "Epoch 3/5\n",
            "1875/1875 [==============================] - 7s 4ms/step - loss: 1.0115 - accuracy: 0.5905\n",
            "Epoch 4/5\n",
            "1875/1875 [==============================] - 10s 5ms/step - loss: 0.9389 - accuracy: 0.6169\n",
            "Epoch 5/5\n",
            "1875/1875 [==============================] - 7s 4ms/step - loss: 0.8639 - accuracy: 0.6457\n"
          ]
        },
        {
          "data": {
            "text/plain": [
              "<keras.callbacks.History at 0x21eb2392760>"
            ]
          },
          "execution_count": 28,
          "metadata": {},
          "output_type": "execute_result"
        }
      ],
      "source": [
        "tf.random.set_seed(43052)\n",
        "net1= tf.keras.Sequential()\n",
        "net1.add(tf.keras.layers.Flatten())\n",
        "net1.add(tf.keras.layers.Dense(30, activation='relu'))\n",
        "net1.add(tf.keras.layers.Dense(10, activation='softmax'))\n",
        "net1.compile(loss=tf.keras.losses.categorical_crossentropy, optimizer= 'adam', metrics= ['accuracy'])\n",
        "net1.fit(X,y,epochs=5)"
      ]
    },
    {
      "cell_type": "code",
      "execution_count": null,
      "id": "ecd0d51d-b024-4d5e-a583-9f47d1d40cc1",
      "metadata": {
        "id": "ecd0d51d-b024-4d5e-a583-9f47d1d40cc1",
        "outputId": "3708e25e-99e0-4986-fbb9-90642c1a434b"
      },
      "outputs": [
        {
          "name": "stdout",
          "output_type": "stream",
          "text": [
            "313/313 [==============================] - 1s 3ms/step - loss: 0.8616 - accuracy: 0.6555\n"
          ]
        },
        {
          "data": {
            "text/plain": [
              "[0.8615648150444031, 0.6554999947547913]"
            ]
          },
          "execution_count": 29,
          "metadata": {},
          "output_type": "execute_result"
        }
      ],
      "source": [
        "net1.evaluate(XX,yy)"
      ]
    },
    {
      "cell_type": "markdown",
      "id": "e2d3bcf1-53f2-4d6c-aecc-2518eb2534e9",
      "metadata": {
        "id": "e2d3bcf1-53f2-4d6c-aecc-2518eb2534e9"
      },
      "source": [
        "`-` net2"
      ]
    },
    {
      "cell_type": "code",
      "execution_count": null,
      "id": "f748faf9-3de9-44a6-9d43-793b79fb1d86",
      "metadata": {
        "id": "f748faf9-3de9-44a6-9d43-793b79fb1d86",
        "outputId": "4987388e-8a95-4ed1-fb6c-d27171bec5d1"
      },
      "outputs": [
        {
          "name": "stdout",
          "output_type": "stream",
          "text": [
            "Epoch 1/5\n",
            "1875/1875 [==============================] - 46s 24ms/step - loss: 1.1121 - accuracy: 0.7888\n",
            "Epoch 2/5\n",
            "1875/1875 [==============================] - 47s 25ms/step - loss: 0.4588 - accuracy: 0.8368\n",
            "Epoch 3/5\n",
            "1875/1875 [==============================] - 38s 20ms/step - loss: 0.4150 - accuracy: 0.8538\n",
            "Epoch 4/5\n",
            "1875/1875 [==============================] - 38s 20ms/step - loss: 0.3933 - accuracy: 0.8618\n",
            "Epoch 5/5\n",
            "1875/1875 [==============================] - 37s 20ms/step - loss: 0.3712 - accuracy: 0.8687\n"
          ]
        },
        {
          "data": {
            "text/plain": [
              "<keras.callbacks.History at 0x21eb19729a0>"
            ]
          },
          "execution_count": 30,
          "metadata": {},
          "output_type": "execute_result"
        }
      ],
      "source": [
        "tf.random.set_seed(43052)\n",
        "net2= tf.keras.Sequential()\n",
        "net2.add(tf.keras.layers.Flatten())\n",
        "net2.add(tf.keras.layers.Dense(500, activation= 'relu'))\n",
        "net2.add(tf.keras.layers.Dense(500, activation= 'relu'))\n",
        "net2.add(tf.keras.layers.Dense(500, activation= 'relu'))\n",
        "net2.add(tf.keras.layers.Dense(500, activation= 'relu'))\n",
        "net2.add(tf.keras.layers.Dense(10, activation= 'softmax'))\n",
        "net2.compile(loss=tf.keras.losses.categorical_crossentropy, optimizer= 'adam', metrics=['accuracy'])\n",
        "net2.fit(X,y,epochs=5)"
      ]
    },
    {
      "cell_type": "code",
      "execution_count": null,
      "id": "ded92ac9-6e81-412d-ba7f-d75820f9240c",
      "metadata": {
        "id": "ded92ac9-6e81-412d-ba7f-d75820f9240c",
        "outputId": "63d2ed8c-4a17-4cf8-ea32-378ba2177411"
      },
      "outputs": [
        {
          "name": "stdout",
          "output_type": "stream",
          "text": [
            "313/313 [==============================] - 3s 9ms/step - loss: 0.4488 - accuracy: 0.8496\n"
          ]
        },
        {
          "data": {
            "text/plain": [
              "[0.4488353431224823, 0.8496000170707703]"
            ]
          },
          "execution_count": 31,
          "metadata": {},
          "output_type": "execute_result"
        }
      ],
      "source": [
        "net2.evaluate(XX,yy)"
      ]
    },
    {
      "cell_type": "markdown",
      "id": "3e2cdb67-df9a-4ab7-abb7-3a656bba2ba1",
      "metadata": {
        "id": "3e2cdb67-df9a-4ab7-abb7-3a656bba2ba1"
      },
      "source": [
        "- DNN 아키텍처로는 한계가 있음\n",
        "- 다른 방안이 필요함!"
      ]
    },
    {
      "cell_type": "markdown",
      "id": "582ad741-fe27-424f-b7e5-452ed1ff4a21",
      "metadata": {
        "id": "582ad741-fe27-424f-b7e5-452ed1ff4a21"
      },
      "source": [
        "## Maxfooling 2D, Conv2D 이용한 풀이"
      ]
    },
    {
      "cell_type": "markdown",
      "id": "15784765-49c3-4fb1-8c49-a3a0a8ad95dd",
      "metadata": {
        "id": "15784765-49c3-4fb1-8c49-a3a0a8ad95dd"
      },
      "source": [
        "`-` net3"
      ]
    },
    {
      "cell_type": "code",
      "execution_count": null,
      "id": "c92db7c6-09ca-4e7e-a041-784d852ea12f",
      "metadata": {
        "id": "c92db7c6-09ca-4e7e-a041-784d852ea12f",
        "outputId": "976f8fe1-9207-4468-a30b-bed599e9b4a4"
      },
      "outputs": [
        {
          "name": "stdout",
          "output_type": "stream",
          "text": [
            "Epoch 1/5\n",
            "1875/1875 [==============================] - 40s 20ms/step - loss: 0.7706 - accuracy: 0.8093\n",
            "Epoch 2/5\n",
            "1875/1875 [==============================] - 31s 17ms/step - loss: 0.3572 - accuracy: 0.8723\n",
            "Epoch 3/5\n",
            "1875/1875 [==============================] - 36s 19ms/step - loss: 0.3161 - accuracy: 0.8868\n",
            "Epoch 4/5\n",
            "1875/1875 [==============================] - 33s 18ms/step - loss: 0.2931 - accuracy: 0.8942\n",
            "Epoch 5/5\n",
            "1875/1875 [==============================] - 33s 17ms/step - loss: 0.2757 - accuracy: 0.8995\n"
          ]
        },
        {
          "data": {
            "text/plain": [
              "<keras.callbacks.History at 0x21e933839a0>"
            ]
          },
          "execution_count": 11,
          "metadata": {},
          "output_type": "execute_result"
        }
      ],
      "source": [
        "tf.random.set_seed(43052)\n",
        "net3= tf.keras.Sequential()\n",
        "net3.add(tf.keras.layers.Conv2D(30,(2,2),activation='relu')) # layer1\n",
        "net3.add(tf.keras.layers.MaxPool2D()) # layer2\n",
        "net3.add(tf.keras.layers.Conv2D(30,(2,2),activation='relu')) # layer3\n",
        "net3.add(tf.keras.layers.MaxPool2D()) # layer4\n",
        "net3.add(tf.keras.layers.Flatten()) # layer5\n",
        "net3.add(tf.keras.layers.Dense(10,activation='softmax')) # layer6\n",
        "net3.compile(loss=tf.keras.losses.categorical_crossentropy, optimizer='adam', metrics=['accuracy'])\n",
        "net3.fit(X,y,epochs=5)"
      ]
    },
    {
      "cell_type": "markdown",
      "id": "5fe50baf-a5a1-4c27-899a-77703fe1ec8f",
      "metadata": {
        "id": "5fe50baf-a5a1-4c27-899a-77703fe1ec8f"
      },
      "source": [
        "- 기존 DNN 모형에서는 Flatten( )을 이용하여 N×p의 형태로 만들어 준 후 layer들을 추가하여 사용하였는데,\n",
        "- 위 모형에서는 Conv 2d, Maxpool 2d, Conv 2d, Maxpool 2d layer를 사용한 다음 Flatten()을 사용하였다.\n",
        "- 즉, 위 모형에서 Flatten()을 사용하기 전까지의 형태는 이미지 자료가 입력으로 들어가서 이미지 자료가 출력으로 나온 것이다."
      ]
    },
    {
      "cell_type": "code",
      "execution_count": null,
      "id": "796a6fe2-2659-4eb3-a318-35c7d61fcf32",
      "metadata": {
        "id": "796a6fe2-2659-4eb3-a318-35c7d61fcf32",
        "outputId": "ccac90ec-648d-4be7-8f8e-fe15f3ce6903"
      },
      "outputs": [
        {
          "name": "stdout",
          "output_type": "stream",
          "text": [
            "313/313 [==============================] - 2s 6ms/step - loss: 0.3535 - accuracy: 0.8716\n"
          ]
        },
        {
          "data": {
            "text/plain": [
              "[0.35350102186203003, 0.8715999722480774]"
            ]
          },
          "execution_count": 12,
          "metadata": {},
          "output_type": "execute_result"
        }
      ],
      "source": [
        "net3.evaluate(XX,yy)"
      ]
    },
    {
      "cell_type": "markdown",
      "id": "21fc304d-a98c-41fb-a6d9-dabf2043cc10",
      "metadata": {
        "id": "21fc304d-a98c-41fb-a6d9-dabf2043cc10"
      },
      "source": [
        "- 기존의 DNN 모형으로 분류한 것보다 더 높은 accuracy가 나왔다! -> DNN의 한계를 가볍게 돌파!!"
      ]
    },
    {
      "cell_type": "markdown",
      "id": "60811d35-0540-445f-89be-86a6ad5a019a",
      "metadata": {
        "id": "60811d35-0540-445f-89be-86a6ad5a019a"
      },
      "source": [
        "### net3의 구조(네트워크 뜯어보기)"
      ]
    },
    {
      "cell_type": "code",
      "execution_count": null,
      "id": "cf2b5035-8610-4841-825a-c139079c97e9",
      "metadata": {
        "id": "cf2b5035-8610-4841-825a-c139079c97e9",
        "outputId": "8930deaf-2586-45d6-ea69-958d5c2b5cc4"
      },
      "outputs": [
        {
          "data": {
            "text/plain": [
              "[<keras.layers.convolutional.Conv2D at 0x21e93483490>,\n",
              " <keras.layers.pooling.MaxPooling2D at 0x21e93483730>,\n",
              " <keras.layers.convolutional.Conv2D at 0x21e93483be0>,\n",
              " <keras.layers.pooling.MaxPooling2D at 0x21e93483700>,\n",
              " <keras.layers.core.flatten.Flatten at 0x21e90b7b4c0>,\n",
              " <keras.layers.core.dense.Dense at 0x21e932c9790>]"
            ]
          },
          "execution_count": 17,
          "metadata": {},
          "output_type": "execute_result"
        }
      ],
      "source": [
        "net3.layers"
      ]
    },
    {
      "cell_type": "code",
      "execution_count": null,
      "id": "49955510-4660-4ea7-a212-82f96e0ee4f0",
      "metadata": {
        "id": "49955510-4660-4ea7-a212-82f96e0ee4f0"
      },
      "outputs": [],
      "source": [
        "cv1, mp1, cv2, mp2, flttn, d1 = net3.layers # 언패킹"
      ]
    },
    {
      "cell_type": "code",
      "execution_count": null,
      "id": "4bf9d57b-9b55-4a22-96fa-59be8b7908ca",
      "metadata": {
        "id": "4bf9d57b-9b55-4a22-96fa-59be8b7908ca",
        "outputId": "a5df7949-909d-433e-fe1a-827203107b8b"
      },
      "outputs": [
        {
          "name": "stdout",
          "output_type": "stream",
          "text": [
            "(10000, 28, 28, 1)\n",
            "(10000, 27, 27, 30)\n",
            "(10000, 13, 13, 30)\n",
            "(10000, 12, 12, 30)\n",
            "(10000, 6, 6, 30)\n",
            "(10000, 1080)\n",
            "(10000, 10)\n"
          ]
        }
      ],
      "source": [
        "print(XX.shape)\n",
        "print(cv1(XX).shape)\n",
        "print(mp1(cv1(XX)).shape)\n",
        "print(cv2(mp1(cv1(XX))).shape)\n",
        "print(mp2(cv2(mp1(cv1(XX)))).shape)\n",
        "print(flttn(mp2(cv2(mp1(cv1(XX))))).shape)\n",
        "print(d1(flttn(mp2(cv2(mp1(cv1(XX)))))).shape)"
      ]
    },
    {
      "cell_type": "markdown",
      "id": "5f21aa6f-c4eb-456b-81e1-995674d10523",
      "metadata": {
        "id": "5f21aa6f-c4eb-456b-81e1-995674d10523"
      },
      "source": [
        "- shape을 잘 따지는 게 중요하다! 동작원리를 이해하는데 도움!!!\n",
        "- Conv2D를 통과시키니 이미지 사이즈는 기존 사이즈보다 가로, 세로 하나씩 작아졌고 채널은 30이 되었음.\n",
        "- Maxpool2D를 통과시키니 이미지 사이즈는 기존 사이즈(27×27)보다 약 1/2 작아진 (13×13)이 되었음. (2로 나누고 하나가 남으면 버림)\n",
        "- 두 번째 Conv2D, Maxpool2D는 마찬가지이다.\n",
        "- Flatten()을 해주면 obs를 제외한 나머지를 shrinke해줌!(6×6×30 -> 1080)\n",
        "- Flatten은 (obs, 가로픽셀, 세로픽셀, 채널)을 가로픽셀 × 세로픽셀 × 채널 = p 로 해주는 것임!"
      ]
    },
    {
      "cell_type": "markdown",
      "id": "87bebb7a-87c3-4ace-b8d4-13f6a20065a5",
      "metadata": {
        "id": "87bebb7a-87c3-4ace-b8d4-13f6a20065a5"
      },
      "source": [
        "- 의문: 흠,, 근데 이 모형 좀 복잡한 거 아닌가?"
      ]
    },
    {
      "cell_type": "markdown",
      "id": "41512171-6981-40bf-a258-29f9b200a42a",
      "metadata": {
        "id": "41512171-6981-40bf-a258-29f9b200a42a"
      },
      "source": [
        "### 파라메터 수 비교"
      ]
    },
    {
      "cell_type": "code",
      "execution_count": null,
      "id": "be01809b-b182-435c-8379-e0e9b4558173",
      "metadata": {
        "id": "be01809b-b182-435c-8379-e0e9b4558173",
        "outputId": "7bdfe52f-d798-410f-e338-ed1906aa55d6"
      },
      "outputs": [
        {
          "name": "stdout",
          "output_type": "stream",
          "text": [
            "Model: \"sequential_3\"\n",
            "_________________________________________________________________\n",
            " Layer (type)                Output Shape              Param #   \n",
            "=================================================================\n",
            " flatten_2 (Flatten)         (None, 784)               0         \n",
            "                                                                 \n",
            " dense_2 (Dense)             (None, 30)                23550     \n",
            "                                                                 \n",
            " dense_3 (Dense)             (None, 10)                310       \n",
            "                                                                 \n",
            "=================================================================\n",
            "Total params: 23,860\n",
            "Trainable params: 23,860\n",
            "Non-trainable params: 0\n",
            "_________________________________________________________________\n"
          ]
        }
      ],
      "source": [
        "net1.summary()"
      ]
    },
    {
      "cell_type": "code",
      "execution_count": null,
      "id": "e8553a6a-e3c3-4f62-96fb-61f013f71beb",
      "metadata": {
        "id": "e8553a6a-e3c3-4f62-96fb-61f013f71beb",
        "outputId": "43bf67df-2f94-443d-e3f7-b670d6c70952"
      },
      "outputs": [
        {
          "name": "stdout",
          "output_type": "stream",
          "text": [
            "Model: \"sequential_4\"\n",
            "_________________________________________________________________\n",
            " Layer (type)                Output Shape              Param #   \n",
            "=================================================================\n",
            " flatten_3 (Flatten)         (None, 784)               0         \n",
            "                                                                 \n",
            " dense_4 (Dense)             (None, 500)               392500    \n",
            "                                                                 \n",
            " dense_5 (Dense)             (None, 500)               250500    \n",
            "                                                                 \n",
            " dense_6 (Dense)             (None, 500)               250500    \n",
            "                                                                 \n",
            " dense_7 (Dense)             (None, 500)               250500    \n",
            "                                                                 \n",
            " dense_8 (Dense)             (None, 10)                5010      \n",
            "                                                                 \n",
            "=================================================================\n",
            "Total params: 1,149,010\n",
            "Trainable params: 1,149,010\n",
            "Non-trainable params: 0\n",
            "_________________________________________________________________\n"
          ]
        }
      ],
      "source": [
        "net2.summary()"
      ]
    },
    {
      "cell_type": "code",
      "execution_count": null,
      "id": "88352fa4-38ca-4657-82c8-3c664959f939",
      "metadata": {
        "id": "88352fa4-38ca-4657-82c8-3c664959f939",
        "outputId": "e324133e-983d-460a-995e-6aceece11de9"
      },
      "outputs": [
        {
          "name": "stdout",
          "output_type": "stream",
          "text": [
            "Model: \"sequential_2\"\n",
            "_________________________________________________________________\n",
            " Layer (type)                Output Shape              Param #   \n",
            "=================================================================\n",
            " conv2d_2 (Conv2D)           (None, 27, 27, 30)        150       \n",
            "                                                                 \n",
            " max_pooling2d_2 (MaxPooling  (None, 13, 13, 30)       0         \n",
            " 2D)                                                             \n",
            "                                                                 \n",
            " conv2d_3 (Conv2D)           (None, 12, 12, 30)        3630      \n",
            "                                                                 \n",
            " max_pooling2d_3 (MaxPooling  (None, 6, 6, 30)         0         \n",
            " 2D)                                                             \n",
            "                                                                 \n",
            " flatten_1 (Flatten)         (None, 1080)              0         \n",
            "                                                                 \n",
            " dense_1 (Dense)             (None, 10)                10810     \n",
            "                                                                 \n",
            "=================================================================\n",
            "Total params: 14,590\n",
            "Trainable params: 14,590\n",
            "Non-trainable params: 0\n",
            "_________________________________________________________________\n"
          ]
        }
      ],
      "source": [
        "net3.summary()"
      ]
    },
    {
      "cell_type": "markdown",
      "id": "ce0a4aba-95bc-4542-9537-91632fe350e3",
      "metadata": {
        "id": "ce0a4aba-95bc-4542-9537-91632fe350e3"
      },
      "source": [
        "1. net1의 파라메터: 23,860\n",
        "2. net2의 파라메터: 149,010\n",
        "3. net3의 파라메터: 14,590"
      ]
    },
    {
      "cell_type": "code",
      "execution_count": null,
      "id": "ecb035db-7991-4376-b6c5-2b106066005e",
      "metadata": {
        "id": "ecb035db-7991-4376-b6c5-2b106066005e",
        "outputId": "56b1620d-a889-447e-e108-fdb7b010f8d9"
      },
      "outputs": [
        {
          "data": {
            "text/plain": [
              "0.6114836546521375"
            ]
          },
          "execution_count": 36,
          "metadata": {},
          "output_type": "execute_result"
        }
      ],
      "source": [
        "14590/23860"
      ]
    },
    {
      "cell_type": "code",
      "execution_count": null,
      "id": "58682caf-c9dd-4836-8788-a4e746842d03",
      "metadata": {
        "id": "58682caf-c9dd-4836-8788-a4e746842d03",
        "outputId": "debcb7a0-384a-4920-e5e4-4e3bcad02fca"
      },
      "outputs": [
        {
          "data": {
            "text/plain": [
              "0.09791289175223139"
            ]
          },
          "execution_count": 37,
          "metadata": {},
          "output_type": "execute_result"
        }
      ],
      "source": [
        "14590/149010"
      ]
    },
    {
      "cell_type": "markdown",
      "id": "1122bcc0-c60b-49b7-850e-7deeadf812bc",
      "metadata": {
        "id": "1122bcc0-c60b-49b7-850e-7deeadf812bc"
      },
      "source": [
        "- net3의 파라메터수는 net1의 3/5 수준이고 net2의 1/10 수준이다."
      ]
    }
  ],
  "metadata": {
    "kernelspec": {
      "display_name": "Python 3 (ipykernel)",
      "language": "python",
      "name": "python3"
    },
    "language_info": {
      "codemirror_mode": {
        "name": "ipython",
        "version": 3
      },
      "file_extension": ".py",
      "mimetype": "text/x-python",
      "name": "python",
      "nbconvert_exporter": "python",
      "pygments_lexer": "ipython3",
      "version": "3.8.12"
    },
    "colab": {
      "name": "2022-05-12-DS.ipynb",
      "provenance": []
    }
  },
  "nbformat": 4,
  "nbformat_minor": 5
}