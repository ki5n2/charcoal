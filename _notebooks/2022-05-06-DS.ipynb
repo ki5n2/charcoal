{
 "cells": [
  {
   "cell_type": "markdown",
   "id": "be8d5d05-4a4a-438a-9472-9e3f2b81be5c",
   "metadata": {},
   "source": [
    "# DS 12. 로지스틱 모형(Activation function: sigmoid, softmax), Fashion_MNIST 다중분류\n",
    "\n",
    "> \"작성완료\"\n",
    "\n",
    "- toc: true\n",
    "- branch: master\n",
    "- badges: true\n",
    "- comments: true\n",
    "- [python, Data Science]"
   ]
  },
  {
   "cell_type": "markdown",
   "id": "138311d4-3ddd-4811-a231-4ed68d6401b2",
   "metadata": {},
   "source": [
    "---\n",
    "# Data Science\n",
    "- lenture: Data Science_10-1nd week of lectures.\n",
    "- lenture date: 2022-05-04\n",
    "- lecturer: Guebin choi\n",
    "- study date: 2022-05-06\n",
    "- author: Kione kim\n",
    "---"
   ]
  },
  {
   "cell_type": "code",
   "execution_count": 1,
   "id": "a7610b44-6b29-4108-970d-01149be65acf",
   "metadata": {},
   "outputs": [],
   "source": [
    "import tensorflow as tf\n",
    "import matplotlib.pyplot as plt\n",
    "import numpy as np\n",
    "import tensorflow.experimental.numpy as tnp"
   ]
  },
  {
   "cell_type": "code",
   "execution_count": 2,
   "id": "1d933577-5223-4c87-b2f1-eeddc62073b9",
   "metadata": {},
   "outputs": [
    {
     "data": {
      "text/plain": [
       "[PhysicalDevice(name='/physical_device:CPU:0', device_type='CPU')]"
      ]
     },
     "execution_count": 2,
     "metadata": {},
     "output_type": "execute_result"
    }
   ],
   "source": [
    "tf.config.experimental.list_physical_devices()"
   ]
  },
  {
   "cell_type": "code",
   "execution_count": 3,
   "id": "cd045415-a6d3-4525-bb2c-b1e1b06b3d50",
   "metadata": {},
   "outputs": [],
   "source": [
    "import graphviz\n",
    "def gv(s): return graphviz.Source('digraph G{ rankdir=\"LR\"'+ s + ';}')"
   ]
  },
  {
   "cell_type": "markdown",
   "id": "398c538f-02bd-4bec-9690-bf387f76647a",
   "metadata": {},
   "source": [
    "### 로지스틱 모형 (1): 활성화함수로 sigmoid 선택"
   ]
  },
  {
   "cell_type": "markdown",
   "id": "96e43c69-6368-4246-b135-3818c51039b1",
   "metadata": {},
   "source": [
    "`-` 기본버전"
   ]
  },
  {
   "cell_type": "markdown",
   "id": "51091a44-66f4-4e54-8f4b-c4fdccb0675e",
   "metadata": {},
   "source": [
    "$$y_i \\approx(비례) \\text{sigmoid}(b + w_1 x_{1,i} + \\dots + w_{784}x_{784,i})=(등호) \\frac{\\exp(b + w_1 x_{1,i} + \\dots + w_{784}x_{784,i})}{1+\\exp(b + w_1 x_{1,i} + \\dots + w_{784}x_{784,i})}$$"
   ]
  },
  {
   "cell_type": "markdown",
   "id": "a4afe07c-84ac-4a95-bbda-9261cbaab7b7",
   "metadata": {},
   "source": [
    "$${\\boldsymbol y} \\approx \\text{sigmoid}({\\bf X}{\\bf W} + b) = \\frac{\\exp({\\bf XW} +b)}{1+\\exp({\\bf XW} +b)}$$ "
   ]
  },
  {
   "cell_type": "markdown",
   "id": "c09feee6-adb2-421a-855a-286553a49567",
   "metadata": {},
   "source": [
    "- sigmoid를 사용하는 이유: 확률계산 및 해석을 손쉽게 하기 위해!\n",
    "1. y값은 0과 1로 정해져있는 반면, sigmoid를 취해주지 않으면 XW + b의 값이 음수를 포함한 실수가 될 수 있기에 확률을 알기 어려운 점이 있다.\n",
    "2. x(학점)가 3.0에서 3.5로 증가하면 y(합격)가 얼만큼 증가(합격률)하는지 궁금한데, sigmoid를 취해주지 않으면 이에 대한 확률을 계산하기 어렵다.\n",
    "-> 확률 계산 및 해석을 쉽게 하기 위해 sigmoid를 취해준다고 보면 된다."
   ]
  },
  {
   "cell_type": "markdown",
   "id": "9ecf321d-7db0-4e7a-8d8f-e4393b5f4d46",
   "metadata": {},
   "source": [
    "`-` 벡터버전에 사용된 차원 및 연산 정리\n",
    "\n",
    "- ${\\bf X}$: (n,784) matrix \n",
    "\n",
    "- ${\\boldsymbol y}$: (n,1) matrix\n",
    "\n",
    "- ${\\bf W}$: (784,1) matrix\n",
    "\n",
    "- $b$: (1,1) matrix\n",
    "\n",
    "- `+`, `exp` 는 브로드캐스팅"
   ]
  },
  {
   "cell_type": "markdown",
   "id": "929d894f-f458-407f-bb07-99e0b5dd4fa0",
   "metadata": {},
   "source": [
    "**y 해석: XW+b의 값이 큰 row일 수록 대응하는 y의 row 값은 1, 작은 row일 수록 대응하는 y의 row 값은 0이다.**"
   ]
  },
  {
   "cell_type": "markdown",
   "id": "a68d0122-1574-462f-bda8-2c0c8f7b4013",
   "metadata": {},
   "source": [
    "### 로지스틱 모형 (2): 활성화함수로 softmax 선택"
   ]
  },
  {
   "cell_type": "markdown",
   "id": "7ba7ee86-a9ff-47f9-afab-4e600ae1ac9c",
   "metadata": {},
   "source": [
    "`원핫인코딩:` $y_i=0 \\text{ or } 1$ 대신에 $\\boldsymbol{y}_i=[y_{i1},y_{i2}]= [1,0] \\text { or } [0,1]$와 같이 코딩\n",
    "- 원핫인코딩을 하는 이유: 원핫인코딩을 하면 다항분포를 따르게 되므로 오차항을 가정할 수 있고 오차항이 가정되면 loss를 정의할 때 -log likelyhood로 바꿔서 정의할 수 있기 때문이다."
   ]
  },
  {
   "cell_type": "markdown",
   "id": "3fcb4a65-59e1-4c75-ad11-1d25b68b4301",
   "metadata": {},
   "source": [
    "`-` 활성화 함수를 취하기 전의 버전\n",
    "\n",
    "$$[{\\boldsymbol y}_1 ~ {\\boldsymbol y}_2] \\propto  [ {\\bf X}{\\bf W}_1  ~ {\\bf X}{\\bf W}_2] + [b_1 ~ b_2]= {\\bf X} [{\\bf W}_1 {\\bf W}_2] + [b_1 ~ b_2]= {\\bf X}{\\bf W} + {\\boldsymbol b}$$\n",
    "    \n",
    "여기에서 매트릭스 및 연산의 차원을 정리하면 아래와 같다. \n",
    "\n",
    "- ${\\bf X}$: (n,784) matrix \n",
    "\n",
    "- ${\\boldsymbol y}_1,{\\boldsymbol y}_2$: (n,1) matrix\n",
    "\n",
    "- ${\\boldsymbol y}:=[{\\boldsymbol y}_1~ {\\boldsymbol y}_2]$: (n,2) matrix\n",
    "\n",
    "- ${\\bf W}_1$, ${\\bf W}_2$: (784,1) matrix\n",
    "\n",
    "- ${\\bf W}:=[{\\bf W}_1~ {\\bf W}_2]$: (784,2) matrix\n",
    "\n",
    "- $b_1,b_2$: (1,1) matrix\n",
    "\n",
    "- $\\boldsymbol{b}:= [b_1 ~b_2] $: (1,2) matrix\n",
    "\n",
    "- `+` 는 브로드캐스팅\n",
    "\n"
   ]
  },
  {
   "cell_type": "markdown",
   "id": "39aaef67-beda-401a-8e2b-c96336fefdf5",
   "metadata": {},
   "source": [
    "`-` 즉 로지스틱 모형 (1)의 형태를 겹쳐놓은 형태로 해석할 수 있음. 따라서 ${\\bf X} {\\bf W}_1 + b_1$와 ${\\bf X} {\\bf W}_2 + b_2$의 row값이 클수록 ${\\boldsymbol y}_1$와 ${\\boldsymbol y}_2$의 row값이 1이어야 함 \n",
    "\n",
    "- ${\\boldsymbol y}_1 \\propto  {\\bf X} {\\bf W}_1 + b_1$ $\\to$ ${\\bf X} {\\bf W}_1 + b_1$의 row값이 클수록 $\\boldsymbol{y}_1$의 row 값이 1이라면 모형계수를 잘 추정한 것 \n",
    "- ${\\boldsymbol y}_2 \\propto  {\\bf X} {\\bf W}_2 + b_2$ $\\to$ ${\\bf X} {\\bf W}_2 + b_2$의 row값이 클수록 $\\boldsymbol{y}_2$의 row 값을 1이라면 모형계수를 잘 추정한 것\n"
   ]
  },
  {
   "cell_type": "markdown",
   "id": "e72ae7e4-dc0f-4d15-8a95-7ae9f54b7728",
   "metadata": {},
   "source": [
    "`질문` ${\\bf X}{\\bf W}_1 +b_1$의 값이 500, ${\\bf X}{\\bf W}_2 +b_2$의 값이 200 인 row가 있다면 대응하는 $\\boldsymbol{y}_1, \\boldsymbol{y}_2$의 row값은 얼마로 적합되어야 할까? \n",
    "\n",
    "(1) $[0,0]$\n",
    "\n",
    "(2) $[0,1]$\n",
    "\n",
    "(3) $[1,0]$ <- 답\n",
    "\n",
    "(4) $[1,1]$"
   ]
  },
  {
   "cell_type": "markdown",
   "id": "b2d65cba-fe0d-4104-b172-19d6944f4655",
   "metadata": {},
   "source": [
    ": ${\\bf X}{\\bf W}_1 +b_1$의 값이 ${\\bf X}{\\bf W}_2 +b_2$의 값보다 크므로 (3)이 답"
   ]
  },
  {
   "cell_type": "markdown",
   "id": "d4b5c488-db6c-4c6a-b4b9-645421283a8a",
   "metadata": {},
   "source": [
    "`목표` 위와 같은 문제의 답을 유도해주는 활성화함수를 설계하자. 즉 합리적인 $\\hat{\\boldsymbol{y}}_1,\\hat{\\boldsymbol{y}}_2$를 구해주는 활성화 함수를 설계해보자. 이를 위해서는 아래의 사항들이 충족되어야 한다. \n",
    "\n",
    "(1) $\\hat{\\boldsymbol{y}}_1$, $\\hat{\\boldsymbol{y}}_2$의 각 원소는 확률을 의미하기 때문에 0보다 크고 1보다 작아야 한다.\n",
    "\n",
    "(2) $\\hat{\\boldsymbol{y}}_1+\\hat{\\boldsymbol{y}}_2={\\bf 1}$ 이어야 한다. 확률의 총합은 1 이기 때문\n",
    "\n",
    "(3) $\\hat{\\boldsymbol{y}}_1$와 $\\hat{\\boldsymbol{y}}_2$를 각각 따로 해석하면 모형(1)처럼 로지스틱의 형태로 되었으면 좋겠다. "
   ]
  },
  {
   "cell_type": "markdown",
   "id": "73688450-51bc-4fd4-aa55-3f2035156596",
   "metadata": {},
   "source": [
    "`-` 아래와 같은 활성화 함수를 도입하면 어떨까? "
   ]
  },
  {
   "cell_type": "markdown",
   "id": "ed543e3c-ae38-4e80-8a66-f5f404aba0eb",
   "metadata": {},
   "source": [
    "$$\\hat{\\boldsymbol{y}}=[\\hat{\\boldsymbol y}_1 ~ \\hat{\\boldsymbol y}_2] =  \\big[ \\frac{\\exp({\\bf X}\\hat{{\\bf W}}_1+\\hat{b}_1)}{\\exp({\\bf X}\\hat{\\bf W}_1+\\hat{b}_1)+\\exp({\\bf X}\\hat{\\bf W}_2+\\hat{b}_2)}  ~~ \\frac{\\exp({\\bf X}\\hat{\\bf W}_2+\\hat{b}_2)}{\\exp({\\bf X}\\hat{\\bf W}_1+\\hat{b}_1)+\\exp({\\bf X}\\hat{\\bf W}_2+\\hat{b}_2)}  \\big]$$ "
   ]
  },
  {
   "cell_type": "markdown",
   "id": "c4c48857-d971-46a0-9e46-aebf03202745",
   "metadata": {},
   "source": [
    "$\\exp({\\bf X}\\hat{{\\bf W}}_1+\\hat{b}_1)$ 을 □, $\\exp({\\bf X}\\hat{{\\bf W}}_2+\\hat{b}_2)$를 △ 생각해보자.\n",
    "\n",
    "$\\big[\\frac{□}{□+△} \\frac{△}{□+△}\\big]$ 가 되어 (1)과 (2)는 만족한다!\n",
    "\n",
    "(1) $\\hat{\\boldsymbol{y}}_1$, $\\hat{\\boldsymbol{y}}_2$의 각 원소는 0보다 크고 1보다 작아야 한다. -> 만족!\n",
    "\n",
    "(2) $\\hat{\\boldsymbol{y}}_1+\\hat{\\boldsymbol{y}}_2={\\bf 1}$ 이어야 한다. -> 만족!\n",
    "\n",
    "(3) $\\hat{\\boldsymbol{y}}_1$와 $\\hat{\\boldsymbol{y}}_2$를 각각 따로 해석하면 로지스틱처럼 되면 좋겠다.  -> ?"
   ]
  },
  {
   "cell_type": "markdown",
   "id": "1aa3c2fd-f3cf-4ffb-91fd-e8722ddff111",
   "metadata": {},
   "source": [
    "`-` 그런데 조금 따져보면 (3)도 만족한다는 것을 알 수 있다. (sigmoid, softmax Section 참고)"
   ]
  },
  {
   "cell_type": "markdown",
   "id": "03fbef0a-37c9-470e-8abf-18fa7f9fdedc",
   "metadata": {},
   "source": [
    "`-` 위와 같은 함수를 softmax라고 하고 아래와 같이 정의하자. "
   ]
  },
  {
   "cell_type": "markdown",
   "id": "f11154f5-9579-4e74-8614-fa0e35acea98",
   "metadata": {},
   "source": [
    "$$\n",
    "\\begin{align}\n",
    "& \\hat{\\boldsymbol y} = \\text{softmax}({\\bf X}{\\bf W} + {\\boldsymbol b}) \\\\ \n",
    "&= \\big[ \\frac{\\exp({\\bf X}\\hat{{\\bf W}}_1+\\hat{b}_1)}{\\exp({\\bf X}\\hat{\\bf W}_1+\\hat{b}_1)+\\exp({\\bf X}\\hat{\\bf W}_2+\\hat{b}_2)}  ~~ \\frac{\\exp({\\bf X}\\hat{\\bf W}_2+\\hat{b}_2)}{\\exp({\\bf X}\\hat{\\bf W}_1+\\hat{b}_1)+\\exp({\\bf X}\\hat{\\bf W}_2+\\hat{b}_2)}  \\big]\n",
    "\\end{align}\n",
    "$$"
   ]
  },
  {
   "cell_type": "markdown",
   "id": "0edc234c-a4e1-4e9b-8ad9-d61c87aba4bb",
   "metadata": {},
   "source": [
    "### sigmoid, softmax "
   ]
  },
  {
   "cell_type": "markdown",
   "id": "93a662af-7dab-43e1-b7b4-98d5c8558300",
   "metadata": {},
   "source": [
    "#### **softmax는 sigmoid의 확장형**"
   ]
  },
  {
   "cell_type": "markdown",
   "id": "6dc0c393-af7d-4b52-ac3e-7961f7a733c6",
   "metadata": {},
   "source": [
    "`-` 아래의 수식을 관찰하자. \n",
    "$$\\frac{\\exp(\\beta_0+\\beta_1 x_i)}{1+\\exp(\\beta_0+\\beta_1x_i)}=\\frac{\\exp(\\beta_0+\\beta_1 x_i)}{e^0+\\exp(\\beta_0+\\beta_1x_i)}$$"
   ]
  },
  {
   "cell_type": "markdown",
   "id": "45bca8d8-feda-4c21-9d2d-450945640ed1",
   "metadata": {},
   "source": [
    "`-` 1을 $e^0$로 해석하면 모형2의 해석을 아래와 같이 모형1의 해석으로 적용할수 있다. \n",
    "- 모형2: ${\\bf X}\\hat{\\bf W}_1 +\\hat{b}_1$ 와 ${\\bf X}\\hat{\\bf W}_2 +\\hat{b}_2$ 의 크기를 비교하고 확률 결정\n",
    "- 모형1: ${\\bf X}\\hat{\\bf W} +\\hat{b}$ 와 $0$의 크기를 비교하고 확률 결정 = ${\\bf X}\\hat{\\bf W} +\\hat{b}$의 row값이 양수이면 1로 예측하고 음수이면 0으로 예측"
   ]
  },
  {
   "cell_type": "markdown",
   "id": "48b03145-23fd-4450-ad89-07b741967d27",
   "metadata": {},
   "source": [
    "- 이항분포를 차원이 2인 다항분포로 해석가능한 것 처럼, sigmoid는 차원이 2인 softmax로 해석가능하다. 즉 다항분포가 이항분포의 확장형으로 해석가능한것 처럼 softmax도 sigmoid의 확장형으로 해석가능하다. "
   ]
  },
  {
   "cell_type": "markdown",
   "id": "158774af-5a2a-4e74-8c21-a41c74d64355",
   "metadata": {},
   "source": [
    "#### **클래스의 수가 2인 경우 softmax vs sigmoid**"
   ]
  },
  {
   "cell_type": "markdown",
   "id": "855e0c27-55f8-4e4a-a13f-06b40929ffb2",
   "metadata": {},
   "source": [
    "`-` 그럼 클래스가 2인 경우에도 sigmoid 대신 softmax로 활성화함수를 이용해도 되지 않을까? 즉 $y=0 \\text{ or } 1$와 같이 정리하지 않고 $y=[0,1] \\text{ or } [1,0]$ 와 같이 정리해도 되지 않을까?"
   ]
  },
  {
   "cell_type": "markdown",
   "id": "b76bffe4-2b3c-42e5-aa5c-5ed1fdca6aad",
   "metadata": {},
   "source": [
    "`-` 하지만 sigmoid가 좀 더 좋은 선택이다. 즉 $y= 0 \\text{ or } 1$로 데이터를 정리하는 것이 더 좋다. 왜냐하면 sigmoid는 softmax와 비교하여 파라메터의 수가 적지만 표현력은 동등하기 때문이다. \n",
    "- 파라메터 수: sigmoid의 경우 $W$의 경우 (784×1)이지만 softmax의 경우 $W$의 경우 (784×2)이다."
   ]
  },
  {
   "cell_type": "markdown",
   "id": "2c63339d-fdba-41f2-b11c-cd1d330ea971",
   "metadata": {},
   "source": [
    "`-` 표현력이 동등한 이유? 아래 수식을 관찰하자. "
   ]
  },
  {
   "cell_type": "markdown",
   "id": "c95769ad-d0cc-4af7-8229-3544d19b710f",
   "metadata": {},
   "source": [
    "$$\\big(\\frac{e^{300}}{e^{300}+e^{500}},\\frac{e^{500}}{e^{300}+e^{500}}\\big) =\\big( \\frac{e^{0}}{e^{0}+e^{200}}, \\frac{e^{200}}{e^{0}+e^{200}}\\big)$$"
   ]
  },
  {
   "cell_type": "markdown",
   "id": "0bbf83f0-212d-4ecc-b0e6-eb5e89f5a629",
   "metadata": {},
   "source": [
    "- $\\big(\\frac{e^{300}}{e^{300}+e^{500}},\\frac{e^{500}}{e^{300}+e^{500}}\\big)$를 표현하기 위해서 300, 500 이라는 2개의 숫자가 필요한것이 아니고 따지고보면 200이라는 하나의 숫자만 필요하다. \n",
    "- $(\\hat{\\boldsymbol{y}}_1,\\hat{\\boldsymbol{y}}_2)$의 표현에서도 ${\\bf X}\\hat{\\bf W}_1 +\\hat{b}_1$ 와 ${\\bf X}\\hat{\\bf W}_2 +\\hat{b}_2$ 라는 숫자 각각이 필요한 것이 아니고 $({\\bf X}\\hat{\\bf W}_1 +\\hat{b}_1)-({\\bf X}\\hat{\\bf W}_2 +\\hat{b}_2)$의 값만 알면 된다. "
   ]
  },
  {
   "cell_type": "markdown",
   "id": "8ebdcc4c-9624-450a-80f2-1b1e139531e6",
   "metadata": {},
   "source": [
    "`-` 클래스의 수가 2개일 경우는 softmax가 sigmoid에 비하여 장점이 없다. 하지만 softmax는 클래스의 수가 3개 이상일 경우로 쉽게 확장할 수 있다는 점에서 매력적인 활성화 함수이다. "
   ]
  },
  {
   "cell_type": "markdown",
   "id": "51554860-0e68-4862-bd73-7caac1ba77c7",
   "metadata": {},
   "source": [
    "#### 분류할 클래스가 3개 이상일 경우 신경망 모형의 설계 "
   ]
  },
  {
   "cell_type": "markdown",
   "id": "bc7a1e03-08a9-4c4c-9b3f-8fe82614a481",
   "metadata": {},
   "source": [
    "`-` y의 모양\n",
    "\n",
    ": [0 1 0 0 0 0 0 0 0 0] "
   ]
  },
  {
   "cell_type": "markdown",
   "id": "d557acf3-aeed-4342-87bc-d959f1836ada",
   "metadata": {},
   "source": [
    "`-` 활성화함수의 선택\n",
    "\n",
    ": softmax "
   ]
  },
  {
   "cell_type": "markdown",
   "id": "6e215217-a34f-40ca-8ebc-b917bc44a7f4",
   "metadata": {},
   "source": [
    "`-` 손실함수의 선택\n",
    "\n",
    ": (categorical) cross entropy"
   ]
  },
  {
   "cell_type": "markdown",
   "id": "37506b1a-f8ef-448e-888c-64d431811c2f",
   "metadata": {},
   "source": [
    "- sigmoid나 softmax를 마지막에 사용하는 이유는 함수의 모양을 떠올려서 생각해볼 수 있다. sigmoid나 softmax는 y의 값이 0-1로 맞춰져 있는 로지스틱에서 사용되는데, 그 이유가 sigmoid나 softmax는 y의 값을 0-1로 맞춰주는 역할을 하기 때문이다. 선형회귀에서 항등함수를 사용한 이유는 y의 값이 0-1인 로지스틱이 아니었기에 그런 형태로 맞춰줄 필요가 없었기 때문이다. "
   ]
  },
  {
   "cell_type": "markdown",
   "id": "9e3d547f-ef1b-486f-aeab-2126def7d898",
   "metadata": {},
   "source": [
    "### Fashion_MNIST 다중분류 "
   ]
  },
  {
   "cell_type": "markdown",
   "id": "03c014a4-8fc7-4d58-a4bb-eef9e7eef10c",
   "metadata": {},
   "source": [
    "`-` 데이터정리 "
   ]
  },
  {
   "cell_type": "code",
   "execution_count": 15,
   "id": "d6277dcd-d727-45ba-8dd8-c29144f2d4cf",
   "metadata": {},
   "outputs": [],
   "source": [
    "(x_train, y_train), (x_test, y_test) = tf.keras.datasets.fashion_mnist.load_data()"
   ]
  },
  {
   "cell_type": "markdown",
   "id": "4349d6f1-dc30-46eb-88e7-cb13e16181e8",
   "metadata": {},
   "source": [
    "- 원핫인코딩: `tf.keras.utils.to_categorical()`을 사용"
   ]
  },
  {
   "cell_type": "code",
   "execution_count": 25,
   "id": "8cc9ba21-7a9e-4b1c-8aed-ac7111055f6b",
   "metadata": {},
   "outputs": [
    {
     "data": {
      "text/plain": [
       "array([[0., 0., 0., ..., 0., 0., 1.],\n",
       "       [1., 0., 0., ..., 0., 0., 0.],\n",
       "       [1., 0., 0., ..., 0., 0., 0.],\n",
       "       ...,\n",
       "       [0., 0., 0., ..., 0., 0., 0.],\n",
       "       [1., 0., 0., ..., 0., 0., 0.],\n",
       "       [0., 0., 0., ..., 0., 0., 0.]], dtype=float32)"
      ]
     },
     "execution_count": 25,
     "metadata": {},
     "output_type": "execute_result"
    }
   ],
   "source": [
    "tf.keras.utils.to_categorical(y_train)"
   ]
  },
  {
   "cell_type": "code",
   "execution_count": 26,
   "id": "f0efe3b9-44e2-4baa-bb1f-3d7099e89b85",
   "metadata": {},
   "outputs": [],
   "source": [
    "X=x_train.reshape(-1,784)\n",
    "y=tf.keras.utils.to_categorical(y_train)\n",
    "XX=x_test.reshape(-1,784)\n",
    "yy=tf.keras.utils.to_categorical(y_test)"
   ]
  },
  {
   "cell_type": "markdown",
   "id": "5c1dc3e3-12cb-4a49-a571-cb23a225328f",
   "metadata": {},
   "source": [
    "`-` 시도1: 간단한 신경망"
   ]
  },
  {
   "cell_type": "code",
   "execution_count": 27,
   "id": "9696a046-dc2a-4cb0-9111-48c2ef18ae93",
   "metadata": {},
   "outputs": [
    {
     "data": {
      "image/svg+xml": [
       "<?xml version=\"1.0\" encoding=\"UTF-8\" standalone=\"no\"?>\r\n",
       "<!DOCTYPE svg PUBLIC \"-//W3C//DTD SVG 1.1//EN\"\r\n",
       " \"http://www.w3.org/Graphics/SVG/1.1/DTD/svg11.dtd\">\r\n",
       "<!-- Generated by graphviz version 2.38.0 (20140413.2041)\r\n",
       " -->\r\n",
       "<!-- Title: G Pages: 1 -->\r\n",
       "<svg width=\"305pt\" height=\"261pt\"\r\n",
       " viewBox=\"0.00 0.00 304.59 261.00\" xmlns=\"http://www.w3.org/2000/svg\" xmlns:xlink=\"http://www.w3.org/1999/xlink\">\r\n",
       "<g id=\"graph0\" class=\"graph\" transform=\"scale(1 1) rotate(0) translate(4 257)\">\r\n",
       "<title>G</title>\r\n",
       "<polygon fill=\"white\" stroke=\"none\" points=\"-4,4 -4,-257 300.588,-257 300.588,4 -4,4\"/>\r\n",
       "<g id=\"clust3\" class=\"cluster\"><title>cluster_3</title>\r\n",
       "<polygon fill=\"lightgrey\" stroke=\"lightgrey\" points=\"107.195,-8 107.195,-245 288.588,-245 288.588,-8 107.195,-8\"/>\r\n",
       "<text text-anchor=\"middle\" x=\"197.892\" y=\"-229.8\" font-family=\"Times New Roman,serif\" font-size=\"14.00\">Layer 2: softmax</text>\r\n",
       "</g>\r\n",
       "<g id=\"clust2\" class=\"cluster\"><title>cluster_2</title>\r\n",
       "<polygon fill=\"lightgrey\" stroke=\"lightgrey\" points=\"2,-8 2,-245 87.1949,-245 87.1949,-8 2,-8\"/>\r\n",
       "<text text-anchor=\"middle\" x=\"44.5975\" y=\"-229.8\" font-family=\"Times New Roman,serif\" font-size=\"14.00\">Layer 1: relu</text>\r\n",
       "</g>\r\n",
       "<!-- x1 -->\r\n",
       "<g id=\"node1\" class=\"node\"><title>x1</title>\r\n",
       "<ellipse fill=\"none\" stroke=\"black\" cx=\"44.5975\" cy=\"-196\" rx=\"27\" ry=\"18\"/>\r\n",
       "<text text-anchor=\"middle\" x=\"44.5975\" y=\"-192.3\" font-family=\"Times New Roman,serif\" font-size=\"14.00\">x1</text>\r\n",
       "</g>\r\n",
       "<!-- node1 -->\r\n",
       "<g id=\"node5\" class=\"node\"><title>node1</title>\r\n",
       "<ellipse fill=\"none\" stroke=\"black\" cx=\"152.892\" cy=\"-196\" rx=\"33.2948\" ry=\"18\"/>\r\n",
       "<text text-anchor=\"middle\" x=\"152.892\" y=\"-192.3\" font-family=\"Times New Roman,serif\" font-size=\"14.00\">node1</text>\r\n",
       "</g>\r\n",
       "<!-- x1&#45;&gt;node1 -->\r\n",
       "<g id=\"edge1\" class=\"edge\"><title>x1&#45;&gt;node1</title>\r\n",
       "<path fill=\"none\" stroke=\"black\" d=\"M71.5999,-196C83.0452,-196 96.7863,-196 109.639,-196\"/>\r\n",
       "<polygon fill=\"black\" stroke=\"black\" points=\"109.696,-199.5 119.696,-196 109.696,-192.5 109.696,-199.5\"/>\r\n",
       "</g>\r\n",
       "<!-- node2 -->\r\n",
       "<g id=\"node6\" class=\"node\"><title>node2</title>\r\n",
       "<ellipse fill=\"none\" stroke=\"black\" cx=\"152.892\" cy=\"-142\" rx=\"33.2948\" ry=\"18\"/>\r\n",
       "<text text-anchor=\"middle\" x=\"152.892\" y=\"-138.3\" font-family=\"Times New Roman,serif\" font-size=\"14.00\">node2</text>\r\n",
       "</g>\r\n",
       "<!-- x1&#45;&gt;node2 -->\r\n",
       "<g id=\"edge5\" class=\"edge\"><title>x1&#45;&gt;node2</title>\r\n",
       "<path fill=\"none\" stroke=\"black\" d=\"M66.5978,-185.331C81.5041,-177.759 101.815,-167.44 118.877,-158.772\"/>\r\n",
       "<polygon fill=\"black\" stroke=\"black\" points=\"120.637,-161.804 127.967,-154.154 117.466,-155.563 120.637,-161.804\"/>\r\n",
       "</g>\r\n",
       "<!-- ... -->\r\n",
       "<g id=\"node7\" class=\"node\"><title>...</title>\r\n",
       "<ellipse fill=\"none\" stroke=\"black\" cx=\"152.892\" cy=\"-88\" rx=\"27\" ry=\"18\"/>\r\n",
       "<text text-anchor=\"middle\" x=\"152.892\" y=\"-84.3\" font-family=\"Times New Roman,serif\" font-size=\"14.00\">...</text>\r\n",
       "</g>\r\n",
       "<!-- x1&#45;&gt;... -->\r\n",
       "<g id=\"edge9\" class=\"edge\"><title>x1&#45;&gt;...</title>\r\n",
       "<path fill=\"none\" stroke=\"black\" d=\"M60.3772,-180.983C78.4638,-162.606 109.244,-131.332 130.061,-110.181\"/>\r\n",
       "<polygon fill=\"black\" stroke=\"black\" points=\"132.717,-112.472 137.237,-102.889 127.728,-107.561 132.717,-112.472\"/>\r\n",
       "</g>\r\n",
       "<!-- node30 -->\r\n",
       "<g id=\"node8\" class=\"node\"><title>node30</title>\r\n",
       "<ellipse fill=\"none\" stroke=\"black\" cx=\"152.892\" cy=\"-34\" rx=\"37.8943\" ry=\"18\"/>\r\n",
       "<text text-anchor=\"middle\" x=\"152.892\" y=\"-30.3\" font-family=\"Times New Roman,serif\" font-size=\"14.00\">node30</text>\r\n",
       "</g>\r\n",
       "<!-- x1&#45;&gt;node30 -->\r\n",
       "<g id=\"edge13\" class=\"edge\"><title>x1&#45;&gt;node30</title>\r\n",
       "<path fill=\"none\" stroke=\"black\" d=\"M56.3745,-179.575C74.8823,-151.368 112.843,-93.5126 134.929,-59.8521\"/>\r\n",
       "<polygon fill=\"black\" stroke=\"black\" points=\"137.885,-61.7272 140.444,-51.4462 132.032,-57.8871 137.885,-61.7272\"/>\r\n",
       "</g>\r\n",
       "<!-- x2 -->\r\n",
       "<g id=\"node2\" class=\"node\"><title>x2</title>\r\n",
       "<ellipse fill=\"none\" stroke=\"black\" cx=\"44.5975\" cy=\"-142\" rx=\"27\" ry=\"18\"/>\r\n",
       "<text text-anchor=\"middle\" x=\"44.5975\" y=\"-138.3\" font-family=\"Times New Roman,serif\" font-size=\"14.00\">x2</text>\r\n",
       "</g>\r\n",
       "<!-- x2&#45;&gt;node1 -->\r\n",
       "<g id=\"edge2\" class=\"edge\"><title>x2&#45;&gt;node1</title>\r\n",
       "<path fill=\"none\" stroke=\"black\" d=\"M66.5978,-152.669C81.5041,-160.241 101.815,-170.56 118.877,-179.228\"/>\r\n",
       "<polygon fill=\"black\" stroke=\"black\" points=\"117.466,-182.437 127.967,-183.846 120.637,-176.196 117.466,-182.437\"/>\r\n",
       "</g>\r\n",
       "<!-- x2&#45;&gt;node2 -->\r\n",
       "<g id=\"edge6\" class=\"edge\"><title>x2&#45;&gt;node2</title>\r\n",
       "<path fill=\"none\" stroke=\"black\" d=\"M71.5999,-142C83.0452,-142 96.7863,-142 109.639,-142\"/>\r\n",
       "<polygon fill=\"black\" stroke=\"black\" points=\"109.696,-145.5 119.696,-142 109.696,-138.5 109.696,-145.5\"/>\r\n",
       "</g>\r\n",
       "<!-- x2&#45;&gt;... -->\r\n",
       "<g id=\"edge10\" class=\"edge\"><title>x2&#45;&gt;...</title>\r\n",
       "<path fill=\"none\" stroke=\"black\" d=\"M66.5978,-131.331C82.3209,-123.344 104.057,-112.301 121.651,-103.363\"/>\r\n",
       "<polygon fill=\"black\" stroke=\"black\" points=\"123.605,-106.296 130.935,-98.6465 120.434,-100.055 123.605,-106.296\"/>\r\n",
       "</g>\r\n",
       "<!-- x2&#45;&gt;node30 -->\r\n",
       "<g id=\"edge14\" class=\"edge\"><title>x2&#45;&gt;node30</title>\r\n",
       "<path fill=\"none\" stroke=\"black\" d=\"M60.3772,-126.983C78.0574,-109.019 107.867,-78.7309 128.643,-57.6221\"/>\r\n",
       "<polygon fill=\"black\" stroke=\"black\" points=\"131.329,-59.8825 135.849,-50.3003 126.34,-54.9723 131.329,-59.8825\"/>\r\n",
       "</g>\r\n",
       "<!-- .. -->\r\n",
       "<g id=\"node3\" class=\"node\"><title>..</title>\r\n",
       "<ellipse fill=\"none\" stroke=\"black\" cx=\"44.5975\" cy=\"-88\" rx=\"27\" ry=\"18\"/>\r\n",
       "<text text-anchor=\"middle\" x=\"44.5975\" y=\"-84.3\" font-family=\"Times New Roman,serif\" font-size=\"14.00\">..</text>\r\n",
       "</g>\r\n",
       "<!-- ..&#45;&gt;node1 -->\r\n",
       "<g id=\"edge3\" class=\"edge\"><title>..&#45;&gt;node1</title>\r\n",
       "<path fill=\"none\" stroke=\"black\" d=\"M60.3772,-103.017C78.159,-121.084 108.21,-151.618 129,-172.741\"/>\r\n",
       "<polygon fill=\"black\" stroke=\"black\" points=\"126.691,-175.385 136.2,-180.057 131.68,-170.475 126.691,-175.385\"/>\r\n",
       "</g>\r\n",
       "<!-- ..&#45;&gt;node2 -->\r\n",
       "<g id=\"edge7\" class=\"edge\"><title>..&#45;&gt;node2</title>\r\n",
       "<path fill=\"none\" stroke=\"black\" d=\"M66.5978,-98.6687C81.5041,-106.241 101.815,-116.56 118.877,-125.228\"/>\r\n",
       "<polygon fill=\"black\" stroke=\"black\" points=\"117.466,-128.437 127.967,-129.846 120.637,-122.196 117.466,-128.437\"/>\r\n",
       "</g>\r\n",
       "<!-- ..&#45;&gt;... -->\r\n",
       "<g id=\"edge11\" class=\"edge\"><title>..&#45;&gt;...</title>\r\n",
       "<path fill=\"none\" stroke=\"black\" d=\"M71.5999,-88C84.8545,-88 101.188,-88 115.655,-88\"/>\r\n",
       "<polygon fill=\"black\" stroke=\"black\" points=\"115.789,-91.5001 125.789,-88 115.789,-84.5001 115.789,-91.5001\"/>\r\n",
       "</g>\r\n",
       "<!-- ..&#45;&gt;node30 -->\r\n",
       "<g id=\"edge15\" class=\"edge\"><title>..&#45;&gt;node30</title>\r\n",
       "<path fill=\"none\" stroke=\"black\" d=\"M66.5978,-77.3313C81.0957,-69.966 100.706,-60.0036 117.467,-51.4883\"/>\r\n",
       "<polygon fill=\"black\" stroke=\"black\" points=\"119.105,-54.582 126.436,-46.9322 115.935,-48.3411 119.105,-54.582\"/>\r\n",
       "</g>\r\n",
       "<!-- x784 -->\r\n",
       "<g id=\"node4\" class=\"node\"><title>x784</title>\r\n",
       "<ellipse fill=\"none\" stroke=\"black\" cx=\"44.5975\" cy=\"-34\" rx=\"28.6953\" ry=\"18\"/>\r\n",
       "<text text-anchor=\"middle\" x=\"44.5975\" y=\"-30.3\" font-family=\"Times New Roman,serif\" font-size=\"14.00\">x784</text>\r\n",
       "</g>\r\n",
       "<!-- x784&#45;&gt;node1 -->\r\n",
       "<g id=\"edge4\" class=\"edge\"><title>x784&#45;&gt;node1</title>\r\n",
       "<path fill=\"none\" stroke=\"black\" d=\"M56.3745,-50.4249C74.9792,-78.7799 113.241,-137.094 135.275,-170.675\"/>\r\n",
       "<polygon fill=\"black\" stroke=\"black\" points=\"132.355,-172.605 140.767,-179.046 138.208,-168.765 132.355,-172.605\"/>\r\n",
       "</g>\r\n",
       "<!-- x784&#45;&gt;node2 -->\r\n",
       "<g id=\"edge8\" class=\"edge\"><title>x784&#45;&gt;node2</title>\r\n",
       "<path fill=\"none\" stroke=\"black\" d=\"M60.3772,-49.0169C78.159,-67.0841 108.21,-97.6177 129,-118.741\"/>\r\n",
       "<polygon fill=\"black\" stroke=\"black\" points=\"126.691,-121.385 136.2,-126.057 131.68,-116.475 126.691,-121.385\"/>\r\n",
       "</g>\r\n",
       "<!-- x784&#45;&gt;... -->\r\n",
       "<g id=\"edge12\" class=\"edge\"><title>x784&#45;&gt;...</title>\r\n",
       "<path fill=\"none\" stroke=\"black\" d=\"M67.3642,-45.058C83.0459,-53.0247 104.406,-63.8764 121.731,-72.6776\"/>\r\n",
       "<polygon fill=\"black\" stroke=\"black\" points=\"120.378,-75.9159 130.878,-77.3248 123.548,-69.675 120.378,-75.9159\"/>\r\n",
       "</g>\r\n",
       "<!-- x784&#45;&gt;node30 -->\r\n",
       "<g id=\"edge16\" class=\"edge\"><title>x784&#45;&gt;node30</title>\r\n",
       "<path fill=\"none\" stroke=\"black\" d=\"M73.2475,-34C82.9434,-34 94.1231,-34 104.954,-34\"/>\r\n",
       "<polygon fill=\"black\" stroke=\"black\" points=\"105.172,-37.5001 115.172,-34 105.172,-30.5001 105.172,-37.5001\"/>\r\n",
       "</g>\r\n",
       "<!-- y10 -->\r\n",
       "<g id=\"node9\" class=\"node\"><title>y10</title>\r\n",
       "<ellipse fill=\"none\" stroke=\"black\" cx=\"253.588\" cy=\"-115\" rx=\"27\" ry=\"18\"/>\r\n",
       "<text text-anchor=\"middle\" x=\"253.588\" y=\"-111.3\" font-family=\"Times New Roman,serif\" font-size=\"14.00\">y10</text>\r\n",
       "</g>\r\n",
       "<!-- node1&#45;&gt;y10 -->\r\n",
       "<g id=\"edge17\" class=\"edge\"><title>node1&#45;&gt;y10</title>\r\n",
       "<path fill=\"none\" stroke=\"black\" d=\"M171.994,-181.143C187.68,-168.27 210.522,-149.523 227.887,-135.273\"/>\r\n",
       "<polygon fill=\"black\" stroke=\"black\" points=\"230.406,-137.733 235.915,-128.683 225.965,-132.322 230.406,-137.733\"/>\r\n",
       "</g>\r\n",
       "<!-- y1 -->\r\n",
       "<g id=\"node10\" class=\"node\"><title>y1</title>\r\n",
       "<ellipse fill=\"none\" stroke=\"black\" cx=\"253.588\" cy=\"-169\" rx=\"27\" ry=\"18\"/>\r\n",
       "<text text-anchor=\"middle\" x=\"253.588\" y=\"-165.3\" font-family=\"Times New Roman,serif\" font-size=\"14.00\">y1</text>\r\n",
       "</g>\r\n",
       "<!-- node1&#45;&gt;y1 -->\r\n",
       "<g id=\"edge21\" class=\"edge\"><title>node1&#45;&gt;y1</title>\r\n",
       "<path fill=\"none\" stroke=\"black\" d=\"M182.704,-188.118C193.882,-185.06 206.77,-181.534 218.411,-178.35\"/>\r\n",
       "<polygon fill=\"black\" stroke=\"black\" points=\"219.524,-181.674 228.246,-175.659 217.677,-174.922 219.524,-181.674\"/>\r\n",
       "</g>\r\n",
       "<!-- . -->\r\n",
       "<g id=\"node11\" class=\"node\"><title>.</title>\r\n",
       "<ellipse fill=\"none\" stroke=\"black\" cx=\"253.588\" cy=\"-61\" rx=\"27\" ry=\"18\"/>\r\n",
       "<text text-anchor=\"middle\" x=\"253.588\" y=\"-57.3\" font-family=\"Times New Roman,serif\" font-size=\"14.00\">.</text>\r\n",
       "</g>\r\n",
       "<!-- node1&#45;&gt;. -->\r\n",
       "<g id=\"edge25\" class=\"edge\"><title>node1&#45;&gt;.</title>\r\n",
       "<path fill=\"none\" stroke=\"black\" d=\"M165.994,-179.446C183.179,-155.939 214.773,-112.724 234.677,-85.4995\"/>\r\n",
       "<polygon fill=\"black\" stroke=\"black\" points=\"237.619,-87.4057 240.695,-77.2674 231.968,-83.2744 237.619,-87.4057\"/>\r\n",
       "</g>\r\n",
       "<!-- node2&#45;&gt;y10 -->\r\n",
       "<g id=\"edge18\" class=\"edge\"><title>node2&#45;&gt;y10</title>\r\n",
       "<path fill=\"none\" stroke=\"black\" d=\"M182.704,-134.118C193.882,-131.06 206.77,-127.534 218.411,-124.35\"/>\r\n",
       "<polygon fill=\"black\" stroke=\"black\" points=\"219.524,-127.674 228.246,-121.659 217.677,-120.922 219.524,-127.674\"/>\r\n",
       "</g>\r\n",
       "<!-- node2&#45;&gt;y1 -->\r\n",
       "<g id=\"edge22\" class=\"edge\"><title>node2&#45;&gt;y1</title>\r\n",
       "<path fill=\"none\" stroke=\"black\" d=\"M182.704,-149.882C193.882,-152.94 206.77,-156.466 218.411,-159.65\"/>\r\n",
       "<polygon fill=\"black\" stroke=\"black\" points=\"217.677,-163.078 228.246,-162.341 219.524,-156.326 217.677,-163.078\"/>\r\n",
       "</g>\r\n",
       "<!-- node2&#45;&gt;. -->\r\n",
       "<g id=\"edge26\" class=\"edge\"><title>node2&#45;&gt;.</title>\r\n",
       "<path fill=\"none\" stroke=\"black\" d=\"M171.994,-127.143C187.68,-114.27 210.522,-95.5233 227.887,-81.2726\"/>\r\n",
       "<polygon fill=\"black\" stroke=\"black\" points=\"230.406,-83.7328 235.915,-74.6833 225.965,-78.3218 230.406,-83.7328\"/>\r\n",
       "</g>\r\n",
       "<!-- ...&#45;&gt;y10 -->\r\n",
       "<g id=\"edge19\" class=\"edge\"><title>...&#45;&gt;y10</title>\r\n",
       "<path fill=\"none\" stroke=\"black\" d=\"M178.035,-94.6049C190.223,-97.9391 205.215,-102.04 218.55,-105.688\"/>\r\n",
       "<polygon fill=\"black\" stroke=\"black\" points=\"217.782,-109.107 228.352,-108.37 219.629,-102.355 217.782,-109.107\"/>\r\n",
       "</g>\r\n",
       "<!-- ...&#45;&gt;y1 -->\r\n",
       "<g id=\"edge23\" class=\"edge\"><title>...&#45;&gt;y1</title>\r\n",
       "<path fill=\"none\" stroke=\"black\" d=\"M170.634,-101.741C186.373,-114.657 210.12,-134.147 228.007,-148.827\"/>\r\n",
       "<polygon fill=\"black\" stroke=\"black\" points=\"225.813,-151.554 235.764,-155.192 230.254,-146.142 225.813,-151.554\"/>\r\n",
       "</g>\r\n",
       "<!-- ...&#45;&gt;. -->\r\n",
       "<g id=\"edge27\" class=\"edge\"><title>...&#45;&gt;.</title>\r\n",
       "<path fill=\"none\" stroke=\"black\" d=\"M178.035,-81.3951C190.223,-78.0609 205.215,-73.9598 218.55,-70.3116\"/>\r\n",
       "<polygon fill=\"black\" stroke=\"black\" points=\"219.629,-73.6451 228.352,-67.6303 217.782,-66.8931 219.629,-73.6451\"/>\r\n",
       "</g>\r\n",
       "<!-- node30&#45;&gt;y10 -->\r\n",
       "<g id=\"edge20\" class=\"edge\"><title>node30&#45;&gt;y10</title>\r\n",
       "<path fill=\"none\" stroke=\"black\" d=\"M172.921,-49.6176C188.614,-62.497 210.986,-80.8575 228.03,-94.8448\"/>\r\n",
       "<polygon fill=\"black\" stroke=\"black\" points=\"225.965,-97.6782 235.915,-101.317 230.406,-92.2672 225.965,-97.6782\"/>\r\n",
       "</g>\r\n",
       "<!-- node30&#45;&gt;y1 -->\r\n",
       "<g id=\"edge24\" class=\"edge\"><title>node30&#45;&gt;y1</title>\r\n",
       "<path fill=\"none\" stroke=\"black\" d=\"M166.392,-51.0978C183.71,-74.7859 215.094,-117.714 234.836,-144.718\"/>\r\n",
       "<polygon fill=\"black\" stroke=\"black\" points=\"232.077,-146.874 240.804,-152.881 237.728,-142.743 232.077,-146.874\"/>\r\n",
       "</g>\r\n",
       "<!-- node30&#45;&gt;. -->\r\n",
       "<g id=\"edge28\" class=\"edge\"><title>node30&#45;&gt;.</title>\r\n",
       "<path fill=\"none\" stroke=\"black\" d=\"M185.936,-42.7661C196.343,-45.6133 207.927,-48.7822 218.48,-51.669\"/>\r\n",
       "<polygon fill=\"black\" stroke=\"black\" points=\"217.64,-55.0679 228.209,-54.3307 219.487,-48.316 217.64,-55.0679\"/>\r\n",
       "</g>\r\n",
       "</g>\r\n",
       "</svg>\r\n"
      ],
      "text/plain": [
       "<graphviz.files.Source at 0x1b81510a0d0>"
      ]
     },
     "execution_count": 27,
     "metadata": {},
     "output_type": "execute_result"
    }
   ],
   "source": [
    "#collapse\n",
    "gv('''\n",
    "splines=line\n",
    "subgraph cluster_1{\n",
    "    style=filled;\n",
    "    color=lightgrey;\n",
    "    \"x1\"\n",
    "    \"x2\"\n",
    "    \"..\"\n",
    "    \"x784\"\n",
    "    label = \"Layer 0\"\n",
    "}\n",
    "subgraph cluster_2{\n",
    "    style=filled;\n",
    "    color=lightgrey;\n",
    "    \"x1\" -> \"node1\"\n",
    "    \"x2\" -> \"node1\"\n",
    "    \"..\" -> \"node1\"\n",
    "    \n",
    "    \"x784\" -> \"node1\"\n",
    "    \"x1\" -> \"node2\"\n",
    "    \"x2\" -> \"node2\"\n",
    "    \"..\" -> \"node2\"\n",
    "    \"x784\" -> \"node2\"\n",
    "    \n",
    "    \"x1\" -> \"...\"\n",
    "    \"x2\" -> \"...\"\n",
    "    \"..\" -> \"...\"\n",
    "    \"x784\" -> \"...\"\n",
    "\n",
    "    \"x1\" -> \"node30\"\n",
    "    \"x2\" -> \"node30\"\n",
    "    \"..\" -> \"node30\"\n",
    "    \"x784\" -> \"node30\"\n",
    "\n",
    "\n",
    "    label = \"Layer 1: relu\"\n",
    "}\n",
    "subgraph cluster_3{\n",
    "    style=filled;\n",
    "    color=lightgrey;\n",
    "\n",
    "    \"node1\" -> \"y10\"\n",
    "    \"node2\" -> \"y10\"\n",
    "    \"...\" -> \"y10\"\n",
    "    \"node30\" -> \"y10\"\n",
    "    \n",
    "    \"node1\" -> \"y1\"\n",
    "    \"node2\" -> \"y1\"\n",
    "    \"...\" -> \"y1\"\n",
    "    \"node30\" -> \"y1\"\n",
    "    \n",
    "    \"node1\" -> \".\"\n",
    "    \"node2\" -> \".\"\n",
    "    \"...\" -> \".\"\n",
    "    \"node30\" -> \".\"\n",
    "    \n",
    "    label = \"Layer 2: softmax\"\n",
    "}\n",
    "''')"
   ]
  },
  {
   "cell_type": "code",
   "execution_count": 28,
   "id": "947e1bed-4cb4-46e7-af8c-4ae627cc4f5e",
   "metadata": {
    "scrolled": true,
    "tags": []
   },
   "outputs": [
    {
     "name": "stdout",
     "output_type": "stream",
     "text": [
      "Epoch 1/20\n",
      "50/50 [==============================] - 1s 10ms/step - loss: 32.5636 - accuracy: 0.3732\n",
      "Epoch 2/20\n",
      "50/50 [==============================] - 0s 9ms/step - loss: 2.4426 - accuracy: 0.3876\n",
      "Epoch 3/20\n",
      "50/50 [==============================] - 0s 9ms/step - loss: 1.9157 - accuracy: 0.3830\n",
      "Epoch 4/20\n",
      "50/50 [==============================] - 0s 9ms/step - loss: 1.7747 - accuracy: 0.4075\n",
      "Epoch 5/20\n",
      "50/50 [==============================] - 0s 9ms/step - loss: 1.6499 - accuracy: 0.4506\n",
      "Epoch 6/20\n",
      "50/50 [==============================] - 0s 9ms/step - loss: 1.5429 - accuracy: 0.4854\n",
      "Epoch 7/20\n",
      "50/50 [==============================] - 0s 10ms/step - loss: 1.4646 - accuracy: 0.4987\n",
      "Epoch 8/20\n",
      "50/50 [==============================] - 1s 12ms/step - loss: 1.3988 - accuracy: 0.5224\n",
      "Epoch 9/20\n",
      "50/50 [==============================] - 1s 10ms/step - loss: 1.3393 - accuracy: 0.5462\n",
      "Epoch 10/20\n",
      "50/50 [==============================] - 1s 10ms/step - loss: 1.2876 - accuracy: 0.5537\n",
      "Epoch 11/20\n",
      "50/50 [==============================] - 0s 9ms/step - loss: 1.2507 - accuracy: 0.5610\n",
      "Epoch 12/20\n",
      "50/50 [==============================] - 0s 9ms/step - loss: 1.2187 - accuracy: 0.5704\n",
      "Epoch 13/20\n",
      "50/50 [==============================] - 0s 10ms/step - loss: 1.1909 - accuracy: 0.5724\n",
      "Epoch 14/20\n",
      "50/50 [==============================] - 1s 11ms/step - loss: 1.1661 - accuracy: 0.5767\n",
      "Epoch 15/20\n",
      "50/50 [==============================] - 1s 10ms/step - loss: 1.1448 - accuracy: 0.5807\n",
      "Epoch 16/20\n",
      "50/50 [==============================] - 0s 9ms/step - loss: 1.1248 - accuracy: 0.5847\n",
      "Epoch 17/20\n",
      "50/50 [==============================] - 0s 9ms/step - loss: 1.1038 - accuracy: 0.5895\n",
      "Epoch 18/20\n",
      "50/50 [==============================] - 0s 9ms/step - loss: 1.0868 - accuracy: 0.5917\n",
      "Epoch 19/20\n",
      "50/50 [==============================] - 0s 10ms/step - loss: 1.0720 - accuracy: 0.5945\n",
      "Epoch 20/20\n",
      "50/50 [==============================] - 1s 11ms/step - loss: 1.0525 - accuracy: 0.6013\n"
     ]
    },
    {
     "data": {
      "text/plain": [
       "<keras.callbacks.History at 0x1b8151559d0>"
      ]
     },
     "execution_count": 28,
     "metadata": {},
     "output_type": "execute_result"
    }
   ],
   "source": [
    "#collapse_output\n",
    "tf.random.set_seed(43052)\n",
    "net = tf.keras.Sequential()\n",
    "net.add(tf.keras.layers.Dense(30,activation='relu'))\n",
    "net.add(tf.keras.layers.Dense(10,activation='softmax'))\n",
    "net.compile(optimizer='adam',loss=tf.losses.categorical_crossentropy,metrics=['accuracy'])\n",
    "net.fit(X,y,epochs=20,batch_size=1200)"
   ]
  },
  {
   "cell_type": "code",
   "execution_count": 30,
   "id": "546f1b34-ee7d-462f-a241-624785dd34d4",
   "metadata": {},
   "outputs": [
    {
     "name": "stdout",
     "output_type": "stream",
     "text": [
      "313/313 [==============================] - 1s 2ms/step - loss: 1.0973 - accuracy: 0.6055\n"
     ]
    },
    {
     "data": {
      "text/plain": [
       "[1.0972778797149658, 0.6054999828338623]"
      ]
     },
     "execution_count": 30,
     "metadata": {},
     "output_type": "execute_result"
    }
   ],
   "source": [
    "net.evaluate(XX,yy)"
   ]
  },
  {
   "cell_type": "markdown",
   "id": "8199949b-ac7d-4297-a7db-35d0b85fb2d3",
   "metadata": {},
   "source": [
    "- 정확도가 60%정도로 표현력이 조금 떨어지는 것 같다"
   ]
  },
  {
   "cell_type": "markdown",
   "id": "ed0bfce7-b051-4db5-90c7-5bd02de34c4b",
   "metadata": {},
   "source": [
    "`-` 시도2: 더 깊은 신경망 "
   ]
  },
  {
   "cell_type": "code",
   "execution_count": 11,
   "id": "4cbe6f60-d150-4d33-9f3b-8e48de345ba0",
   "metadata": {},
   "outputs": [
    {
     "data": {
      "image/svg+xml": [
       "<?xml version=\"1.0\" encoding=\"UTF-8\" standalone=\"no\"?>\r\n",
       "<!DOCTYPE svg PUBLIC \"-//W3C//DTD SVG 1.1//EN\"\r\n",
       " \"http://www.w3.org/Graphics/SVG/1.1/DTD/svg11.dtd\">\r\n",
       "<!-- Generated by graphviz version 2.38.0 (20140413.2041)\r\n",
       " -->\r\n",
       "<!-- Title: G Pages: 1 -->\r\n",
       "<svg width=\"480pt\" height=\"261pt\"\r\n",
       " viewBox=\"0.00 0.00 479.68 261.00\" xmlns=\"http://www.w3.org/2000/svg\" xmlns:xlink=\"http://www.w3.org/1999/xlink\">\r\n",
       "<g id=\"graph0\" class=\"graph\" transform=\"scale(1 1) rotate(0) translate(4 257)\">\r\n",
       "<title>G</title>\r\n",
       "<polygon fill=\"white\" stroke=\"none\" points=\"-4,4 -4,-257 475.678,-257 475.678,4 -4,4\"/>\r\n",
       "<g id=\"clust1\" class=\"cluster\"><title>cluster_1</title>\r\n",
       "<polygon fill=\"lightgrey\" stroke=\"lightgrey\" points=\"8,-8 8,-245 81.1949,-245 81.1949,-8 8,-8\"/>\r\n",
       "<text text-anchor=\"middle\" x=\"44.5975\" y=\"-229.8\" font-family=\"Times New Roman,serif\" font-size=\"14.00\">Layer 0</text>\r\n",
       "</g>\r\n",
       "<g id=\"clust2\" class=\"cluster\"><title>cluster_2</title>\r\n",
       "<polygon fill=\"lightgrey\" stroke=\"lightgrey\" points=\"101.195,-8 101.195,-245 201.687,-245 201.687,-8 101.195,-8\"/>\r\n",
       "<text text-anchor=\"middle\" x=\"151.441\" y=\"-229.8\" font-family=\"Times New Roman,serif\" font-size=\"14.00\">Layer 1: relu</text>\r\n",
       "</g>\r\n",
       "<g id=\"clust3\" class=\"cluster\"><title>cluster_3</title>\r\n",
       "<polygon fill=\"lightgrey\" stroke=\"lightgrey\" points=\"221.687,-8 221.687,-245 341.678,-245 341.678,-8 221.687,-8\"/>\r\n",
       "<text text-anchor=\"middle\" x=\"281.683\" y=\"-229.8\" font-family=\"Times New Roman,serif\" font-size=\"14.00\">Layer 2: relu</text>\r\n",
       "</g>\r\n",
       "<g id=\"clust4\" class=\"cluster\"><title>cluster_4</title>\r\n",
       "<polygon fill=\"lightgrey\" stroke=\"lightgrey\" points=\"361.678,-35 361.678,-218 471.678,-218 471.678,-35 361.678,-35\"/>\r\n",
       "<text text-anchor=\"middle\" x=\"416.678\" y=\"-202.8\" font-family=\"Times New Roman,serif\" font-size=\"14.00\">Layer 3: sigmoid</text>\r\n",
       "</g>\r\n",
       "<!-- x1 -->\r\n",
       "<g id=\"node1\" class=\"node\"><title>x1</title>\r\n",
       "<ellipse fill=\"none\" stroke=\"black\" cx=\"44.5975\" cy=\"-196\" rx=\"27\" ry=\"18\"/>\r\n",
       "<text text-anchor=\"middle\" x=\"44.5975\" y=\"-192.3\" font-family=\"Times New Roman,serif\" font-size=\"14.00\">x1</text>\r\n",
       "</g>\r\n",
       "<!-- node1 -->\r\n",
       "<g id=\"node5\" class=\"node\"><title>node1</title>\r\n",
       "<ellipse fill=\"none\" stroke=\"black\" cx=\"151.441\" cy=\"-196\" rx=\"33.2948\" ry=\"18\"/>\r\n",
       "<text text-anchor=\"middle\" x=\"151.441\" y=\"-192.3\" font-family=\"Times New Roman,serif\" font-size=\"14.00\">node1</text>\r\n",
       "</g>\r\n",
       "<!-- x1&#45;&gt;node1 -->\r\n",
       "<g id=\"edge1\" class=\"edge\"><title>x1&#45;&gt;node1</title>\r\n",
       "<path fill=\"none\" stroke=\"black\" d=\"M71.7835,-196C82.7767,-196 95.844,-196 108.139,-196\"/>\r\n",
       "<polygon fill=\"black\" stroke=\"black\" points=\"108.223,-199.5 118.223,-196 108.223,-192.5 108.223,-199.5\"/>\r\n",
       "</g>\r\n",
       "<!-- node2 -->\r\n",
       "<g id=\"node6\" class=\"node\"><title>node2</title>\r\n",
       "<ellipse fill=\"none\" stroke=\"black\" cx=\"151.441\" cy=\"-142\" rx=\"33.2948\" ry=\"18\"/>\r\n",
       "<text text-anchor=\"middle\" x=\"151.441\" y=\"-138.3\" font-family=\"Times New Roman,serif\" font-size=\"14.00\">node2</text>\r\n",
       "</g>\r\n",
       "<!-- x1&#45;&gt;node2 -->\r\n",
       "<g id=\"edge5\" class=\"edge\"><title>x1&#45;&gt;node2</title>\r\n",
       "<path fill=\"none\" stroke=\"black\" d=\"M66.5622,-185.202C81.1842,-177.671 100.988,-167.471 117.681,-158.873\"/>\r\n",
       "<polygon fill=\"black\" stroke=\"black\" points=\"119.294,-161.979 126.582,-154.289 116.089,-155.756 119.294,-161.979\"/>\r\n",
       "</g>\r\n",
       "<!-- ... -->\r\n",
       "<g id=\"node7\" class=\"node\"><title>...</title>\r\n",
       "<ellipse fill=\"none\" stroke=\"black\" cx=\"151.441\" cy=\"-88\" rx=\"27\" ry=\"18\"/>\r\n",
       "<text text-anchor=\"middle\" x=\"151.441\" y=\"-84.3\" font-family=\"Times New Roman,serif\" font-size=\"14.00\">...</text>\r\n",
       "</g>\r\n",
       "<!-- x1&#45;&gt;... -->\r\n",
       "<g id=\"edge9\" class=\"edge\"><title>x1&#45;&gt;...</title>\r\n",
       "<path fill=\"none\" stroke=\"black\" d=\"M60.1755,-180.983C78.0154,-162.606 108.376,-131.332 128.908,-110.181\"/>\r\n",
       "<polygon fill=\"black\" stroke=\"black\" points=\"131.533,-112.502 135.987,-102.889 126.51,-107.627 131.533,-112.502\"/>\r\n",
       "</g>\r\n",
       "<!-- node500 -->\r\n",
       "<g id=\"node8\" class=\"node\"><title>node500</title>\r\n",
       "<ellipse fill=\"none\" stroke=\"black\" cx=\"151.441\" cy=\"-34\" rx=\"42.4939\" ry=\"18\"/>\r\n",
       "<text text-anchor=\"middle\" x=\"151.441\" y=\"-30.3\" font-family=\"Times New Roman,serif\" font-size=\"14.00\">node500</text>\r\n",
       "</g>\r\n",
       "<!-- x1&#45;&gt;node500 -->\r\n",
       "<g id=\"edge13\" class=\"edge\"><title>x1&#45;&gt;node500</title>\r\n",
       "<path fill=\"none\" stroke=\"black\" d=\"M56.2274,-179.575C74.4827,-151.368 111.926,-93.5126 133.71,-59.8521\"/>\r\n",
       "<polygon fill=\"black\" stroke=\"black\" points=\"136.655,-61.7431 139.15,-51.4462 130.779,-57.9398 136.655,-61.7431\"/>\r\n",
       "</g>\r\n",
       "<!-- x2 -->\r\n",
       "<g id=\"node2\" class=\"node\"><title>x2</title>\r\n",
       "<ellipse fill=\"none\" stroke=\"black\" cx=\"44.5975\" cy=\"-142\" rx=\"27\" ry=\"18\"/>\r\n",
       "<text text-anchor=\"middle\" x=\"44.5975\" y=\"-138.3\" font-family=\"Times New Roman,serif\" font-size=\"14.00\">x2</text>\r\n",
       "</g>\r\n",
       "<!-- x2&#45;&gt;node1 -->\r\n",
       "<g id=\"edge2\" class=\"edge\"><title>x2&#45;&gt;node1</title>\r\n",
       "<path fill=\"none\" stroke=\"black\" d=\"M66.5622,-152.798C81.1842,-160.329 100.988,-170.529 117.681,-179.127\"/>\r\n",
       "<polygon fill=\"black\" stroke=\"black\" points=\"116.089,-182.244 126.582,-183.711 119.294,-176.021 116.089,-182.244\"/>\r\n",
       "</g>\r\n",
       "<!-- x2&#45;&gt;node2 -->\r\n",
       "<g id=\"edge6\" class=\"edge\"><title>x2&#45;&gt;node2</title>\r\n",
       "<path fill=\"none\" stroke=\"black\" d=\"M71.7835,-142C82.7767,-142 95.844,-142 108.139,-142\"/>\r\n",
       "<polygon fill=\"black\" stroke=\"black\" points=\"108.223,-145.5 118.223,-142 108.223,-138.5 108.223,-145.5\"/>\r\n",
       "</g>\r\n",
       "<!-- x2&#45;&gt;... -->\r\n",
       "<g id=\"edge10\" class=\"edge\"><title>x2&#45;&gt;...</title>\r\n",
       "<path fill=\"none\" stroke=\"black\" d=\"M66.5622,-131.202C81.9909,-123.255 103.189,-112.337 120.414,-103.466\"/>\r\n",
       "<polygon fill=\"black\" stroke=\"black\" points=\"122.225,-106.47 129.513,-98.7792 119.02,-100.247 122.225,-106.47\"/>\r\n",
       "</g>\r\n",
       "<!-- x2&#45;&gt;node500 -->\r\n",
       "<g id=\"edge14\" class=\"edge\"><title>x2&#45;&gt;node500</title>\r\n",
       "<path fill=\"none\" stroke=\"black\" d=\"M60.1755,-126.983C77.5142,-109.122 106.68,-79.0786 127.155,-57.9869\"/>\r\n",
       "<polygon fill=\"black\" stroke=\"black\" points=\"129.813,-60.2735 134.268,-50.6605 124.791,-55.3977 129.813,-60.2735\"/>\r\n",
       "</g>\r\n",
       "<!-- .. -->\r\n",
       "<g id=\"node3\" class=\"node\"><title>..</title>\r\n",
       "<ellipse fill=\"none\" stroke=\"black\" cx=\"44.5975\" cy=\"-88\" rx=\"27\" ry=\"18\"/>\r\n",
       "<text text-anchor=\"middle\" x=\"44.5975\" y=\"-84.3\" font-family=\"Times New Roman,serif\" font-size=\"14.00\">..</text>\r\n",
       "</g>\r\n",
       "<!-- ..&#45;&gt;node1 -->\r\n",
       "<g id=\"edge3\" class=\"edge\"><title>..&#45;&gt;node1</title>\r\n",
       "<path fill=\"none\" stroke=\"black\" d=\"M60.1755,-103.017C77.7147,-121.084 107.356,-151.618 127.862,-172.741\"/>\r\n",
       "<polygon fill=\"black\" stroke=\"black\" points=\"125.487,-175.32 134.964,-180.057 130.51,-170.444 125.487,-175.32\"/>\r\n",
       "</g>\r\n",
       "<!-- ..&#45;&gt;node2 -->\r\n",
       "<g id=\"edge7\" class=\"edge\"><title>..&#45;&gt;node2</title>\r\n",
       "<path fill=\"none\" stroke=\"black\" d=\"M66.5622,-98.7979C81.1842,-106.329 100.988,-116.529 117.681,-125.127\"/>\r\n",
       "<polygon fill=\"black\" stroke=\"black\" points=\"116.089,-128.244 126.582,-129.711 119.294,-122.021 116.089,-128.244\"/>\r\n",
       "</g>\r\n",
       "<!-- ..&#45;&gt;... -->\r\n",
       "<g id=\"edge11\" class=\"edge\"><title>..&#45;&gt;...</title>\r\n",
       "<path fill=\"none\" stroke=\"black\" d=\"M71.7835,-88C84.5432,-88 100.097,-88 113.995,-88\"/>\r\n",
       "<polygon fill=\"black\" stroke=\"black\" points=\"114.226,-91.5001 124.226,-88 114.226,-84.5001 114.226,-91.5001\"/>\r\n",
       "</g>\r\n",
       "<!-- ..&#45;&gt;node500 -->\r\n",
       "<g id=\"edge15\" class=\"edge\"><title>..&#45;&gt;node500</title>\r\n",
       "<path fill=\"none\" stroke=\"black\" d=\"M66.5622,-77.2021C80.3494,-70.1009 98.7435,-60.627 114.793,-52.3607\"/>\r\n",
       "<polygon fill=\"black\" stroke=\"black\" points=\"116.632,-55.3507 123.919,-47.6603 113.426,-49.1277 116.632,-55.3507\"/>\r\n",
       "</g>\r\n",
       "<!-- x784 -->\r\n",
       "<g id=\"node4\" class=\"node\"><title>x784</title>\r\n",
       "<ellipse fill=\"none\" stroke=\"black\" cx=\"44.5975\" cy=\"-34\" rx=\"28.6953\" ry=\"18\"/>\r\n",
       "<text text-anchor=\"middle\" x=\"44.5975\" y=\"-30.3\" font-family=\"Times New Roman,serif\" font-size=\"14.00\">x784</text>\r\n",
       "</g>\r\n",
       "<!-- x784&#45;&gt;node1 -->\r\n",
       "<g id=\"edge4\" class=\"edge\"><title>x784&#45;&gt;node1</title>\r\n",
       "<path fill=\"none\" stroke=\"black\" d=\"M56.4227,-50.7267C74.7867,-79.102 112.158,-136.847 133.846,-170.357\"/>\r\n",
       "<polygon fill=\"black\" stroke=\"black\" points=\"131.146,-172.628 139.518,-179.122 137.023,-168.825 131.146,-172.628\"/>\r\n",
       "</g>\r\n",
       "<!-- x784&#45;&gt;node2 -->\r\n",
       "<g id=\"edge8\" class=\"edge\"><title>x784&#45;&gt;node2</title>\r\n",
       "<path fill=\"none\" stroke=\"black\" d=\"M60.619,-49.4738C78.269,-67.6551 107.722,-97.9945 128.063,-118.948\"/>\r\n",
       "<polygon fill=\"black\" stroke=\"black\" points=\"125.63,-121.466 135.107,-126.204 130.652,-116.591 125.63,-121.466\"/>\r\n",
       "</g>\r\n",
       "<!-- x784&#45;&gt;... -->\r\n",
       "<g id=\"edge12\" class=\"edge\"><title>x784&#45;&gt;...</title>\r\n",
       "<path fill=\"none\" stroke=\"black\" d=\"M67.3211,-45.1888C82.7058,-53.1127 103.537,-63.8419 120.496,-72.5769\"/>\r\n",
       "<polygon fill=\"black\" stroke=\"black\" points=\"118.968,-75.7266 129.461,-77.194 122.173,-69.5035 118.968,-75.7266\"/>\r\n",
       "</g>\r\n",
       "<!-- x784&#45;&gt;node500 -->\r\n",
       "<g id=\"edge16\" class=\"edge\"><title>x784&#45;&gt;node500</title>\r\n",
       "<path fill=\"none\" stroke=\"black\" d=\"M73.4184,-34C81.2669,-34 90.0669,-34 98.8365,-34\"/>\r\n",
       "<polygon fill=\"black\" stroke=\"black\" points=\"99.0583,-37.5001 109.058,-34 99.0582,-30.5001 99.0583,-37.5001\"/>\r\n",
       "</g>\r\n",
       "<!-- node1(2) -->\r\n",
       "<g id=\"node9\" class=\"node\"><title>node1(2)</title>\r\n",
       "<ellipse fill=\"none\" stroke=\"black\" cx=\"281.683\" cy=\"-196\" rx=\"43.5923\" ry=\"18\"/>\r\n",
       "<text text-anchor=\"middle\" x=\"281.683\" y=\"-192.3\" font-family=\"Times New Roman,serif\" font-size=\"14.00\">node1(2)</text>\r\n",
       "</g>\r\n",
       "<!-- node1&#45;&gt;node1(2) -->\r\n",
       "<g id=\"edge17\" class=\"edge\"><title>node1&#45;&gt;node1(2)</title>\r\n",
       "<path fill=\"none\" stroke=\"black\" d=\"M184.802,-196C197.699,-196 212.889,-196 227.329,-196\"/>\r\n",
       "<polygon fill=\"black\" stroke=\"black\" points=\"227.668,-199.5 237.668,-196 227.668,-192.5 227.668,-199.5\"/>\r\n",
       "</g>\r\n",
       "<!-- node2(2) -->\r\n",
       "<g id=\"node10\" class=\"node\"><title>node2(2)</title>\r\n",
       "<ellipse fill=\"none\" stroke=\"black\" cx=\"281.683\" cy=\"-142\" rx=\"43.5923\" ry=\"18\"/>\r\n",
       "<text text-anchor=\"middle\" x=\"281.683\" y=\"-138.3\" font-family=\"Times New Roman,serif\" font-size=\"14.00\">node2(2)</text>\r\n",
       "</g>\r\n",
       "<!-- node1&#45;&gt;node2(2) -->\r\n",
       "<g id=\"edge21\" class=\"edge\"><title>node1&#45;&gt;node2(2)</title>\r\n",
       "<path fill=\"none\" stroke=\"black\" d=\"M178.085,-185.202C196.131,-177.603 220.631,-167.287 241.164,-158.641\"/>\r\n",
       "<polygon fill=\"black\" stroke=\"black\" points=\"242.721,-161.783 250.579,-154.676 240.005,-155.331 242.721,-161.783\"/>\r\n",
       "</g>\r\n",
       "<!-- .... -->\r\n",
       "<g id=\"node11\" class=\"node\"><title>....</title>\r\n",
       "<ellipse fill=\"none\" stroke=\"black\" cx=\"281.683\" cy=\"-88\" rx=\"27\" ry=\"18\"/>\r\n",
       "<text text-anchor=\"middle\" x=\"281.683\" y=\"-84.3\" font-family=\"Times New Roman,serif\" font-size=\"14.00\">....</text>\r\n",
       "</g>\r\n",
       "<!-- node1&#45;&gt;.... -->\r\n",
       "<g id=\"edge25\" class=\"edge\"><title>node1&#45;&gt;....</title>\r\n",
       "<path fill=\"none\" stroke=\"black\" d=\"M170.273,-180.983C192.656,-162.133 231.154,-129.711 256.262,-108.566\"/>\r\n",
       "<polygon fill=\"black\" stroke=\"black\" points=\"258.827,-110.982 264.221,-101.864 254.317,-105.628 258.827,-110.982\"/>\r\n",
       "</g>\r\n",
       "<!-- node500(2) -->\r\n",
       "<g id=\"node12\" class=\"node\"><title>node500(2)</title>\r\n",
       "<ellipse fill=\"none\" stroke=\"black\" cx=\"281.683\" cy=\"-34\" rx=\"51.9908\" ry=\"18\"/>\r\n",
       "<text text-anchor=\"middle\" x=\"281.683\" y=\"-30.3\" font-family=\"Times New Roman,serif\" font-size=\"14.00\">node500(2)</text>\r\n",
       "</g>\r\n",
       "<!-- node1&#45;&gt;node500(2) -->\r\n",
       "<g id=\"edge29\" class=\"edge\"><title>node1&#45;&gt;node500(2)</title>\r\n",
       "<path fill=\"none\" stroke=\"black\" d=\"M165.443,-179.575C187.868,-151.248 233.962,-93.0197 260.557,-59.4237\"/>\r\n",
       "<polygon fill=\"black\" stroke=\"black\" points=\"263.41,-61.4593 266.872,-51.4462 257.921,-57.1145 263.41,-61.4593\"/>\r\n",
       "</g>\r\n",
       "<!-- node2&#45;&gt;node1(2) -->\r\n",
       "<g id=\"edge18\" class=\"edge\"><title>node2&#45;&gt;node1(2)</title>\r\n",
       "<path fill=\"none\" stroke=\"black\" d=\"M178.085,-152.798C196.131,-160.397 220.631,-170.713 241.164,-179.359\"/>\r\n",
       "<polygon fill=\"black\" stroke=\"black\" points=\"240.005,-182.669 250.579,-183.324 242.721,-176.217 240.005,-182.669\"/>\r\n",
       "</g>\r\n",
       "<!-- node2&#45;&gt;node2(2) -->\r\n",
       "<g id=\"edge22\" class=\"edge\"><title>node2&#45;&gt;node2(2)</title>\r\n",
       "<path fill=\"none\" stroke=\"black\" d=\"M184.802,-142C197.699,-142 212.889,-142 227.329,-142\"/>\r\n",
       "<polygon fill=\"black\" stroke=\"black\" points=\"227.668,-145.5 237.668,-142 227.668,-138.5 227.668,-145.5\"/>\r\n",
       "</g>\r\n",
       "<!-- node2&#45;&gt;.... -->\r\n",
       "<g id=\"edge26\" class=\"edge\"><title>node2&#45;&gt;....</title>\r\n",
       "<path fill=\"none\" stroke=\"black\" d=\"M178.085,-131.202C198.495,-122.608 227.159,-110.538 249.004,-101.34\"/>\r\n",
       "<polygon fill=\"black\" stroke=\"black\" points=\"250.648,-104.445 258.506,-97.3382 247.932,-97.9933 250.648,-104.445\"/>\r\n",
       "</g>\r\n",
       "<!-- node2&#45;&gt;node500(2) -->\r\n",
       "<g id=\"edge30\" class=\"edge\"><title>node2&#45;&gt;node500(2)</title>\r\n",
       "<path fill=\"none\" stroke=\"black\" d=\"M170.273,-126.983C191.76,-108.887 228.097,-78.2859 253.183,-57.159\"/>\r\n",
       "<polygon fill=\"black\" stroke=\"black\" points=\"255.505,-59.7792 260.9,-50.6605 250.996,-54.425 255.505,-59.7792\"/>\r\n",
       "</g>\r\n",
       "<!-- ...&#45;&gt;node1(2) -->\r\n",
       "<g id=\"edge19\" class=\"edge\"><title>...&#45;&gt;node1(2)</title>\r\n",
       "<path fill=\"none\" stroke=\"black\" d=\"M168.944,-101.898C190.309,-119.891 227.832,-151.491 253.45,-173.065\"/>\r\n",
       "<polygon fill=\"black\" stroke=\"black\" points=\"251.41,-175.923 261.313,-179.688 255.919,-170.569 251.41,-175.923\"/>\r\n",
       "</g>\r\n",
       "<!-- ...&#45;&gt;node2(2) -->\r\n",
       "<g id=\"edge23\" class=\"edge\"><title>...&#45;&gt;node2(2)</title>\r\n",
       "<path fill=\"none\" stroke=\"black\" d=\"M174.779,-97.4061C193.032,-105.092 219.287,-116.147 241.088,-125.327\"/>\r\n",
       "<polygon fill=\"black\" stroke=\"black\" points=\"239.859,-128.607 250.433,-129.263 242.575,-122.156 239.859,-128.607\"/>\r\n",
       "</g>\r\n",
       "<!-- ...&#45;&gt;.... -->\r\n",
       "<g id=\"edge27\" class=\"edge\"><title>...&#45;&gt;....</title>\r\n",
       "<path fill=\"none\" stroke=\"black\" d=\"M178.702,-88C197.634,-88 223.426,-88 244.334,-88\"/>\r\n",
       "<polygon fill=\"black\" stroke=\"black\" points=\"244.457,-91.5001 254.457,-88 244.457,-84.5001 244.457,-91.5001\"/>\r\n",
       "</g>\r\n",
       "<!-- ...&#45;&gt;node500(2) -->\r\n",
       "<g id=\"edge31\" class=\"edge\"><title>...&#45;&gt;node500(2)</title>\r\n",
       "<path fill=\"none\" stroke=\"black\" d=\"M174.779,-78.5939C192.328,-71.2043 217.273,-60.7005 238.546,-51.7431\"/>\r\n",
       "<polygon fill=\"black\" stroke=\"black\" points=\"240.163,-54.8596 248.021,-47.7531 237.447,-48.4082 240.163,-54.8596\"/>\r\n",
       "</g>\r\n",
       "<!-- node500&#45;&gt;node1(2) -->\r\n",
       "<g id=\"edge20\" class=\"edge\"><title>node500&#45;&gt;node1(2)</title>\r\n",
       "<path fill=\"none\" stroke=\"black\" d=\"M165.923,-51.0306C188.569,-79.6384 234.353,-137.475 260.733,-170.799\"/>\r\n",
       "<polygon fill=\"black\" stroke=\"black\" points=\"258.045,-173.042 266.996,-178.71 263.533,-168.697 258.045,-173.042\"/>\r\n",
       "</g>\r\n",
       "<!-- node500&#45;&gt;node2(2) -->\r\n",
       "<g id=\"edge24\" class=\"edge\"><title>node500&#45;&gt;node2(2)</title>\r\n",
       "<path fill=\"none\" stroke=\"black\" d=\"M171.364,-49.9358C193.147,-68.2811 229.092,-98.552 253.779,-119.343\"/>\r\n",
       "<polygon fill=\"black\" stroke=\"black\" points=\"251.779,-122.234 261.683,-125.999 256.288,-116.88 251.779,-122.234\"/>\r\n",
       "</g>\r\n",
       "<!-- node500&#45;&gt;.... -->\r\n",
       "<g id=\"edge28\" class=\"edge\"><title>node500&#45;&gt;....</title>\r\n",
       "<path fill=\"none\" stroke=\"black\" d=\"M182.185,-46.5244C202.151,-54.9318 228.431,-65.9978 248.824,-74.5847\"/>\r\n",
       "<polygon fill=\"black\" stroke=\"black\" points=\"247.734,-77.9233 258.308,-78.5785 250.45,-71.4719 247.734,-77.9233\"/>\r\n",
       "</g>\r\n",
       "<!-- node500&#45;&gt;node500(2) -->\r\n",
       "<g id=\"edge32\" class=\"edge\"><title>node500&#45;&gt;node500(2)</title>\r\n",
       "<path fill=\"none\" stroke=\"black\" d=\"M193.724,-34C201.933,-34 210.718,-34 219.432,-34\"/>\r\n",
       "<polygon fill=\"black\" stroke=\"black\" points=\"219.59,-37.5001 229.59,-34 219.589,-30.5001 219.59,-37.5001\"/>\r\n",
       "</g>\r\n",
       "<!-- y10 -->\r\n",
       "<g id=\"node13\" class=\"node\"><title>y10</title>\r\n",
       "<ellipse fill=\"none\" stroke=\"black\" cx=\"416.678\" cy=\"-61\" rx=\"27\" ry=\"18\"/>\r\n",
       "<text text-anchor=\"middle\" x=\"416.678\" y=\"-57.3\" font-family=\"Times New Roman,serif\" font-size=\"14.00\">y10</text>\r\n",
       "</g>\r\n",
       "<!-- node1(2)&#45;&gt;y10 -->\r\n",
       "<g id=\"edge33\" class=\"edge\"><title>node1(2)&#45;&gt;y10</title>\r\n",
       "<path fill=\"none\" stroke=\"black\" d=\"M298.991,-179.446C322.728,-155.351 366.864,-110.55 393.525,-83.487\"/>\r\n",
       "<polygon fill=\"black\" stroke=\"black\" points=\"396.349,-85.6082 400.873,-76.0282 391.362,-80.6956 396.349,-85.6082\"/>\r\n",
       "</g>\r\n",
       "<!-- y1 -->\r\n",
       "<g id=\"node14\" class=\"node\"><title>y1</title>\r\n",
       "<ellipse fill=\"none\" stroke=\"black\" cx=\"416.678\" cy=\"-169\" rx=\"27\" ry=\"18\"/>\r\n",
       "<text text-anchor=\"middle\" x=\"416.678\" y=\"-165.3\" font-family=\"Times New Roman,serif\" font-size=\"14.00\">y1</text>\r\n",
       "</g>\r\n",
       "<!-- node1(2)&#45;&gt;y1 -->\r\n",
       "<g id=\"edge37\" class=\"edge\"><title>node1(2)&#45;&gt;y1</title>\r\n",
       "<path fill=\"none\" stroke=\"black\" d=\"M321.151,-188.19C339.964,-184.371 362.441,-179.808 380.757,-176.09\"/>\r\n",
       "<polygon fill=\"black\" stroke=\"black\" points=\"381.622,-179.485 390.726,-174.066 380.23,-172.625 381.622,-179.485\"/>\r\n",
       "</g>\r\n",
       "<!-- . -->\r\n",
       "<g id=\"node15\" class=\"node\"><title>.</title>\r\n",
       "<ellipse fill=\"none\" stroke=\"black\" cx=\"416.678\" cy=\"-115\" rx=\"27\" ry=\"18\"/>\r\n",
       "<text text-anchor=\"middle\" x=\"416.678\" y=\"-111.3\" font-family=\"Times New Roman,serif\" font-size=\"14.00\">.</text>\r\n",
       "</g>\r\n",
       "<!-- node1(2)&#45;&gt;. -->\r\n",
       "<g id=\"edge41\" class=\"edge\"><title>node1(2)&#45;&gt;.</title>\r\n",
       "<path fill=\"none\" stroke=\"black\" d=\"M307.076,-181.143C329.817,-167.293 363.719,-146.645 387.582,-132.112\"/>\r\n",
       "<polygon fill=\"black\" stroke=\"black\" points=\"389.473,-135.058 396.193,-126.868 385.831,-129.08 389.473,-135.058\"/>\r\n",
       "</g>\r\n",
       "<!-- node2(2)&#45;&gt;y10 -->\r\n",
       "<g id=\"edge34\" class=\"edge\"><title>node2(2)&#45;&gt;y10</title>\r\n",
       "<path fill=\"none\" stroke=\"black\" d=\"M307.076,-127.143C329.817,-113.293 363.719,-92.6454 387.582,-78.1115\"/>\r\n",
       "<polygon fill=\"black\" stroke=\"black\" points=\"389.473,-81.0585 396.193,-72.8676 385.831,-75.08 389.473,-81.0585\"/>\r\n",
       "</g>\r\n",
       "<!-- node2(2)&#45;&gt;y1 -->\r\n",
       "<g id=\"edge38\" class=\"edge\"><title>node2(2)&#45;&gt;y1</title>\r\n",
       "<path fill=\"none\" stroke=\"black\" d=\"M321.151,-149.81C339.964,-153.629 362.441,-158.192 380.757,-161.91\"/>\r\n",
       "<polygon fill=\"black\" stroke=\"black\" points=\"380.23,-165.375 390.726,-163.934 381.622,-158.515 380.23,-165.375\"/>\r\n",
       "</g>\r\n",
       "<!-- node2(2)&#45;&gt;. -->\r\n",
       "<g id=\"edge42\" class=\"edge\"><title>node2(2)&#45;&gt;.</title>\r\n",
       "<path fill=\"none\" stroke=\"black\" d=\"M321.151,-134.19C339.964,-130.371 362.441,-125.808 380.757,-122.09\"/>\r\n",
       "<polygon fill=\"black\" stroke=\"black\" points=\"381.622,-125.485 390.726,-120.066 380.23,-118.625 381.622,-125.485\"/>\r\n",
       "</g>\r\n",
       "<!-- ....&#45;&gt;y10 -->\r\n",
       "<g id=\"edge35\" class=\"edge\"><title>....&#45;&gt;y10</title>\r\n",
       "<path fill=\"none\" stroke=\"black\" d=\"M307.698,-82.9215C328.187,-78.7619 357.424,-72.8264 380.309,-68.1804\"/>\r\n",
       "<polygon fill=\"black\" stroke=\"black\" points=\"381.219,-71.5672 390.323,-66.1475 379.826,-64.7071 381.219,-71.5672\"/>\r\n",
       "</g>\r\n",
       "<!-- ....&#45;&gt;y1 -->\r\n",
       "<g id=\"edge39\" class=\"edge\"><title>....&#45;&gt;y1</title>\r\n",
       "<path fill=\"none\" stroke=\"black\" d=\"M302.307,-99.9518C324.701,-113.591 361.527,-136.02 387.106,-151.599\"/>\r\n",
       "<polygon fill=\"black\" stroke=\"black\" points=\"385.612,-154.787 395.974,-156.999 389.254,-148.808 385.612,-154.787\"/>\r\n",
       "</g>\r\n",
       "<!-- ....&#45;&gt;. -->\r\n",
       "<g id=\"edge43\" class=\"edge\"><title>....&#45;&gt;.</title>\r\n",
       "<path fill=\"none\" stroke=\"black\" d=\"M307.698,-93.0785C328.187,-97.2381 357.424,-103.174 380.309,-107.82\"/>\r\n",
       "<polygon fill=\"black\" stroke=\"black\" points=\"379.826,-111.293 390.323,-109.852 381.219,-104.433 379.826,-111.293\"/>\r\n",
       "</g>\r\n",
       "<!-- node500(2)&#45;&gt;y10 -->\r\n",
       "<g id=\"edge36\" class=\"edge\"><title>node500(2)&#45;&gt;y10</title>\r\n",
       "<path fill=\"none\" stroke=\"black\" d=\"M326.968,-42.9906C344.324,-46.5141 363.961,-50.5007 380.339,-53.8257\"/>\r\n",
       "<polygon fill=\"black\" stroke=\"black\" points=\"380.078,-57.3441 390.575,-55.9037 381.471,-50.484 380.078,-57.3441\"/>\r\n",
       "</g>\r\n",
       "<!-- node500(2)&#45;&gt;y1 -->\r\n",
       "<g id=\"edge40\" class=\"edge\"><title>node500(2)&#45;&gt;y1</title>\r\n",
       "<path fill=\"none\" stroke=\"black\" d=\"M299.527,-51.0978C323.447,-75.3784 367.282,-119.874 393.723,-146.714\"/>\r\n",
       "<polygon fill=\"black\" stroke=\"black\" points=\"391.498,-149.442 401.009,-154.11 396.484,-144.53 391.498,-149.442\"/>\r\n",
       "</g>\r\n",
       "<!-- node500(2)&#45;&gt;. -->\r\n",
       "<g id=\"edge44\" class=\"edge\"><title>node500(2)&#45;&gt;.</title>\r\n",
       "<path fill=\"none\" stroke=\"black\" d=\"M308.326,-49.6176C330.982,-63.4164 363.969,-83.507 387.388,-97.7699\"/>\r\n",
       "<polygon fill=\"black\" stroke=\"black\" points=\"385.8,-100.901 396.161,-103.113 389.441,-94.9225 385.8,-100.901\"/>\r\n",
       "</g>\r\n",
       "</g>\r\n",
       "</svg>\r\n"
      ],
      "text/plain": [
       "<graphviz.files.Source at 0x1b81befd130>"
      ]
     },
     "execution_count": 11,
     "metadata": {},
     "output_type": "execute_result"
    }
   ],
   "source": [
    "gv('''\n",
    "splines=line\n",
    "subgraph cluster_1{\n",
    "    style=filled;\n",
    "    color=lightgrey;\n",
    "    \"x1\"\n",
    "    \"x2\"\n",
    "    \"..\"\n",
    "    \"x784\"\n",
    "    label = \"Layer 0\"\n",
    "}\n",
    "subgraph cluster_2{\n",
    "    style=filled;\n",
    "    color=lightgrey;\n",
    "    \"x1\" -> \"node1\"\n",
    "    \"x2\" -> \"node1\"\n",
    "    \"..\" -> \"node1\"\n",
    "    \n",
    "    \"x784\" -> \"node1\"\n",
    "    \"x1\" -> \"node2\"\n",
    "    \"x2\" -> \"node2\"\n",
    "    \"..\" -> \"node2\"\n",
    "    \"x784\" -> \"node2\"\n",
    "    \n",
    "    \"x1\" -> \"...\"\n",
    "    \"x2\" -> \"...\"\n",
    "    \"..\" -> \"...\"\n",
    "    \"x784\" -> \"...\"\n",
    "\n",
    "    \"x1\" -> \"node500\"\n",
    "    \"x2\" -> \"node500\"\n",
    "    \"..\" -> \"node500\"\n",
    "    \"x784\" -> \"node500\"\n",
    "\n",
    "\n",
    "    label = \"Layer 1: relu\"\n",
    "}\n",
    "\n",
    "subgraph cluster_3{\n",
    "    style=filled;\n",
    "    color=lightgrey;\n",
    "\n",
    "    \"node1\" -> \"node1(2)\"\n",
    "    \"node2\" -> \"node1(2)\"\n",
    "    \"...\" -> \"node1(2)\"\n",
    "    \"node500\" -> \"node1(2)\"\n",
    "\n",
    "    \"node1\" -> \"node2(2)\"\n",
    "    \"node2\" -> \"node2(2)\"\n",
    "    \"...\" -> \"node2(2)\"\n",
    "    \"node500\" -> \"node2(2)\"\n",
    "    \n",
    "    \"node1\" -> \"....\"\n",
    "    \"node2\" -> \"....\"\n",
    "    \"...\" -> \"....\"\n",
    "    \"node500\" -> \"....\"\n",
    "    \n",
    "    \"node1\" -> \"node500(2)\"\n",
    "    \"node2\" -> \"node500(2)\"\n",
    "    \"...\" -> \"node500(2)\"\n",
    "    \"node500\" -> \"node500(2)\"\n",
    "\n",
    "    \n",
    "    label = \"Layer 2: relu\"\n",
    "}\n",
    "\n",
    "subgraph cluster_4{\n",
    "    style=filled;\n",
    "    color=lightgrey;\n",
    "\n",
    "    \"node1(2)\" -> \"y10\"\n",
    "    \"node2(2)\" -> \"y10\"\n",
    "    \"....\" -> \"y10\"\n",
    "    \"node500(2)\" -> \"y10\"\n",
    "    \n",
    "    \"node1(2)\" -> \"y1\"\n",
    "    \"node2(2)\" -> \"y1\"\n",
    "    \"....\" -> \"y1\"\n",
    "    \"node500(2)\" -> \"y1\"\n",
    "    \n",
    "    \"node1(2)\" -> \".\"\n",
    "    \"node2(2)\" -> \".\"\n",
    "    \"....\" -> \".\"\n",
    "    \"node500(2)\" -> \".\"\n",
    "    \n",
    "    label = \"Layer 3: sigmoid\"\n",
    "}\n",
    "''')"
   ]
  },
  {
   "cell_type": "code",
   "execution_count": 12,
   "id": "aa61d61a-e1e4-49db-b6fa-f408d5924871",
   "metadata": {
    "scrolled": true,
    "tags": []
   },
   "outputs": [
    {
     "name": "stdout",
     "output_type": "stream",
     "text": [
      "Epoch 1/50\n",
      "50/50 [==============================] - 4s 77ms/step - loss: 21.5888 - accuracy: 0.6877\n",
      "Epoch 2/50\n",
      "50/50 [==============================] - 4s 87ms/step - loss: 1.9781 - accuracy: 0.8038\n",
      "Epoch 3/50\n",
      "50/50 [==============================] - 4s 76ms/step - loss: 1.2649 - accuracy: 0.8204\n",
      "Epoch 4/50\n",
      "50/50 [==============================] - 4s 78ms/step - loss: 0.9467 - accuracy: 0.8335\n",
      "Epoch 5/50\n",
      "50/50 [==============================] - 5s 96ms/step - loss: 0.7478 - accuracy: 0.8451\n",
      "Epoch 6/50\n",
      "50/50 [==============================] - 4s 88ms/step - loss: 0.6173 - accuracy: 0.8554\n",
      "Epoch 7/50\n",
      "50/50 [==============================] - 4s 76ms/step - loss: 0.5651 - accuracy: 0.8599\n",
      "Epoch 8/50\n",
      "50/50 [==============================] - 4s 72ms/step - loss: 0.4842 - accuracy: 0.8712\n",
      "Epoch 9/50\n",
      "50/50 [==============================] - 4s 81ms/step - loss: 0.4490 - accuracy: 0.8732\n",
      "Epoch 10/50\n",
      "50/50 [==============================] - 4s 78ms/step - loss: 0.3920 - accuracy: 0.8840\n",
      "Epoch 11/50\n",
      "50/50 [==============================] - 4s 78ms/step - loss: 0.3590 - accuracy: 0.8895\n",
      "Epoch 12/50\n",
      "50/50 [==============================] - 4s 82ms/step - loss: 0.3473 - accuracy: 0.8918\n",
      "Epoch 13/50\n",
      "50/50 [==============================] - 4s 77ms/step - loss: 0.3111 - accuracy: 0.9001\n",
      "Epoch 14/50\n",
      "50/50 [==============================] - 4s 72ms/step - loss: 0.2906 - accuracy: 0.9041\n",
      "Epoch 15/50\n",
      "50/50 [==============================] - 8s 156ms/step - loss: 0.2861 - accuracy: 0.9050\n",
      "Epoch 16/50\n",
      "50/50 [==============================] - 12s 228ms/step - loss: 0.2713 - accuracy: 0.9079\n",
      "Epoch 17/50\n",
      "50/50 [==============================] - 5s 103ms/step - loss: 0.2535 - accuracy: 0.9133\n",
      "Epoch 18/50\n",
      "50/50 [==============================] - 4s 79ms/step - loss: 0.2357 - accuracy: 0.9187\n",
      "Epoch 19/50\n",
      "50/50 [==============================] - 4s 73ms/step - loss: 0.2169 - accuracy: 0.9226\n",
      "Epoch 20/50\n",
      "50/50 [==============================] - 4s 77ms/step - loss: 0.2051 - accuracy: 0.9263\n",
      "Epoch 21/50\n",
      "50/50 [==============================] - 3s 68ms/step - loss: 0.1999 - accuracy: 0.9292\n",
      "Epoch 22/50\n",
      "50/50 [==============================] - 4s 85ms/step - loss: 0.1963 - accuracy: 0.9308\n",
      "Epoch 23/50\n",
      "50/50 [==============================] - 4s 71ms/step - loss: 0.1870 - accuracy: 0.9339\n",
      "Epoch 24/50\n",
      "50/50 [==============================] - 4s 71ms/step - loss: 0.1886 - accuracy: 0.9325\n",
      "Epoch 25/50\n",
      "50/50 [==============================] - 3s 63ms/step - loss: 0.1923 - accuracy: 0.9329\n",
      "Epoch 26/50\n",
      "50/50 [==============================] - 3s 69ms/step - loss: 0.1794 - accuracy: 0.9365\n",
      "Epoch 27/50\n",
      "50/50 [==============================] - 3s 69ms/step - loss: 0.1939 - accuracy: 0.9308\n",
      "Epoch 28/50\n",
      "50/50 [==============================] - 3s 65ms/step - loss: 0.1756 - accuracy: 0.9356\n",
      "Epoch 29/50\n",
      "50/50 [==============================] - 4s 73ms/step - loss: 0.1495 - accuracy: 0.9455\n",
      "Epoch 30/50\n",
      "50/50 [==============================] - 4s 70ms/step - loss: 0.1837 - accuracy: 0.9350\n",
      "Epoch 31/50\n",
      "50/50 [==============================] - 3s 67ms/step - loss: 0.1405 - accuracy: 0.9490\n",
      "Epoch 32/50\n",
      "50/50 [==============================] - 3s 67ms/step - loss: 0.1347 - accuracy: 0.9507\n",
      "Epoch 33/50\n",
      "50/50 [==============================] - 3s 69ms/step - loss: 0.1304 - accuracy: 0.9526\n",
      "Epoch 34/50\n",
      "50/50 [==============================] - 3s 69ms/step - loss: 0.1390 - accuracy: 0.9498\n",
      "Epoch 35/50\n",
      "50/50 [==============================] - 3s 69ms/step - loss: 0.1277 - accuracy: 0.9529\n",
      "Epoch 36/50\n",
      "50/50 [==============================] - 4s 72ms/step - loss: 0.1141 - accuracy: 0.9573\n",
      "Epoch 37/50\n",
      "50/50 [==============================] - 4s 71ms/step - loss: 0.1189 - accuracy: 0.9559\n",
      "Epoch 38/50\n",
      "50/50 [==============================] - 3s 69ms/step - loss: 0.1181 - accuracy: 0.9558\n",
      "Epoch 39/50\n",
      "50/50 [==============================] - 4s 78ms/step - loss: 0.1148 - accuracy: 0.9572\n",
      "Epoch 40/50\n",
      "50/50 [==============================] - 5s 93ms/step - loss: 0.1143 - accuracy: 0.9581\n",
      "Epoch 41/50\n",
      "50/50 [==============================] - 4s 79ms/step - loss: 0.1218 - accuracy: 0.9545\n",
      "Epoch 42/50\n",
      "50/50 [==============================] - 4s 72ms/step - loss: 0.1224 - accuracy: 0.9548\n",
      "Epoch 43/50\n",
      "50/50 [==============================] - 4s 73ms/step - loss: 0.1143 - accuracy: 0.9584\n",
      "Epoch 44/50\n",
      "50/50 [==============================] - 4s 73ms/step - loss: 0.1097 - accuracy: 0.9603\n",
      "Epoch 45/50\n",
      "50/50 [==============================] - 4s 72ms/step - loss: 0.1251 - accuracy: 0.9542\n",
      "Epoch 46/50\n",
      "50/50 [==============================] - 4s 73ms/step - loss: 0.1153 - accuracy: 0.9576\n",
      "Epoch 47/50\n",
      "50/50 [==============================] - 4s 79ms/step - loss: 0.1066 - accuracy: 0.9612\n",
      "Epoch 48/50\n",
      "50/50 [==============================] - 4s 78ms/step - loss: 0.1018 - accuracy: 0.9624\n",
      "Epoch 49/50\n",
      "50/50 [==============================] - 4s 75ms/step - loss: 0.1104 - accuracy: 0.9604\n",
      "Epoch 50/50\n",
      "50/50 [==============================] - 4s 75ms/step - loss: 0.1053 - accuracy: 0.9616\n"
     ]
    },
    {
     "data": {
      "text/plain": [
       "<keras.callbacks.History at 0x1b81bf33b80>"
      ]
     },
     "execution_count": 12,
     "metadata": {},
     "output_type": "execute_result"
    }
   ],
   "source": [
    "#collapse_output\n",
    "tf.random.set_seed(43052)\n",
    "net = tf.keras.Sequential()\n",
    "net.add(tf.keras.layers.Dense(500,activation='relu'))\n",
    "net.add(tf.keras.layers.Dense(500,activation='relu'))\n",
    "net.add(tf.keras.layers.Dense(10,activation='softmax'))\n",
    "net.compile(optimizer='adam',loss=tf.losses.categorical_crossentropy,metrics=['accuracy'])\n",
    "net.fit(X,y,epochs=50,batch_size=1200)"
   ]
  },
  {
   "cell_type": "code",
   "execution_count": 14,
   "id": "20912efe-d51a-4119-a22c-aa41d21e5708",
   "metadata": {},
   "outputs": [
    {
     "name": "stdout",
     "output_type": "stream",
     "text": [
      "313/313 [==============================] - 2s 6ms/step - loss: 0.7337 - accuracy: 0.8618\n"
     ]
    },
    {
     "data": {
      "text/plain": [
       "[0.7337304949760437, 0.8618000149726868]"
      ]
     },
     "execution_count": 14,
     "metadata": {},
     "output_type": "execute_result"
    }
   ],
   "source": [
    "net.evaluate(XX,yy)"
   ]
  },
  {
   "cell_type": "markdown",
   "id": "2126e0da-810a-4280-ac6e-98cac552d5a5",
   "metadata": {},
   "source": [
    "#### 추가학습"
   ]
  },
  {
   "cell_type": "markdown",
   "id": "11d9f2d2-1bae-4b7d-af79-38ec4c95462e",
   "metadata": {},
   "source": [
    "`-` 시도1,2에서 사용된 모형에서 각각 추정해야할 파라메터의 수를 구하고 비교하라. "
   ]
  },
  {
   "cell_type": "markdown",
   "id": "a8f64b97-4e0b-47a6-9281-7e26515bf613",
   "metadata": {},
   "source": [
    "**hint: `net.summary()` 이용**"
   ]
  },
  {
   "cell_type": "code",
   "execution_count": 31,
   "id": "bad908c0-eefb-4ece-a7ed-fc08a92ff8b8",
   "metadata": {
    "scrolled": true,
    "tags": []
   },
   "outputs": [
    {
     "name": "stdout",
     "output_type": "stream",
     "text": [
      "Epoch 1/20\n",
      "50/50 [==============================] - 1s 10ms/step - loss: 32.5636 - accuracy: 0.3732\n",
      "Epoch 2/20\n",
      "50/50 [==============================] - 0s 9ms/step - loss: 2.4426 - accuracy: 0.3876\n",
      "Epoch 3/20\n",
      "50/50 [==============================] - 0s 10ms/step - loss: 1.9157 - accuracy: 0.3830\n",
      "Epoch 4/20\n",
      "50/50 [==============================] - 0s 10ms/step - loss: 1.7747 - accuracy: 0.4075\n",
      "Epoch 5/20\n",
      "50/50 [==============================] - 1s 10ms/step - loss: 1.6499 - accuracy: 0.4506\n",
      "Epoch 6/20\n",
      "50/50 [==============================] - 0s 9ms/step - loss: 1.5429 - accuracy: 0.4854\n",
      "Epoch 7/20\n",
      "50/50 [==============================] - 0s 10ms/step - loss: 1.4646 - accuracy: 0.4987\n",
      "Epoch 8/20\n",
      "50/50 [==============================] - 0s 9ms/step - loss: 1.3988 - accuracy: 0.5224\n",
      "Epoch 9/20\n",
      "50/50 [==============================] - 0s 10ms/step - loss: 1.3393 - accuracy: 0.5462\n",
      "Epoch 10/20\n",
      "50/50 [==============================] - 0s 9ms/step - loss: 1.2876 - accuracy: 0.5537\n",
      "Epoch 11/20\n",
      "50/50 [==============================] - 1s 10ms/step - loss: 1.2507 - accuracy: 0.5610\n",
      "Epoch 12/20\n",
      "50/50 [==============================] - 0s 9ms/step - loss: 1.2187 - accuracy: 0.5704\n",
      "Epoch 13/20\n",
      "50/50 [==============================] - 0s 9ms/step - loss: 1.1909 - accuracy: 0.5724\n",
      "Epoch 14/20\n",
      "50/50 [==============================] - 1s 10ms/step - loss: 1.1661 - accuracy: 0.5767\n",
      "Epoch 15/20\n",
      "50/50 [==============================] - 1s 11ms/step - loss: 1.1448 - accuracy: 0.5807\n",
      "Epoch 16/20\n",
      "50/50 [==============================] - 0s 9ms/step - loss: 1.1248 - accuracy: 0.5847\n",
      "Epoch 17/20\n",
      "50/50 [==============================] - 0s 9ms/step - loss: 1.1038 - accuracy: 0.5895\n",
      "Epoch 18/20\n",
      "50/50 [==============================] - 0s 9ms/step - loss: 1.0868 - accuracy: 0.5917\n",
      "Epoch 19/20\n",
      "50/50 [==============================] - 0s 9ms/step - loss: 1.0720 - accuracy: 0.5945\n",
      "Epoch 20/20\n",
      "50/50 [==============================] - 1s 11ms/step - loss: 1.0525 - accuracy: 0.6013\n"
     ]
    },
    {
     "data": {
      "text/plain": [
       "<keras.callbacks.History at 0x1b81527ad00>"
      ]
     },
     "execution_count": 31,
     "metadata": {},
     "output_type": "execute_result"
    }
   ],
   "source": [
    "#collapse_output\n",
    "tf.random.set_seed(43052)\n",
    "net1 = tf.keras.Sequential()\n",
    "net1.add(tf.keras.layers.Dense(30,activation='relu'))\n",
    "net1.add(tf.keras.layers.Dense(10,activation='softmax'))\n",
    "net1.compile(optimizer='adam',loss=tf.losses.categorical_crossentropy,metrics=['accuracy'])\n",
    "net1.fit(X,y,epochs=20,batch_size=1200)"
   ]
  },
  {
   "cell_type": "code",
   "execution_count": 32,
   "id": "69eee016-98e0-4594-8979-9ba882892000",
   "metadata": {},
   "outputs": [
    {
     "name": "stdout",
     "output_type": "stream",
     "text": [
      "313/313 [==============================] - 1s 3ms/step - loss: 1.0973 - accuracy: 0.6055\n"
     ]
    },
    {
     "data": {
      "text/plain": [
       "[1.0972778797149658, 0.6054999828338623]"
      ]
     },
     "execution_count": 32,
     "metadata": {},
     "output_type": "execute_result"
    }
   ],
   "source": [
    "net1.evaluate(XX,yy)"
   ]
  },
  {
   "cell_type": "code",
   "execution_count": 33,
   "id": "134faf32-3ff1-422c-8b56-59486236f945",
   "metadata": {
    "scrolled": true,
    "tags": []
   },
   "outputs": [
    {
     "name": "stdout",
     "output_type": "stream",
     "text": [
      "Epoch 1/50\n",
      "50/50 [==============================] - 5s 81ms/step - loss: 21.5888 - accuracy: 0.6877\n",
      "Epoch 2/50\n",
      "50/50 [==============================] - 4s 79ms/step - loss: 1.9781 - accuracy: 0.8038\n",
      "Epoch 3/50\n",
      "50/50 [==============================] - 4s 80ms/step - loss: 1.2649 - accuracy: 0.8204\n",
      "Epoch 4/50\n",
      "50/50 [==============================] - 4s 76ms/step - loss: 0.9467 - accuracy: 0.8335\n",
      "Epoch 5/50\n",
      "50/50 [==============================] - 4s 73ms/step - loss: 0.7478 - accuracy: 0.8451\n",
      "Epoch 6/50\n",
      "50/50 [==============================] - 4s 74ms/step - loss: 0.6173 - accuracy: 0.8554\n",
      "Epoch 7/50\n",
      "50/50 [==============================] - 4s 78ms/step - loss: 0.5651 - accuracy: 0.8599\n",
      "Epoch 8/50\n",
      "50/50 [==============================] - 4s 78ms/step - loss: 0.4842 - accuracy: 0.8712\n",
      "Epoch 9/50\n",
      "50/50 [==============================] - 4s 76ms/step - loss: 0.4490 - accuracy: 0.8732\n",
      "Epoch 10/50\n",
      "50/50 [==============================] - 4s 76ms/step - loss: 0.3920 - accuracy: 0.8840\n",
      "Epoch 11/50\n",
      "50/50 [==============================] - 4s 76ms/step - loss: 0.3590 - accuracy: 0.8895\n",
      "Epoch 12/50\n",
      "50/50 [==============================] - 4s 77ms/step - loss: 0.3473 - accuracy: 0.8918\n",
      "Epoch 13/50\n",
      "50/50 [==============================] - 4s 71ms/step - loss: 0.3111 - accuracy: 0.9001\n",
      "Epoch 14/50\n",
      "50/50 [==============================] - 4s 75ms/step - loss: 0.2906 - accuracy: 0.9041\n",
      "Epoch 15/50\n",
      "50/50 [==============================] - 4s 75ms/step - loss: 0.2861 - accuracy: 0.9050\n",
      "Epoch 16/50\n",
      "50/50 [==============================] - 4s 76ms/step - loss: 0.2713 - accuracy: 0.9079\n",
      "Epoch 17/50\n",
      "50/50 [==============================] - 4s 74ms/step - loss: 0.2535 - accuracy: 0.9133\n",
      "Epoch 18/50\n",
      "50/50 [==============================] - 4s 77ms/step - loss: 0.2357 - accuracy: 0.9187\n",
      "Epoch 19/50\n",
      "50/50 [==============================] - 4s 75ms/step - loss: 0.2169 - accuracy: 0.9226\n",
      "Epoch 20/50\n",
      "50/50 [==============================] - 4s 80ms/step - loss: 0.2051 - accuracy: 0.9263\n",
      "Epoch 21/50\n",
      "50/50 [==============================] - 4s 77ms/step - loss: 0.1999 - accuracy: 0.9292\n",
      "Epoch 22/50\n",
      "50/50 [==============================] - 4s 78ms/step - loss: 0.1963 - accuracy: 0.9308\n",
      "Epoch 23/50\n",
      "50/50 [==============================] - 4s 75ms/step - loss: 0.1870 - accuracy: 0.9339\n",
      "Epoch 24/50\n",
      "50/50 [==============================] - 4s 75ms/step - loss: 0.1886 - accuracy: 0.9325\n",
      "Epoch 25/50\n",
      "50/50 [==============================] - 4s 74ms/step - loss: 0.1923 - accuracy: 0.9329\n",
      "Epoch 26/50\n",
      "50/50 [==============================] - 4s 74ms/step - loss: 0.1794 - accuracy: 0.9365\n",
      "Epoch 27/50\n",
      "50/50 [==============================] - 4s 77ms/step - loss: 0.1939 - accuracy: 0.9308\n",
      "Epoch 28/50\n",
      "50/50 [==============================] - 4s 76ms/step - loss: 0.1756 - accuracy: 0.9356\n",
      "Epoch 29/50\n",
      "50/50 [==============================] - 4s 73ms/step - loss: 0.1495 - accuracy: 0.9455\n",
      "Epoch 30/50\n",
      "50/50 [==============================] - 4s 73ms/step - loss: 0.1837 - accuracy: 0.9350\n",
      "Epoch 31/50\n",
      "50/50 [==============================] - 4s 79ms/step - loss: 0.1405 - accuracy: 0.9490\n",
      "Epoch 32/50\n",
      "50/50 [==============================] - 4s 77ms/step - loss: 0.1347 - accuracy: 0.9507\n",
      "Epoch 33/50\n",
      "50/50 [==============================] - 4s 76ms/step - loss: 0.1304 - accuracy: 0.9526\n",
      "Epoch 34/50\n",
      "50/50 [==============================] - 4s 78ms/step - loss: 0.1390 - accuracy: 0.9498\n",
      "Epoch 35/50\n",
      "50/50 [==============================] - 4s 74ms/step - loss: 0.1277 - accuracy: 0.9529\n",
      "Epoch 36/50\n",
      "50/50 [==============================] - 4s 76ms/step - loss: 0.1141 - accuracy: 0.9573\n",
      "Epoch 37/50\n",
      "50/50 [==============================] - 4s 75ms/step - loss: 0.1189 - accuracy: 0.9559\n",
      "Epoch 38/50\n",
      "50/50 [==============================] - 4s 76ms/step - loss: 0.1181 - accuracy: 0.9558\n",
      "Epoch 39/50\n",
      "50/50 [==============================] - 4s 75ms/step - loss: 0.1148 - accuracy: 0.9572\n",
      "Epoch 40/50\n",
      "50/50 [==============================] - 4s 77ms/step - loss: 0.1143 - accuracy: 0.9581\n",
      "Epoch 41/50\n",
      "50/50 [==============================] - 4s 77ms/step - loss: 0.1218 - accuracy: 0.9545\n",
      "Epoch 42/50\n",
      "50/50 [==============================] - 4s 75ms/step - loss: 0.1224 - accuracy: 0.9548\n",
      "Epoch 43/50\n",
      "50/50 [==============================] - 4s 74ms/step - loss: 0.1143 - accuracy: 0.9584\n",
      "Epoch 44/50\n",
      "50/50 [==============================] - 4s 75ms/step - loss: 0.1097 - accuracy: 0.9603\n",
      "Epoch 45/50\n",
      "50/50 [==============================] - 4s 74ms/step - loss: 0.1251 - accuracy: 0.9542\n",
      "Epoch 46/50\n",
      "50/50 [==============================] - 4s 75ms/step - loss: 0.1153 - accuracy: 0.9576\n",
      "Epoch 47/50\n",
      "50/50 [==============================] - 4s 76ms/step - loss: 0.1066 - accuracy: 0.9612\n",
      "Epoch 48/50\n",
      "50/50 [==============================] - 4s 76ms/step - loss: 0.1018 - accuracy: 0.9624\n",
      "Epoch 49/50\n",
      "50/50 [==============================] - 4s 72ms/step - loss: 0.1104 - accuracy: 0.9604\n",
      "Epoch 50/50\n",
      "50/50 [==============================] - 4s 74ms/step - loss: 0.1053 - accuracy: 0.9616\n"
     ]
    },
    {
     "data": {
      "text/plain": [
       "<keras.callbacks.History at 0x1b815345460>"
      ]
     },
     "execution_count": 33,
     "metadata": {},
     "output_type": "execute_result"
    }
   ],
   "source": [
    "#collapse_output\n",
    "tf.random.set_seed(43052)\n",
    "net2 = tf.keras.Sequential()\n",
    "net2.add(tf.keras.layers.Dense(500,activation='relu'))\n",
    "net2.add(tf.keras.layers.Dense(500,activation='relu'))\n",
    "net2.add(tf.keras.layers.Dense(10,activation='softmax'))\n",
    "net2.compile(optimizer='adam',loss=tf.losses.categorical_crossentropy,metrics=['accuracy'])\n",
    "net2.fit(X,y,epochs=50,batch_size=1200)"
   ]
  },
  {
   "cell_type": "code",
   "execution_count": 34,
   "id": "ed9397d6-e528-431e-a088-dd636043f8c9",
   "metadata": {},
   "outputs": [
    {
     "name": "stdout",
     "output_type": "stream",
     "text": [
      "313/313 [==============================] - 2s 5ms/step - loss: 0.7337 - accuracy: 0.8618\n"
     ]
    },
    {
     "data": {
      "text/plain": [
       "[0.7337304949760437, 0.8618000149726868]"
      ]
     },
     "execution_count": 34,
     "metadata": {},
     "output_type": "execute_result"
    }
   ],
   "source": [
    "net2.evaluate(XX,yy)"
   ]
  },
  {
   "cell_type": "code",
   "execution_count": 35,
   "id": "f8303e7c-8910-4ef9-8235-948848a00ea0",
   "metadata": {},
   "outputs": [
    {
     "name": "stdout",
     "output_type": "stream",
     "text": [
      "Model: \"sequential_7\"\n",
      "_________________________________________________________________\n",
      " Layer (type)                Output Shape              Param #   \n",
      "=================================================================\n",
      " dense_15 (Dense)            (None, 30)                23550     \n",
      "                                                                 \n",
      " dense_16 (Dense)            (None, 10)                310       \n",
      "                                                                 \n",
      "=================================================================\n",
      "Total params: 23,860\n",
      "Trainable params: 23,860\n",
      "Non-trainable params: 0\n",
      "_________________________________________________________________\n"
     ]
    }
   ],
   "source": [
    "net1.summary()"
   ]
  },
  {
   "cell_type": "code",
   "execution_count": 36,
   "id": "29624d3b-f65e-4f12-ae95-ab4585caae77",
   "metadata": {},
   "outputs": [
    {
     "name": "stdout",
     "output_type": "stream",
     "text": [
      "Model: \"sequential_8\"\n",
      "_________________________________________________________________\n",
      " Layer (type)                Output Shape              Param #   \n",
      "=================================================================\n",
      " dense_17 (Dense)            (None, 500)               392500    \n",
      "                                                                 \n",
      " dense_18 (Dense)            (None, 500)               250500    \n",
      "                                                                 \n",
      " dense_19 (Dense)            (None, 10)                5010      \n",
      "                                                                 \n",
      "=================================================================\n",
      "Total params: 648,010\n",
      "Trainable params: 648,010\n",
      "Non-trainable params: 0\n",
      "_________________________________________________________________\n"
     ]
    }
   ],
   "source": [
    "net2.summary()"
   ]
  },
  {
   "cell_type": "markdown",
   "id": "2043b52e-8732-4ad7-bf89-0eafbec67b0c",
   "metadata": {},
   "source": [
    "- 시도1에서 추정해야할 파라메터 수는 $23860$개 이다.\n",
    "- 시도2에서 추정해야할 파라메터 수는 $648010$개 이다.\n",
    "- 시도2에서 추정해야할 파라메터 수가 시도1에서 추정해야할 파라메터 수보다 훨씬(약 62만 개) 많다."
   ]
  }
 ],
 "metadata": {
  "kernelspec": {
   "display_name": "Python 3 (ipykernel)",
   "language": "python",
   "name": "python3"
  },
  "language_info": {
   "codemirror_mode": {
    "name": "ipython",
    "version": 3
   },
   "file_extension": ".py",
   "mimetype": "text/x-python",
   "name": "python",
   "nbconvert_exporter": "python",
   "pygments_lexer": "ipython3",
   "version": "3.8.12"
  }
 },
 "nbformat": 4,
 "nbformat_minor": 5
}
