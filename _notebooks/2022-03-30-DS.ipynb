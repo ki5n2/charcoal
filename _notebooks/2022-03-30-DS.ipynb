{
 "cells": [
  {
   "cell_type": "markdown",
   "id": "3d03d8ba-0af8-4b94-a8e6-964712ce0c6b",
   "metadata": {},
   "source": [
    "# Data Science\n",
    "\n",
    "`-` 최적화문제, tf.keras.optimizers를 이용한 최적화방법, 1.optimizers.apply_gradients( ), 2.optimizers.minimize( ), 회귀분석\n",
    "\n",
    "- lenture: Data Science_5-1nd week of lectures.\n",
    "- lenture date: 2022-03-30\n",
    "- lecturer: Guebin choi\n",
    "- study date: 2022-03-30\n",
    "- author: Kione kim"
   ]
  },
  {
   "cell_type": "code",
   "execution_count": 1,
   "id": "1a2ef4bd-1259-4171-8608-99e6acf1261c",
   "metadata": {},
   "outputs": [],
   "source": [
    "import tensorflow as tf\n",
    "import numpy as np\n",
    "import matplotlib.pyplot as plt"
   ]
  },
  {
   "cell_type": "code",
   "execution_count": 2,
   "id": "5ffcf37e-b6d3-4a99-bb9b-891468a95d96",
   "metadata": {},
   "outputs": [],
   "source": [
    "import tensorflow.experimental.numpy as tnp"
   ]
  },
  {
   "cell_type": "code",
   "execution_count": 3,
   "id": "9a9b1395-732f-4fb3-beb1-fa8c1a97f51d",
   "metadata": {},
   "outputs": [],
   "source": [
    "tnp.experimental_enable_numpy_behavior()"
   ]
  },
  {
   "cell_type": "markdown",
   "id": "0b8f1853-02b3-4aea-b878-c59359dd2d9e",
   "metadata": {},
   "source": [
    "## 최적화문제"
   ]
  },
  {
   "cell_type": "markdown",
   "id": "4a2cdd83-6ef1-4723-9706-70383df13ad2",
   "metadata": {},
   "source": [
    "`-` $loss=(\\frac{1}{2}\\beta-1)^2$ "
   ]
  },
  {
   "cell_type": "markdown",
   "id": "c1f6957b-521f-49fd-9a68-9a7a82862b31",
   "metadata": {},
   "source": [
    "`-` 기존의 학습\n",
    "$$\\beta_{next} \\leftarrow \\beta_{old} -\\alpha \\left[\\frac{\\partial}{\\partial \\beta} loss(\\beta)\\right]_{\\beta=\\beta_{old}}$$"
   ]
  },
  {
   "cell_type": "markdown",
   "id": "b0053960-660c-4375-bf4e-efcfa109a8b1",
   "metadata": {},
   "source": [
    "``` python\n",
    "beta = tf.Variable(-10.0) \n",
    "alpha=0.01/6 \n",
    "\n",
    "for k in range(100): \n",
    "    with tf.GradientTape(persistent=True) as tape: \n",
    "        loss = (beta/2-1)**2 \n",
    "    beta.assign_sub(alpha*tape.gradient(loss,beta))\n",
    "\n",
    "beta\n",
    "```"
   ]
  },
  {
   "cell_type": "markdown",
   "id": "a6b692ad-977f-4884-948b-4792d0f5f6e2",
   "metadata": {},
   "source": [
    "`-` 이 방식의 단점: \n",
    "- 위의 식을 알고 있어야 함\n",
    "- 사람들 생각: (위의 식을 알지 정확하게 알지 못하더라도) $β_{old}$ 에서의 미분값과 $β_{old}$(현재 위치)를 통해 $β_{new}$(좀 더 나은 $β$)가 나오는 정도만 알고 있으면, 이미 구현되어 있는 식(위의 식)에 값을 넣기만 하면 계산되는 프로세스를 만들 수 있지 않을까?\n",
    "- 그래서 만든 것: `optimizer`"
   ]
  },
  {
   "cell_type": "markdown",
   "id": "d70cf3f3-9bba-48b9-9cf8-8e090501d1ef",
   "metadata": {},
   "source": [
    "## tf.keras.optimizers를 이용한 최적화방법"
   ]
  },
  {
   "cell_type": "markdown",
   "id": "850c47da-542f-4543-a718-380dbbece4ac",
   "metadata": {},
   "source": [
    "### 방법1: opt.apply_gradients()를 이용"
   ]
  },
  {
   "cell_type": "markdown",
   "id": "d15bd302-42b7-400d-8949-b305b38233e9",
   "metadata": {},
   "source": [
    "`-` optimizer 정의   \n",
    ": 학습율 함께 정의"
   ]
  },
  {
   "cell_type": "code",
   "execution_count": 4,
   "id": "a61c425c-ad37-4771-ad07-fc3f9ba5000e",
   "metadata": {},
   "outputs": [],
   "source": [
    "alpha=0.01/6"
   ]
  },
  {
   "cell_type": "code",
   "execution_count": 5,
   "id": "a7d0747c-8e54-49d4-a082-d08d238460c8",
   "metadata": {},
   "outputs": [],
   "source": [
    "opt=tf.keras.optimizers.SGD(learning_rate=alpha)"
   ]
  },
  {
   "cell_type": "markdown",
   "id": "6edcb498-fecb-4232-a748-2e06a581ba51",
   "metadata": {},
   "source": [
    "---"
   ]
  },
  {
   "cell_type": "code",
   "execution_count": 6,
   "id": "ad2d7311-f1ea-4b7c-a08f-03dd35615c29",
   "metadata": {},
   "outputs": [
    {
     "data": {
      "text/plain": [
       "<tf.Variable 'learning_rate:0' shape=() dtype=float32, numpy=0.0016666667>"
      ]
     },
     "execution_count": 6,
     "metadata": {},
     "output_type": "execute_result"
    }
   ],
   "source": [
    "opt.learning_rate"
   ]
  },
  {
   "cell_type": "code",
   "execution_count": 7,
   "id": "19e2514f-f23a-4103-b0c8-5277731c774c",
   "metadata": {},
   "outputs": [
    {
     "data": {
      "text/plain": [
       "<tf.Variable 'learning_rate:0' shape=() dtype=float32, numpy=0.0016666667>"
      ]
     },
     "execution_count": 7,
     "metadata": {},
     "output_type": "execute_result"
    }
   ],
   "source": [
    "opt.lr"
   ]
  },
  {
   "cell_type": "code",
   "execution_count": 8,
   "id": "ccbfdbbd-cfaa-4e6a-ba16-c3def24f7303",
   "metadata": {},
   "outputs": [
    {
     "data": {
      "text/plain": [
       "2567521054336"
      ]
     },
     "execution_count": 8,
     "metadata": {},
     "output_type": "execute_result"
    }
   ],
   "source": [
    "id(opt.learning_rate)"
   ]
  },
  {
   "cell_type": "code",
   "execution_count": 9,
   "id": "ec0cacb0-4055-4320-ae86-d6007009140a",
   "metadata": {},
   "outputs": [
    {
     "data": {
      "text/plain": [
       "2567521054336"
      ]
     },
     "execution_count": 9,
     "metadata": {},
     "output_type": "execute_result"
    }
   ],
   "source": [
    "id(opt.lr)"
   ]
  },
  {
   "cell_type": "markdown",
   "id": "0c64c2c5-6b19-4d1f-b3b7-ea71de298a59",
   "metadata": {},
   "source": [
    "- opt.learning_rate와 opt.lr은 같은 것임, 둘 중 쓰고 싶은 것 쓰면 됨!\n",
    "\n",
    "---"
   ]
  },
  {
   "cell_type": "markdown",
   "id": "88e6bf5d-db5a-485e-8a20-3c0ba3edc242",
   "metadata": {},
   "source": [
    "`-` optimizer에 들어갈 입력값 정리\n",
    "- beta\n",
    "- beta에서의 미분값"
   ]
  },
  {
   "cell_type": "code",
   "execution_count": 10,
   "id": "2fe35b63-6701-4ed9-8c6c-53a3f83962b0",
   "metadata": {},
   "outputs": [
    {
     "data": {
      "text/plain": [
       "<tf.Variable 'Variable:0' shape=() dtype=float32, numpy=-10.0>"
      ]
     },
     "execution_count": 10,
     "metadata": {},
     "output_type": "execute_result"
    }
   ],
   "source": [
    "beta= tf.Variable(-10.0)\n",
    "beta"
   ]
  },
  {
   "cell_type": "code",
   "execution_count": 11,
   "id": "9ad56f4c-c949-4b89-bae9-08ffbf54d85a",
   "metadata": {},
   "outputs": [
    {
     "data": {
      "text/plain": [
       "<tf.Tensor: shape=(), dtype=float32, numpy=-6.0>"
      ]
     },
     "execution_count": 11,
     "metadata": {},
     "output_type": "execute_result"
    }
   ],
   "source": [
    "with tf.GradientTape(persistent=True) as mytape:\n",
    "    loss=(beta/2 -1)**2\n",
    "slope=mytape.gradient(loss,beta) # 기울기라는 변수로 저장\n",
    "slope"
   ]
  },
  {
   "cell_type": "markdown",
   "id": "8ff1b70c-306b-474d-98ed-07895ae88d02",
   "metadata": {},
   "source": [
    "`-` .apply_gradients()"
   ]
  },
  {
   "cell_type": "code",
   "execution_count": 12,
   "id": "98c28f58-9f60-4d79-b4c6-ef370d457d1b",
   "metadata": {},
   "outputs": [
    {
     "data": {
      "text/plain": [
       "<tf.Variable 'UnreadVariable' shape=() dtype=int64, numpy=1>"
      ]
     },
     "execution_count": 12,
     "metadata": {},
     "output_type": "execute_result"
    }
   ],
   "source": [
    "opt.apply_gradients([(slope, beta)]) # 튜플의 리스트화하여 입력"
   ]
  },
  {
   "cell_type": "code",
   "execution_count": 13,
   "id": "692ea941-c814-42ce-b877-2c83e98f62fa",
   "metadata": {},
   "outputs": [
    {
     "data": {
      "text/plain": [
       "<tf.Variable 'Variable:0' shape=() dtype=float32, numpy=-9.99>"
      ]
     },
     "execution_count": 13,
     "metadata": {},
     "output_type": "execute_result"
    }
   ],
   "source": [
    "beta"
   ]
  },
  {
   "cell_type": "markdown",
   "id": "3317ab58-a70c-4e37-a163-cd134c5bce04",
   "metadata": {},
   "source": [
    "- beta값이 바꼈음\n",
    "- 이 값은 -10에서 0.01만큼 움직인 값임! -> 베타를 한 번 업데이트한 값\n",
    "- 즉, 위 과정은 **iter1**과 같음\n",
    "- 여기서 주의점: `opt.apply_gradients()`의 입력으로 pair의 list를 전달해야한다는 것"
   ]
  },
  {
   "cell_type": "markdown",
   "id": "4942c235-e79c-442c-ab34-f2585b551431",
   "metadata": {},
   "source": [
    "`-` **iter2**"
   ]
  },
  {
   "cell_type": "code",
   "execution_count": 14,
   "id": "01d49222-6507-4f7d-965d-c008bdd7e377",
   "metadata": {},
   "outputs": [],
   "source": [
    "with tf.GradientTape(persistent=True) as mytape:\n",
    "    loss=(beta/2 -1)**2\n",
    "slope=mytape.gradient(loss,beta)"
   ]
  },
  {
   "cell_type": "code",
   "execution_count": 15,
   "id": "bc946350-841a-4a16-a877-891f69cd82e9",
   "metadata": {},
   "outputs": [
    {
     "data": {
      "text/plain": [
       "<tf.Variable 'UnreadVariable' shape=() dtype=int64, numpy=2>"
      ]
     },
     "execution_count": 15,
     "metadata": {},
     "output_type": "execute_result"
    }
   ],
   "source": [
    "opt.apply_gradients([(slope, beta)]) # 튜플의 리스트화하여 입력"
   ]
  },
  {
   "cell_type": "code",
   "execution_count": 16,
   "id": "df9d2e25-dd11-4fd3-9511-a47b681fa261",
   "metadata": {},
   "outputs": [
    {
     "data": {
      "text/plain": [
       "<tf.Variable 'Variable:0' shape=() dtype=float32, numpy=-9.980008>"
      ]
     },
     "execution_count": 16,
     "metadata": {},
     "output_type": "execute_result"
    }
   ],
   "source": [
    "beta"
   ]
  },
  {
   "cell_type": "markdown",
   "id": "18e60f66-b216-45cc-a47d-e651ad9e5ec1",
   "metadata": {},
   "source": [
    "- 한 번 더 업데이트 되었음"
   ]
  },
  {
   "cell_type": "markdown",
   "id": "088ed4b5-aa23-4cbd-95b1-375d6aaa0a4b",
   "metadata": {},
   "source": [
    "`-` **iter3:for문을 통한 반복**"
   ]
  },
  {
   "cell_type": "code",
   "execution_count": 17,
   "id": "1a7b736e-0bc9-4330-8593-dd7ddfeceaed",
   "metadata": {},
   "outputs": [],
   "source": [
    "alpha=0.01/6\n",
    "opt=tf.keras.optimizers.SGD(alpha)\n",
    "beta=tf.Variable(-10.0)"
   ]
  },
  {
   "cell_type": "code",
   "execution_count": 18,
   "id": "501ef50a-22e6-4a8a-b45c-2bfa9842e082",
   "metadata": {},
   "outputs": [],
   "source": [
    "for epoc in range(10000):\n",
    "    with tf.GradientTape() as mytape:\n",
    "        loss=(beta/2 -1)**2\n",
    "    slope=mytape.gradient(loss,beta)\n",
    "    opt.apply_gradients([(slope,beta)])"
   ]
  },
  {
   "cell_type": "code",
   "execution_count": 19,
   "id": "86a99a93-c443-47e8-8537-aa55fc2e9cff",
   "metadata": {},
   "outputs": [
    {
     "data": {
      "text/plain": [
       "<tf.Variable 'Variable:0' shape=() dtype=float32, numpy=1.9971251>"
      ]
     },
     "execution_count": 19,
     "metadata": {},
     "output_type": "execute_result"
    }
   ],
   "source": [
    "beta"
   ]
  },
  {
   "cell_type": "markdown",
   "id": "37352145-8219-4f9f-91d0-608f26755e20",
   "metadata": {},
   "source": [
    "- 그런데 이게 더 어려운 것 아닌가..?\n",
    "- 차라리 식을 아는 게 더 편한 것 같음"
   ]
  },
  {
   "cell_type": "markdown",
   "id": "231cf93e-2a88-486e-8649-b95a2b12b04c",
   "metadata": {},
   "source": [
    "- 하지만, 외워야 할 식이 하나만 있는 것이 아니다..! 여러가지 최적화 방법들이 존재.. 각각의 방법들이 식이 조금씩 다르다\n",
    "- 따라서 옵티마이저를 쓰는 방법을 알고 있으면 식을 알지 못하더라도 계산할 수 있다\n",
    "- 결국은 옵티마이저를 쓰는 게 편리하다!"
   ]
  },
  {
   "cell_type": "markdown",
   "id": "113a88a7-9edf-4d9c-b574-13d033927b2d",
   "metadata": {},
   "source": [
    "### 방법2: opt.minimize()를 이용"
   ]
  },
  {
   "cell_type": "markdown",
   "id": "176e8257-ff18-46ea-b1e1-0f6667f535ac",
   "metadata": {},
   "source": [
    "``` python\n",
    "opt.apply_gradients()는 loss식 & beta(old)값 & beta(old)에서의 기울기(slope)를 전달해주면 되는 반면\n",
    "opt.minimize()는 loss식 & loss식을 무엇으로 미분할지만 전달해주면 알아서 계산해준다.\n",
    "```"
   ]
  },
  {
   "cell_type": "markdown",
   "id": "d8762204-7790-4227-9eed-c6fe2a5d5c95",
   "metadata": {},
   "source": [
    "`-` α, β, optimizer 선언"
   ]
  },
  {
   "cell_type": "code",
   "execution_count": 21,
   "id": "55a164f1-1f31-4c00-b96a-342661968c67",
   "metadata": {},
   "outputs": [],
   "source": [
    "alpha=0.01/6\n",
    "opt=tf.keras.optimizers.SGD(alpha)\n",
    "beta=tf.Variable(-10.0)"
   ]
  },
  {
   "cell_type": "code",
   "execution_count": 22,
   "id": "aab134b6-a1f5-444d-ab46-0bda0fa1f5f5",
   "metadata": {},
   "outputs": [
    {
     "data": {
      "text/plain": [
       "\u001b[1;31mSignature:\u001b[0m \u001b[0mopt\u001b[0m\u001b[1;33m.\u001b[0m\u001b[0mminimize\u001b[0m\u001b[1;33m(\u001b[0m\u001b[0mloss\u001b[0m\u001b[1;33m,\u001b[0m \u001b[0mvar_list\u001b[0m\u001b[1;33m,\u001b[0m \u001b[0mgrad_loss\u001b[0m\u001b[1;33m=\u001b[0m\u001b[1;32mNone\u001b[0m\u001b[1;33m,\u001b[0m \u001b[0mname\u001b[0m\u001b[1;33m=\u001b[0m\u001b[1;32mNone\u001b[0m\u001b[1;33m,\u001b[0m \u001b[0mtape\u001b[0m\u001b[1;33m=\u001b[0m\u001b[1;32mNone\u001b[0m\u001b[1;33m)\u001b[0m\u001b[1;33m\u001b[0m\u001b[1;33m\u001b[0m\u001b[0m\n",
       "\u001b[1;31mDocstring:\u001b[0m\n",
       "Minimize `loss` by updating `var_list`.\n",
       "\n",
       "This method simply computes gradient using `tf.GradientTape` and calls\n",
       "`apply_gradients()`. If you want to process the gradient before applying\n",
       "then call `tf.GradientTape` and `apply_gradients()` explicitly instead\n",
       "of using this function.\n",
       "\n",
       "Args:\n",
       "  loss: `Tensor` or callable. If a callable, `loss` should take no arguments\n",
       "    and return the value to minimize. If a `Tensor`, the `tape` argument\n",
       "    must be passed.\n",
       "  var_list: list or tuple of `Variable` objects to update to minimize\n",
       "    `loss`, or a callable returning the list or tuple of `Variable` objects.\n",
       "    Use callable when the variable list would otherwise be incomplete before\n",
       "    `minimize` since the variables are created at the first time `loss` is\n",
       "    called.\n",
       "  grad_loss: (Optional). A `Tensor` holding the gradient computed for\n",
       "    `loss`.\n",
       "  name: (Optional) str. Name for the returned operation.\n",
       "  tape: (Optional) `tf.GradientTape`. If `loss` is provided as a `Tensor`,\n",
       "    the tape that computed the `loss` must be provided.\n",
       "\n",
       "Returns:\n",
       "  An `Operation` that updates the variables in `var_list`. The `iterations`\n",
       "  will be automatically increased by 1.\n",
       "\n",
       "Raises:\n",
       "  ValueError: If some of the variables are not `Variable` objects.\n",
       "\u001b[1;31mFile:\u001b[0m      c:\\users\\kko\\anaconda3\\envs\\ds2022\\lib\\site-packages\\keras\\optimizer_v2\\optimizer_v2.py\n",
       "\u001b[1;31mType:\u001b[0m      method\n"
      ]
     },
     "metadata": {},
     "output_type": "display_data"
    }
   ],
   "source": [
    "opt.minimize?"
   ]
  },
  {
   "cell_type": "markdown",
   "id": "6d5086ab-5b2f-446b-bdde-f29b8a22aa93",
   "metadata": {},
   "source": [
    "- loss를 함수의 형태로 전달해야 함!"
   ]
  },
  {
   "cell_type": "code",
   "execution_count": 23,
   "id": "e5830250-e65e-4419-9f2a-f5171f57d940",
   "metadata": {},
   "outputs": [],
   "source": [
    "loss_fn= lambda: (beta/2-1)**2"
   ]
  },
  {
   "cell_type": "code",
   "execution_count": 24,
   "id": "29d8030a-f2e3-4b7f-86a9-49a329713ce2",
   "metadata": {},
   "outputs": [
    {
     "data": {
      "text/plain": [
       "<tf.Variable 'UnreadVariable' shape=() dtype=int64, numpy=1>"
      ]
     },
     "execution_count": 24,
     "metadata": {},
     "output_type": "execute_result"
    }
   ],
   "source": [
    "opt.minimize(loss_fn,beta)"
   ]
  },
  {
   "cell_type": "markdown",
   "id": "308fa8c2-4573-4424-8f95-96e2349d8dc3",
   "metadata": {},
   "source": [
    "- `numpy=1`은 1번 업데이트 했다는 의미"
   ]
  },
  {
   "cell_type": "code",
   "execution_count": 25,
   "id": "f6b407f2-6216-446d-8118-e18b8b09446c",
   "metadata": {},
   "outputs": [
    {
     "data": {
      "text/plain": [
       "<tf.Variable 'Variable:0' shape=() dtype=float32, numpy=-9.99>"
      ]
     },
     "execution_count": 25,
     "metadata": {},
     "output_type": "execute_result"
    }
   ],
   "source": [
    "beta"
   ]
  },
  {
   "cell_type": "markdown",
   "id": "8a5d049a-a16d-490e-aacd-7465f38ff965",
   "metadata": {},
   "source": [
    "- $β$값을 보니 $-10.0$에서 한 번 업데이트한 값인 $-9.99$이 나타났음\n",
    "- 즉, 위 과정은 **iter1**과 같음"
   ]
  },
  {
   "cell_type": "markdown",
   "id": "fc2ea337-a25c-4cde-ad9f-257ca9705bb7",
   "metadata": {},
   "source": [
    "`-` **iter2:for문을 통한 반복**"
   ]
  },
  {
   "cell_type": "code",
   "execution_count": 26,
   "id": "0c868bb4-2701-4e0a-bedf-20d4a88c8b8f",
   "metadata": {},
   "outputs": [],
   "source": [
    "alpha=0.01/6\n",
    "opt=tf.keras.optimizers.SGD(alpha)\n",
    "beta=tf.Variable(-10.0)\n",
    "loss_fn= lambda: (beta/2-1)**2"
   ]
  },
  {
   "cell_type": "code",
   "execution_count": 27,
   "id": "538d23b6-b43b-44c1-a609-c838589e7d2f",
   "metadata": {},
   "outputs": [],
   "source": [
    "for epoc in range(10000):\n",
    "    opt.minimize(loss_fn,beta)"
   ]
  },
  {
   "cell_type": "code",
   "execution_count": 28,
   "id": "0520cdfb-24f7-448d-982c-c2753cdbe667",
   "metadata": {},
   "outputs": [
    {
     "data": {
      "text/plain": [
       "<tf.Variable 'Variable:0' shape=() dtype=float32, numpy=1.9971251>"
      ]
     },
     "execution_count": 28,
     "metadata": {},
     "output_type": "execute_result"
    }
   ],
   "source": [
    "beta"
   ]
  },
  {
   "cell_type": "markdown",
   "id": "6c69a8c3-a3ae-43e2-8f44-8875480bb0b9",
   "metadata": {},
   "source": [
    "- 2에 근접한 값이 나왔음"
   ]
  },
  {
   "cell_type": "code",
   "execution_count": 29,
   "id": "f4c7b97d-6ce9-49ae-ab69-81a4f55cc62c",
   "metadata": {},
   "outputs": [
    {
     "data": {
      "text/plain": [
       "<function __main__.<lambda>()>"
      ]
     },
     "execution_count": 29,
     "metadata": {},
     "output_type": "execute_result"
    }
   ],
   "source": [
    "loss_fn"
   ]
  },
  {
   "cell_type": "code",
   "execution_count": 30,
   "id": "d86d271c-aa00-408c-89d6-c6bbad88ed49",
   "metadata": {},
   "outputs": [
    {
     "data": {
      "text/plain": [
       "<tf.Tensor: shape=(), dtype=float32, numpy=2.0661923e-06>"
      ]
     },
     "execution_count": 30,
     "metadata": {},
     "output_type": "execute_result"
    }
   ],
   "source": [
    "loss_fn()"
   ]
  },
  {
   "cell_type": "markdown",
   "id": "220cceb2-9aa1-4bfa-9659-d4af54948585",
   "metadata": {},
   "source": [
    "- 위 값은 현재시점 β에 해당하는 loss값이다.\n",
    "- 다시 말해, `loss_fn()`을 실행하면, 현재시점에서의 $(beta/2-1)**2$ 값이 출력된다."
   ]
  },
  {
   "cell_type": "markdown",
   "id": "0ff56fa4-5a98-451c-acbf-cfaffeb13f23",
   "metadata": {},
   "source": [
    "### 기타"
   ]
  },
  {
   "cell_type": "markdown",
   "id": "c0442d11-a9da-44b5-b3b0-dc931d91cb5b",
   "metadata": {},
   "source": [
    "`-` `tf.keras.optimizers.SGD`와 `tf.optimizers.SGD`의 차이점"
   ]
  },
  {
   "cell_type": "code",
   "execution_count": 31,
   "id": "d52546e4-af06-412e-859b-632db666e817",
   "metadata": {},
   "outputs": [],
   "source": [
    "_opt1=tf.keras.optimizers.SGD()\n",
    "_opt2=tf.optimizers.SGD()"
   ]
  },
  {
   "cell_type": "code",
   "execution_count": 32,
   "id": "fe74b5ed-5440-49c3-9d2c-b20a0c07d74d",
   "metadata": {},
   "outputs": [
    {
     "data": {
      "text/plain": [
       "(keras.optimizer_v2.gradient_descent.SGD,\n",
       " keras.optimizer_v2.gradient_descent.SGD)"
      ]
     },
     "execution_count": 32,
     "metadata": {},
     "output_type": "execute_result"
    }
   ],
   "source": [
    "type(_opt1), type(_opt2)"
   ]
  },
  {
   "cell_type": "markdown",
   "id": "c354da67-728b-4650-a587-2ffe23854641",
   "metadata": {},
   "source": [
    "- type이 같음!"
   ]
  },
  {
   "cell_type": "markdown",
   "id": "8894f500-682d-49b5-bdbc-14bcd4c6aa54",
   "metadata": {},
   "source": [
    "`-` `tf.optimizers.SGD`로 위의 과정 계산"
   ]
  },
  {
   "cell_type": "code",
   "execution_count": 33,
   "id": "3c9f935d-52a4-4c55-b5a4-e87c215278da",
   "metadata": {},
   "outputs": [],
   "source": [
    "alpha=0.01/6\n",
    "opt=tf.optimizers.SGD(alpha)\n",
    "beta=tf.Variable(-10.0)\n",
    "loss_fn= lambda: (beta/2-1)**2"
   ]
  },
  {
   "cell_type": "code",
   "execution_count": 34,
   "id": "c0e25381-c036-431f-a745-af821ff66130",
   "metadata": {},
   "outputs": [],
   "source": [
    "for epoc in range(10000):\n",
    "    opt.minimize(loss_fn,beta)"
   ]
  },
  {
   "cell_type": "code",
   "execution_count": 35,
   "id": "31cfc73c-06ca-4d49-bc42-ad0d7f9149f9",
   "metadata": {},
   "outputs": [
    {
     "data": {
      "text/plain": [
       "<tf.Variable 'Variable:0' shape=() dtype=float32, numpy=1.9971251>"
      ]
     },
     "execution_count": 35,
     "metadata": {},
     "output_type": "execute_result"
    }
   ],
   "source": [
    "beta"
   ]
  },
  {
   "cell_type": "markdown",
   "id": "afac0665-bf44-4d3d-8520-7466851364f1",
   "metadata": {},
   "source": [
    "- 똑같은 값이 나옴 -> 같은 기능"
   ]
  },
  {
   "cell_type": "markdown",
   "id": "b3e50645-ae6d-47d1-84a3-5f1861eb41a0",
   "metadata": {},
   "source": [
    "`-` 다른 방법"
   ]
  },
  {
   "cell_type": "code",
   "execution_count": 36,
   "id": "f5c2f557-479b-4aaf-a924-77fd920e6a99",
   "metadata": {},
   "outputs": [
    {
     "data": {
      "text/plain": [
       "\u001b[1;31mType:\u001b[0m        module\n",
       "\u001b[1;31mString form:\u001b[0m <module 'keras.api._v2.keras.optimizers' from 'C:\\\\Users\\\\kko\\\\anaconda3\\\\envs\\\\ds2022\\\\lib\\\\site-packages\\\\keras\\\\api\\\\_v2\\\\keras\\\\optimizers\\\\__init__.py'>\n",
       "\u001b[1;31mFile:\u001b[0m        c:\\users\\kko\\anaconda3\\envs\\ds2022\\lib\\site-packages\\keras\\api\\_v2\\keras\\optimizers\\__init__.py\n",
       "\u001b[1;31mDocstring:\u001b[0m   Public API for tf.keras.optimizers namespace.\n"
      ]
     },
     "metadata": {},
     "output_type": "display_data"
    }
   ],
   "source": [
    "tf.optimizers?"
   ]
  },
  {
   "cell_type": "code",
   "execution_count": 37,
   "id": "e57360de-8cad-4a4f-8c70-2f981f6dceed",
   "metadata": {},
   "outputs": [
    {
     "data": {
      "text/plain": [
       "\u001b[1;31mType:\u001b[0m        module\n",
       "\u001b[1;31mString form:\u001b[0m <module 'keras.api._v2.keras.optimizers' from 'C:\\\\Users\\\\kko\\\\anaconda3\\\\envs\\\\ds2022\\\\lib\\\\site-packages\\\\keras\\\\api\\\\_v2\\\\keras\\\\optimizers\\\\__init__.py'>\n",
       "\u001b[1;31mFile:\u001b[0m        c:\\users\\kko\\anaconda3\\envs\\ds2022\\lib\\site-packages\\keras\\api\\_v2\\keras\\optimizers\\__init__.py\n",
       "\u001b[1;31mDocstring:\u001b[0m   Public API for tf.keras.optimizers namespace.\n"
      ]
     },
     "metadata": {},
     "output_type": "display_data"
    }
   ],
   "source": [
    "tf.keras.optimizers?"
   ]
  },
  {
   "cell_type": "markdown",
   "id": "3c9d4ab5-7999-4c7a-9439-d84d8adc1a23",
   "metadata": {},
   "source": [
    "- 파일이 위치한 장소가 같음!"
   ]
  },
  {
   "cell_type": "markdown",
   "id": "d7f50c09-d596-4c13-89e5-e288f004658f",
   "metadata": {},
   "source": [
    "- 차이 없음!"
   ]
  },
  {
   "cell_type": "markdown",
   "id": "ea29667a-c3d8-43a4-8169-c216caa2b0ba",
   "metadata": {},
   "source": [
    "## 회귀분석"
   ]
  },
  {
   "cell_type": "markdown",
   "id": "b0052101-5517-4d18-8cab-f60ff1a80991",
   "metadata": {},
   "source": [
    "`-` ${\\bf y} \\approx 4 + 2.5 {\\bf x}$에서 $4$와 $2.5$를 모른다고 생각하고 $β_{0}, β_{1}$를 구하는 방법"
   ]
  },
  {
   "cell_type": "markdown",
   "id": "e1dd7c6b-247a-42b0-860e-ce5a50a2b7b7",
   "metadata": {},
   "source": [
    "`-` 선언"
   ]
  },
  {
   "cell_type": "code",
   "execution_count": 53,
   "id": "5d5ba81c-d300-4c00-b78a-f9dc45c4c404",
   "metadata": {},
   "outputs": [],
   "source": [
    "tnp.random.seed(50000)\n",
    "n= 500 # samplesize\n",
    "x= tnp.linspace(0,1,n)\n",
    "epsilon= tnp.random.randn(n)*0.5"
   ]
  },
  {
   "cell_type": "code",
   "execution_count": 54,
   "id": "792c4c6f-eae4-4ec1-8aa1-7734d547d5dc",
   "metadata": {},
   "outputs": [],
   "source": [
    "y=4+2.5*x+epsilon\n",
    "y_true=4+2.5*x"
   ]
  },
  {
   "cell_type": "code",
   "execution_count": 55,
   "id": "5618a209-bd15-4706-a7c8-7f19e077552e",
   "metadata": {},
   "outputs": [
    {
     "data": {
      "text/plain": [
       "[<matplotlib.lines.Line2D at 0x255cc386430>]"
      ]
     },
     "execution_count": 55,
     "metadata": {},
     "output_type": "execute_result"
    },
    {
     "data": {
      "image/png": "[encoded data removed]",
      "text/plain": [
       "<Figure size 432x288 with 1 Axes>"
      ]
     },
     "metadata": {
      "needs_background": "light"
     },
     "output_type": "display_data"
    }
   ],
   "source": [
    "plt.plot(x,y,'.')\n",
    "plt.plot(x,y_true,'--r')"
   ]
  },
  {
   "cell_type": "markdown",
   "id": "72fdb183-9d80-44dd-ae0c-7d062bc35675",
   "metadata": {},
   "source": [
    "- 파란색 점들을 통해 빨강색 점을 추론"
   ]
  },
  {
   "cell_type": "markdown",
   "id": "da297a4b-bcbf-49ab-b430-bffd37ce09ef",
   "metadata": {},
   "source": [
    "### 풀이1 : $\\beta$구하는 공식을 통한 풀이"
   ]
  },
  {
   "cell_type": "code",
   "execution_count": 71,
   "id": "499aa5b2-70c3-4683-b2f0-504ac1eabbf8",
   "metadata": {},
   "outputs": [],
   "source": [
    "tnp.random.seed(50000)\n",
    "n= 500 \n",
    "x= tnp.linspace(0,1,n)\n",
    "epsilon= tnp.random.randn(n)*0.5\n",
    "y=4+2.5*x+epsilon"
   ]
  },
  {
   "cell_type": "code",
   "execution_count": 72,
   "id": "50d3ba8b-152c-4861-a0cd-fb14d1e7ed6b",
   "metadata": {},
   "outputs": [],
   "source": [
    "Sxx= sum((x-np.mean(x))**2)\n",
    "Sxy= sum((x-np.mean(x))*(y-np.mean(y)))"
   ]
  },
  {
   "cell_type": "code",
   "execution_count": 73,
   "id": "a4c96d2e-5d2d-4c0a-8c8d-52978a6f1cbe",
   "metadata": {},
   "outputs": [],
   "source": [
    "beta1_h = Sxy/Sxx\n",
    "beta0_h = np.mean(y) - beta1_h*np.mean(x)"
   ]
  },
  {
   "cell_type": "code",
   "execution_count": 74,
   "id": "21b68425-8050-407e-bd90-506173d6eb8a",
   "metadata": {},
   "outputs": [
    {
     "data": {
      "text/plain": [
       "(<tf.Tensor: shape=(), dtype=float64, numpy=4.043123346730244>,\n",
       " <tf.Tensor: shape=(), dtype=float64, numpy=2.4858994002326082>)"
      ]
     },
     "execution_count": 74,
     "metadata": {},
     "output_type": "execute_result"
    }
   ],
   "source": [
    "beta0_h,beta1_h"
   ]
  },
  {
   "cell_type": "markdown",
   "id": "9a60b162-7912-4038-8c0b-1a2730927148",
   "metadata": {},
   "source": [
    "- 거의 근접한 값이 나옴"
   ]
  },
  {
   "cell_type": "markdown",
   "id": "2cc5b87b-327d-4342-8710-9ee413c5c391",
   "metadata": {},
   "source": [
    "### 풀이2 : 벡터 & 매트릭스를 이용한 풀이"
   ]
  },
  {
   "cell_type": "code",
   "execution_count": 103,
   "id": "09132b76-dcc3-49a2-9ae1-a92140ab96c0",
   "metadata": {},
   "outputs": [],
   "source": [
    "tnp.random.seed(50000)\n",
    "n= 500 \n",
    "x= tnp.linspace(0,1,n)\n",
    "epsilon= tnp.random.randn(n)*0.5\n",
    "y=4+2.5*x+epsilon"
   ]
  },
  {
   "cell_type": "markdown",
   "id": "30a0f4ed-26ae-4d67-97a3-253a47b39c54",
   "metadata": {},
   "source": [
    "`-` `X`선언"
   ]
  },
  {
   "cell_type": "code",
   "execution_count": 104,
   "id": "a423b61c-8875-42f7-a267-71f8bdeec78a",
   "metadata": {},
   "outputs": [
    {
     "data": {
      "text/plain": [
       "<tf.Tensor: shape=(20,), dtype=float64, numpy=\n",
       "array([0.        , 0.00200401, 0.00400802, 0.00601202, 0.00801603,\n",
       "       0.01002004, 0.01202405, 0.01402806, 0.01603206, 0.01803607,\n",
       "       0.02004008, 0.02204409, 0.0240481 , 0.0260521 , 0.02805611,\n",
       "       0.03006012, 0.03206413, 0.03406814, 0.03607214, 0.03807615])>"
      ]
     },
     "execution_count": 104,
     "metadata": {},
     "output_type": "execute_result"
    }
   ],
   "source": [
    "x[:20]"
   ]
  },
  {
   "cell_type": "code",
   "execution_count": 105,
   "id": "907f53b7-9285-4e64-a923-8622717f339e",
   "metadata": {},
   "outputs": [
    {
     "data": {
      "text/plain": [
       "<tf.Tensor: shape=(20,), dtype=float32, numpy=\n",
       "array([1., 1., 1., 1., 1., 1., 1., 1., 1., 1., 1., 1., 1., 1., 1., 1., 1.,\n",
       "       1., 1., 1.], dtype=float32)>"
      ]
     },
     "execution_count": 105,
     "metadata": {},
     "output_type": "execute_result"
    }
   ],
   "source": [
    "tf.ones(n)[:20]"
   ]
  },
  {
   "cell_type": "code",
   "execution_count": 106,
   "id": "1c4e99d7-bd7d-4df0-9b36-04b73b175b57",
   "metadata": {},
   "outputs": [
    {
     "data": {
      "text/plain": [
       "<tf.Tensor: shape=(20, 2), dtype=float64, numpy=\n",
       "array([[1.        , 0.        ],\n",
       "       [1.        , 0.00200401],\n",
       "       [1.        , 0.00400802],\n",
       "       [1.        , 0.00601202],\n",
       "       [1.        , 0.00801603],\n",
       "       [1.        , 0.01002004],\n",
       "       [1.        , 0.01202405],\n",
       "       [1.        , 0.01402806],\n",
       "       [1.        , 0.01603206],\n",
       "       [1.        , 0.01803607],\n",
       "       [1.        , 0.02004008],\n",
       "       [1.        , 0.02204409],\n",
       "       [1.        , 0.0240481 ],\n",
       "       [1.        , 0.0260521 ],\n",
       "       [1.        , 0.02805611],\n",
       "       [1.        , 0.03006012],\n",
       "       [1.        , 0.03206413],\n",
       "       [1.        , 0.03406814],\n",
       "       [1.        , 0.03607214],\n",
       "       [1.        , 0.03807615]])>"
      ]
     },
     "execution_count": 106,
     "metadata": {},
     "output_type": "execute_result"
    }
   ],
   "source": [
    "X=tf.stack([tf.ones(n,dtype='float64'),x],axis=1)\n",
    "X[:20]"
   ]
  },
  {
   "cell_type": "code",
   "execution_count": 107,
   "id": "6581ab2b-adc7-4d60-8ef2-e2f6c32405cf",
   "metadata": {},
   "outputs": [
    {
     "data": {
      "text/plain": [
       "<tf.Tensor: shape=(20,), dtype=float64, numpy=\n",
       "array([3.35275314, 4.22611941, 4.87242315, 5.31953133, 3.8417442 ,\n",
       "       2.7444039 , 3.75847533, 3.67882462, 3.84180216, 3.54850093,\n",
       "       4.77493479, 4.64718767, 4.2011182 , 4.31115921, 4.81145538,\n",
       "       2.94308534, 4.03927822, 4.3866718 , 3.96485239, 3.96641934])>"
      ]
     },
     "execution_count": 107,
     "metadata": {},
     "output_type": "execute_result"
    }
   ],
   "source": [
    "y[:20]"
   ]
  },
  {
   "cell_type": "code",
   "execution_count": 108,
   "id": "7b88a0aa-503f-4874-bbad-9a5a4891af0e",
   "metadata": {},
   "outputs": [],
   "source": [
    "y=y.reshape(n,1)"
   ]
  },
  {
   "cell_type": "code",
   "execution_count": 109,
   "id": "d2eb4e58-8b29-401a-878f-b2c9937ae6b8",
   "metadata": {},
   "outputs": [
    {
     "data": {
      "text/plain": [
       "<tf.Tensor: shape=(20, 1), dtype=float64, numpy=\n",
       "array([[3.35275314],\n",
       "       [4.22611941],\n",
       "       [4.87242315],\n",
       "       [5.31953133],\n",
       "       [3.8417442 ],\n",
       "       [2.7444039 ],\n",
       "       [3.75847533],\n",
       "       [3.67882462],\n",
       "       [3.84180216],\n",
       "       [3.54850093],\n",
       "       [4.77493479],\n",
       "       [4.64718767],\n",
       "       [4.2011182 ],\n",
       "       [4.31115921],\n",
       "       [4.81145538],\n",
       "       [2.94308534],\n",
       "       [4.03927822],\n",
       "       [4.3866718 ],\n",
       "       [3.96485239],\n",
       "       [3.96641934]])>"
      ]
     },
     "execution_count": 109,
     "metadata": {},
     "output_type": "execute_result"
    }
   ],
   "source": [
    "y[:20]"
   ]
  },
  {
   "cell_type": "code",
   "execution_count": 110,
   "id": "ce7037e8-ac7e-4b4c-b0d1-18e43f25eb98",
   "metadata": {},
   "outputs": [
    {
     "data": {
      "text/plain": [
       "(TensorShape([500, 2]), TensorShape([500, 1]))"
      ]
     },
     "execution_count": 110,
     "metadata": {},
     "output_type": "execute_result"
    }
   ],
   "source": [
    "X.shape,Y.shape"
   ]
  },
  {
   "cell_type": "code",
   "execution_count": 111,
   "id": "0c7194f7-e987-455e-b8d4-a170359e427c",
   "metadata": {},
   "outputs": [
    {
     "data": {
      "text/plain": [
       "<tf.Tensor: shape=(2, 1), dtype=float64, numpy=\n",
       "array([[4.04312335],\n",
       "       [2.4858994 ]])>"
      ]
     },
     "execution_count": 111,
     "metadata": {},
     "output_type": "execute_result"
    }
   ],
   "source": [
    "tf.linalg.inv(X.T@X) @ X.T @ y"
   ]
  },
  {
   "cell_type": "markdown",
   "id": "d6a13a99-ec26-45c8-a38f-11e14b506882",
   "metadata": {},
   "source": [
    "### 풀이3: (텐서플로우를 쓰지 않고) 경사하강법을 이용한 풀이\n",
    ": 도함수를 알고 있기 때문"
   ]
  },
  {
   "cell_type": "code",
   "execution_count": 137,
   "id": "6786d451-5f40-47b4-bc4f-3aac1ed6e748",
   "metadata": {},
   "outputs": [],
   "source": [
    "tnp.random.seed(50000)\n",
    "n= 500 \n",
    "x= tnp.linspace(0,1,n)\n",
    "epsilon= tnp.random.randn(n)*0.5\n",
    "y=4+2.5*x+epsilon"
   ]
  },
  {
   "cell_type": "code",
   "execution_count": 138,
   "id": "211705d9-150f-4fc9-add8-76fd9af0326e",
   "metadata": {},
   "outputs": [
    {
     "data": {
      "text/plain": [
       "<tf.Tensor: shape=(20, 2), dtype=float64, numpy=\n",
       "array([[1.        , 0.        ],\n",
       "       [1.        , 0.00200401],\n",
       "       [1.        , 0.00400802],\n",
       "       [1.        , 0.00601202],\n",
       "       [1.        , 0.00801603],\n",
       "       [1.        , 0.01002004],\n",
       "       [1.        , 0.01202405],\n",
       "       [1.        , 0.01402806],\n",
       "       [1.        , 0.01603206],\n",
       "       [1.        , 0.01803607],\n",
       "       [1.        , 0.02004008],\n",
       "       [1.        , 0.02204409],\n",
       "       [1.        , 0.0240481 ],\n",
       "       [1.        , 0.0260521 ],\n",
       "       [1.        , 0.02805611],\n",
       "       [1.        , 0.03006012],\n",
       "       [1.        , 0.03206413],\n",
       "       [1.        , 0.03406814],\n",
       "       [1.        , 0.03607214],\n",
       "       [1.        , 0.03807615]])>"
      ]
     },
     "execution_count": 138,
     "metadata": {},
     "output_type": "execute_result"
    }
   ],
   "source": [
    "X=tf.stack([tf.ones(n,dtype='float64'),x],axis=1)\n",
    "X[:20]"
   ]
  },
  {
   "cell_type": "code",
   "execution_count": 139,
   "id": "e5eab90c-fd92-43f7-95f1-e4a1837aa169",
   "metadata": {},
   "outputs": [
    {
     "data": {
      "text/plain": [
       "<tf.Tensor: shape=(20, 1), dtype=float64, numpy=\n",
       "array([[3.35275314],\n",
       "       [4.22611941],\n",
       "       [4.87242315],\n",
       "       [5.31953133],\n",
       "       [3.8417442 ],\n",
       "       [2.7444039 ],\n",
       "       [3.75847533],\n",
       "       [3.67882462],\n",
       "       [3.84180216],\n",
       "       [3.54850093],\n",
       "       [4.77493479],\n",
       "       [4.64718767],\n",
       "       [4.2011182 ],\n",
       "       [4.31115921],\n",
       "       [4.81145538],\n",
       "       [2.94308534],\n",
       "       [4.03927822],\n",
       "       [4.3866718 ],\n",
       "       [3.96485239],\n",
       "       [3.96641934]])>"
      ]
     },
     "execution_count": 139,
     "metadata": {},
     "output_type": "execute_result"
    }
   ],
   "source": [
    "y=y.reshape(n,1)\n",
    "y[:20]"
   ]
  },
  {
   "cell_type": "code",
   "execution_count": 140,
   "id": "1d2aa894-7922-4770-9a57-8dbca6be05ee",
   "metadata": {},
   "outputs": [
    {
     "data": {
      "text/plain": [
       "(TensorShape([500, 2]), TensorShape([500, 1]))"
      ]
     },
     "execution_count": 140,
     "metadata": {},
     "output_type": "execute_result"
    }
   ],
   "source": [
    "X.shape, y.shape"
   ]
  },
  {
   "cell_type": "markdown",
   "id": "f4030110-ce29-4b30-b815-af18ba62f43a",
   "metadata": {},
   "source": [
    "`-` 임의의 beta 선언"
   ]
  },
  {
   "cell_type": "code",
   "execution_count": 141,
   "id": "bee60a65-0b82-41cf-a016-1f71563f12d0",
   "metadata": {},
   "outputs": [
    {
     "data": {
      "text/plain": [
       "<tf.Tensor: shape=(2, 1), dtype=float64, numpy=\n",
       "array([[-5.],\n",
       "       [-2.]])>"
      ]
     },
     "execution_count": 141,
     "metadata": {},
     "output_type": "execute_result"
    }
   ],
   "source": [
    "beta= tnp.array([-5.0,-2.0]).reshape(2,1)\n",
    "beta"
   ]
  },
  {
   "cell_type": "markdown",
   "id": "bf1f4806-a19e-453f-9a9d-c6004d252069",
   "metadata": {},
   "source": [
    "`-` 미분계수를 통한 `slope`선언 (`loss' = slope`)"
   ]
  },
  {
   "cell_type": "markdown",
   "id": "5ef10b49-5889-4d52-b203-c43cd565eb8c",
   "metadata": {},
   "source": [
    "`cf.` $loss = (y-yhat)'(y-yhat) => (y-x*beta)'(y-x*beta) => loss'= -2x'y +2x'xb$"
   ]
  },
  {
   "cell_type": "code",
   "execution_count": 142,
   "id": "695b65a8-6559-44c6-8866-076398b7f888",
   "metadata": {},
   "outputs": [
    {
     "data": {
      "text/plain": [
       "<tf.Tensor: shape=(2, 1), dtype=float64, numpy=\n",
       "array([[-11286.07304685],\n",
       "       [ -6018.35976984]])>"
      ]
     },
     "execution_count": 142,
     "metadata": {},
     "output_type": "execute_result"
    }
   ],
   "source": [
    "slope=-2*X.T @ y + 2*X.T @ X @beta \n",
    "slope"
   ]
  },
  {
   "cell_type": "markdown",
   "id": "5b698af2-6bce-4151-9a4e-c6497a57b548",
   "metadata": {},
   "source": [
    "$$\\beta_{next} \\leftarrow \\beta_{old} -\\alpha \\left[\\frac{\\partial}{\\partial \\beta} loss(\\beta)\\right]_{\\beta=\\beta_{old}}$$\n",
    ": $step = alpha * loss'$, $loss' = slope$ -> $step$= $alpha * slope$"
   ]
  },
  {
   "cell_type": "code",
   "execution_count": 143,
   "id": "66aaf191-ba37-443d-afe7-c235a91805c8",
   "metadata": {},
   "outputs": [
    {
     "data": {
      "text/plain": [
       "<tf.Tensor: shape=(2, 1), dtype=float64, numpy=\n",
       "array([[18.81012174],\n",
       "       [10.03059962]])>"
      ]
     },
     "execution_count": 143,
     "metadata": {},
     "output_type": "execute_result"
    }
   ],
   "source": [
    "step = -alpha * slope\n",
    "step"
   ]
  },
  {
   "cell_type": "markdown",
   "id": "3dc35c6a-deee-4e38-b642-9dc8204c5b58",
   "metadata": {},
   "source": [
    "`-` 반복"
   ]
  },
  {
   "cell_type": "code",
   "execution_count": 159,
   "id": "06990a70-c6ec-404c-97af-c764099166d5",
   "metadata": {},
   "outputs": [],
   "source": [
    "for epoc in range(1000):\n",
    "    slope= -2*X.T @ y + 2*X.T @ X @ beta\n",
    "    step = -slope * alpha\n",
    "    beta = beta + step"
   ]
  },
  {
   "cell_type": "code",
   "execution_count": 160,
   "id": "5623b921-9f93-441f-b044-7c689b8964e9",
   "metadata": {},
   "outputs": [
    {
     "data": {
      "text/plain": [
       "<tf.Tensor: shape=(2, 1), dtype=float64, numpy=\n",
       "array([[4.04312335],\n",
       "       [2.4858994 ]])>"
      ]
     },
     "execution_count": 160,
     "metadata": {},
     "output_type": "execute_result"
    }
   ],
   "source": [
    "beta"
   ]
  },
  {
   "cell_type": "markdown",
   "id": "f2a19fd7-460a-4008-a8e8-7c8553f8bf48",
   "metadata": {},
   "source": [
    "#### 추가학습\n",
    "풀이3을 완성하라. 즉 경사하강법을 이용하여 적절한 beta를 추정하라. \n",
    "\n",
    "- iteration 횟수는 1000번으로 설정 \n",
    "- 학습률은 0.001로 설정\n",
    "- beta의 초기값은 `beta= tnp.array([-5.0,10.0]).reshape(2,1)`"
   ]
  },
  {
   "cell_type": "code",
   "execution_count": 144,
   "id": "a1215156-a33c-45d6-a279-dfa0de9c1bc6",
   "metadata": {},
   "outputs": [],
   "source": [
    "tnp.random.seed(50000)\n",
    "n= 500 \n",
    "x= tnp.linspace(0,1,n)\n",
    "epsilon= tnp.random.randn(n)*0.5\n",
    "y=4+2.5*x+epsilon"
   ]
  },
  {
   "cell_type": "code",
   "execution_count": 145,
   "id": "6c37e795-eefb-42f2-9b57-b2a6db1ec8ee",
   "metadata": {},
   "outputs": [
    {
     "data": {
      "text/plain": [
       "<tf.Tensor: shape=(20, 2), dtype=float64, numpy=\n",
       "array([[1.        , 0.        ],\n",
       "       [1.        , 0.00200401],\n",
       "       [1.        , 0.00400802],\n",
       "       [1.        , 0.00601202],\n",
       "       [1.        , 0.00801603],\n",
       "       [1.        , 0.01002004],\n",
       "       [1.        , 0.01202405],\n",
       "       [1.        , 0.01402806],\n",
       "       [1.        , 0.01603206],\n",
       "       [1.        , 0.01803607],\n",
       "       [1.        , 0.02004008],\n",
       "       [1.        , 0.02204409],\n",
       "       [1.        , 0.0240481 ],\n",
       "       [1.        , 0.0260521 ],\n",
       "       [1.        , 0.02805611],\n",
       "       [1.        , 0.03006012],\n",
       "       [1.        , 0.03206413],\n",
       "       [1.        , 0.03406814],\n",
       "       [1.        , 0.03607214],\n",
       "       [1.        , 0.03807615]])>"
      ]
     },
     "execution_count": 145,
     "metadata": {},
     "output_type": "execute_result"
    }
   ],
   "source": [
    "X=tf.stack([tf.ones(n,dtype='float64'),x],axis=1)\n",
    "X[:20]"
   ]
  },
  {
   "cell_type": "code",
   "execution_count": 146,
   "id": "4aba599e-dec1-49aa-8263-c84484191865",
   "metadata": {},
   "outputs": [
    {
     "data": {
      "text/plain": [
       "<tf.Tensor: shape=(20, 1), dtype=float64, numpy=\n",
       "array([[3.35275314],\n",
       "       [4.22611941],\n",
       "       [4.87242315],\n",
       "       [5.31953133],\n",
       "       [3.8417442 ],\n",
       "       [2.7444039 ],\n",
       "       [3.75847533],\n",
       "       [3.67882462],\n",
       "       [3.84180216],\n",
       "       [3.54850093],\n",
       "       [4.77493479],\n",
       "       [4.64718767],\n",
       "       [4.2011182 ],\n",
       "       [4.31115921],\n",
       "       [4.81145538],\n",
       "       [2.94308534],\n",
       "       [4.03927822],\n",
       "       [4.3866718 ],\n",
       "       [3.96485239],\n",
       "       [3.96641934]])>"
      ]
     },
     "execution_count": 146,
     "metadata": {},
     "output_type": "execute_result"
    }
   ],
   "source": [
    "y=y.reshape(n,1)\n",
    "y[:20]"
   ]
  },
  {
   "cell_type": "code",
   "execution_count": 147,
   "id": "135c7111-b5c9-42f8-97e5-e02ab18a3a73",
   "metadata": {},
   "outputs": [
    {
     "data": {
      "text/plain": [
       "(TensorShape([500, 2]), TensorShape([500, 1]))"
      ]
     },
     "execution_count": 147,
     "metadata": {},
     "output_type": "execute_result"
    }
   ],
   "source": [
    "X.shape,y.shape"
   ]
  },
  {
   "cell_type": "code",
   "execution_count": 148,
   "id": "1f010069-5993-438d-b816-6ba55226bfbc",
   "metadata": {},
   "outputs": [
    {
     "data": {
      "text/plain": [
       "<tf.Tensor: shape=(2, 1), dtype=float64, numpy=\n",
       "array([[-5.],\n",
       "       [10.]])>"
      ]
     },
     "execution_count": 148,
     "metadata": {},
     "output_type": "execute_result"
    }
   ],
   "source": [
    "beta= tnp.array([-5.0,10.0]).reshape(2,1)\n",
    "beta"
   ]
  },
  {
   "cell_type": "code",
   "execution_count": 154,
   "id": "bb871d10-33d6-47dc-b4d4-c1a6565457f4",
   "metadata": {},
   "outputs": [
    {
     "data": {
      "text/plain": [
       "<tf.Tensor: shape=(2, 1), dtype=float64, numpy=\n",
       "array([[0.],\n",
       "       [0.]])>"
      ]
     },
     "execution_count": 154,
     "metadata": {},
     "output_type": "execute_result"
    }
   ],
   "source": [
    "slope=-2*X.T @ y + 2*X.T @ X @ beta\n",
    "slope"
   ]
  },
  {
   "cell_type": "code",
   "execution_count": 155,
   "id": "71ff7abf-79f3-4c4a-a520-652c45ecb333",
   "metadata": {},
   "outputs": [],
   "source": [
    "alpha=0.001"
   ]
  },
  {
   "cell_type": "code",
   "execution_count": 156,
   "id": "5378995e-090d-4670-a436-0567b75081bc",
   "metadata": {},
   "outputs": [
    {
     "data": {
      "text/plain": [
       "<tf.Tensor: shape=(2, 1), dtype=float64, numpy=\n",
       "array([[-0.],\n",
       "       [-0.]])>"
      ]
     },
     "execution_count": 156,
     "metadata": {},
     "output_type": "execute_result"
    }
   ],
   "source": [
    "step = -slope * alpha\n",
    "step"
   ]
  },
  {
   "cell_type": "code",
   "execution_count": 153,
   "id": "1d3bc41a-93c7-47c4-b181-01fe316773b2",
   "metadata": {},
   "outputs": [],
   "source": [
    "for epoc in range(1000):\n",
    "    slope= -2*X.T @ y + 2*X.T @ X @ beta\n",
    "    step = -slope * alpha\n",
    "    beta = beta + step"
   ]
  },
  {
   "cell_type": "code",
   "execution_count": 127,
   "id": "3b2d5a78-a5a2-4fec-8f83-dd4e538bd88d",
   "metadata": {},
   "outputs": [
    {
     "data": {
      "text/plain": [
       "<tf.Tensor: shape=(2, 1), dtype=float64, numpy=\n",
       "array([[4.04312335],\n",
       "       [2.4858994 ]])>"
      ]
     },
     "execution_count": 127,
     "metadata": {},
     "output_type": "execute_result"
    }
   ],
   "source": [
    "beta"
   ]
  }
 ],
 "metadata": {
  "kernelspec": {
   "display_name": "Python 3 (ipykernel)",
   "language": "python",
   "name": "python3"
  },
  "language_info": {
   "codemirror_mode": {
    "name": "ipython",
    "version": 3
   },
   "file_extension": ".py",
   "mimetype": "text/x-python",
   "name": "python",
   "nbconvert_exporter": "python",
   "pygments_lexer": "ipython3",
   "version": "3.8.12"
  }
 },
 "nbformat": 4,
 "nbformat_minor": 5
}
