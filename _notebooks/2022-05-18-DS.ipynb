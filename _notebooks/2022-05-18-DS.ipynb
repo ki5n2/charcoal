{
 "cells": [
  {
   "cell_type": "markdown",
   "id": "b81b06f7-663d-4b76-b87f-a3e630bdabab",
   "metadata": {},
   "source": [
    "# DS 15. Conv2D 이해 및 사용법\n",
    "\n",
    "> \"작성완료\"\n",
    "\n",
    "- toc:true\n",
    "- branch: master\n",
    "- badges: true\n",
    "- comments: true"
   ]
  },
  {
   "cell_type": "markdown",
   "id": "f7df252d-6173-4d56-8185-64dc86579ce9",
   "metadata": {},
   "source": [
    "# Data Science\n",
    "- lenture: Data Science_11-2nd week of lectures.\n",
    "- lenture date: 2022-05-16\n",
    "- lecturer: Guebin choi\n",
    "- study date: 2022-05-18\n",
    "- author: Kione kim"
   ]
  },
  {
   "cell_type": "code",
   "execution_count": 2,
   "id": "d6773dde-b8fd-4207-83d1-4949e1282e5f",
   "metadata": {},
   "outputs": [],
   "source": [
    "import tensorflow as tf \n",
    "import tensorflow.experimental.numpy as tnp"
   ]
  },
  {
   "cell_type": "code",
   "execution_count": 3,
   "id": "eec30790-f2d6-48c2-b4b1-f3a873f6e693",
   "metadata": {},
   "outputs": [],
   "source": [
    "import numpy as np"
   ]
  },
  {
   "cell_type": "code",
   "execution_count": 4,
   "id": "d8b19e26-96bb-4124-b981-bc1873e182f2",
   "metadata": {},
   "outputs": [],
   "source": [
    "tf.experimental.numpy.experimental_enable_numpy_behavior()"
   ]
  },
  {
   "cell_type": "markdown",
   "id": "433c852d-aefc-4581-a4b5-5665b4c03bad",
   "metadata": {},
   "source": [
    "## Conv2D"
   ]
  },
  {
   "cell_type": "markdown",
   "id": "e257cc36-0abf-4954-a825-6df5b1305f01",
   "metadata": {},
   "source": [
    "`-` Conv선언"
   ]
  },
  {
   "cell_type": "code",
   "execution_count": 5,
   "id": "6d1d4467-fafd-4860-9a2e-b794adccc179",
   "metadata": {},
   "outputs": [],
   "source": [
    "conv2d = tf.keras.layers.Conv2D(1,(2,2)) # filters와 kernel_size는 디폴트값으로 선언이 되지 않기 때문에 직접 입력해주어야 함!"
   ]
  },
  {
   "cell_type": "markdown",
   "id": "c55136eb-776d-4c0e-b99e-f898056e5b6e",
   "metadata": {},
   "source": [
    "`-` 입력 데이터"
   ]
  },
  {
   "cell_type": "code",
   "execution_count": 20,
   "id": "eb3d2545-b158-44ca-8c62-44a3de22fca8",
   "metadata": {},
   "outputs": [
    {
     "data": {
      "text/plain": [
       "<tf.Tensor: shape=(16,), dtype=float64, numpy=\n",
       "array([ 0.,  1.,  2.,  3.,  4.,  5.,  6.,  7.,  8.,  9., 10., 11., 12.,\n",
       "       13., 14., 15.])>"
      ]
     },
     "execution_count": 20,
     "metadata": {},
     "output_type": "execute_result"
    }
   ],
   "source": [
    "XXX = tnp.arange(1*4*4*1, dtype=tf.float64) # float으로 설정!!!\n",
    "XXX"
   ]
  },
  {
   "cell_type": "code",
   "execution_count": 21,
   "id": "5d00d08e-d61f-487c-abf6-9a6a0bde6c7e",
   "metadata": {},
   "outputs": [
    {
     "data": {
      "text/plain": [
       "<tf.Tensor: shape=(1, 4, 4, 1), dtype=float64, numpy=\n",
       "array([[[[ 0.],\n",
       "         [ 1.],\n",
       "         [ 2.],\n",
       "         [ 3.]],\n",
       "\n",
       "        [[ 4.],\n",
       "         [ 5.],\n",
       "         [ 6.],\n",
       "         [ 7.]],\n",
       "\n",
       "        [[ 8.],\n",
       "         [ 9.],\n",
       "         [10.],\n",
       "         [11.]],\n",
       "\n",
       "        [[12.],\n",
       "         [13.],\n",
       "         [14.],\n",
       "         [15.]]]])>"
      ]
     },
     "execution_count": 21,
     "metadata": {},
     "output_type": "execute_result"
    }
   ],
   "source": [
    "XXX = tnp.arange(1*4*4*1, dtype=tf.float64).reshape(1,4,4,1) # float으로 설정해주어야 함!!!\n",
    "XXX"
   ]
  },
  {
   "cell_type": "code",
   "execution_count": 22,
   "id": "6c2ebac4-e5f5-4468-8bd4-ba359f36be8f",
   "metadata": {},
   "outputs": [
    {
     "data": {
      "text/plain": [
       "<tf.Tensor: shape=(1, 3, 3, 1), dtype=float32, numpy=\n",
       "array([[[[ 0.87437177],\n",
       "         [ 0.05317581],\n",
       "         [-0.76802087]],\n",
       "\n",
       "        [[-2.4104128 ],\n",
       "         [-3.2316093 ],\n",
       "         [-4.0528054 ]],\n",
       "\n",
       "        [[-5.6951976 ],\n",
       "         [-6.5163946 ],\n",
       "         [-7.33759   ]]]], dtype=float32)>"
      ]
     },
     "execution_count": 22,
     "metadata": {},
     "output_type": "execute_result"
    }
   ],
   "source": [
    "conv2d(XXX)"
   ]
  },
  {
   "cell_type": "markdown",
   "id": "25eb8147-2cee-4b2a-90b9-e2cd5f7f9625",
   "metadata": {},
   "source": [
    "### 오류\n",
    ": shape과 dimension을 잘 맞춰서 입력해주어야 함!"
   ]
  },
  {
   "cell_type": "markdown",
   "id": "a00e921e-3158-4cbe-9e95-8825e747c6aa",
   "metadata": {},
   "source": [
    "`-` 오류1: layer 선언할 때 filters와 kernel_size를 직접 입력하지 않을 경우"
   ]
  },
  {
   "cell_type": "code",
   "execution_count": 15,
   "id": "73f409ee-adda-4d5c-b168-88b88d4dc272",
   "metadata": {},
   "outputs": [
    {
     "ename": "TypeError",
     "evalue": "__init__() missing 2 required positional arguments: 'filters' and 'kernel_size'",
     "output_type": "error",
     "traceback": [
      "\u001b[1;31m---------------------------------------------------------------------------\u001b[0m",
      "\u001b[1;31mTypeError\u001b[0m                                 Traceback (most recent call last)",
      "Input \u001b[1;32mIn [15]\u001b[0m, in \u001b[0;36m<cell line: 1>\u001b[1;34m()\u001b[0m\n\u001b[1;32m----> 1\u001b[0m \u001b[43mtf\u001b[49m\u001b[38;5;241;43m.\u001b[39;49m\u001b[43mkeras\u001b[49m\u001b[38;5;241;43m.\u001b[39;49m\u001b[43mlayers\u001b[49m\u001b[38;5;241;43m.\u001b[39;49m\u001b[43mConv2D\u001b[49m\u001b[43m(\u001b[49m\u001b[43m)\u001b[49m\n",
      "\u001b[1;31mTypeError\u001b[0m: __init__() missing 2 required positional arguments: 'filters' and 'kernel_size'"
     ]
    }
   ],
   "source": [
    "tf.keras.layers.Conv2D()"
   ]
  },
  {
   "cell_type": "markdown",
   "id": "62d8ee90-67be-4707-97d9-78926f47deb1",
   "metadata": {},
   "source": [
    "`-` 오류2: 입력데이터를 선언할 때 dimension을 (1,4,4,1)과 같이 4-dimension으로 맞춰주어야 함"
   ]
  },
  {
   "cell_type": "code",
   "execution_count": 26,
   "id": "6dda2561-acd3-4567-9520-4db88940210e",
   "metadata": {},
   "outputs": [
    {
     "data": {
      "text/plain": [
       "<tf.Tensor: shape=(1, 4, 4), dtype=int32, numpy=\n",
       "array([[[ 0,  1,  2,  3],\n",
       "        [ 4,  5,  6,  7],\n",
       "        [ 8,  9, 10, 11],\n",
       "        [12, 13, 14, 15]]])>"
      ]
     },
     "execution_count": 26,
     "metadata": {},
     "output_type": "execute_result"
    }
   ],
   "source": [
    "XXX = tnp.arange(1*4*4*1).reshape(1,4,4)\n",
    "XXX"
   ]
  },
  {
   "cell_type": "code",
   "execution_count": 27,
   "id": "8ddd52a1-3fde-4463-9eb4-a9367cadb380",
   "metadata": {},
   "outputs": [
    {
     "ename": "ValueError",
     "evalue": "Input 0 of layer \"conv2d_3\" is incompatible with the layer: expected min_ndim=4, found ndim=3. Full shape received: (1, 4, 4)",
     "output_type": "error",
     "traceback": [
      "\u001b[1;31m---------------------------------------------------------------------------\u001b[0m",
      "\u001b[1;31mValueError\u001b[0m                                Traceback (most recent call last)",
      "Input \u001b[1;32mIn [27]\u001b[0m, in \u001b[0;36m<cell line: 1>\u001b[1;34m()\u001b[0m\n\u001b[1;32m----> 1\u001b[0m \u001b[43mconv2d\u001b[49m\u001b[43m(\u001b[49m\u001b[43mXXX\u001b[49m\u001b[43m)\u001b[49m\n",
      "File \u001b[1;32m~\\anaconda3\\envs\\ds2022\\lib\\site-packages\\keras\\utils\\traceback_utils.py:67\u001b[0m, in \u001b[0;36mfilter_traceback.<locals>.error_handler\u001b[1;34m(*args, **kwargs)\u001b[0m\n\u001b[0;32m     65\u001b[0m \u001b[38;5;28;01mexcept\u001b[39;00m \u001b[38;5;167;01mException\u001b[39;00m \u001b[38;5;28;01mas\u001b[39;00m e:  \u001b[38;5;66;03m# pylint: disable=broad-except\u001b[39;00m\n\u001b[0;32m     66\u001b[0m   filtered_tb \u001b[38;5;241m=\u001b[39m _process_traceback_frames(e\u001b[38;5;241m.\u001b[39m__traceback__)\n\u001b[1;32m---> 67\u001b[0m   \u001b[38;5;28;01mraise\u001b[39;00m e\u001b[38;5;241m.\u001b[39mwith_traceback(filtered_tb) \u001b[38;5;28;01mfrom\u001b[39;00m \u001b[38;5;28mNone\u001b[39m\n\u001b[0;32m     68\u001b[0m \u001b[38;5;28;01mfinally\u001b[39;00m:\n\u001b[0;32m     69\u001b[0m   \u001b[38;5;28;01mdel\u001b[39;00m filtered_tb\n",
      "File \u001b[1;32m~\\anaconda3\\envs\\ds2022\\lib\\site-packages\\keras\\engine\\input_spec.py:228\u001b[0m, in \u001b[0;36massert_input_compatibility\u001b[1;34m(input_spec, inputs, layer_name)\u001b[0m\n\u001b[0;32m    226\u001b[0m   ndim \u001b[38;5;241m=\u001b[39m x\u001b[38;5;241m.\u001b[39mshape\u001b[38;5;241m.\u001b[39mrank\n\u001b[0;32m    227\u001b[0m   \u001b[38;5;28;01mif\u001b[39;00m ndim \u001b[38;5;129;01mis\u001b[39;00m \u001b[38;5;129;01mnot\u001b[39;00m \u001b[38;5;28;01mNone\u001b[39;00m \u001b[38;5;129;01mand\u001b[39;00m ndim \u001b[38;5;241m<\u001b[39m spec\u001b[38;5;241m.\u001b[39mmin_ndim:\n\u001b[1;32m--> 228\u001b[0m     \u001b[38;5;28;01mraise\u001b[39;00m \u001b[38;5;167;01mValueError\u001b[39;00m(\u001b[38;5;124mf\u001b[39m\u001b[38;5;124m'\u001b[39m\u001b[38;5;124mInput \u001b[39m\u001b[38;5;132;01m{\u001b[39;00minput_index\u001b[38;5;132;01m}\u001b[39;00m\u001b[38;5;124m of layer \u001b[39m\u001b[38;5;124m\"\u001b[39m\u001b[38;5;132;01m{\u001b[39;00mlayer_name\u001b[38;5;132;01m}\u001b[39;00m\u001b[38;5;124m\"\u001b[39m\u001b[38;5;124m \u001b[39m\u001b[38;5;124m'\u001b[39m\n\u001b[0;32m    229\u001b[0m                      \u001b[38;5;124m'\u001b[39m\u001b[38;5;124mis incompatible with the layer: \u001b[39m\u001b[38;5;124m'\u001b[39m\n\u001b[0;32m    230\u001b[0m                      \u001b[38;5;124mf\u001b[39m\u001b[38;5;124m'\u001b[39m\u001b[38;5;124mexpected min_ndim=\u001b[39m\u001b[38;5;132;01m{\u001b[39;00mspec\u001b[38;5;241m.\u001b[39mmin_ndim\u001b[38;5;132;01m}\u001b[39;00m\u001b[38;5;124m, \u001b[39m\u001b[38;5;124m'\u001b[39m\n\u001b[0;32m    231\u001b[0m                      \u001b[38;5;124mf\u001b[39m\u001b[38;5;124m'\u001b[39m\u001b[38;5;124mfound ndim=\u001b[39m\u001b[38;5;132;01m{\u001b[39;00mndim\u001b[38;5;132;01m}\u001b[39;00m\u001b[38;5;124m. \u001b[39m\u001b[38;5;124m'\u001b[39m\n\u001b[0;32m    232\u001b[0m                      \u001b[38;5;124mf\u001b[39m\u001b[38;5;124m'\u001b[39m\u001b[38;5;124mFull shape received: \u001b[39m\u001b[38;5;132;01m{\u001b[39;00m\u001b[38;5;28mtuple\u001b[39m(shape)\u001b[38;5;132;01m}\u001b[39;00m\u001b[38;5;124m'\u001b[39m)\n\u001b[0;32m    233\u001b[0m \u001b[38;5;66;03m# Check dtype.\u001b[39;00m\n\u001b[0;32m    234\u001b[0m \u001b[38;5;28;01mif\u001b[39;00m spec\u001b[38;5;241m.\u001b[39mdtype \u001b[38;5;129;01mis\u001b[39;00m \u001b[38;5;129;01mnot\u001b[39;00m \u001b[38;5;28;01mNone\u001b[39;00m:\n",
      "\u001b[1;31mValueError\u001b[0m: Input 0 of layer \"conv2d_3\" is incompatible with the layer: expected min_ndim=4, found ndim=3. Full shape received: (1, 4, 4)"
     ]
    }
   ],
   "source": [
    "conv2d(XXX)"
   ]
  },
  {
   "cell_type": "markdown",
   "id": "4e42103d-529c-4497-887a-5c1a715533e6",
   "metadata": {},
   "source": [
    "`-` 오류3: 입력데이터 선언할 때 dtype를 float로 설정하지 않을 경우"
   ]
  },
  {
   "cell_type": "markdown",
   "id": "d5ab43e6-ca4b-4e15-9aa0-0bc98cd24914",
   "metadata": {},
   "source": [
    "Conv2D layer에 입력되지 않아 수행 X! (Dense layer에서는 int형으로 입력해도 잘 수행되었음)"
   ]
  },
  {
   "cell_type": "code",
   "execution_count": 23,
   "id": "f4e4ab68-8bdc-4849-8417-6d3c85e9f2c4",
   "metadata": {},
   "outputs": [
    {
     "data": {
      "text/plain": [
       "<tf.Tensor: shape=(1, 4, 4, 1), dtype=int32, numpy=\n",
       "array([[[[ 0],\n",
       "         [ 1],\n",
       "         [ 2],\n",
       "         [ 3]],\n",
       "\n",
       "        [[ 4],\n",
       "         [ 5],\n",
       "         [ 6],\n",
       "         [ 7]],\n",
       "\n",
       "        [[ 8],\n",
       "         [ 9],\n",
       "         [10],\n",
       "         [11]],\n",
       "\n",
       "        [[12],\n",
       "         [13],\n",
       "         [14],\n",
       "         [15]]]])>"
      ]
     },
     "execution_count": 23,
     "metadata": {},
     "output_type": "execute_result"
    }
   ],
   "source": [
    "XXX = tnp.arange(1*4*4*1).reshape(1,4,4,1)\n",
    "XXX"
   ]
  },
  {
   "cell_type": "code",
   "execution_count": 24,
   "id": "d63bc9de-d553-43ef-8202-412fc673a535",
   "metadata": {},
   "outputs": [
    {
     "ename": "InvalidArgumentError",
     "evalue": "Exception encountered when calling layer \"conv2d_3\" (type Conv2D).\n\ncannot compute Conv2D as input #1(zero-based) was expected to be a int32 tensor but is a float tensor [Op:Conv2D]\n\nCall arguments received:\n  • inputs=tf.Tensor(shape=(1, 4, 4, 1), dtype=int32)",
     "output_type": "error",
     "traceback": [
      "\u001b[1;31m---------------------------------------------------------------------------\u001b[0m",
      "\u001b[1;31mInvalidArgumentError\u001b[0m                      Traceback (most recent call last)",
      "Input \u001b[1;32mIn [24]\u001b[0m, in \u001b[0;36m<cell line: 1>\u001b[1;34m()\u001b[0m\n\u001b[1;32m----> 1\u001b[0m \u001b[43mconv2d\u001b[49m\u001b[43m(\u001b[49m\u001b[43mXXX\u001b[49m\u001b[43m)\u001b[49m\n",
      "File \u001b[1;32m~\\anaconda3\\envs\\ds2022\\lib\\site-packages\\keras\\utils\\traceback_utils.py:67\u001b[0m, in \u001b[0;36mfilter_traceback.<locals>.error_handler\u001b[1;34m(*args, **kwargs)\u001b[0m\n\u001b[0;32m     65\u001b[0m \u001b[38;5;28;01mexcept\u001b[39;00m \u001b[38;5;167;01mException\u001b[39;00m \u001b[38;5;28;01mas\u001b[39;00m e:  \u001b[38;5;66;03m# pylint: disable=broad-except\u001b[39;00m\n\u001b[0;32m     66\u001b[0m   filtered_tb \u001b[38;5;241m=\u001b[39m _process_traceback_frames(e\u001b[38;5;241m.\u001b[39m__traceback__)\n\u001b[1;32m---> 67\u001b[0m   \u001b[38;5;28;01mraise\u001b[39;00m e\u001b[38;5;241m.\u001b[39mwith_traceback(filtered_tb) \u001b[38;5;28;01mfrom\u001b[39;00m \u001b[38;5;28mNone\u001b[39m\n\u001b[0;32m     68\u001b[0m \u001b[38;5;28;01mfinally\u001b[39;00m:\n\u001b[0;32m     69\u001b[0m   \u001b[38;5;28;01mdel\u001b[39;00m filtered_tb\n",
      "File \u001b[1;32m~\\anaconda3\\envs\\ds2022\\lib\\site-packages\\tensorflow\\python\\framework\\ops.py:7186\u001b[0m, in \u001b[0;36mraise_from_not_ok_status\u001b[1;34m(e, name)\u001b[0m\n\u001b[0;32m   7184\u001b[0m \u001b[38;5;28;01mdef\u001b[39;00m \u001b[38;5;21mraise_from_not_ok_status\u001b[39m(e, name):\n\u001b[0;32m   7185\u001b[0m   e\u001b[38;5;241m.\u001b[39mmessage \u001b[38;5;241m+\u001b[39m\u001b[38;5;241m=\u001b[39m (\u001b[38;5;124m\"\u001b[39m\u001b[38;5;124m name: \u001b[39m\u001b[38;5;124m\"\u001b[39m \u001b[38;5;241m+\u001b[39m name \u001b[38;5;28;01mif\u001b[39;00m name \u001b[38;5;129;01mis\u001b[39;00m \u001b[38;5;129;01mnot\u001b[39;00m \u001b[38;5;28;01mNone\u001b[39;00m \u001b[38;5;28;01melse\u001b[39;00m \u001b[38;5;124m\"\u001b[39m\u001b[38;5;124m\"\u001b[39m)\n\u001b[1;32m-> 7186\u001b[0m   \u001b[38;5;28;01mraise\u001b[39;00m core\u001b[38;5;241m.\u001b[39m_status_to_exception(e) \u001b[38;5;28;01mfrom\u001b[39;00m \u001b[38;5;28mNone\u001b[39m\n",
      "\u001b[1;31mInvalidArgumentError\u001b[0m: Exception encountered when calling layer \"conv2d_3\" (type Conv2D).\n\ncannot compute Conv2D as input #1(zero-based) was expected to be a int32 tensor but is a float tensor [Op:Conv2D]\n\nCall arguments received:\n  • inputs=tf.Tensor(shape=(1, 4, 4, 1), dtype=int32)"
     ]
    }
   ],
   "source": [
    "conv2d(XXX)"
   ]
  },
  {
   "cell_type": "markdown",
   "id": "469a5891-a2d3-43da-a3af-35ed2082236b",
   "metadata": {},
   "source": [
    "- int형은 conv2d layer에 들어갈 수 없음..!!\n",
    "- float이기만 하면 됨! float64가 아닌 float32, float16도 가능"
   ]
  },
  {
   "cell_type": "markdown",
   "id": "46e53023-4f89-499f-af9b-c47288ebeb1a",
   "metadata": {},
   "source": [
    "### Test1\n",
    ":XXX가 conv2d(XXX)로 가는 규칙을 알아보자!"
   ]
  },
  {
   "cell_type": "code",
   "execution_count": 30,
   "id": "98c54655-07b7-4b9c-af1d-4469700ed6af",
   "metadata": {},
   "outputs": [
    {
     "data": {
      "text/plain": [
       "<tf.Tensor: shape=(1, 4, 4, 1), dtype=float64, numpy=\n",
       "array([[[[ 0.],\n",
       "         [ 1.],\n",
       "         [ 2.],\n",
       "         [ 3.]],\n",
       "\n",
       "        [[ 4.],\n",
       "         [ 5.],\n",
       "         [ 6.],\n",
       "         [ 7.]],\n",
       "\n",
       "        [[ 8.],\n",
       "         [ 9.],\n",
       "         [10.],\n",
       "         [11.]],\n",
       "\n",
       "        [[12.],\n",
       "         [13.],\n",
       "         [14.],\n",
       "         [15.]]]])>"
      ]
     },
     "execution_count": 30,
     "metadata": {},
     "output_type": "execute_result"
    }
   ],
   "source": [
    "XXX= tnp.arange(1*4*4*1,dtype=tf.float64).reshape(1,4,4,1)\n",
    "XXX"
   ]
  },
  {
   "cell_type": "markdown",
   "id": "1150a29e-3c17-48a9-82a1-f219a6cfcfc4",
   "metadata": {},
   "source": [
    "`-` 보기 좋게 표현"
   ]
  },
  {
   "cell_type": "code",
   "execution_count": 31,
   "id": "4c7c672f-88d8-4c33-8d6d-24130866b2da",
   "metadata": {},
   "outputs": [
    {
     "data": {
      "text/plain": [
       "<tf.Tensor: shape=(1, 4, 4), dtype=float64, numpy=\n",
       "array([[[ 0.,  1.,  2.,  3.],\n",
       "        [ 4.,  5.,  6.,  7.],\n",
       "        [ 8.,  9., 10., 11.],\n",
       "        [12., 13., 14., 15.]]])>"
      ]
     },
     "execution_count": 31,
     "metadata": {},
     "output_type": "execute_result"
    }
   ],
   "source": [
    "XXX.reshape(1,4,4)"
   ]
  },
  {
   "cell_type": "markdown",
   "id": "865327c3-d93d-4cd7-82ad-fb690949447b",
   "metadata": {},
   "source": [
    "`-` layer에 입력"
   ]
  },
  {
   "cell_type": "code",
   "execution_count": 32,
   "id": "0fad4fa5-da32-438f-a774-21471e2bda2d",
   "metadata": {},
   "outputs": [
    {
     "data": {
      "text/plain": [
       "<tf.Tensor: shape=(1, 3, 3, 1), dtype=float32, numpy=\n",
       "array([[[[ 0.87437177],\n",
       "         [ 0.05317581],\n",
       "         [-0.76802087]],\n",
       "\n",
       "        [[-2.4104128 ],\n",
       "         [-3.2316093 ],\n",
       "         [-4.0528054 ]],\n",
       "\n",
       "        [[-5.6951976 ],\n",
       "         [-6.5163946 ],\n",
       "         [-7.33759   ]]]], dtype=float32)>"
      ]
     },
     "execution_count": 32,
     "metadata": {},
     "output_type": "execute_result"
    }
   ],
   "source": [
    "conv2d(XXX)"
   ]
  },
  {
   "cell_type": "markdown",
   "id": "c029b9f4-5756-464a-b495-8c7f4fbf78af",
   "metadata": {},
   "source": [
    "`-` 보기 좋게 표현"
   ]
  },
  {
   "cell_type": "code",
   "execution_count": 35,
   "id": "98824690-44b7-42ca-83fb-95cb679de528",
   "metadata": {},
   "outputs": [
    {
     "data": {
      "text/plain": [
       "<tf.Tensor: shape=(1, 3, 3), dtype=float32, numpy=\n",
       "array([[[ 0.87437177,  0.05317581, -0.76802087],\n",
       "        [-2.4104128 , -3.2316093 , -4.0528054 ],\n",
       "        [-5.6951976 , -6.5163946 , -7.33759   ]]], dtype=float32)>"
      ]
     },
     "execution_count": 35,
     "metadata": {},
     "output_type": "execute_result"
    }
   ],
   "source": [
    "conv2d(XXX).reshape(1,3,3)"
   ]
  },
  {
   "cell_type": "markdown",
   "id": "04c305ef-708d-4191-88c3-144ee66faaea",
   "metadata": {},
   "source": [
    "#### conv2d의 weight"
   ]
  },
  {
   "cell_type": "markdown",
   "id": "ed4375c9-6285-426f-a02e-ff59f0b97517",
   "metadata": {},
   "source": [
    "`-` conv2d 다시 선언"
   ]
  },
  {
   "cell_type": "code",
   "execution_count": 37,
   "id": "73f1a6d8-7707-40ea-b278-5ad99b2176c6",
   "metadata": {},
   "outputs": [],
   "source": [
    "XXX = tnp.arange(1*4*4*1,dtype=tf.float64).reshape(1,4,4,1)\n",
    "conv2d = tf.keras.layers.Conv2D(1,(2,2))"
   ]
  },
  {
   "cell_type": "code",
   "execution_count": 38,
   "id": "cf303bc7-04aa-4f56-8dc5-50565ac468ad",
   "metadata": {},
   "outputs": [
    {
     "name": "stdout",
     "output_type": "stream",
     "text": [
      "tf.Tensor(\n",
      "[[[ 0.  1.  2.  3.]\n",
      "  [ 4.  5.  6.  7.]\n",
      "  [ 8.  9. 10. 11.]\n",
      "  [12. 13. 14. 15.]]], shape=(1, 4, 4), dtype=float64)\n",
      "tf.Tensor(\n",
      "[[[ 1.156961    0.99860877  0.84025645]\n",
      "  [ 0.5235517   0.36519933  0.20684743]\n",
      "  [-0.10985804 -0.26820993 -0.4265623 ]]], shape=(1, 3, 3), dtype=float32)\n"
     ]
    }
   ],
   "source": [
    "print(XXX.reshape(1,4,4))\n",
    "print(conv2d(XXX).reshape(1,3,3))"
   ]
  },
  {
   "cell_type": "markdown",
   "id": "16877661-0c48-4a53-bef8-6ddaf08cecba",
   "metadata": {},
   "source": [
    "- 위의 값과 다름..?! 이는 Conv2d의 weight값이 conv2d를 선언해줄 때마다 달라지기 때문임!"
   ]
  },
  {
   "cell_type": "markdown",
   "id": "b1adb20d-4b55-43c0-b681-031608ad3e46",
   "metadata": {},
   "source": [
    "`-` seed 고정"
   ]
  },
  {
   "cell_type": "code",
   "execution_count": 43,
   "id": "56b1fc97-9abc-4557-b0df-a971e30a13b3",
   "metadata": {},
   "outputs": [],
   "source": [
    "tf.random.set_seed(43052)\n",
    "XXX = tnp.arange(1*4*4*1,dtype=tf.float64).reshape(1,4,4,1)\n",
    "conv2d = tf.keras.layers.Conv2D(1,(2,2))"
   ]
  },
  {
   "cell_type": "code",
   "execution_count": 44,
   "id": "81a785d7-3804-4653-8f5a-6013f7861059",
   "metadata": {},
   "outputs": [
    {
     "name": "stdout",
     "output_type": "stream",
     "text": [
      "tf.Tensor(\n",
      "[[[ 0.  1.  2.  3.]\n",
      "  [ 4.  5.  6.  7.]\n",
      "  [ 8.  9. 10. 11.]\n",
      "  [12. 13. 14. 15.]]], shape=(1, 4, 4), dtype=float64)\n",
      "tf.Tensor(\n",
      "[[[ -4.125754   -5.312817   -6.4998803]\n",
      "  [ -8.874006  -10.0610695 -11.248133 ]\n",
      "  [-13.62226   -14.809322  -15.996386 ]]], shape=(1, 3, 3), dtype=float32)\n"
     ]
    }
   ],
   "source": [
    "print(XXX.reshape(1,4,4))\n",
    "print(conv2d(XXX).reshape(1,3,3))"
   ]
  },
  {
   "cell_type": "markdown",
   "id": "d149cec6-6e81-4a99-b198-894dde1da045",
   "metadata": {},
   "source": [
    "- random seed를 고정하면 값이 바뀌지 않음!"
   ]
  },
  {
   "cell_type": "markdown",
   "id": "e9cfe96a-2dc7-4b8d-b9c9-d217410a0ec3",
   "metadata": {},
   "source": [
    "`-` weight를 찍어보자"
   ]
  },
  {
   "cell_type": "code",
   "execution_count": 45,
   "id": "689a61c2-c027-4046-9c2c-2a05d4065dde",
   "metadata": {},
   "outputs": [
    {
     "data": {
      "text/plain": [
       "[<tf.Variable 'conv2d_7/kernel:0' shape=(2, 2, 1, 1) dtype=float32, numpy=\n",
       " array([[[[-0.13014299]],\n",
       " \n",
       "         [[-0.23927206]]],\n",
       " \n",
       " \n",
       "        [[[-0.20175874]],\n",
       " \n",
       "         [[-0.6158894 ]]]], dtype=float32)>,\n",
       " <tf.Variable 'conv2d_7/bias:0' shape=(1,) dtype=float32, numpy=array([0.], dtype=float32)>]"
      ]
     },
     "execution_count": 45,
     "metadata": {},
     "output_type": "execute_result"
    }
   ],
   "source": [
    "conv2d.weights"
   ]
  },
  {
   "cell_type": "markdown",
   "id": "10c1ec55-d6af-4c9b-84f2-c4d109a19081",
   "metadata": {},
   "source": [
    "- weight가 입력되어 있다."
   ]
  },
  {
   "cell_type": "code",
   "execution_count": 46,
   "id": "af68b6c9-f098-4099-98de-381e6461fff2",
   "metadata": {},
   "outputs": [
    {
     "data": {
      "text/plain": [
       "list"
      ]
     },
     "execution_count": 46,
     "metadata": {},
     "output_type": "execute_result"
    }
   ],
   "source": [
    "type(conv2d.weights)"
   ]
  },
  {
   "cell_type": "code",
   "execution_count": 47,
   "id": "1260b242-c0f0-44c8-8d6f-a532c69b6a83",
   "metadata": {},
   "outputs": [
    {
     "data": {
      "text/plain": [
       "(<tf.Variable 'conv2d_7/kernel:0' shape=(2, 2, 1, 1) dtype=float32, numpy=\n",
       " array([[[[-0.13014299]],\n",
       " \n",
       "         [[-0.23927206]]],\n",
       " \n",
       " \n",
       "        [[[-0.20175874]],\n",
       " \n",
       "         [[-0.6158894 ]]]], dtype=float32)>,\n",
       " <tf.Variable 'conv2d_7/bias:0' shape=(1,) dtype=float32, numpy=array([0.], dtype=float32)>)"
      ]
     },
     "execution_count": 47,
     "metadata": {},
     "output_type": "execute_result"
    }
   ],
   "source": [
    "conv2d.weights[0], conv2d.weights[1]"
   ]
  },
  {
   "cell_type": "markdown",
   "id": "c3048a99-8f29-4daa-8fae-d94d55a7bea4",
   "metadata": {},
   "source": [
    "- 잘 살펴보니 conv2d의 weight는 리스트로 두 개의 원소로 이루어져있음\n",
    "- conv2d.weight_0은 weight이고 weight_1은 bias임!"
   ]
  },
  {
   "cell_type": "markdown",
   "id": "07edbacd-12c1-45bd-a5ac-45a69778ac98",
   "metadata": {},
   "source": [
    "`-` weight 뜯어보기"
   ]
  },
  {
   "cell_type": "code",
   "execution_count": 52,
   "id": "de9e16ee-63db-459e-a1cf-d5ed4e61811d",
   "metadata": {},
   "outputs": [
    {
     "data": {
      "text/plain": [
       "<tf.Tensor: shape=(2, 2), dtype=float32, numpy=\n",
       "array([[-0.13014299, -0.23927206],\n",
       "       [-0.20175874, -0.6158894 ]], dtype=float32)>"
      ]
     },
     "execution_count": 52,
     "metadata": {},
     "output_type": "execute_result"
    }
   ],
   "source": [
    "tf.reshape(conv2d.weights[0],(2,2))"
   ]
  },
  {
   "cell_type": "code",
   "execution_count": 54,
   "id": "1f6fb984-47a7-488a-8e19-1b4129740c91",
   "metadata": {},
   "outputs": [
    {
     "name": "stdout",
     "output_type": "stream",
     "text": [
      "tf.Tensor(\n",
      "[[[ 0.  1.  2.  3.]\n",
      "  [ 4.  5.  6.  7.]\n",
      "  [ 8.  9. 10. 11.]\n",
      "  [12. 13. 14. 15.]]], shape=(1, 4, 4), dtype=float64)\n"
     ]
    }
   ],
   "source": [
    "print(XXX.reshape(1,4,4))"
   ]
  },
  {
   "cell_type": "code",
   "execution_count": 55,
   "id": "3e47bce3-5d1e-4b66-93fa-5b4ae9ca3493",
   "metadata": {},
   "outputs": [
    {
     "data": {
      "text/plain": [
       "-4.1257540200000005"
      ]
     },
     "execution_count": 55,
     "metadata": {},
     "output_type": "execute_result"
    }
   ],
   "source": [
    "0 * -0.13014299 + 1 * -0.23927206 + 4 * -0.20175874 + 5 * -0.6158894"
   ]
  },
  {
   "cell_type": "markdown",
   "id": "fba89900-0feb-4a51-91e9-99fb87fb25ae",
   "metadata": {},
   "source": [
    "- 이 값이 conv2d의 weight의 (1,1)값임!\n",
    "- weight의 다른 원소도 마찬가지!\n",
    "- 결과 관찰을 편리하게 하기 위해 weight를 직접 조정해서 확인해보자"
   ]
  },
  {
   "cell_type": "markdown",
   "id": "4460a0f5-c164-4b0b-9e05-982915359dc5",
   "metadata": {},
   "source": [
    "`-` weight을 모두 0.25로, bias를 3으로 조정"
   ]
  },
  {
   "cell_type": "code",
   "execution_count": 58,
   "id": "2b9caeae-cf22-41c6-ad76-60bfdb1dbcca",
   "metadata": {},
   "outputs": [
    {
     "data": {
      "text/plain": [
       "[array([[[[-0.13014299]],\n",
       " \n",
       "         [[-0.23927206]]],\n",
       " \n",
       " \n",
       "        [[[-0.20175874]],\n",
       " \n",
       "         [[-0.6158894 ]]]], dtype=float32),\n",
       " array([0.], dtype=float32)]"
      ]
     },
     "execution_count": 58,
     "metadata": {},
     "output_type": "execute_result"
    }
   ],
   "source": [
    "conv2d.get_weights()"
   ]
  },
  {
   "cell_type": "markdown",
   "id": "51ca2959-94cd-4ce0-97f6-c38e2ce7b641",
   "metadata": {},
   "source": [
    "`-` weight 선언"
   ]
  },
  {
   "cell_type": "code",
   "execution_count": 60,
   "id": "50f3594e-cb84-4e7b-9fce-bd1db620b0d2",
   "metadata": {},
   "outputs": [
    {
     "data": {
      "text/plain": [
       "(2, 2, 1, 1)"
      ]
     },
     "execution_count": 60,
     "metadata": {},
     "output_type": "execute_result"
    }
   ],
   "source": [
    "conv2d.get_weights()[0].shape"
   ]
  },
  {
   "cell_type": "code",
   "execution_count": 6,
   "id": "3efc3fcc-9a46-4628-b020-ece81ba51d64",
   "metadata": {},
   "outputs": [],
   "source": [
    "w_ = np.array([1/4,1/4,1/4,1/4],dtype=np.float32).reshape(2,2,1,1) # 혹시 모르니 np.flate32로 설정!! tf.float32 아님!"
   ]
  },
  {
   "cell_type": "markdown",
   "id": "a6705164-7a8f-4e98-aed1-767cf58fb9af",
   "metadata": {},
   "source": [
    "`-` bias 선언"
   ]
  },
  {
   "cell_type": "code",
   "execution_count": 67,
   "id": "5514656a-f245-4c78-a0ce-15233e1bd73c",
   "metadata": {},
   "outputs": [
    {
     "data": {
      "text/plain": [
       "(1,)"
      ]
     },
     "execution_count": 67,
     "metadata": {},
     "output_type": "execute_result"
    }
   ],
   "source": [
    "conv2d.get_weights()[1].shape"
   ]
  },
  {
   "cell_type": "code",
   "execution_count": 70,
   "id": "b8dedd80-dc85-41a7-b2fb-2db8cfa4634a",
   "metadata": {},
   "outputs": [],
   "source": [
    "b_ = np.array([3],dtype=np.float32)"
   ]
  },
  {
   "cell_type": "code",
   "execution_count": 72,
   "id": "b6c14bd4-5bd0-4c28-afaf-a3e6241f8345",
   "metadata": {},
   "outputs": [],
   "source": [
    "conv2d.set_weights([w_,b_])"
   ]
  },
  {
   "cell_type": "code",
   "execution_count": 74,
   "id": "c44dc091-055f-4f9e-a61d-0272c379509e",
   "metadata": {},
   "outputs": [
    {
     "data": {
      "text/plain": [
       "[array([[[[0.25]],\n",
       " \n",
       "         [[0.25]]],\n",
       " \n",
       " \n",
       "        [[[0.25]],\n",
       " \n",
       "         [[0.25]]]], dtype=float32),\n",
       " array([3.], dtype=float32)]"
      ]
     },
     "execution_count": 74,
     "metadata": {},
     "output_type": "execute_result"
    }
   ],
   "source": [
    "conv2d.get_weights()"
   ]
  },
  {
   "cell_type": "markdown",
   "id": "8dabfbfa-e41a-4f5f-975f-a426ca56ef8a",
   "metadata": {},
   "source": [
    "- 변경 완료...!"
   ]
  },
  {
   "cell_type": "code",
   "execution_count": 75,
   "id": "6cd34a88-4582-45c9-8b0b-b9aa2e387a0f",
   "metadata": {},
   "outputs": [
    {
     "name": "stdout",
     "output_type": "stream",
     "text": [
      "tf.Tensor(\n",
      "[[[ 0.  1.  2.  3.]\n",
      "  [ 4.  5.  6.  7.]\n",
      "  [ 8.  9. 10. 11.]\n",
      "  [12. 13. 14. 15.]]], shape=(1, 4, 4), dtype=float64)\n",
      "tf.Tensor(\n",
      "[[[ 5.5  6.5  7.5]\n",
      "  [ 9.5 10.5 11.5]\n",
      "  [13.5 14.5 15.5]]], shape=(1, 3, 3), dtype=float32)\n"
     ]
    }
   ],
   "source": [
    "print(XXX.reshape(1,4,4))\n",
    "print(conv2d(XXX).reshape(1,3,3))"
   ]
  },
  {
   "cell_type": "code",
   "execution_count": 76,
   "id": "a85c6624-b26c-4e88-aa8a-eb856a238b91",
   "metadata": {},
   "outputs": [
    {
     "data": {
      "text/plain": [
       "(5.5, 6.5, 7.5)"
      ]
     },
     "execution_count": 76,
     "metadata": {},
     "output_type": "execute_result"
    }
   ],
   "source": [
    "(0+1+4+5)/4 +3, (1+2+5+6)/4 +3, (2+3+6+7)/4 +3 "
   ]
  },
  {
   "cell_type": "markdown",
   "id": "e38498b2-01a0-414c-9c18-664d200bcbd7",
   "metadata": {},
   "source": [
    "- 앞서 conv2d layer를 선언할 때 (2,2)를 입력했는데, 이는 결국 (2,2)의 각 원소에 weight를 각각 곱해줘서 합한 후 bias를 더해준 것으로 이해할 수 있음"
   ]
  },
  {
   "cell_type": "markdown",
   "id": "5228761d-f457-49c8-815b-6482e48c8537",
   "metadata": {},
   "source": [
    "#### tf.keras.layers.Conv2D(1,kernel_size=(2,2)) 요약"
   ]
  },
  {
   "cell_type": "markdown",
   "id": "dff71c28-a801-4736-9a7b-9d4d301c9dc1",
   "metadata": {},
   "source": [
    "``` python\n",
    "1. size=(2,2)인 윈도우를 만든다.\n",
    "2. XXX에 윈도우를 통과시켜 (2,2)크기의 sub XXX 를 얻는다. sub XXX의 각 원소에 conv2d.weights_0의 각 원소를 element-wise하게 곱한다. \n",
    "3. 2의 결과를 모두 더한 결과에 다시 conv2d.weights_1을 수행한다.\n",
    "4. 윈도우를 이동시키면서 반복한다!\n",
    "```"
   ]
  },
  {
   "cell_type": "markdown",
   "id": "649e2085-bd73-4e40-813a-86b7a0db5307",
   "metadata": {},
   "source": [
    "### Test2\n",
    ": 여러개의 관측치"
   ]
  },
  {
   "cell_type": "markdown",
   "id": "336a63c9-403b-4ea5-b1d2-1f9144aa96b8",
   "metadata": {},
   "source": [
    "`-` 관측치가 여러개일 경우"
   ]
  },
  {
   "cell_type": "markdown",
   "id": "865a95df-2eb4-4977-878f-641718ae5f7e",
   "metadata": {},
   "source": [
    "`-` 입력 데이터"
   ]
  },
  {
   "cell_type": "code",
   "execution_count": 79,
   "id": "65c5e00f-b2a1-471c-bf69-93c0b5f7ae85",
   "metadata": {},
   "outputs": [
    {
     "data": {
      "text/plain": [
       "<tf.Tensor: shape=(2, 4, 4), dtype=float64, numpy=\n",
       "array([[[ 0.,  1.,  2.,  3.],\n",
       "        [ 4.,  5.,  6.,  7.],\n",
       "        [ 8.,  9., 10., 11.],\n",
       "        [12., 13., 14., 15.]],\n",
       "\n",
       "       [[16., 17., 18., 19.],\n",
       "        [20., 21., 22., 23.],\n",
       "        [24., 25., 26., 27.],\n",
       "        [28., 29., 30., 31.]]])>"
      ]
     },
     "execution_count": 79,
     "metadata": {},
     "output_type": "execute_result"
    }
   ],
   "source": [
    "XXX = tnp.arange(2*4*4*1,dtype=tf.float64).reshape(2,4,4,1)\n",
    "XXX.reshape(2,4,4)"
   ]
  },
  {
   "cell_type": "markdown",
   "id": "b76c3d5f-b217-4c8c-91ff-f45ecfbc0383",
   "metadata": {},
   "source": [
    "`-` conv2d의 weight"
   ]
  },
  {
   "cell_type": "code",
   "execution_count": 82,
   "id": "73aafaa0-13ff-44a3-9570-76115896f632",
   "metadata": {},
   "outputs": [
    {
     "data": {
      "text/plain": [
       "[<tf.Variable 'conv2d_7/kernel:0' shape=(2, 2, 1, 1) dtype=float32, numpy=\n",
       " array([[[[0.25]],\n",
       " \n",
       "         [[0.25]]],\n",
       " \n",
       " \n",
       "        [[[0.25]],\n",
       " \n",
       "         [[0.25]]]], dtype=float32)>,\n",
       " <tf.Variable 'conv2d_7/bias:0' shape=(1,) dtype=float32, numpy=array([3.], dtype=float32)>]"
      ]
     },
     "execution_count": 82,
     "metadata": {},
     "output_type": "execute_result"
    }
   ],
   "source": [
    "conv2d.weights"
   ]
  },
  {
   "cell_type": "code",
   "execution_count": 84,
   "id": "764bfd55-1893-4095-9d68-c0b9bbeb9184",
   "metadata": {},
   "outputs": [
    {
     "data": {
      "text/plain": [
       "<tf.Tensor: shape=(2, 3, 3), dtype=float32, numpy=\n",
       "array([[[ 5.5,  6.5,  7.5],\n",
       "        [ 9.5, 10.5, 11.5],\n",
       "        [13.5, 14.5, 15.5]],\n",
       "\n",
       "       [[21.5, 22.5, 23.5],\n",
       "        [25.5, 26.5, 27.5],\n",
       "        [29.5, 30.5, 31.5]]], dtype=float32)>"
      ]
     },
     "execution_count": 84,
     "metadata": {},
     "output_type": "execute_result"
    }
   ],
   "source": [
    "conv2d(XXX).reshape(2,3,3)"
   ]
  },
  {
   "cell_type": "code",
   "execution_count": 86,
   "id": "44d1694e-08bb-4f19-b751-74e0268a8c81",
   "metadata": {},
   "outputs": [
    {
     "data": {
      "text/plain": [
       "(21.5, 22.5)"
      ]
     },
     "execution_count": 86,
     "metadata": {},
     "output_type": "execute_result"
    }
   ],
   "source": [
    "(16+17+20+21)/4 + 3 , (17+18+21+22)/4 + 3 "
   ]
  },
  {
   "cell_type": "markdown",
   "id": "6ef79e81-020c-4466-9fef-ce5983dc9988",
   "metadata": {},
   "source": [
    "- 관측치 별로 수행해주었음!"
   ]
  },
  {
   "cell_type": "markdown",
   "id": "2ed7eb9f-ce8c-497a-96f4-a3cf8073d475",
   "metadata": {},
   "source": [
    "### Test3\n",
    ": 윈도우 크기가 (3,3)"
   ]
  },
  {
   "cell_type": "markdown",
   "id": "b904724a-7655-4e37-8ac6-093288ffafeb",
   "metadata": {},
   "source": [
    "`-` 윈도우 크기를 바꿔보자"
   ]
  },
  {
   "cell_type": "markdown",
   "id": "ca366ce7-7428-49ed-b217-d5133ace6347",
   "metadata": {},
   "source": [
    "`-` 입력데이터"
   ]
  },
  {
   "cell_type": "code",
   "execution_count": 94,
   "id": "2492299e-398c-4d05-97a9-beb23889906f",
   "metadata": {},
   "outputs": [
    {
     "data": {
      "text/plain": [
       "<tf.Tensor: shape=(1, 4, 4), dtype=float64, numpy=\n",
       "array([[[1., 1., 1., 1.],\n",
       "        [1., 1., 1., 1.],\n",
       "        [1., 1., 1., 1.],\n",
       "        [1., 1., 1., 1.]]])>"
      ]
     },
     "execution_count": 94,
     "metadata": {},
     "output_type": "execute_result"
    }
   ],
   "source": [
    "XXX = tnp.array([1]*1*4*4*1,dtype=tf.float64).reshape(1,4,4,1)\n",
    "XXX.reshape(1,4,4)"
   ]
  },
  {
   "cell_type": "markdown",
   "id": "093bbb3b-9959-410a-9206-d9a6ce55c538",
   "metadata": {},
   "source": [
    "- 위와 같이 선언하면 conv2d 수행결과 weight의 합으로 나오기 때문에 확인이 쉬움!"
   ]
  },
  {
   "cell_type": "markdown",
   "id": "7833db25-a229-466b-ad3f-7f0e86cbf6d1",
   "metadata": {},
   "source": [
    "`-` 윈도우 크기를 바꿔 layer 선언"
   ]
  },
  {
   "cell_type": "code",
   "execution_count": 96,
   "id": "8423db1c-09eb-43b3-adc6-dd788faa04dd",
   "metadata": {},
   "outputs": [
    {
     "data": {
      "text/plain": [
       "<tf.Tensor: shape=(1, 2, 2, 1), dtype=float32, numpy=\n",
       "array([[[[0.4258361],\n",
       "         [0.4258361]],\n",
       "\n",
       "        [[0.4258361],\n",
       "         [0.4258361]]]], dtype=float32)>"
      ]
     },
     "execution_count": 96,
     "metadata": {},
     "output_type": "execute_result"
    }
   ],
   "source": [
    "conv2d = tf.keras.layers.Conv2D(1,(3,3))\n",
    "conv2d(XXX)"
   ]
  },
  {
   "cell_type": "code",
   "execution_count": 97,
   "id": "caedd52e-2814-4e01-9f37-c30283384573",
   "metadata": {},
   "outputs": [
    {
     "data": {
      "text/plain": [
       "<tf.Tensor: shape=(1, 2, 2), dtype=float32, numpy=\n",
       "array([[[0.4258361, 0.4258361],\n",
       "        [0.4258361, 0.4258361]]], dtype=float32)>"
      ]
     },
     "execution_count": 97,
     "metadata": {},
     "output_type": "execute_result"
    }
   ],
   "source": [
    "conv2d(XXX).reshape(1,2,2)"
   ]
  },
  {
   "cell_type": "markdown",
   "id": "2ca02c5f-e068-46ae-8232-5ae51eb7de0d",
   "metadata": {},
   "source": [
    "- conv2d 수행결과 위와 같이 나왔음"
   ]
  },
  {
   "cell_type": "code",
   "execution_count": 104,
   "id": "a63e7277-0726-4c65-aa28-9adbcb15b3ce",
   "metadata": {},
   "outputs": [
    {
     "data": {
      "text/plain": [
       "<tf.Variable 'conv2d_9/kernel:0' shape=(3, 3, 1, 1) dtype=float32, numpy=\n",
       "array([[[[-0.3444655 ]],\n",
       "\n",
       "        [[ 0.4521824 ]],\n",
       "\n",
       "        [[ 0.236296  ]]],\n",
       "\n",
       "\n",
       "       [[[ 0.54707503]],\n",
       "\n",
       "        [[ 0.19746327]],\n",
       "\n",
       "        [[ 0.20471048]]],\n",
       "\n",
       "\n",
       "       [[[-0.1245549 ]],\n",
       "\n",
       "        [[-0.25237298]],\n",
       "\n",
       "        [[-0.4904977 ]]]], dtype=float32)>"
      ]
     },
     "execution_count": 104,
     "metadata": {},
     "output_type": "execute_result"
    }
   ],
   "source": [
    "conv2d.weights[0]"
   ]
  },
  {
   "cell_type": "code",
   "execution_count": 102,
   "id": "750cb544-a827-4b8d-851d-3a7c148c228c",
   "metadata": {},
   "outputs": [
    {
     "data": {
      "text/plain": [
       "<tf.Tensor: shape=(3, 3), dtype=float32, numpy=\n",
       "array([[-0.3444655 ,  0.4521824 ,  0.236296  ],\n",
       "       [ 0.54707503,  0.19746327,  0.20471048],\n",
       "       [-0.1245549 , -0.25237298, -0.4904977 ]], dtype=float32)>"
      ]
     },
     "execution_count": 102,
     "metadata": {},
     "output_type": "execute_result"
    }
   ],
   "source": [
    "tf.reshape(conv2d.weights[0],(3,3))"
   ]
  },
  {
   "cell_type": "markdown",
   "id": "5cbbb937-10b5-4096-99f5-adefe3829ca4",
   "metadata": {},
   "source": [
    "- kernel_size가 (3,3)인 conv2d의 weight는 총 9개가 나왔음!"
   ]
  },
  {
   "cell_type": "code",
   "execution_count": 105,
   "id": "d630c7ef-d9cb-4d4c-a04f-9f55fdf76458",
   "metadata": {},
   "outputs": [
    {
     "data": {
      "text/plain": [
       "<tf.Tensor: shape=(), dtype=float32, numpy=0.4258361>"
      ]
     },
     "execution_count": 105,
     "metadata": {},
     "output_type": "execute_result"
    }
   ],
   "source": [
    "tf.reduce_sum(tf.reshape(conv2d.weights[0],(3,3)))"
   ]
  },
  {
   "cell_type": "markdown",
   "id": "0a959c13-dccc-4f44-b411-0a0f257f2297",
   "metadata": {},
   "source": [
    "- 위의 값과 동일하게 나왔다!"
   ]
  },
  {
   "cell_type": "markdown",
   "id": "ebb3fb07-8f19-4a97-b8d5-b8bce249cbba",
   "metadata": {},
   "source": [
    "### Test4"
   ]
  },
  {
   "cell_type": "markdown",
   "id": "dada5d78-5a78-4319-9326-42a7b544696b",
   "metadata": {},
   "source": [
    "`-` 입력데이터"
   ]
  },
  {
   "cell_type": "code",
   "execution_count": 200,
   "id": "467f6c57-4af3-4abb-99f1-9ebf275280fe",
   "metadata": {},
   "outputs": [
    {
     "data": {
      "text/plain": [
       "<tf.Tensor: shape=(1, 5, 5, 1), dtype=float64, numpy=\n",
       "array([[[[3.],\n",
       "         [3.],\n",
       "         [2.],\n",
       "         [1.],\n",
       "         [0.]],\n",
       "\n",
       "        [[0.],\n",
       "         [0.],\n",
       "         [1.],\n",
       "         [3.],\n",
       "         [1.]],\n",
       "\n",
       "        [[3.],\n",
       "         [1.],\n",
       "         [2.],\n",
       "         [2.],\n",
       "         [3.]],\n",
       "\n",
       "        [[2.],\n",
       "         [0.],\n",
       "         [0.],\n",
       "         [2.],\n",
       "         [2.]],\n",
       "\n",
       "        [[2.],\n",
       "         [0.],\n",
       "         [0.],\n",
       "         [0.],\n",
       "         [1.]]]])>"
      ]
     },
     "execution_count": 200,
     "metadata": {},
     "output_type": "execute_result"
    }
   ],
   "source": [
    "XXX = tf.constant([[3,3,2,1,0],[0,0,1,3,1],[3,1,2,2,3],[2,0,0,2,2],[2,0,0,0,1]],dtype=tf.float64).reshape(1,5,5,1)\n",
    "XXX"
   ]
  },
  {
   "cell_type": "markdown",
   "id": "6d27261e-254b-435e-94e0-17266f0ea4e2",
   "metadata": {},
   "source": [
    "`-` layer"
   ]
  },
  {
   "cell_type": "code",
   "execution_count": 201,
   "id": "03cfd447-83d1-43cc-9da8-65e76b007f33",
   "metadata": {},
   "outputs": [],
   "source": [
    "conv2d = tf.keras.layers.Conv2D(1,(3,3))"
   ]
  },
  {
   "cell_type": "code",
   "execution_count": 202,
   "id": "c464f3e8-fb27-48e1-be32-cf98e930cfba",
   "metadata": {},
   "outputs": [
    {
     "data": {
      "text/plain": [
       "[]"
      ]
     },
     "execution_count": 202,
     "metadata": {},
     "output_type": "execute_result"
    }
   ],
   "source": [
    "conv2d.get_weights()"
   ]
  },
  {
   "cell_type": "markdown",
   "id": "aa8ab6aa-7a34-488d-9591-8a6d51048cae",
   "metadata": {},
   "source": [
    "- 아무값도 나오지 않았는데, 한 번 수행해주면 나온다"
   ]
  },
  {
   "cell_type": "code",
   "execution_count": 203,
   "id": "797bea00-7a6a-4486-923c-8c535cb90380",
   "metadata": {},
   "outputs": [
    {
     "data": {
      "text/plain": [
       "<tf.Tensor: shape=(1, 3, 3, 1), dtype=float32, numpy=\n",
       "array([[[[-1.4967487 ],\n",
       "         [-1.4661053 ],\n",
       "         [ 0.36124906]],\n",
       "\n",
       "        [[-1.1427999 ],\n",
       "         [ 0.5735489 ],\n",
       "         [-1.8295492 ]],\n",
       "\n",
       "        [[-1.3771133 ],\n",
       "         [-1.2894611 ],\n",
       "         [-0.09080273]]]], dtype=float32)>"
      ]
     },
     "execution_count": 203,
     "metadata": {},
     "output_type": "execute_result"
    }
   ],
   "source": [
    "conv2d(XXX)"
   ]
  },
  {
   "cell_type": "code",
   "execution_count": 204,
   "id": "ea12a08f-7ba1-4456-894a-90548bbde809",
   "metadata": {},
   "outputs": [
    {
     "data": {
      "text/plain": [
       "[array([[[[-0.22610146]],\n",
       " \n",
       "         [[-0.47850692]],\n",
       " \n",
       "         [[ 0.2982087 ]]],\n",
       " \n",
       " \n",
       "        [[[-0.41198692]],\n",
       " \n",
       "         [[ 0.49046123]],\n",
       " \n",
       "         [[-0.35138166]]],\n",
       " \n",
       " \n",
       "        [[[ 0.00362712]],\n",
       " \n",
       "         [[ 0.06990165]],\n",
       " \n",
       "         [[ 0.14562875]]]], dtype=float32),\n",
       " array([0.], dtype=float32)]"
      ]
     },
     "execution_count": 204,
     "metadata": {},
     "output_type": "execute_result"
    }
   ],
   "source": [
    "conv2d.get_weights()"
   ]
  },
  {
   "cell_type": "markdown",
   "id": "4699339d-83c6-46ba-a656-89a544deaef7",
   "metadata": {},
   "source": [
    "`-` weight 값을 위 그림대로 바꿔보자"
   ]
  },
  {
   "cell_type": "code",
   "execution_count": 205,
   "id": "04a810c0-9b21-4c99-a0e5-af07d3378af4",
   "metadata": {},
   "outputs": [
    {
     "data": {
      "text/plain": [
       "TensorShape([3, 3, 1, 1])"
      ]
     },
     "execution_count": 205,
     "metadata": {},
     "output_type": "execute_result"
    }
   ],
   "source": [
    "conv2d.weights[0].shape"
   ]
  },
  {
   "cell_type": "code",
   "execution_count": 206,
   "id": "af08ffee-d420-4454-b158-4825e5154ef6",
   "metadata": {},
   "outputs": [],
   "source": [
    "w_ = np.array([[0,1,2],[2,2,0],[0,1,2]],dtype=np.float32).reshape(3,3,1,1)\n",
    "b_ = np.array([0],dtype=np.float32)"
   ]
  },
  {
   "cell_type": "code",
   "execution_count": 212,
   "id": "708a8c52-3c06-475e-99eb-a2643bd5eba2",
   "metadata": {},
   "outputs": [],
   "source": [
    "conv2d.set_weights([w_,b_])"
   ]
  },
  {
   "cell_type": "code",
   "execution_count": 213,
   "id": "39252bf1-3683-4c7b-b102-ab7470ab7ff8",
   "metadata": {},
   "outputs": [
    {
     "data": {
      "text/plain": [
       "[array([[[[0.]],\n",
       " \n",
       "         [[1.]],\n",
       " \n",
       "         [[2.]]],\n",
       " \n",
       " \n",
       "        [[[2.]],\n",
       " \n",
       "         [[2.]],\n",
       " \n",
       "         [[0.]]],\n",
       " \n",
       " \n",
       "        [[[0.]],\n",
       " \n",
       "         [[1.]],\n",
       " \n",
       "         [[2.]]]], dtype=float32),\n",
       " array([0.], dtype=float32)]"
      ]
     },
     "execution_count": 213,
     "metadata": {},
     "output_type": "execute_result"
    }
   ],
   "source": [
    "conv2d.get_weights()"
   ]
  },
  {
   "cell_type": "markdown",
   "id": "8156ae06-7b24-45a4-9276-9ea8401db23a",
   "metadata": {},
   "source": [
    "`-` 수행"
   ]
  },
  {
   "cell_type": "code",
   "execution_count": 214,
   "id": "9db601d5-6f62-4a77-ac5b-19bf088b3d03",
   "metadata": {},
   "outputs": [
    {
     "data": {
      "text/plain": [
       "<tf.Tensor: shape=(1, 3, 3), dtype=float32, numpy=\n",
       "array([[[12., 12., 17.],\n",
       "        [10., 17., 19.],\n",
       "        [ 9.,  6., 14.]]], dtype=float32)>"
      ]
     },
     "execution_count": 214,
     "metadata": {},
     "output_type": "execute_result"
    }
   ],
   "source": [
    "conv2d(XXX).reshape(1,3,3)"
   ]
  },
  {
   "cell_type": "markdown",
   "id": "693cb82b-ae4e-43a0-ab25-af65cdb5f33b",
   "metadata": {},
   "source": [
    "- 같은 결과가 나왔음"
   ]
  },
  {
   "cell_type": "markdown",
   "id": "4b96e2cc-4b13-432d-9439-8a068116f1fd",
   "metadata": {
    "tags": []
   },
   "source": [
    "### Test5\n",
    ": conv2d의 채널이 여러개일 경우"
   ]
  },
  {
   "cell_type": "markdown",
   "id": "b644e473-b1d7-4313-a18a-edeb1c57f3ff",
   "metadata": {},
   "source": [
    "이해하는데 초점!"
   ]
  },
  {
   "cell_type": "markdown",
   "id": "887295ea-0ff2-41bf-b586-af33011879a6",
   "metadata": {},
   "source": [
    "`-` 입력데이터: 구조를 쉽게 파악하기 위해 이미지 차원을 2X2로 입력!"
   ]
  },
  {
   "cell_type": "code",
   "execution_count": 128,
   "id": "a364d86e-f8fb-47d4-af07-40e72dc5bae4",
   "metadata": {},
   "outputs": [
    {
     "data": {
      "text/plain": [
       "<tf.Tensor: shape=(1, 2, 2), dtype=float64, numpy=\n",
       "array([[[1., 1.],\n",
       "        [1., 1.]]])>"
      ]
     },
     "execution_count": 128,
     "metadata": {},
     "output_type": "execute_result"
    }
   ],
   "source": [
    "XXX= tnp.array([1]*1*2*2*1,dtype=np.float64).reshape(1,2,2,1)\n",
    "XXX.reshape(1,2,2)"
   ]
  },
  {
   "cell_type": "markdown",
   "id": "b2c32ad1-d6b3-4484-a984-242040b8cdef",
   "metadata": {},
   "source": [
    "`-` conv2d layer"
   ]
  },
  {
   "cell_type": "code",
   "execution_count": 130,
   "id": "4ebe5656-601b-4dcd-9cc9-617d330b3e64",
   "metadata": {},
   "outputs": [],
   "source": [
    "conv2d = tf.keras.layers.Conv2D(4,(2,2))"
   ]
  },
  {
   "cell_type": "code",
   "execution_count": 131,
   "id": "bef73b4e-8675-49b8-99af-bbd7e5412676",
   "metadata": {},
   "outputs": [
    {
     "data": {
      "text/plain": [
       "<tf.Tensor: shape=(1, 1, 1, 4), dtype=float32, numpy=\n",
       "array([[[[-1.4677291 ,  0.4884689 ,  0.74202406, -0.2235254 ]]]],\n",
       "      dtype=float32)>"
      ]
     },
     "execution_count": 131,
     "metadata": {},
     "output_type": "execute_result"
    }
   ],
   "source": [
    "conv2d(XXX)"
   ]
  },
  {
   "cell_type": "markdown",
   "id": "bc1d37e4-6219-403e-88ef-e829aa6ff20d",
   "metadata": {},
   "source": [
    "- 채널이 4개라서 4개의 값이 나왔음"
   ]
  },
  {
   "cell_type": "code",
   "execution_count": 132,
   "id": "3b7d7f55-9fbd-4764-b05e-dc728747954a",
   "metadata": {},
   "outputs": [
    {
     "data": {
      "text/plain": [
       "<tf.Variable 'conv2d_11/kernel:0' shape=(2, 2, 1, 4) dtype=float32, numpy=\n",
       "array([[[[-0.40807962,  0.52427983,  0.02677613,  0.32642812]],\n",
       "\n",
       "        [[-0.37817764, -0.16062203, -0.18941301,  0.1360228 ]]],\n",
       "\n",
       "\n",
       "       [[[-0.26373935,  0.2107814 ,  0.42705786, -0.379741  ]],\n",
       "\n",
       "        [[-0.41773254, -0.08597028,  0.47760308, -0.3062353 ]]]],\n",
       "      dtype=float32)>"
      ]
     },
     "execution_count": 132,
     "metadata": {},
     "output_type": "execute_result"
    }
   ],
   "source": [
    "conv2d.weights[0]"
   ]
  },
  {
   "cell_type": "code",
   "execution_count": 133,
   "id": "b2f0c899-d987-4b73-b863-bc746f360115",
   "metadata": {},
   "outputs": [
    {
     "data": {
      "text/plain": [
       "array([[[-0.40807962],\n",
       "        [-0.37817764]],\n",
       "\n",
       "       [[-0.26373935],\n",
       "        [-0.41773254]]], dtype=float32)"
      ]
     },
     "execution_count": 133,
     "metadata": {},
     "output_type": "execute_result"
    }
   ],
   "source": [
    "np.array(conv2d.weights[0])[...,0]"
   ]
  },
  {
   "cell_type": "code",
   "execution_count": 138,
   "id": "71e3c0b5-1ea4-4bf3-8125-be36ec6de54f",
   "metadata": {},
   "outputs": [
    {
     "name": "stdout",
     "output_type": "stream",
     "text": [
      "-1.4677291\n",
      "0.4884689\n",
      "0.74202406\n",
      "-0.2235254\n"
     ]
    }
   ],
   "source": [
    "print(np.array(conv2d.weights[0])[...,0].sum()) # conv2d(XXX)의 첫 번째 채널\n",
    "print(np.array(conv2d.weights[0])[...,1].sum()) # conv2d(XXX)의 두 번째 채널\n",
    "print(np.array(conv2d.weights[0])[...,2].sum()) # conv2d(XXX)의 세 번째 채널\n",
    "print(np.array(conv2d.weights[0])[...,3].sum()) # conv2d(XXX)의 네 번째 채널"
   ]
  },
  {
   "cell_type": "markdown",
   "id": "2709c109-d0cb-40ba-a248-d2822811500d",
   "metadata": {},
   "source": [
    "- 이는 conv2d(XXX)해서 나온 값과 같음\n",
    "- 즉 이를 해석해보면, XXX의 각 원소와 conv2d의 weight가 곱한 후 더해진 것, 마지막에 bias까지 더해짐!\n",
    "- XXX의 각 원소와 np.array(conv2d.weights_0)(...,0)의 곱이 더해진 것 + bias\n",
    "- XXX의 각 원소와 np.array(conv2d.weights_1)(...,0)의 곱이 더해진 것 + bias\n",
    "- XXX의 각 원소와 np.array(conv2d.weights_2)(...,0)의 곱이 더해진 것 + bias\n",
    "- XXX의 각 원소와 np.array(conv2d.weights_3)(...,0)의 곱이 더해진 것 + bias"
   ]
  },
  {
   "cell_type": "code",
   "execution_count": 139,
   "id": "3d7ef657-7a13-4f2b-9e0e-e06fda8e93e8",
   "metadata": {},
   "outputs": [
    {
     "data": {
      "text/plain": [
       "TensorShape([1, 2, 2, 1])"
      ]
     },
     "execution_count": 139,
     "metadata": {},
     "output_type": "execute_result"
    }
   ],
   "source": [
    "XXX.shape"
   ]
  },
  {
   "cell_type": "code",
   "execution_count": 140,
   "id": "8b27bd3e-783e-4dd2-8706-439fd8457880",
   "metadata": {},
   "outputs": [
    {
     "data": {
      "text/plain": [
       "TensorShape([1, 1, 1, 4])"
      ]
     },
     "execution_count": 140,
     "metadata": {},
     "output_type": "execute_result"
    }
   ],
   "source": [
    "conv2d(XXX).shape"
   ]
  },
  {
   "cell_type": "markdown",
   "id": "31571fb2-4e63-497e-8860-f9a211becbaa",
   "metadata": {},
   "source": [
    "- conv2d : (2,2,1)를 (1,1,4)로 바꾸는 변환"
   ]
  },
  {
   "cell_type": "markdown",
   "id": "2d4c4971-ceff-4d39-b2f7-78fbdc9204e6",
   "metadata": {},
   "source": [
    "### Test6\n",
    ": X의 채널도 여러개이고, conv2d의 채널도 여러개인 경우"
   ]
  },
  {
   "cell_type": "markdown",
   "id": "36356a06-9898-4612-b985-d5e78e596e30",
   "metadata": {},
   "source": [
    "`-` X의 채널(여러개)"
   ]
  },
  {
   "cell_type": "code",
   "execution_count": 141,
   "id": "5839792a-bdb9-4c61-9809-52e899fbd55e",
   "metadata": {},
   "outputs": [],
   "source": [
    "XXX = tnp.array([1]*1*2*2*3, dtype=tf.float64).reshape(1,2,2,3)"
   ]
  },
  {
   "cell_type": "markdown",
   "id": "d523ac77-3aab-4b23-85b0-c09fc92d009c",
   "metadata": {},
   "source": [
    "`-` conv2d의 채널(여러개)"
   ]
  },
  {
   "cell_type": "code",
   "execution_count": 143,
   "id": "ec7a8a2b-846b-4493-a799-33a38c2db50b",
   "metadata": {},
   "outputs": [],
   "source": [
    "conv2d = tf.keras.layers.Conv2D(4,(2,2))"
   ]
  },
  {
   "cell_type": "code",
   "execution_count": 144,
   "id": "a8fa6e8d-1d62-4a0c-9550-15bfb128070d",
   "metadata": {},
   "outputs": [
    {
     "data": {
      "text/plain": [
       "<tf.Tensor: shape=(1, 1, 1, 4), dtype=float32, numpy=\n",
       "array([[[[-0.54339075,  1.3631663 , -0.9375297 , -0.8216876 ]]]],\n",
       "      dtype=float32)>"
      ]
     },
     "execution_count": 144,
     "metadata": {},
     "output_type": "execute_result"
    }
   ],
   "source": [
    "conv2d(XXX)"
   ]
  },
  {
   "cell_type": "code",
   "execution_count": 146,
   "id": "93146a2d-f46b-475e-bef5-c05a90957e5e",
   "metadata": {},
   "outputs": [
    {
     "data": {
      "text/plain": [
       "TensorShape([1, 2, 2, 3])"
      ]
     },
     "execution_count": 146,
     "metadata": {},
     "output_type": "execute_result"
    }
   ],
   "source": [
    "XXX.shape"
   ]
  },
  {
   "cell_type": "code",
   "execution_count": 148,
   "id": "99227aa9-2e3e-4657-a276-5525b4e2b0e5",
   "metadata": {},
   "outputs": [
    {
     "data": {
      "text/plain": [
       "TensorShape([1, 1, 1, 4])"
      ]
     },
     "execution_count": 148,
     "metadata": {},
     "output_type": "execute_result"
    }
   ],
   "source": [
    "conv2d(XXX).shape"
   ]
  },
  {
   "cell_type": "markdown",
   "id": "721b83f2-2f9d-440e-872c-e13a45e3fe2b",
   "metadata": {},
   "source": [
    "- conv2d: (2,2,3)를 (1,1,4)로 바꾸는 변환"
   ]
  },
  {
   "cell_type": "code",
   "execution_count": 149,
   "id": "e6dcaacb-3242-4a0b-ae07-1d81cdf2af92",
   "metadata": {},
   "outputs": [
    {
     "data": {
      "text/plain": [
       "[<tf.Variable 'conv2d_12/kernel:0' shape=(2, 2, 3, 4) dtype=float32, numpy=\n",
       " array([[[[ 0.14296657,  0.29063046, -0.16084617, -0.38816312],\n",
       "          [-0.26042533,  0.04160446, -0.00092056,  0.14737642],\n",
       "          [ 0.04154938,  0.03081837,  0.27620882,  0.2885393 ]],\n",
       " \n",
       "         [[-0.38504142,  0.33944142, -0.24234334, -0.44853008],\n",
       "          [-0.31522053, -0.02353916, -0.4453768 ,  0.1877119 ],\n",
       "          [ 0.4252556 , -0.16301763,  0.12105966, -0.30270743]]],\n",
       " \n",
       " \n",
       "        [[[ 0.10244733,  0.33534002, -0.37038288,  0.05224985],\n",
       "          [ 0.2591073 , -0.26695603, -0.00175968, -0.08472571],\n",
       "          [-0.43148908,  0.24909633,  0.02140689, -0.27608246]],\n",
       " \n",
       "         [[-0.23761038, -0.10803497, -0.18119308, -0.20244324],\n",
       "          [ 0.15658379,  0.4092812 ,  0.19860888,  0.45083874],\n",
       "          [-0.04151398,  0.22850174, -0.15199137, -0.24575166]]]],\n",
       "       dtype=float32)>,\n",
       " <tf.Variable 'conv2d_12/bias:0' shape=(4,) dtype=float32, numpy=array([0., 0., 0., 0.], dtype=float32)>]"
      ]
     },
     "execution_count": 149,
     "metadata": {},
     "output_type": "execute_result"
    }
   ],
   "source": [
    "conv2d.weights"
   ]
  },
  {
   "cell_type": "markdown",
   "id": "a92fab64-d8fd-4d7f-b4ef-a7c5ba84d6af",
   "metadata": {},
   "source": [
    "- 처음 (2,2)는 kernel_size(window size) // 3은 XXX의 채널수 // 4는 conv(XXX)의 채널수"
   ]
  },
  {
   "cell_type": "code",
   "execution_count": 150,
   "id": "3b0be656-80e5-41e8-a248-f1fb29e2efc2",
   "metadata": {},
   "outputs": [
    {
     "data": {
      "text/plain": [
       "<tf.Tensor: shape=(1, 1, 1, 4), dtype=float32, numpy=\n",
       "array([[[[-0.54339075,  1.3631663 , -0.9375297 , -0.8216876 ]]]],\n",
       "      dtype=float32)>"
      ]
     },
     "execution_count": 150,
     "metadata": {},
     "output_type": "execute_result"
    }
   ],
   "source": [
    "conv2d(XXX)"
   ]
  },
  {
   "cell_type": "code",
   "execution_count": 161,
   "id": "b3681105-997a-423d-bc13-d17755c9cfb4",
   "metadata": {},
   "outputs": [
    {
     "name": "stdout",
     "output_type": "stream",
     "text": [
      "-0.54339075\n",
      "1.3631663\n",
      "-0.9375297\n",
      "-0.8216876\n"
     ]
    }
   ],
   "source": [
    "print(np.array(conv2d.weights[0])[...,0].sum()) # conv(XXX)의 첫 번째채널\n",
    "print(np.array(conv2d.weights[0])[...,1].sum()) # conv(XXX)의 두번째채널\n",
    "print(np.array(conv2d.weights[0])[...,2].sum()) # conv(XXX)의 세번째채널\n",
    "print(np.array(conv2d.weights[0])[...,3].sum()) # conv(XXX)의 네번째채널"
   ]
  },
  {
   "cell_type": "markdown",
   "id": "d0eb6077-7a8e-4fe2-a0a9-7d1096e42f43",
   "metadata": {},
   "source": [
    "- 이 값은 위의 XXX에 conv2d를 수행해준 값이다"
   ]
  },
  {
   "cell_type": "code",
   "execution_count": 164,
   "id": "362a801d-c157-4fe8-9608-68ee9ea824bb",
   "metadata": {},
   "outputs": [
    {
     "data": {
      "text/plain": [
       "array([[[ 0.14296657, -0.26042533,  0.04154938],\n",
       "        [-0.38504142, -0.31522053,  0.4252556 ]],\n",
       "\n",
       "       [[ 0.10244733,  0.2591073 , -0.43148908],\n",
       "        [-0.23761038,  0.15658379, -0.04151398]]], dtype=float32)"
      ]
     },
     "execution_count": 164,
     "metadata": {},
     "output_type": "execute_result"
    }
   ],
   "source": [
    "np.array(conv2d.weights[0])[...,0]"
   ]
  },
  {
   "cell_type": "code",
   "execution_count": 165,
   "id": "cf818525-cdb2-4a67-b7ad-efe02d30d5b4",
   "metadata": {},
   "outputs": [
    {
     "data": {
      "text/plain": [
       "(2, 2, 3)"
      ]
     },
     "execution_count": 165,
     "metadata": {},
     "output_type": "execute_result"
    }
   ],
   "source": [
    "np.array(conv2d.weights[0])[...,0].shape"
   ]
  },
  {
   "cell_type": "code",
   "execution_count": 175,
   "id": "f61cf523-409c-4db9-bd49-f4fa27ba26f9",
   "metadata": {},
   "outputs": [
    {
     "data": {
      "text/plain": [
       "<tf.Tensor: shape=(1, 1, 1, 4), dtype=float32, numpy=\n",
       "array([[[[-0.54339075,  1.3631663 , -0.9375297 , -0.8216876 ]]]],\n",
       "      dtype=float32)>"
      ]
     },
     "execution_count": 175,
     "metadata": {},
     "output_type": "execute_result"
    }
   ],
   "source": [
    "conv2d(XXX)"
   ]
  },
  {
   "cell_type": "code",
   "execution_count": 168,
   "id": "449812cb-7826-480a-9561-605255c8646c",
   "metadata": {},
   "outputs": [],
   "source": [
    "W_red = np.array(conv2d.weights[0])[...,0][...,0]\n",
    "W_green = np.array(conv2d.weights[0])[...,0][...,1]\n",
    "W_blue = np.array(conv2d.weights[0])[...,0][...,2]"
   ]
  },
  {
   "cell_type": "code",
   "execution_count": 171,
   "id": "262a187b-dc3d-4d6f-b2c2-c631f7018f55",
   "metadata": {},
   "outputs": [
    {
     "data": {
      "text/plain": [
       "-0.54339075"
      ]
     },
     "execution_count": 171,
     "metadata": {},
     "output_type": "execute_result"
    }
   ],
   "source": [
    "(W_blue+ W_green+W_red).sum()"
   ]
  },
  {
   "cell_type": "markdown",
   "id": "805f275f-2d90-4a3e-8fd3-bbbaa6f20815",
   "metadata": {},
   "source": [
    "- 이는 conv(XXX)의 첫 채널 결과와 같다"
   ]
  },
  {
   "cell_type": "code",
   "execution_count": 172,
   "id": "a2ee20bc-40f6-43ac-a085-e6a809cf3f5e",
   "metadata": {},
   "outputs": [
    {
     "data": {
      "text/plain": [
       "1.3631662"
      ]
     },
     "execution_count": 172,
     "metadata": {},
     "output_type": "execute_result"
    }
   ],
   "source": [
    "W_red = np.array(conv2d.weights[0])[...,1][...,0]\n",
    "W_green = np.array(conv2d.weights[0])[...,1][...,1]\n",
    "W_blue = np.array(conv2d.weights[0])[...,1][...,2]\n",
    "(W_blue+ W_green+W_red).sum()"
   ]
  },
  {
   "cell_type": "markdown",
   "id": "181e2c0e-dc12-4a0c-bf7e-0fa555153e03",
   "metadata": {},
   "source": [
    "- conv(XXX)의 두번째 채널 결과"
   ]
  },
  {
   "cell_type": "code",
   "execution_count": 173,
   "id": "a25088e9-902e-4ba6-b18a-8d82cd35ac32",
   "metadata": {},
   "outputs": [
    {
     "data": {
      "text/plain": [
       "-0.9375297"
      ]
     },
     "execution_count": 173,
     "metadata": {},
     "output_type": "execute_result"
    }
   ],
   "source": [
    "W_red = np.array(conv2d.weights[0])[...,2][...,0]\n",
    "W_green = np.array(conv2d.weights[0])[...,2][...,1]\n",
    "W_blue = np.array(conv2d.weights[0])[...,2][...,2]\n",
    "(W_blue+ W_green+W_red).sum()"
   ]
  },
  {
   "cell_type": "markdown",
   "id": "81813fae-1e17-41aa-b9c0-de90852a2412",
   "metadata": {},
   "source": [
    "- conv(XXX)의 세번째 채널 결과"
   ]
  },
  {
   "cell_type": "code",
   "execution_count": 174,
   "id": "333c1f18-42b3-4616-8bff-b92a7f892f49",
   "metadata": {},
   "outputs": [
    {
     "data": {
      "text/plain": [
       "-0.8216876"
      ]
     },
     "execution_count": 174,
     "metadata": {},
     "output_type": "execute_result"
    }
   ],
   "source": [
    "W_red = np.array(conv2d.weights[0])[...,3][...,0]\n",
    "W_green = np.array(conv2d.weights[0])[...,3][...,1]\n",
    "W_blue = np.array(conv2d.weights[0])[...,3][...,2]\n",
    "(W_blue+ W_green+W_red).sum()"
   ]
  },
  {
   "cell_type": "markdown",
   "id": "e457c0d8-2cce-4672-87e4-507e4680887d",
   "metadata": {},
   "source": [
    "- conv(XXX)의 네번째 채널 결과"
   ]
  },
  {
   "cell_type": "markdown",
   "id": "3fbeb65f-28ac-4394-9bbd-3691bbc1f0f3",
   "metadata": {
    "tags": []
   },
   "source": [
    "#### 추가학습"
   ]
  },
  {
   "cell_type": "markdown",
   "id": "9adfa4b6-c7a0-49bc-b9ca-841a9da6439f",
   "metadata": {},
   "source": [
    "아래와 같은 흑백이미지가 있다고 하자. \n",
    "``` python\n",
    "0 0 0 1 1 1 \n",
    "0 0 0 1 1 1 \n",
    "0 0 0 1 1 1 \n",
    "0 0 0 1 1 1 \n",
    "0 0 0 1 1 1\n",
    "0 0 0 1 1 1 \n",
    "```"
   ]
  },
  {
   "cell_type": "markdown",
   "id": "d864870a-5274-45a7-8938-c592acd95f7f",
   "metadata": {},
   "source": [
    "위의 이미지에 아래와 같은 weight를 가진 필터를 적용하여 convolution한 결과를 계산하라. (bias는 0으로 가정한다) \n",
    "``` python\n",
    "-1 1 \n",
    "-1 1 \n",
    "```"
   ]
  },
  {
   "cell_type": "code",
   "execution_count": 240,
   "id": "1787ae37-4f1a-454f-8eef-9bd56c70e447",
   "metadata": {},
   "outputs": [
    {
     "data": {
      "text/plain": [
       "<tf.Tensor: shape=(1, 6, 6), dtype=float64, numpy=\n",
       "array([[[0., 0., 0., 1., 1., 1.],\n",
       "        [0., 0., 0., 1., 1., 1.],\n",
       "        [0., 0., 0., 1., 1., 1.],\n",
       "        [0., 0., 0., 1., 1., 1.],\n",
       "        [0., 0., 0., 1., 1., 1.],\n",
       "        [0., 0., 0., 1., 1., 1.]]])>"
      ]
     },
     "execution_count": 240,
     "metadata": {},
     "output_type": "execute_result"
    }
   ],
   "source": [
    "XXX = tf.constant([[0,0,0,1,1,1],[0,0,0,1,1,1],[0,0,0,1,1,1],[0,0,0,1,1,1],[0,0,0,1,1,1],[0,0,0,1,1,1]],dtype=tf.float64).reshape(1,6,6,1)\n",
    "XXX.reshape(1,6,6)"
   ]
  },
  {
   "cell_type": "code",
   "execution_count": 241,
   "id": "48c0e1d8-9691-4e2a-9b0a-2db7b7ca3633",
   "metadata": {},
   "outputs": [],
   "source": [
    "conv = tf.keras.layers.Conv2D(1,(2,2))"
   ]
  },
  {
   "cell_type": "code",
   "execution_count": 242,
   "id": "99e58200-d304-43f9-b776-4b727e96250b",
   "metadata": {},
   "outputs": [
    {
     "data": {
      "text/plain": [
       "array([[[[ 0.32510954]],\n",
       "\n",
       "        [[-0.38077185]]],\n",
       "\n",
       "\n",
       "       [[[ 0.06901664]],\n",
       "\n",
       "        [[ 0.00975025]]]], dtype=float32)"
      ]
     },
     "execution_count": 242,
     "metadata": {},
     "output_type": "execute_result"
    }
   ],
   "source": [
    "conv(XXX)\n",
    "conv.get_weights()[0]"
   ]
  },
  {
   "cell_type": "code",
   "execution_count": 243,
   "id": "e6e73ae0-e401-4b1b-a497-a0f694031aef",
   "metadata": {},
   "outputs": [
    {
     "data": {
      "text/plain": [
       "(2, 2, 1, 1)"
      ]
     },
     "execution_count": 243,
     "metadata": {},
     "output_type": "execute_result"
    }
   ],
   "source": [
    "conv.get_weights()[0].shape"
   ]
  },
  {
   "cell_type": "code",
   "execution_count": 244,
   "id": "018b121a-af57-46ea-a1fe-c7e17cd20771",
   "metadata": {},
   "outputs": [],
   "source": [
    "w_ = np.array([[-1, 1], [-1, 1]], dtype=np.float32).reshape(2,2,1,1)\n",
    "b_ = np.array([0], dtype=np.float32)"
   ]
  },
  {
   "cell_type": "code",
   "execution_count": 245,
   "id": "4fd80573-0b20-4382-af94-861311a87c4b",
   "metadata": {},
   "outputs": [],
   "source": [
    "conv.set_weights([w_,b_])"
   ]
  },
  {
   "cell_type": "code",
   "execution_count": 246,
   "id": "ce1fa269-3aed-4be4-a381-13b7f57c545c",
   "metadata": {},
   "outputs": [
    {
     "data": {
      "text/plain": [
       "[array([[[[-1.]],\n",
       " \n",
       "         [[ 1.]]],\n",
       " \n",
       " \n",
       "        [[[-1.]],\n",
       " \n",
       "         [[ 1.]]]], dtype=float32),\n",
       " array([0.], dtype=float32)]"
      ]
     },
     "execution_count": 246,
     "metadata": {},
     "output_type": "execute_result"
    }
   ],
   "source": [
    "conv.get_weights()"
   ]
  },
  {
   "cell_type": "code",
   "execution_count": 247,
   "id": "2dd4d0a5-f657-4d5d-9bac-a8bad0e32d06",
   "metadata": {},
   "outputs": [
    {
     "data": {
      "text/plain": [
       "<tf.Tensor: shape=(1, 5, 5, 1), dtype=float32, numpy=\n",
       "array([[[[0.],\n",
       "         [0.],\n",
       "         [2.],\n",
       "         [0.],\n",
       "         [0.]],\n",
       "\n",
       "        [[0.],\n",
       "         [0.],\n",
       "         [2.],\n",
       "         [0.],\n",
       "         [0.]],\n",
       "\n",
       "        [[0.],\n",
       "         [0.],\n",
       "         [2.],\n",
       "         [0.],\n",
       "         [0.]],\n",
       "\n",
       "        [[0.],\n",
       "         [0.],\n",
       "         [2.],\n",
       "         [0.],\n",
       "         [0.]],\n",
       "\n",
       "        [[0.],\n",
       "         [0.],\n",
       "         [2.],\n",
       "         [0.],\n",
       "         [0.]]]], dtype=float32)>"
      ]
     },
     "execution_count": 247,
     "metadata": {},
     "output_type": "execute_result"
    }
   ],
   "source": [
    "conv(XXX)"
   ]
  },
  {
   "cell_type": "code",
   "execution_count": 248,
   "id": "4d3db0b5-f19a-4721-b298-45dbd0e92953",
   "metadata": {},
   "outputs": [
    {
     "data": {
      "text/plain": [
       "<tf.Tensor: shape=(1, 5, 5), dtype=float32, numpy=\n",
       "array([[[0., 0., 2., 0., 0.],\n",
       "        [0., 0., 2., 0., 0.],\n",
       "        [0., 0., 2., 0., 0.],\n",
       "        [0., 0., 2., 0., 0.],\n",
       "        [0., 0., 2., 0., 0.]]], dtype=float32)>"
      ]
     },
     "execution_count": 248,
     "metadata": {},
     "output_type": "execute_result"
    }
   ],
   "source": [
    "conv(XXX).reshape(1,5,5)"
   ]
  },
  {
   "cell_type": "markdown",
   "id": "45a7aeeb-7473-4397-beb2-b358c6656c02",
   "metadata": {},
   "source": [
    "- 계산결과 위의 값이 나왔다. "
   ]
  }
 ],
 "metadata": {
  "kernelspec": {
   "display_name": "Python 3 (ipykernel)",
   "language": "python",
   "name": "python3"
  },
  "language_info": {
   "codemirror_mode": {
    "name": "ipython",
    "version": 3
   },
   "file_extension": ".py",
   "mimetype": "text/x-python",
   "name": "python",
   "nbconvert_exporter": "python",
   "pygments_lexer": "ipython3",
   "version": "3.8.12"
  }
 },
 "nbformat": 4,
 "nbformat_minor": 5
}
