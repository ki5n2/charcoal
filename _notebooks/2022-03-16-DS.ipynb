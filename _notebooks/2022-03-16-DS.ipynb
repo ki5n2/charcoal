{
 "cells": [
  {
   "cell_type": "markdown",
   "id": "e8a6ee5f-f3b0-44ae-be1c-6a30b507fc7b",
   "metadata": {},
   "source": [
    "# 1.단순선형회귀\n",
    "> \"작성완료\"\n",
    "\n",
    "- toc:true\n",
    "- branch: master\n",
    "- badges: true\n",
    "- comments: true\n",
    "- [python, Data Science]"
   ]
  },
  {
   "cell_type": "markdown",
   "id": "a7e41ced-7718-45f2-9f60-352ccc85feff",
   "metadata": {},
   "source": [
    "---\n",
    "# Study Info\n",
    "- lenture: Data Science_1nd week of lectures.\n",
    "- lenture date: 2022-03-07\n",
    "- lecturer: Guebin choi\n",
    "- study date: 2022-03-16\n",
    "- author: Kione kim\n",
    "---"
   ]
  },
  {
   "cell_type": "markdown",
   "id": "962c9ed3-9540-4f95-b0f3-b87a00c25933",
   "metadata": {},
   "source": [
    "- 이번 학기동안 배울 것: DNN(심층신경망), CNN(합성곱신경망), GAN(적대적생성신경망)인데, DNN을 바로 이해하기 어렵다.\n",
    "\n",
    "- 따라서 다음의 과정을 학습한 후 심층 신경망으로 넘어갈 예정: (선형대수학 $\\to$) 회귀분석 $\\to$ 로지스틱회귀분석 $\\to$ 심층신경망 "
   ]
  },
  {
   "cell_type": "markdown",
   "id": "0653ff50-1b62-48d5-a83d-4f5cf21f4225",
   "metadata": {},
   "source": [
    "### 선형회귀"
   ]
  },
  {
   "cell_type": "markdown",
   "id": "01fbf43e-6518-4f89-a5a0-550c2377e37d",
   "metadata": {},
   "source": [
    "`-` 카페 예제\n",
    "- 온도가 높아지면 아이스아메리카노의 판매량이 증가한다는 사실을 알게 되었다.   \n",
    "- 일기예보를 통해, 온도 $\\to$ 아이스아메리카노 판매량 예측을 하고 싶다."
   ]
  },
  {
   "cell_type": "code",
   "execution_count": 36,
   "id": "bc2c2ed7-8291-4987-96e7-8591b00ad017",
   "metadata": {},
   "outputs": [],
   "source": [
    "import matplotlib.pyplot as plt \n",
    "import tensorflow as tf \n",
    "import numpy as np"
   ]
  },
  {
   "cell_type": "markdown",
   "id": "9f131e80-6813-4897-86f8-2a37893a41d3",
   "metadata": {},
   "source": [
    "`-` 자료생성"
   ]
  },
  {
   "cell_type": "code",
   "execution_count": 37,
   "id": "2a27a48d-3b91-4dfd-be0f-c17a58191417",
   "metadata": {},
   "outputs": [
    {
     "data": {
      "text/plain": [
       "<tf.Tensor: shape=(10,), dtype=float32, numpy=\n",
       "array([20.1, 22.2, 22.7, 23.3, 24.4, 25.1, 26.2, 27.3, 28.4, 30.4],\n",
       "      dtype=float32)>"
      ]
     },
     "execution_count": 37,
     "metadata": {},
     "output_type": "execute_result"
    }
   ],
   "source": [
    "x=tf.constant([20.1,22.2,22.7,23.3,24.4,25.1,26.2,27.3,28.4,30.4])\n",
    "x"
   ]
  },
  {
   "cell_type": "markdown",
   "id": "e842881c-0734-4ef6-85b3-6400fd61ea37",
   "metadata": {},
   "source": [
    "x와 y의 관계는 다음과 같이 가정\n",
    "$${\\bf y} \\approx 10.2 + 2.2{\\bf x}$$"
   ]
  },
  {
   "cell_type": "code",
   "execution_count": 38,
   "id": "6340a594-976b-4218-8c25-5d23b239d9ca",
   "metadata": {},
   "outputs": [
    {
     "data": {
      "text/plain": [
       "<tf.Tensor: shape=(10,), dtype=float32, numpy=\n",
       "array([53.68625 , 60.12511 , 58.93714 , 60.65312 , 64.45385 , 66.9807  ,\n",
       "       67.960144, 70.73565 , 72.87779 , 77.54677 ], dtype=float32)>"
      ]
     },
     "execution_count": 38,
     "metadata": {},
     "output_type": "execute_result"
    }
   ],
   "source": [
    "tf.random.set_seed(50000)\n",
    "epsilon = tf.random.normal([10])\n",
    "y = 10.2 + 2.2*x + epsilon\n",
    "y"
   ]
  },
  {
   "cell_type": "code",
   "execution_count": 39,
   "id": "ac080b03-a399-411b-b35d-4b45c6da8884",
   "metadata": {},
   "outputs": [
    {
     "data": {
      "text/plain": [
       "<tf.Tensor: shape=(10,), dtype=float32, numpy=\n",
       "array([20.1, 22.2, 22.7, 23.3, 24.4, 25.1, 26.2, 27.3, 28.4, 30.4],\n",
       "      dtype=float32)>"
      ]
     },
     "execution_count": 39,
     "metadata": {},
     "output_type": "execute_result"
    }
   ],
   "source": [
    "x"
   ]
  },
  {
   "cell_type": "code",
   "execution_count": 40,
   "id": "0f2d44a8-08da-4495-9feb-071d938398e7",
   "metadata": {},
   "outputs": [
    {
     "data": {
      "text/plain": [
       "<tf.Tensor: shape=(10,), dtype=float32, numpy=\n",
       "array([53.68625 , 60.12511 , 58.93714 , 60.65312 , 64.45385 , 66.9807  ,\n",
       "       67.960144, 70.73565 , 72.87779 , 77.54677 ], dtype=float32)>"
      ]
     },
     "execution_count": 40,
     "metadata": {},
     "output_type": "execute_result"
    }
   ],
   "source": [
    "y"
   ]
  },
  {
   "cell_type": "code",
   "execution_count": 41,
   "id": "35bb6714-24ce-4954-8117-4980c1e60833",
   "metadata": {},
   "outputs": [
    {
     "data": {
      "text/plain": [
       "<tf.Tensor: shape=(10, 2), dtype=float32, numpy=\n",
       "array([[20.1     , 53.68625 ],\n",
       "       [22.2     , 60.12511 ],\n",
       "       [22.7     , 58.93714 ],\n",
       "       [23.3     , 60.65312 ],\n",
       "       [24.4     , 64.45385 ],\n",
       "       [25.1     , 66.9807  ],\n",
       "       [26.2     , 67.960144],\n",
       "       [27.3     , 70.73565 ],\n",
       "       [28.4     , 72.87779 ],\n",
       "       [30.4     , 77.54677 ]], dtype=float32)>"
      ]
     },
     "execution_count": 41,
     "metadata": {},
     "output_type": "execute_result"
    }
   ],
   "source": [
    "data = tf.transpose(tf.concat([[x],[y]],0))\n",
    "data"
   ]
  },
  {
   "cell_type": "code",
   "execution_count": 42,
   "id": "7eb6907a-a37c-4f7e-8667-a432ed93a214",
   "metadata": {},
   "outputs": [
    {
     "data": {
      "text/plain": [
       "[<matplotlib.lines.Line2D at 0x1a1b1b0d340>]"
      ]
     },
     "execution_count": 42,
     "metadata": {},
     "output_type": "execute_result"
    },
    {
     "data": {
      "image/png": "[encoded data removed]",
      "text/plain": [
       "<Figure size 432x288 with 1 Axes>"
      ]
     },
     "metadata": {
      "needs_background": "light"
     },
     "output_type": "display_data"
    }
   ],
   "source": [
    "plt.plot(x,y,'.')\n",
    "plt.plot(x,10.2+2.2*x,'--')"
   ]
  },
  {
   "cell_type": "markdown",
   "id": "dc395274-c5d9-4055-876c-d9812159be12",
   "metadata": {},
   "source": [
    "- 파란색 점: 데이터, 주황색 점선: 법칙\n",
    "- 위 그림을 보니 $x$와 $y$가 선형관계가 있는 것처럼 보인다. 즉 아래의 식을 만족하는 $\\beta_0, \\beta_1$가 있을 것 같다.\n",
    "- $y_{i} \\approx \\beta_1 x_{i}+\\beta_0$"
   ]
  },
  {
   "cell_type": "code",
   "execution_count": 43,
   "id": "b746b480-38d3-4e78-9d6d-92d5a67354f4",
   "metadata": {},
   "outputs": [
    {
     "data": {
      "text/plain": [
       "<tf.Tensor: shape=(10, 2), dtype=float32, numpy=\n",
       "array([[20.1     , 53.68625 ],\n",
       "       [22.2     , 60.12511 ],\n",
       "       [22.7     , 58.93714 ],\n",
       "       [23.3     , 60.65312 ],\n",
       "       [24.4     , 64.45385 ],\n",
       "       [25.1     , 66.9807  ],\n",
       "       [26.2     , 67.960144],\n",
       "       [27.3     , 70.73565 ],\n",
       "       [28.4     , 72.87779 ],\n",
       "       [30.4     , 77.54677 ]], dtype=float32)>"
      ]
     },
     "execution_count": 43,
     "metadata": {},
     "output_type": "execute_result"
    }
   ],
   "source": [
    "data"
   ]
  },
  {
   "cell_type": "markdown",
   "id": "296e333a-412c-4152-b25f-58268e5c2671",
   "metadata": {},
   "source": [
    "`-` 점원 A는 $\\beta_0=15, \\beta_1=2$일 것이라고 주장하였고 점원 B는 $\\beta_0=15.5, \\beta_1=2$일 것이라고 주장하였다.\n",
    "- 점원 A: $(\\beta_0, \\beta_1)$ = $(15,2)$ \n",
    "- 점원 B: $(\\beta_0, \\beta_1)$ = $(15.5,2)$"
   ]
  },
  {
   "cell_type": "markdown",
   "id": "c06eec25-a682-448b-af03-04b4b7c726eb",
   "metadata": {},
   "source": [
    "#### 잔차제곱합"
   ]
  },
  {
   "cell_type": "markdown",
   "id": "d9b31840-9a4f-40dd-ae7d-759d30d25a06",
   "metadata": {},
   "source": [
    "`-` $y_{i} \\approx \\beta_0 + \\beta_1$을 최소로 하는 $(\\beta_0,\\beta_1)$을 찾아보자"
   ]
  },
  {
   "cell_type": "markdown",
   "id": "0a0718cb-e961-41db-bd13-f4f7d181ffa8",
   "metadata": {},
   "source": [
    "`-` 잔체제곱합을 통한 점원 A, 점원 B 추정치 비교 "
   ]
  },
  {
   "cell_type": "code",
   "execution_count": 44,
   "id": "0aa7cf9e-447d-4010-acf1-1972da9d7058",
   "metadata": {},
   "outputs": [
    {
     "data": {
      "text/plain": [
       "(55.2, 53.68625)"
      ]
     },
     "execution_count": 44,
     "metadata": {},
     "output_type": "execute_result"
    }
   ],
   "source": [
    "20.1*2 + 15, 53.68625 "
   ]
  },
  {
   "cell_type": "code",
   "execution_count": 45,
   "id": "d1d028fc-e160-447b-b28c-746ec4b7b63b",
   "metadata": {},
   "outputs": [
    {
     "data": {
      "text/plain": [
       "(59.4, 60.12511)"
      ]
     },
     "execution_count": 45,
     "metadata": {},
     "output_type": "execute_result"
    }
   ],
   "source": [
    "22.2*2 + 15, 60.12511  "
   ]
  },
  {
   "cell_type": "code",
   "execution_count": 46,
   "id": "b6ffb1c1-9a4b-470d-8acb-29760df7b804",
   "metadata": {},
   "outputs": [
    {
     "data": {
      "text/plain": [
       "(55.7, 53.68625)"
      ]
     },
     "execution_count": 46,
     "metadata": {},
     "output_type": "execute_result"
    }
   ],
   "source": [
    "20.1*2 + 15.5, 53.68625 "
   ]
  },
  {
   "cell_type": "code",
   "execution_count": 47,
   "id": "40d1671b-3b01-461f-84c6-c4c7d2a86938",
   "metadata": {},
   "outputs": [
    {
     "data": {
      "text/plain": [
       "(59.9, 60.12511)"
      ]
     },
     "execution_count": 47,
     "metadata": {},
     "output_type": "execute_result"
    }
   ],
   "source": [
    "22.2*2 + 15.5, 60.12511 "
   ]
  },
  {
   "cell_type": "markdown",
   "id": "86a0efdc-10bb-421d-80ef-2831924c7025",
   "metadata": {},
   "source": [
    "- $i=1$일 때 점원 A의 주장이 더 잘 맞고 $i=2$일 때 점원 B의 주장이 더 잘 맞는다."
   ]
  },
  {
   "cell_type": "markdown",
   "id": "39897260-b0f2-4631-b56e-5b73cd73ec23",
   "metadata": {},
   "source": [
    "`-` for 문을 사용하여 $\\sum_{i=1}^{10} (y_i -\\beta_0 -\\beta_1 x_i)^2$를 계산하여 비교해보자"
   ]
  },
  {
   "cell_type": "code",
   "execution_count": 48,
   "id": "6619d040-2ca2-46aa-a40f-9ad5a23c1a9e",
   "metadata": {},
   "outputs": [],
   "source": [
    "sum1=0\n",
    "for i in range(10):\n",
    "    sum1=sum1+(y[i]-15-2*x[i])**2"
   ]
  },
  {
   "cell_type": "code",
   "execution_count": 49,
   "id": "d22f723c-1de4-4e9c-9b06-c13757e03476",
   "metadata": {},
   "outputs": [],
   "source": [
    "sum2=0\n",
    "for i in range(10):\n",
    "    sum2=sum2+(y[i]-15.5-2*x[i])**2"
   ]
  },
  {
   "cell_type": "code",
   "execution_count": 50,
   "id": "a139530f-9a05-45f9-a92a-b54cf41f57fb",
   "metadata": {},
   "outputs": [
    {
     "data": {
      "text/plain": [
       "<tf.Tensor: shape=(), dtype=float32, numpy=15.268475>"
      ]
     },
     "execution_count": 50,
     "metadata": {},
     "output_type": "execute_result"
    }
   ],
   "source": [
    "sum1"
   ]
  },
  {
   "cell_type": "code",
   "execution_count": 51,
   "id": "b5f5ab26-9b52-4c7b-88e8-af862fbeae2d",
   "metadata": {},
   "outputs": [
    {
     "data": {
      "text/plain": [
       "<tf.Tensor: shape=(), dtype=float32, numpy=14.011955>"
      ]
     },
     "execution_count": 51,
     "metadata": {},
     "output_type": "execute_result"
    }
   ],
   "source": [
    "sum2"
   ]
  },
  {
   "cell_type": "markdown",
   "id": "45f89c57-bb5f-4a5f-9e78-3c6f27957183",
   "metadata": {},
   "source": [
    "\n",
    "- 점원 B의 추정치의 잔차제곱합이 조금 더 작다 $\\to$ 점원 B의 주장이 더 적합하다   \n",
    "- 이 과정을 반복하면 최적의 추정치를 계산해낼 수 있을 것 같다."
   ]
  },
  {
   "cell_type": "markdown",
   "id": "c0d635ad-d965-454f-9cb3-28ce29ff4139",
   "metadata": {},
   "source": [
    "`-` 그러나 현실적으로 구현하기 어렵다\n",
    "\n",
    ": 왜냐하면 잔차제곱합이 0이 되지 않는다면, 무엇이 최적의 추정치인지 알 수 없다. 잔차제곱합이 0이 아니라면 항상 더 적합한 추정치가 있을 수도 있기 때문"
   ]
  },
  {
   "cell_type": "markdown",
   "id": "25a7d090-c708-40af-b845-70a92bf3791c",
   "metadata": {},
   "source": [
    "`-` 수식을 활용하여 찾아볼 수 있다"
   ]
  },
  {
   "cell_type": "markdown",
   "id": "6675bb21-04d1-486c-9391-cd3369bc19cb",
   "metadata": {},
   "source": [
    "$\\sum_{i=1}^{10} (y_i -\\beta_0 -\\beta_1 x_i)^2$를 최소화하는 $\\beta_0, \\beta_1$을 찾으면 되는데, 이는 아래와 같이 $\\beta_0, \\beta_1$으로 각각 편미분하여 연립하여 풀면 된다."
   ]
  },
  {
   "cell_type": "markdown",
   "id": "b130c841-6a6a-4a59-910c-8824c0bd89b0",
   "metadata": {},
   "source": [
    "$\\begin{cases}\n",
    "\\frac{\\partial}{\\partial \\beta_0}\\sum_{i=1}^{10} (y_i -\\beta_0 -\\beta_1 x_i)^2=0 \\\\ \n",
    "\\frac{\\partial}{\\partial \\beta_1}\\sum_{i=1}^{10} (y_i -\\beta_0 -\\beta_1 x_i)^2=0\n",
    "\\end{cases}$"
   ]
  },
  {
   "cell_type": "markdown",
   "id": "e47d0111-56d9-4c19-a0f6-669897722f94",
   "metadata": {},
   "source": [
    "위 연립방정식을 편미분하면 다음과 같이 된다.\n",
    "\n",
    "$\\begin{cases}\n",
    "\\sum_{i=1}^{10} -2(y_i -\\beta_0 -\\beta_1 x_i)=0 \\\\ \n",
    "\\sum_{i=1}^{10} -2x_i(y_i -\\beta_0 -\\beta_1 x_i)=0\n",
    "\\end{cases}$"
   ]
  },
  {
   "cell_type": "markdown",
   "id": "8bd071b6-0ddc-44e0-844e-7ca9f965d60e",
   "metadata": {},
   "source": [
    "이를 정리하면 \n",
    "\n",
    "$$\\hat{\\beta}_0= \\bar{y}-\\hat{\\beta}_1 \\bar{x}$$\n",
    "\n",
    "$$\\hat{\\beta}_1= \\frac{S_{xy}}{S_{xx}}=\\frac{\\sum_{i=1}^{n}(x_i-\\bar{x})(y_i-\\bar{y})}{\\sum_{i=1}^{n}(x_i-\\bar{x})^2}$$\n",
    "\n",
    "최적의 추정치$(\\hat{\\beta}_0,\\hat{\\beta}_1)$를 구할 수 있고 이를 통해 추세선을 그려볼 수 있다"
   ]
  },
  {
   "cell_type": "markdown",
   "id": "0e5f8827-c01d-4b2f-b8e2-262703e03a2a",
   "metadata": {},
   "source": [
    "`-` 추정치는 다음과 같이 구할 수 있다."
   ]
  },
  {
   "cell_type": "code",
   "execution_count": 52,
   "id": "dd7f83f8-e888-4f4b-b19a-ee3062dfc824",
   "metadata": {},
   "outputs": [
    {
     "data": {
      "text/plain": [
       "<tf.Tensor: shape=(), dtype=float32, numpy=87.84898>"
      ]
     },
     "execution_count": 52,
     "metadata": {},
     "output_type": "execute_result"
    }
   ],
   "source": [
    "Sxx = sum((x-np.mean(x))**2)\n",
    "Sxx"
   ]
  },
  {
   "cell_type": "code",
   "execution_count": 53,
   "id": "a345609f-3d11-470b-b04c-14fe16949b68",
   "metadata": {},
   "outputs": [
    {
     "data": {
      "text/plain": [
       "<tf.Tensor: shape=(), dtype=float32, numpy=202.18872>"
      ]
     },
     "execution_count": 53,
     "metadata": {},
     "output_type": "execute_result"
    }
   ],
   "source": [
    "Sxy = sum((x-np.mean(x))*(y-np.mean(y)))\n",
    "Sxy"
   ]
  },
  {
   "cell_type": "code",
   "execution_count": 54,
   "id": "08a022f2-3c50-44a0-821a-611745de885d",
   "metadata": {},
   "outputs": [
    {
     "data": {
      "text/plain": [
       "<tf.Tensor: shape=(), dtype=float32, numpy=2.3015487>"
      ]
     },
     "execution_count": 54,
     "metadata": {},
     "output_type": "execute_result"
    }
   ],
   "source": [
    "beta_1_est = Sxy/Sxx\n",
    "beta_1_est"
   ]
  },
  {
   "cell_type": "code",
   "execution_count": 55,
   "id": "f6d9d23b-cff1-4e2b-af58-98d137000ff9",
   "metadata": {},
   "outputs": [
    {
     "data": {
      "text/plain": [
       "<tf.Tensor: shape=(), dtype=float32, numpy=7.8339195>"
      ]
     },
     "execution_count": 55,
     "metadata": {},
     "output_type": "execute_result"
    }
   ],
   "source": [
    "beta_0_est = np.mean(y) - beta_1_est*np.mean(x)\n",
    "beta_0_est"
   ]
  },
  {
   "cell_type": "markdown",
   "id": "c445ba98-d92a-40ab-846f-5ef4611c0c4a",
   "metadata": {},
   "source": [
    "`-` 그림을 그려보자"
   ]
  },
  {
   "cell_type": "code",
   "execution_count": 56,
   "id": "5eeea6cf-3410-4572-8d5c-968afe9e190c",
   "metadata": {},
   "outputs": [
    {
     "data": {
      "text/plain": [
       "[<matplotlib.lines.Line2D at 0x1a1b1b5cee0>]"
      ]
     },
     "execution_count": 56,
     "metadata": {},
     "output_type": "execute_result"
    },
    {
     "data": {
      "image/png": "[encoded data removed]",
      "text/plain": [
       "<Figure size 432x288 with 1 Axes>"
      ]
     },
     "metadata": {
      "needs_background": "light"
     },
     "output_type": "display_data"
    }
   ],
   "source": [
    "plt.plot(x,y,'.')\n",
    "plt.plot(x,beta_0_est + beta_1_est*x,'--')\n",
    "plt.plot(x,10.2+2.2*x,'--') # 세상의 법칙"
   ]
  },
  {
   "cell_type": "markdown",
   "id": "e086b58b-a9a2-4d6f-88fb-c57b94d8c279",
   "metadata": {},
   "source": [
    "`-` 샘플수가 커질수록 주황색 선은 점점 초록색 선과 유사해진다."
   ]
  },
  {
   "cell_type": "markdown",
   "id": "91a4d22d-7e73-4705-a483-7d3723515d6f",
   "metadata": {},
   "source": [
    "- 이는 매우 좋은 접근법이지만, 확장성이 떨어진다는 치명적 단점이 있다"
   ]
  },
  {
   "cell_type": "markdown",
   "id": "e220dd51-90d5-41cd-b611-6d9be8dcf839",
   "metadata": {},
   "source": [
    "`-` 매트릭스를 통해 확장성을 개선할 수 있다"
   ]
  },
  {
   "cell_type": "markdown",
   "id": "25e86042-c046-4fa3-9e02-1cc8034207ff",
   "metadata": {},
   "source": [
    "#### 모형의 매트릭스화"
   ]
  },
  {
   "cell_type": "markdown",
   "id": "5b110470-e537-48ad-820f-31f5ab270e2b",
   "metadata": {},
   "source": [
    "`-` 우리의 모형\n",
    "\n",
    "$y_i = \\beta_0 + \\beta_1 x_i + \\epsilon_i, \\quad i=1,2,\\dots,10$ "
   ]
  },
  {
   "cell_type": "markdown",
   "id": "8a883d66-c9cb-4c86-861b-99f122f953b3",
   "metadata": {},
   "source": [
    "이를 풀어서 쓰면\n",
    "    \n",
    "$\\begin{cases}\n",
    "y_1 = \\beta_0 +\\beta_1 x_1 + \\epsilon_1 \\\\ \n",
    "y_2 = \\beta_0 +\\beta_1 x_2 + \\epsilon_2 \\\\ \n",
    "\\dots \\\\ \n",
    "y_{10} = \\beta_0 +\\beta_1 x_{10} + \\epsilon_{10} \n",
    "\\end{cases}$"
   ]
  },
  {
   "cell_type": "markdown",
   "id": "b7867bc6-6c40-49b5-af1a-2536ac3e0b11",
   "metadata": {},
   "source": [
    "아래와 같다.\n",
    "\n",
    "$\\begin{bmatrix} \n",
    "y_1 \\\\ \n",
    "y_2 \\\\ \n",
    "\\dots \\\\\n",
    "y_{10} \n",
    "\\end{bmatrix} \n",
    "= \\begin{bmatrix} \n",
    "1 & x_1 \\\\ \n",
    "1 & x_2 \\\\ \n",
    "\\dots & \\dots \\\\\n",
    "1 & x_{10} \n",
    "\\end{bmatrix}\\begin{bmatrix}\\beta_0 \\\\ \\beta_1 \\end{bmatrix} + \\begin{bmatrix} \n",
    "\\epsilon_1 \\\\ \n",
    "\\epsilon_2 \\\\ \n",
    "\\dots \\\\\n",
    "\\epsilon_{10} \n",
    "\\end{bmatrix} $"
   ]
  },
  {
   "cell_type": "markdown",
   "id": "0c22fd11-8330-4fcb-b4eb-86b6e68a78c5",
   "metadata": {},
   "source": [
    "벡터와 매트릭스 형태로 표현하면\n",
    "\n",
    "${\\bf y} = {\\bf X} {\\boldsymbol \\beta} + \\boldsymbol{\\epsilon}$"
   ]
  },
  {
   "cell_type": "markdown",
   "id": "53e2a52d-6be9-4e66-9330-fdab49eb073e",
   "metadata": {},
   "source": [
    "`-` 손실함수의 매트릭스화"
   ]
  },
  {
   "cell_type": "markdown",
   "id": "949d20fc-fcf5-44b8-ba6d-3c8832fbe3f8",
   "metadata": {},
   "source": [
    "$loss=\\sum_{i=1}^{n}(y_i-\\beta_0-\\beta_1x_i)^2$"
   ]
  },
  {
   "cell_type": "markdown",
   "id": "b78253e8-58b1-4611-8541-8b1f56223be0",
   "metadata": {},
   "source": [
    "이를 벡터로 표현하면,\n",
    "\n",
    "$loss=({\\bf y}-{\\bf X}{\\boldsymbol \\beta})^\\top({\\bf y}-{\\bf X}{\\boldsymbol \\beta})={\\bf y}^\\top {\\bf y} - {\\bf y}^\\top {\\bf X}{\\boldsymbol\\beta} - {\\boldsymbol\\beta}^\\top {\\bf X}^\\top {\\bf y} + {\\boldsymbol\\beta}^\\top {\\bf X}^\\top {\\bf X} {\\boldsymbol\\beta}$"
   ]
  },
  {
   "cell_type": "markdown",
   "id": "31688a61-141c-4efb-807a-aa3b9c573647",
   "metadata": {},
   "source": [
    "`-` 미분하는 과정의 매트릭스화 \n",
    "\n",
    "loss를 최소화하는 ${\\boldsymbol \\beta}$를 구해야하므로 loss를 ${\\boldsymbol \\beta}$로 미분한식을 0이라고 놓고 풀면 된다. "
   ]
  },
  {
   "cell_type": "markdown",
   "id": "1950678f-ae6e-44b5-a75f-b981594c08b0",
   "metadata": {},
   "source": [
    "$\\frac{\\partial}{\\partial \\boldsymbol{\\beta}} loss = \\frac{\\partial}{\\partial \\boldsymbol{\\beta}} {\\bf y}^\\top {\\bf y} - \\frac{\\partial}{\\partial \\boldsymbol{\\beta}} {\\bf y}^\\top {\\bf X}{\\boldsymbol\\beta} - \\frac{\\partial}{\\partial \\boldsymbol{\\beta}} {\\boldsymbol\\beta}^\\top {\\bf X}^\\top {\\bf y} + \\frac{\\partial}{\\partial \\boldsymbol{\\beta}} {\\boldsymbol\\beta}^\\top {\\bf X}^\\top {\\bf X} {\\boldsymbol\\beta}$ "
   ]
  },
  {
   "cell_type": "markdown",
   "id": "ad37c04d-81d5-47f9-bb65-a359aed561a3",
   "metadata": {},
   "source": [
    "$= 0 - {\\bf X}^\\top {\\bf y}- {\\bf X}^\\top {\\bf y} + 2{\\bf X}^\\top {\\bf X} = - 2{\\bf X}^\\top {\\bf y} + 2{\\bf X}^\\top {\\bf X}{\\boldsymbol\\beta} $"
   ]
  },
  {
   "cell_type": "markdown",
   "id": "ac2f507b-bf19-44df-aa3a-4d3cff0e5c92",
   "metadata": {},
   "source": [
    "따라서 $\\frac{\\partial}{\\partial \\boldsymbol{\\beta}}loss=0$을 풀면 아래와 같다. \n",
    "\n",
    "$ 2{\\bf X}^\\top {\\bf y} = 2{\\bf X}^\\top {\\bf X}{\\boldsymbol\\beta}$ \n",
    "\n",
    "$ {\\bf X}^\\top {\\bf X}{\\boldsymbol\\beta} = {\\bf X}^\\top {\\bf y}$ "
   ]
  },
  {
   "cell_type": "markdown",
   "id": "e89c2d77-3262-4910-9b3e-a4404c6a2841",
   "metadata": {},
   "source": [
    "$\\boldsymbol{\\hat\\beta}= ({\\bf X}^\\top {\\bf X})^{-1}{\\bf X}^\\top {\\bf y} $"
   ]
  },
  {
   "cell_type": "markdown",
   "id": "8b5a8bb4-79a4-4d3c-8e4a-0a827484960e",
   "metadata": {},
   "source": [
    "`-` 적용"
   ]
  },
  {
   "cell_type": "code",
   "execution_count": 59,
   "id": "03a2c588-594d-4505-8eef-c12fb6fcb8f6",
   "metadata": {},
   "outputs": [
    {
     "data": {
      "text/plain": [
       "<tf.Tensor: shape=(10,), dtype=float32, numpy=\n",
       "array([20.1, 22.2, 22.7, 23.3, 24.4, 25.1, 26.2, 27.3, 28.4, 30.4],\n",
       "      dtype=float32)>"
      ]
     },
     "execution_count": 59,
     "metadata": {},
     "output_type": "execute_result"
    }
   ],
   "source": [
    "x=tf.constant([20.1,22.2,22.7,23.3,24.4,25.1,26.2,27.3,28.4,30.4])\n",
    "x"
   ]
  },
  {
   "cell_type": "code",
   "execution_count": 60,
   "id": "e5561bd5-e234-42da-91ba-1c18372980fe",
   "metadata": {},
   "outputs": [
    {
     "data": {
      "text/plain": [
       "<tf.Tensor: shape=(10,), dtype=float32, numpy=\n",
       "array([53.68625 , 60.12511 , 58.93714 , 60.65312 , 64.45385 , 66.9807  ,\n",
       "       67.960144, 70.73565 , 72.87779 , 77.54677 ], dtype=float32)>"
      ]
     },
     "execution_count": 60,
     "metadata": {},
     "output_type": "execute_result"
    }
   ],
   "source": [
    "tf.random.set_seed(50000)\n",
    "epsilon = tf.random.normal([10])\n",
    "y = 10.2 + 2.2*x + epsilon\n",
    "y"
   ]
  },
  {
   "cell_type": "markdown",
   "id": "92b0ef4c-5d55-42c1-8e4b-a5ebb06de1fe",
   "metadata": {},
   "source": [
    "`-` 방법 1"
   ]
  },
  {
   "cell_type": "code",
   "execution_count": 61,
   "id": "39f2d4d5-d134-45a3-ac1b-bc25ba1e8cc7",
   "metadata": {},
   "outputs": [
    {
     "data": {
      "text/plain": [
       "<tf.Tensor: shape=(2, 10), dtype=int32, numpy=\n",
       "array([[ 1,  1,  1,  1,  1,  1,  1,  1,  1,  1],\n",
       "       [20, 22, 22, 23, 24, 25, 26, 27, 28, 30]])>"
      ]
     },
     "execution_count": 61,
     "metadata": {},
     "output_type": "execute_result"
    }
   ],
   "source": [
    "tf.concat([[[1]*10],[x]],0)"
   ]
  },
  {
   "cell_type": "code",
   "execution_count": 62,
   "id": "837d5d34-83bc-46cc-8e45-8c81e3369d62",
   "metadata": {},
   "outputs": [
    {
     "data": {
      "text/plain": [
       "<tf.Tensor: shape=(10, 2), dtype=int32, numpy=\n",
       "array([[ 1, 20],\n",
       "       [ 1, 22],\n",
       "       [ 1, 22],\n",
       "       [ 1, 23],\n",
       "       [ 1, 24],\n",
       "       [ 1, 25],\n",
       "       [ 1, 26],\n",
       "       [ 1, 27],\n",
       "       [ 1, 28],\n",
       "       [ 1, 30]])>"
      ]
     },
     "execution_count": 62,
     "metadata": {},
     "output_type": "execute_result"
    }
   ],
   "source": [
    "X = tf.transpose(tf.concat([[[1]*10],[x]],0))\n",
    "X"
   ]
  },
  {
   "cell_type": "markdown",
   "id": "fcddd663-4530-46a3-bca3-24ac915bd990",
   "metadata": {},
   "source": [
    "`-` 방법 2"
   ]
  },
  {
   "cell_type": "code",
   "execution_count": 63,
   "id": "1e370acc-7d59-4ee4-9961-e2f97250cc80",
   "metadata": {},
   "outputs": [],
   "source": [
    "from tensorflow.python.ops.numpy_ops import np_config\n",
    "np_config.enable_numpy_behavior()"
   ]
  },
  {
   "cell_type": "code",
   "execution_count": 68,
   "id": "774dc03e-0bd0-4087-9732-9f863a4e6c83",
   "metadata": {},
   "outputs": [
    {
     "data": {
      "text/plain": [
       "<tf.Tensor: shape=(10, 2), dtype=float32, numpy=\n",
       "array([[ 1. , 20.1],\n",
       "       [ 1. , 22.2],\n",
       "       [ 1. , 22.7],\n",
       "       [ 1. , 23.3],\n",
       "       [ 1. , 24.4],\n",
       "       [ 1. , 25.1],\n",
       "       [ 1. , 26.2],\n",
       "       [ 1. , 27.3],\n",
       "       [ 1. , 28.4],\n",
       "       [ 1. , 30.4]], dtype=float32)>"
      ]
     },
     "execution_count": 68,
     "metadata": {},
     "output_type": "execute_result"
    }
   ],
   "source": [
    "X = tf.concat([[[1.0]*10],[x]],0).T\n",
    "X"
   ]
  },
  {
   "cell_type": "markdown",
   "id": "53190c65-acc7-454e-b9c9-582754ecd767",
   "metadata": {},
   "source": [
    "$\\boldsymbol{\\hat\\beta}= ({\\bf X}^\\top {\\bf X})^{-1}{\\bf X}^\\top {\\bf y} $"
   ]
  },
  {
   "cell_type": "markdown",
   "id": "bd9babb7-c99e-472e-aefc-e75df53f0ceb",
   "metadata": {},
   "source": [
    "`-` 깨알문법\n",
    "1. 역행렬 `tf.linalg.inv`사용\n",
    "2.행렬 간 곱 `@` 사용"
   ]
  },
  {
   "cell_type": "code",
   "execution_count": 69,
   "id": "3952a54b-1ac7-4fb0-beca-dd0c4ce881ee",
   "metadata": {},
   "outputs": [
    {
     "data": {
      "text/plain": [
       "<tf.Tensor: shape=(2,), dtype=float32, numpy=array([7.834038 , 2.3015506], dtype=float32)>"
      ]
     },
     "execution_count": 69,
     "metadata": {},
     "output_type": "execute_result"
    }
   ],
   "source": [
    "tf.linalg.inv(X.T @ X) @X.T @y"
   ]
  },
  {
   "cell_type": "code",
   "execution_count": 70,
   "id": "dea7d229-491b-4de5-8b24-32ddf1901baf",
   "metadata": {},
   "outputs": [
    {
     "data": {
      "text/plain": [
       "(<tf.Tensor: shape=(), dtype=float32, numpy=7.8339195>,\n",
       " <tf.Tensor: shape=(), dtype=float32, numpy=2.3015487>)"
      ]
     },
     "execution_count": 70,
     "metadata": {},
     "output_type": "execute_result"
    }
   ],
   "source": [
    "beta_0_est, beta_1_est"
   ]
  },
  {
   "cell_type": "markdown",
   "id": "1f7edd54-9ca2-4ac8-b06b-2480af9b73f3",
   "metadata": {},
   "source": [
    "- 그런데 값이 다르다...?\n",
    "\n",
    "- 이유는 텐서플로우가 효율적 계산을 위해 조금 대충 계산하기 때문"
   ]
  },
  {
   "cell_type": "markdown",
   "id": "f89b237f-3a6b-47fa-b388-dc3255e3101a",
   "metadata": {},
   "source": [
    "`-` 텐서플로우 내에 내장되어 있는 텐서플로우용 넘파이를 이용하여 다시 계산해보자"
   ]
  },
  {
   "cell_type": "code",
   "execution_count": 71,
   "id": "7cf60acb-b6d3-4e0b-a12c-16fffd3aea98",
   "metadata": {},
   "outputs": [],
   "source": [
    "import tensorflow.experimental.numpy as tnp"
   ]
  },
  {
   "cell_type": "code",
   "execution_count": 74,
   "id": "dec976a5-0815-47db-ae8b-082d0aa143e4",
   "metadata": {},
   "outputs": [
    {
     "data": {
      "text/plain": [
       "<tf.Tensor: shape=(10,), dtype=float32, numpy=\n",
       "array([20.1, 22.2, 22.7, 23.3, 24.4, 25.1, 26.2, 27.3, 28.4, 30.4],\n",
       "      dtype=float32)>"
      ]
     },
     "execution_count": 74,
     "metadata": {},
     "output_type": "execute_result"
    }
   ],
   "source": [
    "x=tf.constant([20.1,22.2,22.7,23.3,24.4,25.1,26.2,27.3,28.4,30.4])\n",
    "x"
   ]
  },
  {
   "cell_type": "code",
   "execution_count": 75,
   "id": "0bb918b8-c507-42ab-b106-5d07ddf15163",
   "metadata": {},
   "outputs": [
    {
     "data": {
      "text/plain": [
       "<tf.Tensor: shape=(10,), dtype=float32, numpy=\n",
       "array([53.68625 , 60.12511 , 58.93714 , 60.65312 , 64.45385 , 66.9807  ,\n",
       "       67.960144, 70.73565 , 72.87779 , 77.54677 ], dtype=float32)>"
      ]
     },
     "execution_count": 75,
     "metadata": {},
     "output_type": "execute_result"
    }
   ],
   "source": [
    "y = 10.2 + 2.2*x + epsilon\n",
    "y"
   ]
  },
  {
   "cell_type": "markdown",
   "id": "85afd11a-5a97-4949-b679-df192bcb04e1",
   "metadata": {},
   "source": [
    "`-` 공식을 이용한 풀이"
   ]
  },
  {
   "cell_type": "code",
   "execution_count": 77,
   "id": "d8ea1fcb-926f-4e8c-b442-c11d2b9dfce3",
   "metadata": {},
   "outputs": [],
   "source": [
    "beta1_est = sum((x-np.mean(x))*(y-np.mean(y))) / sum((x-np.mean(x))**2) ## Sxy/Sxx\n",
    "beta0_est = np.mean(y) - beta1_est * np.mean(x)"
   ]
  },
  {
   "cell_type": "code",
   "execution_count": 79,
   "id": "77818d53-e6b1-4665-9591-96aa7d79e2b8",
   "metadata": {},
   "outputs": [
    {
     "data": {
      "text/plain": [
       "(<tf.Tensor: shape=(), dtype=float32, numpy=7.8339195>,\n",
       " <tf.Tensor: shape=(), dtype=float32, numpy=2.3015487>)"
      ]
     },
     "execution_count": 79,
     "metadata": {},
     "output_type": "execute_result"
    }
   ],
   "source": [
    "beta0_est, beta1_est"
   ]
  },
  {
   "cell_type": "markdown",
   "id": "268d667b-fe63-4176-b3eb-5f72e261df8b",
   "metadata": {},
   "source": [
    "`-` 벡터를 이용한 풀이"
   ]
  },
  {
   "cell_type": "code",
   "execution_count": 80,
   "id": "e9706084-f0ff-4ecb-ad6b-9c02b90f21fa",
   "metadata": {},
   "outputs": [
    {
     "data": {
      "text/plain": [
       "<tf.Tensor: shape=(10, 2), dtype=float64, numpy=\n",
       "array([[ 1.        , 20.10000038],\n",
       "       [ 1.        , 22.20000076],\n",
       "       [ 1.        , 22.70000076],\n",
       "       [ 1.        , 23.29999924],\n",
       "       [ 1.        , 24.39999962],\n",
       "       [ 1.        , 25.10000038],\n",
       "       [ 1.        , 26.20000076],\n",
       "       [ 1.        , 27.29999924],\n",
       "       [ 1.        , 28.39999962],\n",
       "       [ 1.        , 30.39999962]])>"
      ]
     },
     "execution_count": 80,
     "metadata": {},
     "output_type": "execute_result"
    }
   ],
   "source": [
    "X = tnp.concatenate([[tnp.array([1.0]*10)],[x]],0).T\n",
    "X"
   ]
  },
  {
   "cell_type": "code",
   "execution_count": 81,
   "id": "7dd60d24-93a5-46b1-a5a7-bb4379b2c787",
   "metadata": {},
   "outputs": [
    {
     "data": {
      "text/plain": [
       "<tf.Tensor: shape=(2,), dtype=float64, numpy=array([7.83391429, 2.30154889])>"
      ]
     },
     "execution_count": 81,
     "metadata": {},
     "output_type": "execute_result"
    }
   ],
   "source": [
    "tf.linalg.inv(X.T @ X) @X.T @ y"
   ]
  },
  {
   "cell_type": "markdown",
   "id": "6b55484a-358f-4513-8392-f56676bb1e22",
   "metadata": {},
   "source": [
    "- 거의 유사한 값이 나온다"
   ]
  },
  {
   "cell_type": "markdown",
   "id": "721ee407-461d-49b2-a3a1-06e284b08bae",
   "metadata": {},
   "source": [
    "##### 결론"
   ]
  },
  {
   "cell_type": "markdown",
   "id": "39af2532-7a00-46db-a61e-6314f6712cc4",
   "metadata": {},
   "source": [
    "벡터를 이용하여 `tf.linalg.inv(X.T @ X) @X.T @ y`를 계산하면 바로 $\\beta$값이 바로 나온다."
   ]
  }
 ],
 "metadata": {
  "kernelspec": {
   "display_name": "Python 3 (ipykernel)",
   "language": "python",
   "name": "python3"
  },
  "language_info": {
   "codemirror_mode": {
    "name": "ipython",
    "version": 3
   },
   "file_extension": ".py",
   "mimetype": "text/x-python",
   "name": "python",
   "nbconvert_exporter": "python",
   "pygments_lexer": "ipython3",
   "version": "3.8.12"
  }
 },
 "nbformat": 4,
 "nbformat_minor": 5
}
