{
 "cells": [
  {
   "cell_type": "markdown",
   "id": "2fead6ae-37f4-42b9-873e-d9d21075c4c1",
   "metadata": {},
   "source": [
    "# DS 2. Tensorflow 기본 문법 - tf.constant\n",
    "\n",
    "> \"작성완료\"\n",
    "\n",
    "- toc:true\n",
    "- branch: master\n",
    "- badges: true\n",
    "- comments: true\n",
    "- [python, Data Science]"
   ]
  },
  {
   "cell_type": "markdown",
   "id": "130f72ab-52d6-410a-8dc2-bbe5d4d0f262",
   "metadata": {},
   "source": [
    "---\n",
    "# Data Science\n",
    "- lenture: Data Science_2-2, 3-1nd week of lectures.\n",
    "- lenture date: 2022-03-14, 2022-03-16\n",
    "- lecturer: Guebin choi\n",
    "- study date: 2022-03-18, 2022-03-20\n",
    "- author: Kione kim\n",
    "---"
   ]
  },
  {
   "cell_type": "markdown",
   "id": "d025d180-a880-4e98-a401-bf13ea0b1ea7",
   "metadata": {},
   "source": [
    "## Tensorflow 사용법"
   ]
  },
  {
   "cell_type": "code",
   "execution_count": 1,
   "id": "8c46cdd7-02c8-4b34-a392-814b5e8c3dee",
   "metadata": {},
   "outputs": [],
   "source": [
    "import tensorflow as tf\n",
    "import numpy as np"
   ]
  },
  {
   "cell_type": "code",
   "execution_count": 2,
   "id": "4b6bbfef-cf4a-44b9-a077-1e548ff5eb58",
   "metadata": {},
   "outputs": [
    {
     "data": {
      "text/plain": [
       "[]"
      ]
     },
     "execution_count": 2,
     "metadata": {},
     "output_type": "execute_result"
    }
   ],
   "source": [
    "tf.config.experimental.list_physical_devices('GPU')"
   ]
  },
  {
   "cell_type": "markdown",
   "id": "e9c906e7-f927-4d24-8316-680a2a10430a",
   "metadata": {},
   "source": [
    "- NO GPU"
   ]
  },
  {
   "cell_type": "markdown",
   "id": "b32570a3-f990-42db-b635-f8dff8838d0e",
   "metadata": {},
   "source": [
    "### tf.constant"
   ]
  },
  {
   "cell_type": "markdown",
   "id": "c750006b-7cef-4dfb-8e9d-3a48227a406e",
   "metadata": {},
   "source": [
    "#### 예비학습: 중첩리스트"
   ]
  },
  {
   "cell_type": "code",
   "execution_count": 3,
   "id": "0d97f966-5cb1-4f99-8308-8966a6985855",
   "metadata": {},
   "outputs": [
    {
     "data": {
      "text/plain": [
       "[1, [2, 3]]"
      ]
     },
     "execution_count": 3,
     "metadata": {},
     "output_type": "execute_result"
    }
   ],
   "source": [
    "[1,[2,3]]"
   ]
  },
  {
   "cell_type": "code",
   "execution_count": 4,
   "id": "e44c6fca-abf3-4459-830a-e6df0a809e6f",
   "metadata": {},
   "outputs": [
    {
     "data": {
      "text/plain": [
       "3"
      ]
     },
     "execution_count": 4,
     "metadata": {},
     "output_type": "execute_result"
    }
   ],
   "source": [
    "_[1][1]"
   ]
  },
  {
   "cell_type": "code",
   "execution_count": 5,
   "id": "eff94b4a-8d34-496f-8da8-7821faae81ff",
   "metadata": {},
   "outputs": [
    {
     "data": {
      "text/plain": [
       "[[1, 2], [3, 4]]"
      ]
     },
     "execution_count": 5,
     "metadata": {},
     "output_type": "execute_result"
    }
   ],
   "source": [
    "lst = [[1,2],[3,4]]\n",
    "lst"
   ]
  },
  {
   "cell_type": "code",
   "execution_count": 6,
   "id": "a93f3e68-9f3f-435b-b727-95ffbc6fc913",
   "metadata": {},
   "outputs": [
    {
     "data": {
      "text/plain": [
       "2"
      ]
     },
     "execution_count": 6,
     "metadata": {},
     "output_type": "execute_result"
    }
   ],
   "source": [
    "lst[0][1]"
   ]
  },
  {
   "cell_type": "code",
   "execution_count": 7,
   "id": "9b08680f-c10e-40d2-90d4-ebb40e710ccf",
   "metadata": {},
   "outputs": [
    {
     "data": {
      "text/plain": [
       "3"
      ]
     },
     "execution_count": 7,
     "metadata": {},
     "output_type": "execute_result"
    }
   ],
   "source": [
    "lst[1][0]"
   ]
  },
  {
   "cell_type": "markdown",
   "id": "4780cbd2-bbbc-434e-bed8-ebea1f19817b",
   "metadata": {},
   "source": [
    "``` python\n",
    "1 2\n",
    "3 4\n",
    "```"
   ]
  },
  {
   "cell_type": "code",
   "execution_count": 8,
   "id": "0d9bb38e-9b9e-43aa-8006-4a19acd322bd",
   "metadata": {},
   "outputs": [
    {
     "name": "stdout",
     "output_type": "stream",
     "text": [
      "1\n",
      "2\n",
      "3\n",
      "4\n"
     ]
    }
   ],
   "source": [
    "print(lst[0][0]) # (1,1)\n",
    "print(lst[0][1]) # (1,2)\n",
    "print(lst[1][0]) # (2,1)\n",
    "print(lst[1][1]) # (2,2)"
   ]
  },
  {
   "cell_type": "markdown",
   "id": "80ef34d8-9662-46cd-9c62-c286d128d3c4",
   "metadata": {},
   "source": [
    "- 이는 벡터일 뿐인데 매트릭스처럼 보임(매트릭스는 아님)"
   ]
  },
  {
   "cell_type": "markdown",
   "id": "89658981-c580-4d5d-b8c1-b2837a9d8646",
   "metadata": {},
   "source": [
    "`-` 이를(매트릭스처럼 보이는 것을) 활용하여 행렬을 만들어보자"
   ]
  },
  {
   "cell_type": "markdown",
   "id": "79120fe9-6c7b-4616-bc4d-976a1759efc9",
   "metadata": {},
   "source": [
    "$4×2$"
   ]
  },
  {
   "cell_type": "code",
   "execution_count": 9,
   "id": "8db298e3-6579-4f0f-8313-7a9601bf18c4",
   "metadata": {},
   "outputs": [
    {
     "data": {
      "text/plain": [
       "[[1, 2], [3, 4], [5, 6], [7, 8]]"
      ]
     },
     "execution_count": 9,
     "metadata": {},
     "output_type": "execute_result"
    }
   ],
   "source": [
    "lst = [[1,2],[3,4],[5,6],[7,8]]\n",
    "lst"
   ]
  },
  {
   "cell_type": "markdown",
   "id": "31375348-97ed-4b75-a392-b4770c992e38",
   "metadata": {},
   "source": [
    "$4×1$"
   ]
  },
  {
   "cell_type": "code",
   "execution_count": 9,
   "id": "9a8060a3-3a55-47e1-892d-35945d508f65",
   "metadata": {},
   "outputs": [
    {
     "data": {
      "text/plain": [
       "[[1], [2], [3], [4]]"
      ]
     },
     "execution_count": 9,
     "metadata": {},
     "output_type": "execute_result"
    }
   ],
   "source": [
    "lst = [[1],[2],[3],[4]]\n",
    "lst # 길이가 4인 column-vector처럼 보임"
   ]
  },
  {
   "cell_type": "markdown",
   "id": "5d2bc87f-d032-49ae-b294-941deaa0f5cf",
   "metadata": {},
   "source": [
    "$2×4$"
   ]
  },
  {
   "cell_type": "code",
   "execution_count": 10,
   "id": "563f2671-f46e-4a27-86fe-2ba6fc3a3a89",
   "metadata": {},
   "outputs": [
    {
     "data": {
      "text/plain": [
       "[[1, 2, 3, 4], [5, 6, 7, 8]]"
      ]
     },
     "execution_count": 10,
     "metadata": {},
     "output_type": "execute_result"
    }
   ],
   "source": [
    "lst = [[1,2,3,4],[5,6,7,8]]\n",
    "lst"
   ]
  },
  {
   "cell_type": "markdown",
   "id": "4d68b030-97ee-4c04-ba7e-3a69d0c92804",
   "metadata": {},
   "source": [
    "$1×4$"
   ]
  },
  {
   "cell_type": "code",
   "execution_count": 11,
   "id": "d67a288b-1d53-408e-977d-af3d5a04cd8a",
   "metadata": {},
   "outputs": [
    {
     "data": {
      "text/plain": [
       "[[1, 2, 3, 4]]"
      ]
     },
     "execution_count": 11,
     "metadata": {},
     "output_type": "execute_result"
    }
   ],
   "source": [
    "lst = [[1,2,3,4]]\n",
    "lst # 길이가 4인 row-vector처럼 보임"
   ]
  },
  {
   "cell_type": "markdown",
   "id": "a4e89984-9aff-4fe0-8923-e5d0b2d396ed",
   "metadata": {},
   "source": [
    "`-` 3차원"
   ]
  },
  {
   "cell_type": "code",
   "execution_count": 10,
   "id": "a958b135-87b7-4197-8d51-6a52be143584",
   "metadata": {},
   "outputs": [
    {
     "data": {
      "text/plain": [
       "[[[1, 2], [3, 4]], [[5, 6], [7, 8]]]"
      ]
     },
     "execution_count": 10,
     "metadata": {},
     "output_type": "execute_result"
    }
   ],
   "source": [
    "lst = [[[1,2],[3,4]],[[5,6],[7,8]]] # 2×2×2 매트릭스처럼 보임\n",
    "lst"
   ]
  },
  {
   "cell_type": "code",
   "execution_count": 11,
   "id": "19d14249-7e74-4b43-a555-de29d6f62b95",
   "metadata": {},
   "outputs": [
    {
     "name": "stdout",
     "output_type": "stream",
     "text": [
      "1\n",
      "2\n",
      "3\n",
      "4\n",
      "5\n",
      "6\n",
      "7\n",
      "8\n"
     ]
    }
   ],
   "source": [
    "# 차원 1\n",
    "print(lst[0][0][0])\n",
    "print(lst[0][0][1])\n",
    "print(lst[0][1][0])\n",
    "print(lst[0][1][1])\n",
    "\n",
    "# 차원 2\n",
    "print(lst[1][0][0])\n",
    "print(lst[1][0][1])\n",
    "print(lst[1][1][0])\n",
    "print(lst[1][1][1])"
   ]
  },
  {
   "cell_type": "markdown",
   "id": "fe72f039-553e-4201-915c-cbed6da48f3f",
   "metadata": {},
   "source": [
    "#### 선언"
   ]
  },
  {
   "cell_type": "markdown",
   "id": "9f643cb5-e93e-4a40-9c6d-bb9b85cfa861",
   "metadata": {},
   "source": [
    "`-` 스칼라"
   ]
  },
  {
   "cell_type": "code",
   "execution_count": 28,
   "id": "bf5e04d4-8155-4c6d-866b-2f9fa2c6aa3c",
   "metadata": {},
   "outputs": [
    {
     "data": {
      "text/plain": [
       "<tf.Tensor: shape=(), dtype=int32, numpy=1>"
      ]
     },
     "execution_count": 28,
     "metadata": {},
     "output_type": "execute_result"
    }
   ],
   "source": [
    "_scalar = tf.constant(1)\n",
    "_scalar"
   ]
  },
  {
   "cell_type": "markdown",
   "id": "410afc04-0c7b-4efa-a47a-f529e7085e0d",
   "metadata": {},
   "source": [
    "`-` 벡터"
   ]
  },
  {
   "cell_type": "code",
   "execution_count": 23,
   "id": "81d8e6d5-0823-46d2-b43f-d53a0764f2a9",
   "metadata": {},
   "outputs": [
    {
     "data": {
      "text/plain": [
       "[1, 2, 3]"
      ]
     },
     "execution_count": 23,
     "metadata": {},
     "output_type": "execute_result"
    }
   ],
   "source": [
    "[1,2,3] # 리스트"
   ]
  },
  {
   "cell_type": "code",
   "execution_count": 21,
   "id": "aa26fc72-7a42-4cf9-8e34-05afe3fa94e6",
   "metadata": {},
   "outputs": [
    {
     "data": {
      "text/plain": [
       "<tf.Tensor: shape=(3,), dtype=int32, numpy=array([1, 2, 3])>"
      ]
     },
     "execution_count": 21,
     "metadata": {},
     "output_type": "execute_result"
    }
   ],
   "source": [
    "_vector = tf.constant([1,2,3]) # 리스트를 tf.constant()함수를 사용하여 벡터로\n",
    "_vector"
   ]
  },
  {
   "cell_type": "code",
   "execution_count": 22,
   "id": "48198f17-8e24-4dcd-a012-dc2644b5589e",
   "metadata": {},
   "outputs": [
    {
     "data": {
      "text/plain": [
       "(<tf.Tensor: shape=(), dtype=int32, numpy=3>,\n",
       " <tf.Tensor: shape=(), dtype=int32, numpy=2>)"
      ]
     },
     "execution_count": 22,
     "metadata": {},
     "output_type": "execute_result"
    }
   ],
   "source": [
    "_vector[-1], _vector[-2]"
   ]
  },
  {
   "cell_type": "markdown",
   "id": "f6858941-1473-4a87-8cb7-ee2a9e859161",
   "metadata": {},
   "source": [
    "`-` 아래 두 코드는 다름. 두 번째 코드는 의도하지 않은 결과임"
   ]
  },
  {
   "cell_type": "code",
   "execution_count": 19,
   "id": "cbef6ee3-2e4b-42ec-a968-da2f330a66a2",
   "metadata": {},
   "outputs": [
    {
     "data": {
      "text/plain": [
       "<tf.Tensor: shape=(4,), dtype=int32, numpy=array([1, 2, 3, 4])>"
      ]
     },
     "execution_count": 19,
     "metadata": {},
     "output_type": "execute_result"
    }
   ],
   "source": [
    "a=tf.constant([1,2,3,4])\n",
    "a"
   ]
  },
  {
   "cell_type": "code",
   "execution_count": 20,
   "id": "939fefa7-f850-42b3-9fd7-0a754dad74c3",
   "metadata": {},
   "outputs": [
    {
     "data": {
      "text/plain": [
       "<tf.Tensor: shape=(3,), dtype=float64, numpy=array([1., 1., 1.])>"
      ]
     },
     "execution_count": 20,
     "metadata": {},
     "output_type": "execute_result"
    }
   ],
   "source": [
    "a=tf.constant(1,2,3,4)\n",
    "a"
   ]
  },
  {
   "cell_type": "markdown",
   "id": "82e3e94b-7ed6-4141-bc71-f0b70f3e119a",
   "metadata": {},
   "source": [
    "- tf.constant([ ]) `[ ]`를 사용해주어야 함 !"
   ]
  },
  {
   "cell_type": "markdown",
   "id": "2081933f-7120-40ef-b9d7-1bff425423d4",
   "metadata": {},
   "source": [
    "`-` 매트릭스"
   ]
  },
  {
   "cell_type": "code",
   "execution_count": 29,
   "id": "3b362b9c-3567-4297-97cf-f69f161a167b",
   "metadata": {},
   "outputs": [
    {
     "data": {
      "text/plain": [
       "<tf.Tensor: shape=(2, 3), dtype=int32, numpy=\n",
       "array([[1, 2, 3],\n",
       "       [4, 5, 6]])>"
      ]
     },
     "execution_count": 29,
     "metadata": {},
     "output_type": "execute_result"
    }
   ],
   "source": [
    "_mat = tf.constant([[1,2,3],[4,5,6]])\n",
    "_mat"
   ]
  },
  {
   "cell_type": "markdown",
   "id": "10522e1c-9d04-42fd-9333-e295e6c86541",
   "metadata": {},
   "source": [
    "- 하나의 행렬로 묶을 때는 행렬처음과 끝에 `[ ]`로 받아주어야 한다."
   ]
  },
  {
   "cell_type": "code",
   "execution_count": 30,
   "id": "66f1f473-aac3-4397-a408-c4afa35be12f",
   "metadata": {},
   "outputs": [
    {
     "data": {
      "text/plain": [
       "<tf.Tensor: shape=(3,), dtype=int32, numpy=array([1, 2, 3])>"
      ]
     },
     "execution_count": 30,
     "metadata": {},
     "output_type": "execute_result"
    }
   ],
   "source": [
    "_mat[0]"
   ]
  },
  {
   "cell_type": "code",
   "execution_count": 31,
   "id": "25090105-0411-4ba6-87c0-699989757b23",
   "metadata": {},
   "outputs": [
    {
     "data": {
      "text/plain": [
       "<tf.Tensor: shape=(), dtype=int32, numpy=1>"
      ]
     },
     "execution_count": 31,
     "metadata": {},
     "output_type": "execute_result"
    }
   ],
   "source": [
    "_mat[0][0]"
   ]
  },
  {
   "cell_type": "code",
   "execution_count": 32,
   "id": "88660187-1412-460b-a17e-af3fe227943f",
   "metadata": {},
   "outputs": [
    {
     "data": {
      "text/plain": [
       "<tf.Tensor: shape=(), dtype=int32, numpy=1>"
      ]
     },
     "execution_count": 32,
     "metadata": {},
     "output_type": "execute_result"
    }
   ],
   "source": [
    "_mat[0,0]"
   ]
  },
  {
   "cell_type": "markdown",
   "id": "1075de16-fc8d-4876-a4b4-71b6296b8126",
   "metadata": {},
   "source": [
    "- _mat[0][0]를 _mat[0,0]와 같이 사용할 수 있다"
   ]
  },
  {
   "cell_type": "markdown",
   "id": "6b4a7f9b-7817-45d5-a518-cc6b2d487aa6",
   "metadata": {},
   "source": [
    "`-` 첫번째 행을 뽑는 방법"
   ]
  },
  {
   "cell_type": "markdown",
   "id": "38e8f759-9f55-4148-a3b8-96add9f51009",
   "metadata": {},
   "source": [
    "`-` 방법1"
   ]
  },
  {
   "cell_type": "code",
   "execution_count": 33,
   "id": "7556a096-c582-46bc-86b1-efde519ea427",
   "metadata": {},
   "outputs": [
    {
     "data": {
      "text/plain": [
       "<tf.Tensor: shape=(3,), dtype=int32, numpy=array([1, 2, 3])>"
      ]
     },
     "execution_count": 33,
     "metadata": {},
     "output_type": "execute_result"
    }
   ],
   "source": [
    "_mat[0]"
   ]
  },
  {
   "cell_type": "markdown",
   "id": "04454192-58e0-4876-83c9-afc32fbc792a",
   "metadata": {},
   "source": [
    "`-` 방법2"
   ]
  },
  {
   "cell_type": "code",
   "execution_count": 34,
   "id": "8b6b532c-ce7d-42fb-a778-428558f8094b",
   "metadata": {},
   "outputs": [
    {
     "data": {
      "text/plain": [
       "<tf.Tensor: shape=(3,), dtype=int32, numpy=array([1, 2, 3])>"
      ]
     },
     "execution_count": 34,
     "metadata": {},
     "output_type": "execute_result"
    }
   ],
   "source": [
    "_mat[0,:]"
   ]
  },
  {
   "cell_type": "markdown",
   "id": "41455189-bf52-4e86-9a02-908b761ff6f0",
   "metadata": {},
   "source": [
    "`-` 첫번째 열을 뽑는 방법"
   ]
  },
  {
   "cell_type": "code",
   "execution_count": 37,
   "id": "7c68130d-5164-47f7-a9fb-55d6e3823eba",
   "metadata": {},
   "outputs": [
    {
     "data": {
      "text/plain": [
       "<tf.Tensor: shape=(2,), dtype=int32, numpy=array([1, 4])>"
      ]
     },
     "execution_count": 37,
     "metadata": {},
     "output_type": "execute_result"
    }
   ],
   "source": [
    "_mat[:,0]"
   ]
  },
  {
   "cell_type": "code",
   "execution_count": 38,
   "id": "ca90b18f-3d4e-4f40-9b61-ec2107cd32ff",
   "metadata": {},
   "outputs": [
    {
     "data": {
      "text/plain": [
       "<tf.Tensor: shape=(2,), dtype=int32, numpy=array([3, 6])>"
      ]
     },
     "execution_count": 38,
     "metadata": {},
     "output_type": "execute_result"
    }
   ],
   "source": [
    "_mat[:,-1]"
   ]
  },
  {
   "cell_type": "markdown",
   "id": "bc84ddd5-a638-4a2a-b2df-08ed40e4d6b8",
   "metadata": {},
   "source": [
    "- 즉 행과 열을 모두 뽑을 수 있는 방법은 방법2이다. 확장성이 있음"
   ]
  },
  {
   "cell_type": "code",
   "execution_count": 39,
   "id": "81c47c41-b1f7-4d81-8428-c968c1e14f4f",
   "metadata": {},
   "outputs": [
    {
     "data": {
      "text/plain": [
       "tensorflow.python.framework.ops.EagerTensor"
      ]
     },
     "execution_count": 39,
     "metadata": {},
     "output_type": "execute_result"
    }
   ],
   "source": [
    "type(_scalar)"
   ]
  },
  {
   "cell_type": "markdown",
   "id": "198c90c2-c0b6-41bf-b8e6-8cf78c3e1ecb",
   "metadata": {},
   "source": [
    "- EagerTensor임을 기억"
   ]
  },
  {
   "cell_type": "code",
   "execution_count": 40,
   "id": "13d798c8-83dc-4a64-ad4d-96a660e29780",
   "metadata": {},
   "outputs": [
    {
     "data": {
      "text/plain": [
       "tensorflow.python.framework.ops.EagerTensor"
      ]
     },
     "execution_count": 40,
     "metadata": {},
     "output_type": "execute_result"
    }
   ],
   "source": [
    "type(_vector)"
   ]
  },
  {
   "cell_type": "markdown",
   "id": "902e6ef1-676b-4ba9-aaf8-5aeac766cca9",
   "metadata": {},
   "source": [
    "#### tf.constant의 불편한점"
   ]
  },
  {
   "cell_type": "markdown",
   "id": "fbf2f24e-fe81-4ce5-b02b-36350d44ebc6",
   "metadata": {},
   "source": [
    "```\n",
    "1. dtype 모든 원소가 똑같아야함\n",
    "\n",
    "2. 값을 바꿀 수 없음\n",
    "\n",
    "3. dtype이 다르면 연산이 불가능\n",
    "```"
   ]
  },
  {
   "cell_type": "markdown",
   "id": "b9876420-676f-4bc8-9b3b-14f605767f0e",
   "metadata": {},
   "source": [
    "`2.` 값을 바꿀 수 없음"
   ]
  },
  {
   "cell_type": "code",
   "execution_count": 41,
   "id": "0e8be8a9-d92b-4ddf-9e3c-a1a3e2c9947d",
   "metadata": {},
   "outputs": [
    {
     "ename": "TypeError",
     "evalue": "'tensorflow.python.framework.ops.EagerTensor' object does not support item assignment",
     "output_type": "error",
     "traceback": [
      "\u001b[1;31m---------------------------------------------------------------------------\u001b[0m",
      "\u001b[1;31mTypeError\u001b[0m                                 Traceback (most recent call last)",
      "Input \u001b[1;32mIn [41]\u001b[0m, in \u001b[0;36m<cell line: 1>\u001b[1;34m()\u001b[0m\n\u001b[1;32m----> 1\u001b[0m _mat[\u001b[38;5;241m0\u001b[39m,\u001b[38;5;241m0\u001b[39m] \u001b[38;5;241m=\u001b[39m \u001b[38;5;241m10\u001b[39m\n",
      "\u001b[1;31mTypeError\u001b[0m: 'tensorflow.python.framework.ops.EagerTensor' object does not support item assignment"
     ]
    }
   ],
   "source": [
    "_mat[0,0] = 10"
   ]
  },
  {
   "cell_type": "markdown",
   "id": "5d379c1f-aaa9-4892-918b-416dd206eb14",
   "metadata": {},
   "source": [
    "`3.` dtype이 다르면 연산 불가능"
   ]
  },
  {
   "cell_type": "code",
   "execution_count": 42,
   "id": "79538608-cb95-46ed-896d-3c8a4231433d",
   "metadata": {},
   "outputs": [
    {
     "data": {
      "text/plain": [
       "<tf.Tensor: shape=(2,), dtype=int32, numpy=array([4, 6])>"
      ]
     },
     "execution_count": 42,
     "metadata": {},
     "output_type": "execute_result"
    }
   ],
   "source": [
    "tf.constant([1,2])+ tf.constant([3,4])"
   ]
  },
  {
   "cell_type": "code",
   "execution_count": 43,
   "id": "75939f7b-62b1-44b2-bb6e-bc66a15d4549",
   "metadata": {},
   "outputs": [
    {
     "ename": "InvalidArgumentError",
     "evalue": "cannot compute AddV2 as input #1(zero-based) was expected to be a float tensor but is a int32 tensor [Op:AddV2]",
     "output_type": "error",
     "traceback": [
      "\u001b[1;31m---------------------------------------------------------------------------\u001b[0m",
      "\u001b[1;31mInvalidArgumentError\u001b[0m                      Traceback (most recent call last)",
      "Input \u001b[1;32mIn [43]\u001b[0m, in \u001b[0;36m<cell line: 1>\u001b[1;34m()\u001b[0m\n\u001b[1;32m----> 1\u001b[0m \u001b[43mtf\u001b[49m\u001b[38;5;241;43m.\u001b[39;49m\u001b[43mconstant\u001b[49m\u001b[43m(\u001b[49m\u001b[43m[\u001b[49m\u001b[38;5;241;43m1.1\u001b[39;49m\u001b[43m,\u001b[49m\u001b[38;5;241;43m2\u001b[39;49m\u001b[43m]\u001b[49m\u001b[43m)\u001b[49m\u001b[38;5;241;43m+\u001b[39;49m\u001b[43m \u001b[49m\u001b[43mtf\u001b[49m\u001b[38;5;241;43m.\u001b[39;49m\u001b[43mconstant\u001b[49m\u001b[43m(\u001b[49m\u001b[43m[\u001b[49m\u001b[38;5;241;43m3\u001b[39;49m\u001b[43m,\u001b[49m\u001b[38;5;241;43m4\u001b[39;49m\u001b[43m]\u001b[49m\u001b[43m)\u001b[49m\n",
      "File \u001b[1;32m~\\anaconda3\\envs\\ds2022\\lib\\site-packages\\tensorflow\\python\\util\\traceback_utils.py:153\u001b[0m, in \u001b[0;36mfilter_traceback.<locals>.error_handler\u001b[1;34m(*args, **kwargs)\u001b[0m\n\u001b[0;32m    151\u001b[0m \u001b[38;5;28;01mexcept\u001b[39;00m \u001b[38;5;167;01mException\u001b[39;00m \u001b[38;5;28;01mas\u001b[39;00m e:\n\u001b[0;32m    152\u001b[0m   filtered_tb \u001b[38;5;241m=\u001b[39m _process_traceback_frames(e\u001b[38;5;241m.\u001b[39m__traceback__)\n\u001b[1;32m--> 153\u001b[0m   \u001b[38;5;28;01mraise\u001b[39;00m e\u001b[38;5;241m.\u001b[39mwith_traceback(filtered_tb) \u001b[38;5;28;01mfrom\u001b[39;00m \u001b[38;5;28mNone\u001b[39m\n\u001b[0;32m    154\u001b[0m \u001b[38;5;28;01mfinally\u001b[39;00m:\n\u001b[0;32m    155\u001b[0m   \u001b[38;5;28;01mdel\u001b[39;00m filtered_tb\n",
      "File \u001b[1;32m~\\anaconda3\\envs\\ds2022\\lib\\site-packages\\tensorflow\\python\\framework\\ops.py:7186\u001b[0m, in \u001b[0;36mraise_from_not_ok_status\u001b[1;34m(e, name)\u001b[0m\n\u001b[0;32m   7184\u001b[0m \u001b[38;5;28;01mdef\u001b[39;00m \u001b[38;5;21mraise_from_not_ok_status\u001b[39m(e, name):\n\u001b[0;32m   7185\u001b[0m   e\u001b[38;5;241m.\u001b[39mmessage \u001b[38;5;241m+\u001b[39m\u001b[38;5;241m=\u001b[39m (\u001b[38;5;124m\"\u001b[39m\u001b[38;5;124m name: \u001b[39m\u001b[38;5;124m\"\u001b[39m \u001b[38;5;241m+\u001b[39m name \u001b[38;5;28;01mif\u001b[39;00m name \u001b[38;5;129;01mis\u001b[39;00m \u001b[38;5;129;01mnot\u001b[39;00m \u001b[38;5;28;01mNone\u001b[39;00m \u001b[38;5;28;01melse\u001b[39;00m \u001b[38;5;124m\"\u001b[39m\u001b[38;5;124m\"\u001b[39m)\n\u001b[1;32m-> 7186\u001b[0m   \u001b[38;5;28;01mraise\u001b[39;00m core\u001b[38;5;241m.\u001b[39m_status_to_exception(e) \u001b[38;5;28;01mfrom\u001b[39;00m \u001b[38;5;28mNone\u001b[39m\n",
      "\u001b[1;31mInvalidArgumentError\u001b[0m: cannot compute AddV2 as input #1(zero-based) was expected to be a float tensor but is a int32 tensor [Op:AddV2]"
     ]
    }
   ],
   "source": [
    "tf.constant([1.1,2])+ tf.constant([3,4])"
   ]
  },
  {
   "cell_type": "code",
   "execution_count": 45,
   "id": "a3deb414-9bc5-45aa-a200-19cbe3fef5b4",
   "metadata": {},
   "outputs": [
    {
     "data": {
      "text/plain": [
       "<tf.Tensor: shape=(2,), dtype=float32, numpy=array([1.1, 2. ], dtype=float32)>"
      ]
     },
     "execution_count": 45,
     "metadata": {},
     "output_type": "execute_result"
    }
   ],
   "source": [
    "tf.constant([1.1,2])"
   ]
  },
  {
   "cell_type": "code",
   "execution_count": 46,
   "id": "632ec5b3-dc02-4c29-8573-6ae853675681",
   "metadata": {},
   "outputs": [
    {
     "data": {
      "text/plain": [
       "<tf.Tensor: shape=(2,), dtype=int32, numpy=array([3, 4])>"
      ]
     },
     "execution_count": 46,
     "metadata": {},
     "output_type": "execute_result"
    }
   ],
   "source": [
    "tf.constant([3,4])"
   ]
  },
  {
   "cell_type": "markdown",
   "id": "95449cf0-21dc-4b98-a26c-25a0c9ea8b33",
   "metadata": {},
   "source": [
    "- 뜯어보니, tf.constant([1.1,2])는 float형이고 tf.constant([3,4])는 int형이다. float과 int가 달라서 계산이 안 된 것,, ? OMG"
   ]
  },
  {
   "cell_type": "markdown",
   "id": "0d969f5e-aa58-4957-b976-84ae83386420",
   "metadata": {},
   "source": [
    "`-` 다음과 같이 해야 한다"
   ]
  },
  {
   "cell_type": "code",
   "execution_count": 50,
   "id": "974b478f-ba51-41da-bb70-5f77ea182072",
   "metadata": {},
   "outputs": [
    {
     "data": {
      "text/plain": [
       "<tf.Tensor: shape=(2,), dtype=float32, numpy=array([4.1, 6. ], dtype=float32)>"
      ]
     },
     "execution_count": 50,
     "metadata": {},
     "output_type": "execute_result"
    }
   ],
   "source": [
    "tf.constant([1.1,2])+tf.constant([3.,4.])"
   ]
  },
  {
   "cell_type": "code",
   "execution_count": 51,
   "id": "590b3de5-2678-4a34-9f14-361359710d59",
   "metadata": {},
   "outputs": [
    {
     "data": {
      "text/plain": [
       "<tf.Tensor: shape=(2,), dtype=float32, numpy=array([4.1, 6. ], dtype=float32)>"
      ]
     },
     "execution_count": 51,
     "metadata": {},
     "output_type": "execute_result"
    }
   ],
   "source": [
    "tf.constant([1.1,2])+tf.constant([3,4.])"
   ]
  },
  {
   "cell_type": "code",
   "execution_count": 52,
   "id": "aa70a6e1-4bdd-4577-a6cc-ac6e44141673",
   "metadata": {},
   "outputs": [
    {
     "data": {
      "text/plain": [
       "<tf.Tensor: shape=(2,), dtype=float32, numpy=array([4.1, 6. ], dtype=float32)>"
      ]
     },
     "execution_count": 52,
     "metadata": {},
     "output_type": "execute_result"
    }
   ],
   "source": [
    "tf.constant([1.1,2])+tf.constant([3.,4])"
   ]
  },
  {
   "cell_type": "markdown",
   "id": "8a886c6a-7c99-432f-9213-35ac8a5214ae",
   "metadata": {},
   "source": [
    "- int형에 있는 하나의 원소에 `.`을 찍어주면 float형이 된다."
   ]
  },
  {
   "cell_type": "markdown",
   "id": "2f0d9be2-32af-492e-8597-782e199d74f2",
   "metadata": {},
   "source": [
    "`-` 같은 float형이라도 불가능한 경우가 있음"
   ]
  },
  {
   "cell_type": "code",
   "execution_count": 54,
   "id": "8081edf2-eaae-4ec0-b837-5e35dbdb993d",
   "metadata": {},
   "outputs": [
    {
     "data": {
      "text/plain": [
       "<tf.Tensor: shape=(2,), dtype=float32, numpy=array([1.1, 2. ], dtype=float32)>"
      ]
     },
     "execution_count": 54,
     "metadata": {},
     "output_type": "execute_result"
    }
   ],
   "source": [
    "tf.constant([1.1,2])"
   ]
  },
  {
   "cell_type": "code",
   "execution_count": 55,
   "id": "328c385c-2b4b-4c14-bed5-90426186183c",
   "metadata": {},
   "outputs": [
    {
     "data": {
      "text/plain": [
       "<tf.Tensor: shape=(2,), dtype=float64, numpy=array([3., 4.])>"
      ]
     },
     "execution_count": 55,
     "metadata": {},
     "output_type": "execute_result"
    }
   ],
   "source": [
    "tf.constant([3.0,4.0],dtype=tf.float64)"
   ]
  },
  {
   "cell_type": "code",
   "execution_count": 56,
   "id": "f6772710-3aba-45ff-8dd0-1013f2e6edd8",
   "metadata": {},
   "outputs": [
    {
     "ename": "InvalidArgumentError",
     "evalue": "cannot compute AddV2 as input #1(zero-based) was expected to be a float tensor but is a double tensor [Op:AddV2]",
     "output_type": "error",
     "traceback": [
      "\u001b[1;31m---------------------------------------------------------------------------\u001b[0m",
      "\u001b[1;31mInvalidArgumentError\u001b[0m                      Traceback (most recent call last)",
      "Input \u001b[1;32mIn [56]\u001b[0m, in \u001b[0;36m<cell line: 1>\u001b[1;34m()\u001b[0m\n\u001b[1;32m----> 1\u001b[0m \u001b[43mtf\u001b[49m\u001b[38;5;241;43m.\u001b[39;49m\u001b[43mconstant\u001b[49m\u001b[43m(\u001b[49m\u001b[43m[\u001b[49m\u001b[38;5;241;43m1.1\u001b[39;49m\u001b[43m,\u001b[49m\u001b[38;5;241;43m2\u001b[39;49m\u001b[43m]\u001b[49m\u001b[43m)\u001b[49m\u001b[38;5;241;43m+\u001b[39;49m\u001b[43mtf\u001b[49m\u001b[38;5;241;43m.\u001b[39;49m\u001b[43mconstant\u001b[49m\u001b[43m(\u001b[49m\u001b[43m[\u001b[49m\u001b[38;5;241;43m3.0\u001b[39;49m\u001b[43m,\u001b[49m\u001b[38;5;241;43m4.0\u001b[39;49m\u001b[43m]\u001b[49m\u001b[43m,\u001b[49m\u001b[43mdtype\u001b[49m\u001b[38;5;241;43m=\u001b[39;49m\u001b[43mtf\u001b[49m\u001b[38;5;241;43m.\u001b[39;49m\u001b[43mfloat64\u001b[49m\u001b[43m)\u001b[49m\n",
      "File \u001b[1;32m~\\anaconda3\\envs\\ds2022\\lib\\site-packages\\tensorflow\\python\\util\\traceback_utils.py:153\u001b[0m, in \u001b[0;36mfilter_traceback.<locals>.error_handler\u001b[1;34m(*args, **kwargs)\u001b[0m\n\u001b[0;32m    151\u001b[0m \u001b[38;5;28;01mexcept\u001b[39;00m \u001b[38;5;167;01mException\u001b[39;00m \u001b[38;5;28;01mas\u001b[39;00m e:\n\u001b[0;32m    152\u001b[0m   filtered_tb \u001b[38;5;241m=\u001b[39m _process_traceback_frames(e\u001b[38;5;241m.\u001b[39m__traceback__)\n\u001b[1;32m--> 153\u001b[0m   \u001b[38;5;28;01mraise\u001b[39;00m e\u001b[38;5;241m.\u001b[39mwith_traceback(filtered_tb) \u001b[38;5;28;01mfrom\u001b[39;00m \u001b[38;5;28mNone\u001b[39m\n\u001b[0;32m    154\u001b[0m \u001b[38;5;28;01mfinally\u001b[39;00m:\n\u001b[0;32m    155\u001b[0m   \u001b[38;5;28;01mdel\u001b[39;00m filtered_tb\n",
      "File \u001b[1;32m~\\anaconda3\\envs\\ds2022\\lib\\site-packages\\tensorflow\\python\\framework\\ops.py:7186\u001b[0m, in \u001b[0;36mraise_from_not_ok_status\u001b[1;34m(e, name)\u001b[0m\n\u001b[0;32m   7184\u001b[0m \u001b[38;5;28;01mdef\u001b[39;00m \u001b[38;5;21mraise_from_not_ok_status\u001b[39m(e, name):\n\u001b[0;32m   7185\u001b[0m   e\u001b[38;5;241m.\u001b[39mmessage \u001b[38;5;241m+\u001b[39m\u001b[38;5;241m=\u001b[39m (\u001b[38;5;124m\"\u001b[39m\u001b[38;5;124m name: \u001b[39m\u001b[38;5;124m\"\u001b[39m \u001b[38;5;241m+\u001b[39m name \u001b[38;5;28;01mif\u001b[39;00m name \u001b[38;5;129;01mis\u001b[39;00m \u001b[38;5;129;01mnot\u001b[39;00m \u001b[38;5;28;01mNone\u001b[39;00m \u001b[38;5;28;01melse\u001b[39;00m \u001b[38;5;124m\"\u001b[39m\u001b[38;5;124m\"\u001b[39m)\n\u001b[1;32m-> 7186\u001b[0m   \u001b[38;5;28;01mraise\u001b[39;00m core\u001b[38;5;241m.\u001b[39m_status_to_exception(e) \u001b[38;5;28;01mfrom\u001b[39;00m \u001b[38;5;28mNone\u001b[39m\n",
      "\u001b[1;31mInvalidArgumentError\u001b[0m: cannot compute AddV2 as input #1(zero-based) was expected to be a float tensor but is a double tensor [Op:AddV2]"
     ]
    }
   ],
   "source": [
    "tf.constant([1.1,2])+tf.constant([3.0,4.0],dtype=tf.float64)"
   ]
  },
  {
   "cell_type": "markdown",
   "id": "25cdd149-27bf-4427-accf-42eb4fe28f4e",
   "metadata": {},
   "source": [
    "- float32와 float64가 달라서 오류,,,? OMG2"
   ]
  },
  {
   "cell_type": "markdown",
   "id": "17cc4d6c-b48d-455e-82e6-b92494bff5fe",
   "metadata": {},
   "source": [
    "#### tf.constant $\\to$ 넘파이 "
   ]
  },
  {
   "cell_type": "code",
   "execution_count": 62,
   "id": "9d4441fb-c171-4398-9e7c-16e2cfec0672",
   "metadata": {},
   "outputs": [
    {
     "data": {
      "text/plain": [
       "<tf.Tensor: shape=(4,), dtype=int32, numpy=array([1, 2, 3, 4])>"
      ]
     },
     "execution_count": 62,
     "metadata": {},
     "output_type": "execute_result"
    }
   ],
   "source": [
    "_vector = tf.constant([1,2,3,4])\n",
    "_vector"
   ]
  },
  {
   "cell_type": "code",
   "execution_count": 63,
   "id": "742ea81a-006a-4c1d-9687-1ee75e39511b",
   "metadata": {},
   "outputs": [
    {
     "data": {
      "text/plain": [
       "array([1, 2, 3, 4])"
      ]
     },
     "execution_count": 63,
     "metadata": {},
     "output_type": "execute_result"
    }
   ],
   "source": [
    "np.array(_vector) # 방법1"
   ]
  },
  {
   "cell_type": "code",
   "execution_count": 64,
   "id": "12b977e1-1623-4941-a2d9-7b19ef9eba88",
   "metadata": {},
   "outputs": [
    {
     "data": {
      "text/plain": [
       "array([1, 2, 3, 4])"
      ]
     },
     "execution_count": 64,
     "metadata": {},
     "output_type": "execute_result"
    }
   ],
   "source": [
    "_vector.numpy()"
   ]
  },
  {
   "cell_type": "markdown",
   "id": "05dfa352-f1d4-4deb-ba89-5e22cdbedc74",
   "metadata": {},
   "source": [
    "- Tensorflow 내에서 numpy를 쓸 수 있다"
   ]
  },
  {
   "cell_type": "markdown",
   "id": "0c2eb3a0-6026-4848-b9f6-39f6616f066a",
   "metadata": {},
   "source": [
    "#### 연산"
   ]
  },
  {
   "cell_type": "markdown",
   "id": "441e1c8e-da79-4fac-82af-31fb425e5f94",
   "metadata": {},
   "source": [
    "`-` 더하기 "
   ]
  },
  {
   "cell_type": "code",
   "execution_count": 65,
   "id": "a3883d38-ff68-48d9-b486-c023952429b8",
   "metadata": {},
   "outputs": [
    {
     "data": {
      "text/plain": [
       "<tf.Tensor: shape=(3,), dtype=int32, numpy=array([5, 7, 9])>"
      ]
     },
     "execution_count": 65,
     "metadata": {},
     "output_type": "execute_result"
    }
   ],
   "source": [
    "a=tf.constant([1,2,3])\n",
    "b=tf.constant([4,5,6])\n",
    "a+b"
   ]
  },
  {
   "cell_type": "code",
   "execution_count": 66,
   "id": "7bb40c6b-a8e8-4167-b813-1d02a1476cca",
   "metadata": {},
   "outputs": [
    {
     "data": {
      "text/plain": [
       "<tf.Tensor: shape=(3,), dtype=int32, numpy=array([5, 7, 9])>"
      ]
     },
     "execution_count": 66,
     "metadata": {},
     "output_type": "execute_result"
    }
   ],
   "source": [
    "tf.add(a,b)"
   ]
  },
  {
   "cell_type": "markdown",
   "id": "f0e4d586-c0d9-47e2-adc9-fd3754eeef35",
   "metadata": {},
   "source": [
    "`-` 곱하기"
   ]
  },
  {
   "cell_type": "code",
   "execution_count": 67,
   "id": "9c413b6b-775b-416b-9945-769657857a39",
   "metadata": {},
   "outputs": [
    {
     "data": {
      "text/plain": [
       "<tf.Tensor: shape=(2, 2), dtype=int32, numpy=\n",
       "array([[ 5, 12],\n",
       "       [21, 32]])>"
      ]
     },
     "execution_count": 67,
     "metadata": {},
     "output_type": "execute_result"
    }
   ],
   "source": [
    "a=tf.constant([[1,2],[3,4]])\n",
    "b=tf.constant([[5,6],[7,8]])\n",
    "a*b"
   ]
  },
  {
   "cell_type": "code",
   "execution_count": 44,
   "id": "60e06135-2a76-4645-bbba-055a4dbf90de",
   "metadata": {},
   "outputs": [
    {
     "data": {
      "text/plain": [
       "<tf.Tensor: shape=(2, 2), dtype=int32, numpy=\n",
       "array([[ 5, 12],\n",
       "       [21, 32]])>"
      ]
     },
     "execution_count": 44,
     "metadata": {},
     "output_type": "execute_result"
    }
   ],
   "source": [
    "tf.multiply(a,b)"
   ]
  },
  {
   "cell_type": "markdown",
   "id": "f804676a-567c-4907-b7d2-083e32a2a8f8",
   "metadata": {},
   "source": [
    "- 각 원소끼리 곱"
   ]
  },
  {
   "cell_type": "markdown",
   "id": "9cab403c-6cdc-4019-a64a-1d8ce6d81ca9",
   "metadata": {},
   "source": [
    "`-` 행렬곱"
   ]
  },
  {
   "cell_type": "code",
   "execution_count": 45,
   "id": "a9b3bbea-1609-48fc-9377-9512227508ed",
   "metadata": {},
   "outputs": [
    {
     "data": {
      "text/plain": [
       "<tf.Tensor: shape=(2, 2), dtype=int32, numpy=\n",
       "array([[1, 2],\n",
       "       [3, 4]])>"
      ]
     },
     "execution_count": 45,
     "metadata": {},
     "output_type": "execute_result"
    }
   ],
   "source": [
    "a=tf.constant([[1,2],[3,4]])\n",
    "b=tf.constant([[1,0],[0,1]])\n",
    "a@b"
   ]
  },
  {
   "cell_type": "code",
   "execution_count": 46,
   "id": "6758cf1e-c40d-4a7d-87c3-bb40d75724d5",
   "metadata": {},
   "outputs": [
    {
     "data": {
      "text/plain": [
       "<tf.Tensor: shape=(2, 2), dtype=int32, numpy=\n",
       "array([[1, 2],\n",
       "       [3, 4]])>"
      ]
     },
     "execution_count": 46,
     "metadata": {},
     "output_type": "execute_result"
    }
   ],
   "source": [
    "tf.matmul(a,b)"
   ]
  },
  {
   "cell_type": "markdown",
   "id": "8804b34b-1c51-4716-b15c-810c6e4d231f",
   "metadata": {},
   "source": [
    "`-` 역행렬"
   ]
  },
  {
   "cell_type": "code",
   "execution_count": 68,
   "id": "8ba97b76-e63f-48cf-a09b-c879f9c1df1a",
   "metadata": {},
   "outputs": [
    {
     "data": {
      "text/plain": [
       "<tf.Tensor: shape=(2, 2), dtype=int32, numpy=\n",
       "array([[1, 0],\n",
       "       [0, 2]])>"
      ]
     },
     "execution_count": 68,
     "metadata": {},
     "output_type": "execute_result"
    }
   ],
   "source": [
    "a=tf.constant([[1,0],[0,2]])\n",
    "a"
   ]
  },
  {
   "cell_type": "code",
   "execution_count": 69,
   "id": "5021e305-30d7-4f42-84f3-bc1e277f44bd",
   "metadata": {},
   "outputs": [
    {
     "ename": "InvalidArgumentError",
     "evalue": "Value for attr 'T' of int32 is not in the list of allowed values: double, float, half, complex64, complex128\n\t; NodeDef: {{node MatrixInverse}}; Op<name=MatrixInverse; signature=input:T -> output:T; attr=adjoint:bool,default=false; attr=T:type,allowed=[DT_DOUBLE, DT_FLOAT, DT_HALF, DT_COMPLEX64, DT_COMPLEX128]> [Op:MatrixInverse]",
     "output_type": "error",
     "traceback": [
      "\u001b[1;31m---------------------------------------------------------------------------\u001b[0m",
      "\u001b[1;31mInvalidArgumentError\u001b[0m                      Traceback (most recent call last)",
      "Input \u001b[1;32mIn [69]\u001b[0m, in \u001b[0;36m<cell line: 1>\u001b[1;34m()\u001b[0m\n\u001b[1;32m----> 1\u001b[0m \u001b[43mtf\u001b[49m\u001b[38;5;241;43m.\u001b[39;49m\u001b[43mlinalg\u001b[49m\u001b[38;5;241;43m.\u001b[39;49m\u001b[43minv\u001b[49m\u001b[43m(\u001b[49m\u001b[43ma\u001b[49m\u001b[43m)\u001b[49m\n",
      "File \u001b[1;32m~\\anaconda3\\envs\\ds2022\\lib\\site-packages\\tensorflow\\python\\ops\\gen_linalg_ops.py:1505\u001b[0m, in \u001b[0;36mmatrix_inverse\u001b[1;34m(input, adjoint, name)\u001b[0m\n\u001b[0;32m   1503\u001b[0m   \u001b[38;5;28;01mreturn\u001b[39;00m _result\n\u001b[0;32m   1504\u001b[0m \u001b[38;5;28;01mexcept\u001b[39;00m _core\u001b[38;5;241m.\u001b[39m_NotOkStatusException \u001b[38;5;28;01mas\u001b[39;00m e:\n\u001b[1;32m-> 1505\u001b[0m   \u001b[43m_ops\u001b[49m\u001b[38;5;241;43m.\u001b[39;49m\u001b[43mraise_from_not_ok_status\u001b[49m\u001b[43m(\u001b[49m\u001b[43me\u001b[49m\u001b[43m,\u001b[49m\u001b[43m \u001b[49m\u001b[43mname\u001b[49m\u001b[43m)\u001b[49m\n\u001b[0;32m   1506\u001b[0m \u001b[38;5;28;01mexcept\u001b[39;00m _core\u001b[38;5;241m.\u001b[39m_FallbackException:\n\u001b[0;32m   1507\u001b[0m   \u001b[38;5;28;01mpass\u001b[39;00m\n",
      "File \u001b[1;32m~\\anaconda3\\envs\\ds2022\\lib\\site-packages\\tensorflow\\python\\framework\\ops.py:7186\u001b[0m, in \u001b[0;36mraise_from_not_ok_status\u001b[1;34m(e, name)\u001b[0m\n\u001b[0;32m   7184\u001b[0m \u001b[38;5;28;01mdef\u001b[39;00m \u001b[38;5;21mraise_from_not_ok_status\u001b[39m(e, name):\n\u001b[0;32m   7185\u001b[0m   e\u001b[38;5;241m.\u001b[39mmessage \u001b[38;5;241m+\u001b[39m\u001b[38;5;241m=\u001b[39m (\u001b[38;5;124m\"\u001b[39m\u001b[38;5;124m name: \u001b[39m\u001b[38;5;124m\"\u001b[39m \u001b[38;5;241m+\u001b[39m name \u001b[38;5;28;01mif\u001b[39;00m name \u001b[38;5;129;01mis\u001b[39;00m \u001b[38;5;129;01mnot\u001b[39;00m \u001b[38;5;28;01mNone\u001b[39;00m \u001b[38;5;28;01melse\u001b[39;00m \u001b[38;5;124m\"\u001b[39m\u001b[38;5;124m\"\u001b[39m)\n\u001b[1;32m-> 7186\u001b[0m   \u001b[38;5;28;01mraise\u001b[39;00m core\u001b[38;5;241m.\u001b[39m_status_to_exception(e) \u001b[38;5;28;01mfrom\u001b[39;00m \u001b[38;5;28mNone\u001b[39m\n",
      "\u001b[1;31mInvalidArgumentError\u001b[0m: Value for attr 'T' of int32 is not in the list of allowed values: double, float, half, complex64, complex128\n\t; NodeDef: {{node MatrixInverse}}; Op<name=MatrixInverse; signature=input:T -> output:T; attr=adjoint:bool,default=false; attr=T:type,allowed=[DT_DOUBLE, DT_FLOAT, DT_HALF, DT_COMPLEX64, DT_COMPLEX128]> [Op:MatrixInverse]"
     ]
    }
   ],
   "source": [
    "tf.linalg.inv(a)"
   ]
  },
  {
   "cell_type": "markdown",
   "id": "4c5feca2-35af-42ee-ae06-56cc3175b3c0",
   "metadata": {},
   "source": [
    "- 당연히 되어야하는데 오류가 남. 이는 a가 int이지만, 역행렬 값은 0.5(소수값)이 나오기 때문.. OMG3\n",
    "\n",
    "- 따라서 다음과 같이 하면 가능.."
   ]
  },
  {
   "cell_type": "code",
   "execution_count": 70,
   "id": "556b7b4a-64d8-46b1-bb4c-17b2c759ac52",
   "metadata": {},
   "outputs": [
    {
     "data": {
      "text/plain": [
       "<tf.Tensor: shape=(2, 2), dtype=float32, numpy=\n",
       "array([[1., 0.],\n",
       "       [0., 2.]], dtype=float32)>"
      ]
     },
     "execution_count": 70,
     "metadata": {},
     "output_type": "execute_result"
    }
   ],
   "source": [
    "a=tf.constant([[1.0,0],[0,2]])\n",
    "a"
   ]
  },
  {
   "cell_type": "code",
   "execution_count": 71,
   "id": "5e618e86-0f32-4d33-a13f-4f02c22b5a2c",
   "metadata": {},
   "outputs": [
    {
     "data": {
      "text/plain": [
       "<tf.Tensor: shape=(2, 2), dtype=float32, numpy=\n",
       "array([[1. , 0. ],\n",
       "       [0. , 0.5]], dtype=float32)>"
      ]
     },
     "execution_count": 71,
     "metadata": {},
     "output_type": "execute_result"
    }
   ],
   "source": [
    "tf.linalg.inv(a)"
   ]
  },
  {
   "cell_type": "markdown",
   "id": "8cc4feeb-1e97-4ffe-af4f-c081cf24e91d",
   "metadata": {},
   "source": [
    "- a도 float형으로 했기 때문에 가능"
   ]
  },
  {
   "cell_type": "code",
   "execution_count": 73,
   "id": "b440ee4f-ba5e-4922-abfb-357c3f1ef107",
   "metadata": {},
   "outputs": [
    {
     "data": {
      "text/plain": [
       "<tf.Tensor: shape=(2, 2), dtype=float32, numpy=\n",
       "array([[1., 0.],\n",
       "       [0., 1.]], dtype=float32)>"
      ]
     },
     "execution_count": 73,
     "metadata": {},
     "output_type": "execute_result"
    }
   ],
   "source": [
    "a @ tf.linalg.inv(a)"
   ]
  },
  {
   "cell_type": "markdown",
   "id": "681b6f7f-dd7b-4161-8161-ea15a97132f1",
   "metadata": {},
   "source": [
    "`-` 행렬식, 대각합"
   ]
  },
  {
   "cell_type": "code",
   "execution_count": 74,
   "id": "bc6f416e-6a6a-4d30-9bea-ca2838efcb0b",
   "metadata": {},
   "outputs": [
    {
     "data": {
      "text/plain": [
       "<tf.Tensor: shape=(2, 2), dtype=float32, numpy=\n",
       "array([[1., 0.],\n",
       "       [0., 2.]], dtype=float32)>"
      ]
     },
     "execution_count": 74,
     "metadata": {},
     "output_type": "execute_result"
    }
   ],
   "source": [
    "a=tf.constant([[1.0,0],[0,2]])\n",
    "a"
   ]
  },
  {
   "cell_type": "code",
   "execution_count": 77,
   "id": "a7f49188-b2b4-4041-930c-cbd3b044549d",
   "metadata": {},
   "outputs": [
    {
     "data": {
      "text/plain": [
       "<tf.Tensor: shape=(), dtype=float32, numpy=2.0>"
      ]
     },
     "execution_count": 77,
     "metadata": {},
     "output_type": "execute_result"
    }
   ],
   "source": [
    "tf.linalg.det(a) "
   ]
  },
  {
   "cell_type": "code",
   "execution_count": 78,
   "id": "708c4873-b313-4ca1-a9f5-2d20c77fb9e6",
   "metadata": {},
   "outputs": [
    {
     "data": {
      "text/plain": [
       "<tf.Tensor: shape=(), dtype=float32, numpy=3.0>"
      ]
     },
     "execution_count": 78,
     "metadata": {},
     "output_type": "execute_result"
    }
   ],
   "source": [
    "tf.linalg.trace(a) "
   ]
  },
  {
   "cell_type": "markdown",
   "id": "d01aee43-d33c-40ad-85e2-0cc9643d5e7f",
   "metadata": {},
   "source": [
    "`-` 집계함수"
   ]
  },
  {
   "cell_type": "code",
   "execution_count": 80,
   "id": "a8c90498-9bfd-48a6-8869-c8389dc00052",
   "metadata": {},
   "outputs": [
    {
     "data": {
      "text/plain": [
       "<tf.Tensor: shape=(2, 3), dtype=int32, numpy=\n",
       "array([[1, 2, 3],\n",
       "       [4, 5, 6]])>"
      ]
     },
     "execution_count": 80,
     "metadata": {},
     "output_type": "execute_result"
    }
   ],
   "source": [
    "a=tf.constant([[1,2,3],[4,5,6]])\n",
    "a"
   ]
  },
  {
   "cell_type": "code",
   "execution_count": 81,
   "id": "94535b29-789a-4b89-be12-6f545729630d",
   "metadata": {},
   "outputs": [
    {
     "data": {
      "text/plain": [
       "<tf.Tensor: shape=(), dtype=int32, numpy=21>"
      ]
     },
     "execution_count": 81,
     "metadata": {},
     "output_type": "execute_result"
    }
   ],
   "source": [
    "tf.reduce_sum(a)"
   ]
  },
  {
   "cell_type": "code",
   "execution_count": 82,
   "id": "812eed3b-3ca2-4a7c-a6d9-757f96fba744",
   "metadata": {},
   "outputs": [
    {
     "ename": "AttributeError",
     "evalue": "module 'tensorflow' has no attribute 'sum'",
     "output_type": "error",
     "traceback": [
      "\u001b[1;31m---------------------------------------------------------------------------\u001b[0m",
      "\u001b[1;31mAttributeError\u001b[0m                            Traceback (most recent call last)",
      "Input \u001b[1;32mIn [82]\u001b[0m, in \u001b[0;36m<cell line: 1>\u001b[1;34m()\u001b[0m\n\u001b[1;32m----> 1\u001b[0m \u001b[43mtf\u001b[49m\u001b[38;5;241;43m.\u001b[39;49m\u001b[43msum\u001b[49m(a)\n",
      "\u001b[1;31mAttributeError\u001b[0m: module 'tensorflow' has no attribute 'sum'"
     ]
    }
   ],
   "source": [
    "tf.sum(a) # 잘못된 코드1"
   ]
  },
  {
   "cell_type": "code",
   "execution_count": 56,
   "id": "6e39f587-0fc6-4e12-b4ef-ea5a2182f6e6",
   "metadata": {},
   "outputs": [
    {
     "ename": "AttributeError",
     "evalue": "'tensorflow.python.framework.ops.EagerTensor' object has no attribute 'sum'",
     "output_type": "error",
     "traceback": [
      "\u001b[1;31m---------------------------------------------------------------------------\u001b[0m",
      "\u001b[1;31mAttributeError\u001b[0m                            Traceback (most recent call last)",
      "Input \u001b[1;32mIn [56]\u001b[0m, in \u001b[0;36m<cell line: 1>\u001b[1;34m()\u001b[0m\n\u001b[1;32m----> 1\u001b[0m \u001b[43ma\u001b[49m\u001b[38;5;241;43m.\u001b[39;49m\u001b[43msum\u001b[49m(a)\n",
      "File \u001b[1;32m~\\anaconda3\\envs\\ds2022\\lib\\site-packages\\tensorflow\\python\\framework\\ops.py:513\u001b[0m, in \u001b[0;36mTensor.__getattr__\u001b[1;34m(self, name)\u001b[0m\n\u001b[0;32m    505\u001b[0m \u001b[38;5;28;01mif\u001b[39;00m name \u001b[38;5;129;01min\u001b[39;00m {\u001b[38;5;124m\"\u001b[39m\u001b[38;5;124mT\u001b[39m\u001b[38;5;124m\"\u001b[39m, \u001b[38;5;124m\"\u001b[39m\u001b[38;5;124mastype\u001b[39m\u001b[38;5;124m\"\u001b[39m, \u001b[38;5;124m\"\u001b[39m\u001b[38;5;124mravel\u001b[39m\u001b[38;5;124m\"\u001b[39m, \u001b[38;5;124m\"\u001b[39m\u001b[38;5;124mtranspose\u001b[39m\u001b[38;5;124m\"\u001b[39m, \u001b[38;5;124m\"\u001b[39m\u001b[38;5;124mreshape\u001b[39m\u001b[38;5;124m\"\u001b[39m, \u001b[38;5;124m\"\u001b[39m\u001b[38;5;124mclip\u001b[39m\u001b[38;5;124m\"\u001b[39m, \u001b[38;5;124m\"\u001b[39m\u001b[38;5;124msize\u001b[39m\u001b[38;5;124m\"\u001b[39m,\n\u001b[0;32m    506\u001b[0m             \u001b[38;5;124m\"\u001b[39m\u001b[38;5;124mtolist\u001b[39m\u001b[38;5;124m\"\u001b[39m, \u001b[38;5;124m\"\u001b[39m\u001b[38;5;124mdata\u001b[39m\u001b[38;5;124m\"\u001b[39m}:\n\u001b[0;32m    507\u001b[0m   \u001b[38;5;66;03m# TODO(wangpeng): Export the enable_numpy_behavior knob\u001b[39;00m\n\u001b[0;32m    508\u001b[0m   \u001b[38;5;28;01mraise\u001b[39;00m \u001b[38;5;167;01mAttributeError\u001b[39;00m(\u001b[38;5;124m\"\"\"\u001b[39m\n\u001b[0;32m    509\u001b[0m \u001b[38;5;124m    \u001b[39m\u001b[38;5;124m'\u001b[39m\u001b[38;5;132;01m{}\u001b[39;00m\u001b[38;5;124m'\u001b[39m\u001b[38;5;124m object has no attribute \u001b[39m\u001b[38;5;124m'\u001b[39m\u001b[38;5;132;01m{}\u001b[39;00m\u001b[38;5;124m'\u001b[39m\u001b[38;5;124m.\u001b[39m\n\u001b[0;32m    510\u001b[0m \u001b[38;5;124m    If you are looking for numpy-related methods, please run the following:\u001b[39m\n\u001b[0;32m    511\u001b[0m \u001b[38;5;124m    from tensorflow.python.ops.numpy_ops import np_config\u001b[39m\n\u001b[0;32m    512\u001b[0m \u001b[38;5;124m    np_config.enable_numpy_behavior()\u001b[39m\u001b[38;5;124m\"\"\"\u001b[39m\u001b[38;5;241m.\u001b[39mformat(\u001b[38;5;28mtype\u001b[39m(\u001b[38;5;28mself\u001b[39m)\u001b[38;5;241m.\u001b[39m\u001b[38;5;18m__name__\u001b[39m, name))\n\u001b[1;32m--> 513\u001b[0m \u001b[38;5;28;43mself\u001b[39;49m\u001b[38;5;241;43m.\u001b[39;49m\u001b[38;5;21;43m__getattribute__\u001b[39;49m\u001b[43m(\u001b[49m\u001b[43mname\u001b[49m\u001b[43m)\u001b[49m\n",
      "\u001b[1;31mAttributeError\u001b[0m: 'tensorflow.python.framework.ops.EagerTensor' object has no attribute 'sum'"
     ]
    }
   ],
   "source": [
    "a.sum(a) # 잘못된 코드2"
   ]
  },
  {
   "cell_type": "code",
   "execution_count": 83,
   "id": "8641012a-3245-46ef-aa47-997340225113",
   "metadata": {},
   "outputs": [
    {
     "data": {
      "text/plain": [
       "<tf.Tensor: shape=(), dtype=int32, numpy=6>"
      ]
     },
     "execution_count": 83,
     "metadata": {},
     "output_type": "execute_result"
    }
   ],
   "source": [
    "tf.reduce_max(a)"
   ]
  },
  {
   "cell_type": "code",
   "execution_count": 84,
   "id": "66a5ab2c-3f32-45a3-b440-83650868d2e1",
   "metadata": {},
   "outputs": [
    {
     "data": {
      "text/plain": [
       "<tf.Tensor: shape=(), dtype=int32, numpy=1>"
      ]
     },
     "execution_count": 84,
     "metadata": {},
     "output_type": "execute_result"
    }
   ],
   "source": [
    "tf.reduce_min(a)"
   ]
  },
  {
   "cell_type": "code",
   "execution_count": 85,
   "id": "732e51e1-100a-4d70-8c53-2473c14b55eb",
   "metadata": {},
   "outputs": [
    {
     "data": {
      "text/plain": [
       "<tf.Tensor: shape=(), dtype=int32, numpy=3>"
      ]
     },
     "execution_count": 85,
     "metadata": {},
     "output_type": "execute_result"
    }
   ],
   "source": [
    "tf.reduce_mean(a)"
   ]
  },
  {
   "cell_type": "markdown",
   "id": "aea760be-8424-4409-a8c3-683692092a0f",
   "metadata": {},
   "source": [
    "- 왜 평균이 3.5가 아닌 3이 나오지?"
   ]
  },
  {
   "cell_type": "markdown",
   "id": "1fb27f93-5823-4548-80e0-5c3aeedbbf2f",
   "metadata": {},
   "source": [
    "`-` 행렬곱 고급"
   ]
  },
  {
   "cell_type": "code",
   "execution_count": 89,
   "id": "d5006c33-7cc1-4aa5-b3e1-4a8ec1f039e4",
   "metadata": {},
   "outputs": [
    {
     "data": {
      "text/plain": [
       "<tf.Tensor: shape=(2, 2), dtype=float32, numpy=\n",
       "array([[1., 0.],\n",
       "       [0., 1.]], dtype=float32)>"
      ]
     },
     "execution_count": 89,
     "metadata": {},
     "output_type": "execute_result"
    }
   ],
   "source": [
    "_I=tf.constant([[1.0,0.0],[0.0,1.0]])\n",
    "_I"
   ]
  },
  {
   "cell_type": "code",
   "execution_count": 90,
   "id": "83f81efc-f108-4a42-9164-c988f2e1083d",
   "metadata": {},
   "outputs": [
    {
     "data": {
      "text/plain": [
       "<tf.Tensor: shape=(2,), dtype=int32, numpy=array([11, 22])>"
      ]
     },
     "execution_count": 90,
     "metadata": {},
     "output_type": "execute_result"
    }
   ],
   "source": [
    "_x=tf.constant([11,22])\n",
    "_x"
   ]
  },
  {
   "cell_type": "code",
   "execution_count": 91,
   "id": "8ee0808b-342b-48b6-af38-53da9999ec6e",
   "metadata": {},
   "outputs": [
    {
     "ename": "InvalidArgumentError",
     "evalue": "cannot compute MatMul as input #1(zero-based) was expected to be a float tensor but is a int32 tensor [Op:MatMul]",
     "output_type": "error",
     "traceback": [
      "\u001b[1;31m---------------------------------------------------------------------------\u001b[0m",
      "\u001b[1;31mInvalidArgumentError\u001b[0m                      Traceback (most recent call last)",
      "Input \u001b[1;32mIn [91]\u001b[0m, in \u001b[0;36m<cell line: 1>\u001b[1;34m()\u001b[0m\n\u001b[1;32m----> 1\u001b[0m \u001b[43m_I\u001b[49m\u001b[43m \u001b[49m\u001b[38;5;241;43m@\u001b[39;49m\u001b[43m \u001b[49m\u001b[43m_x\u001b[49m\n",
      "File \u001b[1;32m~\\anaconda3\\envs\\ds2022\\lib\\site-packages\\tensorflow\\python\\util\\traceback_utils.py:153\u001b[0m, in \u001b[0;36mfilter_traceback.<locals>.error_handler\u001b[1;34m(*args, **kwargs)\u001b[0m\n\u001b[0;32m    151\u001b[0m \u001b[38;5;28;01mexcept\u001b[39;00m \u001b[38;5;167;01mException\u001b[39;00m \u001b[38;5;28;01mas\u001b[39;00m e:\n\u001b[0;32m    152\u001b[0m   filtered_tb \u001b[38;5;241m=\u001b[39m _process_traceback_frames(e\u001b[38;5;241m.\u001b[39m__traceback__)\n\u001b[1;32m--> 153\u001b[0m   \u001b[38;5;28;01mraise\u001b[39;00m e\u001b[38;5;241m.\u001b[39mwith_traceback(filtered_tb) \u001b[38;5;28;01mfrom\u001b[39;00m \u001b[38;5;28mNone\u001b[39m\n\u001b[0;32m    154\u001b[0m \u001b[38;5;28;01mfinally\u001b[39;00m:\n\u001b[0;32m    155\u001b[0m   \u001b[38;5;28;01mdel\u001b[39;00m filtered_tb\n",
      "File \u001b[1;32m~\\anaconda3\\envs\\ds2022\\lib\\site-packages\\tensorflow\\python\\framework\\ops.py:7186\u001b[0m, in \u001b[0;36mraise_from_not_ok_status\u001b[1;34m(e, name)\u001b[0m\n\u001b[0;32m   7184\u001b[0m \u001b[38;5;28;01mdef\u001b[39;00m \u001b[38;5;21mraise_from_not_ok_status\u001b[39m(e, name):\n\u001b[0;32m   7185\u001b[0m   e\u001b[38;5;241m.\u001b[39mmessage \u001b[38;5;241m+\u001b[39m\u001b[38;5;241m=\u001b[39m (\u001b[38;5;124m\"\u001b[39m\u001b[38;5;124m name: \u001b[39m\u001b[38;5;124m\"\u001b[39m \u001b[38;5;241m+\u001b[39m name \u001b[38;5;28;01mif\u001b[39;00m name \u001b[38;5;129;01mis\u001b[39;00m \u001b[38;5;129;01mnot\u001b[39;00m \u001b[38;5;28;01mNone\u001b[39;00m \u001b[38;5;28;01melse\u001b[39;00m \u001b[38;5;124m\"\u001b[39m\u001b[38;5;124m\"\u001b[39m)\n\u001b[1;32m-> 7186\u001b[0m   \u001b[38;5;28;01mraise\u001b[39;00m core\u001b[38;5;241m.\u001b[39m_status_to_exception(e) \u001b[38;5;28;01mfrom\u001b[39;00m \u001b[38;5;28mNone\u001b[39m\n",
      "\u001b[1;31mInvalidArgumentError\u001b[0m: cannot compute MatMul as input #1(zero-based) was expected to be a float tensor but is a int32 tensor [Op:MatMul]"
     ]
    }
   ],
   "source": [
    "_I @ _x"
   ]
  },
  {
   "cell_type": "markdown",
   "id": "7e0a74e1-3b39-4a97-a620-9a8dfdfd51b4",
   "metadata": {},
   "source": [
    "- 오류가 남.    \n",
    "- 이유: _x가 길이가 2인 열벡터도 아니고 길이가 2인 행벡터도 아니기 때문, _x는 그저 길이가 2인 벡터임"
   ]
  },
  {
   "cell_type": "code",
   "execution_count": 92,
   "id": "2fafd81b-d53d-41b8-9191-24d931ad48c1",
   "metadata": {},
   "outputs": [
    {
     "ename": "InvalidArgumentError",
     "evalue": "cannot compute MatMul as input #1(zero-based) was expected to be a int32 tensor but is a float tensor [Op:MatMul]",
     "output_type": "error",
     "traceback": [
      "\u001b[1;31m---------------------------------------------------------------------------\u001b[0m",
      "\u001b[1;31mInvalidArgumentError\u001b[0m                      Traceback (most recent call last)",
      "Input \u001b[1;32mIn [92]\u001b[0m, in \u001b[0;36m<cell line: 1>\u001b[1;34m()\u001b[0m\n\u001b[1;32m----> 1\u001b[0m \u001b[43m_x\u001b[49m\u001b[43m \u001b[49m\u001b[38;5;241;43m@\u001b[39;49m\u001b[43m \u001b[49m\u001b[43m_I\u001b[49m\n",
      "File \u001b[1;32m~\\anaconda3\\envs\\ds2022\\lib\\site-packages\\tensorflow\\python\\util\\traceback_utils.py:153\u001b[0m, in \u001b[0;36mfilter_traceback.<locals>.error_handler\u001b[1;34m(*args, **kwargs)\u001b[0m\n\u001b[0;32m    151\u001b[0m \u001b[38;5;28;01mexcept\u001b[39;00m \u001b[38;5;167;01mException\u001b[39;00m \u001b[38;5;28;01mas\u001b[39;00m e:\n\u001b[0;32m    152\u001b[0m   filtered_tb \u001b[38;5;241m=\u001b[39m _process_traceback_frames(e\u001b[38;5;241m.\u001b[39m__traceback__)\n\u001b[1;32m--> 153\u001b[0m   \u001b[38;5;28;01mraise\u001b[39;00m e\u001b[38;5;241m.\u001b[39mwith_traceback(filtered_tb) \u001b[38;5;28;01mfrom\u001b[39;00m \u001b[38;5;28mNone\u001b[39m\n\u001b[0;32m    154\u001b[0m \u001b[38;5;28;01mfinally\u001b[39;00m:\n\u001b[0;32m    155\u001b[0m   \u001b[38;5;28;01mdel\u001b[39;00m filtered_tb\n",
      "File \u001b[1;32m~\\anaconda3\\envs\\ds2022\\lib\\site-packages\\tensorflow\\python\\framework\\ops.py:7186\u001b[0m, in \u001b[0;36mraise_from_not_ok_status\u001b[1;34m(e, name)\u001b[0m\n\u001b[0;32m   7184\u001b[0m \u001b[38;5;28;01mdef\u001b[39;00m \u001b[38;5;21mraise_from_not_ok_status\u001b[39m(e, name):\n\u001b[0;32m   7185\u001b[0m   e\u001b[38;5;241m.\u001b[39mmessage \u001b[38;5;241m+\u001b[39m\u001b[38;5;241m=\u001b[39m (\u001b[38;5;124m\"\u001b[39m\u001b[38;5;124m name: \u001b[39m\u001b[38;5;124m\"\u001b[39m \u001b[38;5;241m+\u001b[39m name \u001b[38;5;28;01mif\u001b[39;00m name \u001b[38;5;129;01mis\u001b[39;00m \u001b[38;5;129;01mnot\u001b[39;00m \u001b[38;5;28;01mNone\u001b[39;00m \u001b[38;5;28;01melse\u001b[39;00m \u001b[38;5;124m\"\u001b[39m\u001b[38;5;124m\"\u001b[39m)\n\u001b[1;32m-> 7186\u001b[0m   \u001b[38;5;28;01mraise\u001b[39;00m core\u001b[38;5;241m.\u001b[39m_status_to_exception(e) \u001b[38;5;28;01mfrom\u001b[39;00m \u001b[38;5;28mNone\u001b[39m\n",
      "\u001b[1;31mInvalidArgumentError\u001b[0m: cannot compute MatMul as input #1(zero-based) was expected to be a int32 tensor but is a float tensor [Op:MatMul]"
     ]
    }
   ],
   "source": [
    "_x @ _I"
   ]
  },
  {
   "cell_type": "markdown",
   "id": "ec44ad8c-17e4-4133-b597-98e0ef874f67",
   "metadata": {},
   "source": [
    "- 이것 또한 마찬가지, 열벡터가 아니기 때문"
   ]
  },
  {
   "cell_type": "markdown",
   "id": "22ee5b88-7ce6-45ac-a7d7-56cf9146ab3b",
   "metadata": {},
   "source": [
    "`-` 다음과 같이 표현해주어야 함"
   ]
  },
  {
   "cell_type": "markdown",
   "id": "f53f9515-ef1c-4408-905c-1335653abf85",
   "metadata": {},
   "source": [
    "`-` 열벡터 선언"
   ]
  },
  {
   "cell_type": "code",
   "execution_count": 99,
   "id": "f80f10d4-e351-4c82-b06f-1e00c4733c1b",
   "metadata": {},
   "outputs": [
    {
     "data": {
      "text/plain": [
       "<tf.Tensor: shape=(2, 1), dtype=int32, numpy=\n",
       "array([[11],\n",
       "       [22]])>"
      ]
     },
     "execution_count": 99,
     "metadata": {},
     "output_type": "execute_result"
    }
   ],
   "source": [
    "_x=tf.constant([[11],[22]])\n",
    "_x"
   ]
  },
  {
   "cell_type": "markdown",
   "id": "677d0a8b-7d2d-491d-94f1-d0a16bc05098",
   "metadata": {},
   "source": [
    "`-` cf. 행벡터"
   ]
  },
  {
   "cell_type": "code",
   "execution_count": 100,
   "id": "19824965-cd6a-4f4c-a517-a2b798ac148c",
   "metadata": {},
   "outputs": [
    {
     "data": {
      "text/plain": [
       "<tf.Tensor: shape=(1, 2), dtype=int32, numpy=array([[11, 22]])>"
      ]
     },
     "execution_count": 100,
     "metadata": {},
     "output_type": "execute_result"
    }
   ],
   "source": [
    "_x=tf.constant([[11,22]])\n",
    "_x"
   ]
  },
  {
   "cell_type": "code",
   "execution_count": 101,
   "id": "587964c0-053b-4517-8a3a-42fc12c7b2a9",
   "metadata": {},
   "outputs": [
    {
     "ename": "InvalidArgumentError",
     "evalue": "cannot compute MatMul as input #1(zero-based) was expected to be a float tensor but is a int32 tensor [Op:MatMul]",
     "output_type": "error",
     "traceback": [
      "\u001b[1;31m---------------------------------------------------------------------------\u001b[0m",
      "\u001b[1;31mInvalidArgumentError\u001b[0m                      Traceback (most recent call last)",
      "Input \u001b[1;32mIn [101]\u001b[0m, in \u001b[0;36m<cell line: 1>\u001b[1;34m()\u001b[0m\n\u001b[1;32m----> 1\u001b[0m \u001b[43m_I\u001b[49m\u001b[43m \u001b[49m\u001b[38;5;241;43m@\u001b[39;49m\u001b[43m \u001b[49m\u001b[43m_x\u001b[49m\n",
      "File \u001b[1;32m~\\anaconda3\\envs\\ds2022\\lib\\site-packages\\tensorflow\\python\\util\\traceback_utils.py:153\u001b[0m, in \u001b[0;36mfilter_traceback.<locals>.error_handler\u001b[1;34m(*args, **kwargs)\u001b[0m\n\u001b[0;32m    151\u001b[0m \u001b[38;5;28;01mexcept\u001b[39;00m \u001b[38;5;167;01mException\u001b[39;00m \u001b[38;5;28;01mas\u001b[39;00m e:\n\u001b[0;32m    152\u001b[0m   filtered_tb \u001b[38;5;241m=\u001b[39m _process_traceback_frames(e\u001b[38;5;241m.\u001b[39m__traceback__)\n\u001b[1;32m--> 153\u001b[0m   \u001b[38;5;28;01mraise\u001b[39;00m e\u001b[38;5;241m.\u001b[39mwith_traceback(filtered_tb) \u001b[38;5;28;01mfrom\u001b[39;00m \u001b[38;5;28mNone\u001b[39m\n\u001b[0;32m    154\u001b[0m \u001b[38;5;28;01mfinally\u001b[39;00m:\n\u001b[0;32m    155\u001b[0m   \u001b[38;5;28;01mdel\u001b[39;00m filtered_tb\n",
      "File \u001b[1;32m~\\anaconda3\\envs\\ds2022\\lib\\site-packages\\tensorflow\\python\\framework\\ops.py:7186\u001b[0m, in \u001b[0;36mraise_from_not_ok_status\u001b[1;34m(e, name)\u001b[0m\n\u001b[0;32m   7184\u001b[0m \u001b[38;5;28;01mdef\u001b[39;00m \u001b[38;5;21mraise_from_not_ok_status\u001b[39m(e, name):\n\u001b[0;32m   7185\u001b[0m   e\u001b[38;5;241m.\u001b[39mmessage \u001b[38;5;241m+\u001b[39m\u001b[38;5;241m=\u001b[39m (\u001b[38;5;124m\"\u001b[39m\u001b[38;5;124m name: \u001b[39m\u001b[38;5;124m\"\u001b[39m \u001b[38;5;241m+\u001b[39m name \u001b[38;5;28;01mif\u001b[39;00m name \u001b[38;5;129;01mis\u001b[39;00m \u001b[38;5;129;01mnot\u001b[39;00m \u001b[38;5;28;01mNone\u001b[39;00m \u001b[38;5;28;01melse\u001b[39;00m \u001b[38;5;124m\"\u001b[39m\u001b[38;5;124m\"\u001b[39m)\n\u001b[1;32m-> 7186\u001b[0m   \u001b[38;5;28;01mraise\u001b[39;00m core\u001b[38;5;241m.\u001b[39m_status_to_exception(e) \u001b[38;5;28;01mfrom\u001b[39;00m \u001b[38;5;28mNone\u001b[39m\n",
      "\u001b[1;31mInvalidArgumentError\u001b[0m: cannot compute MatMul as input #1(zero-based) was expected to be a float tensor but is a int32 tensor [Op:MatMul]"
     ]
    }
   ],
   "source": [
    "_I @ _x"
   ]
  },
  {
   "cell_type": "markdown",
   "id": "3e62e56d-9028-41af-99d5-c6ae9bca91e5",
   "metadata": {},
   "source": [
    "- float형으로 선언해주지 않아서 난 오류"
   ]
  },
  {
   "cell_type": "code",
   "execution_count": 104,
   "id": "1b4b7837-d07d-421f-b413-f2d46db68e5f",
   "metadata": {},
   "outputs": [
    {
     "data": {
      "text/plain": [
       "<tf.Tensor: shape=(2, 1), dtype=float32, numpy=\n",
       "array([[11.],\n",
       "       [22.]], dtype=float32)>"
      ]
     },
     "execution_count": 104,
     "metadata": {},
     "output_type": "execute_result"
    }
   ],
   "source": [
    "_x=tf.constant([[11.0],[22.0]])\n",
    "_x"
   ]
  },
  {
   "cell_type": "code",
   "execution_count": 105,
   "id": "52057ea8-e584-4033-83d3-91475da1412e",
   "metadata": {},
   "outputs": [
    {
     "data": {
      "text/plain": [
       "<tf.Tensor: shape=(2, 1), dtype=float32, numpy=\n",
       "array([[11.],\n",
       "       [22.]], dtype=float32)>"
      ]
     },
     "execution_count": 105,
     "metadata": {},
     "output_type": "execute_result"
    }
   ],
   "source": [
    "_I @ _x"
   ]
  },
  {
   "cell_type": "markdown",
   "id": "4f55d5a9-ff2e-41ec-be2e-250b55623c51",
   "metadata": {},
   "source": [
    "`-` 행벡터 선언 `tf.constant([[ , ]])`"
   ]
  },
  {
   "cell_type": "code",
   "execution_count": 106,
   "id": "92d691da-f5f7-4dd1-8f57-39414d547dde",
   "metadata": {},
   "outputs": [
    {
     "data": {
      "text/plain": [
       "<tf.Tensor: shape=(1, 2), dtype=float32, numpy=array([[11., 22.]], dtype=float32)>"
      ]
     },
     "execution_count": 106,
     "metadata": {},
     "output_type": "execute_result"
    }
   ],
   "source": [
    "_x=tf.constant([[11.0,22.0]])\n",
    "_x"
   ]
  },
  {
   "cell_type": "code",
   "execution_count": 108,
   "id": "8d8f4090-00f4-45e0-8363-7818fa303646",
   "metadata": {},
   "outputs": [
    {
     "data": {
      "text/plain": [
       "<tf.Tensor: shape=(1, 2), dtype=float32, numpy=array([[11., 22.]], dtype=float32)>"
      ]
     },
     "execution_count": 108,
     "metadata": {},
     "output_type": "execute_result"
    }
   ],
   "source": [
    "_x @ _I"
   ]
  },
  {
   "cell_type": "markdown",
   "id": "fd5f00ce-6b0a-480c-9420-5747f9b3e939",
   "metadata": {},
   "source": [
    "#### 형태변환"
   ]
  },
  {
   "cell_type": "markdown",
   "id": "65c4502b-71b9-493c-84b9-ea8c0481b80f",
   "metadata": {},
   "source": [
    "`-` 기본 "
   ]
  },
  {
   "cell_type": "code",
   "execution_count": 109,
   "id": "fe342ac7-c351-4fc5-8a27-21b265588062",
   "metadata": {},
   "outputs": [
    {
     "data": {
      "text/plain": [
       "<tf.Tensor: shape=(4,), dtype=int32, numpy=array([1, 2, 3, 4])>"
      ]
     },
     "execution_count": 109,
     "metadata": {},
     "output_type": "execute_result"
    }
   ],
   "source": [
    "a=tf.constant([1,2,3,4])\n",
    "a"
   ]
  },
  {
   "cell_type": "markdown",
   "id": "60d2a7e1-0b1c-4268-bdfe-8aa99d7a663c",
   "metadata": {},
   "source": [
    "- 이는 길이가 4인 벡터"
   ]
  },
  {
   "cell_type": "code",
   "execution_count": 110,
   "id": "449fd4e8-94d5-4a87-87d4-42261f94b049",
   "metadata": {},
   "outputs": [
    {
     "data": {
      "text/plain": [
       "<tf.Tensor: shape=(2, 2), dtype=int32, numpy=\n",
       "array([[1, 2],\n",
       "       [3, 4]])>"
      ]
     },
     "execution_count": 110,
     "metadata": {},
     "output_type": "execute_result"
    }
   ],
   "source": [
    "tf.reshape(a,(2,2))"
   ]
  },
  {
   "cell_type": "code",
   "execution_count": 111,
   "id": "7116d40d-15a0-4d77-b2fb-f28d6ea5d249",
   "metadata": {},
   "outputs": [
    {
     "data": {
      "text/plain": [
       "<tf.Tensor: shape=(4, 1), dtype=int32, numpy=\n",
       "array([[1],\n",
       "       [2],\n",
       "       [3],\n",
       "       [4]])>"
      ]
     },
     "execution_count": 111,
     "metadata": {},
     "output_type": "execute_result"
    }
   ],
   "source": [
    "tf.reshape(a,(4,1))"
   ]
  },
  {
   "cell_type": "code",
   "execution_count": 73,
   "id": "696043bf-7a2c-4110-a61c-82b1c61eef98",
   "metadata": {},
   "outputs": [
    {
     "data": {
      "text/plain": [
       "<tf.Tensor: shape=(1, 4), dtype=int32, numpy=array([[1, 2, 3, 4]])>"
      ]
     },
     "execution_count": 73,
     "metadata": {},
     "output_type": "execute_result"
    }
   ],
   "source": [
    "tf.reshape(a,(1,4))"
   ]
  },
  {
   "cell_type": "markdown",
   "id": "a1f22dc1-05c1-4b55-9df2-3beaf9c1b837",
   "metadata": {},
   "source": [
    "`-` 응용 `-1`이용   \n",
    ": `-1`은 자동 연산하여 값을 채워주는 기능"
   ]
  },
  {
   "cell_type": "code",
   "execution_count": 112,
   "id": "2e81f5ce-a59f-4af3-b184-1212de2df032",
   "metadata": {},
   "outputs": [
    {
     "data": {
      "text/plain": [
       "<tf.Tensor: shape=(12,), dtype=int32, numpy=array([ 0,  1,  2,  3,  4,  5,  6,  7,  8,  9, 10, 11])>"
      ]
     },
     "execution_count": 112,
     "metadata": {},
     "output_type": "execute_result"
    }
   ],
   "source": [
    "a=tf.constant([0,1,2,3,4,5,6,7,8,9,10,11])\n",
    "a"
   ]
  },
  {
   "cell_type": "code",
   "execution_count": 113,
   "id": "bca6fe57-9be9-492b-9ac2-71301a62505a",
   "metadata": {},
   "outputs": [
    {
     "data": {
      "text/plain": [
       "<tf.Tensor: shape=(4, 3), dtype=int32, numpy=\n",
       "array([[ 0,  1,  2],\n",
       "       [ 3,  4,  5],\n",
       "       [ 6,  7,  8],\n",
       "       [ 9, 10, 11]])>"
      ]
     },
     "execution_count": 113,
     "metadata": {},
     "output_type": "execute_result"
    }
   ],
   "source": [
    "tf.reshape(a,(4,3)) # 기본"
   ]
  },
  {
   "cell_type": "code",
   "execution_count": 76,
   "id": "03f5b1e6-f5fd-4649-8096-f4ea70e63595",
   "metadata": {},
   "outputs": [
    {
     "data": {
      "text/plain": [
       "<tf.Tensor: shape=(4, 3), dtype=int32, numpy=\n",
       "array([[ 0,  1,  2],\n",
       "       [ 3,  4,  5],\n",
       "       [ 6,  7,  8],\n",
       "       [ 9, 10, 11]])>"
      ]
     },
     "execution_count": 76,
     "metadata": {},
     "output_type": "execute_result"
    }
   ],
   "source": [
    "tf.reshape(a,(4,-1)) # 응용"
   ]
  },
  {
   "cell_type": "code",
   "execution_count": 114,
   "id": "06638f2a-0185-47d6-a266-d8949a97a5fe",
   "metadata": {},
   "outputs": [
    {
     "data": {
      "text/plain": [
       "<tf.Tensor: shape=(2, 2, 3), dtype=int32, numpy=\n",
       "array([[[ 0,  1,  2],\n",
       "        [ 3,  4,  5]],\n",
       "\n",
       "       [[ 6,  7,  8],\n",
       "        [ 9, 10, 11]]])>"
      ]
     },
     "execution_count": 114,
     "metadata": {},
     "output_type": "execute_result"
    }
   ],
   "source": [
    "tf.reshape(a,(2,2,3)) # 기본"
   ]
  },
  {
   "cell_type": "code",
   "execution_count": 115,
   "id": "540c9492-be7a-4639-9cbc-c75d2cea718c",
   "metadata": {},
   "outputs": [
    {
     "data": {
      "text/plain": [
       "<tf.Tensor: shape=(2, 2, 3), dtype=int32, numpy=\n",
       "array([[[ 0,  1,  2],\n",
       "        [ 3,  4,  5]],\n",
       "\n",
       "       [[ 6,  7,  8],\n",
       "        [ 9, 10, 11]]])>"
      ]
     },
     "execution_count": 115,
     "metadata": {},
     "output_type": "execute_result"
    }
   ],
   "source": [
    "tf.reshape(a,(2,2,-1)) # 응용"
   ]
  },
  {
   "cell_type": "code",
   "execution_count": 116,
   "id": "0d90e6be-a4dd-4ee1-bedc-e452ef25b2c4",
   "metadata": {},
   "outputs": [
    {
     "data": {
      "text/plain": [
       "<tf.Tensor: shape=(3, 2, 2), dtype=int32, numpy=\n",
       "array([[[ 0,  1],\n",
       "        [ 2,  3]],\n",
       "\n",
       "       [[ 4,  5],\n",
       "        [ 6,  7]],\n",
       "\n",
       "       [[ 8,  9],\n",
       "        [10, 11]]])>"
      ]
     },
     "execution_count": 116,
     "metadata": {},
     "output_type": "execute_result"
    }
   ],
   "source": [
    "tf.reshape(a,(3,2,2)) # 기본"
   ]
  },
  {
   "cell_type": "code",
   "execution_count": 117,
   "id": "1ff72a2a-97b5-4b91-9cc0-f43f15e212cc",
   "metadata": {},
   "outputs": [
    {
     "data": {
      "text/plain": [
       "<tf.Tensor: shape=(3, 2, 2), dtype=int32, numpy=\n",
       "array([[[ 0,  1],\n",
       "        [ 2,  3]],\n",
       "\n",
       "       [[ 4,  5],\n",
       "        [ 6,  7]],\n",
       "\n",
       "       [[ 8,  9],\n",
       "        [10, 11]]])>"
      ]
     },
     "execution_count": 117,
     "metadata": {},
     "output_type": "execute_result"
    }
   ],
   "source": [
    "tf.reshape(a,(3,2,-1))"
   ]
  },
  {
   "cell_type": "code",
   "execution_count": 118,
   "id": "8bcd87d0-3299-4e64-95b3-edcf44c330f3",
   "metadata": {},
   "outputs": [
    {
     "data": {
      "text/plain": [
       "<tf.Tensor: shape=(2, 6), dtype=int32, numpy=\n",
       "array([[ 0,  1,  2,  3,  4,  5],\n",
       "       [ 6,  7,  8,  9, 10, 11]])>"
      ]
     },
     "execution_count": 118,
     "metadata": {},
     "output_type": "execute_result"
    }
   ],
   "source": [
    "tf.reshape(a,(2,-1))"
   ]
  },
  {
   "cell_type": "markdown",
   "id": "f51526a7-646f-4df0-9b56-e4622c19305a",
   "metadata": {},
   "source": [
    "- $2×6$ 행렬로 만들어줌, 즉, 3차원으로 만들고 싶을 땐 두 번째 값까지는 채워줘야 함"
   ]
  },
  {
   "cell_type": "markdown",
   "id": "464ea0dc-02b3-474f-8fa2-14403e8b200d",
   "metadata": {},
   "source": [
    "`-` reshape한 것을 다시 reshape 해줄 수 있음"
   ]
  },
  {
   "cell_type": "markdown",
   "id": "ee62919d-018f-4c61-81ba-9549384216d7",
   "metadata": {},
   "source": [
    "`-` reshape한 것을 1차원으로 다시 만들어보자"
   ]
  },
  {
   "cell_type": "code",
   "execution_count": 119,
   "id": "26fc25c1-dd88-4473-a04a-5edc6323ff26",
   "metadata": {},
   "outputs": [
    {
     "data": {
      "text/plain": [
       "<tf.Tensor: shape=(2, 2, 3), dtype=int32, numpy=\n",
       "array([[[ 0,  1,  2],\n",
       "        [ 3,  4,  5]],\n",
       "\n",
       "       [[ 6,  7,  8],\n",
       "        [ 9, 10, 11]]])>"
      ]
     },
     "execution_count": 119,
     "metadata": {},
     "output_type": "execute_result"
    }
   ],
   "source": [
    "b=tf.reshape(a,(2,2,-1))\n",
    "b"
   ]
  },
  {
   "cell_type": "code",
   "execution_count": 120,
   "id": "1cd08158-8502-487a-a743-aa61c7319388",
   "metadata": {},
   "outputs": [
    {
     "data": {
      "text/plain": [
       "<tf.Tensor: shape=(12,), dtype=int32, numpy=array([ 0,  1,  2,  3,  4,  5,  6,  7,  8,  9, 10, 11])>"
      ]
     },
     "execution_count": 120,
     "metadata": {},
     "output_type": "execute_result"
    }
   ],
   "source": [
    "tf.reshape(b,12) # 기본"
   ]
  },
  {
   "cell_type": "code",
   "execution_count": 121,
   "id": "84d1f402-55e2-4453-9020-1b2e6eeed42b",
   "metadata": {},
   "outputs": [
    {
     "data": {
      "text/plain": [
       "<tf.Tensor: shape=(12,), dtype=int32, numpy=array([ 0,  1,  2,  3,  4,  5,  6,  7,  8,  9, 10, 11])>"
      ]
     },
     "execution_count": 121,
     "metadata": {},
     "output_type": "execute_result"
    }
   ],
   "source": [
    "tf.reshape(b,-1) # 응용"
   ]
  },
  {
   "cell_type": "markdown",
   "id": "9db8b632-6107-4926-a3d3-ef90302b27d3",
   "metadata": {},
   "source": [
    "#### 선언고급"
   ]
  },
  {
   "cell_type": "markdown",
   "id": "ec2a151c-a477-4884-b63e-db43ac3eb035",
   "metadata": {},
   "source": [
    "`-` 대각행렬선언"
   ]
  },
  {
   "cell_type": "markdown",
   "id": "d1ec7e0f-90d0-4e72-9e53-bba22c3012d2",
   "metadata": {},
   "source": [
    "`-` 넘파이로 먼저 만들고 `tf.constant( )`를 사용하여 자료형 변환"
   ]
  },
  {
   "cell_type": "code",
   "execution_count": 85,
   "id": "e57bea1c-9630-4ee9-aa72-a3b609c1edf4",
   "metadata": {},
   "outputs": [
    {
     "data": {
      "text/plain": [
       "array([[1, 0, 0],\n",
       "       [0, 2, 0],\n",
       "       [0, 0, 3]])"
      ]
     },
     "execution_count": 85,
     "metadata": {},
     "output_type": "execute_result"
    }
   ],
   "source": [
    "np.diag([1,2,3])"
   ]
  },
  {
   "cell_type": "code",
   "execution_count": 86,
   "id": "99551da9-08e5-4404-8770-d2bbebdb5d08",
   "metadata": {},
   "outputs": [
    {
     "data": {
      "text/plain": [
       "<tf.Tensor: shape=(3, 3), dtype=int32, numpy=\n",
       "array([[1, 0, 0],\n",
       "       [0, 2, 0],\n",
       "       [0, 0, 3]])>"
      ]
     },
     "execution_count": 86,
     "metadata": {},
     "output_type": "execute_result"
    }
   ],
   "source": [
    "tf.constant(np.diag([1,2,3]))"
   ]
  },
  {
   "cell_type": "markdown",
   "id": "5b3c938f-910a-4cd3-a268-69507a58f7cc",
   "metadata": {},
   "source": [
    "`-` 1으로만 이루어진 텐서 만들기"
   ]
  },
  {
   "cell_type": "code",
   "execution_count": 87,
   "id": "3576f83d-c1b2-48fd-9802-8b2da24954ac",
   "metadata": {},
   "outputs": [
    {
     "data": {
      "text/plain": [
       "<tf.Tensor: shape=(3, 4), dtype=float32, numpy=\n",
       "array([[1., 1., 1., 1.],\n",
       "       [1., 1., 1., 1.],\n",
       "       [1., 1., 1., 1.]], dtype=float32)>"
      ]
     },
     "execution_count": 87,
     "metadata": {},
     "output_type": "execute_result"
    }
   ],
   "source": [
    "tf.ones((3,4))"
   ]
  },
  {
   "cell_type": "code",
   "execution_count": 88,
   "id": "0ceeb0c6-b4f0-4731-a70e-996004992999",
   "metadata": {},
   "outputs": [
    {
     "data": {
      "text/plain": [
       "<tf.Tensor: shape=(3, 4), dtype=float32, numpy=\n",
       "array([[1., 1., 1., 1.],\n",
       "       [1., 1., 1., 1.],\n",
       "       [1., 1., 1., 1.]], dtype=float32)>"
      ]
     },
     "execution_count": 88,
     "metadata": {},
     "output_type": "execute_result"
    }
   ],
   "source": [
    "tf.ones([3,4])"
   ]
  },
  {
   "cell_type": "code",
   "execution_count": 89,
   "id": "78dd0a98-89f3-48cb-9962-98a85f5ffb5e",
   "metadata": {},
   "outputs": [
    {
     "data": {
      "text/plain": [
       "<tf.Tensor: shape=(3, 4), dtype=int32, numpy=\n",
       "array([[1, 1, 1, 1],\n",
       "       [1, 1, 1, 1],\n",
       "       [1, 1, 1, 1]])>"
      ]
     },
     "execution_count": 89,
     "metadata": {},
     "output_type": "execute_result"
    }
   ],
   "source": [
    "tf.reshape([1]*12,(3,4))"
   ]
  },
  {
   "cell_type": "code",
   "execution_count": 90,
   "id": "9e3958e4-ea7e-4ce9-a8ed-8de45b403987",
   "metadata": {},
   "outputs": [
    {
     "data": {
      "text/plain": [
       "<tf.Tensor: shape=(3, 4), dtype=int32, numpy=\n",
       "array([[1, 1, 1, 1],\n",
       "       [1, 1, 1, 1],\n",
       "       [1, 1, 1, 1]])>"
      ]
     },
     "execution_count": 90,
     "metadata": {},
     "output_type": "execute_result"
    }
   ],
   "source": [
    "tf.reshape(tf.constant([1]*12),(3,4))"
   ]
  },
  {
   "cell_type": "markdown",
   "id": "4675c285-9d1a-4a7e-bb99-eea28728d80b",
   "metadata": {},
   "source": [
    "- 같은 결과"
   ]
  },
  {
   "cell_type": "markdown",
   "id": "433eaebf-5b1a-441f-99c7-05426adcf403",
   "metadata": {},
   "source": [
    "`-` 0으로만 이루어진 텐서 만들기"
   ]
  },
  {
   "cell_type": "code",
   "execution_count": 92,
   "id": "e9332ee2-e76f-48a2-be31-92bccb76a0ed",
   "metadata": {},
   "outputs": [
    {
     "data": {
      "text/plain": [
       "<tf.Tensor: shape=(3, 3), dtype=float32, numpy=\n",
       "array([[0., 0., 0.],\n",
       "       [0., 0., 0.],\n",
       "       [0., 0., 0.]], dtype=float32)>"
      ]
     },
     "execution_count": 92,
     "metadata": {},
     "output_type": "execute_result"
    }
   ],
   "source": [
    "tf.zeros([3,3])"
   ]
  },
  {
   "cell_type": "code",
   "execution_count": 93,
   "id": "5c56cca2-2340-423e-a45e-7ff1f03ffd89",
   "metadata": {},
   "outputs": [
    {
     "data": {
      "text/plain": [
       "<tf.Tensor: shape=(3, 3), dtype=float32, numpy=\n",
       "array([[0., 0., 0.],\n",
       "       [0., 0., 0.],\n",
       "       [0., 0., 0.]], dtype=float32)>"
      ]
     },
     "execution_count": 93,
     "metadata": {},
     "output_type": "execute_result"
    }
   ],
   "source": [
    "tf.zeros((3,3))"
   ]
  },
  {
   "cell_type": "markdown",
   "id": "c30670c6-7ed9-45cf-8167-416c55d3b8a1",
   "metadata": {},
   "source": [
    "`-` 리스트로 변환 후 텐서로 변환하지 않고 바로 텐서로 바꾸기   \n",
    ": 즉,   \n",
    "a $\\to$ list $\\to$ tensor - X   \n",
    "a $\\to$ tensor - O"
   ]
  },
  {
   "cell_type": "code",
   "execution_count": 99,
   "id": "bdaa34bc-1a09-4a55-a31d-0ee5e7b5497b",
   "metadata": {},
   "outputs": [
    {
     "data": {
      "text/plain": [
       "range(0, 12)"
      ]
     },
     "execution_count": 99,
     "metadata": {},
     "output_type": "execute_result"
    }
   ],
   "source": [
    "range(12)"
   ]
  },
  {
   "cell_type": "code",
   "execution_count": 100,
   "id": "1bb1a17a-9c88-461f-931b-2de70b880e1a",
   "metadata": {},
   "outputs": [
    {
     "data": {
      "text/plain": [
       "\u001b[1;31mType:\u001b[0m        range\n",
       "\u001b[1;31mString form:\u001b[0m range(0, 12)\n",
       "\u001b[1;31mLength:\u001b[0m      12\n",
       "\u001b[1;31mDocstring:\u001b[0m  \n",
       "range(stop) -> range object\n",
       "range(start, stop[, step]) -> range object\n",
       "\n",
       "Return an object that produces a sequence of integers from start (inclusive)\n",
       "to stop (exclusive) by step.  range(i, j) produces i, i+1, i+2, ..., j-1.\n",
       "start defaults to 0, and stop is omitted!  range(4) produces 0, 1, 2, 3.\n",
       "These are exactly the valid indices for a list of 4 elements.\n",
       "When step is given, it specifies the increment (or decrement).\n"
      ]
     },
     "metadata": {},
     "output_type": "display_data"
    }
   ],
   "source": [
    "a=range(0,12)\n",
    "a?"
   ]
  },
  {
   "cell_type": "markdown",
   "id": "d924908a-f8ba-4cff-9325-d510aa8472c6",
   "metadata": {},
   "source": [
    "- range? 가 무엇인지는 모르겠지만, 일단 리스트로 바꿔보자."
   ]
  },
  {
   "cell_type": "code",
   "execution_count": 98,
   "id": "a9beab59-1e79-4c3f-800c-6d75836b95f5",
   "metadata": {},
   "outputs": [
    {
     "data": {
      "text/plain": [
       "[0, 1, 2, 3, 4, 5, 6, 7, 8, 9, 10, 11]"
      ]
     },
     "execution_count": 98,
     "metadata": {},
     "output_type": "execute_result"
    }
   ],
   "source": [
    "list(a)"
   ]
  },
  {
   "cell_type": "markdown",
   "id": "1f9dae5a-9e74-4d92-91fc-cf057ee98a0f",
   "metadata": {},
   "source": [
    "- list 형태로 변환되었다."
   ]
  },
  {
   "cell_type": "markdown",
   "id": "5c02d0d8-5970-4a6e-b6c8-7371a8b4f664",
   "metadata": {},
   "source": [
    "`-` 동일한 논리로 range 가 무엇인지는 모르겠지만, tf.constant를 이용하여 텐서형태로 바꿔보자. (tf.constant가 텐서로 변환해주는 기능)"
   ]
  },
  {
   "cell_type": "code",
   "execution_count": 102,
   "id": "6ff44499-6971-48b6-9fd2-302b2cb05893",
   "metadata": {},
   "outputs": [
    {
     "data": {
      "text/plain": [
       "<tf.Tensor: shape=(12,), dtype=int32, numpy=array([ 0,  1,  2,  3,  4,  5,  6,  7,  8,  9, 10, 11])>"
      ]
     },
     "execution_count": 102,
     "metadata": {},
     "output_type": "execute_result"
    }
   ],
   "source": [
    "tf.constant(range(0,12))"
   ]
  },
  {
   "cell_type": "code",
   "execution_count": 104,
   "id": "c920b5e0-f72b-41a1-bdca-df640ab0b702",
   "metadata": {},
   "outputs": [
    {
     "data": {
      "text/plain": [
       "<tf.Tensor: shape=(11,), dtype=int32, numpy=array([ 1,  2,  3,  4,  5,  6,  7,  8,  9, 10, 11])>"
      ]
     },
     "execution_count": 104,
     "metadata": {},
     "output_type": "execute_result"
    }
   ],
   "source": [
    "tf.constant(range(1,12)) # 1부터 시작"
   ]
  },
  {
   "cell_type": "code",
   "execution_count": 105,
   "id": "0d356a8d-dad0-4832-9f42-ef00f524a95c",
   "metadata": {},
   "outputs": [
    {
     "data": {
      "text/plain": [
       "<tf.Tensor: shape=(4,), dtype=int32, numpy=array([2, 3, 4, 5])>"
      ]
     },
     "execution_count": 105,
     "metadata": {},
     "output_type": "execute_result"
    }
   ],
   "source": [
    "tf.constant(range(2,6))"
   ]
  },
  {
   "cell_type": "code",
   "execution_count": 108,
   "id": "be7616ab-d504-457f-abdf-9b55c73c8fd9",
   "metadata": {},
   "outputs": [
    {
     "data": {
      "text/plain": [
       "<tf.Tensor: shape=(10,), dtype=int32, numpy=array([ 2,  4,  6,  8, 10, 12, 14, 16, 18, 20])>"
      ]
     },
     "execution_count": 108,
     "metadata": {},
     "output_type": "execute_result"
    }
   ],
   "source": [
    "tf.constant(range(2,21,2)) # 2칸씩 점프"
   ]
  },
  {
   "cell_type": "code",
   "execution_count": 111,
   "id": "c8aa26bb-9f46-40c0-8bec-1f5fe8aa5cd3",
   "metadata": {},
   "outputs": [
    {
     "data": {
      "text/plain": [
       "<tf.Tensor: shape=(7,), dtype=int32, numpy=array([ 2,  5,  8, 11, 14, 17, 20])>"
      ]
     },
     "execution_count": 111,
     "metadata": {},
     "output_type": "execute_result"
    }
   ],
   "source": [
    "tf.constant(range(2,21,3)) # 3칸씩 점프"
   ]
  },
  {
   "cell_type": "markdown",
   "id": "62d1e7fb-c869-47c6-a99a-74bb778a7359",
   "metadata": {},
   "source": [
    "`-` 등간격 수열 만들기"
   ]
  },
  {
   "cell_type": "code",
   "execution_count": 114,
   "id": "a6833c6a-b560-40bc-8c88-6875b299734e",
   "metadata": {},
   "outputs": [
    {
     "data": {
      "text/plain": [
       "<tf.Tensor: shape=(14,), dtype=float64, numpy=\n",
       "array([0.        , 0.07692308, 0.15384615, 0.23076923, 0.30769231,\n",
       "       0.38461538, 0.46153846, 0.53846154, 0.61538462, 0.69230769,\n",
       "       0.76923077, 0.84615385, 0.92307692, 1.        ])>"
      ]
     },
     "execution_count": 114,
     "metadata": {},
     "output_type": "execute_result"
    }
   ],
   "source": [
    "tf.linspace(0,1,14) # 0 ~ 1 까지 길이가 14인 수열 만들기"
   ]
  },
  {
   "cell_type": "code",
   "execution_count": 116,
   "id": "29bf4c15-d885-416e-b7f3-e346ae47c800",
   "metadata": {},
   "outputs": [
    {
     "data": {
      "text/plain": [
       "<tf.Tensor: shape=(14,), dtype=float64, numpy=\n",
       "array([-1.        ,  0.61538462,  2.23076923,  3.84615385,  5.46153846,\n",
       "        7.07692308,  8.69230769, 10.30769231, 11.92307692, 13.53846154,\n",
       "       15.15384615, 16.76923077, 18.38461538, 20.        ])>"
      ]
     },
     "execution_count": 116,
     "metadata": {},
     "output_type": "execute_result"
    }
   ],
   "source": [
    "tf.linspace(-1,20,14) # -1 ~ 20 까지 길이가 14인 수열"
   ]
  },
  {
   "cell_type": "code",
   "execution_count": 119,
   "id": "6c668785-af8d-4130-a1dc-46832c359d59",
   "metadata": {},
   "outputs": [
    {
     "data": {
      "text/plain": [
       "<tf.Tensor: shape=(14, 2), dtype=float64, numpy=\n",
       "array([[ 0.        , -1.        ],\n",
       "       [ 1.07692308,  0.61538462],\n",
       "       [ 2.15384615,  2.23076923],\n",
       "       [ 3.23076923,  3.84615385],\n",
       "       [ 4.30769231,  5.46153846],\n",
       "       [ 5.38461538,  7.07692308],\n",
       "       [ 6.46153846,  8.69230769],\n",
       "       [ 7.53846154, 10.30769231],\n",
       "       [ 8.61538462, 11.92307692],\n",
       "       [ 9.69230769, 13.53846154],\n",
       "       [10.76923077, 15.15384615],\n",
       "       [11.84615385, 16.76923077],\n",
       "       [12.92307692, 18.38461538],\n",
       "       [14.        , 20.        ]])>"
      ]
     },
     "execution_count": 119,
     "metadata": {},
     "output_type": "execute_result"
    }
   ],
   "source": [
    "tf.linspace([0,-1],[14,20],14) # 첫 열: 0~14까지, 두 번째 열: -1~20까지 길이가 14인 수열"
   ]
  },
  {
   "cell_type": "markdown",
   "id": "06c1b3eb-7bfa-43ae-a716-24f36e89184d",
   "metadata": {},
   "source": [
    "`-` $14×2$가 아닌 $2×14$ 행렬은?\n",
    "\n",
    ": `axis=1`사용"
   ]
  },
  {
   "cell_type": "code",
   "execution_count": 123,
   "id": "1d9f6342-df71-4b4a-9333-8bd1c0dc6120",
   "metadata": {},
   "outputs": [
    {
     "data": {
      "text/plain": [
       "<tf.Tensor: shape=(2, 14), dtype=float64, numpy=\n",
       "array([[ 0.        ,  0.07692308,  0.15384615,  0.23076923,  0.30769231,\n",
       "         0.38461538,  0.46153846,  0.53846154,  0.61538462,  0.69230769,\n",
       "         0.76923077,  0.84615385,  0.92307692,  1.        ],\n",
       "       [-1.        ,  0.61538462,  2.23076923,  3.84615385,  5.46153846,\n",
       "         7.07692308,  8.69230769, 10.30769231, 11.92307692, 13.53846154,\n",
       "        15.15384615, 16.76923077, 18.38461538, 20.        ]])>"
      ]
     },
     "execution_count": 123,
     "metadata": {},
     "output_type": "execute_result"
    }
   ],
   "source": [
    "tf.linspace([0,-1],[1,20],14,axis=1)"
   ]
  },
  {
   "cell_type": "code",
   "execution_count": 124,
   "id": "e534b6e5-6520-405c-9fff-2e9fb368f7ff",
   "metadata": {},
   "outputs": [
    {
     "data": {
      "text/plain": [
       "<tf.Tensor: shape=(14, 2), dtype=float64, numpy=\n",
       "array([[ 0.        , -1.        ],\n",
       "       [ 0.07692308,  0.61538462],\n",
       "       [ 0.15384615,  2.23076923],\n",
       "       [ 0.23076923,  3.84615385],\n",
       "       [ 0.30769231,  5.46153846],\n",
       "       [ 0.38461538,  7.07692308],\n",
       "       [ 0.46153846,  8.69230769],\n",
       "       [ 0.53846154, 10.30769231],\n",
       "       [ 0.61538462, 11.92307692],\n",
       "       [ 0.69230769, 13.53846154],\n",
       "       [ 0.76923077, 15.15384615],\n",
       "       [ 0.84615385, 16.76923077],\n",
       "       [ 0.92307692, 18.38461538],\n",
       "       [ 1.        , 20.        ]])>"
      ]
     },
     "execution_count": 124,
     "metadata": {},
     "output_type": "execute_result"
    }
   ],
   "source": [
    "tf.linspace([0,-1],[1,20],14,axis=0)"
   ]
  },
  {
   "cell_type": "markdown",
   "id": "995ac242-f0e2-462d-a5c8-095060035777",
   "metadata": {},
   "source": [
    "`-` 랜덤"
   ]
  },
  {
   "cell_type": "code",
   "execution_count": 130,
   "id": "ed459990-7c5e-46fd-827f-7134dbc94018",
   "metadata": {},
   "outputs": [
    {
     "data": {
      "text/plain": [
       "<tf.Tensor: shape=(10,), dtype=float32, numpy=\n",
       "array([-2.031805  ,  0.0878811 , -0.08389507, -0.4712213 ,  1.7228402 ,\n",
       "        1.5234696 , -0.45930204,  0.27446908,  0.6777201 ,  1.2311221 ],\n",
       "      dtype=float32)>"
      ]
     },
     "execution_count": 130,
     "metadata": {},
     "output_type": "execute_result"
    }
   ],
   "source": [
    "tf.random.normal([10])"
   ]
  },
  {
   "cell_type": "code",
   "execution_count": 131,
   "id": "dc0aa07c-63ee-4fda-b5fe-73a7b994e427",
   "metadata": {},
   "outputs": [
    {
     "ename": "InvalidArgumentError",
     "evalue": "shape must be a vector of {int32,int64}, got shape [] [Op:RandomStandardNormal]",
     "output_type": "error",
     "traceback": [
      "\u001b[1;31m---------------------------------------------------------------------------\u001b[0m",
      "\u001b[1;31mInvalidArgumentError\u001b[0m                      Traceback (most recent call last)",
      "Input \u001b[1;32mIn [131]\u001b[0m, in \u001b[0;36m<cell line: 1>\u001b[1;34m()\u001b[0m\n\u001b[1;32m----> 1\u001b[0m \u001b[43mtf\u001b[49m\u001b[38;5;241;43m.\u001b[39;49m\u001b[43mrandom\u001b[49m\u001b[38;5;241;43m.\u001b[39;49m\u001b[43mnormal\u001b[49m\u001b[43m(\u001b[49m\u001b[38;5;241;43m10\u001b[39;49m\u001b[43m)\u001b[49m\n",
      "File \u001b[1;32m~\\anaconda3\\envs\\ds2022\\lib\\site-packages\\tensorflow\\python\\util\\traceback_utils.py:153\u001b[0m, in \u001b[0;36mfilter_traceback.<locals>.error_handler\u001b[1;34m(*args, **kwargs)\u001b[0m\n\u001b[0;32m    151\u001b[0m \u001b[38;5;28;01mexcept\u001b[39;00m \u001b[38;5;167;01mException\u001b[39;00m \u001b[38;5;28;01mas\u001b[39;00m e:\n\u001b[0;32m    152\u001b[0m   filtered_tb \u001b[38;5;241m=\u001b[39m _process_traceback_frames(e\u001b[38;5;241m.\u001b[39m__traceback__)\n\u001b[1;32m--> 153\u001b[0m   \u001b[38;5;28;01mraise\u001b[39;00m e\u001b[38;5;241m.\u001b[39mwith_traceback(filtered_tb) \u001b[38;5;28;01mfrom\u001b[39;00m \u001b[38;5;28mNone\u001b[39m\n\u001b[0;32m    154\u001b[0m \u001b[38;5;28;01mfinally\u001b[39;00m:\n\u001b[0;32m    155\u001b[0m   \u001b[38;5;28;01mdel\u001b[39;00m filtered_tb\n",
      "File \u001b[1;32m~\\anaconda3\\envs\\ds2022\\lib\\site-packages\\tensorflow\\python\\framework\\ops.py:7186\u001b[0m, in \u001b[0;36mraise_from_not_ok_status\u001b[1;34m(e, name)\u001b[0m\n\u001b[0;32m   7184\u001b[0m \u001b[38;5;28;01mdef\u001b[39;00m \u001b[38;5;21mraise_from_not_ok_status\u001b[39m(e, name):\n\u001b[0;32m   7185\u001b[0m   e\u001b[38;5;241m.\u001b[39mmessage \u001b[38;5;241m+\u001b[39m\u001b[38;5;241m=\u001b[39m (\u001b[38;5;124m\"\u001b[39m\u001b[38;5;124m name: \u001b[39m\u001b[38;5;124m\"\u001b[39m \u001b[38;5;241m+\u001b[39m name \u001b[38;5;28;01mif\u001b[39;00m name \u001b[38;5;129;01mis\u001b[39;00m \u001b[38;5;129;01mnot\u001b[39;00m \u001b[38;5;28;01mNone\u001b[39;00m \u001b[38;5;28;01melse\u001b[39;00m \u001b[38;5;124m\"\u001b[39m\u001b[38;5;124m\"\u001b[39m)\n\u001b[1;32m-> 7186\u001b[0m   \u001b[38;5;28;01mraise\u001b[39;00m core\u001b[38;5;241m.\u001b[39m_status_to_exception(e) \u001b[38;5;28;01mfrom\u001b[39;00m \u001b[38;5;28mNone\u001b[39m\n",
      "\u001b[1;31mInvalidArgumentError\u001b[0m: shape must be a vector of {int32,int64}, got shape [] [Op:RandomStandardNormal]"
     ]
    }
   ],
   "source": [
    "tf.random.normal(10)"
   ]
  },
  {
   "cell_type": "markdown",
   "id": "bf54cb1f-5cfd-4a4b-a986-f957f5972160",
   "metadata": {},
   "source": [
    "- 위와 같이 하면 오류가 남"
   ]
  },
  {
   "cell_type": "code",
   "execution_count": 128,
   "id": "b1c80d77-5c0c-4024-9e9d-7f9f2dcf7f77",
   "metadata": {},
   "outputs": [
    {
     "data": {
      "text/plain": [
       "<tf.Tensor: shape=(3, 3), dtype=float32, numpy=\n",
       "array([[-0.67909116,  1.6647867 , -1.1921434 ],\n",
       "       [-0.41828915, -1.007226  , -0.37517777],\n",
       "       [-0.35723418, -0.90447557, -0.21201086]], dtype=float32)>"
      ]
     },
     "execution_count": 128,
     "metadata": {},
     "output_type": "execute_result"
    }
   ],
   "source": [
    "tf.random.normal([3,3])"
   ]
  },
  {
   "cell_type": "code",
   "execution_count": 132,
   "id": "b503cf55-b122-433f-806c-3e591a487b1e",
   "metadata": {},
   "outputs": [
    {
     "data": {
      "text/plain": [
       "<tf.Tensor: shape=(3, 3), dtype=float32, numpy=\n",
       "array([[0.49846053, 0.53244936, 0.37250876],\n",
       "       [0.5088717 , 0.01882815, 0.50129974],\n",
       "       [0.8890096 , 0.7716527 , 0.68743026]], dtype=float32)>"
      ]
     },
     "execution_count": 132,
     "metadata": {},
     "output_type": "execute_result"
    }
   ],
   "source": [
    "tf.random.uniform([3,3])"
   ]
  },
  {
   "cell_type": "markdown",
   "id": "27164041-a625-4c73-94d1-f67e0c6aa03a",
   "metadata": {},
   "source": [
    "`-` numpy를 이용한 자료형 변환"
   ]
  },
  {
   "cell_type": "code",
   "execution_count": 135,
   "id": "3557a4a8-8208-49f5-97b2-596c16a7ae7a",
   "metadata": {},
   "outputs": [
    {
     "data": {
      "text/plain": [
       "array([ 1.42470939, -0.43431904,  0.35631914, -0.83401698,  0.98403914,\n",
       "        0.03123622,  0.3625249 ,  0.45672775,  0.51236327,  0.74739683])"
      ]
     },
     "execution_count": 135,
     "metadata": {},
     "output_type": "execute_result"
    }
   ],
   "source": [
    "a=np.random.randn(10)\n",
    "a"
   ]
  },
  {
   "cell_type": "code",
   "execution_count": 138,
   "id": "ac00e151-09cc-4fe7-9fb1-12d584ed602d",
   "metadata": {},
   "outputs": [
    {
     "data": {
      "text/plain": [
       "[1.4247093944590954,\n",
       " -0.4343190394693054,\n",
       " 0.35631913687969213,\n",
       " -0.8340169822900257,\n",
       " 0.9840391372400604,\n",
       " 0.031236220641082953,\n",
       " 0.36252489894658657,\n",
       " 0.4567277510989872,\n",
       " 0.5123632705088501,\n",
       " 0.7473968310235103]"
      ]
     },
     "execution_count": 138,
     "metadata": {},
     "output_type": "execute_result"
    }
   ],
   "source": [
    "list(a) # 일단 리스트로 변환해 봄"
   ]
  },
  {
   "cell_type": "code",
   "execution_count": 139,
   "id": "cc47d4fe-256a-46d4-8111-e6e5e1c0e5b1",
   "metadata": {},
   "outputs": [
    {
     "data": {
      "text/plain": [
       "<tf.Tensor: shape=(10,), dtype=float64, numpy=\n",
       "array([ 1.42470939, -0.43431904,  0.35631914, -0.83401698,  0.98403914,\n",
       "        0.03123622,  0.3625249 ,  0.45672775,  0.51236327,  0.74739683])>"
      ]
     },
     "execution_count": 139,
     "metadata": {},
     "output_type": "execute_result"
    }
   ],
   "source": [
    "tf.constant(a)"
   ]
  },
  {
   "cell_type": "markdown",
   "id": "32f0019f-792e-4576-a3e9-bef238b4044d",
   "metadata": {},
   "source": [
    "`-` tf.random이 numpy에 있는 모든 기능을 구현하는 것은 아님."
   ]
  },
  {
   "cell_type": "code",
   "execution_count": 140,
   "id": "3206b56b-d0fc-419a-9679-9304e7d925f5",
   "metadata": {},
   "outputs": [
    {
     "data": {
      "text/plain": [
       "array([-0.37923556,  1.89366845, -0.60768019,  0.89680048, -0.11687065,\n",
       "       -0.67507322,  3.45690649,  0.13774121,  0.5305251 , -0.37030568])"
      ]
     },
     "execution_count": 140,
     "metadata": {},
     "output_type": "execute_result"
    }
   ],
   "source": [
    "np.random.randn(10)"
   ]
  },
  {
   "cell_type": "code",
   "execution_count": 143,
   "id": "dff767ee-7639-4336-80ef-01634bcdaf74",
   "metadata": {},
   "outputs": [
    {
     "ename": "AttributeError",
     "evalue": "module 'tensorflow._api.v2.random' has no attribute 'randn'",
     "output_type": "error",
     "traceback": [
      "\u001b[1;31m---------------------------------------------------------------------------\u001b[0m",
      "\u001b[1;31mAttributeError\u001b[0m                            Traceback (most recent call last)",
      "Input \u001b[1;32mIn [143]\u001b[0m, in \u001b[0;36m<cell line: 1>\u001b[1;34m()\u001b[0m\n\u001b[1;32m----> 1\u001b[0m \u001b[43mtf\u001b[49m\u001b[38;5;241;43m.\u001b[39;49m\u001b[43mrandom\u001b[49m\u001b[38;5;241;43m.\u001b[39;49m\u001b[43mrandn\u001b[49m([\u001b[38;5;241m10\u001b[39m])\n",
      "\u001b[1;31mAttributeError\u001b[0m: module 'tensorflow._api.v2.random' has no attribute 'randn'"
     ]
    }
   ],
   "source": [
    "tf.random.randn([10])"
   ]
  },
  {
   "cell_type": "markdown",
   "id": "8147cc16-cd80-47c7-a6a3-dc707464543a",
   "metadata": {},
   "source": [
    "#### tf.concat"
   ]
  },
  {
   "cell_type": "markdown",
   "id": "d16c60da-67b6-4483-a3a0-1321a647a9dd",
   "metadata": {},
   "source": [
    "``` python\n",
    "tf.concat 사용법: 축 지정이 매우 헷갈리기 때문에 외우는 게 필요함\n",
    "python은 0부터 시작하기 때문에 첫 번째 축이 0을 의미, 두 번째 축이 1을 의미, 세 번째 축이 2를 의미한다.\n",
    "(2차원에선) 함수 축을 그릴 때 가로를 그린 후 세로를 그리기 때문에 첫 번째 축이 가로, 두 번째 축이 세로를 의미한다. \n",
    "(2차원에선) 따라서 axis=0은 가로로 쌓는다는 것(아래로 계속해서)을 의미하고 axis=1은 세로로 쌓는다는 것(옆으로 계속해서)을 의미한다.\n",
    "3차원부터는 앞서 정리한 것처럼 첫 번째 축-0, 두 번째 축-1, 세 번째 축-2 으로 외우는 것이 좋다.\n",
    "```"
   ]
  },
  {
   "cell_type": "markdown",
   "id": "60965128-2d73-4ab0-b1dc-ee590638d1ef",
   "metadata": {},
   "source": [
    "`-` $2×1$ 벡터와 $2×1$ 벡터를 concat해서 $2×2$ 벡터로 만든다"
   ]
  },
  {
   "cell_type": "code",
   "execution_count": 149,
   "id": "bb61b677-0613-4961-8c15-2fc7b1f4aa26",
   "metadata": {},
   "outputs": [],
   "source": [
    "a=tf.constant([[1],[2]])\n",
    "b=tf.constant([[3],[4]])"
   ]
  },
  {
   "cell_type": "code",
   "execution_count": 150,
   "id": "1dfd5667-f780-4818-a597-33c1e930793e",
   "metadata": {},
   "outputs": [
    {
     "data": {
      "text/plain": [
       "(<tf.Tensor: shape=(2, 1), dtype=int32, numpy=\n",
       " array([[1],\n",
       "        [2]])>,\n",
       " <tf.Tensor: shape=(2, 1), dtype=int32, numpy=\n",
       " array([[3],\n",
       "        [4]])>)"
      ]
     },
     "execution_count": 150,
     "metadata": {},
     "output_type": "execute_result"
    }
   ],
   "source": [
    "a,b"
   ]
  },
  {
   "cell_type": "code",
   "execution_count": 151,
   "id": "f721249b-0d57-48a4-90ab-76b2c1b18581",
   "metadata": {},
   "outputs": [
    {
     "ename": "TypeError",
     "evalue": "Missing required positional argument",
     "output_type": "error",
     "traceback": [
      "\u001b[1;31m---------------------------------------------------------------------------\u001b[0m",
      "\u001b[1;31mTypeError\u001b[0m                                 Traceback (most recent call last)",
      "Input \u001b[1;32mIn [151]\u001b[0m, in \u001b[0;36m<cell line: 1>\u001b[1;34m()\u001b[0m\n\u001b[1;32m----> 1\u001b[0m \u001b[43mtf\u001b[49m\u001b[38;5;241;43m.\u001b[39;49m\u001b[43mconcat\u001b[49m\u001b[43m(\u001b[49m\u001b[43m[\u001b[49m\u001b[43ma\u001b[49m\u001b[43m,\u001b[49m\u001b[43mb\u001b[49m\u001b[43m]\u001b[49m\u001b[43m)\u001b[49m\n",
      "File \u001b[1;32m~\\anaconda3\\envs\\ds2022\\lib\\site-packages\\tensorflow\\python\\util\\traceback_utils.py:153\u001b[0m, in \u001b[0;36mfilter_traceback.<locals>.error_handler\u001b[1;34m(*args, **kwargs)\u001b[0m\n\u001b[0;32m    151\u001b[0m \u001b[38;5;28;01mexcept\u001b[39;00m \u001b[38;5;167;01mException\u001b[39;00m \u001b[38;5;28;01mas\u001b[39;00m e:\n\u001b[0;32m    152\u001b[0m   filtered_tb \u001b[38;5;241m=\u001b[39m _process_traceback_frames(e\u001b[38;5;241m.\u001b[39m__traceback__)\n\u001b[1;32m--> 153\u001b[0m   \u001b[38;5;28;01mraise\u001b[39;00m e\u001b[38;5;241m.\u001b[39mwith_traceback(filtered_tb) \u001b[38;5;28;01mfrom\u001b[39;00m \u001b[38;5;28mNone\u001b[39m\n\u001b[0;32m    154\u001b[0m \u001b[38;5;28;01mfinally\u001b[39;00m:\n\u001b[0;32m    155\u001b[0m   \u001b[38;5;28;01mdel\u001b[39;00m filtered_tb\n",
      "File \u001b[1;32m~\\anaconda3\\envs\\ds2022\\lib\\site-packages\\tensorflow\\python\\util\\dispatch.py:1076\u001b[0m, in \u001b[0;36madd_dispatch_support.<locals>.decorator.<locals>.op_dispatch_handler\u001b[1;34m(*args, **kwargs)\u001b[0m\n\u001b[0;32m   1074\u001b[0m \u001b[38;5;28;01mif\u001b[39;00m iterable_params \u001b[38;5;129;01mis\u001b[39;00m \u001b[38;5;129;01mnot\u001b[39;00m \u001b[38;5;28;01mNone\u001b[39;00m:\n\u001b[0;32m   1075\u001b[0m   args, kwargs \u001b[38;5;241m=\u001b[39m replace_iterable_params(args, kwargs, iterable_params)\n\u001b[1;32m-> 1076\u001b[0m result \u001b[38;5;241m=\u001b[39m \u001b[43mapi_dispatcher\u001b[49m\u001b[38;5;241;43m.\u001b[39;49m\u001b[43mDispatch\u001b[49m\u001b[43m(\u001b[49m\u001b[43margs\u001b[49m\u001b[43m,\u001b[49m\u001b[43m \u001b[49m\u001b[43mkwargs\u001b[49m\u001b[43m)\u001b[49m\n\u001b[0;32m   1077\u001b[0m \u001b[38;5;28;01mif\u001b[39;00m result \u001b[38;5;129;01mis\u001b[39;00m \u001b[38;5;129;01mnot\u001b[39;00m \u001b[38;5;28mNotImplemented\u001b[39m:\n\u001b[0;32m   1078\u001b[0m   \u001b[38;5;28;01mreturn\u001b[39;00m result\n",
      "\u001b[1;31mTypeError\u001b[0m: Missing required positional argument"
     ]
    }
   ],
   "source": [
    "tf.concat([a,b])"
   ]
  },
  {
   "cell_type": "markdown",
   "id": "d04abc3a-4898-4f14-ac5c-0971fe7b522d",
   "metadata": {},
   "source": [
    "`-` concat을 사용할 때는 축을 반드시 지정해주어야 한다. 그렇지 않으면 위와 같이 오류가 뜬다."
   ]
  },
  {
   "cell_type": "code",
   "execution_count": 153,
   "id": "62c99661-061d-41cd-a893-fe41685091f2",
   "metadata": {},
   "outputs": [
    {
     "data": {
      "text/plain": [
       "<tf.Tensor: shape=(2, 2), dtype=int32, numpy=\n",
       "array([[1, 3],\n",
       "       [2, 4]])>"
      ]
     },
     "execution_count": 153,
     "metadata": {},
     "output_type": "execute_result"
    }
   ],
   "source": [
    "tf.concat([a,b],axis=1)"
   ]
  },
  {
   "cell_type": "markdown",
   "id": "2514809f-ebcd-4a8f-aaf3-e327bc86e7f4",
   "metadata": {},
   "source": [
    "`-` $2×1$ 벡터와 $2×1$ 벡터를 concat해서 $4×1$ 벡터로 만든다"
   ]
  },
  {
   "cell_type": "code",
   "execution_count": 154,
   "id": "f9006cc0-a927-42f2-9fda-f3e981ef698e",
   "metadata": {},
   "outputs": [
    {
     "data": {
      "text/plain": [
       "<tf.Tensor: shape=(4, 1), dtype=int32, numpy=\n",
       "array([[1],\n",
       "       [2],\n",
       "       [3],\n",
       "       [4]])>"
      ]
     },
     "execution_count": 154,
     "metadata": {},
     "output_type": "execute_result"
    }
   ],
   "source": [
    "tf.concat([a,b],axis=0)"
   ]
  },
  {
   "cell_type": "markdown",
   "id": "d68889a9-829b-4083-908a-1d31948fb08e",
   "metadata": {},
   "source": [
    "`-` $1×2$ 벡터와 $1×2$ 벡터를 concat해서 $2×2$ 벡터로 만든다"
   ]
  },
  {
   "cell_type": "code",
   "execution_count": 156,
   "id": "6304bdfc-3ec0-4307-8500-62335d446f3c",
   "metadata": {},
   "outputs": [
    {
     "data": {
      "text/plain": [
       "(<tf.Tensor: shape=(2,), dtype=int32, numpy=array([1, 2])>,\n",
       " <tf.Tensor: shape=(2,), dtype=int32, numpy=array([3, 4])>)"
      ]
     },
     "execution_count": 156,
     "metadata": {},
     "output_type": "execute_result"
    }
   ],
   "source": [
    "a=tf.constant([1,2])\n",
    "b=tf.constant([3,4])\n",
    "a,b"
   ]
  },
  {
   "cell_type": "code",
   "execution_count": 158,
   "id": "2eb54d36-3ab6-4c23-a1f2-cb6a1540aec2",
   "metadata": {},
   "outputs": [
    {
     "data": {
      "text/plain": [
       "<tf.Tensor: shape=(4,), dtype=int32, numpy=array([1, 2, 3, 4])>"
      ]
     },
     "execution_count": 158,
     "metadata": {},
     "output_type": "execute_result"
    }
   ],
   "source": [
    "tf.concat([a,b],axis=0)"
   ]
  },
  {
   "cell_type": "markdown",
   "id": "e3657c21-7c3a-4726-a2d3-a58331b04c7a",
   "metadata": {},
   "source": [
    "- 의도하지 않은 결과가 나타나는 이유?    \n",
    ": 전체 축에 대한 `[ ]`를 입력해주지 않았기 때문......."
   ]
  },
  {
   "cell_type": "code",
   "execution_count": 162,
   "id": "7155ea99-c825-43f8-823c-bdc4cf88cd29",
   "metadata": {},
   "outputs": [
    {
     "data": {
      "text/plain": [
       "(<tf.Tensor: shape=(1, 2), dtype=int32, numpy=array([[1, 2]])>,\n",
       " <tf.Tensor: shape=(1, 2), dtype=int32, numpy=array([[3, 4]])>)"
      ]
     },
     "execution_count": 162,
     "metadata": {},
     "output_type": "execute_result"
    }
   ],
   "source": [
    "a=tf.constant([[1,2]])\n",
    "b=tf.constant([[3,4]])\n",
    "a,b"
   ]
  },
  {
   "cell_type": "code",
   "execution_count": 163,
   "id": "af158131-142d-4466-839d-917910ecc17a",
   "metadata": {},
   "outputs": [
    {
     "data": {
      "text/plain": [
       "<tf.Tensor: shape=(2, 2), dtype=int32, numpy=\n",
       "array([[1, 2],\n",
       "       [3, 4]])>"
      ]
     },
     "execution_count": 163,
     "metadata": {},
     "output_type": "execute_result"
    }
   ],
   "source": [
    "tf.concat([a,b],axis=0)"
   ]
  },
  {
   "cell_type": "markdown",
   "id": "a91971e4-9c99-44f0-aade-8769067e56f4",
   "metadata": {},
   "source": [
    "`-` $1×2$ 벡터와 $1×2$ 벡터를 concat해서 $1×4$ 벡터로 만든다"
   ]
  },
  {
   "cell_type": "code",
   "execution_count": 164,
   "id": "8c11522a-dc62-4234-8ae4-a4c2870ba30d",
   "metadata": {},
   "outputs": [
    {
     "data": {
      "text/plain": [
       "<tf.Tensor: shape=(1, 4), dtype=int32, numpy=array([[1, 2, 3, 4]])>"
      ]
     },
     "execution_count": 164,
     "metadata": {},
     "output_type": "execute_result"
    }
   ],
   "source": [
    "tf.concat([a,b],axis=1)"
   ]
  },
  {
   "cell_type": "markdown",
   "id": "bc4bb95b-95ee-4526-85d6-8e1623faf417",
   "metadata": {},
   "source": [
    "- axis=0은 아래로 쌓이고 axis=1은 옆으로 쌓인다고 기억하자."
   ]
  },
  {
   "cell_type": "markdown",
   "id": "bb14073d-3c05-40c8-9920-802e7e015734",
   "metadata": {},
   "source": [
    "`-` 3차원으로 확장해보자   \n",
    ": 첫 번째 축이 무엇인지 파악하는 것이 중요함 ! 다음 예제에서 첫 번째 축은 $2×3$행렬이 두 개 있는 3차원 축을 의미함"
   ]
  },
  {
   "cell_type": "code",
   "execution_count": 177,
   "id": "595c5d0d-48e8-41d5-947c-002885aab06f",
   "metadata": {},
   "outputs": [
    {
     "data": {
      "text/plain": [
       "(<tf.Tensor: shape=(2, 2, 3), dtype=int32, numpy=\n",
       " array([[[ 0,  1,  2],\n",
       "         [ 3,  4,  5]],\n",
       " \n",
       "        [[ 6,  7,  8],\n",
       "         [ 9, 10, 11]]])>,\n",
       " <tf.Tensor: shape=(2, 2, 3), dtype=int32, numpy=\n",
       " array([[[  0,  -1,  -2],\n",
       "         [ -3,  -4,  -5]],\n",
       " \n",
       "        [[ -6,  -7,  -8],\n",
       "         [ -9, -10, -11]]])>)"
      ]
     },
     "execution_count": 177,
     "metadata": {},
     "output_type": "execute_result"
    }
   ],
   "source": [
    "a=tf.reshape(tf.constant(range(12)),(2,2,3))\n",
    "b=-a\n",
    "a,b"
   ]
  },
  {
   "cell_type": "markdown",
   "id": "4c8a8e5e-8e1b-4e10-b60d-e61d4745bdb9",
   "metadata": {},
   "source": [
    "`-` $2×2×3$ 벡터와 $2×2×3$ 벡터를 concat해서 $4×2×3$ 벡터로 만든다"
   ]
  },
  {
   "cell_type": "code",
   "execution_count": 180,
   "id": "2eef5860-05c6-4cb4-81a9-0332bba73247",
   "metadata": {},
   "outputs": [
    {
     "data": {
      "text/plain": [
       "<tf.Tensor: shape=(4, 2, 3), dtype=int32, numpy=\n",
       "array([[[  0,   1,   2],\n",
       "        [  3,   4,   5]],\n",
       "\n",
       "       [[  6,   7,   8],\n",
       "        [  9,  10,  11]],\n",
       "\n",
       "       [[  0,  -1,  -2],\n",
       "        [ -3,  -4,  -5]],\n",
       "\n",
       "       [[ -6,  -7,  -8],\n",
       "        [ -9, -10, -11]]])>"
      ]
     },
     "execution_count": 180,
     "metadata": {},
     "output_type": "execute_result"
    }
   ],
   "source": [
    "tf.concat([a,b],axis=0)"
   ]
  },
  {
   "cell_type": "markdown",
   "id": "8ccc086c-6513-4816-b61e-232d75020d06",
   "metadata": {},
   "source": [
    "- 합치고자 하는 것이 첫 번째 축이기 때문에 axis=0을 이용한다"
   ]
  },
  {
   "cell_type": "markdown",
   "id": "018c56f8-fcce-4aa9-8cb3-621058a6d852",
   "metadata": {},
   "source": [
    "`-` $2×2×3$ 벡터와 $2×2×3$ 벡터를 concat해서 $2×4×3$ 벡터로 만든다"
   ]
  },
  {
   "cell_type": "code",
   "execution_count": 182,
   "id": "14910999-f92b-4aaf-9b78-f9830720bdf4",
   "metadata": {},
   "outputs": [
    {
     "data": {
      "text/plain": [
       "<tf.Tensor: shape=(2, 4, 3), dtype=int32, numpy=\n",
       "array([[[  0,   1,   2],\n",
       "        [  3,   4,   5],\n",
       "        [  0,  -1,  -2],\n",
       "        [ -3,  -4,  -5]],\n",
       "\n",
       "       [[  6,   7,   8],\n",
       "        [  9,  10,  11],\n",
       "        [ -6,  -7,  -8],\n",
       "        [ -9, -10, -11]]])>"
      ]
     },
     "execution_count": 182,
     "metadata": {},
     "output_type": "execute_result"
    }
   ],
   "source": [
    "tf.concat([a,b],axis=1)"
   ]
  },
  {
   "cell_type": "markdown",
   "id": "f72feaf7-0443-446b-93b1-0e1b3c7bb30e",
   "metadata": {},
   "source": [
    "- 합치고자 하는 것이 두 번째 축이기 때문에 axis=1을 이용한다"
   ]
  },
  {
   "cell_type": "markdown",
   "id": "8f972cea-2bc9-4523-b505-b9b2968dcc3f",
   "metadata": {},
   "source": [
    "`-` $2×2×3$ 벡터와 $2×2×3$ 벡터를 concat해서 $2×2×6$ 벡터로 만든다"
   ]
  },
  {
   "cell_type": "code",
   "execution_count": 183,
   "id": "7826a0da-b095-41fe-bc4f-ca6350f013bb",
   "metadata": {},
   "outputs": [
    {
     "data": {
      "text/plain": [
       "<tf.Tensor: shape=(2, 2, 6), dtype=int32, numpy=\n",
       "array([[[  0,   1,   2,   0,  -1,  -2],\n",
       "        [  3,   4,   5,  -3,  -4,  -5]],\n",
       "\n",
       "       [[  6,   7,   8,  -6,  -7,  -8],\n",
       "        [  9,  10,  11,  -9, -10, -11]]])>"
      ]
     },
     "execution_count": 183,
     "metadata": {},
     "output_type": "execute_result"
    }
   ],
   "source": [
    "tf.concat([a,b],axis=2)"
   ]
  },
  {
   "cell_type": "markdown",
   "id": "72a57312-ab37-4fe1-a44a-451d7134fc1c",
   "metadata": {},
   "source": [
    "- 합치고자 하는 것이 세 번째 축이기 때문에 axis=2를 이용한다."
   ]
  },
  {
   "cell_type": "markdown",
   "id": "9e7c973b-f3c7-42ed-a93b-8ab0c467c868",
   "metadata": {},
   "source": [
    "`-` 다른 가능한 방법"
   ]
  },
  {
   "cell_type": "code",
   "execution_count": 184,
   "id": "fca8083f-4bff-4c9a-a062-4315602b4f56",
   "metadata": {},
   "outputs": [
    {
     "data": {
      "text/plain": [
       "<tf.Tensor: shape=(2, 2, 6), dtype=int32, numpy=\n",
       "array([[[  0,   1,   2,   0,  -1,  -2],\n",
       "        [  3,   4,   5,  -3,  -4,  -5]],\n",
       "\n",
       "       [[  6,   7,   8,  -6,  -7,  -8],\n",
       "        [  9,  10,  11,  -9, -10, -11]]])>"
      ]
     },
     "execution_count": 184,
     "metadata": {},
     "output_type": "execute_result"
    }
   ],
   "source": [
    "tf.concat([a,b],axis=-1)"
   ]
  },
  {
   "cell_type": "markdown",
   "id": "362191ad-6b62-4e6c-9ea6-d1f3fc4a0303",
   "metadata": {},
   "source": [
    "- 이는 `axis=2`와 같다. 이는 -1이 뒤에서 첫번째 숫자를 의미하고 2가 뒤에서 첫번째 숫자(마지막 숫자)이기 때문이다"
   ]
  },
  {
   "cell_type": "code",
   "execution_count": 186,
   "id": "83e76198-2786-4f4b-9bbc-37b8a3e87d77",
   "metadata": {},
   "outputs": [
    {
     "data": {
      "text/plain": [
       "<tf.Tensor: shape=(2, 4, 3), dtype=int32, numpy=\n",
       "array([[[  0,   1,   2],\n",
       "        [  3,   4,   5],\n",
       "        [  0,  -1,  -2],\n",
       "        [ -3,  -4,  -5]],\n",
       "\n",
       "       [[  6,   7,   8],\n",
       "        [  9,  10,  11],\n",
       "        [ -6,  -7,  -8],\n",
       "        [ -9, -10, -11]]])>"
      ]
     },
     "execution_count": 186,
     "metadata": {},
     "output_type": "execute_result"
    }
   ],
   "source": [
    "tf.concat([a,b],axis=1)"
   ]
  },
  {
   "cell_type": "code",
   "execution_count": 187,
   "id": "0deeae7e-758b-4023-8fe0-225aaeda3e9a",
   "metadata": {},
   "outputs": [
    {
     "data": {
      "text/plain": [
       "<tf.Tensor: shape=(2, 4, 3), dtype=int32, numpy=\n",
       "array([[[  0,   1,   2],\n",
       "        [  3,   4,   5],\n",
       "        [  0,  -1,  -2],\n",
       "        [ -3,  -4,  -5]],\n",
       "\n",
       "       [[  6,   7,   8],\n",
       "        [  9,  10,  11],\n",
       "        [ -6,  -7,  -8],\n",
       "        [ -9, -10, -11]]])>"
      ]
     },
     "execution_count": 187,
     "metadata": {},
     "output_type": "execute_result"
    }
   ],
   "source": [
    "tf.concat([a,b],axis=-2)"
   ]
  },
  {
   "cell_type": "markdown",
   "id": "6092ded2-03e8-4050-93f9-419ebd9878b9",
   "metadata": {},
   "source": [
    "- 마찬가지로 위 두 코드는 같은 결과를 나타낸다."
   ]
  },
  {
   "cell_type": "markdown",
   "id": "5fbca64d-647c-4b8a-9d2d-524af7b0e139",
   "metadata": {},
   "source": [
    "`-` $(4,)$와 $(4,)$ concat $(8,)$"
   ]
  },
  {
   "cell_type": "code",
   "execution_count": 188,
   "id": "716fd6ee-be41-4aa9-a431-b173c133c637",
   "metadata": {},
   "outputs": [
    {
     "data": {
      "text/plain": [
       "(<tf.Tensor: shape=(4,), dtype=int32, numpy=array([1, 2, 3, 4])>,\n",
       " <tf.Tensor: shape=(4,), dtype=int32, numpy=array([-1, -2, -3, -4])>)"
      ]
     },
     "execution_count": 188,
     "metadata": {},
     "output_type": "execute_result"
    }
   ],
   "source": [
    "a=tf.constant([1,2,3,4])\n",
    "b=-a\n",
    "a,b"
   ]
  },
  {
   "cell_type": "code",
   "execution_count": 190,
   "id": "6ab48347-ff04-4b40-b95c-f69ea569f30c",
   "metadata": {},
   "outputs": [
    {
     "data": {
      "text/plain": [
       "<tf.Tensor: shape=(8,), dtype=int32, numpy=array([ 1,  2,  3,  4, -1, -2, -3, -4])>"
      ]
     },
     "execution_count": 190,
     "metadata": {},
     "output_type": "execute_result"
    }
   ],
   "source": [
    "tf.concat([a,b],axis=0)"
   ]
  },
  {
   "cell_type": "code",
   "execution_count": 191,
   "id": "2fc066dc-35f1-4c13-af78-2e9e83ab3be1",
   "metadata": {},
   "outputs": [
    {
     "ename": "InvalidArgumentError",
     "evalue": "ConcatOp : Expected concatenating dimensions in the range [-1, 1), but got 1 [Op:ConcatV2] name: concat",
     "output_type": "error",
     "traceback": [
      "\u001b[1;31m---------------------------------------------------------------------------\u001b[0m",
      "\u001b[1;31mInvalidArgumentError\u001b[0m                      Traceback (most recent call last)",
      "Input \u001b[1;32mIn [191]\u001b[0m, in \u001b[0;36m<cell line: 1>\u001b[1;34m()\u001b[0m\n\u001b[1;32m----> 1\u001b[0m \u001b[43mtf\u001b[49m\u001b[38;5;241;43m.\u001b[39;49m\u001b[43mconcat\u001b[49m\u001b[43m(\u001b[49m\u001b[43m[\u001b[49m\u001b[43ma\u001b[49m\u001b[43m,\u001b[49m\u001b[43mb\u001b[49m\u001b[43m]\u001b[49m\u001b[43m,\u001b[49m\u001b[43maxis\u001b[49m\u001b[38;5;241;43m=\u001b[39;49m\u001b[38;5;241;43m1\u001b[39;49m\u001b[43m)\u001b[49m\n",
      "File \u001b[1;32m~\\anaconda3\\envs\\ds2022\\lib\\site-packages\\tensorflow\\python\\util\\traceback_utils.py:153\u001b[0m, in \u001b[0;36mfilter_traceback.<locals>.error_handler\u001b[1;34m(*args, **kwargs)\u001b[0m\n\u001b[0;32m    151\u001b[0m \u001b[38;5;28;01mexcept\u001b[39;00m \u001b[38;5;167;01mException\u001b[39;00m \u001b[38;5;28;01mas\u001b[39;00m e:\n\u001b[0;32m    152\u001b[0m   filtered_tb \u001b[38;5;241m=\u001b[39m _process_traceback_frames(e\u001b[38;5;241m.\u001b[39m__traceback__)\n\u001b[1;32m--> 153\u001b[0m   \u001b[38;5;28;01mraise\u001b[39;00m e\u001b[38;5;241m.\u001b[39mwith_traceback(filtered_tb) \u001b[38;5;28;01mfrom\u001b[39;00m \u001b[38;5;28mNone\u001b[39m\n\u001b[0;32m    154\u001b[0m \u001b[38;5;28;01mfinally\u001b[39;00m:\n\u001b[0;32m    155\u001b[0m   \u001b[38;5;28;01mdel\u001b[39;00m filtered_tb\n",
      "File \u001b[1;32m~\\anaconda3\\envs\\ds2022\\lib\\site-packages\\tensorflow\\python\\framework\\ops.py:7186\u001b[0m, in \u001b[0;36mraise_from_not_ok_status\u001b[1;34m(e, name)\u001b[0m\n\u001b[0;32m   7184\u001b[0m \u001b[38;5;28;01mdef\u001b[39;00m \u001b[38;5;21mraise_from_not_ok_status\u001b[39m(e, name):\n\u001b[0;32m   7185\u001b[0m   e\u001b[38;5;241m.\u001b[39mmessage \u001b[38;5;241m+\u001b[39m\u001b[38;5;241m=\u001b[39m (\u001b[38;5;124m\"\u001b[39m\u001b[38;5;124m name: \u001b[39m\u001b[38;5;124m\"\u001b[39m \u001b[38;5;241m+\u001b[39m name \u001b[38;5;28;01mif\u001b[39;00m name \u001b[38;5;129;01mis\u001b[39;00m \u001b[38;5;129;01mnot\u001b[39;00m \u001b[38;5;28;01mNone\u001b[39;00m \u001b[38;5;28;01melse\u001b[39;00m \u001b[38;5;124m\"\u001b[39m\u001b[38;5;124m\"\u001b[39m)\n\u001b[1;32m-> 7186\u001b[0m   \u001b[38;5;28;01mraise\u001b[39;00m core\u001b[38;5;241m.\u001b[39m_status_to_exception(e) \u001b[38;5;28;01mfrom\u001b[39;00m \u001b[38;5;28mNone\u001b[39m\n",
      "\u001b[1;31mInvalidArgumentError\u001b[0m: ConcatOp : Expected concatenating dimensions in the range [-1, 1), but got 1 [Op:ConcatV2] name: concat"
     ]
    }
   ],
   "source": [
    "tf.concat([a,b],axis=1)"
   ]
  },
  {
   "cell_type": "markdown",
   "id": "f45fa680-816e-4f77-baa2-1799e5b5d603",
   "metadata": {},
   "source": [
    "- axis=0 으로 하면 $2×4$벡터가 만들어져야 하는 거 아닌가?   \n",
    "- 즉, axis=1로 해야 길이가 $8$인 벡터가 만들어지는 거 아닌가?   \n",
    "- 그런데 심지어 axis=1은 오류까지 뜬다?!"
   ]
  },
  {
   "cell_type": "markdown",
   "id": "fcd9d674-d885-49cd-8607-aabec875522c",
   "metadata": {},
   "source": [
    "- 이유: $(4,),(4,),(8,)$은 길이가 각각 4,4,8인 **튜플**(1차원)이기에 애초에 축이 1개만 존재했기 때문이다. 즉 축이 2개가 존재하지 않기에 axis=1은 오류가 나고 축이 하나만 존재(1차원 형태)하기에 axis=0만 가능하다. 따라서 $2×4$ 또는 $4×2$(2차원 형태)는 애초에 불가능하다."
   ]
  },
  {
   "cell_type": "markdown",
   "id": "5099cd2c-b056-4e84-8805-e4f37a768f96",
   "metadata": {},
   "source": [
    "- tf.concat은 dimension(차원)을 변환시킬 수 없다.\n",
    "\n",
    "즉, one dimension $\\to$ 결과 one,    \n",
    "two dimension $\\to$ 결과 two,   \n",
    "three dimension $\\to$ 결과 three\n",
    "\n",
    "dimension(차원)을 변환시키려면 다음과 같이 tf.stack을 사용해야 한다."
   ]
  },
  {
   "cell_type": "markdown",
   "id": "bb9dd2f3-a677-4126-84dd-edbc5271a76b",
   "metadata": {},
   "source": [
    "#### tf.stack"
   ]
  },
  {
   "cell_type": "markdown",
   "id": "63694cce-8d73-48e0-ae05-756d88803035",
   "metadata": {},
   "source": [
    "`-` $(4)$ 벡터와 $(4)$ 벡터를 concat해서 $(4,2)$ 벡터로 만든다\n",
    "- $(4, )$ stack $(4, )$ $\\to$ $(4,2)$ : 두 번째 축을 비어있다고 인식"
   ]
  },
  {
   "cell_type": "code",
   "execution_count": 194,
   "id": "03bf5815-feff-445b-8c08-223eeeaf62ee",
   "metadata": {},
   "outputs": [
    {
     "data": {
      "text/plain": [
       "(<tf.Tensor: shape=(4,), dtype=int32, numpy=array([1, 2, 3, 4])>,\n",
       " <tf.Tensor: shape=(4,), dtype=int32, numpy=array([-1, -2, -3, -4])>)"
      ]
     },
     "execution_count": 194,
     "metadata": {},
     "output_type": "execute_result"
    }
   ],
   "source": [
    "a=tf.stack([1,2,3,4])\n",
    "b=-a\n",
    "a,b"
   ]
  },
  {
   "cell_type": "code",
   "execution_count": 196,
   "id": "0cd10509-5a64-4f21-88ac-09705431e201",
   "metadata": {},
   "outputs": [
    {
     "data": {
      "text/plain": [
       "\u001b[1;31mSignature:\u001b[0m \u001b[0mtf\u001b[0m\u001b[1;33m.\u001b[0m\u001b[0mstack\u001b[0m\u001b[1;33m(\u001b[0m\u001b[0mvalues\u001b[0m\u001b[1;33m,\u001b[0m \u001b[0maxis\u001b[0m\u001b[1;33m=\u001b[0m\u001b[1;36m0\u001b[0m\u001b[1;33m,\u001b[0m \u001b[0mname\u001b[0m\u001b[1;33m=\u001b[0m\u001b[1;34m'stack'\u001b[0m\u001b[1;33m)\u001b[0m\u001b[1;33m\u001b[0m\u001b[1;33m\u001b[0m\u001b[0m\n",
       "\u001b[1;31mDocstring:\u001b[0m\n",
       "Stacks a list of rank-`R` tensors into one rank-`(R+1)` tensor.\n",
       "\n",
       "See also `tf.concat`, `tf.tile`, `tf.repeat`.\n",
       "\n",
       "Packs the list of tensors in `values` into a tensor with rank one higher than\n",
       "each tensor in `values`, by packing them along the `axis` dimension.\n",
       "Given a list of length `N` of tensors of shape `(A, B, C)`;\n",
       "\n",
       "if `axis == 0` then the `output` tensor will have the shape `(N, A, B, C)`.\n",
       "if `axis == 1` then the `output` tensor will have the shape `(A, N, B, C)`.\n",
       "Etc.\n",
       "\n",
       "For example:\n",
       "\n",
       ">>> x = tf.constant([1, 4])\n",
       ">>> y = tf.constant([2, 5])\n",
       ">>> z = tf.constant([3, 6])\n",
       ">>> tf.stack([x, y, z])\n",
       "<tf.Tensor: shape=(3, 2), dtype=int32, numpy=\n",
       "array([[1, 4],\n",
       "       [2, 5],\n",
       "       [3, 6]], dtype=int32)>\n",
       ">>> tf.stack([x, y, z], axis=1)\n",
       "<tf.Tensor: shape=(2, 3), dtype=int32, numpy=\n",
       "array([[1, 2, 3],\n",
       "       [4, 5, 6]], dtype=int32)>\n",
       "\n",
       "This is the opposite of unstack.  The numpy equivalent is `np.stack`\n",
       "\n",
       ">>> np.array_equal(np.stack([x, y, z]), tf.stack([x, y, z]))\n",
       "True\n",
       "\n",
       "Args:\n",
       "  values: A list of `Tensor` objects with the same shape and type.\n",
       "  axis: An `int`. The axis to stack along. Defaults to the first dimension.\n",
       "    Negative values wrap around, so the valid range is `[-(R+1), R+1)`.\n",
       "  name: A name for this operation (optional).\n",
       "\n",
       "Returns:\n",
       "  output: A stacked `Tensor` with the same type as `values`.\n",
       "\n",
       "Raises:\n",
       "  ValueError: If `axis` is out of the range [-(R+1), R+1).\n",
       "\u001b[1;31mFile:\u001b[0m      c:\\users\\kko\\anaconda3\\envs\\ds2022\\lib\\site-packages\\tensorflow\\python\\ops\\array_ops.py\n",
       "\u001b[1;31mType:\u001b[0m      function\n"
      ]
     },
     "metadata": {},
     "output_type": "display_data"
    }
   ],
   "source": [
    "tf.stack?"
   ]
  },
  {
   "cell_type": "markdown",
   "id": "693d55a8-376f-4fbb-81dc-69482e3d85be",
   "metadata": {},
   "source": [
    "- tf.stack()은 default가 `axis=0`이다"
   ]
  },
  {
   "cell_type": "code",
   "execution_count": 195,
   "id": "a83c6489-7404-4692-bc76-c5b75e5522ba",
   "metadata": {},
   "outputs": [
    {
     "data": {
      "text/plain": [
       "<tf.Tensor: shape=(2, 4), dtype=int32, numpy=\n",
       "array([[ 1,  2,  3,  4],\n",
       "       [-1, -2, -3, -4]])>"
      ]
     },
     "execution_count": 195,
     "metadata": {},
     "output_type": "execute_result"
    }
   ],
   "source": [
    "tf.stack([a,b])"
   ]
  },
  {
   "cell_type": "code",
   "execution_count": 199,
   "id": "1a27c388-2ec9-4412-81ac-134ee73f09ed",
   "metadata": {},
   "outputs": [
    {
     "data": {
      "text/plain": [
       "<tf.Tensor: shape=(2, 4), dtype=int32, numpy=\n",
       "array([[ 1,  2,  3,  4],\n",
       "       [-1, -2, -3, -4]])>"
      ]
     },
     "execution_count": 199,
     "metadata": {},
     "output_type": "execute_result"
    }
   ],
   "source": [
    "tf.stack([a,b],axis=0)"
   ]
  },
  {
   "cell_type": "markdown",
   "id": "b35aeb36-ece4-45a3-8301-0f1565b4942c",
   "metadata": {},
   "source": [
    "- 따라서 위 두 코드가 같다"
   ]
  },
  {
   "cell_type": "code",
   "execution_count": 200,
   "id": "2aee6fa8-1524-4e2b-a641-dc9ac2bef45f",
   "metadata": {},
   "outputs": [
    {
     "data": {
      "text/plain": [
       "<tf.Tensor: shape=(4, 2), dtype=int32, numpy=\n",
       "array([[ 1, -1],\n",
       "       [ 2, -2],\n",
       "       [ 3, -3],\n",
       "       [ 4, -4]])>"
      ]
     },
     "execution_count": 200,
     "metadata": {},
     "output_type": "execute_result"
    }
   ],
   "source": [
    "tf.stack([a,b],axis=1)"
   ]
  },
  {
   "cell_type": "markdown",
   "id": "301b0e2b-ba55-4ad4-9127-afa4035060e4",
   "metadata": {},
   "source": [
    "`-` $(4)$ 벡터와 $(4)$ 벡터를 concat해서 $(4,2)$ 벡터로 만든다\n",
    "- $(4, )$ stack $(4, )$ $\\to$ $(4,2)$ : 두 번째 축을 비어있다고 인식"
   ]
  },
  {
   "cell_type": "code",
   "execution_count": 201,
   "id": "e0d415eb-47bf-4307-9da3-3617b472da0e",
   "metadata": {},
   "outputs": [
    {
     "data": {
      "text/plain": [
       "<tf.Tensor: shape=(2, 4), dtype=int32, numpy=\n",
       "array([[ 1,  2,  3,  4],\n",
       "       [-1, -2, -3, -4]])>"
      ]
     },
     "execution_count": 201,
     "metadata": {},
     "output_type": "execute_result"
    }
   ],
   "source": [
    "tf.stack([a,b],axis=0)"
   ]
  },
  {
   "cell_type": "markdown",
   "id": "8ead7547-43f1-47fb-bd84-af068cf969bd",
   "metadata": {},
   "source": [
    "`-` (2,3,4,5) stack (2,3,4,5) $\\to$ (2,2,3,4,5)   \n",
    ": 첫 번째 축이 비어있다고 인식"
   ]
  },
  {
   "cell_type": "code",
   "execution_count": 205,
   "id": "0a2a1e3b-fd87-46ec-8d3d-a6f34b1b9615",
   "metadata": {},
   "outputs": [
    {
     "data": {
      "text/plain": [
       "(<tf.Tensor: shape=(2, 3, 4, 5), dtype=int32, numpy=\n",
       " array([[[[  0,   1,   2,   3,   4],\n",
       "          [  5,   6,   7,   8,   9],\n",
       "          [ 10,  11,  12,  13,  14],\n",
       "          [ 15,  16,  17,  18,  19]],\n",
       " \n",
       "         [[ 20,  21,  22,  23,  24],\n",
       "          [ 25,  26,  27,  28,  29],\n",
       "          [ 30,  31,  32,  33,  34],\n",
       "          [ 35,  36,  37,  38,  39]],\n",
       " \n",
       "         [[ 40,  41,  42,  43,  44],\n",
       "          [ 45,  46,  47,  48,  49],\n",
       "          [ 50,  51,  52,  53,  54],\n",
       "          [ 55,  56,  57,  58,  59]]],\n",
       " \n",
       " \n",
       "        [[[ 60,  61,  62,  63,  64],\n",
       "          [ 65,  66,  67,  68,  69],\n",
       "          [ 70,  71,  72,  73,  74],\n",
       "          [ 75,  76,  77,  78,  79]],\n",
       " \n",
       "         [[ 80,  81,  82,  83,  84],\n",
       "          [ 85,  86,  87,  88,  89],\n",
       "          [ 90,  91,  92,  93,  94],\n",
       "          [ 95,  96,  97,  98,  99]],\n",
       " \n",
       "         [[100, 101, 102, 103, 104],\n",
       "          [105, 106, 107, 108, 109],\n",
       "          [110, 111, 112, 113, 114],\n",
       "          [115, 116, 117, 118, 119]]]])>,\n",
       " <tf.Tensor: shape=(2, 3, 4, 5), dtype=int32, numpy=\n",
       " array([[[[   0,   -1,   -2,   -3,   -4],\n",
       "          [  -5,   -6,   -7,   -8,   -9],\n",
       "          [ -10,  -11,  -12,  -13,  -14],\n",
       "          [ -15,  -16,  -17,  -18,  -19]],\n",
       " \n",
       "         [[ -20,  -21,  -22,  -23,  -24],\n",
       "          [ -25,  -26,  -27,  -28,  -29],\n",
       "          [ -30,  -31,  -32,  -33,  -34],\n",
       "          [ -35,  -36,  -37,  -38,  -39]],\n",
       " \n",
       "         [[ -40,  -41,  -42,  -43,  -44],\n",
       "          [ -45,  -46,  -47,  -48,  -49],\n",
       "          [ -50,  -51,  -52,  -53,  -54],\n",
       "          [ -55,  -56,  -57,  -58,  -59]]],\n",
       " \n",
       " \n",
       "        [[[ -60,  -61,  -62,  -63,  -64],\n",
       "          [ -65,  -66,  -67,  -68,  -69],\n",
       "          [ -70,  -71,  -72,  -73,  -74],\n",
       "          [ -75,  -76,  -77,  -78,  -79]],\n",
       " \n",
       "         [[ -80,  -81,  -82,  -83,  -84],\n",
       "          [ -85,  -86,  -87,  -88,  -89],\n",
       "          [ -90,  -91,  -92,  -93,  -94],\n",
       "          [ -95,  -96,  -97,  -98,  -99]],\n",
       " \n",
       "         [[-100, -101, -102, -103, -104],\n",
       "          [-105, -106, -107, -108, -109],\n",
       "          [-110, -111, -112, -113, -114],\n",
       "          [-115, -116, -117, -118, -119]]]])>)"
      ]
     },
     "execution_count": 205,
     "metadata": {},
     "output_type": "execute_result"
    }
   ],
   "source": [
    "a=tf.reshape(tf.constant(range(2*3*4*5)),(2,3,4,5))\n",
    "b=-a\n",
    "a,b"
   ]
  },
  {
   "cell_type": "code",
   "execution_count": 207,
   "id": "cbc5a49e-206a-45a2-bf09-6ffbbc13c36f",
   "metadata": {},
   "outputs": [
    {
     "data": {
      "text/plain": [
       "<tf.Tensor: shape=(2, 2, 3, 4, 5), dtype=int32, numpy=\n",
       "array([[[[[   0,    1,    2,    3,    4],\n",
       "          [   5,    6,    7,    8,    9],\n",
       "          [  10,   11,   12,   13,   14],\n",
       "          [  15,   16,   17,   18,   19]],\n",
       "\n",
       "         [[  20,   21,   22,   23,   24],\n",
       "          [  25,   26,   27,   28,   29],\n",
       "          [  30,   31,   32,   33,   34],\n",
       "          [  35,   36,   37,   38,   39]],\n",
       "\n",
       "         [[  40,   41,   42,   43,   44],\n",
       "          [  45,   46,   47,   48,   49],\n",
       "          [  50,   51,   52,   53,   54],\n",
       "          [  55,   56,   57,   58,   59]]],\n",
       "\n",
       "\n",
       "        [[[  60,   61,   62,   63,   64],\n",
       "          [  65,   66,   67,   68,   69],\n",
       "          [  70,   71,   72,   73,   74],\n",
       "          [  75,   76,   77,   78,   79]],\n",
       "\n",
       "         [[  80,   81,   82,   83,   84],\n",
       "          [  85,   86,   87,   88,   89],\n",
       "          [  90,   91,   92,   93,   94],\n",
       "          [  95,   96,   97,   98,   99]],\n",
       "\n",
       "         [[ 100,  101,  102,  103,  104],\n",
       "          [ 105,  106,  107,  108,  109],\n",
       "          [ 110,  111,  112,  113,  114],\n",
       "          [ 115,  116,  117,  118,  119]]]],\n",
       "\n",
       "\n",
       "\n",
       "       [[[[   0,   -1,   -2,   -3,   -4],\n",
       "          [  -5,   -6,   -7,   -8,   -9],\n",
       "          [ -10,  -11,  -12,  -13,  -14],\n",
       "          [ -15,  -16,  -17,  -18,  -19]],\n",
       "\n",
       "         [[ -20,  -21,  -22,  -23,  -24],\n",
       "          [ -25,  -26,  -27,  -28,  -29],\n",
       "          [ -30,  -31,  -32,  -33,  -34],\n",
       "          [ -35,  -36,  -37,  -38,  -39]],\n",
       "\n",
       "         [[ -40,  -41,  -42,  -43,  -44],\n",
       "          [ -45,  -46,  -47,  -48,  -49],\n",
       "          [ -50,  -51,  -52,  -53,  -54],\n",
       "          [ -55,  -56,  -57,  -58,  -59]]],\n",
       "\n",
       "\n",
       "        [[[ -60,  -61,  -62,  -63,  -64],\n",
       "          [ -65,  -66,  -67,  -68,  -69],\n",
       "          [ -70,  -71,  -72,  -73,  -74],\n",
       "          [ -75,  -76,  -77,  -78,  -79]],\n",
       "\n",
       "         [[ -80,  -81,  -82,  -83,  -84],\n",
       "          [ -85,  -86,  -87,  -88,  -89],\n",
       "          [ -90,  -91,  -92,  -93,  -94],\n",
       "          [ -95,  -96,  -97,  -98,  -99]],\n",
       "\n",
       "         [[-100, -101, -102, -103, -104],\n",
       "          [-105, -106, -107, -108, -109],\n",
       "          [-110, -111, -112, -113, -114],\n",
       "          [-115, -116, -117, -118, -119]]]]])>"
      ]
     },
     "execution_count": 207,
     "metadata": {},
     "output_type": "execute_result"
    }
   ],
   "source": [
    "tf.stack([a,b],axis=0)"
   ]
  },
  {
   "cell_type": "markdown",
   "id": "18d100af-9369-412f-a378-b1b45732a9cf",
   "metadata": {},
   "source": [
    "`-` (2,3,4,5) stack (2,3,4,5)   \n",
    "- 두 번째 축이 비어있다고 인식\n",
    "- (2,?,3,4,5) stack (2,?,3,4,5) $\\to$ (2,2,3,4,5)"
   ]
  },
  {
   "cell_type": "code",
   "execution_count": 208,
   "id": "cb707781-283d-4e6f-851c-6e7c9802f59c",
   "metadata": {},
   "outputs": [
    {
     "data": {
      "text/plain": [
       "<tf.Tensor: shape=(2, 2, 3, 4, 5), dtype=int32, numpy=\n",
       "array([[[[[   0,    1,    2,    3,    4],\n",
       "          [   5,    6,    7,    8,    9],\n",
       "          [  10,   11,   12,   13,   14],\n",
       "          [  15,   16,   17,   18,   19]],\n",
       "\n",
       "         [[  20,   21,   22,   23,   24],\n",
       "          [  25,   26,   27,   28,   29],\n",
       "          [  30,   31,   32,   33,   34],\n",
       "          [  35,   36,   37,   38,   39]],\n",
       "\n",
       "         [[  40,   41,   42,   43,   44],\n",
       "          [  45,   46,   47,   48,   49],\n",
       "          [  50,   51,   52,   53,   54],\n",
       "          [  55,   56,   57,   58,   59]]],\n",
       "\n",
       "\n",
       "        [[[   0,   -1,   -2,   -3,   -4],\n",
       "          [  -5,   -6,   -7,   -8,   -9],\n",
       "          [ -10,  -11,  -12,  -13,  -14],\n",
       "          [ -15,  -16,  -17,  -18,  -19]],\n",
       "\n",
       "         [[ -20,  -21,  -22,  -23,  -24],\n",
       "          [ -25,  -26,  -27,  -28,  -29],\n",
       "          [ -30,  -31,  -32,  -33,  -34],\n",
       "          [ -35,  -36,  -37,  -38,  -39]],\n",
       "\n",
       "         [[ -40,  -41,  -42,  -43,  -44],\n",
       "          [ -45,  -46,  -47,  -48,  -49],\n",
       "          [ -50,  -51,  -52,  -53,  -54],\n",
       "          [ -55,  -56,  -57,  -58,  -59]]]],\n",
       "\n",
       "\n",
       "\n",
       "       [[[[  60,   61,   62,   63,   64],\n",
       "          [  65,   66,   67,   68,   69],\n",
       "          [  70,   71,   72,   73,   74],\n",
       "          [  75,   76,   77,   78,   79]],\n",
       "\n",
       "         [[  80,   81,   82,   83,   84],\n",
       "          [  85,   86,   87,   88,   89],\n",
       "          [  90,   91,   92,   93,   94],\n",
       "          [  95,   96,   97,   98,   99]],\n",
       "\n",
       "         [[ 100,  101,  102,  103,  104],\n",
       "          [ 105,  106,  107,  108,  109],\n",
       "          [ 110,  111,  112,  113,  114],\n",
       "          [ 115,  116,  117,  118,  119]]],\n",
       "\n",
       "\n",
       "        [[[ -60,  -61,  -62,  -63,  -64],\n",
       "          [ -65,  -66,  -67,  -68,  -69],\n",
       "          [ -70,  -71,  -72,  -73,  -74],\n",
       "          [ -75,  -76,  -77,  -78,  -79]],\n",
       "\n",
       "         [[ -80,  -81,  -82,  -83,  -84],\n",
       "          [ -85,  -86,  -87,  -88,  -89],\n",
       "          [ -90,  -91,  -92,  -93,  -94],\n",
       "          [ -95,  -96,  -97,  -98,  -99]],\n",
       "\n",
       "         [[-100, -101, -102, -103, -104],\n",
       "          [-105, -106, -107, -108, -109],\n",
       "          [-110, -111, -112, -113, -114],\n",
       "          [-115, -116, -117, -118, -119]]]]])>"
      ]
     },
     "execution_count": 208,
     "metadata": {},
     "output_type": "execute_result"
    }
   ],
   "source": [
    "tf.stack([a,b],axis=1)"
   ]
  },
  {
   "cell_type": "markdown",
   "id": "aab9f687-4fc5-4437-8df2-92701553c6e6",
   "metadata": {},
   "source": [
    "`-` (2,3,4,5) stack (2,3,4,5)\n",
    "- 마지막 축이 비어있다고 인식   \n",
    "- (2,3,4,5,?) stack (2,3,4,5,?) $\\to$ (2,3,4,5,2)"
   ]
  },
  {
   "cell_type": "code",
   "execution_count": 209,
   "id": "6f450118-0ca2-45f9-b8af-8907f7f38100",
   "metadata": {},
   "outputs": [
    {
     "data": {
      "text/plain": [
       "<tf.Tensor: shape=(2, 3, 4, 5, 2), dtype=int32, numpy=\n",
       "array([[[[[   0,    0],\n",
       "          [   1,   -1],\n",
       "          [   2,   -2],\n",
       "          [   3,   -3],\n",
       "          [   4,   -4]],\n",
       "\n",
       "         [[   5,   -5],\n",
       "          [   6,   -6],\n",
       "          [   7,   -7],\n",
       "          [   8,   -8],\n",
       "          [   9,   -9]],\n",
       "\n",
       "         [[  10,  -10],\n",
       "          [  11,  -11],\n",
       "          [  12,  -12],\n",
       "          [  13,  -13],\n",
       "          [  14,  -14]],\n",
       "\n",
       "         [[  15,  -15],\n",
       "          [  16,  -16],\n",
       "          [  17,  -17],\n",
       "          [  18,  -18],\n",
       "          [  19,  -19]]],\n",
       "\n",
       "\n",
       "        [[[  20,  -20],\n",
       "          [  21,  -21],\n",
       "          [  22,  -22],\n",
       "          [  23,  -23],\n",
       "          [  24,  -24]],\n",
       "\n",
       "         [[  25,  -25],\n",
       "          [  26,  -26],\n",
       "          [  27,  -27],\n",
       "          [  28,  -28],\n",
       "          [  29,  -29]],\n",
       "\n",
       "         [[  30,  -30],\n",
       "          [  31,  -31],\n",
       "          [  32,  -32],\n",
       "          [  33,  -33],\n",
       "          [  34,  -34]],\n",
       "\n",
       "         [[  35,  -35],\n",
       "          [  36,  -36],\n",
       "          [  37,  -37],\n",
       "          [  38,  -38],\n",
       "          [  39,  -39]]],\n",
       "\n",
       "\n",
       "        [[[  40,  -40],\n",
       "          [  41,  -41],\n",
       "          [  42,  -42],\n",
       "          [  43,  -43],\n",
       "          [  44,  -44]],\n",
       "\n",
       "         [[  45,  -45],\n",
       "          [  46,  -46],\n",
       "          [  47,  -47],\n",
       "          [  48,  -48],\n",
       "          [  49,  -49]],\n",
       "\n",
       "         [[  50,  -50],\n",
       "          [  51,  -51],\n",
       "          [  52,  -52],\n",
       "          [  53,  -53],\n",
       "          [  54,  -54]],\n",
       "\n",
       "         [[  55,  -55],\n",
       "          [  56,  -56],\n",
       "          [  57,  -57],\n",
       "          [  58,  -58],\n",
       "          [  59,  -59]]]],\n",
       "\n",
       "\n",
       "\n",
       "       [[[[  60,  -60],\n",
       "          [  61,  -61],\n",
       "          [  62,  -62],\n",
       "          [  63,  -63],\n",
       "          [  64,  -64]],\n",
       "\n",
       "         [[  65,  -65],\n",
       "          [  66,  -66],\n",
       "          [  67,  -67],\n",
       "          [  68,  -68],\n",
       "          [  69,  -69]],\n",
       "\n",
       "         [[  70,  -70],\n",
       "          [  71,  -71],\n",
       "          [  72,  -72],\n",
       "          [  73,  -73],\n",
       "          [  74,  -74]],\n",
       "\n",
       "         [[  75,  -75],\n",
       "          [  76,  -76],\n",
       "          [  77,  -77],\n",
       "          [  78,  -78],\n",
       "          [  79,  -79]]],\n",
       "\n",
       "\n",
       "        [[[  80,  -80],\n",
       "          [  81,  -81],\n",
       "          [  82,  -82],\n",
       "          [  83,  -83],\n",
       "          [  84,  -84]],\n",
       "\n",
       "         [[  85,  -85],\n",
       "          [  86,  -86],\n",
       "          [  87,  -87],\n",
       "          [  88,  -88],\n",
       "          [  89,  -89]],\n",
       "\n",
       "         [[  90,  -90],\n",
       "          [  91,  -91],\n",
       "          [  92,  -92],\n",
       "          [  93,  -93],\n",
       "          [  94,  -94]],\n",
       "\n",
       "         [[  95,  -95],\n",
       "          [  96,  -96],\n",
       "          [  97,  -97],\n",
       "          [  98,  -98],\n",
       "          [  99,  -99]]],\n",
       "\n",
       "\n",
       "        [[[ 100, -100],\n",
       "          [ 101, -101],\n",
       "          [ 102, -102],\n",
       "          [ 103, -103],\n",
       "          [ 104, -104]],\n",
       "\n",
       "         [[ 105, -105],\n",
       "          [ 106, -106],\n",
       "          [ 107, -107],\n",
       "          [ 108, -108],\n",
       "          [ 109, -109]],\n",
       "\n",
       "         [[ 110, -110],\n",
       "          [ 111, -111],\n",
       "          [ 112, -112],\n",
       "          [ 113, -113],\n",
       "          [ 114, -114]],\n",
       "\n",
       "         [[ 115, -115],\n",
       "          [ 116, -116],\n",
       "          [ 117, -117],\n",
       "          [ 118, -118],\n",
       "          [ 119, -119]]]]])>"
      ]
     },
     "execution_count": 209,
     "metadata": {},
     "output_type": "execute_result"
    }
   ],
   "source": [
    "tf.stack([a,b],axis=-1)"
   ]
  }
 ],
 "metadata": {
  "kernelspec": {
   "display_name": "Python 3 (ipykernel)",
   "language": "python",
   "name": "python3"
  },
  "language_info": {
   "codemirror_mode": {
    "name": "ipython",
    "version": 3
   },
   "file_extension": ".py",
   "mimetype": "text/x-python",
   "name": "python",
   "nbconvert_exporter": "python",
   "pygments_lexer": "ipython3",
   "version": "3.8.12"
  }
 },
 "nbformat": 4,
 "nbformat_minor": 5
}
