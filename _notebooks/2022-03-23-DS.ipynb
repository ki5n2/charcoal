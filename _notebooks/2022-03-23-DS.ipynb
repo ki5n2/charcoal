{
 "cells": [
  {
   "cell_type": "markdown",
   "id": "da9e9a8e-2890-4f50-9460-e72cf24ef1a3",
   "metadata": {},
   "source": [
    "# DS 4. 미분, 경사하강법, grid search\n",
    "\n",
    "> \"작성완료\"\n",
    "\n",
    "- toc:true\n",
    "- branch: master\n",
    "- badges: true\n",
    "- comments: true\n",
    "- [python, Data Science]"
   ]
  },
  {
   "cell_type": "markdown",
   "id": "c6b5137f-294d-4027-943b-d51779bfcd48",
   "metadata": {},
   "source": [
    "---\n",
    "# Data Science\n",
    "- lenture: Data Science_4-1nd week of lectures.\n",
    "- lenture date: 2022-03-23\n",
    "- lecturer: Guebin choi\n",
    "- study date: 2022-03-23\n",
    "- author: Kione kim\n",
    "---"
   ]
  },
  {
   "cell_type": "code",
   "execution_count": 1,
   "id": "b46a3beb-74fb-4323-9d99-f4e393c06925",
   "metadata": {
    "tags": []
   },
   "outputs": [],
   "source": [
    "import tensorflow as tf\n",
    "import numpy as np\n",
    "import matplotlib.pyplot as plt "
   ]
  },
  {
   "cell_type": "code",
   "execution_count": 3,
   "id": "a48d769c-402c-4d77-90cd-70186ff5058e",
   "metadata": {},
   "outputs": [],
   "source": [
    "import tensorflow.experimental.numpy as tnp   # tnp를 사용하면 넘파이에 익숙한 문법을 모두 쓸 수 있음\n",
    "tnp.experimental_enable_numpy_behavior()   # 기존에 생성된 tf.constant 자료형은 넘파이와 유사하게 동작한다. "
   ]
  },
  {
   "cell_type": "markdown",
   "id": "6933a38c-a6d4-4711-867d-f42913cfb990",
   "metadata": {},
   "source": [
    "## 미분"
   ]
  },
  {
   "cell_type": "markdown",
   "id": "f6e6bb76-0246-4062-8fa5-b904348b0157",
   "metadata": {},
   "source": [
    "### tf.GradientTape()"
   ]
  },
  {
   "cell_type": "markdown",
   "id": "cb175cdf-5fbd-4142-b149-33b968260257",
   "metadata": {},
   "source": [
    "#### 카페예제"
   ]
  },
  {
   "cell_type": "markdown",
   "id": "6deef64e-a968-43e2-b763-152eb9f008fc",
   "metadata": {},
   "source": [
    "`-` $x,y$ 선언"
   ]
  },
  {
   "cell_type": "code",
   "execution_count": 5,
   "id": "82201f93-0f03-4e63-84a2-2d93967f43fd",
   "metadata": {},
   "outputs": [
    {
     "data": {
      "text/plain": [
       "<tf.Tensor: shape=(10,), dtype=float64, numpy=array([20.1, 22.2, 22.7, 23.3, 24.4, 25.1, 26.2, 27.3, 28.4, 30.4])>"
      ]
     },
     "execution_count": 5,
     "metadata": {},
     "output_type": "execute_result"
    }
   ],
   "source": [
    "x=tnp.array([20.1,22.2,22.7,23.3,24.4,25.1,26.2,27.3,28.4,30.4])\n",
    "x"
   ]
  },
  {
   "cell_type": "code",
   "execution_count": 7,
   "id": "058e3b9c-6548-461d-974a-3f0a9e6411be",
   "metadata": {},
   "outputs": [
    {
     "data": {
      "text/plain": [
       "<tf.Tensor: shape=(10,), dtype=float64, numpy=\n",
       "array([53.12550628, 59.48221878, 61.86480622, 64.06900254, 63.52340823,\n",
       "       62.85870759, 67.29683042, 69.54750897, 72.283444  , 76.08682149])>"
      ]
     },
     "execution_count": 7,
     "metadata": {},
     "output_type": "execute_result"
    }
   ],
   "source": [
    "tf.random.set_seed(50000)\n",
    "y=10.2+ 2.2*x+ tnp.random.randn(10)\n",
    "y"
   ]
  },
  {
   "cell_type": "markdown",
   "id": "5022de97-d6a2-4db9-97a9-abb8eaee86b3",
   "metadata": {},
   "source": [
    "`-` 임의의 $β_0, β_1$ 값 설정"
   ]
  },
  {
   "cell_type": "code",
   "execution_count": 10,
   "id": "496c8376-4931-4184-9886-bd91db4fda6f",
   "metadata": {},
   "outputs": [],
   "source": [
    "beta0=tf.Variable([9.0])\n",
    "beta1=tf.Variable([2.0])"
   ]
  },
  {
   "cell_type": "markdown",
   "id": "2a73d701-d1f7-4f6b-a6e9-0315bd63f2ff",
   "metadata": {},
   "source": [
    "`-` with문"
   ]
  },
  {
   "cell_type": "code",
   "execution_count": 13,
   "id": "19faf333-6396-49ed-82e1-f8d7ea67331f",
   "metadata": {},
   "outputs": [
    {
     "data": {
      "text/plain": [
       "(<tf.Tensor: shape=(1,), dtype=float32, numpy=array([-119.87651], dtype=float32)>,\n",
       " <tf.Tensor: shape=(1,), dtype=float32, numpy=array([-3008.6094], dtype=float32)>)"
      ]
     },
     "execution_count": 13,
     "metadata": {},
     "output_type": "execute_result"
    }
   ],
   "source": [
    "with tf.GradientTape(persistent=True) as mytape:\n",
    "    loss=sum((y-beta0-beta1*x)**2)\n",
    "mytape.gradient(loss,beta0), mytape.gradient(loss,beta1)"
   ]
  },
  {
   "cell_type": "markdown",
   "id": "428febc0-8396-407a-a88d-dd7ab7c721ee",
   "metadata": {},
   "source": [
    "- loss(잔차제곱합)를 β_0, β_1 각각에 대해 미분하여 대입한 값을 보았더니 0과는 거리가 멀다. 더 나은 직선이 많을 것 같다.\n",
    "\n",
    "- 다른 베타값에 대한 미분값을 살펴보고 싶은데 위의 코드처럼 각각을 적용하는 것은 확장성이 떨어진다.\n",
    "\n",
    "- 매트릭스 미분을 활용해보자!"
   ]
  },
  {
   "cell_type": "markdown",
   "id": "e432df3e-60ef-4355-a4ae-316323461a2d",
   "metadata": {},
   "source": [
    "`-` 매트릭스를 활용한 계산"
   ]
  },
  {
   "cell_type": "markdown",
   "id": "4e5d6b39-c5e9-43d7-9b8c-6a9c94752673",
   "metadata": {},
   "source": [
    "---"
   ]
  },
  {
   "cell_type": "markdown",
   "id": "dedc0017-c523-48ff-8d88-f22cb5402c9b",
   "metadata": {},
   "source": [
    "#### 복습"
   ]
  },
  {
   "cell_type": "markdown",
   "id": "4524ef23-5059-45ca-97f7-7cbbc508b4b2",
   "metadata": {
    "tags": []
   },
   "source": [
    "`-` 모형의 매트릭스화"
   ]
  },
  {
   "cell_type": "markdown",
   "id": "ffa07a65-0d60-4efb-8c91-2e5f0508d74a",
   "metadata": {},
   "source": [
    "`-` 우리의 모형\n",
    "\n",
    "$y_i = \\beta_0 + \\beta_1 x_i + \\epsilon_i, \\quad i=1,2,\\dots,10$ "
   ]
  },
  {
   "cell_type": "markdown",
   "id": "720c58ee-5e89-488c-8632-61d8c72f2b05",
   "metadata": {},
   "source": [
    "이를 풀어서 쓰면\n",
    "    \n",
    "$\\begin{cases}\n",
    "y_1 = \\beta_0 +\\beta_1 x_1 + \\epsilon_1 \\\\ \n",
    "y_2 = \\beta_0 +\\beta_1 x_2 + \\epsilon_2 \\\\ \n",
    "\\dots \\\\ \n",
    "y_{10} = \\beta_0 +\\beta_1 x_{10} + \\epsilon_{10} \n",
    "\\end{cases}$"
   ]
  },
  {
   "cell_type": "markdown",
   "id": "fcb1c35a-9244-4d67-b624-dc4196f7bc4d",
   "metadata": {},
   "source": [
    "아래와 같다.\n",
    "\n",
    "$\\begin{bmatrix} \n",
    "y_1 \\\\ \n",
    "y_2 \\\\ \n",
    "\\dots \\\\\n",
    "y_{10} \n",
    "\\end{bmatrix} \n",
    "= \\begin{bmatrix} \n",
    "1 & x_1 \\\\ \n",
    "1 & x_2 \\\\ \n",
    "\\dots & \\dots \\\\\n",
    "1 & x_{10} \n",
    "\\end{bmatrix}\\begin{bmatrix}\\beta_0 \\\\ \\beta_1 \\end{bmatrix} + \\begin{bmatrix} \n",
    "\\epsilon_1 \\\\ \n",
    "\\epsilon_2 \\\\ \n",
    "\\dots \\\\\n",
    "\\epsilon_{10} \n",
    "\\end{bmatrix} $"
   ]
  },
  {
   "cell_type": "markdown",
   "id": "6b117a86-4bae-4704-ae0f-c1b59d554efa",
   "metadata": {},
   "source": [
    "벡터와 매트릭스 형태로 표현하면\n",
    "\n",
    "${\\bf y} = {\\bf X} {\\boldsymbol \\beta} + \\boldsymbol{\\epsilon}$"
   ]
  },
  {
   "cell_type": "markdown",
   "id": "b0750533-09ab-4e9f-9237-cf4a61110e1c",
   "metadata": {},
   "source": [
    "`-` 손실함수의 매트릭스화"
   ]
  },
  {
   "cell_type": "markdown",
   "id": "57b53b74-082e-40b8-8312-a5170c4c157b",
   "metadata": {},
   "source": [
    "$loss=\\sum_{i=1}^{n}(y_i-\\beta_0-\\beta_1x_i)^2$"
   ]
  },
  {
   "cell_type": "markdown",
   "id": "e4bab307-49e5-4c2c-b75b-820856c2d560",
   "metadata": {},
   "source": [
    "이를 벡터로 표현하면,\n",
    "\n",
    "$loss=({\\bf y}-{\\bf X}{\\boldsymbol \\beta})^\\top({\\bf y}-{\\bf X}{\\boldsymbol \\beta})={\\bf y}^\\top {\\bf y} - {\\bf y}^\\top {\\bf X}{\\boldsymbol\\beta} - {\\boldsymbol\\beta}^\\top {\\bf X}^\\top {\\bf y} + {\\boldsymbol\\beta}^\\top {\\bf X}^\\top {\\bf X} {\\boldsymbol\\beta}$"
   ]
  },
  {
   "cell_type": "markdown",
   "id": "d127ca96-a07b-4458-8a90-5247b2a11d65",
   "metadata": {},
   "source": [
    "`-` 미분하는 과정의 매트릭스화 \n",
    "\n",
    "loss를 최소화하는 ${\\boldsymbol \\beta}$를 구해야하므로 loss를 ${\\boldsymbol \\beta}$로 미분한식을 0이라고 놓고 풀면 된다. "
   ]
  },
  {
   "cell_type": "markdown",
   "id": "ce93fccf-d92c-48f9-ad3b-01bd257ec2d9",
   "metadata": {},
   "source": [
    "$\\frac{\\partial}{\\partial \\boldsymbol{\\beta}} loss = \\frac{\\partial}{\\partial \\boldsymbol{\\beta}} {\\bf y}^\\top {\\bf y} - \\frac{\\partial}{\\partial \\boldsymbol{\\beta}} {\\bf y}^\\top {\\bf X}{\\boldsymbol\\beta} - \\frac{\\partial}{\\partial \\boldsymbol{\\beta}} {\\boldsymbol\\beta}^\\top {\\bf X}^\\top {\\bf y} + \\frac{\\partial}{\\partial \\boldsymbol{\\beta}} {\\boldsymbol\\beta}^\\top {\\bf X}^\\top {\\bf X} {\\boldsymbol\\beta}$ "
   ]
  },
  {
   "cell_type": "markdown",
   "id": "12f4c3f8-8c44-460e-a6ab-c7cd5c817427",
   "metadata": {},
   "source": [
    "$= 0 - {\\bf X}^\\top {\\bf y}- {\\bf X}^\\top {\\bf y} + 2{\\bf X}^\\top {\\bf X}{\\boldsymbol\\beta} $"
   ]
  },
  {
   "cell_type": "markdown",
   "id": "086427e4-bedf-442a-854d-ae2ac1796b94",
   "metadata": {},
   "source": [
    "따라서 $\\frac{\\partial}{\\partial \\boldsymbol{\\beta}}loss=0$을 풀면 아래와 같다. "
   ]
  },
  {
   "cell_type": "markdown",
   "id": "865d0859-5eef-47db-9a68-14ddc163514f",
   "metadata": {},
   "source": [
    "$\\boldsymbol{\\hat\\beta}= ({\\bf X}^\\top {\\bf X})^{-1}{\\bf X}^\\top {\\bf y} $"
   ]
  },
  {
   "cell_type": "markdown",
   "id": "6c195503-2eb0-4ddd-a799-237eadfcc23c",
   "metadata": {},
   "source": [
    "---"
   ]
  },
  {
   "cell_type": "markdown",
   "id": "13a10760-e836-497d-99b1-01f7499f71d9",
   "metadata": {},
   "source": [
    "`-` 매트릭스로 $x,y$ 선언"
   ]
  },
  {
   "cell_type": "code",
   "execution_count": 21,
   "id": "786794d8-3a26-417a-bd53-fa5b482e2410",
   "metadata": {},
   "outputs": [
    {
     "data": {
      "text/plain": [
       "[1, 1, 1, 1, 1, 1, 1, 1, 1, 1, 2, 2, 2, 2, 2, 2, 2, 2, 2, 2]"
      ]
     },
     "execution_count": 21,
     "metadata": {},
     "output_type": "execute_result"
    }
   ],
   "source": [
    "[1]*10 + [2]*10"
   ]
  },
  {
   "cell_type": "code",
   "execution_count": 46,
   "id": "ad138e21-8761-4267-910b-938deed15d96",
   "metadata": {},
   "outputs": [
    {
     "data": {
      "text/plain": [
       "<tf.Tensor: shape=(10, 2), dtype=int32, numpy=\n",
       "array([[1, 2],\n",
       "       [1, 2],\n",
       "       [1, 2],\n",
       "       [1, 2],\n",
       "       [1, 2],\n",
       "       [1, 2],\n",
       "       [1, 2],\n",
       "       [1, 2],\n",
       "       [1, 2],\n",
       "       [1, 2]])>"
      ]
     },
     "execution_count": 46,
     "metadata": {},
     "output_type": "execute_result"
    }
   ],
   "source": [
    "tnp.array([1]*10 + [2]*10).reshape(2,10).T"
   ]
  },
  {
   "cell_type": "code",
   "execution_count": 59,
   "id": "51fb98e7-6a8c-4240-86b9-aca70c77ef44",
   "metadata": {},
   "outputs": [
    {
     "data": {
      "text/plain": [
       "<tf.Tensor: shape=(10, 2), dtype=float64, numpy=\n",
       "array([[ 1. , 20.1],\n",
       "       [ 1. , 22.2],\n",
       "       [ 1. , 22.7],\n",
       "       [ 1. , 23.3],\n",
       "       [ 1. , 24.4],\n",
       "       [ 1. , 25.1],\n",
       "       [ 1. , 26.2],\n",
       "       [ 1. , 27.3],\n",
       "       [ 1. , 28.4],\n",
       "       [ 1. , 30.4]])>"
      ]
     },
     "execution_count": 59,
     "metadata": {},
     "output_type": "execute_result"
    }
   ],
   "source": [
    "x=tnp.array([1]*10 + [20.1,22.2,22.7,23.3,24.4,25.1,26.2,27.3,28.4,30.4]).reshape(2,10).T\n",
    "x"
   ]
  },
  {
   "cell_type": "code",
   "execution_count": 71,
   "id": "a9486e15-7b7f-4e43-9686-119cd1073332",
   "metadata": {},
   "outputs": [
    {
     "data": {
      "text/plain": [
       "<tf.Tensor: shape=(1, 2), dtype=float64, numpy=array([[10.2,  2.2]])>"
      ]
     },
     "execution_count": 71,
     "metadata": {},
     "output_type": "execute_result"
    }
   ],
   "source": [
    "beta_true= tnp.array([[10.2,2.2]])\n",
    "beta_true"
   ]
  },
  {
   "cell_type": "code",
   "execution_count": 72,
   "id": "10ac6dfa-4646-47e1-bda7-31f4e40c6915",
   "metadata": {},
   "outputs": [
    {
     "ename": "ValueError",
     "evalue": "Matrix size-incompatible: In[0]: [10,2], In[1]: [1,2] [Op:MatMul]",
     "output_type": "error",
     "traceback": [
      "\u001b[1;31m---------------------------------------------------------------------------\u001b[0m",
      "\u001b[1;31mValueError\u001b[0m                                Traceback (most recent call last)",
      "Input \u001b[1;32mIn [72]\u001b[0m, in \u001b[0;36m<cell line: 1>\u001b[1;34m()\u001b[0m\n\u001b[1;32m----> 1\u001b[0m \u001b[43mx\u001b[49m\u001b[38;5;129;43m@beta_true\u001b[39;49m\n",
      "File \u001b[1;32m~\\anaconda3\\envs\\ds2022\\lib\\site-packages\\tensorflow\\python\\util\\traceback_utils.py:153\u001b[0m, in \u001b[0;36mfilter_traceback.<locals>.error_handler\u001b[1;34m(*args, **kwargs)\u001b[0m\n\u001b[0;32m    151\u001b[0m \u001b[38;5;28;01mexcept\u001b[39;00m \u001b[38;5;167;01mException\u001b[39;00m \u001b[38;5;28;01mas\u001b[39;00m e:\n\u001b[0;32m    152\u001b[0m   filtered_tb \u001b[38;5;241m=\u001b[39m _process_traceback_frames(e\u001b[38;5;241m.\u001b[39m__traceback__)\n\u001b[1;32m--> 153\u001b[0m   \u001b[38;5;28;01mraise\u001b[39;00m e\u001b[38;5;241m.\u001b[39mwith_traceback(filtered_tb) \u001b[38;5;28;01mfrom\u001b[39;00m \u001b[38;5;28mNone\u001b[39m\n\u001b[0;32m    154\u001b[0m \u001b[38;5;28;01mfinally\u001b[39;00m:\n\u001b[0;32m    155\u001b[0m   \u001b[38;5;28;01mdel\u001b[39;00m filtered_tb\n",
      "File \u001b[1;32m~\\anaconda3\\envs\\ds2022\\lib\\site-packages\\six.py:718\u001b[0m, in \u001b[0;36mreraise\u001b[1;34m(tp, value, tb)\u001b[0m\n\u001b[0;32m    716\u001b[0m         value \u001b[38;5;241m=\u001b[39m tp()\n\u001b[0;32m    717\u001b[0m     \u001b[38;5;28;01mif\u001b[39;00m value\u001b[38;5;241m.\u001b[39m__traceback__ \u001b[38;5;129;01mis\u001b[39;00m \u001b[38;5;129;01mnot\u001b[39;00m tb:\n\u001b[1;32m--> 718\u001b[0m         \u001b[38;5;28;01mraise\u001b[39;00m value\u001b[38;5;241m.\u001b[39mwith_traceback(tb)\n\u001b[0;32m    719\u001b[0m     \u001b[38;5;28;01mraise\u001b[39;00m value\n\u001b[0;32m    720\u001b[0m \u001b[38;5;28;01mfinally\u001b[39;00m:\n",
      "\u001b[1;31mValueError\u001b[0m: Matrix size-incompatible: In[0]: [10,2], In[1]: [1,2] [Op:MatMul]"
     ]
    }
   ],
   "source": [
    "x@beta_true"
   ]
  },
  {
   "cell_type": "markdown",
   "id": "29ef67d2-76b2-425c-acfe-5c71e0b7349e",
   "metadata": {},
   "source": [
    "- 메트릭스 선언을 잘못하면 오류가 남..! 잘못된 계산"
   ]
  },
  {
   "cell_type": "code",
   "execution_count": 73,
   "id": "30ed413a-c86a-4399-9571-2cb191d4c240",
   "metadata": {},
   "outputs": [
    {
     "data": {
      "text/plain": [
       "<tf.Tensor: shape=(2, 1), dtype=float64, numpy=\n",
       "array([[10.2],\n",
       "       [ 2.2]])>"
      ]
     },
     "execution_count": 73,
     "metadata": {},
     "output_type": "execute_result"
    }
   ],
   "source": [
    "beta_true= tnp.array([[10.2],[2.2]])\n",
    "beta_true"
   ]
  },
  {
   "cell_type": "markdown",
   "id": "d6424e33-1b37-4234-bc1c-89b60fb35b0b",
   "metadata": {},
   "source": [
    "- matrix 선언이 중요함,,"
   ]
  },
  {
   "cell_type": "code",
   "execution_count": 75,
   "id": "a3008ad1-c674-4f95-a3f2-732fd6f3ac32",
   "metadata": {},
   "outputs": [
    {
     "data": {
      "text/plain": [
       "<tf.Tensor: shape=(10, 1), dtype=float64, numpy=\n",
       "array([[54.42],\n",
       "       [59.04],\n",
       "       [60.14],\n",
       "       [61.46],\n",
       "       [63.88],\n",
       "       [65.42],\n",
       "       [67.84],\n",
       "       [70.26],\n",
       "       [72.68],\n",
       "       [77.08]])>"
      ]
     },
     "execution_count": 75,
     "metadata": {},
     "output_type": "execute_result"
    }
   ],
   "source": [
    "x@beta_true"
   ]
  },
  {
   "cell_type": "code",
   "execution_count": 78,
   "id": "7890fa6d-36eb-4ab9-9efb-ac4cadad9f45",
   "metadata": {},
   "outputs": [
    {
     "data": {
      "text/plain": [
       "<tf.Tensor: shape=(10, 1), dtype=float64, numpy=\n",
       "array([[53.12550628],\n",
       "       [59.48221878],\n",
       "       [61.86480622],\n",
       "       [64.06900254],\n",
       "       [63.52340823],\n",
       "       [62.85870759],\n",
       "       [67.29683042],\n",
       "       [69.54750897],\n",
       "       [72.283444  ],\n",
       "       [76.08682149]])>"
      ]
     },
     "execution_count": 78,
     "metadata": {},
     "output_type": "execute_result"
    }
   ],
   "source": [
    "tnp.random.seed(50000)\n",
    "y=x@beta_true + tnp.random.randn(10).reshape(10,1)\n",
    "y"
   ]
  },
  {
   "cell_type": "markdown",
   "id": "2b6ff601-bc55-4b2d-b6b8-d5a7c8cb45be",
   "metadata": {},
   "source": [
    "`-` 미분하고 싶은 $β$값 정의"
   ]
  },
  {
   "cell_type": "code",
   "execution_count": 81,
   "id": "f51c7959-0c47-40ee-80e3-52cda409a5f9",
   "metadata": {},
   "outputs": [
    {
     "data": {
      "text/plain": [
       "<tf.Tensor: shape=(2, 1), dtype=float64, numpy=\n",
       "array([[9.],\n",
       "       [2.]])>"
      ]
     },
     "execution_count": 81,
     "metadata": {},
     "output_type": "execute_result"
    }
   ],
   "source": [
    "beta= tnp.array([[9.0],[2.0]])\n",
    "beta"
   ]
  },
  {
   "cell_type": "markdown",
   "id": "2633ccd7-6a35-4f22-8ade-694ff7bc1a61",
   "metadata": {},
   "source": [
    "`-` with문"
   ]
  },
  {
   "cell_type": "code",
   "execution_count": 82,
   "id": "409926c5-dcba-485c-af6c-f212f300ed58",
   "metadata": {},
   "outputs": [],
   "source": [
    "with tf.GradientTape() as mytape:\n",
    "    loss=(y-x@beta).T @ (y-x@beta)"
   ]
  },
  {
   "cell_type": "code",
   "execution_count": 83,
   "id": "c759b206-b236-462a-bbb3-850bbe1d1ca0",
   "metadata": {},
   "outputs": [],
   "source": [
    "mytape.gradient(loss,beta)"
   ]
  },
  {
   "cell_type": "markdown",
   "id": "1511d6fb-6f5a-4066-a5af-b0e1fe2e75b4",
   "metadata": {},
   "source": [
    "- β가 tf.constant로 정의되었기 때문에 계산결과 Nan이 되었다. "
   ]
  },
  {
   "cell_type": "code",
   "execution_count": 84,
   "id": "37b67db7-ab64-41c8-b94e-d142b6c19bb5",
   "metadata": {},
   "outputs": [],
   "source": [
    "with tf.GradientTape() as mytape:\n",
    "    mytape.watch(beta)\n",
    "    loss=(y-x@beta).T @ (y-x@beta)"
   ]
  },
  {
   "cell_type": "code",
   "execution_count": 85,
   "id": "e038d7a8-cf2e-415d-b3c5-3eadbd3f6ddf",
   "metadata": {},
   "outputs": [
    {
     "data": {
      "text/plain": [
       "<tf.Tensor: shape=(2, 1), dtype=float64, numpy=\n",
       "array([[ -119.87650904],\n",
       "       [-3008.60929929]])>"
      ]
     },
     "execution_count": 85,
     "metadata": {},
     "output_type": "execute_result"
    }
   ],
   "source": [
    "mytape.gradient(loss,beta)"
   ]
  },
  {
   "cell_type": "markdown",
   "id": "0497c7b6-3f9b-4279-b0f7-dce69b8f96ff",
   "metadata": {},
   "source": [
    "- 앞서 직접 구한 값과 동일하게 나왔다"
   ]
  },
  {
   "cell_type": "markdown",
   "id": "f1a03c30-d4f9-42a0-ba0a-f8bf803e853e",
   "metadata": {},
   "source": [
    "`-` 다음과 같이 변환하여 보다 직관적으로 표현할 수 있다."
   ]
  },
  {
   "cell_type": "code",
   "execution_count": 95,
   "id": "f9d17628-b246-437a-86f6-c3821bd36a1c",
   "metadata": {},
   "outputs": [],
   "source": [
    "beta= tnp.array([[9.0],[2.0]])\n",
    "\n",
    "with tf.GradientTape(persistent=True) as mytape:\n",
    "    mytape.watch(beta)\n",
    "    yhat=x@beta # yhat- 추정치\n",
    "    loss=(y-yhat).T @ (y-yhat)"
   ]
  },
  {
   "cell_type": "code",
   "execution_count": 96,
   "id": "a07e7c04-a3ea-4528-a83d-dd756daf2151",
   "metadata": {},
   "outputs": [
    {
     "data": {
      "text/plain": [
       "<tf.Tensor: shape=(2, 1), dtype=float64, numpy=\n",
       "array([[ -119.87650904],\n",
       "       [-3008.60929929]])>"
      ]
     },
     "execution_count": 96,
     "metadata": {},
     "output_type": "execute_result"
    }
   ],
   "source": [
    "mytape.gradient(loss,beta)"
   ]
  },
  {
   "cell_type": "markdown",
   "id": "ea276457-c057-4739-971c-2678c4cec866",
   "metadata": {},
   "source": [
    "``` python\n",
    "with tf.GradientTape() as mytape:\n",
    "    mytape.watch(beta)\n",
    "    yhat=x@beta # yhat- 추정치\n",
    "    loss=(y-yhat).T @ (y-yhat)\n",
    "    ...\n",
    "    ...\n",
    "    ...\n",
    "    등등\n",
    "    \n",
    ": 계속해서 선형변환, 비선형변환 등등을 추가하여 계산할 수 있어 매우 편리하다고 한다...\n",
    "```"
   ]
  },
  {
   "cell_type": "markdown",
   "id": "ab5e615c-ed2a-4d02-944c-15f81b71c717",
   "metadata": {},
   "source": [
    "`-` 이론적 풀이\n",
    "\n",
    "$loss'(\\beta)= - {2\\bf X}' {\\bf y} + 2{\\bf X}' {\\bf X}{\\boldsymbol\\beta} $"
   ]
  },
  {
   "cell_type": "code",
   "execution_count": 99,
   "id": "ce4eac02-353f-4401-9dac-7a4f53efa9a0",
   "metadata": {},
   "outputs": [
    {
     "data": {
      "text/plain": [
       "<tf.Tensor: shape=(2, 1), dtype=float64, numpy=\n",
       "array([[ -119.87650904],\n",
       "       [-3008.60929929]])>"
      ]
     },
     "execution_count": 99,
     "metadata": {},
     "output_type": "execute_result"
    }
   ],
   "source": [
    "-2 * x.T @ y + 2 * x.T @ x @ beta"
   ]
  },
  {
   "cell_type": "markdown",
   "id": "c49d7b17-0018-474d-9a32-adfca74810fc",
   "metadata": {},
   "source": [
    "`-` 이론적인 $β$의 최적값을 찾아보고 (즉 $\\hat\\beta$을 찾고) 그 지점에서 loss의 미분값(=접선의 기울기)을 구하라. 결과가 0인지 확인하라. 단 0은 길이가 2이고 각 원소가 0인 벡터이다."
   ]
  },
  {
   "cell_type": "markdown",
   "id": "3a42c566-46c2-4245-bd9d-087e908c49e5",
   "metadata": {},
   "source": [
    "$\\boldsymbol{\\hat\\beta}= ({\\bf X}^\\top {\\bf X})^{-1}{\\bf X}^\\top {\\bf y} $"
   ]
  },
  {
   "cell_type": "code",
   "execution_count": 103,
   "id": "e9dcef37-e7bb-4f46-9d91-0604e7767d03",
   "metadata": {},
   "outputs": [
    {
     "data": {
      "text/plain": [
       "<tf.Tensor: shape=(2, 1), dtype=float64, numpy=\n",
       "array([[13.49949892],\n",
       "       [ 2.05974916]])>"
      ]
     },
     "execution_count": 103,
     "metadata": {},
     "output_type": "execute_result"
    }
   ],
   "source": [
    "bhat = tf.linalg.inv(x.T @ x) @ x.T @ y # tf.linalg.inv()는 역행렬 구하는 기능\n",
    "bhat"
   ]
  },
  {
   "cell_type": "markdown",
   "id": "36387c85-546b-4ce8-8e9d-803a40e28fea",
   "metadata": {},
   "source": [
    "- 앞서 구한 것보다 매우 근접한 값이 나왔다."
   ]
  },
  {
   "cell_type": "code",
   "execution_count": 104,
   "id": "77087a53-fab2-464d-90e3-9c2a8b5244af",
   "metadata": {},
   "outputs": [],
   "source": [
    "with tf.GradientTape(persistent=True) as mytape:\n",
    "    mytape.watch(bhat)\n",
    "    yhat= x@bhat\n",
    "    loss= (y-yhat).T @ (y-yhat) "
   ]
  },
  {
   "cell_type": "code",
   "execution_count": 105,
   "id": "cea56cd2-98ab-484d-8a65-4c1fc630d63d",
   "metadata": {},
   "outputs": [
    {
     "data": {
      "text/plain": [
       "<tf.Tensor: shape=(2, 1), dtype=float64, numpy=\n",
       "array([[-1.87583282e-12],\n",
       "       [-4.64863703e-11]])>"
      ]
     },
     "execution_count": 105,
     "metadata": {},
     "output_type": "execute_result"
    }
   ],
   "source": [
    "mytape.gradient(loss,bhat)"
   ]
  },
  {
   "cell_type": "markdown",
   "id": "d6b25751-d48c-4f0a-b6ae-81d6e8ec16bd",
   "metadata": {},
   "source": [
    "- bhat에서 접선의 기울기는 0과 매우 가까운 값이 계산되었다."
   ]
  },
  {
   "cell_type": "markdown",
   "id": "e5be414d-9c0d-4d1c-ab86-d234546349a8",
   "metadata": {},
   "source": [
    "## 경사하강법"
   ]
  },
  {
   "cell_type": "markdown",
   "id": "6630adcf-48c6-430b-9527-c85feb8628a3",
   "metadata": {},
   "source": [
    "### 최적화문제"
   ]
  },
  {
   "cell_type": "markdown",
   "id": "4e07382f-67f6-4771-ac31-261d5d419540",
   "metadata": {},
   "source": [
    "`-` $loss= (\\frac{1}{2}\\beta -1)^2$를 최소로 하는 $\\beta$를 컴퓨터를 통해 구하는 문제를 생각해보자. (답은 당연히 $\\beta=2$)"
   ]
  },
  {
   "cell_type": "markdown",
   "id": "afed00a5-ac0b-4603-95c2-b3825e1b6c02",
   "metadata": {},
   "source": [
    "#### 방법 1: grid search"
   ]
  },
  {
   "cell_type": "markdown",
   "id": "3fba3eba-ee69-44e4-ab79-616bfe2a495c",
   "metadata": {},
   "source": [
    "``` python\n",
    "알고리즘:\n",
    "    step1: beta를 적당한 범위 내 값들로 설정한다.\n",
    "    step2: 각각의 범위 내 값들에 대한 loss를 계산한다.\n",
    "    step3: loss값들 중 가장 작은 beta 값을 찾는다.        \n",
    "```"
   ]
  },
  {
   "cell_type": "code",
   "execution_count": 110,
   "id": "340402dc-df2d-44c2-a19d-59ae7f8bbcca",
   "metadata": {},
   "outputs": [],
   "source": [
    "beta= tnp.linspace(-10,10,100)\n",
    "loss= (beta/2 -1)**2"
   ]
  },
  {
   "cell_type": "code",
   "execution_count": 111,
   "id": "625b67a9-daac-490a-b7f3-be21b6d7774d",
   "metadata": {},
   "outputs": [
    {
     "data": {
      "text/plain": [
       "<tf.Tensor: shape=(100,), dtype=float64, numpy=\n",
       "array([3.60000000e+01, 3.47980818e+01, 3.36165697e+01, 3.24554637e+01,\n",
       "       3.13147638e+01, 3.01944700e+01, 2.90945822e+01, 2.80151005e+01,\n",
       "       2.69560249e+01, 2.59173554e+01, 2.48990919e+01, 2.39012346e+01,\n",
       "       2.29237833e+01, 2.19667381e+01, 2.10300990e+01, 2.01138659e+01,\n",
       "       1.92180390e+01, 1.83426181e+01, 1.74876033e+01, 1.66529946e+01,\n",
       "       1.58387920e+01, 1.50449954e+01, 1.42716049e+01, 1.35186205e+01,\n",
       "       1.27860422e+01, 1.20738700e+01, 1.13821039e+01, 1.07107438e+01,\n",
       "       1.00597898e+01, 9.42924191e+00, 8.81910009e+00, 8.22936435e+00,\n",
       "       7.66003469e+00, 7.11111111e+00, 6.58259361e+00, 6.07448220e+00,\n",
       "       5.58677686e+00, 5.11947760e+00, 4.67258443e+00, 4.24609734e+00,\n",
       "       3.84001632e+00, 3.45434139e+00, 3.08907254e+00, 2.74420977e+00,\n",
       "       2.41975309e+00, 2.11570248e+00, 1.83205795e+00, 1.56881951e+00,\n",
       "       1.32598714e+00, 1.10356086e+00, 9.01540659e-01, 7.19926538e-01,\n",
       "       5.58718498e-01, 4.17916539e-01, 2.97520661e-01, 1.97530864e-01,\n",
       "       1.17947148e-01, 5.87695133e-02, 1.99979594e-02, 1.63248648e-03,\n",
       "       3.67309458e-03, 2.61197837e-02, 6.89725538e-02, 1.32231405e-01,\n",
       "       2.15896337e-01, 3.19967350e-01, 4.44444444e-01, 5.89327620e-01,\n",
       "       7.54616876e-01, 9.40312213e-01, 1.14641363e+00, 1.37292113e+00,\n",
       "       1.61983471e+00, 1.88715437e+00, 2.17488011e+00, 2.48301194e+00,\n",
       "       2.81154984e+00, 3.16049383e+00, 3.52984389e+00, 3.91960004e+00,\n",
       "       4.32976227e+00, 4.76033058e+00, 5.21130497e+00, 5.68268544e+00,\n",
       "       6.17447199e+00, 6.68666463e+00, 7.21926334e+00, 7.77226814e+00,\n",
       "       8.34567901e+00, 8.93949597e+00, 9.55371901e+00, 1.01883481e+01,\n",
       "       1.08433833e+01, 1.15188246e+01, 1.22146720e+01, 1.29309254e+01,\n",
       "       1.36675849e+01, 1.44246505e+01, 1.52021222e+01, 1.60000000e+01])>"
      ]
     },
     "execution_count": 111,
     "metadata": {},
     "output_type": "execute_result"
    }
   ],
   "source": [
    "loss"
   ]
  },
  {
   "cell_type": "markdown",
   "id": "421b6fe6-d0f5-4fa9-810d-30af5c5cfef7",
   "metadata": {},
   "source": [
    "---"
   ]
  },
  {
   "cell_type": "markdown",
   "id": "7bcfad9e-71b8-4f70-86e5-81fbddff7e88",
   "metadata": {},
   "source": [
    "`-` 가장 작은 값을 찾는 함수 `tf.argmin()`이용"
   ]
  },
  {
   "cell_type": "code",
   "execution_count": 115,
   "id": "bb6cc962-32d3-465c-952d-247f11800ca2",
   "metadata": {},
   "outputs": [
    {
     "data": {
      "text/plain": [
       "<tf.Tensor: shape=(), dtype=int64, numpy=3>"
      ]
     },
     "execution_count": 115,
     "metadata": {},
     "output_type": "execute_result"
    }
   ],
   "source": [
    "tf.argmin([1,-1,2,-2])"
   ]
  },
  {
   "cell_type": "markdown",
   "id": "b3e16833-c715-4b1b-a247-ea049e01551d",
   "metadata": {},
   "source": [
    "- 가장 작은 값이 있는 인덱스를 출력해준다"
   ]
  },
  {
   "cell_type": "markdown",
   "id": "4cc6a4b1-7030-4933-b68f-3e3fbd7ad469",
   "metadata": {},
   "source": [
    "---"
   ]
  },
  {
   "cell_type": "code",
   "execution_count": 112,
   "id": "47638fba-b7c4-43e3-9dc9-aa8b5d76cf4e",
   "metadata": {},
   "outputs": [
    {
     "data": {
      "text/plain": [
       "<tf.Tensor: shape=(), dtype=int64, numpy=59>"
      ]
     },
     "execution_count": 112,
     "metadata": {},
     "output_type": "execute_result"
    }
   ],
   "source": [
    "tf.argmin(loss)"
   ]
  },
  {
   "cell_type": "code",
   "execution_count": 114,
   "id": "891db193-b257-4f53-8fe8-1d290ed93142",
   "metadata": {},
   "outputs": [
    {
     "data": {
      "text/plain": [
       "<tf.Tensor: shape=(), dtype=float64, numpy=1.9191919191919187>"
      ]
     },
     "execution_count": 114,
     "metadata": {},
     "output_type": "execute_result"
    }
   ],
   "source": [
    "beta[tf.argmin(loss)]"
   ]
  },
  {
   "cell_type": "code",
   "execution_count": 117,
   "id": "6ff7716a-f532-4011-8e49-53bfeb68ff02",
   "metadata": {},
   "outputs": [
    {
     "data": {
      "text/plain": [
       "<tf.Tensor: shape=(), dtype=float64, numpy=1.9191919191919187>"
      ]
     },
     "execution_count": 117,
     "metadata": {},
     "output_type": "execute_result"
    }
   ],
   "source": [
    "beta[59]"
   ]
  },
  {
   "cell_type": "markdown",
   "id": "3c8e5e0c-aae1-474f-9257-17605767919c",
   "metadata": {},
   "source": [
    "- 이론적 값인 2와 근접한 값이 나왔음"
   ]
  },
  {
   "cell_type": "code",
   "execution_count": 118,
   "id": "524a375b-61f8-4d59-867d-8284075ec785",
   "metadata": {},
   "outputs": [
    {
     "data": {
      "text/plain": [
       "<tf.Tensor: shape=(), dtype=float64, numpy=2.121212121212121>"
      ]
     },
     "execution_count": 118,
     "metadata": {},
     "output_type": "execute_result"
    }
   ],
   "source": [
    "beta[60]"
   ]
  },
  {
   "cell_type": "code",
   "execution_count": 119,
   "id": "9c8f8f1d-f260-4162-8812-87d315a37ae7",
   "metadata": {},
   "outputs": [
    {
     "data": {
      "text/plain": [
       "<tf.Tensor: shape=(), dtype=float64, numpy=1.7171717171717162>"
      ]
     },
     "execution_count": 119,
     "metadata": {},
     "output_type": "execute_result"
    }
   ],
   "source": [
    "beta[58]"
   ]
  },
  {
   "cell_type": "code",
   "execution_count": 122,
   "id": "528eea36-9eae-453a-b2d2-823161a7eaf9",
   "metadata": {},
   "outputs": [
    {
     "data": {
      "text/plain": [
       "(<tf.Tensor: shape=(), dtype=float64, numpy=0.0016324864809713505>,\n",
       " <tf.Tensor: shape=(), dtype=float64, numpy=0.0036730945821854847>,\n",
       " <tf.Tensor: shape=(), dtype=float64, numpy=0.01999795939189892>)"
      ]
     },
     "execution_count": 122,
     "metadata": {},
     "output_type": "execute_result"
    }
   ],
   "source": [
    "loss[59], loss[60], loss[58]"
   ]
  },
  {
   "cell_type": "markdown",
   "id": "5e842e0f-1f1a-4c51-95d6-5c6490b8a166",
   "metadata": {},
   "source": [
    "- 앞 뒤로 한 개씩 차이나는 인덱스에 대한 loss값을 계산한 결과를 보니, 59번째 인덱스의 loss가 가장 작은 것을 알 수 있다."
   ]
  },
  {
   "cell_type": "markdown",
   "id": "9a6b9421-b2ed-47e5-8f6b-19a18c027088",
   "metadata": {
    "tags": []
   },
   "source": [
    "##### 그리드서치의 문제점"
   ]
  },
  {
   "cell_type": "markdown",
   "id": "075a3883-ad77-4f30-8501-9b02ca445baa",
   "metadata": {},
   "source": [
    "`-` 문제1: local minimum\n",
    "\n",
    "- 지정한 범위 외에서 더 작은 loss값이 나올 수 있음. 즉, 지정한 범위 내에 global minimum이 존재한다는 보장이 없음"
   ]
  },
  {
   "cell_type": "markdown",
   "id": "d1d0c7d9-7171-4c42-ae84-7ca024fa5819",
   "metadata": {},
   "source": [
    "`-` 문제2: 효율적이지 않음\n",
    "\n",
    "- 모든 loss를 찾는 건 비효율적일 수 있음. 초반 또는 중간에 $loss=0$인 값을 찾았음에도 계산을 멈추지 않고 (더 이상 탐색할 필요가 없음에도) 끝까지 계산함"
   ]
  },
  {
   "cell_type": "markdown",
   "id": "364511fd-a774-4545-b0f2-1a0af846615c",
   "metadata": {},
   "source": [
    "#### 추가학습"
   ]
  },
  {
   "cell_type": "markdown",
   "id": "7be428e6-bc76-42e6-ba15-e6beaf04dfbd",
   "metadata": {},
   "source": [
    "`-` 그리드서치를 이용하여 $(x-1)^2$을 최소화하는 $x$값을 구하여라. "
   ]
  },
  {
   "cell_type": "code",
   "execution_count": 139,
   "id": "58e48548-cbc1-4f45-ae76-3eb774af89e0",
   "metadata": {},
   "outputs": [],
   "source": [
    "beta= tnp.linspace(-5,5,1000)\n",
    "loss= (beta-1)**2"
   ]
  },
  {
   "cell_type": "code",
   "execution_count": 140,
   "id": "ea8c4359-ba90-4e69-8013-862deba13e95",
   "metadata": {},
   "outputs": [
    {
     "data": {
      "text/plain": [
       "<tf.Tensor: shape=(), dtype=int64, numpy=599>"
      ]
     },
     "execution_count": 140,
     "metadata": {},
     "output_type": "execute_result"
    }
   ],
   "source": [
    "tf.argmin(loss)"
   ]
  },
  {
   "cell_type": "code",
   "execution_count": 143,
   "id": "64c6bbe8-6522-422a-a287-250bd7701ccc",
   "metadata": {},
   "outputs": [
    {
     "data": {
      "text/plain": [
       "<tf.Tensor: shape=(), dtype=float64, numpy=0.9959959959959956>"
      ]
     },
     "execution_count": 143,
     "metadata": {},
     "output_type": "execute_result"
    }
   ],
   "source": [
    "beta[599]"
   ]
  },
  {
   "cell_type": "markdown",
   "id": "828f8ef3-047e-424f-9ec3-42bd744c9e35",
   "metadata": {},
   "source": [
    "- 이론적인 값인 1과 근접한 값이 나왔다"
   ]
  }
 ],
 "metadata": {
  "kernelspec": {
   "display_name": "Python 3 (ipykernel)",
   "language": "python",
   "name": "python3"
  },
  "language_info": {
   "codemirror_mode": {
    "name": "ipython",
    "version": 3
   },
   "file_extension": ".py",
   "mimetype": "text/x-python",
   "name": "python",
   "nbconvert_exporter": "python",
   "pygments_lexer": "ipython3",
   "version": "3.8.12"
  }
 },
 "nbformat": 4,
 "nbformat_minor": 5
}
